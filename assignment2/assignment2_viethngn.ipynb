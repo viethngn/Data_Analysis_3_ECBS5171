{
 "cells": [
  {
   "cell_type": "code",
   "execution_count": 1,
   "id": "initial_id",
   "metadata": {
    "collapsed": true,
    "ExecuteTime": {
     "end_time": "2024-02-01T15:09:43.841671Z",
     "start_time": "2024-02-01T15:09:43.576501Z"
    }
   },
   "outputs": [],
   "source": [
    "%%capture\n",
    "import warnings\n",
    "warnings.filterwarnings('ignore')\n",
    "\n",
    "import pandas as pd\n",
    "import numpy as np\n",
    "\n",
    "import seaborn as sns\n",
    "import matplotlib.pyplot as plt\n",
    "import patchworklib as pw\n",
    "\n",
    "from py_helper_functions import *\n",
    "\n",
    "from mizani.transforms import log_trans\n",
    "from mizani.formatters import percent_format\n",
    "from mizani.formatters import log_format\n",
    "\n",
    "from stargazer import stargazer"
   ]
  },
  {
   "cell_type": "code",
   "outputs": [],
   "source": [
    "def get_cleaned_data(src: str) -> pd.DataFrame:\n",
    "    '''\n",
    "    This function takes a path to a csv file, cleans it and returns the cleaned dataframe\n",
    "    :param src: path to file\n",
    "    :return: dataframe with cleaned data\n",
    "    '''\n",
    "    df = pd.read_csv(src)\n",
    "    \n",
    "    # Filter the data for:\n",
    "    #\n",
    "    working_sample = df[(df['price'].notna()) & (df['beds'].notna())]\n",
    "    \n",
    "    return working_sample"
   ],
   "metadata": {
    "collapsed": false,
    "ExecuteTime": {
     "end_time": "2024-02-03T14:46:16.587525Z",
     "start_time": "2024-02-03T14:46:16.582996Z"
    }
   },
   "id": "7b4ad86b6e8e6ac7",
   "execution_count": 12
  },
  {
   "cell_type": "code",
   "outputs": [
    {
     "data": {
      "text/plain": "(53655, 75)"
     },
     "execution_count": 13,
     "metadata": {},
     "output_type": "execute_result"
    }
   ],
   "source": [
    "test_df = get_cleaned_data('listings.csv')\n",
    "test_df.shape"
   ],
   "metadata": {
    "collapsed": false,
    "ExecuteTime": {
     "end_time": "2024-02-03T14:46:18.411240Z",
     "start_time": "2024-02-03T14:46:17.565809Z"
    }
   },
   "id": "7f62dcd6ad5a7e8d",
   "execution_count": 13
  },
  {
   "cell_type": "code",
   "outputs": [
    {
     "name": "stdout",
     "output_type": "stream",
     "text": [
      "<class 'pandas.core.frame.DataFrame'>\n",
      "Index: 53655 entries, 0 to 56684\n",
      "Data columns (total 75 columns):\n",
      " #   Column                                        Non-Null Count  Dtype  \n",
      "---  ------                                        --------------  -----  \n",
      " 0   id                                            53655 non-null  int64  \n",
      " 1   listing_url                                   53655 non-null  object \n",
      " 2   scrape_id                                     53655 non-null  int64  \n",
      " 3   last_scraped                                  53655 non-null  object \n",
      " 4   source                                        53655 non-null  object \n",
      " 5   name                                          53655 non-null  object \n",
      " 6   description                                   0 non-null      float64\n",
      " 7   neighborhood_overview                         25616 non-null  object \n",
      " 8   picture_url                                   53655 non-null  object \n",
      " 9   host_id                                       53655 non-null  int64  \n",
      " 10  host_url                                      53655 non-null  object \n",
      " 11  host_name                                     53655 non-null  object \n",
      " 12  host_since                                    53655 non-null  object \n",
      " 13  host_location                                 35797 non-null  object \n",
      " 14  host_about                                    21528 non-null  object \n",
      " 15  host_response_time                            33541 non-null  object \n",
      " 16  host_response_rate                            33541 non-null  object \n",
      " 17  host_acceptance_rate                          45183 non-null  object \n",
      " 18  host_is_superhost                             53563 non-null  object \n",
      " 19  host_thumbnail_url                            53655 non-null  object \n",
      " 20  host_picture_url                              53655 non-null  object \n",
      " 21  host_neighbourhood                            2055 non-null   object \n",
      " 22  host_listings_count                           53655 non-null  int64  \n",
      " 23  host_total_listings_count                     53655 non-null  int64  \n",
      " 24  host_verifications                            53655 non-null  object \n",
      " 25  host_has_profile_pic                          53655 non-null  object \n",
      " 26  host_identity_verified                        53655 non-null  object \n",
      " 27  neighbourhood                                 25617 non-null  object \n",
      " 28  neighbourhood_cleansed                        53655 non-null  object \n",
      " 29  neighbourhood_group_cleansed                  0 non-null      float64\n",
      " 30  latitude                                      53655 non-null  float64\n",
      " 31  longitude                                     53655 non-null  float64\n",
      " 32  property_type                                 53655 non-null  object \n",
      " 33  room_type                                     53655 non-null  object \n",
      " 34  accommodates                                  53655 non-null  int64  \n",
      " 35  bathrooms                                     0 non-null      float64\n",
      " 36  bathrooms_text                                53605 non-null  object \n",
      " 37  bedrooms                                      17 non-null     float64\n",
      " 38  beds                                          53655 non-null  float64\n",
      " 39  amenities                                     53655 non-null  object \n",
      " 40  price                                         53655 non-null  object \n",
      " 41  minimum_nights                                53655 non-null  int64  \n",
      " 42  maximum_nights                                53655 non-null  int64  \n",
      " 43  minimum_minimum_nights                        53655 non-null  int64  \n",
      " 44  maximum_minimum_nights                        53655 non-null  int64  \n",
      " 45  minimum_maximum_nights                        53655 non-null  int64  \n",
      " 46  maximum_maximum_nights                        53655 non-null  int64  \n",
      " 47  minimum_nights_avg_ntm                        53655 non-null  float64\n",
      " 48  maximum_nights_avg_ntm                        53655 non-null  float64\n",
      " 49  calendar_updated                              0 non-null      float64\n",
      " 50  has_availability                              53655 non-null  object \n",
      " 51  availability_30                               53655 non-null  int64  \n",
      " 52  availability_60                               53655 non-null  int64  \n",
      " 53  availability_90                               53655 non-null  int64  \n",
      " 54  availability_365                              53655 non-null  int64  \n",
      " 55  calendar_last_scraped                         53655 non-null  object \n",
      " 56  number_of_reviews                             53655 non-null  int64  \n",
      " 57  number_of_reviews_ltm                         53655 non-null  int64  \n",
      " 58  number_of_reviews_l30d                        53655 non-null  int64  \n",
      " 59  first_review                                  37669 non-null  object \n",
      " 60  last_review                                   37669 non-null  object \n",
      " 61  review_scores_rating                          37683 non-null  float64\n",
      " 62  review_scores_accuracy                        37677 non-null  float64\n",
      " 63  review_scores_cleanliness                     37678 non-null  float64\n",
      " 64  review_scores_checkin                         37670 non-null  float64\n",
      " 65  review_scores_communication                   37674 non-null  float64\n",
      " 66  review_scores_location                        37669 non-null  float64\n",
      " 67  review_scores_value                           37668 non-null  float64\n",
      " 68  license                                       16461 non-null  object \n",
      " 69  instant_bookable                              53655 non-null  object \n",
      " 70  calculated_host_listings_count                53655 non-null  int64  \n",
      " 71  calculated_host_listings_count_entire_homes   53655 non-null  int64  \n",
      " 72  calculated_host_listings_count_private_rooms  53655 non-null  int64  \n",
      " 73  calculated_host_listings_count_shared_rooms   53655 non-null  int64  \n",
      " 74  reviews_per_month                             37669 non-null  float64\n",
      "dtypes: float64(18), int64(23), object(34)\n",
      "memory usage: 31.1+ MB\n"
     ]
    }
   ],
   "source": [
    "test_df.info()"
   ],
   "metadata": {
    "collapsed": false,
    "ExecuteTime": {
     "end_time": "2024-02-03T14:46:20.697739Z",
     "start_time": "2024-02-03T14:46:20.643335Z"
    }
   },
   "id": "5182cc38765ad12f",
   "execution_count": 14
  },
  {
   "cell_type": "code",
   "outputs": [
    {
     "data": {
      "text/plain": "      id                         listing_url       scrape_id last_scraped  \\\n0   7011   https://www.airbnb.com/rooms/7011  20231229030255   2023-12-31   \n1  22948  https://www.airbnb.com/rooms/22948  20231229030255   2023-12-31   \n2  35264  https://www.airbnb.com/rooms/35264  20231229030255   2023-12-30   \n4  43992  https://www.airbnb.com/rooms/43992  20231229030255   2023-12-31   \n5  43995  https://www.airbnb.com/rooms/43995  20231229030255   2023-12-29   \n\n        source                                               name  \\\n0  city scrape  Home in Marsala · ★4.68 · 3 bedrooms · 4 beds ...   \n1  city scrape  Bed and breakfast in Agrigento · ★4.80 · 1 bed...   \n2  city scrape  Farm stay in Piedimonte Etneo · ★4.79 · 4 bedr...   \n4  city scrape  Vacation home in Province of Trapani · ★4.65 ·...   \n5  city scrape  Home in San Vito Lo Capo · ★4.82 · 3 bedrooms ...   \n\n   description                              neighborhood_overview  \\\n0          NaN                                                NaN   \n1          NaN  The neighborhood is in a residential area, cen...   \n2          NaN                                                NaN   \n4          NaN                                                NaN   \n5          NaN                                                NaN   \n\n                                         picture_url  host_id  ...  \\\n0  https://a0.muscache.com/pictures/miso/Hosting-...    16888  ...   \n1  https://a0.muscache.com/pictures/miso/Hosting-...    88837  ...   \n2  https://a0.muscache.com/pictures/62402822/1cc2...   151644  ...   \n4  https://a0.muscache.com/pictures/9495798/e9cfb...   192525  ...   \n5  https://a0.muscache.com/pictures/9498289/eef27...   192525  ...   \n\n  review_scores_communication review_scores_location review_scores_value  \\\n0                        4.71                   4.57                4.57   \n1                        4.80                   4.89                4.85   \n2                        4.81                   4.85                4.76   \n4                        4.94                   4.50                4.65   \n5                        4.91                   4.70                4.68   \n\n           license instant_bookable calculated_host_listings_count  \\\n0              NaN                t                             10   \n1  19084001C101881                f                              3   \n2              NaN                f                              5   \n4  19081008C203276                f                              2   \n5  19081020C204689                f                              2   \n\n  calculated_host_listings_count_entire_homes  \\\n0                                          10   \n1                                           0   \n2                                           5   \n4                                           2   \n5                                           2   \n\n  calculated_host_listings_count_private_rooms  \\\n0                                            0   \n1                                            3   \n2                                            0   \n4                                            0   \n5                                            0   \n\n  calculated_host_listings_count_shared_rooms reviews_per_month  \n0                                           0              0.18  \n1                                           0              2.46  \n2                                           0              0.94  \n4                                           0              0.48  \n5                                           0              0.43  \n\n[5 rows x 75 columns]",
      "text/html": "<div>\n<style scoped>\n    .dataframe tbody tr th:only-of-type {\n        vertical-align: middle;\n    }\n\n    .dataframe tbody tr th {\n        vertical-align: top;\n    }\n\n    .dataframe thead th {\n        text-align: right;\n    }\n</style>\n<table border=\"1\" class=\"dataframe\">\n  <thead>\n    <tr style=\"text-align: right;\">\n      <th></th>\n      <th>id</th>\n      <th>listing_url</th>\n      <th>scrape_id</th>\n      <th>last_scraped</th>\n      <th>source</th>\n      <th>name</th>\n      <th>description</th>\n      <th>neighborhood_overview</th>\n      <th>picture_url</th>\n      <th>host_id</th>\n      <th>...</th>\n      <th>review_scores_communication</th>\n      <th>review_scores_location</th>\n      <th>review_scores_value</th>\n      <th>license</th>\n      <th>instant_bookable</th>\n      <th>calculated_host_listings_count</th>\n      <th>calculated_host_listings_count_entire_homes</th>\n      <th>calculated_host_listings_count_private_rooms</th>\n      <th>calculated_host_listings_count_shared_rooms</th>\n      <th>reviews_per_month</th>\n    </tr>\n  </thead>\n  <tbody>\n    <tr>\n      <th>0</th>\n      <td>7011</td>\n      <td>https://www.airbnb.com/rooms/7011</td>\n      <td>20231229030255</td>\n      <td>2023-12-31</td>\n      <td>city scrape</td>\n      <td>Home in Marsala · ★4.68 · 3 bedrooms · 4 beds ...</td>\n      <td>NaN</td>\n      <td>NaN</td>\n      <td>https://a0.muscache.com/pictures/miso/Hosting-...</td>\n      <td>16888</td>\n      <td>...</td>\n      <td>4.71</td>\n      <td>4.57</td>\n      <td>4.57</td>\n      <td>NaN</td>\n      <td>t</td>\n      <td>10</td>\n      <td>10</td>\n      <td>0</td>\n      <td>0</td>\n      <td>0.18</td>\n    </tr>\n    <tr>\n      <th>1</th>\n      <td>22948</td>\n      <td>https://www.airbnb.com/rooms/22948</td>\n      <td>20231229030255</td>\n      <td>2023-12-31</td>\n      <td>city scrape</td>\n      <td>Bed and breakfast in Agrigento · ★4.80 · 1 bed...</td>\n      <td>NaN</td>\n      <td>The neighborhood is in a residential area, cen...</td>\n      <td>https://a0.muscache.com/pictures/miso/Hosting-...</td>\n      <td>88837</td>\n      <td>...</td>\n      <td>4.80</td>\n      <td>4.89</td>\n      <td>4.85</td>\n      <td>19084001C101881</td>\n      <td>f</td>\n      <td>3</td>\n      <td>0</td>\n      <td>3</td>\n      <td>0</td>\n      <td>2.46</td>\n    </tr>\n    <tr>\n      <th>2</th>\n      <td>35264</td>\n      <td>https://www.airbnb.com/rooms/35264</td>\n      <td>20231229030255</td>\n      <td>2023-12-30</td>\n      <td>city scrape</td>\n      <td>Farm stay in Piedimonte Etneo · ★4.79 · 4 bedr...</td>\n      <td>NaN</td>\n      <td>NaN</td>\n      <td>https://a0.muscache.com/pictures/62402822/1cc2...</td>\n      <td>151644</td>\n      <td>...</td>\n      <td>4.81</td>\n      <td>4.85</td>\n      <td>4.76</td>\n      <td>NaN</td>\n      <td>f</td>\n      <td>5</td>\n      <td>5</td>\n      <td>0</td>\n      <td>0</td>\n      <td>0.94</td>\n    </tr>\n    <tr>\n      <th>4</th>\n      <td>43992</td>\n      <td>https://www.airbnb.com/rooms/43992</td>\n      <td>20231229030255</td>\n      <td>2023-12-31</td>\n      <td>city scrape</td>\n      <td>Vacation home in Province of Trapani · ★4.65 ·...</td>\n      <td>NaN</td>\n      <td>NaN</td>\n      <td>https://a0.muscache.com/pictures/9495798/e9cfb...</td>\n      <td>192525</td>\n      <td>...</td>\n      <td>4.94</td>\n      <td>4.50</td>\n      <td>4.65</td>\n      <td>19081008C203276</td>\n      <td>f</td>\n      <td>2</td>\n      <td>2</td>\n      <td>0</td>\n      <td>0</td>\n      <td>0.48</td>\n    </tr>\n    <tr>\n      <th>5</th>\n      <td>43995</td>\n      <td>https://www.airbnb.com/rooms/43995</td>\n      <td>20231229030255</td>\n      <td>2023-12-29</td>\n      <td>city scrape</td>\n      <td>Home in San Vito Lo Capo · ★4.82 · 3 bedrooms ...</td>\n      <td>NaN</td>\n      <td>NaN</td>\n      <td>https://a0.muscache.com/pictures/9498289/eef27...</td>\n      <td>192525</td>\n      <td>...</td>\n      <td>4.91</td>\n      <td>4.70</td>\n      <td>4.68</td>\n      <td>19081020C204689</td>\n      <td>f</td>\n      <td>2</td>\n      <td>2</td>\n      <td>0</td>\n      <td>0</td>\n      <td>0.43</td>\n    </tr>\n  </tbody>\n</table>\n<p>5 rows × 75 columns</p>\n</div>"
     },
     "execution_count": 15,
     "metadata": {},
     "output_type": "execute_result"
    }
   ],
   "source": [
    "test_df.head()"
   ],
   "metadata": {
    "collapsed": false,
    "ExecuteTime": {
     "end_time": "2024-02-03T14:46:23.233129Z",
     "start_time": "2024-02-03T14:46:23.180750Z"
    }
   },
   "id": "a7f1bef05d7815ac",
   "execution_count": 15
  },
  {
   "cell_type": "code",
   "outputs": [
    {
     "data": {
      "text/plain": "id                                                  0\nlisting_url                                         0\nscrape_id                                           0\nlast_scraped                                        0\nsource                                              0\n                                                ...  \ncalculated_host_listings_count                      0\ncalculated_host_listings_count_entire_homes         0\ncalculated_host_listings_count_private_rooms        0\ncalculated_host_listings_count_shared_rooms         0\nreviews_per_month                               15986\nLength: 75, dtype: int64"
     },
     "execution_count": 16,
     "metadata": {},
     "output_type": "execute_result"
    }
   ],
   "source": [
    "test_df.isna().sum()"
   ],
   "metadata": {
    "collapsed": false,
    "ExecuteTime": {
     "end_time": "2024-02-03T14:46:24.388167Z",
     "start_time": "2024-02-03T14:46:24.374885Z"
    }
   },
   "id": "4c12516f1a248408",
   "execution_count": 16
  },
  {
   "cell_type": "code",
   "outputs": [
    {
     "data": {
      "text/plain": "                        id    price\n0                     7011  $230.00\n1                    22948  $217.00\n2                    35264  $136.00\n3                    38974      NaN\n4                    43992   $70.00\n...                    ...      ...\n56680  1051420622489213865  $715.00\n56681  1056340324556886825   $75.00\n56682  1051422045186465160   $64.00\n56683  1051462180284404035   $31.00\n56684  1051499996066704828   $70.00\n\n[56685 rows x 2 columns]",
      "text/html": "<div>\n<style scoped>\n    .dataframe tbody tr th:only-of-type {\n        vertical-align: middle;\n    }\n\n    .dataframe tbody tr th {\n        vertical-align: top;\n    }\n\n    .dataframe thead th {\n        text-align: right;\n    }\n</style>\n<table border=\"1\" class=\"dataframe\">\n  <thead>\n    <tr style=\"text-align: right;\">\n      <th></th>\n      <th>id</th>\n      <th>price</th>\n    </tr>\n  </thead>\n  <tbody>\n    <tr>\n      <th>0</th>\n      <td>7011</td>\n      <td>$230.00</td>\n    </tr>\n    <tr>\n      <th>1</th>\n      <td>22948</td>\n      <td>$217.00</td>\n    </tr>\n    <tr>\n      <th>2</th>\n      <td>35264</td>\n      <td>$136.00</td>\n    </tr>\n    <tr>\n      <th>3</th>\n      <td>38974</td>\n      <td>NaN</td>\n    </tr>\n    <tr>\n      <th>4</th>\n      <td>43992</td>\n      <td>$70.00</td>\n    </tr>\n    <tr>\n      <th>...</th>\n      <td>...</td>\n      <td>...</td>\n    </tr>\n    <tr>\n      <th>56680</th>\n      <td>1051420622489213865</td>\n      <td>$715.00</td>\n    </tr>\n    <tr>\n      <th>56681</th>\n      <td>1056340324556886825</td>\n      <td>$75.00</td>\n    </tr>\n    <tr>\n      <th>56682</th>\n      <td>1051422045186465160</td>\n      <td>$64.00</td>\n    </tr>\n    <tr>\n      <th>56683</th>\n      <td>1051462180284404035</td>\n      <td>$31.00</td>\n    </tr>\n    <tr>\n      <th>56684</th>\n      <td>1051499996066704828</td>\n      <td>$70.00</td>\n    </tr>\n  </tbody>\n</table>\n<p>56685 rows × 2 columns</p>\n</div>"
     },
     "execution_count": 8,
     "metadata": {},
     "output_type": "execute_result"
    }
   ],
   "source": [
    "test_df[['id', 'price']]"
   ],
   "metadata": {
    "collapsed": false,
    "ExecuteTime": {
     "end_time": "2024-02-03T14:36:14.916567Z",
     "start_time": "2024-02-03T14:36:14.908464Z"
    }
   },
   "id": "2017316393ad9f0a",
   "execution_count": 8
  },
  {
   "cell_type": "code",
   "outputs": [],
   "source": [],
   "metadata": {
    "collapsed": false
   },
   "id": "40492fdfab7edfd7"
  }
 ],
 "metadata": {
  "kernelspec": {
   "display_name": "Python 3",
   "language": "python",
   "name": "python3"
  },
  "language_info": {
   "codemirror_mode": {
    "name": "ipython",
    "version": 2
   },
   "file_extension": ".py",
   "mimetype": "text/x-python",
   "name": "python",
   "nbconvert_exporter": "python",
   "pygments_lexer": "ipython2",
   "version": "2.7.6"
  }
 },
 "nbformat": 4,
 "nbformat_minor": 5
}
