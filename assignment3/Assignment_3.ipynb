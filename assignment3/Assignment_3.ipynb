{
 "cells": [
  {
   "cell_type": "markdown",
   "id": "db548262-c2db-4602-8398-91c7dde36c94",
   "metadata": {
    "tags": []
   },
   "source": [
    "https://ec.europa.eu/competition/mergers/cases/index/nace_all.html"
   ]
  },
  {
   "cell_type": "markdown",
   "id": "cc76cb84-127c-4be2-9bd6-62873d688cf0",
   "metadata": {},
   "source": [
    "# Import Necessary Packages"
   ]
  },
  {
   "cell_type": "code",
   "execution_count": 1,
   "id": "d3428402-bf0f-42bc-94bd-7c80b35ebb56",
   "metadata": {
    "tags": []
   },
   "outputs": [],
   "source": [
    "import os\n",
    "import sys\n",
    "import warnings\n",
    "\n",
    "import matplotlib.pyplot as plt\n",
    "import numpy as np\n",
    "import pandas as pd\n",
    "import patsy\n",
    "import sklearn.metrics as metrics\n",
    "import statsmodels.formula.api as smf\n",
    "from plotnine import *\n",
    "from sklearn.ensemble import RandomForestClassifier\n",
    "from sklearn.linear_model import (\n",
    "    LinearRegression,\n",
    "    LogisticRegression,\n",
    "    LogisticRegressionCV,\n",
    ")\n",
    "from sklearn.metrics import (\n",
    "    auc,\n",
    "    brier_score_loss,\n",
    "    confusion_matrix,\n",
    "    mean_squared_error,\n",
    "    roc_auc_score,\n",
    "    roc_curve,\n",
    ")\n",
    "from sklearn.model_selection import GridSearchCV, KFold, train_test_split\n",
    "from sklearn.preprocessing import StandardScaler\n",
    "from statsmodels.tools.eval_measures import rmse\n",
    "\n",
    "warnings.filterwarnings(\"ignore\")"
   ]
  },
  {
   "cell_type": "markdown",
   "id": "02a52b55-91b1-440b-b167-c3d5e6ee62ab",
   "metadata": {},
   "source": [
    "# 0. Define Custom Functions"
   ]
  },
  {
   "cell_type": "code",
   "execution_count": 2,
   "id": "910b404e-4ea9-4123-adc7-8094af4baeda",
   "metadata": {
    "tags": []
   },
   "outputs": [],
   "source": [
    "def regression_results(y_true, y_pred):\n",
    "\n",
    "    # Regression metrics\n",
    "    explained_variance = metrics.explained_variance_score(y_true, y_pred)\n",
    "    mean_absolute_error = metrics.mean_absolute_error(y_true, y_pred)\n",
    "    mse = metrics.mean_squared_error(y_true, y_pred)\n",
    "    median_absolute_error = metrics.median_absolute_error(y_true, y_pred)\n",
    "    r2 = metrics.r2_score(y_true, y_pred)\n",
    "\n",
    "    print(\"explained_variance: \", round(explained_variance, 4))\n",
    "    print(\"r2: \", round(r2, 4))\n",
    "    print(\"MAE: \", round(mean_absolute_error, 4))\n",
    "    print(\"MSE: \", round(mse, 4))\n",
    "    print(\"RMSE: \", round(np.sqrt(mse), 4))\n",
    "\n",
    "\n",
    "def coef_matrix(X, model):\n",
    "\n",
    "    coef_matrix = pd.concat(\n",
    "        [pd.DataFrame(X.columns), pd.DataFrame(np.transpose(model.coef_))], axis=1\n",
    "    )\n",
    "    coef_matrix.columns = [\"variable\", \"coefficient\"]\n",
    "    coef_matrix = coef_matrix.append(\n",
    "        {\"variable\": \"Intercept\", \"coefficient\": model.intercept_},\n",
    "        ignore_index=True,\n",
    "    )\n",
    "    return coef_matrix\n",
    "\n",
    "\n",
    "def cv_summary(lambdas, C_values, model):\n",
    "    d = {\n",
    "        \"lambdas\": lambdas,\n",
    "        \"C_values\": C_values,\n",
    "        \"mean_cv_score\": model.scores_[1].mean(axis=0),\n",
    "    }\n",
    "    return pd.DataFrame(data=d)\n",
    "\n",
    "\n",
    "def create_roc_plot(y_true, y_pred):\n",
    "    fpr, tpr, thresholds = roc_curve(y_true, y_pred)\n",
    "    all_coords = pd.DataFrame({\"fpr\": fpr, \"tpr\": tpr, \"thresholds\": thresholds})\n",
    "\n",
    "    plot = (\n",
    "        ggplot(all_coords, aes(x=\"fpr\", y=\"tpr\"))\n",
    "        + geom_line(color=color[0], size=0.7)\n",
    "        + geom_area(position=\"identity\", fill=\"mediumaquamarine\", alpha=0.3)\n",
    "        + xlab(\"False Positive Rate (1-Specifity)\")\n",
    "        + ylab(\"True Positive Rate (Sensitivity)\")\n",
    "        + geom_abline(intercept=0, slope=1, linetype=\"dotted\", color=\"black\")\n",
    "        + scale_y_continuous(limits=(0, 1), breaks=seq(0, 1, 0.1), expand=(0, 0.01))\n",
    "        + scale_x_continuous(limits=(0, 1), breaks=seq(0, 1, 0.1), expand=(0.01, 0))\n",
    "        + theme_bw()\n",
    "    )\n",
    "    return plot\n",
    "\n",
    "\n",
    "def sigmoid_array(x):\n",
    "    return 1 / (1 + np.exp(-x))\n",
    "\n",
    "\n",
    "def generate_fold_prediction(model, X, fold, param_index):\n",
    "    fold_coef = model.coefs_paths_[1][fold, param_index, :]\n",
    "    return sigmoid_array(\n",
    "        np.dot(X, np.transpose(fold_coef)[:-1]) + np.transpose(fold_coef)[-1]\n",
    "    )\n",
    "\n",
    "\n",
    "def create_loss_plot(all_coords, optimal_threshold, curr_exp_loss):\n",
    "    all_coords_copy = all_coords.copy()\n",
    "    all_coords_copy[\"loss\"] = (\n",
    "        all_coords_copy.false_pos * FP + all_coords_copy.false_neg * FN\n",
    "    ) / all_coords_copy.n\n",
    "\n",
    "    t = optimal_threshold\n",
    "    l = curr_exp_loss\n",
    "\n",
    "    plot = (\n",
    "        ggplot(all_coords_copy, aes(x=\"thresholds\", y=\"loss\"))\n",
    "        + geom_line(color=color[0], size=0.7)\n",
    "        + scale_x_continuous(breaks=seq(0, 1.1, by=0.1))\n",
    "        + coord_cartesian(xlim=(0, 1))\n",
    "        + geom_vline(xintercept=t, color=color[0])\n",
    "        + annotate(\n",
    "            geom=\"text\",\n",
    "            x=t - 0.01,\n",
    "            y=max(all_coords_copy.loss) - 0.4,\n",
    "            label=\"best threshold: \" + str(round(t, 2)),\n",
    "            colour=color[1],\n",
    "            angle=90,\n",
    "            size=7,\n",
    "        )\n",
    "        + annotate(geom=\"text\", x=t + 0.06, y=l, label=str(round(l, 2)), size=7)\n",
    "        + theme_bw()\n",
    "    )\n",
    "    return plot\n",
    "\n",
    "\n",
    "def create_roc_plot_with_optimal(all_coords, optimal_threshold):\n",
    "    all_coords_copy = all_coords.copy()\n",
    "    all_coords_copy[\"sp\"] = 1 - all_coords_copy.true_neg / all_coords_copy.neg\n",
    "    all_coords_copy[\"se\"] = all_coords_copy.true_pos / all_coords_copy.pos\n",
    "\n",
    "    best_coords = all_coords_copy[all_coords_copy.thresholds == optimal_threshold]\n",
    "    sp = best_coords.sp.values[0]\n",
    "    se = best_coords.se.values[0]\n",
    "\n",
    "    plot = (\n",
    "        ggplot(all_coords_copy, aes(x=\"sp\", y=\"se\"))\n",
    "        + geom_line(color=color[0], size=0.7)\n",
    "        + scale_y_continuous(breaks=seq(0, 1.1, by=0.1))\n",
    "        + scale_x_continuous(breaks=seq(0, 1.1, by=0.1))\n",
    "        + geom_point(data=pd.DataFrame({\"sp\": [sp], \"se\": [se]}))\n",
    "        + annotate(\n",
    "            geom=\"text\",\n",
    "            x=sp,\n",
    "            y=se + 0.03,\n",
    "            label=str(round(sp, 2)) + \", \" + str(round(se, 2)),\n",
    "            size=7,\n",
    "        )\n",
    "        + geom_area(position=\"identity\", fill=\"mediumaquamarine\", alpha=0.3)\n",
    "        + xlab(\"False Positive Rate (1-Specifity)\")\n",
    "        + ylab(\"True Positive Rate (Sensitivity)\")\n",
    "        + geom_abline(intercept=0, slope=1, linetype=\"dotted\", color=\"black\")\n",
    "        + theme_bw()\n",
    "    )\n",
    "    return plot"
   ]
  },
  {
   "cell_type": "markdown",
   "id": "3dddd522-6059-428d-94de-c6c64644f3f6",
   "metadata": {},
   "source": [
    "# 1. Import data"
   ]
  },
  {
   "cell_type": "code",
   "execution_count": 3,
   "id": "9d111836-e103-420e-b5bc-287df3f4880f",
   "metadata": {
    "tags": []
   },
   "outputs": [],
   "source": [
    "data = pd.read_csv(\"https://raw.githubusercontent.com/MarcellM01/Data-Analysis-3/main/Assignment_3/cs_bisnode_panel.csv\")"
   ]
  },
  {
   "cell_type": "code",
   "execution_count": 4,
   "id": "4e546d09-f3a8-4341-b048-6f5fb86026eb",
   "metadata": {
    "tags": []
   },
   "outputs": [
    {
     "data": {
      "text/html": [
       "<div>\n",
       "<style scoped>\n",
       "    .dataframe tbody tr th:only-of-type {\n",
       "        vertical-align: middle;\n",
       "    }\n",
       "\n",
       "    .dataframe tbody tr th {\n",
       "        vertical-align: top;\n",
       "    }\n",
       "\n",
       "    .dataframe thead th {\n",
       "        text-align: right;\n",
       "    }\n",
       "</style>\n",
       "<table border=\"1\" class=\"dataframe\">\n",
       "  <thead>\n",
       "    <tr style=\"text-align: right;\">\n",
       "      <th></th>\n",
       "      <th>comp_id</th>\n",
       "      <th>begin</th>\n",
       "      <th>end</th>\n",
       "      <th>COGS</th>\n",
       "      <th>amort</th>\n",
       "      <th>curr_assets</th>\n",
       "      <th>curr_liab</th>\n",
       "      <th>extra_exp</th>\n",
       "      <th>extra_inc</th>\n",
       "      <th>extra_profit_loss</th>\n",
       "      <th>...</th>\n",
       "      <th>gender</th>\n",
       "      <th>origin</th>\n",
       "      <th>nace_main</th>\n",
       "      <th>ind2</th>\n",
       "      <th>ind</th>\n",
       "      <th>urban_m</th>\n",
       "      <th>region_m</th>\n",
       "      <th>founded_date</th>\n",
       "      <th>exit_date</th>\n",
       "      <th>labor_avg</th>\n",
       "    </tr>\n",
       "  </thead>\n",
       "  <tbody>\n",
       "    <tr>\n",
       "      <th>0</th>\n",
       "      <td>1001034.0</td>\n",
       "      <td>2005-01-01</td>\n",
       "      <td>2005-12-31</td>\n",
       "      <td>NaN</td>\n",
       "      <td>692.592590</td>\n",
       "      <td>7266.666504</td>\n",
       "      <td>7574.074219</td>\n",
       "      <td>0.0</td>\n",
       "      <td>0.0</td>\n",
       "      <td>0.0</td>\n",
       "      <td>...</td>\n",
       "      <td>mix</td>\n",
       "      <td>Domestic</td>\n",
       "      <td>5630.0</td>\n",
       "      <td>56.0</td>\n",
       "      <td>3.0</td>\n",
       "      <td>1</td>\n",
       "      <td>Central</td>\n",
       "      <td>1990-11-19</td>\n",
       "      <td>NaN</td>\n",
       "      <td>NaN</td>\n",
       "    </tr>\n",
       "    <tr>\n",
       "      <th>1</th>\n",
       "      <td>1001034.0</td>\n",
       "      <td>2006-01-01</td>\n",
       "      <td>2006-12-31</td>\n",
       "      <td>NaN</td>\n",
       "      <td>603.703674</td>\n",
       "      <td>13122.222656</td>\n",
       "      <td>12211.111328</td>\n",
       "      <td>0.0</td>\n",
       "      <td>0.0</td>\n",
       "      <td>0.0</td>\n",
       "      <td>...</td>\n",
       "      <td>mix</td>\n",
       "      <td>Domestic</td>\n",
       "      <td>5630.0</td>\n",
       "      <td>56.0</td>\n",
       "      <td>3.0</td>\n",
       "      <td>1</td>\n",
       "      <td>Central</td>\n",
       "      <td>1990-11-19</td>\n",
       "      <td>NaN</td>\n",
       "      <td>NaN</td>\n",
       "    </tr>\n",
       "    <tr>\n",
       "      <th>2</th>\n",
       "      <td>1001034.0</td>\n",
       "      <td>2007-01-01</td>\n",
       "      <td>2007-12-31</td>\n",
       "      <td>NaN</td>\n",
       "      <td>425.925934</td>\n",
       "      <td>8196.295898</td>\n",
       "      <td>7800.000000</td>\n",
       "      <td>0.0</td>\n",
       "      <td>0.0</td>\n",
       "      <td>0.0</td>\n",
       "      <td>...</td>\n",
       "      <td>mix</td>\n",
       "      <td>Domestic</td>\n",
       "      <td>5630.0</td>\n",
       "      <td>56.0</td>\n",
       "      <td>3.0</td>\n",
       "      <td>1</td>\n",
       "      <td>Central</td>\n",
       "      <td>1990-11-19</td>\n",
       "      <td>NaN</td>\n",
       "      <td>NaN</td>\n",
       "    </tr>\n",
       "    <tr>\n",
       "      <th>3</th>\n",
       "      <td>1001034.0</td>\n",
       "      <td>2008-01-01</td>\n",
       "      <td>2008-12-31</td>\n",
       "      <td>NaN</td>\n",
       "      <td>300.000000</td>\n",
       "      <td>8485.185547</td>\n",
       "      <td>7781.481445</td>\n",
       "      <td>0.0</td>\n",
       "      <td>0.0</td>\n",
       "      <td>0.0</td>\n",
       "      <td>...</td>\n",
       "      <td>mix</td>\n",
       "      <td>Domestic</td>\n",
       "      <td>5630.0</td>\n",
       "      <td>56.0</td>\n",
       "      <td>3.0</td>\n",
       "      <td>1</td>\n",
       "      <td>Central</td>\n",
       "      <td>1990-11-19</td>\n",
       "      <td>NaN</td>\n",
       "      <td>NaN</td>\n",
       "    </tr>\n",
       "    <tr>\n",
       "      <th>4</th>\n",
       "      <td>1001034.0</td>\n",
       "      <td>2009-01-01</td>\n",
       "      <td>2009-12-31</td>\n",
       "      <td>NaN</td>\n",
       "      <td>207.407410</td>\n",
       "      <td>5137.037109</td>\n",
       "      <td>15300.000000</td>\n",
       "      <td>0.0</td>\n",
       "      <td>0.0</td>\n",
       "      <td>0.0</td>\n",
       "      <td>...</td>\n",
       "      <td>mix</td>\n",
       "      <td>Domestic</td>\n",
       "      <td>5630.0</td>\n",
       "      <td>56.0</td>\n",
       "      <td>3.0</td>\n",
       "      <td>1</td>\n",
       "      <td>Central</td>\n",
       "      <td>1990-11-19</td>\n",
       "      <td>NaN</td>\n",
       "      <td>0.083333</td>\n",
       "    </tr>\n",
       "  </tbody>\n",
       "</table>\n",
       "<p>5 rows × 48 columns</p>\n",
       "</div>"
      ],
      "text/plain": [
       "     comp_id       begin         end  COGS       amort   curr_assets  \\\n",
       "0  1001034.0  2005-01-01  2005-12-31   NaN  692.592590   7266.666504   \n",
       "1  1001034.0  2006-01-01  2006-12-31   NaN  603.703674  13122.222656   \n",
       "2  1001034.0  2007-01-01  2007-12-31   NaN  425.925934   8196.295898   \n",
       "3  1001034.0  2008-01-01  2008-12-31   NaN  300.000000   8485.185547   \n",
       "4  1001034.0  2009-01-01  2009-12-31   NaN  207.407410   5137.037109   \n",
       "\n",
       "      curr_liab  extra_exp  extra_inc  extra_profit_loss  ...  gender  \\\n",
       "0   7574.074219        0.0        0.0                0.0  ...     mix   \n",
       "1  12211.111328        0.0        0.0                0.0  ...     mix   \n",
       "2   7800.000000        0.0        0.0                0.0  ...     mix   \n",
       "3   7781.481445        0.0        0.0                0.0  ...     mix   \n",
       "4  15300.000000        0.0        0.0                0.0  ...     mix   \n",
       "\n",
       "     origin  nace_main  ind2  ind  urban_m  region_m  founded_date  exit_date  \\\n",
       "0  Domestic     5630.0  56.0  3.0        1   Central    1990-11-19        NaN   \n",
       "1  Domestic     5630.0  56.0  3.0        1   Central    1990-11-19        NaN   \n",
       "2  Domestic     5630.0  56.0  3.0        1   Central    1990-11-19        NaN   \n",
       "3  Domestic     5630.0  56.0  3.0        1   Central    1990-11-19        NaN   \n",
       "4  Domestic     5630.0  56.0  3.0        1   Central    1990-11-19        NaN   \n",
       "\n",
       "   labor_avg  \n",
       "0        NaN  \n",
       "1        NaN  \n",
       "2        NaN  \n",
       "3        NaN  \n",
       "4   0.083333  \n",
       "\n",
       "[5 rows x 48 columns]"
      ]
     },
     "execution_count": 4,
     "metadata": {},
     "output_type": "execute_result"
    }
   ],
   "source": [
    "data.head()"
   ]
  },
  {
   "cell_type": "code",
   "execution_count": 5,
   "id": "5c5153b1-aeea-47b7-b8d8-7f909f9768e9",
   "metadata": {
    "tags": []
   },
   "outputs": [
    {
     "data": {
      "text/plain": [
       "Index(['comp_id', 'begin', 'end', 'COGS', 'amort', 'curr_assets', 'curr_liab',\n",
       "       'extra_exp', 'extra_inc', 'extra_profit_loss', 'finished_prod',\n",
       "       'fixed_assets', 'inc_bef_tax', 'intang_assets', 'inventories',\n",
       "       'liq_assets', 'material_exp', 'net_dom_sales', 'net_exp_sales',\n",
       "       'personnel_exp', 'profit_loss_year', 'sales', 'share_eq',\n",
       "       'subscribed_cap', 'tang_assets', 'wages', 'D', 'balsheet_flag',\n",
       "       'balsheet_length', 'balsheet_notfullyear', 'year', 'founded_year',\n",
       "       'exit_year', 'ceo_count', 'foreign', 'female', 'birth_year',\n",
       "       'inoffice_days', 'gender', 'origin', 'nace_main', 'ind2', 'ind',\n",
       "       'urban_m', 'region_m', 'founded_date', 'exit_date', 'labor_avg'],\n",
       "      dtype='object')"
      ]
     },
     "execution_count": 5,
     "metadata": {},
     "output_type": "execute_result"
    }
   ],
   "source": [
    "data.columns"
   ]
  },
  {
   "cell_type": "code",
   "execution_count": 6,
   "id": "500d0297-42aa-4c9e-97a8-c1d0129cd898",
   "metadata": {
    "scrolled": true,
    "tags": []
   },
   "outputs": [
    {
     "name": "stdout",
     "output_type": "stream",
     "text": [
      "<class 'pandas.core.frame.DataFrame'>\n",
      "RangeIndex: 287829 entries, 0 to 287828\n",
      "Data columns (total 48 columns):\n",
      " #   Column                Non-Null Count   Dtype  \n",
      "---  ------                --------------   -----  \n",
      " 0   comp_id               287829 non-null  float64\n",
      " 1   begin                 287829 non-null  object \n",
      " 2   end                   287829 non-null  object \n",
      " 3   COGS                  18257 non-null   float64\n",
      " 4   amort                 279789 non-null  float64\n",
      " 5   curr_assets           287698 non-null  float64\n",
      " 6   curr_liab             287698 non-null  float64\n",
      " 7   extra_exp             269300 non-null  float64\n",
      " 8   extra_inc             269300 non-null  float64\n",
      " 9   extra_profit_loss     270626 non-null  float64\n",
      " 10  finished_prod         17485 non-null   float64\n",
      " 11  fixed_assets          287698 non-null  float64\n",
      " 12  inc_bef_tax           280392 non-null  float64\n",
      " 13  intang_assets         287689 non-null  float64\n",
      " 14  inventories           287698 non-null  float64\n",
      " 15  liq_assets            287698 non-null  float64\n",
      " 16  material_exp          279789 non-null  float64\n",
      " 17  net_dom_sales         18257 non-null   float64\n",
      " 18  net_exp_sales         18257 non-null   float64\n",
      " 19  personnel_exp         279789 non-null  float64\n",
      " 20  profit_loss_year      277945 non-null  float64\n",
      " 21  sales                 280392 non-null  float64\n",
      " 22  share_eq              287698 non-null  float64\n",
      " 23  subscribed_cap        287698 non-null  float64\n",
      " 24  tang_assets           286359 non-null  float64\n",
      " 25  wages                 17983 non-null   float64\n",
      " 26  D                     0 non-null       float64\n",
      " 27  balsheet_flag         287829 non-null  int64  \n",
      " 28  balsheet_length       287829 non-null  int64  \n",
      " 29  balsheet_notfullyear  287829 non-null  int64  \n",
      " 30  year                  287829 non-null  int64  \n",
      " 31  founded_year          231372 non-null  float64\n",
      " 32  exit_year             38859 non-null   float64\n",
      " 33  ceo_count             231402 non-null  float64\n",
      " 34  foreign               231402 non-null  float64\n",
      " 35  female                231402 non-null  float64\n",
      " 36  birth_year            176011 non-null  float64\n",
      " 37  inoffice_days         231402 non-null  float64\n",
      " 38  gender                231402 non-null  object \n",
      " 39  origin                231402 non-null  object \n",
      " 40  nace_main             286791 non-null  float64\n",
      " 41  ind2                  286791 non-null  float64\n",
      " 42  ind                   278060 non-null  float64\n",
      " 43  urban_m               287829 non-null  int64  \n",
      " 44  region_m              286989 non-null  object \n",
      " 45  founded_date          287778 non-null  object \n",
      " 46  exit_date             56180 non-null   object \n",
      " 47  labor_avg             141297 non-null  float64\n",
      "dtypes: float64(36), int64(5), object(7)\n",
      "memory usage: 105.4+ MB\n"
     ]
    }
   ],
   "source": [
    "data.info()"
   ]
  },
  {
   "cell_type": "markdown",
   "id": "e4b2aef6-cba3-4d57-bbf6-00ea0560e083",
   "metadata": {},
   "source": [
    "# 2. Data Handling"
   ]
  },
  {
   "cell_type": "markdown",
   "id": "feb25509-fe2a-48c0-acc3-830ae8378fe2",
   "metadata": {},
   "source": [
    "## 2.1 Label Engineering"
   ]
  },
  {
   "cell_type": "code",
   "execution_count": 7,
   "id": "1d8be2a3-d5b1-48c8-83b9-57e641cbf264",
   "metadata": {
    "tags": []
   },
   "outputs": [],
   "source": [
    "# add all missing year and comp_id combinations\n",
    "data = (\n",
    "    data.set_index([\"year\", \"comp_id\"])\n",
    "    .unstack(fill_value=\"toReplace\")\n",
    "    .stack()\n",
    "    .reset_index()\n",
    ")\n",
    "data = data.replace(\"toReplace\", np.nan)  # only way I could define it as NaN"
   ]
  },
  {
   "cell_type": "markdown",
   "id": "8cd99c06-36b0-4dac-a756-414dfc7aef75",
   "metadata": {},
   "source": [
    "### 2.1.1 Create default flag"
   ]
  },
  {
   "cell_type": "code",
   "execution_count": 8,
   "id": "d2825597-1d46-49cb-a1d5-9e2bc368f0f1",
   "metadata": {
    "tags": []
   },
   "outputs": [],
   "source": [
    "# generate status_alive; if sales larger than zero and not-NA, then firm is alive\n",
    "data[\"status_alive\"] = (data[\"sales\"] > 0 & (False == data[\"sales\"].isna())).astype(int)\n",
    "\n",
    "# defaults in two years if there are sales in this year but no sales two years later\n",
    "# Status_in_two_years: data.groupby('comp_id')['status_alive'].shift(-2)\n",
    "data[\"default\"] = (\n",
    "    (data[\"status_alive\"] == 1)\n",
    "    & (data.groupby(\"comp_id\")[\"status_alive\"].shift(-1) == 0)\n",
    ").astype(int)"
   ]
  },
  {
   "cell_type": "code",
   "execution_count": 9,
   "id": "4dfbb06b-8df9-4222-93d8-8f2cb75eb04d",
   "metadata": {
    "tags": []
   },
   "outputs": [],
   "source": [
    "data[\"sales\"] = np.where(\n",
    "    data[\"sales\"] < 0, 1, data[\"sales\"]\n",
    ")  # has to be outside of assin()\n",
    "data = data.assign(\n",
    "    ln_sales=np.where(\n",
    "        data[\"sales\"] > 0,\n",
    "        np.log(data[\"sales\"]),\n",
    "        (np.where(data[\"sales\"].isna(), np.nan, 0)),\n",
    "    ),  # NaN remain NaN\n",
    "    sales_mil=data[\"sales\"] / 1000000,\n",
    "    sales_mil_log=np.where(\n",
    "        data[\"sales\"] > 0,\n",
    "        np.log(data[\"sales\"] / 1000000),\n",
    "        (np.where(data[\"sales\"].isna(), np.nan, 0)),\n",
    "    ),\n",
    ")"
   ]
  },
  {
   "cell_type": "code",
   "execution_count": 10,
   "id": "aabf0155-d275-4ff7-b5e7-733f198b981d",
   "metadata": {
    "tags": []
   },
   "outputs": [],
   "source": [
    "data[\"d1_sales_mil_log\"] = data[\"sales_mil_log\"] - data.groupby(\"comp_id\")[\n",
    "    \"sales_mil_log\"\n",
    "].shift(1)"
   ]
  },
  {
   "cell_type": "code",
   "execution_count": 11,
   "id": "1250635b-e194-4763-b3f8-254a6cee8ac2",
   "metadata": {
    "tags": []
   },
   "outputs": [],
   "source": [
    "# replace w 0 for new firms + add dummy to capture it\n",
    "data[\"age\"] = np.where(\n",
    "    data[\"year\"] - data[\"founded_year\"] < 0, 0, data[\"year\"] - data[\"founded_year\"]\n",
    ")\n",
    "data[\"new\"] = np.where(\n",
    "    ((data[\"age\"] <= 1) | (data[\"balsheet_notfullyear\"] == 1)),\n",
    "    1,\n",
    "    (np.where(data[\"age\"].isna(), np.nan, 0)),\n",
    ")\n",
    "data[\"d1_sales_mil_log\"] = np.where(\n",
    "    data[\"new\"] == 1, 0, np.where(data[\"new\"].isna(), np.nan, data[\"d1_sales_mil_log\"])\n",
    ")\n",
    "data[\"new\"] = np.where(data[\"d1_sales_mil_log\"].isna(), 1, data[\"new\"])\n",
    "data[\"d1_sales_mil_log\"] = np.where(\n",
    "    data[\"d1_sales_mil_log\"].isna(), 0, data[\"d1_sales_mil_log\"]\n",
    ")"
   ]
  },
  {
   "cell_type": "markdown",
   "id": "663a75f2-1df5-4751-b7f6-47c5b7254ec2",
   "metadata": {},
   "source": [
    "## 2.2 Feature Engineering"
   ]
  },
  {
   "cell_type": "markdown",
   "id": "a61278a4-4708-4638-9aa6-4b48c8396746",
   "metadata": {},
   "source": [
    "### 2.2.1 Dealing with Industry Codes"
   ]
  },
  {
   "cell_type": "code",
   "execution_count": 12,
   "id": "ab237996-4d6c-4a41-9738-9769ae10a39f",
   "metadata": {
    "tags": []
   },
   "outputs": [],
   "source": [
    "# change some industry category codes\n",
    "data[\"ind2_cat\"] = data[\"ind2\"].copy()\n",
    "data[\"ind2_cat\"] = np.where(data[\"ind2\"] > 56, 60, data[\"ind2_cat\"])\n",
    "data[\"ind2_cat\"] = np.where(data[\"ind2\"] < 26, 20, data[\"ind2_cat\"])\n",
    "data[\"ind2_cat\"] = np.where(\n",
    "    (data[\"ind2\"] < 55) & (data[\"ind2\"] > 35), 40, data[\"ind2_cat\"]\n",
    ")\n",
    "data[\"ind2_cat\"] = np.where(data[\"ind2\"] == 31, 30, data[\"ind2_cat\"])\n",
    "data[\"ind2_cat\"] = np.where(data[\"ind2\"].isna(), 99, data[\"ind2_cat\"])"
   ]
  },
  {
   "cell_type": "code",
   "execution_count": 13,
   "id": "5fbde083-8223-417b-9793-1dae1a057daf",
   "metadata": {
    "tags": []
   },
   "outputs": [
    {
     "data": {
      "text/plain": [
       "ind2_cat\n",
       "20.0       675\n",
       "26.0     14877\n",
       "27.0      9116\n",
       "28.0     26098\n",
       "29.0      4379\n",
       "30.0      2499\n",
       "32.0      1820\n",
       "33.0     21839\n",
       "35.0         6\n",
       "40.0      2766\n",
       "55.0     33756\n",
       "56.0    165521\n",
       "60.0      3439\n",
       "99.0    270153\n",
       "Name: comp_id, dtype: int64"
      ]
     },
     "execution_count": 13,
     "metadata": {},
     "output_type": "execute_result"
    }
   ],
   "source": [
    "data.groupby(\"ind2_cat\").count()[\"comp_id\"]"
   ]
  },
  {
   "cell_type": "code",
   "execution_count": 14,
   "id": "6acfbd74-e139-427e-9385-43c3807a23e7",
   "metadata": {
    "tags": []
   },
   "outputs": [],
   "source": [
    "# Firm characteristics\n",
    "data[\"age2\"] = data[\"age\"] ** 2\n",
    "data[\"foreign_management\"] = np.where(\n",
    "    data[\"foreign\"] >= 0.5, 1, np.where(data[\"foreign\"].isna(), np.nan, 0)\n",
    ")\n",
    "data[\"gender_m\"] = data[\"gender\"].astype(\"category\")\n",
    "data[\"m_region_loc\"] = data[\"region_m\"].astype(\"category\")"
   ]
  },
  {
   "cell_type": "markdown",
   "id": "1d4e182c-dc97-413c-baaf-82f9d70acbf9",
   "metadata": {},
   "source": [
    "### 2.2.2 Handling assets"
   ]
  },
  {
   "cell_type": "code",
   "execution_count": 15,
   "id": "8bbb77f6-2e11-4bdc-8a41-6a4cb9932466",
   "metadata": {
    "tags": []
   },
   "outputs": [
    {
     "data": {
      "text/plain": [
       "flag_asset_problem\n",
       "0.0    287466\n",
       "1.0       223\n",
       "Name: comp_id, dtype: int64"
      ]
     },
     "execution_count": 15,
     "metadata": {},
     "output_type": "execute_result"
    }
   ],
   "source": [
    "# assets can't be negative. Change them to 0 and add a flag.\n",
    "data[\"flag_asset_problem\"] = np.where(\n",
    "    (\n",
    "        (data[\"intang_assets\"] < 0)\n",
    "        | (data[\"curr_assets\"] < 0)\n",
    "        | (data[\"fixed_assets\"] < 0)\n",
    "    ),\n",
    "    1,\n",
    "    0,\n",
    ")\n",
    "data[\"flag_asset_problem\"] = np.where(\n",
    "    (\n",
    "        (data[\"intang_assets\"].isna())\n",
    "        | (data[\"curr_assets\"].isna())\n",
    "        | (data[\"fixed_assets\"].isna())\n",
    "    ),\n",
    "    np.nan,\n",
    "    data[\"flag_asset_problem\"],\n",
    ")\n",
    "data.groupby(\"flag_asset_problem\").count()[\"comp_id\"]"
   ]
  },
  {
   "cell_type": "code",
   "execution_count": 16,
   "id": "d9d1ac8e-b6a8-42af-9ded-faac08f29eda",
   "metadata": {
    "tags": []
   },
   "outputs": [],
   "source": [
    "data[\"intang_assets\"] = np.where(data[\"intang_assets\"] < 0, 0, data[\"intang_assets\"])\n",
    "data[\"curr_assets\"] = np.where(data[\"curr_assets\"] < 0, 0, data[\"curr_assets\"])\n",
    "data[\"fixed_assets\"] = np.where(data[\"fixed_assets\"] < 0, 0, data[\"fixed_assets\"])"
   ]
  },
  {
   "cell_type": "code",
   "execution_count": 17,
   "id": "a6238cbd-8c76-4a5a-9dab-b8fa83013069",
   "metadata": {
    "tags": []
   },
   "outputs": [
    {
     "data": {
      "text/plain": [
       "count    2.876890e+05\n",
       "mean     5.980575e+05\n",
       "std      2.623770e+07\n",
       "min      0.000000e+00\n",
       "25%      4.792593e+03\n",
       "50%      2.024815e+04\n",
       "75%      8.810741e+04\n",
       "max      1.032471e+10\n",
       "Name: total_assets_bs, dtype: float64"
      ]
     },
     "execution_count": 17,
     "metadata": {},
     "output_type": "execute_result"
    }
   ],
   "source": [
    "# generate total assets\n",
    "data[\"total_assets_bs\"] = (\n",
    "    data[\"intang_assets\"] + data[\"curr_assets\"] + data[\"fixed_assets\"]\n",
    ")\n",
    "data[\"total_assets_bs\"].describe()"
   ]
  },
  {
   "cell_type": "markdown",
   "id": "70b3086f-6d89-40c7-8c69-d49646113bbf",
   "metadata": {},
   "source": [
    "### 2.2.3 Handling pl and bs"
   ]
  },
  {
   "cell_type": "code",
   "execution_count": 18,
   "id": "7fb2b9ab-2672-41d1-86f4-a6484018023d",
   "metadata": {
    "tags": []
   },
   "outputs": [],
   "source": [
    "pl_names = [\n",
    "    \"extra_exp\",\n",
    "    \"extra_inc\",\n",
    "    \"extra_profit_loss\",\n",
    "    \"inc_bef_tax\",\n",
    "    \"inventories\",\n",
    "    \"material_exp\",\n",
    "    \"profit_loss_year\",\n",
    "    \"personnel_exp\",\n",
    "]\n",
    "bs_names = [\n",
    "    \"intang_assets\",\n",
    "    \"curr_liab\",\n",
    "    \"fixed_assets\",\n",
    "    \"liq_assets\",\n",
    "    \"curr_assets\",\n",
    "    \"share_eq\",\n",
    "    \"subscribed_cap\",\n",
    "    \"tang_assets\",\n",
    "]\n"
   ]
  },
  {
   "cell_type": "code",
   "execution_count": 19,
   "id": "f8d00422-688a-4503-af35-c3ea7673708c",
   "metadata": {
    "tags": []
   },
   "outputs": [],
   "source": [
    "# divide all pl_names elements by sales and create new column for it\n",
    "data[[col + \"_pl\" for col in pl_names]] = data[pl_names].div(\n",
    "    data[\"sales\"], axis=\"index\"\n",
    ")"
   ]
  },
  {
   "cell_type": "code",
   "execution_count": 20,
   "id": "33eda842-48f4-4cb5-b390-84c620ab0f85",
   "metadata": {
    "tags": []
   },
   "outputs": [],
   "source": [
    "# divide all bs_names elements by total_assets_bs and create new column for it\n",
    "data[[col + \"_bs\" for col in bs_names]] = (\n",
    "    data[bs_names]\n",
    "    .div(data[\"total_assets_bs\"], axis=\"index\")\n",
    "    .replace((np.inf, -np.inf, np.nan), (0, 0, 0))\n",
    ")\n",
    "# get Nan values where total_assets_bs is NaN\n",
    "for col in bs_names:\n",
    "    data[col + \"_bs\"] = np.where(\n",
    "        data[\"total_assets_bs\"].isna(), np.nan, data[col + \"_bs\"]\n",
    "    )"
   ]
  },
  {
   "cell_type": "markdown",
   "id": "84075ccc-9d82-4698-99a5-23c8053741a5",
   "metadata": {},
   "source": [
    "### 2.2.4 Winsoring Tails, creating flags"
   ]
  },
  {
   "cell_type": "code",
   "execution_count": 21,
   "id": "95eeabf2-4d2f-40fe-88d0-f379bdb924c7",
   "metadata": {
    "tags": []
   },
   "outputs": [],
   "source": [
    "# Variables that represent accounting items that cannot be negative (e.g. materials)\n",
    "zero = [\n",
    "    \"extra_exp_pl\",\n",
    "    \"extra_inc_pl\",\n",
    "    \"inventories_pl\",\n",
    "    \"material_exp_pl\",\n",
    "    \"personnel_exp_pl\",\n",
    "    \"curr_liab_bs\",\n",
    "    \"fixed_assets_bs\",\n",
    "    \"liq_assets_bs\",\n",
    "    \"curr_assets_bs\",\n",
    "    \"subscribed_cap_bs\",\n",
    "    \"intang_assets_bs\",\n",
    "]\n",
    "\n",
    "data[[col + \"_flag_high\" for col in zero]] = np.where(\n",
    "    data[zero].isna(), np.nan, (data[zero] > 1).astype(int)\n",
    ")\n",
    "data[[col for col in zero]] = np.where(\n",
    "    data[zero].isna(), np.nan, np.where(data[zero] > 1, 1, data[zero])\n",
    ")\n",
    "data[[col + \"_flag_error\" for col in zero]] = np.where(\n",
    "    data[zero].isna(), np.nan, (data[zero] < 0).astype(int)\n",
    ")\n",
    "data[[col for col in zero]] = np.where(\n",
    "    data[zero].isna(), np.nan, np.where(data[zero] < 0, 0, data[zero])\n",
    ")"
   ]
  },
  {
   "cell_type": "code",
   "execution_count": 22,
   "id": "a6600d66-35a7-4002-b4b1-106609ecdff2",
   "metadata": {
    "tags": []
   },
   "outputs": [],
   "source": [
    "# for vars that could be any, but are mostly between -1 and 1\n",
    "anyof = [\"extra_profit_loss_pl\", \"inc_bef_tax_pl\", \"profit_loss_year_pl\", \"share_eq_bs\"]\n",
    "\n",
    "data[[col + \"_flag_low\" for col in anyof]] = np.where(\n",
    "    data[anyof].isna(), np.nan, (data[anyof] < -1).astype(int)\n",
    ")\n",
    "data[[col for col in anyof]] = np.where(\n",
    "    data[anyof].isna(), np.nan, np.where((data[anyof] < -1), -1, data[anyof])\n",
    ")\n",
    "data[[col + \"_flag_high\" for col in anyof]] = np.where(\n",
    "    data[anyof].isna(), np.nan, (data[anyof] > 1).astype(int)\n",
    ")\n",
    "data[[col for col in anyof]] = np.where(\n",
    "    data[anyof].isna(), np.nan, np.where((data[anyof] > 1), 1, data[anyof])\n",
    ")\n",
    "data[[col + \"_flag_zero\" for col in anyof]] = np.where(\n",
    "    data[anyof].isna(), np.nan, (data[anyof] == 0).astype(int)\n",
    ")\n",
    "data[[col + \"_quad\" for col in anyof]] = np.where(\n",
    "    data[anyof].isna(), np.nan, data[anyof] ** 2\n",
    ")\n"
   ]
  },
  {
   "cell_type": "code",
   "execution_count": 23,
   "id": "c266afb6-257e-4444-b1a2-a15a8856c99e",
   "metadata": {
    "tags": []
   },
   "outputs": [],
   "source": [
    "# dropping flags with no variation\n",
    "flag_columns = [col for col in data.columns if \"flag\" in col]\n",
    "data = data.drop(\n",
    "    data[flag_columns].std()[(data[flag_columns].std() == 0)].index, axis=1\n",
    ")"
   ]
  },
  {
   "cell_type": "markdown",
   "id": "26d5ae64-52ac-4736-a5ff-d86697ccb9b4",
   "metadata": {},
   "source": [
    "### 2.2.5 Handling additional variables"
   ]
  },
  {
   "cell_type": "code",
   "execution_count": 24,
   "id": "4eccad1a-f659-4272-86e2-9044883e37c5",
   "metadata": {
    "tags": []
   },
   "outputs": [],
   "source": [
    "# CEO age\n",
    "data[\"ceo_age\"] = data[\"year\"] - data[\"birth_year\"]\n",
    "data = data.assign(\n",
    "    flag_low_ceo_age=(data[\"ceo_age\"] < 25).astype(int),\n",
    "    flag_high_ceo_age=(data[\"ceo_age\"] > 75).astype(int),\n",
    "    flag_miss_ceo_age=(data[\"ceo_age\"].isna()).astype(int),\n",
    ")\n",
    "\n",
    "\n",
    "data[\"ceo_age\"] = np.where(data[\"ceo_age\"] < 25, 25, data[\"ceo_age\"])\n",
    "data[\"ceo_age\"] = np.where(data[\"ceo_age\"] > 75, 75, data[\"ceo_age\"])\n",
    "data[\"ceo_age\"] = np.where(\n",
    "    data[\"ceo_age\"].isna(), data[\"ceo_age\"].mean(), data[\"ceo_age\"]\n",
    ")\n",
    "data[\"ceo_young\"] = (data[\"ceo_age\"] < 40).astype(int)\n"
   ]
  },
  {
   "cell_type": "code",
   "execution_count": 25,
   "id": "4a554378-188e-4209-9e99-3eabead184ca",
   "metadata": {
    "tags": []
   },
   "outputs": [],
   "source": [
    "# number emp, very noisy measure\n",
    "data[\"labor_avg_mod\"] = np.where(\n",
    "    data[\"labor_avg\"].isna(), data[\"labor_avg\"].mean(), data[\"labor_avg\"]\n",
    ")\n",
    "data[\"flag_miss_labor_avg\"] = (data[\"labor_avg\"].isna()).astype(int)"
   ]
  },
  {
   "cell_type": "code",
   "execution_count": 26,
   "id": "fa303892-f9d8-4934-ad7b-5ceab6c616c5",
   "metadata": {
    "tags": []
   },
   "outputs": [],
   "source": [
    "data = data.drop([\"labor_avg\"], axis=1)"
   ]
  },
  {
   "cell_type": "code",
   "execution_count": 27,
   "id": "1d8e2eac-8b17-410b-9072-ffe6a190f731",
   "metadata": {
    "tags": []
   },
   "outputs": [],
   "source": [
    "# create category type variables\n",
    "data[\"urban_m\"] = data[\"urban_m\"].astype(\"category\")\n",
    "data[\"ind2_cat\"] = data[\"ind2_cat\"].astype(\"category\")\n",
    "data[\"default_f\"] = data[\"default\"].astype(\"category\")\n",
    "data[\"default_f\"] = data[\"default_f\"].cat.rename_categories([\"no_default\", \"default\"])\n"
   ]
  },
  {
   "cell_type": "markdown",
   "id": "09f2f772-35c4-404b-91d5-53877ffae524",
   "metadata": {},
   "source": [
    "### 2.2.5 Sale and related visualization"
   ]
  },
  {
   "cell_type": "code",
   "execution_count": 28,
   "id": "f3575de0-c4d4-4f4c-abf5-5325be5c0104",
   "metadata": {
    "tags": []
   },
   "outputs": [],
   "source": [
    "data[\"sales_mil_log_sq\"] = data[\"sales_mil_log\"] ** 2"
   ]
  },
  {
   "cell_type": "code",
   "execution_count": 29,
   "id": "3457f0cb-1e97-4dc9-b9a0-0f8ea728f9fd",
   "metadata": {
    "tags": []
   },
   "outputs": [
    {
     "data": {
      "image/png": "[encoded data removed]",
      "text/plain": [
       "<Figure size 640x480 with 1 Axes>"
      ]
     },
     "metadata": {
      "image/png": {
       "height": 480,
       "width": 640
      }
     },
     "output_type": "display_data"
    },
    {
     "data": {
      "text/plain": [
       "<Figure Size: (640 x 480)>"
      ]
     },
     "execution_count": 29,
     "metadata": {},
     "output_type": "execute_result"
    }
   ],
   "source": [
    "(\n",
    "    ggplot(data, aes(x=\"sales_mil_log\", y=\"default\"))\n",
    "    + geom_point(color=\"#214459\")\n",
    "    + geom_smooth(method=\"lm\", formula=\"y ~ x + I(x**2)\", color=\"#3498db\", se=False)\n",
    "    + geom_smooth(method=\"loess\", color=\"#e74c3c\", se=False, size=1.5, span=0.9)\n",
    "    + labs(x=\"sales_mil_log\", y=\"default\")\n",
    "    + theme_bw()\n",
    ")"
   ]
  },
  {
   "cell_type": "markdown",
   "id": "0a76cfaf-d09c-4056-960a-54a03358274a",
   "metadata": {},
   "source": [
    "# 3. Splitting into train and holdout"
   ]
  },
  {
   "cell_type": "markdown",
   "id": "cbc5ac15-3089-4c96-acb9-7020b21d4b59",
   "metadata": {},
   "source": [
    "## 3.1 Creating TRAIN set"
   ]
  },
  {
   "cell_type": "code",
   "execution_count": 30,
   "id": "3b0d2558-0d68-4705-8313-e3be96f4e5d6",
   "metadata": {
    "tags": []
   },
   "outputs": [
    {
     "data": {
      "text/plain": [
       "417708"
      ]
     },
     "execution_count": 30,
     "metadata": {},
     "output_type": "execute_result"
    }
   ],
   "source": [
    "data_train = data[data['year'] < 2014]\n",
    "\n",
    "len(data_train)"
   ]
  },
  {
   "cell_type": "code",
   "execution_count": 31,
   "id": "be05ced1-8020-40c2-9020-590179e57417",
   "metadata": {
    "tags": []
   },
   "outputs": [
    {
     "data": {
      "text/plain": [
       "year                        0\n",
       "comp_id                     0\n",
       "begin                  195279\n",
       "end                    195279\n",
       "COGS                   402120\n",
       "                        ...  \n",
       "ceo_young                   0\n",
       "labor_avg_mod               0\n",
       "flag_miss_labor_avg         0\n",
       "default_f                   0\n",
       "sales_mil_log_sq       202589\n",
       "Length: 119, dtype: int64"
      ]
     },
     "execution_count": 31,
     "metadata": {},
     "output_type": "execute_result"
    }
   ],
   "source": [
    "# Calculate missing values for each variable\n",
    "missing_values = data_train.isnull().sum()\n",
    "\n",
    "missing_values"
   ]
  },
  {
   "cell_type": "markdown",
   "id": "4670b140-f41c-4dc5-9043-aac4933a1572",
   "metadata": {},
   "source": [
    "## 3.2 Creating HOLDOUT set"
   ]
  },
  {
   "cell_type": "code",
   "execution_count": 32,
   "id": "19fd5559-f432-4eae-96d4-1396fb232440",
   "metadata": {
    "tags": []
   },
   "outputs": [
    {
     "name": "stdout",
     "output_type": "stream",
     "text": [
      "default\n",
      "0    981\n",
      "1     56\n",
      "Name: count, dtype: int64\n"
     ]
    },
    {
     "data": {
      "text/plain": [
       "1037"
      ]
     },
     "execution_count": 32,
     "metadata": {},
     "output_type": "execute_result"
    }
   ],
   "source": [
    "data_holdout = data[(data['ind2'] == 26) & \n",
    "                 (data['year'] == 2014) & \n",
    "                 (data['sales'] >= 1000) & \n",
    "                 (data['sales'] <= 10000000)]\n",
    "\n",
    "data_holdout['year'].value_counts()\n",
    "\n",
    "print(data_holdout['default'].value_counts())\n",
    "\n",
    "len(data_holdout)"
   ]
  },
  {
   "cell_type": "code",
   "execution_count": 33,
   "id": "84e6293f-039b-4075-b51c-cd2c6783742a",
   "metadata": {
    "tags": []
   },
   "outputs": [
    {
     "data": {
      "text/plain": [
       "year                     0\n",
       "comp_id                  0\n",
       "begin                    0\n",
       "end                      0\n",
       "COGS                   948\n",
       "                      ... \n",
       "ceo_young                0\n",
       "labor_avg_mod            0\n",
       "flag_miss_labor_avg      0\n",
       "default_f                0\n",
       "sales_mil_log_sq         0\n",
       "Length: 119, dtype: int64"
      ]
     },
     "execution_count": 33,
     "metadata": {},
     "output_type": "execute_result"
    }
   ],
   "source": [
    "# Calculate missing values for each variable\n",
    "missing_values = data_holdout.isnull().sum()\n",
    "\n",
    "missing_values"
   ]
  },
  {
   "cell_type": "code",
   "execution_count": 34,
   "id": "5825a66e-9a9d-4055-8fbb-8c9b3d604ca2",
   "metadata": {
    "scrolled": true,
    "tags": []
   },
   "outputs": [
    {
     "data": {
      "text/html": [
       "<div>\n",
       "<style scoped>\n",
       "    .dataframe tbody tr th:only-of-type {\n",
       "        vertical-align: middle;\n",
       "    }\n",
       "\n",
       "    .dataframe tbody tr th {\n",
       "        vertical-align: top;\n",
       "    }\n",
       "\n",
       "    .dataframe thead th {\n",
       "        text-align: right;\n",
       "    }\n",
       "</style>\n",
       "<table border=\"1\" class=\"dataframe\">\n",
       "  <thead>\n",
       "    <tr style=\"text-align: right;\">\n",
       "      <th></th>\n",
       "      <th>count</th>\n",
       "      <th>mean</th>\n",
       "      <th>std</th>\n",
       "      <th>min</th>\n",
       "      <th>25%</th>\n",
       "      <th>50%</th>\n",
       "      <th>75%</th>\n",
       "      <th>max</th>\n",
       "    </tr>\n",
       "  </thead>\n",
       "  <tbody>\n",
       "    <tr>\n",
       "      <th>year</th>\n",
       "      <td>1037.0</td>\n",
       "      <td>2.014000e+03</td>\n",
       "      <td>0.000000e+00</td>\n",
       "      <td>2.014000e+03</td>\n",
       "      <td>2.014000e+03</td>\n",
       "      <td>2.014000e+03</td>\n",
       "      <td>2.014000e+03</td>\n",
       "      <td>2.014000e+03</td>\n",
       "    </tr>\n",
       "    <tr>\n",
       "      <th>comp_id</th>\n",
       "      <td>1037.0</td>\n",
       "      <td>1.550474e+11</td>\n",
       "      <td>1.358914e+11</td>\n",
       "      <td>6.538183e+06</td>\n",
       "      <td>3.413414e+10</td>\n",
       "      <td>1.205030e+11</td>\n",
       "      <td>2.552776e+11</td>\n",
       "      <td>4.628231e+11</td>\n",
       "    </tr>\n",
       "    <tr>\n",
       "      <th>COGS</th>\n",
       "      <td>89.0</td>\n",
       "      <td>2.422399e+05</td>\n",
       "      <td>4.842414e+05</td>\n",
       "      <td>0.000000e+00</td>\n",
       "      <td>0.000000e+00</td>\n",
       "      <td>1.622222e+03</td>\n",
       "      <td>2.587444e+05</td>\n",
       "      <td>2.659767e+06</td>\n",
       "    </tr>\n",
       "    <tr>\n",
       "      <th>amort</th>\n",
       "      <td>1035.0</td>\n",
       "      <td>2.106789e+04</td>\n",
       "      <td>9.177529e+04</td>\n",
       "      <td>0.000000e+00</td>\n",
       "      <td>4.074074e+02</td>\n",
       "      <td>1.918519e+03</td>\n",
       "      <td>8.962963e+03</td>\n",
       "      <td>1.927378e+06</td>\n",
       "    </tr>\n",
       "    <tr>\n",
       "      <th>curr_assets</th>\n",
       "      <td>1037.0</td>\n",
       "      <td>3.347084e+05</td>\n",
       "      <td>2.802615e+06</td>\n",
       "      <td>0.000000e+00</td>\n",
       "      <td>1.231111e+04</td>\n",
       "      <td>3.825555e+04</td>\n",
       "      <td>1.649444e+05</td>\n",
       "      <td>8.808707e+07</td>\n",
       "    </tr>\n",
       "    <tr>\n",
       "      <th>...</th>\n",
       "      <td>...</td>\n",
       "      <td>...</td>\n",
       "      <td>...</td>\n",
       "      <td>...</td>\n",
       "      <td>...</td>\n",
       "      <td>...</td>\n",
       "      <td>...</td>\n",
       "      <td>...</td>\n",
       "    </tr>\n",
       "    <tr>\n",
       "      <th>flag_miss_ceo_age</th>\n",
       "      <td>1037.0</td>\n",
       "      <td>1.099325e-01</td>\n",
       "      <td>3.129565e-01</td>\n",
       "      <td>0.000000e+00</td>\n",
       "      <td>0.000000e+00</td>\n",
       "      <td>0.000000e+00</td>\n",
       "      <td>0.000000e+00</td>\n",
       "      <td>1.000000e+00</td>\n",
       "    </tr>\n",
       "    <tr>\n",
       "      <th>ceo_young</th>\n",
       "      <td>1037.0</td>\n",
       "      <td>1.523626e-01</td>\n",
       "      <td>3.595454e-01</td>\n",
       "      <td>0.000000e+00</td>\n",
       "      <td>0.000000e+00</td>\n",
       "      <td>0.000000e+00</td>\n",
       "      <td>0.000000e+00</td>\n",
       "      <td>1.000000e+00</td>\n",
       "    </tr>\n",
       "    <tr>\n",
       "      <th>labor_avg_mod</th>\n",
       "      <td>1037.0</td>\n",
       "      <td>1.186136e+00</td>\n",
       "      <td>2.895822e+00</td>\n",
       "      <td>8.333334e-02</td>\n",
       "      <td>1.666667e-01</td>\n",
       "      <td>6.250000e-01</td>\n",
       "      <td>1.009435e+00</td>\n",
       "      <td>4.635417e+01</td>\n",
       "    </tr>\n",
       "    <tr>\n",
       "      <th>flag_miss_labor_avg</th>\n",
       "      <td>1037.0</td>\n",
       "      <td>3.008679e-01</td>\n",
       "      <td>4.588567e-01</td>\n",
       "      <td>0.000000e+00</td>\n",
       "      <td>0.000000e+00</td>\n",
       "      <td>0.000000e+00</td>\n",
       "      <td>1.000000e+00</td>\n",
       "      <td>1.000000e+00</td>\n",
       "    </tr>\n",
       "    <tr>\n",
       "      <th>sales_mil_log_sq</th>\n",
       "      <td>1037.0</td>\n",
       "      <td>9.807352e+00</td>\n",
       "      <td>9.917882e+00</td>\n",
       "      <td>1.094577e-04</td>\n",
       "      <td>1.772923e+00</td>\n",
       "      <td>6.871811e+00</td>\n",
       "      <td>1.464880e+01</td>\n",
       "      <td>4.678219e+01</td>\n",
       "    </tr>\n",
       "  </tbody>\n",
       "</table>\n",
       "<p>107 rows × 8 columns</p>\n",
       "</div>"
      ],
      "text/plain": [
       "                      count          mean           std           min  \\\n",
       "year                 1037.0  2.014000e+03  0.000000e+00  2.014000e+03   \n",
       "comp_id              1037.0  1.550474e+11  1.358914e+11  6.538183e+06   \n",
       "COGS                   89.0  2.422399e+05  4.842414e+05  0.000000e+00   \n",
       "amort                1035.0  2.106789e+04  9.177529e+04  0.000000e+00   \n",
       "curr_assets          1037.0  3.347084e+05  2.802615e+06  0.000000e+00   \n",
       "...                     ...           ...           ...           ...   \n",
       "flag_miss_ceo_age    1037.0  1.099325e-01  3.129565e-01  0.000000e+00   \n",
       "ceo_young            1037.0  1.523626e-01  3.595454e-01  0.000000e+00   \n",
       "labor_avg_mod        1037.0  1.186136e+00  2.895822e+00  8.333334e-02   \n",
       "flag_miss_labor_avg  1037.0  3.008679e-01  4.588567e-01  0.000000e+00   \n",
       "sales_mil_log_sq     1037.0  9.807352e+00  9.917882e+00  1.094577e-04   \n",
       "\n",
       "                              25%           50%           75%           max  \n",
       "year                 2.014000e+03  2.014000e+03  2.014000e+03  2.014000e+03  \n",
       "comp_id              3.413414e+10  1.205030e+11  2.552776e+11  4.628231e+11  \n",
       "COGS                 0.000000e+00  1.622222e+03  2.587444e+05  2.659767e+06  \n",
       "amort                4.074074e+02  1.918519e+03  8.962963e+03  1.927378e+06  \n",
       "curr_assets          1.231111e+04  3.825555e+04  1.649444e+05  8.808707e+07  \n",
       "...                           ...           ...           ...           ...  \n",
       "flag_miss_ceo_age    0.000000e+00  0.000000e+00  0.000000e+00  1.000000e+00  \n",
       "ceo_young            0.000000e+00  0.000000e+00  0.000000e+00  1.000000e+00  \n",
       "labor_avg_mod        1.666667e-01  6.250000e-01  1.009435e+00  4.635417e+01  \n",
       "flag_miss_labor_avg  0.000000e+00  0.000000e+00  1.000000e+00  1.000000e+00  \n",
       "sales_mil_log_sq     1.772923e+00  6.871811e+00  1.464880e+01  4.678219e+01  \n",
       "\n",
       "[107 rows x 8 columns]"
      ]
     },
     "execution_count": 34,
     "metadata": {},
     "output_type": "execute_result"
    }
   ],
   "source": [
    "data_holdout.describe().T"
   ]
  },
  {
   "cell_type": "markdown",
   "id": "7e11b91c-019e-400a-aced-b1e013d4cce4",
   "metadata": {},
   "source": [
    "# 4. Cleaning Data"
   ]
  },
  {
   "cell_type": "markdown",
   "id": "32950d40-7f07-4d2a-9bd8-3495e6dc9ad2",
   "metadata": {},
   "source": [
    "## 4.1 Dealing with missing values"
   ]
  },
  {
   "cell_type": "code",
   "execution_count": 35,
   "id": "38d1ba92-55b5-4d87-b728-c87bf263965b",
   "metadata": {
    "tags": []
   },
   "outputs": [
    {
     "data": {
      "text/plain": [
       "year                        0\n",
       "comp_id                     0\n",
       "begin                  195279\n",
       "end                    195279\n",
       "COGS                   402120\n",
       "                        ...  \n",
       "ceo_young                   0\n",
       "labor_avg_mod               0\n",
       "flag_miss_labor_avg         0\n",
       "default_f                   0\n",
       "sales_mil_log_sq       202589\n",
       "Length: 119, dtype: int64"
      ]
     },
     "execution_count": 35,
     "metadata": {},
     "output_type": "execute_result"
    }
   ],
   "source": [
    "# Calculate missing values for each variable\n",
    "missing_values = data_train.isna().sum()\n",
    "\n",
    "missing_values"
   ]
  },
  {
   "cell_type": "code",
   "execution_count": 36,
   "id": "e138414b-8490-4123-a282-acbd569ac34e",
   "metadata": {
    "tags": []
   },
   "outputs": [
    {
     "data": {
      "text/plain": [
       "year                     0\n",
       "comp_id                  0\n",
       "begin                    0\n",
       "end                      0\n",
       "COGS                   948\n",
       "                      ... \n",
       "ceo_young                0\n",
       "labor_avg_mod            0\n",
       "flag_miss_labor_avg      0\n",
       "default_f                0\n",
       "sales_mil_log_sq         0\n",
       "Length: 119, dtype: int64"
      ]
     },
     "execution_count": 36,
     "metadata": {},
     "output_type": "execute_result"
    }
   ],
   "source": [
    "# Calculate missing values for each variable\n",
    "missing_values = data_holdout.isna().sum()\n",
    "\n",
    "missing_values"
   ]
  },
  {
   "cell_type": "code",
   "execution_count": 37,
   "id": "2c3a2d07-5aec-4d3c-936d-17952bfcbd2d",
   "metadata": {
    "tags": []
   },
   "outputs": [
    {
     "name": "stdout",
     "output_type": "stream",
     "text": [
      "['year', 'comp_id', 'begin', 'end', 'COGS', 'amort', 'curr_assets', 'curr_liab', 'extra_exp', 'extra_inc', 'extra_profit_loss', 'finished_prod', 'fixed_assets', 'inc_bef_tax', 'intang_assets', 'inventories', 'liq_assets', 'material_exp', 'net_dom_sales', 'net_exp_sales', 'personnel_exp', 'profit_loss_year', 'sales', 'share_eq', 'subscribed_cap', 'tang_assets', 'wages', 'D', 'balsheet_flag', 'balsheet_length', 'balsheet_notfullyear', 'founded_year', 'exit_year', 'ceo_count', 'foreign', 'female', 'birth_year', 'inoffice_days', 'gender', 'origin', 'nace_main', 'ind2', 'ind', 'urban_m', 'region_m', 'founded_date', 'exit_date', 'status_alive', 'default', 'ln_sales', 'sales_mil', 'sales_mil_log', 'd1_sales_mil_log', 'age', 'new', 'ind2_cat', 'age2', 'foreign_management', 'gender_m', 'm_region_loc', 'flag_asset_problem', 'total_assets_bs', 'extra_exp_pl', 'extra_inc_pl', 'extra_profit_loss_pl', 'inc_bef_tax_pl', 'inventories_pl', 'material_exp_pl', 'profit_loss_year_pl', 'personnel_exp_pl', 'intang_assets_bs', 'curr_liab_bs', 'fixed_assets_bs', 'liq_assets_bs', 'curr_assets_bs', 'share_eq_bs', 'subscribed_cap_bs', 'tang_assets_bs', 'extra_exp_pl_flag_high', 'extra_inc_pl_flag_high', 'inventories_pl_flag_high', 'material_exp_pl_flag_high', 'personnel_exp_pl_flag_high', 'curr_liab_bs_flag_high', 'liq_assets_bs_flag_high', 'subscribed_cap_bs_flag_high', 'extra_exp_pl_flag_error', 'extra_inc_pl_flag_error', 'inventories_pl_flag_error', 'material_exp_pl_flag_error', 'personnel_exp_pl_flag_error', 'curr_liab_bs_flag_error', 'liq_assets_bs_flag_error', 'subscribed_cap_bs_flag_error', 'extra_profit_loss_pl_flag_low', 'inc_bef_tax_pl_flag_low', 'profit_loss_year_pl_flag_low', 'share_eq_bs_flag_low', 'extra_profit_loss_pl_flag_high', 'inc_bef_tax_pl_flag_high', 'profit_loss_year_pl_flag_high', 'share_eq_bs_flag_high', 'extra_profit_loss_pl_flag_zero', 'inc_bef_tax_pl_flag_zero', 'profit_loss_year_pl_flag_zero', 'share_eq_bs_flag_zero', 'extra_profit_loss_pl_quad', 'inc_bef_tax_pl_quad', 'profit_loss_year_pl_quad', 'share_eq_bs_quad', 'ceo_age', 'flag_low_ceo_age', 'flag_high_ceo_age', 'flag_miss_ceo_age', 'ceo_young', 'labor_avg_mod', 'flag_miss_labor_avg', 'default_f', 'sales_mil_log_sq']\n"
     ]
    }
   ],
   "source": [
    "print(list(data_holdout.columns))"
   ]
  },
  {
   "cell_type": "code",
   "execution_count": 38,
   "id": "f1f2aff2-3ff9-49d1-9f97-916893588ef3",
   "metadata": {
    "tags": []
   },
   "outputs": [
    {
     "name": "stdout",
     "output_type": "stream",
     "text": [
      "                       Variable  MissingValuesTrain  MissingValuesHoldout\n",
      "27                            D              417708                  1037\n",
      "32                    exit_year              380493                  1014\n",
      "46                    exit_date              363573                  1012\n",
      "11                finished_prod              402775                   950\n",
      "26                        wages              402350                   949\n",
      "4                          COGS              402120                   948\n",
      "18                net_dom_sales              402120                   948\n",
      "19                net_exp_sales              402120                   948\n",
      "36                   birth_year              296715                   114\n",
      "38                       gender              247851                    31\n",
      "58                     gender_m              247851                    31\n",
      "57           foreign_management              247851                    31\n",
      "56                         age2              247879                    31\n",
      "53                          age              247879                    31\n",
      "39                       origin              247851                    31\n",
      "37                inoffice_days              247851                    31\n",
      "35                       female              247851                    31\n",
      "34                      foreign              247851                    31\n",
      "33                    ceo_count              247851                    31\n",
      "31                 founded_year              247879                    31\n",
      "5                         amort              203064                     2\n",
      "44                     region_m              195929                     2\n",
      "20                personnel_exp              203064                     2\n",
      "17                 material_exp              203064                     2\n",
      "59                 m_region_loc              195929                     2\n",
      "67              material_exp_pl              209903                     2\n",
      "69             personnel_exp_pl              226665                     2\n",
      "81    material_exp_pl_flag_high              209903                     2\n",
      "82   personnel_exp_pl_flag_high              226665                     2\n",
      "89   material_exp_pl_flag_error              209903                     2\n",
      "90  personnel_exp_pl_flag_error              226665                     2\n"
     ]
    }
   ],
   "source": [
    "def compare_missing_values(data_train, data_holdout):\n",
    "    # Calculate missing values for each variable in data_train\n",
    "    missing_values_train = data_train.isnull().sum()\n",
    "\n",
    "    # Calculate missing values for each variable in data_holdout\n",
    "    missing_values_holdout = data_holdout.isnull().sum()\n",
    "\n",
    "    # Convert Series to DataFrame for easier manipulation\n",
    "    df_missing_values_train = missing_values_train.reset_index()\n",
    "    df_missing_values_train.columns = ['Variable', 'MissingValuesTrain']\n",
    "\n",
    "    df_missing_values_holdout = missing_values_holdout.reset_index()\n",
    "    df_missing_values_holdout.columns = ['Variable', 'MissingValuesHoldout']\n",
    "\n",
    "    # Merge the two dataframes on 'Variable' to compare\n",
    "    comparison_df = pd.merge(df_missing_values_train, df_missing_values_holdout, on='Variable')\n",
    "\n",
    "    # Filter to show only variables with missing values in both data_train and data_holdout\n",
    "    comparison_df = comparison_df[(comparison_df['MissingValuesTrain'] > 0) & (comparison_df['MissingValuesHoldout'] > 0)]\n",
    "\n",
    "    # Optionally, sort by 'MissingValuesHoldout' for better visualization\n",
    "    comparison_df.sort_values(by='MissingValuesHoldout', ascending=False, inplace=True)\n",
    "\n",
    "    return comparison_df\n",
    "\n",
    "# Assuming 'data_train' and 'data_holdout' are your DataFrame subsets\n",
    "# Now you can call the function with your datasets\n",
    "comparison_df = compare_missing_values(data_train, data_holdout)\n",
    "\n",
    "# Print the comparison DataFrame\n",
    "print(comparison_df)"
   ]
  },
  {
   "cell_type": "markdown",
   "id": "d9883863-3d4e-4077-a093-bd5b8e2c9a5f",
   "metadata": {},
   "source": [
    "Based on these  findings, it seems to be a good idea to remove `D`, `COGS`, `finished_prod`, `wages`,\n",
    "`net_dom_sales`, and `net_exp_sales`\n"
   ]
  },
  {
   "cell_type": "code",
   "execution_count": 39,
   "id": "eac0277d-aa13-4fcc-b31c-7991f043a49c",
   "metadata": {
    "tags": []
   },
   "outputs": [],
   "source": [
    "# Dropping the columns with too many missing values in the original data\n",
    "data_train = data_train.drop(columns = ['D', \n",
    "                            'COGS',\n",
    "                            'finished_prod', \n",
    "                            'wages', \n",
    "                            'net_dom_sales', \n",
    "                            'net_exp_sales'])"
   ]
  },
  {
   "cell_type": "code",
   "execution_count": 40,
   "id": "4812f115-c088-49a6-9cda-2b34804c1341",
   "metadata": {
    "tags": []
   },
   "outputs": [],
   "source": [
    "# Dropping the columns with too many missing values in the holdout data\n",
    "data_holdout = data_holdout.drop(columns = ['D', \n",
    "                            'finished_prod',\n",
    "                            'COGS'                \n",
    "                            'wages', \n",
    "                            'net_dom_sales', \n",
    "                            'net_exp_sales'])"
   ]
  },
  {
   "cell_type": "code",
   "execution_count": 41,
   "id": "b2f92443-6bd4-4f57-a99f-f7842c9f04a6",
   "metadata": {
    "tags": []
   },
   "outputs": [
    {
     "name": "stdout",
     "output_type": "stream",
     "text": [
      "                       Variable  MissingValuesTrain  MissingValuesHoldout\n",
      "26                    exit_year              380493                  1014\n",
      "40                    exit_date              363573                  1012\n",
      "30                   birth_year              296715                   114\n",
      "31                inoffice_days              247851                    31\n",
      "47                          age              247879                    31\n",
      "52                     gender_m              247851                    31\n",
      "25                 founded_year              247879                    31\n",
      "27                    ceo_count              247851                    31\n",
      "28                      foreign              247851                    31\n",
      "29                       female              247851                    31\n",
      "51           foreign_management              247851                    31\n",
      "32                       gender              247851                    31\n",
      "33                       origin              247851                    31\n",
      "50                         age2              247879                    31\n",
      "4                         amort              203064                     2\n",
      "76   personnel_exp_pl_flag_high              226665                     2\n",
      "63             personnel_exp_pl              226665                     2\n",
      "83   material_exp_pl_flag_error              209903                     2\n",
      "75    material_exp_pl_flag_high              209903                     2\n",
      "38                     region_m              195929                     2\n",
      "61              material_exp_pl              209903                     2\n",
      "53                 m_region_loc              195929                     2\n",
      "15                 material_exp              203064                     2\n",
      "16                personnel_exp              203064                     2\n",
      "84  personnel_exp_pl_flag_error              226665                     2\n"
     ]
    }
   ],
   "source": [
    "comparison_df = compare_missing_values(data_train, data_holdout)\n",
    "\n",
    "# Print the comparison DataFrame\n",
    "print(comparison_df)"
   ]
  },
  {
   "cell_type": "markdown",
   "id": "676638f0-99ee-4efa-a5d6-0e11630bc822",
   "metadata": {},
   "source": [
    "## 4.2 Dealing with 0 values"
   ]
  },
  {
   "cell_type": "code",
   "execution_count": 42,
   "id": "c2696f7d-1b81-4d0d-926c-fd7cb24fa5ed",
   "metadata": {
    "tags": []
   },
   "outputs": [],
   "source": [
    "# Assuming 'data_train' and 'data_holdout' are your DataFrame variables\n",
    "# For numerical variables (mean/median imputation)\n",
    "for column in ['inoffice_days', 'age', 'age2', 'ceo_count', 'amort']:\n",
    "    data_train[column].fillna(data_train[column].median(), inplace=True)\n",
    "    data_holdout[column].fillna(data_holdout[column].median(), inplace=True)\n"
   ]
  },
  {
   "cell_type": "code",
   "execution_count": 43,
   "id": "d954ff3e-0a0e-4256-9d6d-1ad2b24abca3",
   "metadata": {
    "tags": []
   },
   "outputs": [],
   "source": [
    "# For categorical variables (mode imputation or placeholder)\n",
    "for column in ['gender_m', 'gender', 'origin', 'region_m', 'm_region_loc']:\n",
    "    mode_train = data_train[column].mode().iloc[0]\n",
    "    mode_holdout = data_holdout[column].mode().iloc[0]\n",
    "    data_train[column].fillna(mode_train, inplace=True)\n",
    "    data_holdout[column].fillna(mode_holdout, inplace=True)"
   ]
  },
  {
   "cell_type": "code",
   "execution_count": 44,
   "id": "d3aaa8e6-cf90-45b9-b805-e48885bd51b1",
   "metadata": {},
   "outputs": [],
   "source": [
    "# For 'foreign' and 'foreign_management', assuming binary/flag nature\n",
    "for column in ['foreign', 'foreign_management']:\n",
    "    data_train[column].fillna(0, inplace=True) # Assuming 0 indicates absence\n",
    "    data_holdout[column].fillna(0, inplace=True)\n"
   ]
  },
  {
   "cell_type": "markdown",
   "id": "6b7faafc-1071-4caf-a5e5-1fdb6deb6bff",
   "metadata": {},
   "source": [
    "# 5. Define variables"
   ]
  },
  {
   "cell_type": "code",
   "execution_count": 45,
   "id": "a3a471b3-7bce-4a1e-9d61-a17e30265a47",
   "metadata": {
    "tags": []
   },
   "outputs": [],
   "source": [
    "rawvars = [\n",
    "    \"curr_assets\",\n",
    "    \"curr_liab\",\n",
    "    \"extra_exp\",\n",
    "    \"extra_inc\",\n",
    "    \"extra_profit_loss\",\n",
    "    \"fixed_assets\",\n",
    "    \"inc_bef_tax\",\n",
    "    \"intang_assets\",\n",
    "    \"inventories\",\n",
    "    \"liq_assets\",\n",
    "    \"material_exp\",\n",
    "    \"personnel_exp\",\n",
    "    \"profit_loss_year\",\n",
    "    \"sales\",\n",
    "    \"share_eq\",\n",
    "    \"subscribed_cap\",\n",
    "]"
   ]
  },
  {
   "cell_type": "code",
   "execution_count": 46,
   "id": "e8f05152-8b0c-41e5-b8f1-589617538a2e",
   "metadata": {
    "tags": []
   },
   "outputs": [],
   "source": [
    "qualityvars = [\"balsheet_flag\", \"balsheet_length\", \"balsheet_notfullyear\"]\n",
    "engvar = [\n",
    "    \"total_assets_bs\",\n",
    "    \"fixed_assets_bs\",\n",
    "    \"liq_assets_bs\",\n",
    "    \"curr_assets_bs\",\n",
    "    \"share_eq_bs\",\n",
    "    \"subscribed_cap_bs\",\n",
    "    \"intang_assets_bs\",\n",
    "    \"extra_exp_pl\",\n",
    "    \"extra_inc_pl\",\n",
    "    \"extra_profit_loss_pl\",\n",
    "    \"inc_bef_tax_pl\",\n",
    "    \"inventories_pl\",\n",
    "    \"material_exp_pl\",\n",
    "    \"profit_loss_year_pl\",\n",
    "    \"personnel_exp_pl\",\n",
    "]\n",
    "engvar2 = [\n",
    "    \"extra_profit_loss_pl_quad\",\n",
    "    \"inc_bef_tax_pl_quad\",\n",
    "    \"profit_loss_year_pl_quad\",\n",
    "    \"share_eq_bs_quad\",\n",
    "]"
   ]
  },
  {
   "cell_type": "code",
   "execution_count": 47,
   "id": "4323f3ab-d2f9-4936-a122-74ed8b09fbb1",
   "metadata": {
    "tags": []
   },
   "outputs": [],
   "source": [
    "engvar3 = []\n",
    "for col in data.columns:\n",
    "    if (\n",
    "        col.endswith(\"flag_low\")\n",
    "        or col.endswith(\"flag_high\")\n",
    "        or col.endswith(\"flag_error\")\n",
    "        or col.endswith(\"flag_zero\")\n",
    "    ):\n",
    "        engvar3.append(col)"
   ]
  },
  {
   "cell_type": "code",
   "execution_count": 48,
   "id": "b2ae556a-8d0b-47e3-9e71-18eba650ba9a",
   "metadata": {
    "tags": []
   },
   "outputs": [],
   "source": [
    "hr = [\n",
    "    \"female\",\n",
    "    \"ceo_age\",\n",
    "    \"flag_high_ceo_age\",\n",
    "    \"flag_low_ceo_age\",\n",
    "    \"flag_miss_ceo_age\",\n",
    "    \"ceo_count\",\n",
    "    \"labor_avg_mod\",\n",
    "    \"flag_miss_labor_avg\",\n",
    "    \"foreign_management\",\n",
    "]"
   ]
  },
  {
   "cell_type": "code",
   "execution_count": 49,
   "id": "303ca309-7c65-4b80-bbe3-bfa1a5ef720b",
   "metadata": {
    "tags": []
   },
   "outputs": [],
   "source": [
    "firm = [\"age\", \"age2\", \"new\", \"C(ind2_cat)\", \"C(m_region_loc)\", \"C(urban_m)\"]"
   ]
  },
  {
   "cell_type": "markdown",
   "id": "15838d03-7b44-4e0d-9338-4182bd2f5857",
   "metadata": {},
   "source": [
    "# 6. Model setups"
   ]
  },
  {
   "cell_type": "code",
   "execution_count": 50,
   "id": "ec175dad-e8fb-4d0f-9dc4-52813b191fab",
   "metadata": {
    "tags": []
   },
   "outputs": [],
   "source": [
    "M1 = [\n",
    "    \"sales_mil_log\",\n",
    "    \"sales_mil_log_sq\",\n",
    "    \"profit_loss_year_pl\",\n",
    "    \"C(ind2_cat)\",\n",
    "]\n",
    "M2 = [\n",
    "    \"sales_mil_log\",\n",
    "    \"sales_mil_log_sq\",\n",
    "    \"profit_loss_year_pl\",\n",
    "    \"fixed_assets_bs\",\n",
    "    \"share_eq_bs\",\n",
    "    \"curr_liab_bs \",\n",
    "    \"curr_liab_bs_flag_high \",\n",
    "    \"curr_liab_bs_flag_error\",\n",
    "    \"age\",\n",
    "    \"foreign_management\",\n",
    "    \"C(ind2_cat)\",\n",
    "]\n",
    "M3 = [\"sales_mil_log\", \"sales_mil_log_sq\"] + firm + engvar\n",
    "M4 = (\n",
    "    [\"sales_mil_log\", \"sales_mil_log_sq\"]\n",
    "    + firm\n",
    "    + engvar\n",
    "    + engvar2\n",
    "    + engvar3\n",
    "    + hr\n",
    "    + qualityvars\n",
    ")"
   ]
  },
  {
   "cell_type": "code",
   "execution_count": null,
   "id": "517f9612-0743-4602-8c20-75754397f3c5",
   "metadata": {},
   "outputs": [],
   "source": []
  }
 ],
 "metadata": {
  "kernelspec": {
   "display_name": "Python 3 (ipykernel)",
   "language": "python",
   "name": "python3"
  },
  "language_info": {
   "codemirror_mode": {
    "name": "ipython",
    "version": 3
   },
   "file_extension": ".py",
   "mimetype": "text/x-python",
   "name": "python",
   "nbconvert_exporter": "python",
   "pygments_lexer": "ipython3",
   "version": "3.11.4"
  }
 },
 "nbformat": 4,
 "nbformat_minor": 5
}
