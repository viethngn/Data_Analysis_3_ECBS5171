{
 "cells": [
  {
   "cell_type": "code",
   "execution_count": 1,
   "id": "initial_id",
   "metadata": {
    "collapsed": true,
    "ExecuteTime": {
     "end_time": "2024-02-29T18:21:18.715792Z",
     "start_time": "2024-02-29T18:21:18.419540Z"
    }
   },
   "outputs": [],
   "source": [
    "%%capture\n",
    "import warnings\n",
    "warnings.filterwarnings('ignore')\n",
    "\n",
    "import pandas as pd\n",
    "import numpy as np\n",
    "import math\n",
    "\n",
    "import seaborn as sns\n",
    "import matplotlib.pyplot as plt\n",
    "\n",
    "from py_helper_functions import *\n",
    "\n",
    "from datetime import datetime\n",
    "\n",
    "from patsy.highlevel import dmatrices\n",
    "from sklearn.metrics import brier_score_loss, roc_curve, auc, confusion_matrix, roc_auc_score, mean_squared_error\n",
    "import sklearn.metrics as metrics"
   ]
  },
  {
   "cell_type": "code",
   "outputs": [],
   "source": [
    "# helper functions\n",
    "def regression_results(y_true, y_pred):\n",
    "\n",
    "    # Regression metrics\n",
    "    explained_variance=metrics.explained_variance_score(y_true, y_pred)\n",
    "    mean_absolute_error=metrics.mean_absolute_error(y_true, y_pred) \n",
    "    mse=metrics.mean_squared_error(y_true, y_pred) \n",
    "    median_absolute_error=metrics.median_absolute_error(y_true, y_pred)\n",
    "    r2=metrics.r2_score(y_true, y_pred)\n",
    "\n",
    "    print('explained_variance: ', round(explained_variance,4))    \n",
    "    print('r2: ', round(r2,4))\n",
    "    print('MAE: ', round(mean_absolute_error,4))\n",
    "    print('MSE: ', round(mse,4))\n",
    "    print('RMSE: ', round(np.sqrt(mse),4))\n",
    "    \n",
    "def create_coef_matrix(X, model):\n",
    "    coef_matrix = pd.concat(\n",
    "        [pd.DataFrame(X.columns),pd.DataFrame(model.coef_.flatten())], axis = 1\n",
    "    )\n",
    "    coef_matrix.columns = ['variable', 'coefficient']\n",
    "    coef_matrix.iloc[-1] = ['Intercept', model.intercept_.flatten()[0]]\n",
    "    return coef_matrix\n",
    "\n",
    "def cv_summary(lambdas, C_values, model):\n",
    "    d = {'lambdas': lambdas, 'C_values': C_values, 'mean_cv_score': model.scores_[1].mean(axis = 0)}\n",
    "    return(pd.DataFrame(data=d))\n",
    "\n",
    "def create_roc_plot(y_true, y_pred):\n",
    "    fpr, tpr, thresholds = roc_curve(y_true, y_pred)\n",
    "    all_coords = pd.DataFrame({\n",
    "        'fpr': fpr,\n",
    "        'tpr': tpr,\n",
    "        'thresholds': thresholds\n",
    "    })\n",
    "    \n",
    "    plot = ggplot(all_coords, aes(x = 'fpr', y = 'tpr')) \\\n",
    "        + geom_line(color=color[0], size = 0.7) \\\n",
    "        + geom_area(position = 'identity', fill = 'mediumaquamarine', alpha = 0.3) \\\n",
    "        + xlab(\"False Positive Rate (1-Specifity)\") \\\n",
    "        + ylab(\"True Positive Rate (Sensitivity)\") \\\n",
    "        + geom_abline(intercept = 0, slope = 1,  linetype = \"dotted\", color = \"black\") \\\n",
    "        + scale_y_continuous(limits = (0, 1), breaks = seq(0, 1, .1), expand = (0, 0.01)) \\\n",
    "        + scale_x_continuous(limits = (0, 1), breaks = seq(0, 1, .1), expand = (0.01, 0)) \\\n",
    "        + theme_bw()\n",
    "    return(plot)\n",
    "\n",
    "def create_roc_plots(y_true, X_, models):\n",
    "    all_model_predict_proba = dict()\n",
    "    for m_name, model in models.items():\n",
    "        fpr, tpr, thresholds = roc_curve(y_true, model.predict_proba(X_)[:,1])\n",
    "        if 'fpr' in all_model_predict_proba.keys():\n",
    "            all_model_predict_proba['fpr'] = all_model_predict_proba['fpr'] + fpr.tolist()\n",
    "            all_model_predict_proba['tpr'] = all_model_predict_proba['tpr'] + tpr.tolist()\n",
    "            all_model_predict_proba['thresholds'] = all_model_predict_proba['thresholds'] + thresholds.tolist()\n",
    "            all_model_predict_proba['model'] = all_model_predict_proba['model'] + [m_name] * len(fpr)\n",
    "        else:\n",
    "            all_model_predict_proba['fpr'] = fpr.tolist()\n",
    "            all_model_predict_proba['tpr'] = tpr.tolist()\n",
    "            all_model_predict_proba['thresholds'] = thresholds.tolist()\n",
    "            all_model_predict_proba['model'] = [m_name] * len(fpr)\n",
    "        \n",
    "    all_coords = pd.DataFrame({\n",
    "        'fpr': all_model_predict_proba['fpr'],\n",
    "        'tpr': all_model_predict_proba['tpr'],\n",
    "        'thresholds': all_model_predict_proba['thresholds'],\n",
    "        'model': all_model_predict_proba['model']\n",
    "    })\n",
    "    \n",
    "    plot = ggplot(all_coords, aes(x = 'fpr', y = 'tpr', color = 'model')) \\\n",
    "        + geom_line() \\\n",
    "        + xlab(\"False Positive Rate (1-Specifity)\") \\\n",
    "        + ylab(\"True Positive Rate (Sensitivity)\") \\\n",
    "        + geom_abline(intercept = 0, slope = 1,  linetype = \"dotted\", color = \"black\") \\\n",
    "        + scale_y_continuous(limits = (0, 1), breaks = seq(0, 1, .1), expand = (0, 0.01)) \\\n",
    "        + scale_x_continuous(limits = (0, 1), breaks = seq(0, 1, .1), expand = (0.01, 0)) \\\n",
    "        + theme_bw()\n",
    "    return(plot)\n",
    "\n",
    "def sigmoid_array(x):\n",
    "    return(1 / (1 + np.exp(-x)))\n",
    "\n",
    "def generate_fold_prediction(model, X, fold, param_index):\n",
    "    fold_coef = model.coefs_paths_[1][fold,param_index,:]\n",
    "    return(sigmoid_array(np.dot(X, np.transpose(fold_coef)[:-1]) +  np.transpose(fold_coef)[-1]))\n",
    "\n",
    "def create_loss_plot(all_coords, optimal_threshold, curr_exp_loss):\n",
    "    all_coords_copy = all_coords.copy()\n",
    "    all_coords_copy['loss'] = (all_coords_copy.false_pos*FP + all_coords_copy.false_neg*FN)/all_coords_copy.n\n",
    "    \n",
    "    t = optimal_threshold\n",
    "    l = curr_exp_loss\n",
    "    \n",
    "    plot = ggplot(all_coords_copy, aes(x = 'thresholds', y = 'loss')) + \\\n",
    "        geom_line(color=color[0], size=0.7) + \\\n",
    "        scale_x_continuous(breaks = seq(0, 1.1, by = 0.1)) + \\\n",
    "        coord_cartesian(xlim=(0,1))+ \\\n",
    "        geom_vline(xintercept = t , color = color[0] ) + \\\n",
    "        annotate(geom = \"text\", x = t - 0.01, y= max(all_coords_copy.loss) - 0.4,\n",
    "                 label=\"best threshold: \" + str(round(t,2)),\n",
    "                 colour=color[1], angle=90, size = 7) +\\\n",
    "        annotate(geom = \"text\", x = t + 0.06, y= l,\\\n",
    "                 label= str(round(l, 2)), size = 7) +\\\n",
    "        theme_bw()\n",
    "    return(plot)\n",
    "\n",
    "\n",
    "def create_roc_plot_with_optimal(all_coords, optimal_threshold):\n",
    "    all_coords_copy = all_coords.copy()\n",
    "    all_coords_copy['sp'] = all_coords_copy.true_neg/all_coords_copy.neg\n",
    "    all_coords_copy['se'] = all_coords_copy.true_pos/all_coords_copy.pos\n",
    "    \n",
    "    best_coords = all_coords_copy[all_coords_copy.thresholds == optimal_threshold]\n",
    "    sp = best_coords.sp.values[0]\n",
    "    se = best_coords.se.values[0]\n",
    "\n",
    "    plot = ggplot(all_coords_copy, aes(x = 'sp', y = 'se')) +\\\n",
    "        geom_line(color=color[0], size=0.7) +\\\n",
    "        scale_y_continuous(breaks = seq(0, 1.1, by = 0.1)) +\\\n",
    "        scale_x_reverse(breaks = seq(0, 1.1, by = 0.1)) +\\\n",
    "        geom_point(data = pd.DataFrame({'sp': [sp], 'se': [se]})) +\\\n",
    "        annotate(geom = \"text\", x = sp, y = se + 0.03,\n",
    "                 label = str(round(sp, 2)) + ', ' + str(round(se, 2)), size = 7) +\\\n",
    "        theme_bw()\n",
    "    return(plot)"
   ],
   "metadata": {
    "collapsed": false,
    "ExecuteTime": {
     "end_time": "2024-02-29T22:45:58.588120Z",
     "start_time": "2024-02-29T22:45:58.507310Z"
    }
   },
   "id": "81d9bc91093d981c",
   "execution_count": 47
  },
  {
   "cell_type": "code",
   "outputs": [],
   "source": [
    "def get_sme_comp_default(df):\n",
    "    '''\n",
    "    This function determine the default status for SME firms\n",
    "    :param df: raw data\n",
    "    :return: dataframe with default status for only SME firms\n",
    "    '''\n",
    "    # add all missing year and comp_id combinations -\n",
    "    # originally missing combinations will have NAs in all other columns\n",
    "    df = (\n",
    "        df.set_index([\"year\", \"comp_id\"])\n",
    "        .unstack(fill_value=\"toReplace\")\n",
    "        .stack()\n",
    "        .reset_index()\n",
    "    )\n",
    "    df = df.replace(\"toReplace\", np.nan)  # only way I could define it as NaN\n",
    "    \n",
    "    # generate status_alive; if sales larger than zero and not-NA, then firm is alive\n",
    "    df[\"status_alive\"] = (df[\"sales\"] > 0 & (False == df[\"sales\"].isna())).astype(int)\n",
    "    \n",
    "    # defaults in one year if there are sales in this year but no sales one year later\n",
    "    # Status_in_one_years: data.groupby('comp_id')['status_alive'].shift(-1)\n",
    "    df[\"default\"] = (\n",
    "        (df[\"status_alive\"] == 1)\n",
    "        & (df.groupby(\"comp_id\")[\"status_alive\"].shift(-1) == 0)\n",
    "    ).astype(int)\n",
    "    \n",
    "    # filter for SME firms\n",
    "    return df[(df.sales >= 1000) & (df.sales <= 10_000_000)]\n",
    "\n",
    "def get_cleaned_data(local=True):\n",
    "    '''\n",
    "    This function reads from csv files, cleans it and returns the cleaned dataframe\n",
    "    :param local: default True\n",
    "    :param src: path to file\n",
    "    :return: dataframe with cleaned data\n",
    "    '''\n",
    "    \n",
    "    if local:\n",
    "        raw_files = ['cs_bisnode_panel1.csv', 'cs_bisnode_panel2.csv']\n",
    "    else:\n",
    "        raw_files = ['https://raw.githubusercontent.com/viethngn/Data_Analysis_3_ECBS5171/main/assignment3/cs_bisnode_panel1.csv', 'https://raw.githubusercontent.com/viethngn/Data_Analysis_3_ECBS5171/main/assignment3/cs_bisnode_panel2.csv']\n",
    "        \n",
    "    dfs = []\n",
    "    for file in raw_files:\n",
    "        u_df = pd.read_csv(file)\n",
    "        dfs.append(u_df)\n",
    "    df = pd.concat(dfs, ignore_index=True)\n",
    "    \n",
    "    # drop variables with many NAs\n",
    "    df = df.drop(columns=[\"COGS\", \"finished_prod\", \"net_dom_sales\", \"net_exp_sales\", \"wages\", \"D\", \"exit_year\", \"exit_date\", \"birth_year\", \"labor_avg\", \"founded_year\"])\n",
    "\n",
    "    working_sample = get_sme_comp_default(df[(df.ind2 == 26)])\n",
    "    \n",
    "    # engineering new features\n",
    "    working_sample['n_day_alive'] = working_sample.apply(lambda x: (pd.Timestamp(f'31/12/{x.year}') - pd.Timestamp(x['founded_date'])).days, axis=1)\n",
    "    \n",
    "    working_sample.rename(columns={'amort': 'n_amort',\n",
    "                            'curr_assets': 'n_curr_assets',\n",
    "                            'curr_liab': 'n_curr_liab',\n",
    "                            'extra_exp': 'n_extra_exp',\n",
    "                            'extra_inc': 'n_extra_inc',\n",
    "                            'extra_profit_loss': 'n_extra_profit_loss',\n",
    "                            'fixed_assets': 'n_fixed_assets',\n",
    "                            'inc_bef_tax': 'n_inc_bef_tax',\n",
    "                            'intang_assets': 'n_intang_assets',\n",
    "                            'inventories': 'n_inventories',\n",
    "                            'liq_assets': 'n_liq_assets',\n",
    "                            'material_exp': 'n_material_exp',\n",
    "                            'personnel_exp': 'n_personnel_exp',\n",
    "                            'profit_loss_year': 'n_profit_loss_year',\n",
    "                            'sales': 'n_sales',\n",
    "                            'share_eq': 'n_share_eq',\n",
    "                            'subscribed_cap': 'n_subscribed_cap',\n",
    "                            'tang_assets': 'n_tang_assets',\n",
    "                            'balsheet_flag': 'd_balsheet_flag',\n",
    "                            'balsheet_length': 'n_balsheet_length',\n",
    "                            'balsheet_notfullyear': 'd_balsheet_notfullyear',\n",
    "                            'ceo_count': 'n_ceo_count',\n",
    "                            'foreign': 'n_foreign',\n",
    "                            'female': 'n_female',\n",
    "                            'inoffice_days': 'n_inoffice_days',\n",
    "                            'gender': 'f_gender',\n",
    "                            'origin': 'f_origin',\n",
    "                            'urban_m': 'f_urban_m',\n",
    "                            'region_m': 'f_region_m',\n",
    "                            'day_alive': 'n_day_alive'}, inplace=True)\n",
    "    \n",
    "    # create the list of categorical and numerical column names\n",
    "    categorical_columns = [col for col in working_sample.columns if col.startswith(\"f_\")]\n",
    "    numerical_columns = [col for col in working_sample.columns if col.startswith(\"n_\")]\n",
    "    binary_columns = [col for col in working_sample.columns if col.startswith(\"d_\")]\n",
    "    \n",
    "    # # flag observations with missing values to impute\n",
    "    working_sample['imputed_flag'] = working_sample[categorical_columns + numerical_columns].isna().any(axis=1)\n",
    "\n",
    "    # handle missing values for categorical features\n",
    "    working_sample[categorical_columns] = working_sample[categorical_columns].fillna('Missing')\n",
    "\n",
    "    # handle missing values for numerical features by replacing with median as distribution is not symmetrical\n",
    "    num_medians = working_sample[numerical_columns].median()\n",
    "    working_sample[numerical_columns] = working_sample[numerical_columns].fillna(num_medians)\n",
    "    \n",
    "    # add log columns for some numerical columns to improve the distribution balance\n",
    "    log_numerical_columns = []\n",
    "    for col in numerical_columns:\n",
    "        if 'n_sales' in col:\n",
    "            working_sample[f'ln_{\"_\".join(col.split(\"_\")[1:])}'] = np.log(working_sample[col])\n",
    "            log_numerical_columns.append(f'ln_{\"_\".join(col.split(\"_\")[1:])}')\n",
    "        else:\n",
    "            log_numerical_columns.append(col)\n",
    "            \n",
    "    # cube root transform for some numerical columns to improve the distribution balance\n",
    "    cube_root_columns = []\n",
    "    for col in numerical_columns:\n",
    "        if col in ['n_amort', 'n_curr_assets', 'n_curr_liab', 'n_extra_exp', 'n_extra_inc', 'n_extra_profit_loss', 'n_fixed_assets', 'n_inc_bef_tax', 'n_intang_assets', 'n_inventories', 'n_liq_assets', 'n_material_exp', 'n_personnel_exp', 'n_profit_loss_year', 'n_sales', 'n_share_eq', 'n_subscribed_cap', 'n_tang_assets']:\n",
    "            working_sample[f'cb_{\"_\".join(col.split(\"_\")[1:])}'] = np.cbrt(working_sample[col])\n",
    "            cube_root_columns.append(f'cb_{\"_\".join(col.split(\"_\")[1:])}')\n",
    "        else:\n",
    "            cube_root_columns.append(col)\n",
    "    \n",
    "    del df\n",
    "        \n",
    "    return working_sample[(working_sample[\"begin\"].notna()) & (working_sample.year < 2016)], categorical_columns, numerical_columns + binary_columns, log_numerical_columns + binary_columns, cube_root_columns + binary_columns"
   ],
   "metadata": {
    "collapsed": false,
    "ExecuteTime": {
     "end_time": "2024-02-29T18:21:18.753023Z",
     "start_time": "2024-02-29T18:21:18.727817Z"
    }
   },
   "id": "fd253e26f40f5290",
   "execution_count": 3
  },
  {
   "cell_type": "code",
   "outputs": [
    {
     "data": {
      "text/plain": "    year      comp_id       begin         end       n_amort  n_curr_assets  \\\n0   2005    6538183.0  01/01/2005  31/12/2005    792.592590    6237.037109   \n1   2005    6934257.0  13/05/2005  31/12/2005    803.703674    4648.147949   \n2   2005    8416055.0  01/01/2005  31/12/2005   3155.555664   71070.367190   \n5   2005   12428378.0  01/01/2005  31/12/2005   3137.037109    1740.740723   \n7   2005   15711554.0  01/01/2005  31/12/2005   1592.592651    4740.740723   \n8   2005   16005183.0  01/01/2005  31/12/2005   5659.259277   71714.812500   \n10  2005   17776540.0  01/01/2005  31/12/2005  11722.222660  167988.890600   \n15  2005   50481104.0  01/01/2005  31/12/2005    288.888886     814.814819   \n16  2005   55608576.0  01/01/2005  31/12/2005   3196.296387    3781.481445   \n22  2005   82197808.0  01/01/2005  31/12/2005  20574.074220  151692.593800   \n23  2005   94790304.0  01/01/2005  31/12/2005   4074.073975  280411.125000   \n26  2005  101297048.0  01/01/2005  31/12/2005   8118.518555   80585.187500   \n27  2005  110837792.0  01/01/2005  31/12/2005  54792.593750  725903.687500   \n29  2005  129547152.0  01/01/2005  31/12/2005   2148.148193    4185.185059   \n32  2005  147708448.0  01/01/2005  31/12/2005  15392.592770   97803.703130   \n34  2005  164404320.0  01/01/2005  31/12/2005    133.333328   12966.666990   \n39  2005  203162480.0  01/01/2005  31/12/2005  15759.258790   50288.890630   \n41  2005  241606816.0  01/01/2005  31/12/2005     29.629629    1070.370361   \n45  2005  287384032.0  01/01/2005  31/12/2005  22122.222660  147903.703100   \n46  2005  296141856.0  01/01/2005  31/12/2005  29811.111330  107507.406300   \n\n      n_curr_liab   n_extra_exp   n_extra_inc  n_extra_profit_loss  ...  \\\n0      348.148163      0.000000      0.000000             0.000000  ...   \n1     9311.111328      0.000000      0.000000             0.000000  ...   \n2    25514.814450     74.074074      0.000000           -74.074074  ...   \n5     2192.592529      0.000000      0.000000             0.000000  ...   \n7     4970.370605      0.000000   7407.407227          7407.407227  ...   \n8    40607.406250      0.000000      0.000000             0.000000  ...   \n10  156914.812500      0.000000   1851.851807          1851.851807  ...   \n15    2411.111084      0.000000      0.000000             0.000000  ...   \n16       0.000000      0.000000      0.000000             0.000000  ...   \n22  156037.031300      0.000000      0.000000             0.000000  ...   \n23  154881.484400      0.000000      0.000000             0.000000  ...   \n26   44192.593750      0.000000      0.000000             0.000000  ...   \n27  200077.781300  59829.628910  15018.518550        -44811.109380  ...   \n29   61207.406250      0.000000      0.000000             0.000000  ...   \n32  145462.968800      0.000000   1718.518555          1718.518555  ...   \n34     259.259247      0.000000      0.000000             0.000000  ...   \n39  108348.148400      3.703704      0.000000            -3.703704  ...   \n41     107.407410      0.000000      0.000000             0.000000  ...   \n45   96440.742190      0.000000      0.000000             0.000000  ...   \n46   41766.667970      0.000000      0.000000             0.000000  ...   \n\n    cb_intang_assets  cb_inventories  cb_liq_assets  cb_material_exp  \\\n0           0.000000        0.000000      17.623963        29.664296   \n1           0.000000        0.000000      13.463993        21.203860   \n2           3.728963       15.730637      39.718705        51.001534   \n5           2.456021        0.000000      11.821076        24.881414   \n7           0.000000        8.670610      11.623423        22.289610   \n8           4.860332       34.307896      18.690870        58.164592   \n10          4.753477       39.088168      15.675565        88.083547   \n15          0.000000        0.000000       9.340131        10.582674   \n16          0.000000        0.000000      15.466804         9.950371   \n22         25.264355       29.332300      35.747586        78.742490   \n23          8.109603        9.137649      57.390934        53.214144   \n26         11.245769       41.546677       9.588214        75.543595   \n27          7.368063       38.813945      51.225989        66.242304   \n29          0.000000       11.856311      13.605517        33.833566   \n32          0.000000       18.945365      41.470724        54.902183   \n34          0.000000        0.000000      21.123928        33.822778   \n39          0.000000       24.775270      26.500705        38.030378   \n41          0.000000        0.000000       8.311052        13.763735   \n45          2.456021       15.507980      28.312942        54.699927   \n46          0.000000       37.289631      30.517762        42.150103   \n\n    cb_personnel_exp  cb_profit_loss_year    cb_sales  cb_share_eq  \\\n0          15.053308           -10.459997   30.824849    19.590436   \n1           5.737669           -19.293218   15.420217     8.311052   \n2          28.469167             0.000000   56.215174    38.890824   \n5          21.749844             7.956555   31.078717    11.342553   \n7          15.107594             6.855700   20.880427     9.093075   \n8          17.592107           -16.181574   60.713699    35.500494   \n10         31.929484            22.319389   91.478107    43.872937   \n15         22.043380            -6.495650   23.148195    -7.857828   \n16          0.000000             8.735805   17.390345    17.777633   \n22         32.224645            17.687330   80.677882    29.784464   \n23         85.576078            36.302174   96.237629    51.311004   \n26         31.420060             7.694501   78.112249    32.910207   \n27         94.905895            42.962650  111.443378    98.225232   \n29         17.836036             8.033807   36.055052   -37.412636   \n32         77.931751            32.992073   94.840608    63.578917   \n34         21.162591            14.075929   37.288744    23.421436   \n39         25.949643           -24.050306   41.408177   -24.728923   \n41         17.361722            -6.436596   19.781574    -7.837782   \n45         26.628418            16.139028   63.123652    52.019097   \n46         20.610787             8.220707   46.017077    61.696438   \n\n    cb_subscribed_cap  cb_tang_assets  \n0            3.815714       11.943493  \n1           22.314432       22.816292  \n2           22.314432       23.292445  \n5            4.199737       12.377570  \n7           22.314432        9.937887  \n8           22.314432       23.821898  \n10          36.379763       51.380776  \n15           6.057069       10.357442  \n16           5.699920       14.475716  \n22          22.314432       45.965130  \n23          22.363910       22.528085  \n26          22.314432       26.523539  \n27          22.314432       94.040826  \n29           4.807499       16.697720  \n32          48.074985       71.814969  \n34           2.231443        5.201636  \n39          22.314432       35.261831  \n41           5.737669        0.000000  \n45          22.314432       45.559543  \n46          22.314432       57.961719  \n\n[20 rows x 60 columns]",
      "text/html": "<div>\n<style scoped>\n    .dataframe tbody tr th:only-of-type {\n        vertical-align: middle;\n    }\n\n    .dataframe tbody tr th {\n        vertical-align: top;\n    }\n\n    .dataframe thead th {\n        text-align: right;\n    }\n</style>\n<table border=\"1\" class=\"dataframe\">\n  <thead>\n    <tr style=\"text-align: right;\">\n      <th></th>\n      <th>year</th>\n      <th>comp_id</th>\n      <th>begin</th>\n      <th>end</th>\n      <th>n_amort</th>\n      <th>n_curr_assets</th>\n      <th>n_curr_liab</th>\n      <th>n_extra_exp</th>\n      <th>n_extra_inc</th>\n      <th>n_extra_profit_loss</th>\n      <th>...</th>\n      <th>cb_intang_assets</th>\n      <th>cb_inventories</th>\n      <th>cb_liq_assets</th>\n      <th>cb_material_exp</th>\n      <th>cb_personnel_exp</th>\n      <th>cb_profit_loss_year</th>\n      <th>cb_sales</th>\n      <th>cb_share_eq</th>\n      <th>cb_subscribed_cap</th>\n      <th>cb_tang_assets</th>\n    </tr>\n  </thead>\n  <tbody>\n    <tr>\n      <th>0</th>\n      <td>2005</td>\n      <td>6538183.0</td>\n      <td>01/01/2005</td>\n      <td>31/12/2005</td>\n      <td>792.592590</td>\n      <td>6237.037109</td>\n      <td>348.148163</td>\n      <td>0.000000</td>\n      <td>0.000000</td>\n      <td>0.000000</td>\n      <td>...</td>\n      <td>0.000000</td>\n      <td>0.000000</td>\n      <td>17.623963</td>\n      <td>29.664296</td>\n      <td>15.053308</td>\n      <td>-10.459997</td>\n      <td>30.824849</td>\n      <td>19.590436</td>\n      <td>3.815714</td>\n      <td>11.943493</td>\n    </tr>\n    <tr>\n      <th>1</th>\n      <td>2005</td>\n      <td>6934257.0</td>\n      <td>13/05/2005</td>\n      <td>31/12/2005</td>\n      <td>803.703674</td>\n      <td>4648.147949</td>\n      <td>9311.111328</td>\n      <td>0.000000</td>\n      <td>0.000000</td>\n      <td>0.000000</td>\n      <td>...</td>\n      <td>0.000000</td>\n      <td>0.000000</td>\n      <td>13.463993</td>\n      <td>21.203860</td>\n      <td>5.737669</td>\n      <td>-19.293218</td>\n      <td>15.420217</td>\n      <td>8.311052</td>\n      <td>22.314432</td>\n      <td>22.816292</td>\n    </tr>\n    <tr>\n      <th>2</th>\n      <td>2005</td>\n      <td>8416055.0</td>\n      <td>01/01/2005</td>\n      <td>31/12/2005</td>\n      <td>3155.555664</td>\n      <td>71070.367190</td>\n      <td>25514.814450</td>\n      <td>74.074074</td>\n      <td>0.000000</td>\n      <td>-74.074074</td>\n      <td>...</td>\n      <td>3.728963</td>\n      <td>15.730637</td>\n      <td>39.718705</td>\n      <td>51.001534</td>\n      <td>28.469167</td>\n      <td>0.000000</td>\n      <td>56.215174</td>\n      <td>38.890824</td>\n      <td>22.314432</td>\n      <td>23.292445</td>\n    </tr>\n    <tr>\n      <th>5</th>\n      <td>2005</td>\n      <td>12428378.0</td>\n      <td>01/01/2005</td>\n      <td>31/12/2005</td>\n      <td>3137.037109</td>\n      <td>1740.740723</td>\n      <td>2192.592529</td>\n      <td>0.000000</td>\n      <td>0.000000</td>\n      <td>0.000000</td>\n      <td>...</td>\n      <td>2.456021</td>\n      <td>0.000000</td>\n      <td>11.821076</td>\n      <td>24.881414</td>\n      <td>21.749844</td>\n      <td>7.956555</td>\n      <td>31.078717</td>\n      <td>11.342553</td>\n      <td>4.199737</td>\n      <td>12.377570</td>\n    </tr>\n    <tr>\n      <th>7</th>\n      <td>2005</td>\n      <td>15711554.0</td>\n      <td>01/01/2005</td>\n      <td>31/12/2005</td>\n      <td>1592.592651</td>\n      <td>4740.740723</td>\n      <td>4970.370605</td>\n      <td>0.000000</td>\n      <td>7407.407227</td>\n      <td>7407.407227</td>\n      <td>...</td>\n      <td>0.000000</td>\n      <td>8.670610</td>\n      <td>11.623423</td>\n      <td>22.289610</td>\n      <td>15.107594</td>\n      <td>6.855700</td>\n      <td>20.880427</td>\n      <td>9.093075</td>\n      <td>22.314432</td>\n      <td>9.937887</td>\n    </tr>\n    <tr>\n      <th>8</th>\n      <td>2005</td>\n      <td>16005183.0</td>\n      <td>01/01/2005</td>\n      <td>31/12/2005</td>\n      <td>5659.259277</td>\n      <td>71714.812500</td>\n      <td>40607.406250</td>\n      <td>0.000000</td>\n      <td>0.000000</td>\n      <td>0.000000</td>\n      <td>...</td>\n      <td>4.860332</td>\n      <td>34.307896</td>\n      <td>18.690870</td>\n      <td>58.164592</td>\n      <td>17.592107</td>\n      <td>-16.181574</td>\n      <td>60.713699</td>\n      <td>35.500494</td>\n      <td>22.314432</td>\n      <td>23.821898</td>\n    </tr>\n    <tr>\n      <th>10</th>\n      <td>2005</td>\n      <td>17776540.0</td>\n      <td>01/01/2005</td>\n      <td>31/12/2005</td>\n      <td>11722.222660</td>\n      <td>167988.890600</td>\n      <td>156914.812500</td>\n      <td>0.000000</td>\n      <td>1851.851807</td>\n      <td>1851.851807</td>\n      <td>...</td>\n      <td>4.753477</td>\n      <td>39.088168</td>\n      <td>15.675565</td>\n      <td>88.083547</td>\n      <td>31.929484</td>\n      <td>22.319389</td>\n      <td>91.478107</td>\n      <td>43.872937</td>\n      <td>36.379763</td>\n      <td>51.380776</td>\n    </tr>\n    <tr>\n      <th>15</th>\n      <td>2005</td>\n      <td>50481104.0</td>\n      <td>01/01/2005</td>\n      <td>31/12/2005</td>\n      <td>288.888886</td>\n      <td>814.814819</td>\n      <td>2411.111084</td>\n      <td>0.000000</td>\n      <td>0.000000</td>\n      <td>0.000000</td>\n      <td>...</td>\n      <td>0.000000</td>\n      <td>0.000000</td>\n      <td>9.340131</td>\n      <td>10.582674</td>\n      <td>22.043380</td>\n      <td>-6.495650</td>\n      <td>23.148195</td>\n      <td>-7.857828</td>\n      <td>6.057069</td>\n      <td>10.357442</td>\n    </tr>\n    <tr>\n      <th>16</th>\n      <td>2005</td>\n      <td>55608576.0</td>\n      <td>01/01/2005</td>\n      <td>31/12/2005</td>\n      <td>3196.296387</td>\n      <td>3781.481445</td>\n      <td>0.000000</td>\n      <td>0.000000</td>\n      <td>0.000000</td>\n      <td>0.000000</td>\n      <td>...</td>\n      <td>0.000000</td>\n      <td>0.000000</td>\n      <td>15.466804</td>\n      <td>9.950371</td>\n      <td>0.000000</td>\n      <td>8.735805</td>\n      <td>17.390345</td>\n      <td>17.777633</td>\n      <td>5.699920</td>\n      <td>14.475716</td>\n    </tr>\n    <tr>\n      <th>22</th>\n      <td>2005</td>\n      <td>82197808.0</td>\n      <td>01/01/2005</td>\n      <td>31/12/2005</td>\n      <td>20574.074220</td>\n      <td>151692.593800</td>\n      <td>156037.031300</td>\n      <td>0.000000</td>\n      <td>0.000000</td>\n      <td>0.000000</td>\n      <td>...</td>\n      <td>25.264355</td>\n      <td>29.332300</td>\n      <td>35.747586</td>\n      <td>78.742490</td>\n      <td>32.224645</td>\n      <td>17.687330</td>\n      <td>80.677882</td>\n      <td>29.784464</td>\n      <td>22.314432</td>\n      <td>45.965130</td>\n    </tr>\n    <tr>\n      <th>23</th>\n      <td>2005</td>\n      <td>94790304.0</td>\n      <td>01/01/2005</td>\n      <td>31/12/2005</td>\n      <td>4074.073975</td>\n      <td>280411.125000</td>\n      <td>154881.484400</td>\n      <td>0.000000</td>\n      <td>0.000000</td>\n      <td>0.000000</td>\n      <td>...</td>\n      <td>8.109603</td>\n      <td>9.137649</td>\n      <td>57.390934</td>\n      <td>53.214144</td>\n      <td>85.576078</td>\n      <td>36.302174</td>\n      <td>96.237629</td>\n      <td>51.311004</td>\n      <td>22.363910</td>\n      <td>22.528085</td>\n    </tr>\n    <tr>\n      <th>26</th>\n      <td>2005</td>\n      <td>101297048.0</td>\n      <td>01/01/2005</td>\n      <td>31/12/2005</td>\n      <td>8118.518555</td>\n      <td>80585.187500</td>\n      <td>44192.593750</td>\n      <td>0.000000</td>\n      <td>0.000000</td>\n      <td>0.000000</td>\n      <td>...</td>\n      <td>11.245769</td>\n      <td>41.546677</td>\n      <td>9.588214</td>\n      <td>75.543595</td>\n      <td>31.420060</td>\n      <td>7.694501</td>\n      <td>78.112249</td>\n      <td>32.910207</td>\n      <td>22.314432</td>\n      <td>26.523539</td>\n    </tr>\n    <tr>\n      <th>27</th>\n      <td>2005</td>\n      <td>110837792.0</td>\n      <td>01/01/2005</td>\n      <td>31/12/2005</td>\n      <td>54792.593750</td>\n      <td>725903.687500</td>\n      <td>200077.781300</td>\n      <td>59829.628910</td>\n      <td>15018.518550</td>\n      <td>-44811.109380</td>\n      <td>...</td>\n      <td>7.368063</td>\n      <td>38.813945</td>\n      <td>51.225989</td>\n      <td>66.242304</td>\n      <td>94.905895</td>\n      <td>42.962650</td>\n      <td>111.443378</td>\n      <td>98.225232</td>\n      <td>22.314432</td>\n      <td>94.040826</td>\n    </tr>\n    <tr>\n      <th>29</th>\n      <td>2005</td>\n      <td>129547152.0</td>\n      <td>01/01/2005</td>\n      <td>31/12/2005</td>\n      <td>2148.148193</td>\n      <td>4185.185059</td>\n      <td>61207.406250</td>\n      <td>0.000000</td>\n      <td>0.000000</td>\n      <td>0.000000</td>\n      <td>...</td>\n      <td>0.000000</td>\n      <td>11.856311</td>\n      <td>13.605517</td>\n      <td>33.833566</td>\n      <td>17.836036</td>\n      <td>8.033807</td>\n      <td>36.055052</td>\n      <td>-37.412636</td>\n      <td>4.807499</td>\n      <td>16.697720</td>\n    </tr>\n    <tr>\n      <th>32</th>\n      <td>2005</td>\n      <td>147708448.0</td>\n      <td>01/01/2005</td>\n      <td>31/12/2005</td>\n      <td>15392.592770</td>\n      <td>97803.703130</td>\n      <td>145462.968800</td>\n      <td>0.000000</td>\n      <td>1718.518555</td>\n      <td>1718.518555</td>\n      <td>...</td>\n      <td>0.000000</td>\n      <td>18.945365</td>\n      <td>41.470724</td>\n      <td>54.902183</td>\n      <td>77.931751</td>\n      <td>32.992073</td>\n      <td>94.840608</td>\n      <td>63.578917</td>\n      <td>48.074985</td>\n      <td>71.814969</td>\n    </tr>\n    <tr>\n      <th>34</th>\n      <td>2005</td>\n      <td>164404320.0</td>\n      <td>01/01/2005</td>\n      <td>31/12/2005</td>\n      <td>133.333328</td>\n      <td>12966.666990</td>\n      <td>259.259247</td>\n      <td>0.000000</td>\n      <td>0.000000</td>\n      <td>0.000000</td>\n      <td>...</td>\n      <td>0.000000</td>\n      <td>0.000000</td>\n      <td>21.123928</td>\n      <td>33.822778</td>\n      <td>21.162591</td>\n      <td>14.075929</td>\n      <td>37.288744</td>\n      <td>23.421436</td>\n      <td>2.231443</td>\n      <td>5.201636</td>\n    </tr>\n    <tr>\n      <th>39</th>\n      <td>2005</td>\n      <td>203162480.0</td>\n      <td>01/01/2005</td>\n      <td>31/12/2005</td>\n      <td>15759.258790</td>\n      <td>50288.890630</td>\n      <td>108348.148400</td>\n      <td>3.703704</td>\n      <td>0.000000</td>\n      <td>-3.703704</td>\n      <td>...</td>\n      <td>0.000000</td>\n      <td>24.775270</td>\n      <td>26.500705</td>\n      <td>38.030378</td>\n      <td>25.949643</td>\n      <td>-24.050306</td>\n      <td>41.408177</td>\n      <td>-24.728923</td>\n      <td>22.314432</td>\n      <td>35.261831</td>\n    </tr>\n    <tr>\n      <th>41</th>\n      <td>2005</td>\n      <td>241606816.0</td>\n      <td>01/01/2005</td>\n      <td>31/12/2005</td>\n      <td>29.629629</td>\n      <td>1070.370361</td>\n      <td>107.407410</td>\n      <td>0.000000</td>\n      <td>0.000000</td>\n      <td>0.000000</td>\n      <td>...</td>\n      <td>0.000000</td>\n      <td>0.000000</td>\n      <td>8.311052</td>\n      <td>13.763735</td>\n      <td>17.361722</td>\n      <td>-6.436596</td>\n      <td>19.781574</td>\n      <td>-7.837782</td>\n      <td>5.737669</td>\n      <td>0.000000</td>\n    </tr>\n    <tr>\n      <th>45</th>\n      <td>2005</td>\n      <td>287384032.0</td>\n      <td>01/01/2005</td>\n      <td>31/12/2005</td>\n      <td>22122.222660</td>\n      <td>147903.703100</td>\n      <td>96440.742190</td>\n      <td>0.000000</td>\n      <td>0.000000</td>\n      <td>0.000000</td>\n      <td>...</td>\n      <td>2.456021</td>\n      <td>15.507980</td>\n      <td>28.312942</td>\n      <td>54.699927</td>\n      <td>26.628418</td>\n      <td>16.139028</td>\n      <td>63.123652</td>\n      <td>52.019097</td>\n      <td>22.314432</td>\n      <td>45.559543</td>\n    </tr>\n    <tr>\n      <th>46</th>\n      <td>2005</td>\n      <td>296141856.0</td>\n      <td>01/01/2005</td>\n      <td>31/12/2005</td>\n      <td>29811.111330</td>\n      <td>107507.406300</td>\n      <td>41766.667970</td>\n      <td>0.000000</td>\n      <td>0.000000</td>\n      <td>0.000000</td>\n      <td>...</td>\n      <td>0.000000</td>\n      <td>37.289631</td>\n      <td>30.517762</td>\n      <td>42.150103</td>\n      <td>20.610787</td>\n      <td>8.220707</td>\n      <td>46.017077</td>\n      <td>61.696438</td>\n      <td>22.314432</td>\n      <td>57.961719</td>\n    </tr>\n  </tbody>\n</table>\n<p>20 rows × 60 columns</p>\n</div>"
     },
     "execution_count": 4,
     "metadata": {},
     "output_type": "execute_result"
    }
   ],
   "source": [
    "work_df, categorical_columns, numerical_columns, log_numerical_columns, croot_numerical_columns = get_cleaned_data()\n",
    "# work_df = get_cleaned_data(local=False)\n",
    "work_df.head(20)"
   ],
   "metadata": {
    "collapsed": false,
    "ExecuteTime": {
     "end_time": "2024-02-29T18:21:20.011071Z",
     "start_time": "2024-02-29T18:21:18.731129Z"
    }
   },
   "id": "80d99ef289fc012",
   "execution_count": 4
  },
  {
   "cell_type": "code",
   "outputs": [
    {
     "data": {
      "text/plain": "(1037, 60)"
     },
     "execution_count": 5,
     "metadata": {},
     "output_type": "execute_result"
    }
   ],
   "source": [
    "holdout_set = work_df[(work_df.year == 2014)]\n",
    "holdout_set.shape"
   ],
   "metadata": {
    "collapsed": false,
    "ExecuteTime": {
     "end_time": "2024-02-29T18:21:20.014492Z",
     "start_time": "2024-02-29T18:21:20.011183Z"
    }
   },
   "id": "f68c7b5286ff9b51",
   "execution_count": 5
  },
  {
   "cell_type": "code",
   "outputs": [
    {
     "data": {
      "text/plain": "56"
     },
     "execution_count": 6,
     "metadata": {},
     "output_type": "execute_result"
    }
   ],
   "source": [
    "holdout_set.default.sum()"
   ],
   "metadata": {
    "collapsed": false,
    "ExecuteTime": {
     "end_time": "2024-02-29T18:21:20.020482Z",
     "start_time": "2024-02-29T18:21:20.015774Z"
    }
   },
   "id": "be2182b56b317c89",
   "execution_count": 6
  },
  {
   "cell_type": "code",
   "outputs": [
    {
     "data": {
      "text/plain": "(10727, 60)"
     },
     "execution_count": 7,
     "metadata": {},
     "output_type": "execute_result"
    }
   ],
   "source": [
    "training_set = work_df[(work_df.year != 2014)]\n",
    "training_set.shape"
   ],
   "metadata": {
    "collapsed": false,
    "ExecuteTime": {
     "end_time": "2024-02-29T18:21:20.023990Z",
     "start_time": "2024-02-29T18:21:20.018595Z"
    }
   },
   "id": "b8aca463a6b5eeaa",
   "execution_count": 7
  },
  {
   "cell_type": "code",
   "outputs": [
    {
     "data": {
      "text/plain": "489"
     },
     "execution_count": 8,
     "metadata": {},
     "output_type": "execute_result"
    }
   ],
   "source": [
    "training_set[(work_df.year == 2015)].default.sum()"
   ],
   "metadata": {
    "collapsed": false,
    "ExecuteTime": {
     "end_time": "2024-02-29T18:21:20.029940Z",
     "start_time": "2024-02-29T18:21:20.024386Z"
    }
   },
   "id": "1d95157f0d55af83",
   "execution_count": 8
  },
  {
   "cell_type": "code",
   "outputs": [],
   "source": [
    "training_set[numerical_columns].skew();"
   ],
   "metadata": {
    "collapsed": false,
    "ExecuteTime": {
     "end_time": "2024-02-29T18:21:20.068335Z",
     "start_time": "2024-02-29T18:21:20.030607Z"
    }
   },
   "id": "b80ca5ad1157015e",
   "execution_count": 9
  },
  {
   "cell_type": "code",
   "outputs": [],
   "source": [
    "from sklearn.compose import ColumnTransformer\n",
    "from sklearn.preprocessing import OneHotEncoder\n",
    "\n",
    "# building preprocessing for pipeline\n",
    "categorical_encoder = OneHotEncoder(handle_unknown=\"ignore\")\n",
    "\n",
    "preprocessing = ColumnTransformer(\n",
    "    [\n",
    "        (\"cat\", categorical_encoder, categorical_columns)\n",
    "    ], remainder='passthrough'\n",
    ")"
   ],
   "metadata": {
    "collapsed": false,
    "ExecuteTime": {
     "end_time": "2024-02-29T18:21:20.069376Z",
     "start_time": "2024-02-29T18:21:20.039251Z"
    }
   },
   "id": "253967c2682028e9",
   "execution_count": 10
  },
  {
   "cell_type": "markdown",
   "source": [
    "Logit"
   ],
   "metadata": {
    "collapsed": false
   },
   "id": "a31832e6ec02620f"
  },
  {
   "cell_type": "code",
   "outputs": [],
   "source": [
    "from sklearn.pipeline import Pipeline\n",
    "from sklearn.linear_model import LogisticRegressionCV\n",
    "from sklearn.model_selection import GridSearchCV\n",
    "\n",
    "# no regularisation needed so setting the parameter to very high value\n",
    "Cs_value_logit = [1e20]\n",
    "\n",
    "# define cv search\n",
    "logit_search = LogisticRegressionCV(\n",
    "    Cs=Cs_value_logit,\n",
    "    refit=True, \n",
    "    scoring='roc_auc', \n",
    "    solver=\"liblinear\", \n",
    "    tol=1e-7, \n",
    "    random_state=42\n",
    ")\n",
    "\n",
    "logit_pipe = Pipeline(\n",
    "    [(\"preprocess\", preprocessing), (\"regressor\", logit_search)], verbose=True\n",
    ")"
   ],
   "metadata": {
    "collapsed": false,
    "ExecuteTime": {
     "end_time": "2024-02-29T18:21:20.123633Z",
     "start_time": "2024-02-29T18:21:20.046284Z"
    }
   },
   "id": "d0377e9e01466b54",
   "execution_count": 11
  },
  {
   "cell_type": "code",
   "outputs": [
    {
     "name": "stdout",
     "output_type": "stream",
     "text": [
      "[Pipeline] ........ (step 1 of 2) Processing preprocess, total=   0.0s\n",
      "[Pipeline] ......... (step 2 of 2) Processing regressor, total=   1.5s\n"
     ]
    },
    {
     "data": {
      "text/plain": "array([0.70914379])"
     },
     "execution_count": 12,
     "metadata": {},
     "output_type": "execute_result"
    }
   ],
   "source": [
    "start_time = datetime.now()\n",
    "logit_results = logit_pipe.fit(training_set[categorical_columns + numerical_columns], training_set.default)\n",
    "logit3_time = datetime.now() - start_time\n",
    "\n",
    "scores = logit_search.scores_[1]  # For class label 1\n",
    "mean_scores = np.mean(scores, axis=0)\n",
    "mean_scores"
   ],
   "metadata": {
    "collapsed": false,
    "ExecuteTime": {
     "end_time": "2024-02-29T18:21:21.600811Z",
     "start_time": "2024-02-29T18:21:20.099928Z"
    }
   },
   "id": "45dcdfa65db32e31",
   "execution_count": 12
  },
  {
   "cell_type": "code",
   "outputs": [
    {
     "data": {
      "text/plain": "0.30993784695339244"
     },
     "execution_count": 13,
     "metadata": {},
     "output_type": "execute_result"
    }
   ],
   "source": [
    "logit_holdout_rmse = mean_squared_error(logit_pipe.predict_proba(holdout_set[categorical_columns + numerical_columns])[:,1], holdout_set['default'], squared=False)\n",
    "logit_holdout_rmse"
   ],
   "metadata": {
    "collapsed": false,
    "ExecuteTime": {
     "end_time": "2024-02-29T18:21:21.642263Z",
     "start_time": "2024-02-29T18:21:21.605704Z"
    }
   },
   "id": "6b83076cbd58d263",
   "execution_count": 13
  },
  {
   "cell_type": "markdown",
   "source": [
    "LASSO Logit"
   ],
   "metadata": {
    "collapsed": false
   },
   "id": "87666b33ae3b6c79"
  },
  {
   "cell_type": "code",
   "outputs": [
    {
     "data": {
      "text/plain": "[0.001165283863149063,\n 0.0025105279785027075,\n 0.0054087685671818505,\n 0.011652838631490626,\n 0.025105279785027055,\n 0.054087685671818445,\n 0.11652838631490617,\n 0.25105279785027057,\n 0.5408768567181845,\n 1.1652838631490607]"
     },
     "execution_count": 14,
     "metadata": {},
     "output_type": "execute_result"
    }
   ],
   "source": [
    "from sklearn.preprocessing import StandardScaler, PolynomialFeatures\n",
    "# define cv search\n",
    "# lasso_search = GridSearchCV(\n",
    "#     lasso_model,\n",
    "#     {\"alpha\":[i/100 for i in range(1, 5, 1)], \"l1_ratio\": [0.1, 0.2, 0.3],},\n",
    "#     cv=5,\n",
    "#     scoring=\"neg_root_mean_squared_error\",\n",
    "#     verbose=3,\n",
    "# )\n",
    "lambdas = list(10**np.arange(-1, -4.01, -1/3))\n",
    "n_obs = training_set.shape[0]*4/5\n",
    "Cs_values = [1/(l*n_obs) for l in lambdas]\n",
    "\n",
    "lasso_search = LogisticRegressionCV(\n",
    "    Cs = Cs_values, \n",
    "    penalty = 'l1', # L1 makes it lasso\n",
    "    cv = 5, \n",
    "    refit = True, \n",
    "    scoring = 'roc_auc', \n",
    "    solver = 'liblinear',\n",
    "    random_state = 42\n",
    ")\n",
    "\n",
    "lasso_pipe = Pipeline(\n",
    "    [(\"preprocess\", preprocessing), \n",
    "     ('interactions', PolynomialFeatures(degree=2, interaction_only=True, include_bias=False)),\n",
    "     ('scaling', StandardScaler()),\n",
    "     (\"regressor\", lasso_search)\n",
    "     ], verbose=True\n",
    ")\n",
    "Cs_values"
   ],
   "metadata": {
    "collapsed": false,
    "ExecuteTime": {
     "end_time": "2024-02-29T18:21:21.643308Z",
     "start_time": "2024-02-29T18:21:21.635857Z"
    }
   },
   "id": "1a01d61d0611afe6",
   "execution_count": 14
  },
  {
   "cell_type": "code",
   "outputs": [
    {
     "name": "stdout",
     "output_type": "stream",
     "text": [
      "[Pipeline] ........ (step 1 of 4) Processing preprocess, total=   0.0s\n",
      "[Pipeline] ...... (step 2 of 4) Processing interactions, total=   0.1s\n",
      "[Pipeline] ........... (step 3 of 4) Processing scaling, total=   0.1s\n",
      "[Pipeline] ......... (step 4 of 4) Processing regressor, total= 1.7min\n"
     ]
    },
    {
     "data": {
      "text/plain": "Pipeline(steps=[('preprocess',\n                 ColumnTransformer(remainder='passthrough',\n                                   transformers=[('cat',\n                                                  OneHotEncoder(handle_unknown='ignore'),\n                                                  ['f_gender', 'f_origin',\n                                                   'f_urban_m',\n                                                   'f_region_m'])])),\n                ('interactions',\n                 PolynomialFeatures(include_bias=False, interaction_only=True)),\n                ('scaling', StandardScaler()),\n                ('regressor',\n                 LogisticRegressionCV(Cs=[0.001165283863149063,\n                                          0.0025105279785027075,\n                                          0.0054087685671818505,\n                                          0.011652838631490626,\n                                          0.025105279785027055,\n                                          0.054087685671818445,\n                                          0.11652838631490617,\n                                          0.25105279785027057,\n                                          0.5408768567181845,\n                                          1.1652838631490607],\n                                      cv=5, penalty='l1', random_state=42,\n                                      scoring='roc_auc', solver='liblinear'))],\n         verbose=True)",
      "text/html": "<style>#sk-container-id-1 {color: black;}#sk-container-id-1 pre{padding: 0;}#sk-container-id-1 div.sk-toggleable {background-color: white;}#sk-container-id-1 label.sk-toggleable__label {cursor: pointer;display: block;width: 100%;margin-bottom: 0;padding: 0.3em;box-sizing: border-box;text-align: center;}#sk-container-id-1 label.sk-toggleable__label-arrow:before {content: \"▸\";float: left;margin-right: 0.25em;color: #696969;}#sk-container-id-1 label.sk-toggleable__label-arrow:hover:before {color: black;}#sk-container-id-1 div.sk-estimator:hover label.sk-toggleable__label-arrow:before {color: black;}#sk-container-id-1 div.sk-toggleable__content {max-height: 0;max-width: 0;overflow: hidden;text-align: left;background-color: #f0f8ff;}#sk-container-id-1 div.sk-toggleable__content pre {margin: 0.2em;color: black;border-radius: 0.25em;background-color: #f0f8ff;}#sk-container-id-1 input.sk-toggleable__control:checked~div.sk-toggleable__content {max-height: 200px;max-width: 100%;overflow: auto;}#sk-container-id-1 input.sk-toggleable__control:checked~label.sk-toggleable__label-arrow:before {content: \"▾\";}#sk-container-id-1 div.sk-estimator input.sk-toggleable__control:checked~label.sk-toggleable__label {background-color: #d4ebff;}#sk-container-id-1 div.sk-label input.sk-toggleable__control:checked~label.sk-toggleable__label {background-color: #d4ebff;}#sk-container-id-1 input.sk-hidden--visually {border: 0;clip: rect(1px 1px 1px 1px);clip: rect(1px, 1px, 1px, 1px);height: 1px;margin: -1px;overflow: hidden;padding: 0;position: absolute;width: 1px;}#sk-container-id-1 div.sk-estimator {font-family: monospace;background-color: #f0f8ff;border: 1px dotted black;border-radius: 0.25em;box-sizing: border-box;margin-bottom: 0.5em;}#sk-container-id-1 div.sk-estimator:hover {background-color: #d4ebff;}#sk-container-id-1 div.sk-parallel-item::after {content: \"\";width: 100%;border-bottom: 1px solid gray;flex-grow: 1;}#sk-container-id-1 div.sk-label:hover label.sk-toggleable__label {background-color: #d4ebff;}#sk-container-id-1 div.sk-serial::before {content: \"\";position: absolute;border-left: 1px solid gray;box-sizing: border-box;top: 0;bottom: 0;left: 50%;z-index: 0;}#sk-container-id-1 div.sk-serial {display: flex;flex-direction: column;align-items: center;background-color: white;padding-right: 0.2em;padding-left: 0.2em;position: relative;}#sk-container-id-1 div.sk-item {position: relative;z-index: 1;}#sk-container-id-1 div.sk-parallel {display: flex;align-items: stretch;justify-content: center;background-color: white;position: relative;}#sk-container-id-1 div.sk-item::before, #sk-container-id-1 div.sk-parallel-item::before {content: \"\";position: absolute;border-left: 1px solid gray;box-sizing: border-box;top: 0;bottom: 0;left: 50%;z-index: -1;}#sk-container-id-1 div.sk-parallel-item {display: flex;flex-direction: column;z-index: 1;position: relative;background-color: white;}#sk-container-id-1 div.sk-parallel-item:first-child::after {align-self: flex-end;width: 50%;}#sk-container-id-1 div.sk-parallel-item:last-child::after {align-self: flex-start;width: 50%;}#sk-container-id-1 div.sk-parallel-item:only-child::after {width: 0;}#sk-container-id-1 div.sk-dashed-wrapped {border: 1px dashed gray;margin: 0 0.4em 0.5em 0.4em;box-sizing: border-box;padding-bottom: 0.4em;background-color: white;}#sk-container-id-1 div.sk-label label {font-family: monospace;font-weight: bold;display: inline-block;line-height: 1.2em;}#sk-container-id-1 div.sk-label-container {text-align: center;}#sk-container-id-1 div.sk-container {/* jupyter's `normalize.less` sets `[hidden] { display: none; }` but bootstrap.min.css set `[hidden] { display: none !important; }` so we also need the `!important` here to be able to override the default hidden behavior on the sphinx rendered scikit-learn.org. See: https://github.com/scikit-learn/scikit-learn/issues/21755 */display: inline-block !important;position: relative;}#sk-container-id-1 div.sk-text-repr-fallback {display: none;}</style><div id=\"sk-container-id-1\" class=\"sk-top-container\"><div class=\"sk-text-repr-fallback\"><pre>Pipeline(steps=[(&#x27;preprocess&#x27;,\n                 ColumnTransformer(remainder=&#x27;passthrough&#x27;,\n                                   transformers=[(&#x27;cat&#x27;,\n                                                  OneHotEncoder(handle_unknown=&#x27;ignore&#x27;),\n                                                  [&#x27;f_gender&#x27;, &#x27;f_origin&#x27;,\n                                                   &#x27;f_urban_m&#x27;,\n                                                   &#x27;f_region_m&#x27;])])),\n                (&#x27;interactions&#x27;,\n                 PolynomialFeatures(include_bias=False, interaction_only=True)),\n                (&#x27;scaling&#x27;, StandardScaler()),\n                (&#x27;regressor&#x27;,\n                 LogisticRegressionCV(Cs=[0.001165283863149063,\n                                          0.0025105279785027075,\n                                          0.0054087685671818505,\n                                          0.011652838631490626,\n                                          0.025105279785027055,\n                                          0.054087685671818445,\n                                          0.11652838631490617,\n                                          0.25105279785027057,\n                                          0.5408768567181845,\n                                          1.1652838631490607],\n                                      cv=5, penalty=&#x27;l1&#x27;, random_state=42,\n                                      scoring=&#x27;roc_auc&#x27;, solver=&#x27;liblinear&#x27;))],\n         verbose=True)</pre><b>In a Jupyter environment, please rerun this cell to show the HTML representation or trust the notebook. <br />On GitHub, the HTML representation is unable to render, please try loading this page with nbviewer.org.</b></div><div class=\"sk-container\" hidden><div class=\"sk-item sk-dashed-wrapped\"><div class=\"sk-label-container\"><div class=\"sk-label sk-toggleable\"><input class=\"sk-toggleable__control sk-hidden--visually\" id=\"sk-estimator-id-1\" type=\"checkbox\" ><label for=\"sk-estimator-id-1\" class=\"sk-toggleable__label sk-toggleable__label-arrow\">Pipeline</label><div class=\"sk-toggleable__content\"><pre>Pipeline(steps=[(&#x27;preprocess&#x27;,\n                 ColumnTransformer(remainder=&#x27;passthrough&#x27;,\n                                   transformers=[(&#x27;cat&#x27;,\n                                                  OneHotEncoder(handle_unknown=&#x27;ignore&#x27;),\n                                                  [&#x27;f_gender&#x27;, &#x27;f_origin&#x27;,\n                                                   &#x27;f_urban_m&#x27;,\n                                                   &#x27;f_region_m&#x27;])])),\n                (&#x27;interactions&#x27;,\n                 PolynomialFeatures(include_bias=False, interaction_only=True)),\n                (&#x27;scaling&#x27;, StandardScaler()),\n                (&#x27;regressor&#x27;,\n                 LogisticRegressionCV(Cs=[0.001165283863149063,\n                                          0.0025105279785027075,\n                                          0.0054087685671818505,\n                                          0.011652838631490626,\n                                          0.025105279785027055,\n                                          0.054087685671818445,\n                                          0.11652838631490617,\n                                          0.25105279785027057,\n                                          0.5408768567181845,\n                                          1.1652838631490607],\n                                      cv=5, penalty=&#x27;l1&#x27;, random_state=42,\n                                      scoring=&#x27;roc_auc&#x27;, solver=&#x27;liblinear&#x27;))],\n         verbose=True)</pre></div></div></div><div class=\"sk-serial\"><div class=\"sk-item sk-dashed-wrapped\"><div class=\"sk-label-container\"><div class=\"sk-label sk-toggleable\"><input class=\"sk-toggleable__control sk-hidden--visually\" id=\"sk-estimator-id-2\" type=\"checkbox\" ><label for=\"sk-estimator-id-2\" class=\"sk-toggleable__label sk-toggleable__label-arrow\">preprocess: ColumnTransformer</label><div class=\"sk-toggleable__content\"><pre>ColumnTransformer(remainder=&#x27;passthrough&#x27;,\n                  transformers=[(&#x27;cat&#x27;, OneHotEncoder(handle_unknown=&#x27;ignore&#x27;),\n                                 [&#x27;f_gender&#x27;, &#x27;f_origin&#x27;, &#x27;f_urban_m&#x27;,\n                                  &#x27;f_region_m&#x27;])])</pre></div></div></div><div class=\"sk-parallel\"><div class=\"sk-parallel-item\"><div class=\"sk-item\"><div class=\"sk-label-container\"><div class=\"sk-label sk-toggleable\"><input class=\"sk-toggleable__control sk-hidden--visually\" id=\"sk-estimator-id-3\" type=\"checkbox\" ><label for=\"sk-estimator-id-3\" class=\"sk-toggleable__label sk-toggleable__label-arrow\">cat</label><div class=\"sk-toggleable__content\"><pre>[&#x27;f_gender&#x27;, &#x27;f_origin&#x27;, &#x27;f_urban_m&#x27;, &#x27;f_region_m&#x27;]</pre></div></div></div><div class=\"sk-serial\"><div class=\"sk-item\"><div class=\"sk-estimator sk-toggleable\"><input class=\"sk-toggleable__control sk-hidden--visually\" id=\"sk-estimator-id-4\" type=\"checkbox\" ><label for=\"sk-estimator-id-4\" class=\"sk-toggleable__label sk-toggleable__label-arrow\">OneHotEncoder</label><div class=\"sk-toggleable__content\"><pre>OneHotEncoder(handle_unknown=&#x27;ignore&#x27;)</pre></div></div></div></div></div></div><div class=\"sk-parallel-item\"><div class=\"sk-item\"><div class=\"sk-label-container\"><div class=\"sk-label sk-toggleable\"><input class=\"sk-toggleable__control sk-hidden--visually\" id=\"sk-estimator-id-5\" type=\"checkbox\" ><label for=\"sk-estimator-id-5\" class=\"sk-toggleable__label sk-toggleable__label-arrow\">remainder</label><div class=\"sk-toggleable__content\"><pre>[&#x27;n_amort&#x27;, &#x27;n_curr_assets&#x27;, &#x27;n_curr_liab&#x27;, &#x27;n_extra_exp&#x27;, &#x27;n_extra_inc&#x27;, &#x27;n_extra_profit_loss&#x27;, &#x27;n_fixed_assets&#x27;, &#x27;n_inc_bef_tax&#x27;, &#x27;n_intang_assets&#x27;, &#x27;n_inventories&#x27;, &#x27;n_liq_assets&#x27;, &#x27;n_material_exp&#x27;, &#x27;n_personnel_exp&#x27;, &#x27;n_profit_loss_year&#x27;, &#x27;n_sales&#x27;, &#x27;n_share_eq&#x27;, &#x27;n_subscribed_cap&#x27;, &#x27;n_tang_assets&#x27;, &#x27;n_balsheet_length&#x27;, &#x27;n_ceo_count&#x27;, &#x27;n_foreign&#x27;, &#x27;n_female&#x27;, &#x27;n_inoffice_days&#x27;, &#x27;n_day_alive&#x27;, &#x27;d_balsheet_flag&#x27;, &#x27;d_balsheet_notfullyear&#x27;]</pre></div></div></div><div class=\"sk-serial\"><div class=\"sk-item\"><div class=\"sk-estimator sk-toggleable\"><input class=\"sk-toggleable__control sk-hidden--visually\" id=\"sk-estimator-id-6\" type=\"checkbox\" ><label for=\"sk-estimator-id-6\" class=\"sk-toggleable__label sk-toggleable__label-arrow\">passthrough</label><div class=\"sk-toggleable__content\"><pre>passthrough</pre></div></div></div></div></div></div></div></div><div class=\"sk-item\"><div class=\"sk-estimator sk-toggleable\"><input class=\"sk-toggleable__control sk-hidden--visually\" id=\"sk-estimator-id-7\" type=\"checkbox\" ><label for=\"sk-estimator-id-7\" class=\"sk-toggleable__label sk-toggleable__label-arrow\">PolynomialFeatures</label><div class=\"sk-toggleable__content\"><pre>PolynomialFeatures(include_bias=False, interaction_only=True)</pre></div></div></div><div class=\"sk-item\"><div class=\"sk-estimator sk-toggleable\"><input class=\"sk-toggleable__control sk-hidden--visually\" id=\"sk-estimator-id-8\" type=\"checkbox\" ><label for=\"sk-estimator-id-8\" class=\"sk-toggleable__label sk-toggleable__label-arrow\">StandardScaler</label><div class=\"sk-toggleable__content\"><pre>StandardScaler()</pre></div></div></div><div class=\"sk-item\"><div class=\"sk-estimator sk-toggleable\"><input class=\"sk-toggleable__control sk-hidden--visually\" id=\"sk-estimator-id-9\" type=\"checkbox\" ><label for=\"sk-estimator-id-9\" class=\"sk-toggleable__label sk-toggleable__label-arrow\">LogisticRegressionCV</label><div class=\"sk-toggleable__content\"><pre>LogisticRegressionCV(Cs=[0.001165283863149063, 0.0025105279785027075,\n                         0.0054087685671818505, 0.011652838631490626,\n                         0.025105279785027055, 0.054087685671818445,\n                         0.11652838631490617, 0.25105279785027057,\n                         0.5408768567181845, 1.1652838631490607],\n                     cv=5, penalty=&#x27;l1&#x27;, random_state=42, scoring=&#x27;roc_auc&#x27;,\n                     solver=&#x27;liblinear&#x27;)</pre></div></div></div></div></div></div></div>"
     },
     "execution_count": 15,
     "metadata": {},
     "output_type": "execute_result"
    }
   ],
   "source": [
    "start_time = datetime.now()\n",
    "lasso_results = lasso_pipe.fit(training_set[categorical_columns + numerical_columns], training_set.default)\n",
    "lasso3_time = datetime.now() - start_time\n",
    "lasso_results"
   ],
   "metadata": {
    "collapsed": false,
    "ExecuteTime": {
     "end_time": "2024-02-29T18:23:04.062985Z",
     "start_time": "2024-02-29T18:21:21.644650Z"
    }
   },
   "id": "c8df21446d434676",
   "execution_count": 15
  },
  {
   "cell_type": "code",
   "outputs": [
    {
     "name": "stdout",
     "output_type": "stream",
     "text": [
      "Best Score: 0.7435114684600463, Best C: 0.5408768567181845\n"
     ]
    }
   ],
   "source": [
    "# Getting the best score and corresponding C for binary classification\n",
    "scores = lasso_search.scores_[1]  # For class label 1\n",
    "mean_scores = np.mean(scores, axis=0)\n",
    "best_score = np.max(mean_scores)\n",
    "best_C_index = np.argmax(mean_scores)\n",
    "best_C = lasso_search.Cs_[best_C_index]\n",
    "\n",
    "print(f\"Best Score: {best_score}, Best C: {best_C}\")"
   ],
   "metadata": {
    "collapsed": false,
    "ExecuteTime": {
     "end_time": "2024-02-29T18:23:04.065322Z",
     "start_time": "2024-02-29T18:23:04.062914Z"
    }
   },
   "id": "6bc6b774cf0dd9d3",
   "execution_count": 16
  },
  {
   "cell_type": "code",
   "outputs": [
    {
     "data": {
      "text/plain": "0.2565305894193252"
     },
     "execution_count": 17,
     "metadata": {},
     "output_type": "execute_result"
    }
   ],
   "source": [
    "lasso_holdout_rmse = mean_squared_error(lasso_pipe.predict_proba(holdout_set[categorical_columns + numerical_columns])[:,1], holdout_set['default'], squared=False)\n",
    "lasso_holdout_rmse"
   ],
   "metadata": {
    "collapsed": false,
    "ExecuteTime": {
     "end_time": "2024-02-29T18:23:04.148200Z",
     "start_time": "2024-02-29T18:23:04.067496Z"
    }
   },
   "id": "15ed944747a14e9c",
   "execution_count": 17
  },
  {
   "cell_type": "markdown",
   "source": [
    "Random Forest"
   ],
   "metadata": {
    "collapsed": false
   },
   "id": "1514a53911e22f21"
  },
  {
   "cell_type": "code",
   "outputs": [
    {
     "data": {
      "text/plain": "5.477225575051661"
     },
     "execution_count": 18,
     "metadata": {},
     "output_type": "execute_result"
    }
   ],
   "source": [
    "np.sqrt(len(numerical_columns + categorical_columns))"
   ],
   "metadata": {
    "collapsed": false,
    "ExecuteTime": {
     "end_time": "2024-02-29T18:23:04.160526Z",
     "start_time": "2024-02-29T18:23:04.148153Z"
    }
   },
   "id": "80fd5ef54619ecbe",
   "execution_count": 18
  },
  {
   "cell_type": "code",
   "outputs": [],
   "source": [
    "from sklearn.ensemble import RandomForestClassifier\n",
    "\n",
    "grid = {'max_features': [5, 6, 7],\n",
    "        'criterion':['gini'],\n",
    "        'min_samples_split': [15, 20, 40],\n",
    "        \"min_samples_leaf\": [5, 8, 10]}\n",
    "\n",
    "prob_forest = RandomForestClassifier(\n",
    "    random_state=42, \n",
    "    n_estimators=500, \n",
    "    oob_score=True)\n",
    "\n",
    "prob_forest_search = GridSearchCV(\n",
    "    prob_forest, \n",
    "    grid, \n",
    "    cv=5, \n",
    "    refit='roc_auc',\n",
    "    scoring = ['roc_auc'], \n",
    "    n_jobs=-1)\n",
    "\n",
    "prob_forest_pipe = Pipeline(\n",
    "    [(\"preprocess\", preprocessing), (\"regressor\", prob_forest_search)], verbose=True\n",
    ")"
   ],
   "metadata": {
    "collapsed": false,
    "ExecuteTime": {
     "end_time": "2024-02-29T23:09:06.422153Z",
     "start_time": "2024-02-29T23:09:06.398508Z"
    }
   },
   "id": "a3a1e83aaa3bd550",
   "execution_count": 63
  },
  {
   "cell_type": "code",
   "outputs": [
    {
     "name": "stdout",
     "output_type": "stream",
     "text": [
      "[Pipeline] ........ (step 1 of 2) Processing preprocess, total=   0.0s\n",
      "[Pipeline] ......... (step 2 of 2) Processing regressor, total= 3.4min\n"
     ]
    },
    {
     "data": {
      "text/plain": "Pipeline(steps=[('preprocess',\n                 ColumnTransformer(remainder='passthrough',\n                                   transformers=[('cat',\n                                                  OneHotEncoder(handle_unknown='ignore'),\n                                                  ['f_gender', 'f_origin',\n                                                   'f_urban_m',\n                                                   'f_region_m'])])),\n                ('regressor',\n                 GridSearchCV(cv=5,\n                              estimator=RandomForestClassifier(n_estimators=500,\n                                                               oob_score=True,\n                                                               random_state=42),\n                              n_jobs=-1,\n                              param_grid={'criterion': ['gini'],\n                                          'max_features': [5, 6, 7],\n                                          'min_samples_leaf': [5, 8, 10],\n                                          'min_samples_split': [15, 20, 40]},\n                              refit='roc_auc', scoring=['roc_auc']))],\n         verbose=True)",
      "text/html": "<style>#sk-container-id-8 {color: black;}#sk-container-id-8 pre{padding: 0;}#sk-container-id-8 div.sk-toggleable {background-color: white;}#sk-container-id-8 label.sk-toggleable__label {cursor: pointer;display: block;width: 100%;margin-bottom: 0;padding: 0.3em;box-sizing: border-box;text-align: center;}#sk-container-id-8 label.sk-toggleable__label-arrow:before {content: \"▸\";float: left;margin-right: 0.25em;color: #696969;}#sk-container-id-8 label.sk-toggleable__label-arrow:hover:before {color: black;}#sk-container-id-8 div.sk-estimator:hover label.sk-toggleable__label-arrow:before {color: black;}#sk-container-id-8 div.sk-toggleable__content {max-height: 0;max-width: 0;overflow: hidden;text-align: left;background-color: #f0f8ff;}#sk-container-id-8 div.sk-toggleable__content pre {margin: 0.2em;color: black;border-radius: 0.25em;background-color: #f0f8ff;}#sk-container-id-8 input.sk-toggleable__control:checked~div.sk-toggleable__content {max-height: 200px;max-width: 100%;overflow: auto;}#sk-container-id-8 input.sk-toggleable__control:checked~label.sk-toggleable__label-arrow:before {content: \"▾\";}#sk-container-id-8 div.sk-estimator input.sk-toggleable__control:checked~label.sk-toggleable__label {background-color: #d4ebff;}#sk-container-id-8 div.sk-label input.sk-toggleable__control:checked~label.sk-toggleable__label {background-color: #d4ebff;}#sk-container-id-8 input.sk-hidden--visually {border: 0;clip: rect(1px 1px 1px 1px);clip: rect(1px, 1px, 1px, 1px);height: 1px;margin: -1px;overflow: hidden;padding: 0;position: absolute;width: 1px;}#sk-container-id-8 div.sk-estimator {font-family: monospace;background-color: #f0f8ff;border: 1px dotted black;border-radius: 0.25em;box-sizing: border-box;margin-bottom: 0.5em;}#sk-container-id-8 div.sk-estimator:hover {background-color: #d4ebff;}#sk-container-id-8 div.sk-parallel-item::after {content: \"\";width: 100%;border-bottom: 1px solid gray;flex-grow: 1;}#sk-container-id-8 div.sk-label:hover label.sk-toggleable__label {background-color: #d4ebff;}#sk-container-id-8 div.sk-serial::before {content: \"\";position: absolute;border-left: 1px solid gray;box-sizing: border-box;top: 0;bottom: 0;left: 50%;z-index: 0;}#sk-container-id-8 div.sk-serial {display: flex;flex-direction: column;align-items: center;background-color: white;padding-right: 0.2em;padding-left: 0.2em;position: relative;}#sk-container-id-8 div.sk-item {position: relative;z-index: 1;}#sk-container-id-8 div.sk-parallel {display: flex;align-items: stretch;justify-content: center;background-color: white;position: relative;}#sk-container-id-8 div.sk-item::before, #sk-container-id-8 div.sk-parallel-item::before {content: \"\";position: absolute;border-left: 1px solid gray;box-sizing: border-box;top: 0;bottom: 0;left: 50%;z-index: -1;}#sk-container-id-8 div.sk-parallel-item {display: flex;flex-direction: column;z-index: 1;position: relative;background-color: white;}#sk-container-id-8 div.sk-parallel-item:first-child::after {align-self: flex-end;width: 50%;}#sk-container-id-8 div.sk-parallel-item:last-child::after {align-self: flex-start;width: 50%;}#sk-container-id-8 div.sk-parallel-item:only-child::after {width: 0;}#sk-container-id-8 div.sk-dashed-wrapped {border: 1px dashed gray;margin: 0 0.4em 0.5em 0.4em;box-sizing: border-box;padding-bottom: 0.4em;background-color: white;}#sk-container-id-8 div.sk-label label {font-family: monospace;font-weight: bold;display: inline-block;line-height: 1.2em;}#sk-container-id-8 div.sk-label-container {text-align: center;}#sk-container-id-8 div.sk-container {/* jupyter's `normalize.less` sets `[hidden] { display: none; }` but bootstrap.min.css set `[hidden] { display: none !important; }` so we also need the `!important` here to be able to override the default hidden behavior on the sphinx rendered scikit-learn.org. See: https://github.com/scikit-learn/scikit-learn/issues/21755 */display: inline-block !important;position: relative;}#sk-container-id-8 div.sk-text-repr-fallback {display: none;}</style><div id=\"sk-container-id-8\" class=\"sk-top-container\"><div class=\"sk-text-repr-fallback\"><pre>Pipeline(steps=[(&#x27;preprocess&#x27;,\n                 ColumnTransformer(remainder=&#x27;passthrough&#x27;,\n                                   transformers=[(&#x27;cat&#x27;,\n                                                  OneHotEncoder(handle_unknown=&#x27;ignore&#x27;),\n                                                  [&#x27;f_gender&#x27;, &#x27;f_origin&#x27;,\n                                                   &#x27;f_urban_m&#x27;,\n                                                   &#x27;f_region_m&#x27;])])),\n                (&#x27;regressor&#x27;,\n                 GridSearchCV(cv=5,\n                              estimator=RandomForestClassifier(n_estimators=500,\n                                                               oob_score=True,\n                                                               random_state=42),\n                              n_jobs=-1,\n                              param_grid={&#x27;criterion&#x27;: [&#x27;gini&#x27;],\n                                          &#x27;max_features&#x27;: [5, 6, 7],\n                                          &#x27;min_samples_leaf&#x27;: [5, 8, 10],\n                                          &#x27;min_samples_split&#x27;: [15, 20, 40]},\n                              refit=&#x27;roc_auc&#x27;, scoring=[&#x27;roc_auc&#x27;]))],\n         verbose=True)</pre><b>In a Jupyter environment, please rerun this cell to show the HTML representation or trust the notebook. <br />On GitHub, the HTML representation is unable to render, please try loading this page with nbviewer.org.</b></div><div class=\"sk-container\" hidden><div class=\"sk-item sk-dashed-wrapped\"><div class=\"sk-label-container\"><div class=\"sk-label sk-toggleable\"><input class=\"sk-toggleable__control sk-hidden--visually\" id=\"sk-estimator-id-40\" type=\"checkbox\" ><label for=\"sk-estimator-id-40\" class=\"sk-toggleable__label sk-toggleable__label-arrow\">Pipeline</label><div class=\"sk-toggleable__content\"><pre>Pipeline(steps=[(&#x27;preprocess&#x27;,\n                 ColumnTransformer(remainder=&#x27;passthrough&#x27;,\n                                   transformers=[(&#x27;cat&#x27;,\n                                                  OneHotEncoder(handle_unknown=&#x27;ignore&#x27;),\n                                                  [&#x27;f_gender&#x27;, &#x27;f_origin&#x27;,\n                                                   &#x27;f_urban_m&#x27;,\n                                                   &#x27;f_region_m&#x27;])])),\n                (&#x27;regressor&#x27;,\n                 GridSearchCV(cv=5,\n                              estimator=RandomForestClassifier(n_estimators=500,\n                                                               oob_score=True,\n                                                               random_state=42),\n                              n_jobs=-1,\n                              param_grid={&#x27;criterion&#x27;: [&#x27;gini&#x27;],\n                                          &#x27;max_features&#x27;: [5, 6, 7],\n                                          &#x27;min_samples_leaf&#x27;: [5, 8, 10],\n                                          &#x27;min_samples_split&#x27;: [15, 20, 40]},\n                              refit=&#x27;roc_auc&#x27;, scoring=[&#x27;roc_auc&#x27;]))],\n         verbose=True)</pre></div></div></div><div class=\"sk-serial\"><div class=\"sk-item sk-dashed-wrapped\"><div class=\"sk-label-container\"><div class=\"sk-label sk-toggleable\"><input class=\"sk-toggleable__control sk-hidden--visually\" id=\"sk-estimator-id-41\" type=\"checkbox\" ><label for=\"sk-estimator-id-41\" class=\"sk-toggleable__label sk-toggleable__label-arrow\">preprocess: ColumnTransformer</label><div class=\"sk-toggleable__content\"><pre>ColumnTransformer(remainder=&#x27;passthrough&#x27;,\n                  transformers=[(&#x27;cat&#x27;, OneHotEncoder(handle_unknown=&#x27;ignore&#x27;),\n                                 [&#x27;f_gender&#x27;, &#x27;f_origin&#x27;, &#x27;f_urban_m&#x27;,\n                                  &#x27;f_region_m&#x27;])])</pre></div></div></div><div class=\"sk-parallel\"><div class=\"sk-parallel-item\"><div class=\"sk-item\"><div class=\"sk-label-container\"><div class=\"sk-label sk-toggleable\"><input class=\"sk-toggleable__control sk-hidden--visually\" id=\"sk-estimator-id-42\" type=\"checkbox\" ><label for=\"sk-estimator-id-42\" class=\"sk-toggleable__label sk-toggleable__label-arrow\">cat</label><div class=\"sk-toggleable__content\"><pre>[&#x27;f_gender&#x27;, &#x27;f_origin&#x27;, &#x27;f_urban_m&#x27;, &#x27;f_region_m&#x27;]</pre></div></div></div><div class=\"sk-serial\"><div class=\"sk-item\"><div class=\"sk-estimator sk-toggleable\"><input class=\"sk-toggleable__control sk-hidden--visually\" id=\"sk-estimator-id-43\" type=\"checkbox\" ><label for=\"sk-estimator-id-43\" class=\"sk-toggleable__label sk-toggleable__label-arrow\">OneHotEncoder</label><div class=\"sk-toggleable__content\"><pre>OneHotEncoder(handle_unknown=&#x27;ignore&#x27;)</pre></div></div></div></div></div></div><div class=\"sk-parallel-item\"><div class=\"sk-item\"><div class=\"sk-label-container\"><div class=\"sk-label sk-toggleable\"><input class=\"sk-toggleable__control sk-hidden--visually\" id=\"sk-estimator-id-44\" type=\"checkbox\" ><label for=\"sk-estimator-id-44\" class=\"sk-toggleable__label sk-toggleable__label-arrow\">remainder</label><div class=\"sk-toggleable__content\"><pre>[&#x27;n_amort&#x27;, &#x27;n_curr_assets&#x27;, &#x27;n_curr_liab&#x27;, &#x27;n_extra_exp&#x27;, &#x27;n_extra_inc&#x27;, &#x27;n_extra_profit_loss&#x27;, &#x27;n_fixed_assets&#x27;, &#x27;n_inc_bef_tax&#x27;, &#x27;n_intang_assets&#x27;, &#x27;n_inventories&#x27;, &#x27;n_liq_assets&#x27;, &#x27;n_material_exp&#x27;, &#x27;n_personnel_exp&#x27;, &#x27;n_profit_loss_year&#x27;, &#x27;n_sales&#x27;, &#x27;n_share_eq&#x27;, &#x27;n_subscribed_cap&#x27;, &#x27;n_tang_assets&#x27;, &#x27;n_balsheet_length&#x27;, &#x27;n_ceo_count&#x27;, &#x27;n_foreign&#x27;, &#x27;n_female&#x27;, &#x27;n_inoffice_days&#x27;, &#x27;n_day_alive&#x27;, &#x27;d_balsheet_flag&#x27;, &#x27;d_balsheet_notfullyear&#x27;]</pre></div></div></div><div class=\"sk-serial\"><div class=\"sk-item\"><div class=\"sk-estimator sk-toggleable\"><input class=\"sk-toggleable__control sk-hidden--visually\" id=\"sk-estimator-id-45\" type=\"checkbox\" ><label for=\"sk-estimator-id-45\" class=\"sk-toggleable__label sk-toggleable__label-arrow\">passthrough</label><div class=\"sk-toggleable__content\"><pre>passthrough</pre></div></div></div></div></div></div></div></div><div class=\"sk-item sk-dashed-wrapped\"><div class=\"sk-label-container\"><div class=\"sk-label sk-toggleable\"><input class=\"sk-toggleable__control sk-hidden--visually\" id=\"sk-estimator-id-46\" type=\"checkbox\" ><label for=\"sk-estimator-id-46\" class=\"sk-toggleable__label sk-toggleable__label-arrow\">regressor: GridSearchCV</label><div class=\"sk-toggleable__content\"><pre>GridSearchCV(cv=5,\n             estimator=RandomForestClassifier(n_estimators=500, oob_score=True,\n                                              random_state=42),\n             n_jobs=-1,\n             param_grid={&#x27;criterion&#x27;: [&#x27;gini&#x27;], &#x27;max_features&#x27;: [5, 6, 7],\n                         &#x27;min_samples_leaf&#x27;: [5, 8, 10],\n                         &#x27;min_samples_split&#x27;: [15, 20, 40]},\n             refit=&#x27;roc_auc&#x27;, scoring=[&#x27;roc_auc&#x27;])</pre></div></div></div><div class=\"sk-parallel\"><div class=\"sk-parallel-item\"><div class=\"sk-item\"><div class=\"sk-label-container\"><div class=\"sk-label sk-toggleable\"><input class=\"sk-toggleable__control sk-hidden--visually\" id=\"sk-estimator-id-47\" type=\"checkbox\" ><label for=\"sk-estimator-id-47\" class=\"sk-toggleable__label sk-toggleable__label-arrow\">estimator: RandomForestClassifier</label><div class=\"sk-toggleable__content\"><pre>RandomForestClassifier(n_estimators=500, oob_score=True, random_state=42)</pre></div></div></div><div class=\"sk-serial\"><div class=\"sk-item\"><div class=\"sk-estimator sk-toggleable\"><input class=\"sk-toggleable__control sk-hidden--visually\" id=\"sk-estimator-id-48\" type=\"checkbox\" ><label for=\"sk-estimator-id-48\" class=\"sk-toggleable__label sk-toggleable__label-arrow\">RandomForestClassifier</label><div class=\"sk-toggleable__content\"><pre>RandomForestClassifier(n_estimators=500, oob_score=True, random_state=42)</pre></div></div></div></div></div></div></div></div></div></div></div></div>"
     },
     "execution_count": 64,
     "metadata": {},
     "output_type": "execute_result"
    }
   ],
   "source": [
    "start_time = datetime.now()\n",
    "prob_forest_results = prob_forest_pipe.fit(training_set[categorical_columns + numerical_columns], training_set.default)\n",
    "prob_forest1_time = datetime.now() - start_time\n",
    "prob_forest_results"
   ],
   "metadata": {
    "collapsed": false,
    "ExecuteTime": {
     "end_time": "2024-02-29T23:12:29.916661Z",
     "start_time": "2024-02-29T23:09:07.861374Z"
    }
   },
   "id": "f13982b349a14cd1",
   "execution_count": 64
  },
  {
   "cell_type": "code",
   "outputs": [
    {
     "data": {
      "text/plain": "RandomForestClassifier(max_features=6, min_samples_leaf=5, min_samples_split=15,\n                       n_estimators=500, oob_score=True, random_state=42)",
      "text/html": "<style>#sk-container-id-9 {color: black;}#sk-container-id-9 pre{padding: 0;}#sk-container-id-9 div.sk-toggleable {background-color: white;}#sk-container-id-9 label.sk-toggleable__label {cursor: pointer;display: block;width: 100%;margin-bottom: 0;padding: 0.3em;box-sizing: border-box;text-align: center;}#sk-container-id-9 label.sk-toggleable__label-arrow:before {content: \"▸\";float: left;margin-right: 0.25em;color: #696969;}#sk-container-id-9 label.sk-toggleable__label-arrow:hover:before {color: black;}#sk-container-id-9 div.sk-estimator:hover label.sk-toggleable__label-arrow:before {color: black;}#sk-container-id-9 div.sk-toggleable__content {max-height: 0;max-width: 0;overflow: hidden;text-align: left;background-color: #f0f8ff;}#sk-container-id-9 div.sk-toggleable__content pre {margin: 0.2em;color: black;border-radius: 0.25em;background-color: #f0f8ff;}#sk-container-id-9 input.sk-toggleable__control:checked~div.sk-toggleable__content {max-height: 200px;max-width: 100%;overflow: auto;}#sk-container-id-9 input.sk-toggleable__control:checked~label.sk-toggleable__label-arrow:before {content: \"▾\";}#sk-container-id-9 div.sk-estimator input.sk-toggleable__control:checked~label.sk-toggleable__label {background-color: #d4ebff;}#sk-container-id-9 div.sk-label input.sk-toggleable__control:checked~label.sk-toggleable__label {background-color: #d4ebff;}#sk-container-id-9 input.sk-hidden--visually {border: 0;clip: rect(1px 1px 1px 1px);clip: rect(1px, 1px, 1px, 1px);height: 1px;margin: -1px;overflow: hidden;padding: 0;position: absolute;width: 1px;}#sk-container-id-9 div.sk-estimator {font-family: monospace;background-color: #f0f8ff;border: 1px dotted black;border-radius: 0.25em;box-sizing: border-box;margin-bottom: 0.5em;}#sk-container-id-9 div.sk-estimator:hover {background-color: #d4ebff;}#sk-container-id-9 div.sk-parallel-item::after {content: \"\";width: 100%;border-bottom: 1px solid gray;flex-grow: 1;}#sk-container-id-9 div.sk-label:hover label.sk-toggleable__label {background-color: #d4ebff;}#sk-container-id-9 div.sk-serial::before {content: \"\";position: absolute;border-left: 1px solid gray;box-sizing: border-box;top: 0;bottom: 0;left: 50%;z-index: 0;}#sk-container-id-9 div.sk-serial {display: flex;flex-direction: column;align-items: center;background-color: white;padding-right: 0.2em;padding-left: 0.2em;position: relative;}#sk-container-id-9 div.sk-item {position: relative;z-index: 1;}#sk-container-id-9 div.sk-parallel {display: flex;align-items: stretch;justify-content: center;background-color: white;position: relative;}#sk-container-id-9 div.sk-item::before, #sk-container-id-9 div.sk-parallel-item::before {content: \"\";position: absolute;border-left: 1px solid gray;box-sizing: border-box;top: 0;bottom: 0;left: 50%;z-index: -1;}#sk-container-id-9 div.sk-parallel-item {display: flex;flex-direction: column;z-index: 1;position: relative;background-color: white;}#sk-container-id-9 div.sk-parallel-item:first-child::after {align-self: flex-end;width: 50%;}#sk-container-id-9 div.sk-parallel-item:last-child::after {align-self: flex-start;width: 50%;}#sk-container-id-9 div.sk-parallel-item:only-child::after {width: 0;}#sk-container-id-9 div.sk-dashed-wrapped {border: 1px dashed gray;margin: 0 0.4em 0.5em 0.4em;box-sizing: border-box;padding-bottom: 0.4em;background-color: white;}#sk-container-id-9 div.sk-label label {font-family: monospace;font-weight: bold;display: inline-block;line-height: 1.2em;}#sk-container-id-9 div.sk-label-container {text-align: center;}#sk-container-id-9 div.sk-container {/* jupyter's `normalize.less` sets `[hidden] { display: none; }` but bootstrap.min.css set `[hidden] { display: none !important; }` so we also need the `!important` here to be able to override the default hidden behavior on the sphinx rendered scikit-learn.org. See: https://github.com/scikit-learn/scikit-learn/issues/21755 */display: inline-block !important;position: relative;}#sk-container-id-9 div.sk-text-repr-fallback {display: none;}</style><div id=\"sk-container-id-9\" class=\"sk-top-container\"><div class=\"sk-text-repr-fallback\"><pre>RandomForestClassifier(max_features=6, min_samples_leaf=5, min_samples_split=15,\n                       n_estimators=500, oob_score=True, random_state=42)</pre><b>In a Jupyter environment, please rerun this cell to show the HTML representation or trust the notebook. <br />On GitHub, the HTML representation is unable to render, please try loading this page with nbviewer.org.</b></div><div class=\"sk-container\" hidden><div class=\"sk-item\"><div class=\"sk-estimator sk-toggleable\"><input class=\"sk-toggleable__control sk-hidden--visually\" id=\"sk-estimator-id-49\" type=\"checkbox\" checked><label for=\"sk-estimator-id-49\" class=\"sk-toggleable__label sk-toggleable__label-arrow\">RandomForestClassifier</label><div class=\"sk-toggleable__content\"><pre>RandomForestClassifier(max_features=6, min_samples_leaf=5, min_samples_split=15,\n                       n_estimators=500, oob_score=True, random_state=42)</pre></div></div></div></div></div>"
     },
     "execution_count": 65,
     "metadata": {},
     "output_type": "execute_result"
    }
   ],
   "source": [
    "prob_forest_search.best_estimator_"
   ],
   "metadata": {
    "collapsed": false,
    "ExecuteTime": {
     "end_time": "2024-02-29T23:12:29.920782Z",
     "start_time": "2024-02-29T23:12:29.917485Z"
    }
   },
   "id": "e85fd1f52df23cb1",
   "execution_count": 65
  },
  {
   "cell_type": "code",
   "outputs": [
    {
     "data": {
      "text/plain": "0.7938570533015997"
     },
     "execution_count": 66,
     "metadata": {},
     "output_type": "execute_result"
    }
   ],
   "source": [
    "prob_forest_search.best_score_"
   ],
   "metadata": {
    "collapsed": false,
    "ExecuteTime": {
     "end_time": "2024-02-29T23:12:29.923240Z",
     "start_time": "2024-02-29T23:12:29.921359Z"
    }
   },
   "id": "52c856cb9f8929ed",
   "execution_count": 66
  },
  {
   "cell_type": "code",
   "outputs": [],
   "source": [
    "df_rf_model_cv_results = pd.DataFrame(prob_forest_search.cv_results_)[[\n",
    "    'param_max_features', 'param_min_samples_leaf', \n",
    "    'param_min_samples_split', 'rank_test_roc_auc', 'mean_test_roc_auc']]\n",
    "df_rf_model_cv_results.columns = ['max features', 'min node size', 'min split size', 'rank roc auc', 'roc auc score']\n",
    "# df_rf_model_cv_results.pivot(\n",
    "#     index = 'max features', \n",
    "#     columns = 'min node size', \n",
    "#     values = 'RMSE').round(2)*-1\n",
    "df_rf_model_cv_results;"
   ],
   "metadata": {
    "collapsed": false,
    "ExecuteTime": {
     "end_time": "2024-02-29T23:12:29.950299Z",
     "start_time": "2024-02-29T23:12:29.926659Z"
    }
   },
   "id": "7b983f2aecdae7bf",
   "execution_count": 67
  },
  {
   "cell_type": "code",
   "outputs": [
    {
     "data": {
      "text/plain": "0.2674232155037754"
     },
     "execution_count": 68,
     "metadata": {},
     "output_type": "execute_result"
    }
   ],
   "source": [
    "prob_rf_holdout_rmse = mean_squared_error(prob_forest_pipe.predict_proba(holdout_set[categorical_columns + numerical_columns])[:,1], holdout_set['default'], squared=False)\n",
    "prob_rf_holdout_rmse"
   ],
   "metadata": {
    "collapsed": false,
    "ExecuteTime": {
     "end_time": "2024-02-29T23:12:30.012855Z",
     "start_time": "2024-02-29T23:12:29.934752Z"
    }
   },
   "id": "93ece4982380c0bb",
   "execution_count": 68
  },
  {
   "cell_type": "markdown",
   "source": [
    "GBM"
   ],
   "metadata": {
    "collapsed": false
   },
   "id": "2db19f4ce126501f"
  },
  {
   "cell_type": "code",
   "outputs": [],
   "source": [
    "from sklearn.ensemble import HistGradientBoostingClassifier\n",
    "\n",
    "# gbm_grid = {\"max_depth\": [5, 10, 15], \"min_samples_leaf\": [5, 10, 15], \"max_features\": [8, 10, 12]}\n",
    "gbm_grid = {\"max_depth\": [12, 15, 18], \"min_samples_leaf\": [5, 7, 8], 'learning_rate': [0.1, 0.01]}\n",
    "\n",
    "gbm = HistGradientBoostingClassifier( \n",
    "    random_state = 42)\n",
    "\n",
    "gbm_search = GridSearchCV(\n",
    "    gbm, \n",
    "    gbm_grid, \n",
    "    cv=5, \n",
    "    refit='roc_auc',\n",
    "    scoring = ['roc_auc'], \n",
    "    n_jobs=-1)\n",
    "\n",
    "gbm_pipe = Pipeline(\n",
    "    [(\"preprocess\", preprocessing), (\"regressor\", gbm_search)], verbose=True\n",
    ")"
   ],
   "metadata": {
    "collapsed": false,
    "ExecuteTime": {
     "end_time": "2024-02-29T21:34:32.973766Z",
     "start_time": "2024-02-29T21:34:32.958439Z"
    }
   },
   "id": "f4a9f13d2087baf0",
   "execution_count": 27
  },
  {
   "cell_type": "code",
   "outputs": [
    {
     "name": "stdout",
     "output_type": "stream",
     "text": [
      "[Pipeline] ........ (step 1 of 2) Processing preprocess, total=   0.0s\n",
      "[Pipeline] ......... (step 2 of 2) Processing regressor, total=   9.5s\n"
     ]
    },
    {
     "data": {
      "text/plain": "Pipeline(steps=[('preprocess',\n                 ColumnTransformer(remainder='passthrough',\n                                   transformers=[('cat',\n                                                  OneHotEncoder(handle_unknown='ignore'),\n                                                  ['f_gender', 'f_origin',\n                                                   'f_urban_m',\n                                                   'f_region_m'])])),\n                ('regressor',\n                 GridSearchCV(cv=5,\n                              estimator=HistGradientBoostingClassifier(random_state=42),\n                              n_jobs=-1,\n                              param_grid={'learning_rate': [0.1, 0.01],\n                                          'max_depth': [12, 15, 18],\n                                          'min_samples_leaf': [5, 7, 8]},\n                              refit='roc_auc', scoring=['roc_auc']))],\n         verbose=True)",
      "text/html": "<style>#sk-container-id-4 {color: black;}#sk-container-id-4 pre{padding: 0;}#sk-container-id-4 div.sk-toggleable {background-color: white;}#sk-container-id-4 label.sk-toggleable__label {cursor: pointer;display: block;width: 100%;margin-bottom: 0;padding: 0.3em;box-sizing: border-box;text-align: center;}#sk-container-id-4 label.sk-toggleable__label-arrow:before {content: \"▸\";float: left;margin-right: 0.25em;color: #696969;}#sk-container-id-4 label.sk-toggleable__label-arrow:hover:before {color: black;}#sk-container-id-4 div.sk-estimator:hover label.sk-toggleable__label-arrow:before {color: black;}#sk-container-id-4 div.sk-toggleable__content {max-height: 0;max-width: 0;overflow: hidden;text-align: left;background-color: #f0f8ff;}#sk-container-id-4 div.sk-toggleable__content pre {margin: 0.2em;color: black;border-radius: 0.25em;background-color: #f0f8ff;}#sk-container-id-4 input.sk-toggleable__control:checked~div.sk-toggleable__content {max-height: 200px;max-width: 100%;overflow: auto;}#sk-container-id-4 input.sk-toggleable__control:checked~label.sk-toggleable__label-arrow:before {content: \"▾\";}#sk-container-id-4 div.sk-estimator input.sk-toggleable__control:checked~label.sk-toggleable__label {background-color: #d4ebff;}#sk-container-id-4 div.sk-label input.sk-toggleable__control:checked~label.sk-toggleable__label {background-color: #d4ebff;}#sk-container-id-4 input.sk-hidden--visually {border: 0;clip: rect(1px 1px 1px 1px);clip: rect(1px, 1px, 1px, 1px);height: 1px;margin: -1px;overflow: hidden;padding: 0;position: absolute;width: 1px;}#sk-container-id-4 div.sk-estimator {font-family: monospace;background-color: #f0f8ff;border: 1px dotted black;border-radius: 0.25em;box-sizing: border-box;margin-bottom: 0.5em;}#sk-container-id-4 div.sk-estimator:hover {background-color: #d4ebff;}#sk-container-id-4 div.sk-parallel-item::after {content: \"\";width: 100%;border-bottom: 1px solid gray;flex-grow: 1;}#sk-container-id-4 div.sk-label:hover label.sk-toggleable__label {background-color: #d4ebff;}#sk-container-id-4 div.sk-serial::before {content: \"\";position: absolute;border-left: 1px solid gray;box-sizing: border-box;top: 0;bottom: 0;left: 50%;z-index: 0;}#sk-container-id-4 div.sk-serial {display: flex;flex-direction: column;align-items: center;background-color: white;padding-right: 0.2em;padding-left: 0.2em;position: relative;}#sk-container-id-4 div.sk-item {position: relative;z-index: 1;}#sk-container-id-4 div.sk-parallel {display: flex;align-items: stretch;justify-content: center;background-color: white;position: relative;}#sk-container-id-4 div.sk-item::before, #sk-container-id-4 div.sk-parallel-item::before {content: \"\";position: absolute;border-left: 1px solid gray;box-sizing: border-box;top: 0;bottom: 0;left: 50%;z-index: -1;}#sk-container-id-4 div.sk-parallel-item {display: flex;flex-direction: column;z-index: 1;position: relative;background-color: white;}#sk-container-id-4 div.sk-parallel-item:first-child::after {align-self: flex-end;width: 50%;}#sk-container-id-4 div.sk-parallel-item:last-child::after {align-self: flex-start;width: 50%;}#sk-container-id-4 div.sk-parallel-item:only-child::after {width: 0;}#sk-container-id-4 div.sk-dashed-wrapped {border: 1px dashed gray;margin: 0 0.4em 0.5em 0.4em;box-sizing: border-box;padding-bottom: 0.4em;background-color: white;}#sk-container-id-4 div.sk-label label {font-family: monospace;font-weight: bold;display: inline-block;line-height: 1.2em;}#sk-container-id-4 div.sk-label-container {text-align: center;}#sk-container-id-4 div.sk-container {/* jupyter's `normalize.less` sets `[hidden] { display: none; }` but bootstrap.min.css set `[hidden] { display: none !important; }` so we also need the `!important` here to be able to override the default hidden behavior on the sphinx rendered scikit-learn.org. See: https://github.com/scikit-learn/scikit-learn/issues/21755 */display: inline-block !important;position: relative;}#sk-container-id-4 div.sk-text-repr-fallback {display: none;}</style><div id=\"sk-container-id-4\" class=\"sk-top-container\"><div class=\"sk-text-repr-fallback\"><pre>Pipeline(steps=[(&#x27;preprocess&#x27;,\n                 ColumnTransformer(remainder=&#x27;passthrough&#x27;,\n                                   transformers=[(&#x27;cat&#x27;,\n                                                  OneHotEncoder(handle_unknown=&#x27;ignore&#x27;),\n                                                  [&#x27;f_gender&#x27;, &#x27;f_origin&#x27;,\n                                                   &#x27;f_urban_m&#x27;,\n                                                   &#x27;f_region_m&#x27;])])),\n                (&#x27;regressor&#x27;,\n                 GridSearchCV(cv=5,\n                              estimator=HistGradientBoostingClassifier(random_state=42),\n                              n_jobs=-1,\n                              param_grid={&#x27;learning_rate&#x27;: [0.1, 0.01],\n                                          &#x27;max_depth&#x27;: [12, 15, 18],\n                                          &#x27;min_samples_leaf&#x27;: [5, 7, 8]},\n                              refit=&#x27;roc_auc&#x27;, scoring=[&#x27;roc_auc&#x27;]))],\n         verbose=True)</pre><b>In a Jupyter environment, please rerun this cell to show the HTML representation or trust the notebook. <br />On GitHub, the HTML representation is unable to render, please try loading this page with nbviewer.org.</b></div><div class=\"sk-container\" hidden><div class=\"sk-item sk-dashed-wrapped\"><div class=\"sk-label-container\"><div class=\"sk-label sk-toggleable\"><input class=\"sk-toggleable__control sk-hidden--visually\" id=\"sk-estimator-id-20\" type=\"checkbox\" ><label for=\"sk-estimator-id-20\" class=\"sk-toggleable__label sk-toggleable__label-arrow\">Pipeline</label><div class=\"sk-toggleable__content\"><pre>Pipeline(steps=[(&#x27;preprocess&#x27;,\n                 ColumnTransformer(remainder=&#x27;passthrough&#x27;,\n                                   transformers=[(&#x27;cat&#x27;,\n                                                  OneHotEncoder(handle_unknown=&#x27;ignore&#x27;),\n                                                  [&#x27;f_gender&#x27;, &#x27;f_origin&#x27;,\n                                                   &#x27;f_urban_m&#x27;,\n                                                   &#x27;f_region_m&#x27;])])),\n                (&#x27;regressor&#x27;,\n                 GridSearchCV(cv=5,\n                              estimator=HistGradientBoostingClassifier(random_state=42),\n                              n_jobs=-1,\n                              param_grid={&#x27;learning_rate&#x27;: [0.1, 0.01],\n                                          &#x27;max_depth&#x27;: [12, 15, 18],\n                                          &#x27;min_samples_leaf&#x27;: [5, 7, 8]},\n                              refit=&#x27;roc_auc&#x27;, scoring=[&#x27;roc_auc&#x27;]))],\n         verbose=True)</pre></div></div></div><div class=\"sk-serial\"><div class=\"sk-item sk-dashed-wrapped\"><div class=\"sk-label-container\"><div class=\"sk-label sk-toggleable\"><input class=\"sk-toggleable__control sk-hidden--visually\" id=\"sk-estimator-id-21\" type=\"checkbox\" ><label for=\"sk-estimator-id-21\" class=\"sk-toggleable__label sk-toggleable__label-arrow\">preprocess: ColumnTransformer</label><div class=\"sk-toggleable__content\"><pre>ColumnTransformer(remainder=&#x27;passthrough&#x27;,\n                  transformers=[(&#x27;cat&#x27;, OneHotEncoder(handle_unknown=&#x27;ignore&#x27;),\n                                 [&#x27;f_gender&#x27;, &#x27;f_origin&#x27;, &#x27;f_urban_m&#x27;,\n                                  &#x27;f_region_m&#x27;])])</pre></div></div></div><div class=\"sk-parallel\"><div class=\"sk-parallel-item\"><div class=\"sk-item\"><div class=\"sk-label-container\"><div class=\"sk-label sk-toggleable\"><input class=\"sk-toggleable__control sk-hidden--visually\" id=\"sk-estimator-id-22\" type=\"checkbox\" ><label for=\"sk-estimator-id-22\" class=\"sk-toggleable__label sk-toggleable__label-arrow\">cat</label><div class=\"sk-toggleable__content\"><pre>[&#x27;f_gender&#x27;, &#x27;f_origin&#x27;, &#x27;f_urban_m&#x27;, &#x27;f_region_m&#x27;]</pre></div></div></div><div class=\"sk-serial\"><div class=\"sk-item\"><div class=\"sk-estimator sk-toggleable\"><input class=\"sk-toggleable__control sk-hidden--visually\" id=\"sk-estimator-id-23\" type=\"checkbox\" ><label for=\"sk-estimator-id-23\" class=\"sk-toggleable__label sk-toggleable__label-arrow\">OneHotEncoder</label><div class=\"sk-toggleable__content\"><pre>OneHotEncoder(handle_unknown=&#x27;ignore&#x27;)</pre></div></div></div></div></div></div><div class=\"sk-parallel-item\"><div class=\"sk-item\"><div class=\"sk-label-container\"><div class=\"sk-label sk-toggleable\"><input class=\"sk-toggleable__control sk-hidden--visually\" id=\"sk-estimator-id-24\" type=\"checkbox\" ><label for=\"sk-estimator-id-24\" class=\"sk-toggleable__label sk-toggleable__label-arrow\">remainder</label><div class=\"sk-toggleable__content\"><pre>[&#x27;n_amort&#x27;, &#x27;n_curr_assets&#x27;, &#x27;n_curr_liab&#x27;, &#x27;n_extra_exp&#x27;, &#x27;n_extra_inc&#x27;, &#x27;n_extra_profit_loss&#x27;, &#x27;n_fixed_assets&#x27;, &#x27;n_inc_bef_tax&#x27;, &#x27;n_intang_assets&#x27;, &#x27;n_inventories&#x27;, &#x27;n_liq_assets&#x27;, &#x27;n_material_exp&#x27;, &#x27;n_personnel_exp&#x27;, &#x27;n_profit_loss_year&#x27;, &#x27;n_sales&#x27;, &#x27;n_share_eq&#x27;, &#x27;n_subscribed_cap&#x27;, &#x27;n_tang_assets&#x27;, &#x27;n_balsheet_length&#x27;, &#x27;n_ceo_count&#x27;, &#x27;n_foreign&#x27;, &#x27;n_female&#x27;, &#x27;n_inoffice_days&#x27;, &#x27;n_day_alive&#x27;, &#x27;d_balsheet_flag&#x27;, &#x27;d_balsheet_notfullyear&#x27;]</pre></div></div></div><div class=\"sk-serial\"><div class=\"sk-item\"><div class=\"sk-estimator sk-toggleable\"><input class=\"sk-toggleable__control sk-hidden--visually\" id=\"sk-estimator-id-25\" type=\"checkbox\" ><label for=\"sk-estimator-id-25\" class=\"sk-toggleable__label sk-toggleable__label-arrow\">passthrough</label><div class=\"sk-toggleable__content\"><pre>passthrough</pre></div></div></div></div></div></div></div></div><div class=\"sk-item sk-dashed-wrapped\"><div class=\"sk-label-container\"><div class=\"sk-label sk-toggleable\"><input class=\"sk-toggleable__control sk-hidden--visually\" id=\"sk-estimator-id-26\" type=\"checkbox\" ><label for=\"sk-estimator-id-26\" class=\"sk-toggleable__label sk-toggleable__label-arrow\">regressor: GridSearchCV</label><div class=\"sk-toggleable__content\"><pre>GridSearchCV(cv=5, estimator=HistGradientBoostingClassifier(random_state=42),\n             n_jobs=-1,\n             param_grid={&#x27;learning_rate&#x27;: [0.1, 0.01],\n                         &#x27;max_depth&#x27;: [12, 15, 18],\n                         &#x27;min_samples_leaf&#x27;: [5, 7, 8]},\n             refit=&#x27;roc_auc&#x27;, scoring=[&#x27;roc_auc&#x27;])</pre></div></div></div><div class=\"sk-parallel\"><div class=\"sk-parallel-item\"><div class=\"sk-item\"><div class=\"sk-label-container\"><div class=\"sk-label sk-toggleable\"><input class=\"sk-toggleable__control sk-hidden--visually\" id=\"sk-estimator-id-27\" type=\"checkbox\" ><label for=\"sk-estimator-id-27\" class=\"sk-toggleable__label sk-toggleable__label-arrow\">estimator: HistGradientBoostingClassifier</label><div class=\"sk-toggleable__content\"><pre>HistGradientBoostingClassifier(random_state=42)</pre></div></div></div><div class=\"sk-serial\"><div class=\"sk-item\"><div class=\"sk-estimator sk-toggleable\"><input class=\"sk-toggleable__control sk-hidden--visually\" id=\"sk-estimator-id-28\" type=\"checkbox\" ><label for=\"sk-estimator-id-28\" class=\"sk-toggleable__label sk-toggleable__label-arrow\">HistGradientBoostingClassifier</label><div class=\"sk-toggleable__content\"><pre>HistGradientBoostingClassifier(random_state=42)</pre></div></div></div></div></div></div></div></div></div></div></div></div>"
     },
     "execution_count": 28,
     "metadata": {},
     "output_type": "execute_result"
    }
   ],
   "source": [
    "start_time = datetime.now()\n",
    "gbm_results = gbm_pipe.fit(training_set[categorical_columns + numerical_columns], training_set.default)\n",
    "gbm1_time = datetime.now() - start_time\n",
    "gbm_results"
   ],
   "metadata": {
    "collapsed": false,
    "ExecuteTime": {
     "end_time": "2024-02-29T21:34:43.130310Z",
     "start_time": "2024-02-29T21:34:33.613050Z"
    }
   },
   "id": "13595a6d4a1d7c92",
   "execution_count": 28
  },
  {
   "cell_type": "code",
   "outputs": [
    {
     "data": {
      "text/plain": "{'mean_fit_time': array([0.64485717, 0.60086665, 0.58145709, 0.73030267, 0.74131117,\n        0.76299605, 0.90553012, 1.04759636, 0.56950598, 0.58958778,\n        0.59137306, 0.57214699, 0.56879272, 0.56876173, 0.57435441,\n        0.55995774, 0.55335331, 0.50139017]),\n 'std_fit_time': array([0.02317455, 0.02509922, 0.03414361, 0.08111408, 0.03001036,\n        0.02288118, 0.1290916 , 0.037397  , 0.02416138, 0.02147544,\n        0.01935892, 0.03221482, 0.03007275, 0.0218714 , 0.01709531,\n        0.03560841, 0.03313685, 0.04872406]),\n 'mean_score_time': array([0.01545053, 0.01314731, 0.0124207 , 0.01345387, 0.01096358,\n        0.01253452, 0.02228169, 0.01627984, 0.00975413, 0.0122726 ,\n        0.01579914, 0.01480527, 0.01286111, 0.0114213 , 0.01669445,\n        0.01292024, 0.01364532, 0.01117077]),\n 'std_score_time': array([0.00467731, 0.00289052, 0.00378679, 0.00343687, 0.00240519,\n        0.00559045, 0.01895751, 0.00867579, 0.00049944, 0.00127032,\n        0.00287517, 0.00361671, 0.00298219, 0.00066989, 0.00425776,\n        0.00194916, 0.00285407, 0.00087684]),\n 'param_learning_rate': masked_array(data=[0.1, 0.1, 0.1, 0.1, 0.1, 0.1, 0.1, 0.1, 0.1, 0.01,\n                    0.01, 0.01, 0.01, 0.01, 0.01, 0.01, 0.01, 0.01],\n              mask=[False, False, False, False, False, False, False, False,\n                    False, False, False, False, False, False, False, False,\n                    False, False],\n        fill_value='?',\n             dtype=object),\n 'param_max_depth': masked_array(data=[12, 12, 12, 15, 15, 15, 18, 18, 18, 12, 12, 12, 15, 15,\n                    15, 18, 18, 18],\n              mask=[False, False, False, False, False, False, False, False,\n                    False, False, False, False, False, False, False, False,\n                    False, False],\n        fill_value='?',\n             dtype=object),\n 'param_min_samples_leaf': masked_array(data=[5, 7, 8, 5, 7, 8, 5, 7, 8, 5, 7, 8, 5, 7, 8, 5, 7, 8],\n              mask=[False, False, False, False, False, False, False, False,\n                    False, False, False, False, False, False, False, False,\n                    False, False],\n        fill_value='?',\n             dtype=object),\n 'params': [{'learning_rate': 0.1, 'max_depth': 12, 'min_samples_leaf': 5},\n  {'learning_rate': 0.1, 'max_depth': 12, 'min_samples_leaf': 7},\n  {'learning_rate': 0.1, 'max_depth': 12, 'min_samples_leaf': 8},\n  {'learning_rate': 0.1, 'max_depth': 15, 'min_samples_leaf': 5},\n  {'learning_rate': 0.1, 'max_depth': 15, 'min_samples_leaf': 7},\n  {'learning_rate': 0.1, 'max_depth': 15, 'min_samples_leaf': 8},\n  {'learning_rate': 0.1, 'max_depth': 18, 'min_samples_leaf': 5},\n  {'learning_rate': 0.1, 'max_depth': 18, 'min_samples_leaf': 7},\n  {'learning_rate': 0.1, 'max_depth': 18, 'min_samples_leaf': 8},\n  {'learning_rate': 0.01, 'max_depth': 12, 'min_samples_leaf': 5},\n  {'learning_rate': 0.01, 'max_depth': 12, 'min_samples_leaf': 7},\n  {'learning_rate': 0.01, 'max_depth': 12, 'min_samples_leaf': 8},\n  {'learning_rate': 0.01, 'max_depth': 15, 'min_samples_leaf': 5},\n  {'learning_rate': 0.01, 'max_depth': 15, 'min_samples_leaf': 7},\n  {'learning_rate': 0.01, 'max_depth': 15, 'min_samples_leaf': 8},\n  {'learning_rate': 0.01, 'max_depth': 18, 'min_samples_leaf': 5},\n  {'learning_rate': 0.01, 'max_depth': 18, 'min_samples_leaf': 7},\n  {'learning_rate': 0.01, 'max_depth': 18, 'min_samples_leaf': 8}],\n 'split0_test_roc_auc': array([0.72036431, 0.72010021, 0.71667174, 0.72288153, 0.73062117,\n        0.72512277, 0.7155083 , 0.72416037, 0.7143853 , 0.69094037,\n        0.69611876, 0.69303171, 0.69223229, 0.69244999, 0.69539072,\n        0.69185637, 0.69408809, 0.69650658]),\n 'split1_test_roc_auc': array([0.80379915, 0.80552648, 0.80349699, 0.80756786, 0.80367306,\n        0.81085833, 0.8055122 , 0.80900253, 0.80854572, 0.78350432,\n        0.78393139, 0.7839992 , 0.78226831, 0.78575626, 0.78449646,\n        0.78253359, 0.78141536, 0.78637605]),\n 'split2_test_roc_auc': array([0.69737031, 0.69537689, 0.68821108, 0.687451  , 0.69713129,\n        0.69969358, 0.68711159, 0.6849652 , 0.6898412 , 0.70424212,\n        0.70383459, 0.70132608, 0.7035382 , 0.70364337, 0.70401385,\n        0.70357167, 0.70322867, 0.70401385]),\n 'split3_test_roc_auc': array([0.817327  , 0.81940169, 0.82464099, 0.82787254, 0.82871866,\n        0.82421315, 0.82386418, 0.8249063 , 0.82236314, 0.80665358,\n        0.80685078, 0.80661534, 0.8083805 , 0.80723918, 0.80662012,\n        0.8083805 , 0.80723918, 0.80662012]),\n 'split4_test_roc_auc': array([0.84419398, 0.84349843, 0.8468459 , 0.84041508, 0.85252261,\n        0.84498633, 0.83985578, 0.84975596, 0.84007448, 0.85657519,\n        0.85427343, 0.85396987, 0.85607564, 0.85267797, 0.85360059,\n        0.85607564, 0.85267797, 0.85341535]),\n 'mean_test_roc_auc': array([0.77661095, 0.77678074, 0.77597334, 0.7772376 , 0.78253336,\n        0.78097483, 0.77437041, 0.77855807, 0.77504197, 0.76838312,\n        0.76900179, 0.76778844, 0.76849899, 0.76835336, 0.76882435,\n        0.76848355, 0.76772986, 0.76938639]),\n 'std_test_roc_auc': array([0.0572839 , 0.05819516, 0.0622381 , 0.06081354, 0.05910474,\n        0.05759539, 0.06129703, 0.0630284 , 0.06087598, 0.06258205,\n        0.0608036 , 0.06197317, 0.06242806, 0.06143991, 0.06075203,\n        0.06252491, 0.06090644, 0.06053247]),\n 'rank_test_roc_auc': array([ 6,  5,  7,  4,  1,  2,  9,  3,  8, 15, 11, 17, 13, 16, 12, 14, 18,\n        10], dtype=int32)}"
     },
     "execution_count": 29,
     "metadata": {},
     "output_type": "execute_result"
    }
   ],
   "source": [
    "gbm_search.cv_results_"
   ],
   "metadata": {
    "collapsed": false,
    "ExecuteTime": {
     "end_time": "2024-02-29T21:34:43.139366Z",
     "start_time": "2024-02-29T21:34:43.134177Z"
    }
   },
   "id": "48d2f0f71bbe7e69",
   "execution_count": 29
  },
  {
   "cell_type": "code",
   "outputs": [
    {
     "data": {
      "text/plain": "HistGradientBoostingClassifier(max_depth=15, min_samples_leaf=7,\n                               random_state=42)",
      "text/html": "<style>#sk-container-id-5 {color: black;}#sk-container-id-5 pre{padding: 0;}#sk-container-id-5 div.sk-toggleable {background-color: white;}#sk-container-id-5 label.sk-toggleable__label {cursor: pointer;display: block;width: 100%;margin-bottom: 0;padding: 0.3em;box-sizing: border-box;text-align: center;}#sk-container-id-5 label.sk-toggleable__label-arrow:before {content: \"▸\";float: left;margin-right: 0.25em;color: #696969;}#sk-container-id-5 label.sk-toggleable__label-arrow:hover:before {color: black;}#sk-container-id-5 div.sk-estimator:hover label.sk-toggleable__label-arrow:before {color: black;}#sk-container-id-5 div.sk-toggleable__content {max-height: 0;max-width: 0;overflow: hidden;text-align: left;background-color: #f0f8ff;}#sk-container-id-5 div.sk-toggleable__content pre {margin: 0.2em;color: black;border-radius: 0.25em;background-color: #f0f8ff;}#sk-container-id-5 input.sk-toggleable__control:checked~div.sk-toggleable__content {max-height: 200px;max-width: 100%;overflow: auto;}#sk-container-id-5 input.sk-toggleable__control:checked~label.sk-toggleable__label-arrow:before {content: \"▾\";}#sk-container-id-5 div.sk-estimator input.sk-toggleable__control:checked~label.sk-toggleable__label {background-color: #d4ebff;}#sk-container-id-5 div.sk-label input.sk-toggleable__control:checked~label.sk-toggleable__label {background-color: #d4ebff;}#sk-container-id-5 input.sk-hidden--visually {border: 0;clip: rect(1px 1px 1px 1px);clip: rect(1px, 1px, 1px, 1px);height: 1px;margin: -1px;overflow: hidden;padding: 0;position: absolute;width: 1px;}#sk-container-id-5 div.sk-estimator {font-family: monospace;background-color: #f0f8ff;border: 1px dotted black;border-radius: 0.25em;box-sizing: border-box;margin-bottom: 0.5em;}#sk-container-id-5 div.sk-estimator:hover {background-color: #d4ebff;}#sk-container-id-5 div.sk-parallel-item::after {content: \"\";width: 100%;border-bottom: 1px solid gray;flex-grow: 1;}#sk-container-id-5 div.sk-label:hover label.sk-toggleable__label {background-color: #d4ebff;}#sk-container-id-5 div.sk-serial::before {content: \"\";position: absolute;border-left: 1px solid gray;box-sizing: border-box;top: 0;bottom: 0;left: 50%;z-index: 0;}#sk-container-id-5 div.sk-serial {display: flex;flex-direction: column;align-items: center;background-color: white;padding-right: 0.2em;padding-left: 0.2em;position: relative;}#sk-container-id-5 div.sk-item {position: relative;z-index: 1;}#sk-container-id-5 div.sk-parallel {display: flex;align-items: stretch;justify-content: center;background-color: white;position: relative;}#sk-container-id-5 div.sk-item::before, #sk-container-id-5 div.sk-parallel-item::before {content: \"\";position: absolute;border-left: 1px solid gray;box-sizing: border-box;top: 0;bottom: 0;left: 50%;z-index: -1;}#sk-container-id-5 div.sk-parallel-item {display: flex;flex-direction: column;z-index: 1;position: relative;background-color: white;}#sk-container-id-5 div.sk-parallel-item:first-child::after {align-self: flex-end;width: 50%;}#sk-container-id-5 div.sk-parallel-item:last-child::after {align-self: flex-start;width: 50%;}#sk-container-id-5 div.sk-parallel-item:only-child::after {width: 0;}#sk-container-id-5 div.sk-dashed-wrapped {border: 1px dashed gray;margin: 0 0.4em 0.5em 0.4em;box-sizing: border-box;padding-bottom: 0.4em;background-color: white;}#sk-container-id-5 div.sk-label label {font-family: monospace;font-weight: bold;display: inline-block;line-height: 1.2em;}#sk-container-id-5 div.sk-label-container {text-align: center;}#sk-container-id-5 div.sk-container {/* jupyter's `normalize.less` sets `[hidden] { display: none; }` but bootstrap.min.css set `[hidden] { display: none !important; }` so we also need the `!important` here to be able to override the default hidden behavior on the sphinx rendered scikit-learn.org. See: https://github.com/scikit-learn/scikit-learn/issues/21755 */display: inline-block !important;position: relative;}#sk-container-id-5 div.sk-text-repr-fallback {display: none;}</style><div id=\"sk-container-id-5\" class=\"sk-top-container\"><div class=\"sk-text-repr-fallback\"><pre>HistGradientBoostingClassifier(max_depth=15, min_samples_leaf=7,\n                               random_state=42)</pre><b>In a Jupyter environment, please rerun this cell to show the HTML representation or trust the notebook. <br />On GitHub, the HTML representation is unable to render, please try loading this page with nbviewer.org.</b></div><div class=\"sk-container\" hidden><div class=\"sk-item\"><div class=\"sk-estimator sk-toggleable\"><input class=\"sk-toggleable__control sk-hidden--visually\" id=\"sk-estimator-id-29\" type=\"checkbox\" checked><label for=\"sk-estimator-id-29\" class=\"sk-toggleable__label sk-toggleable__label-arrow\">HistGradientBoostingClassifier</label><div class=\"sk-toggleable__content\"><pre>HistGradientBoostingClassifier(max_depth=15, min_samples_leaf=7,\n                               random_state=42)</pre></div></div></div></div></div>"
     },
     "execution_count": 30,
     "metadata": {},
     "output_type": "execute_result"
    }
   ],
   "source": [
    "gbm_search.best_estimator_"
   ],
   "metadata": {
    "collapsed": false,
    "ExecuteTime": {
     "end_time": "2024-02-29T21:34:43.142628Z",
     "start_time": "2024-02-29T21:34:43.138630Z"
    }
   },
   "id": "abd1cddd91d562fc",
   "execution_count": 30
  },
  {
   "cell_type": "code",
   "outputs": [
    {
     "data": {
      "text/plain": "0.7825333579048247"
     },
     "execution_count": 31,
     "metadata": {},
     "output_type": "execute_result"
    }
   ],
   "source": [
    "gbm_search.best_score_"
   ],
   "metadata": {
    "collapsed": false,
    "ExecuteTime": {
     "end_time": "2024-02-29T21:34:43.147523Z",
     "start_time": "2024-02-29T21:34:43.143780Z"
    }
   },
   "id": "97c3e4f7bed32dea",
   "execution_count": 31
  },
  {
   "cell_type": "code",
   "outputs": [
    {
     "data": {
      "text/plain": "0.3016583146263565"
     },
     "execution_count": 32,
     "metadata": {},
     "output_type": "execute_result"
    }
   ],
   "source": [
    "gbm_holdout_rmse = mean_squared_error(gbm_pipe.predict_proba(holdout_set[categorical_columns + numerical_columns])[:,1], holdout_set['default'], squared=False)\n",
    "gbm_holdout_rmse"
   ],
   "metadata": {
    "collapsed": false,
    "ExecuteTime": {
     "end_time": "2024-02-29T21:34:43.176593Z",
     "start_time": "2024-02-29T21:34:43.145596Z"
    }
   },
   "id": "e2a49a5b098edbbc",
   "execution_count": 32
  },
  {
   "cell_type": "code",
   "outputs": [
    {
     "data": {
      "text/plain": "   learning rate min node size max depth  fit time   ROC AUC  rank\n0            0.1             5        12  0.644857  0.776611     6\n1            0.1             7        12  0.600867  0.776781     5\n2            0.1             8        12  0.581457  0.775973     7\n3            0.1             5        15  0.730303  0.777238     4\n4            0.1             7        15  0.741311  0.782533     1\n5            0.1             8        15  0.762996  0.780975     2\n6            0.1             5        18  0.905530  0.774370     9\n7            0.1             7        18  1.047596  0.778558     3\n8            0.1             8        18  0.569506  0.775042     8\n9           0.01             5        12  0.589588  0.768383    15\n10          0.01             7        12  0.591373  0.769002    11\n11          0.01             8        12  0.572147  0.767788    17\n12          0.01             5        15  0.568793  0.768499    13\n13          0.01             7        15  0.568762  0.768353    16\n14          0.01             8        15  0.574354  0.768824    12\n15          0.01             5        18  0.559958  0.768484    14\n16          0.01             7        18  0.553353  0.767730    18\n17          0.01             8        18  0.501390  0.769386    10",
      "text/html": "<div>\n<style scoped>\n    .dataframe tbody tr th:only-of-type {\n        vertical-align: middle;\n    }\n\n    .dataframe tbody tr th {\n        vertical-align: top;\n    }\n\n    .dataframe thead th {\n        text-align: right;\n    }\n</style>\n<table border=\"1\" class=\"dataframe\">\n  <thead>\n    <tr style=\"text-align: right;\">\n      <th></th>\n      <th>learning rate</th>\n      <th>min node size</th>\n      <th>max depth</th>\n      <th>fit time</th>\n      <th>ROC AUC</th>\n      <th>rank</th>\n    </tr>\n  </thead>\n  <tbody>\n    <tr>\n      <th>0</th>\n      <td>0.1</td>\n      <td>5</td>\n      <td>12</td>\n      <td>0.644857</td>\n      <td>0.776611</td>\n      <td>6</td>\n    </tr>\n    <tr>\n      <th>1</th>\n      <td>0.1</td>\n      <td>7</td>\n      <td>12</td>\n      <td>0.600867</td>\n      <td>0.776781</td>\n      <td>5</td>\n    </tr>\n    <tr>\n      <th>2</th>\n      <td>0.1</td>\n      <td>8</td>\n      <td>12</td>\n      <td>0.581457</td>\n      <td>0.775973</td>\n      <td>7</td>\n    </tr>\n    <tr>\n      <th>3</th>\n      <td>0.1</td>\n      <td>5</td>\n      <td>15</td>\n      <td>0.730303</td>\n      <td>0.777238</td>\n      <td>4</td>\n    </tr>\n    <tr>\n      <th>4</th>\n      <td>0.1</td>\n      <td>7</td>\n      <td>15</td>\n      <td>0.741311</td>\n      <td>0.782533</td>\n      <td>1</td>\n    </tr>\n    <tr>\n      <th>5</th>\n      <td>0.1</td>\n      <td>8</td>\n      <td>15</td>\n      <td>0.762996</td>\n      <td>0.780975</td>\n      <td>2</td>\n    </tr>\n    <tr>\n      <th>6</th>\n      <td>0.1</td>\n      <td>5</td>\n      <td>18</td>\n      <td>0.905530</td>\n      <td>0.774370</td>\n      <td>9</td>\n    </tr>\n    <tr>\n      <th>7</th>\n      <td>0.1</td>\n      <td>7</td>\n      <td>18</td>\n      <td>1.047596</td>\n      <td>0.778558</td>\n      <td>3</td>\n    </tr>\n    <tr>\n      <th>8</th>\n      <td>0.1</td>\n      <td>8</td>\n      <td>18</td>\n      <td>0.569506</td>\n      <td>0.775042</td>\n      <td>8</td>\n    </tr>\n    <tr>\n      <th>9</th>\n      <td>0.01</td>\n      <td>5</td>\n      <td>12</td>\n      <td>0.589588</td>\n      <td>0.768383</td>\n      <td>15</td>\n    </tr>\n    <tr>\n      <th>10</th>\n      <td>0.01</td>\n      <td>7</td>\n      <td>12</td>\n      <td>0.591373</td>\n      <td>0.769002</td>\n      <td>11</td>\n    </tr>\n    <tr>\n      <th>11</th>\n      <td>0.01</td>\n      <td>8</td>\n      <td>12</td>\n      <td>0.572147</td>\n      <td>0.767788</td>\n      <td>17</td>\n    </tr>\n    <tr>\n      <th>12</th>\n      <td>0.01</td>\n      <td>5</td>\n      <td>15</td>\n      <td>0.568793</td>\n      <td>0.768499</td>\n      <td>13</td>\n    </tr>\n    <tr>\n      <th>13</th>\n      <td>0.01</td>\n      <td>7</td>\n      <td>15</td>\n      <td>0.568762</td>\n      <td>0.768353</td>\n      <td>16</td>\n    </tr>\n    <tr>\n      <th>14</th>\n      <td>0.01</td>\n      <td>8</td>\n      <td>15</td>\n      <td>0.574354</td>\n      <td>0.768824</td>\n      <td>12</td>\n    </tr>\n    <tr>\n      <th>15</th>\n      <td>0.01</td>\n      <td>5</td>\n      <td>18</td>\n      <td>0.559958</td>\n      <td>0.768484</td>\n      <td>14</td>\n    </tr>\n    <tr>\n      <th>16</th>\n      <td>0.01</td>\n      <td>7</td>\n      <td>18</td>\n      <td>0.553353</td>\n      <td>0.767730</td>\n      <td>18</td>\n    </tr>\n    <tr>\n      <th>17</th>\n      <td>0.01</td>\n      <td>8</td>\n      <td>18</td>\n      <td>0.501390</td>\n      <td>0.769386</td>\n      <td>10</td>\n    </tr>\n  </tbody>\n</table>\n</div>"
     },
     "execution_count": 33,
     "metadata": {},
     "output_type": "execute_result"
    }
   ],
   "source": [
    "df_gbm_model_cv_results = pd.DataFrame(gbm_search.cv_results_)[[\n",
    "    'param_learning_rate', 'param_min_samples_leaf', 'param_max_depth', 'mean_fit_time', 'mean_test_roc_auc', 'rank_test_roc_auc']]\n",
    "df_gbm_model_cv_results.columns = ['learning rate', 'min node size', 'max depth', 'fit time', 'ROC AUC', 'rank']\n",
    "df_gbm_model_cv_results"
   ],
   "metadata": {
    "collapsed": false,
    "ExecuteTime": {
     "end_time": "2024-02-29T21:34:43.177982Z",
     "start_time": "2024-02-29T21:34:43.161534Z"
    }
   },
   "id": "703ac9f611aca724",
   "execution_count": 33
  },
  {
   "cell_type": "code",
   "outputs": [
    {
     "data": {
      "text/plain": "         Model  Holdout RMSE          Training time\n0        Logit      0.309938 0 days 00:00:01.499962\n1  LASSO Logit      0.256531 0 days 00:01:42.403929\n2           RF      0.270163 0 days 00:06:56.129413\n3          GBM      0.301658 0 days 00:00:09.511584",
      "text/html": "<div>\n<style scoped>\n    .dataframe tbody tr th:only-of-type {\n        vertical-align: middle;\n    }\n\n    .dataframe tbody tr th {\n        vertical-align: top;\n    }\n\n    .dataframe thead th {\n        text-align: right;\n    }\n</style>\n<table border=\"1\" class=\"dataframe\">\n  <thead>\n    <tr style=\"text-align: right;\">\n      <th></th>\n      <th>Model</th>\n      <th>Holdout RMSE</th>\n      <th>Training time</th>\n    </tr>\n  </thead>\n  <tbody>\n    <tr>\n      <th>0</th>\n      <td>Logit</td>\n      <td>0.309938</td>\n      <td>0 days 00:00:01.499962</td>\n    </tr>\n    <tr>\n      <th>1</th>\n      <td>LASSO Logit</td>\n      <td>0.256531</td>\n      <td>0 days 00:01:42.403929</td>\n    </tr>\n    <tr>\n      <th>2</th>\n      <td>RF</td>\n      <td>0.270163</td>\n      <td>0 days 00:06:56.129413</td>\n    </tr>\n    <tr>\n      <th>3</th>\n      <td>GBM</td>\n      <td>0.301658</td>\n      <td>0 days 00:00:09.511584</td>\n    </tr>\n  </tbody>\n</table>\n</div>"
     },
     "execution_count": 34,
     "metadata": {},
     "output_type": "execute_result"
    }
   ],
   "source": [
    "# best estimator on holdout set\n",
    "diag_df = pd.DataFrame({'Model': ['Logit', 'LASSO Logit', 'RF', 'GBM'],\n",
    "                        'Holdout RMSE': [logit_holdout_rmse, lasso_holdout_rmse, prob_rf_holdout_rmse, gbm_holdout_rmse],\n",
    "                        'Training time': [logit3_time, lasso3_time, prob_forest1_time, gbm1_time]})\n",
    "diag_df"
   ],
   "metadata": {
    "collapsed": false,
    "ExecuteTime": {
     "end_time": "2024-02-29T21:34:43.178903Z",
     "start_time": "2024-02-29T21:34:43.171993Z"
    }
   },
   "id": "a4ed4fc85d132d72",
   "execution_count": 34
  },
  {
   "cell_type": "markdown",
   "source": [
    "Loss fnc"
   ],
   "metadata": {
    "collapsed": false
   },
   "id": "10a28c0b553a47c1"
  },
  {
   "cell_type": "code",
   "outputs": [],
   "source": [
    "models = {'logit': logit_pipe,\n",
    "          'lasso_logit': lasso_pipe,\n",
    "          'rf': prob_forest_pipe,\n",
    "          'gbm': gbm_pipe}"
   ],
   "metadata": {
    "collapsed": false,
    "ExecuteTime": {
     "end_time": "2024-02-29T21:34:43.229865Z",
     "start_time": "2024-02-29T21:34:43.175919Z"
    }
   },
   "id": "5de83f57373acf6c",
   "execution_count": 35
  },
  {
   "cell_type": "code",
   "outputs": [],
   "source": [
    "thresholds = [i/100 for i in range(5,80,5)]\n",
    "models_cm = dict()\n",
    "for m_name, model in models.items():\n",
    "    cm = dict()\n",
    "    true_positive_rates = []\n",
    "    false_positive_rates = []\n",
    "    holdout_prediction = []\n",
    "    for thr in thresholds:\n",
    "        holdout_prediction = np.where(model.predict_proba(holdout_set[categorical_columns + numerical_columns])[:,1] < thr, 0, 1)\n",
    "        cm_thr = confusion_matrix(holdout_set.default, holdout_prediction, labels=[0,1])\n",
    "        cm[thr] = cm_thr\n",
    "        tn, fp, fn, tp = cm_thr.ravel()\n",
    "        true_positive_rates.append(tp/(tp+fn))\n",
    "        false_positive_rates.append(fp/(fp+tn))\n",
    "    models_cm[m_name] = cm\n",
    "models_cm;"
   ],
   "metadata": {
    "collapsed": false,
    "ExecuteTime": {
     "end_time": "2024-02-29T22:47:23.846291Z",
     "start_time": "2024-02-29T22:47:21.996037Z"
    }
   },
   "id": "262251a69786bf16",
   "execution_count": 49
  },
  {
   "cell_type": "code",
   "outputs": [],
   "source": [
    "# roc for each model\n",
    "models_roc = dict()\n",
    "for m_name, model in models.items():\n",
    "    models_roc[m_name] = create_roc_plot(holdout_set.default, model.predict_proba(holdout_set[categorical_columns + numerical_columns])[:,1]);"
   ],
   "metadata": {
    "collapsed": false,
    "ExecuteTime": {
     "end_time": "2024-02-29T22:47:24.055001Z",
     "start_time": "2024-02-29T22:47:23.848739Z"
    }
   },
   "id": "55ab5e0d38fbd0f",
   "execution_count": 50
  },
  {
   "cell_type": "code",
   "outputs": [
    {
     "data": {
      "text/plain": "<Figure size 640x480 with 1 Axes>",
      "image/png": "[encoded data removed]"
     },
     "metadata": {
      "image/png": {
       "width": 640,
       "height": 480
      }
     },
     "output_type": "display_data"
    },
    {
     "data": {
      "text/plain": "<Figure Size: (640 x 480)>"
     },
     "execution_count": 55,
     "metadata": {},
     "output_type": "execute_result"
    }
   ],
   "source": [
    "create_roc_plots(holdout_set.default, holdout_set[categorical_columns + numerical_columns], models)"
   ],
   "metadata": {
    "collapsed": false,
    "ExecuteTime": {
     "end_time": "2024-02-29T22:47:37.597607Z",
     "start_time": "2024-02-29T22:47:37.104215Z"
    }
   },
   "id": "92ff0f8674ddeb62",
   "execution_count": 55
  },
  {
   "cell_type": "markdown",
   "source": [
    "Loss function"
   ],
   "metadata": {
    "collapsed": false
   },
   "id": "4640c35b8adb2c10"
  },
  {
   "cell_type": "code",
   "outputs": [
    {
     "data": {
      "text/plain": "0.10133308473944252"
     },
     "execution_count": 57,
     "metadata": {},
     "output_type": "execute_result"
    }
   ],
   "source": [
    "FP = 3\n",
    "FN = 15\n",
    "cost = FN/FP\n",
    "\n",
    "# the prevalence, or the proportion of cases in the population (n.cases/(n.controls+n.cases))\n",
    "prevelance = training_set.default.sum()/len(training_set.default)\n",
    "prevelance"
   ],
   "metadata": {
    "collapsed": false,
    "ExecuteTime": {
     "end_time": "2024-02-29T22:51:46.095254Z",
     "start_time": "2024-02-29T22:51:46.078574Z"
    }
   },
   "id": "f1c267a234618daa",
   "execution_count": 57
  },
  {
   "cell_type": "code",
   "outputs": [
    {
     "ename": "NameError",
     "evalue": "name 'logit_models' is not defined",
     "output_type": "error",
     "traceback": [
      "\u001B[0;31m---------------------------------------------------------------------------\u001B[0m",
      "\u001B[0;31mNameError\u001B[0m                                 Traceback (most recent call last)",
      "Cell \u001B[0;32mIn[69], line 7\u001B[0m\n\u001B[1;32m      4\u001B[0m fold5_expected_loss \u001B[38;5;241m=\u001B[39m \u001B[38;5;28mdict\u001B[39m()\n\u001B[1;32m      5\u001B[0m fold5_all_coords \u001B[38;5;241m=\u001B[39m \u001B[38;5;28mdict\u001B[39m()\n\u001B[0;32m----> 7\u001B[0m \u001B[38;5;28;01mfor\u001B[39;00m i, model_name \u001B[38;5;129;01min\u001B[39;00m \u001B[38;5;28menumerate\u001B[39m(\u001B[43mlogit_models\u001B[49m):\n\u001B[1;32m      8\u001B[0m     best_thresholds \u001B[38;5;241m=\u001B[39m []\n\u001B[1;32m      9\u001B[0m     expected_loss \u001B[38;5;241m=\u001B[39m[]\n",
      "\u001B[0;31mNameError\u001B[0m: name 'logit_models' is not defined"
     ]
    }
   ],
   "source": [
    "best_thresholds_cv = dict()\n",
    "expected_loss_cv = dict()\n",
    "fold5_threshold = dict()\n",
    "fold5_expected_loss = dict()\n",
    "fold5_all_coords = dict()\n",
    "\n",
    "for i, model_name in enumerate(logit_models):\n",
    "    best_thresholds = []\n",
    "    expected_loss =[]\n",
    "    if model_name != 'LASSO':\n",
    "        X = logit_model_vars[i]\n",
    "        c_index = 0\n",
    "    else:\n",
    "        X = normalized_logitvars\n",
    "        c_index = best_lambda_i\n",
    "    fold = 0\n",
    "    for train_index, test_index in k.split(X):\n",
    "        X_fold = X.iloc[test_index,:]\n",
    "        y_fold = y_train.iloc[test_index]\n",
    "        pred_fold = generate_fold_prediction(logit_models[model_name], X_fold, fold, c_index)\n",
    "        false_pos_rate, true_pos_rate, thresholds = roc_curve(y_fold, pred_fold)\n",
    "        optimal_threshold = sorted(list(zip(\n",
    "            np.abs(true_pos_rate + (1 - prevelance)/(cost * prevelance)*(1-false_pos_rate)),\\\n",
    "                                       thresholds)), key=lambda i: i[0], reverse=True)[0][1]\n",
    "        best_thresholds.append(optimal_threshold)\n",
    "        threshold_prediction = np.where(pred_fold < optimal_threshold, 0, 1)\n",
    "        tn, fp, fn, tp = confusion_matrix(y_fold, threshold_prediction, labels=[0,1]).ravel()\n",
    "        curr_exp_loss = (fp*FP + fn*FN)/len(y_fold)\n",
    "        expected_loss.append(curr_exp_loss)\n",
    "        fold = fold+1\n",
    "\n",
    "    best_thresholds_cv[model_name] = np.mean(best_thresholds)\n",
    "    expected_loss_cv[model_name] = np.mean(expected_loss)\n",
    "\n",
    "    # for fold #5\n",
    "    fold5_threshold[model_name] = optimal_threshold\n",
    "    fold5_expected_loss[model_name] = curr_exp_loss\n",
    "\n",
    "    all_coords = pd.DataFrame({\n",
    "        'false_pos': false_pos_rate*sum(y_fold == 0),\n",
    "        'true_pos': true_pos_rate*sum(y_fold == 1),\n",
    "        'false_neg': sum(y_fold == 1) - true_pos_rate*sum(y_fold == 1),\n",
    "        'true_neg': sum(y_fold == 0) - false_pos_rate*sum(y_fold == 0),\n",
    "        'pos': sum(y_fold == 1),\n",
    "        'neg': sum(y_fold == 0),\n",
    "        'n': len(y_fold),\n",
    "        'thresholds': thresholds\n",
    "    })\n",
    "    \n",
    "    fold5_all_coords[model_name] = all_coords"
   ],
   "metadata": {
    "collapsed": false,
    "ExecuteTime": {
     "end_time": "2024-03-01T00:32:40.330074Z",
     "start_time": "2024-03-01T00:32:40.302301Z"
    }
   },
   "id": "3ef566a229a5cc25",
   "execution_count": 69
  }
 ],
 "metadata": {
  "kernelspec": {
   "display_name": "Python 3",
   "language": "python",
   "name": "python3"
  },
  "language_info": {
   "codemirror_mode": {
    "name": "ipython",
    "version": 2
   },
   "file_extension": ".py",
   "mimetype": "text/x-python",
   "name": "python",
   "nbconvert_exporter": "python",
   "pygments_lexer": "ipython2",
   "version": "2.7.6"
  }
 },
 "nbformat": 4,
 "nbformat_minor": 5
}
