{
 "cells": [
  {
   "cell_type": "code",
   "execution_count": 1,
   "id": "initial_id",
   "metadata": {
    "collapsed": true,
    "ExecuteTime": {
     "end_time": "2024-02-22T17:59:08.483976Z",
     "start_time": "2024-02-22T17:59:08.183299Z"
    }
   },
   "outputs": [],
   "source": [
    "%%capture\n",
    "import warnings\n",
    "warnings.filterwarnings('ignore')\n",
    "\n",
    "import pandas as pd\n",
    "import numpy as np\n",
    "import math\n",
    "\n",
    "import seaborn as sns\n",
    "import matplotlib.pyplot as plt\n",
    "\n",
    "from py_helper_functions import *\n",
    "\n",
    "from datetime import datetime\n",
    "\n",
    "from patsy.highlevel import dmatrices\n",
    "\n",
    "from sklearn.ensemble import RandomForestRegressor\n",
    "from sklearn.model_selection import GridSearchCV\n",
    "from sklearn.inspection import permutation_importance\n",
    "from sklearn.inspection import PartialDependenceDisplay\n",
    "from sklearn.inspection import partial_dependence\n",
    "from sklearn.compose import ColumnTransformer\n",
    "from sklearn.pipeline import Pipeline\n",
    "from sklearn.preprocessing import OneHotEncoder\n",
    "from sklearn.metrics import mean_squared_error\n",
    "from sklearn.model_selection import train_test_split\n",
    "from sklearn.preprocessing import StandardScaler\n",
    "from sklearn.linear_model import LinearRegression\n",
    "from sklearn.linear_model import Lasso\n",
    "from sklearn.ensemble import GradientBoostingRegressor\n",
    "from sklearn.linear_model import ElasticNet"
   ]
  },
  {
   "cell_type": "code",
   "outputs": [],
   "source": [
    "def get_comp_default(df):\n",
    "    # add all missing year and comp_id combinations -\n",
    "    # originally missing combinations will have NAs in all other columns\n",
    "    df = (\n",
    "        df.set_index([\"year\", \"comp_id\"])\n",
    "        .unstack(fill_value=\"toReplace\")\n",
    "        .stack()\n",
    "        .reset_index()\n",
    "    )\n",
    "    df = df.replace(\"toReplace\", np.nan)  # only way I could define it as NaN\n",
    "    \n",
    "    # generate status_alive; if sales larger than zero and not-NA, then firm is alive\n",
    "    df[\"status_alive\"] = (df[\"sales\"] > 0 & (False == df[\"sales\"].isna())).astype(int)\n",
    "    \n",
    "    # defaults in one year if there are sales in this year but no sales one year later\n",
    "    # Status_in_one_years: data.groupby('comp_id')['status_alive'].shift(-1)\n",
    "    df[\"default\"] = (\n",
    "        (df[\"status_alive\"] == 1)\n",
    "        & (df.groupby(\"comp_id\")[\"status_alive\"].shift(-1) == 0)\n",
    "    ).astype(int)\n",
    "    \n",
    "    return df\n",
    "\n",
    "def get_cleaned_data(local=True) -> pd.DataFrame:\n",
    "    '''\n",
    "    This function reads from csv files, cleans it and returns the cleaned dataframe\n",
    "    :param local: default True\n",
    "    :param src: path to file\n",
    "    :return: dataframe with cleaned data\n",
    "    '''\n",
    "    \n",
    "    if local:\n",
    "        raw_files = ['cs_bisnode_panel1.csv', 'cs_bisnode_panel2.csv']\n",
    "    else:\n",
    "        raw_files = ['cs_bisnode_panel1.csv', 'cs_bisnode_panel2.csv']\n",
    "        \n",
    "    dfs = []\n",
    "    for file in raw_files:\n",
    "        u_df = pd.read_csv(file)\n",
    "        dfs.append(u_df)\n",
    "    df = pd.concat(dfs, ignore_index=True)\n",
    "    \n",
    "    # drop variables with many NAs\n",
    "    df = df.drop(columns=[\"COGS\", \"finished_prod\", \"net_dom_sales\", \"net_exp_sales\", \"wages\", \"D\", \"exit_year\", \"exit_date\"])\n",
    "\n",
    "    working_sample = get_comp_default(df[(df.ind2 == 26)])\n",
    "    \n",
    "    del df\n",
    "        \n",
    "    return working_sample[(working_sample[\"begin\"].notna())]"
   ],
   "metadata": {
    "collapsed": false,
    "ExecuteTime": {
     "end_time": "2024-02-22T18:20:29.697633Z",
     "start_time": "2024-02-22T18:20:29.693960Z"
    }
   },
   "id": "fd253e26f40f5290",
   "execution_count": 60
  },
  {
   "cell_type": "code",
   "outputs": [
    {
     "data": {
      "text/plain": "   year     comp_id       begin         end        amort   curr_assets  \\\n0  2005   6538183.0  01/01/2005  31/12/2005   792.592590   6237.037109   \n1  2005   6934257.0  13/05/2005  31/12/2005   803.703674   4648.147949   \n2  2005   8416055.0  01/01/2005  31/12/2005  3155.555664  71070.367190   \n5  2005  12428378.0  01/01/2005  31/12/2005  3137.037109   1740.740723   \n7  2005  15711554.0  01/01/2005  31/12/2005  1592.592651   4740.740723   \n\n      curr_liab  extra_exp    extra_inc  extra_profit_loss  ...    origin  \\\n0    348.148163   0.000000     0.000000           0.000000  ...   Foreign   \n1   9311.111328   0.000000     0.000000           0.000000  ...       NaN   \n2  25514.814450  74.074074     0.000000         -74.074074  ...  Domestic   \n5   2192.592529   0.000000     0.000000           0.000000  ...  Domestic   \n7   4970.370605   0.000000  7407.407227        7407.407227  ...  Domestic   \n\n   nace_main  ind2  ind  urban_m  region_m  founded_date  labor_avg  \\\n0     2630.0  26.0  2.0      2.0      East    25/08/1992        NaN   \n1     2660.0  26.0  2.0      3.0      East    26/04/2005        NaN   \n2     2651.0  26.0  2.0      1.0   Central    28/08/1995        NaN   \n5     2660.0  26.0  2.0      2.0   Central    27/06/1991        NaN   \n7     2630.0  26.0  2.0      1.0   Central    01/09/2001        NaN   \n\n   status_alive  default  \n0             1        0  \n1             1        1  \n2             1        0  \n5             1        0  \n7             1        0  \n\n[5 rows x 42 columns]",
      "text/html": "<div>\n<style scoped>\n    .dataframe tbody tr th:only-of-type {\n        vertical-align: middle;\n    }\n\n    .dataframe tbody tr th {\n        vertical-align: top;\n    }\n\n    .dataframe thead th {\n        text-align: right;\n    }\n</style>\n<table border=\"1\" class=\"dataframe\">\n  <thead>\n    <tr style=\"text-align: right;\">\n      <th></th>\n      <th>year</th>\n      <th>comp_id</th>\n      <th>begin</th>\n      <th>end</th>\n      <th>amort</th>\n      <th>curr_assets</th>\n      <th>curr_liab</th>\n      <th>extra_exp</th>\n      <th>extra_inc</th>\n      <th>extra_profit_loss</th>\n      <th>...</th>\n      <th>origin</th>\n      <th>nace_main</th>\n      <th>ind2</th>\n      <th>ind</th>\n      <th>urban_m</th>\n      <th>region_m</th>\n      <th>founded_date</th>\n      <th>labor_avg</th>\n      <th>status_alive</th>\n      <th>default</th>\n    </tr>\n  </thead>\n  <tbody>\n    <tr>\n      <th>0</th>\n      <td>2005</td>\n      <td>6538183.0</td>\n      <td>01/01/2005</td>\n      <td>31/12/2005</td>\n      <td>792.592590</td>\n      <td>6237.037109</td>\n      <td>348.148163</td>\n      <td>0.000000</td>\n      <td>0.000000</td>\n      <td>0.000000</td>\n      <td>...</td>\n      <td>Foreign</td>\n      <td>2630.0</td>\n      <td>26.0</td>\n      <td>2.0</td>\n      <td>2.0</td>\n      <td>East</td>\n      <td>25/08/1992</td>\n      <td>NaN</td>\n      <td>1</td>\n      <td>0</td>\n    </tr>\n    <tr>\n      <th>1</th>\n      <td>2005</td>\n      <td>6934257.0</td>\n      <td>13/05/2005</td>\n      <td>31/12/2005</td>\n      <td>803.703674</td>\n      <td>4648.147949</td>\n      <td>9311.111328</td>\n      <td>0.000000</td>\n      <td>0.000000</td>\n      <td>0.000000</td>\n      <td>...</td>\n      <td>NaN</td>\n      <td>2660.0</td>\n      <td>26.0</td>\n      <td>2.0</td>\n      <td>3.0</td>\n      <td>East</td>\n      <td>26/04/2005</td>\n      <td>NaN</td>\n      <td>1</td>\n      <td>1</td>\n    </tr>\n    <tr>\n      <th>2</th>\n      <td>2005</td>\n      <td>8416055.0</td>\n      <td>01/01/2005</td>\n      <td>31/12/2005</td>\n      <td>3155.555664</td>\n      <td>71070.367190</td>\n      <td>25514.814450</td>\n      <td>74.074074</td>\n      <td>0.000000</td>\n      <td>-74.074074</td>\n      <td>...</td>\n      <td>Domestic</td>\n      <td>2651.0</td>\n      <td>26.0</td>\n      <td>2.0</td>\n      <td>1.0</td>\n      <td>Central</td>\n      <td>28/08/1995</td>\n      <td>NaN</td>\n      <td>1</td>\n      <td>0</td>\n    </tr>\n    <tr>\n      <th>5</th>\n      <td>2005</td>\n      <td>12428378.0</td>\n      <td>01/01/2005</td>\n      <td>31/12/2005</td>\n      <td>3137.037109</td>\n      <td>1740.740723</td>\n      <td>2192.592529</td>\n      <td>0.000000</td>\n      <td>0.000000</td>\n      <td>0.000000</td>\n      <td>...</td>\n      <td>Domestic</td>\n      <td>2660.0</td>\n      <td>26.0</td>\n      <td>2.0</td>\n      <td>2.0</td>\n      <td>Central</td>\n      <td>27/06/1991</td>\n      <td>NaN</td>\n      <td>1</td>\n      <td>0</td>\n    </tr>\n    <tr>\n      <th>7</th>\n      <td>2005</td>\n      <td>15711554.0</td>\n      <td>01/01/2005</td>\n      <td>31/12/2005</td>\n      <td>1592.592651</td>\n      <td>4740.740723</td>\n      <td>4970.370605</td>\n      <td>0.000000</td>\n      <td>7407.407227</td>\n      <td>7407.407227</td>\n      <td>...</td>\n      <td>Domestic</td>\n      <td>2630.0</td>\n      <td>26.0</td>\n      <td>2.0</td>\n      <td>1.0</td>\n      <td>Central</td>\n      <td>01/09/2001</td>\n      <td>NaN</td>\n      <td>1</td>\n      <td>0</td>\n    </tr>\n  </tbody>\n</table>\n<p>5 rows × 42 columns</p>\n</div>"
     },
     "execution_count": 61,
     "metadata": {},
     "output_type": "execute_result"
    }
   ],
   "source": [
    "work_df = get_cleaned_data()\n",
    "work_df.head()"
   ],
   "metadata": {
    "collapsed": false,
    "ExecuteTime": {
     "end_time": "2024-02-22T18:20:31.038653Z",
     "start_time": "2024-02-22T18:20:30.000864Z"
    }
   },
   "id": "80d99ef289fc012",
   "execution_count": 61
  },
  {
   "cell_type": "code",
   "outputs": [
    {
     "name": "stdout",
     "output_type": "stream",
     "text": [
      "<class 'pandas.core.frame.DataFrame'>\n",
      "Index: 14877 entries, 0 to 21947\n",
      "Data columns (total 42 columns):\n",
      " #   Column                Non-Null Count  Dtype  \n",
      "---  ------                --------------  -----  \n",
      " 0   year                  14877 non-null  int64  \n",
      " 1   comp_id               14877 non-null  float64\n",
      " 2   begin                 14877 non-null  object \n",
      " 3   end                   14877 non-null  object \n",
      " 4   amort                 14589 non-null  float64\n",
      " 5   curr_assets           14872 non-null  float64\n",
      " 6   curr_liab             14872 non-null  float64\n",
      " 7   extra_exp             14007 non-null  float64\n",
      " 8   extra_inc             14007 non-null  float64\n",
      " 9   extra_profit_loss     14056 non-null  float64\n",
      " 10  fixed_assets          14872 non-null  float64\n",
      " 11  inc_bef_tax           14644 non-null  float64\n",
      " 12  intang_assets         14872 non-null  float64\n",
      " 13  inventories           14872 non-null  float64\n",
      " 14  liq_assets            14872 non-null  float64\n",
      " 15  material_exp          14589 non-null  float64\n",
      " 16  personnel_exp         14589 non-null  float64\n",
      " 17  profit_loss_year      14284 non-null  float64\n",
      " 18  sales                 14644 non-null  float64\n",
      " 19  share_eq              14872 non-null  float64\n",
      " 20  subscribed_cap        14872 non-null  float64\n",
      " 21  tang_assets           14823 non-null  float64\n",
      " 22  balsheet_flag         14877 non-null  float64\n",
      " 23  balsheet_length       14877 non-null  float64\n",
      " 24  balsheet_notfullyear  14877 non-null  float64\n",
      " 25  founded_year          12233 non-null  float64\n",
      " 26  ceo_count             12233 non-null  float64\n",
      " 27  foreign               12233 non-null  float64\n",
      " 28  female                12233 non-null  float64\n",
      " 29  birth_year            9289 non-null   float64\n",
      " 30  inoffice_days         12233 non-null  float64\n",
      " 31  gender                12233 non-null  object \n",
      " 32  origin                12233 non-null  object \n",
      " 33  nace_main             14877 non-null  float64\n",
      " 34  ind2                  14877 non-null  float64\n",
      " 35  ind                   14877 non-null  float64\n",
      " 36  urban_m               14877 non-null  float64\n",
      " 37  region_m              14836 non-null  object \n",
      " 38  founded_date          14877 non-null  object \n",
      " 39  labor_avg             6653 non-null   float64\n",
      " 40  status_alive          14877 non-null  int64  \n",
      " 41  default               14877 non-null  int64  \n",
      "dtypes: float64(33), int64(3), object(6)\n",
      "memory usage: 4.9+ MB\n"
     ]
    }
   ],
   "source": [
    "work_df.info()"
   ],
   "metadata": {
    "collapsed": false,
    "ExecuteTime": {
     "end_time": "2024-02-22T18:20:32.739150Z",
     "start_time": "2024-02-22T18:20:32.727955Z"
    }
   },
   "id": "6392577534ef885f",
   "execution_count": 62
  },
  {
   "cell_type": "code",
   "outputs": [
    {
     "data": {
      "text/plain": "(1037, 42)"
     },
     "execution_count": 63,
     "metadata": {},
     "output_type": "execute_result"
    }
   ],
   "source": [
    "holdout_set = work_df[(work_df.ind2 == 26) \n",
    "                      & (work_df.year == 2014) \n",
    "                      & (work_df.sales >= 1000) \n",
    "                      & (work_df.sales <= 10_000_000) \n",
    "]\n",
    "holdout_set.shape"
   ],
   "metadata": {
    "collapsed": false,
    "ExecuteTime": {
     "end_time": "2024-02-22T18:20:39.288246Z",
     "start_time": "2024-02-22T18:20:39.280570Z"
    }
   },
   "id": "f68c7b5286ff9b51",
   "execution_count": 63
  },
  {
   "cell_type": "code",
   "outputs": [
    {
     "data": {
      "text/plain": "56"
     },
     "execution_count": 64,
     "metadata": {},
     "output_type": "execute_result"
    }
   ],
   "source": [
    "holdout_set.default.sum()"
   ],
   "metadata": {
    "collapsed": false,
    "ExecuteTime": {
     "end_time": "2024-02-22T18:20:40.998712Z",
     "start_time": "2024-02-22T18:20:40.992345Z"
    }
   },
   "id": "be2182b56b317c89",
   "execution_count": 64
  },
  {
   "cell_type": "code",
   "outputs": [
    {
     "data": {
      "text/plain": "1369"
     },
     "execution_count": 65,
     "metadata": {},
     "output_type": "execute_result"
    }
   ],
   "source": [
    "work_df.default.sum()"
   ],
   "metadata": {
    "collapsed": false,
    "ExecuteTime": {
     "end_time": "2024-02-22T18:20:45.216435Z",
     "start_time": "2024-02-22T18:20:45.210809Z"
    }
   },
   "id": "1d95157f0d55af83",
   "execution_count": 65
  },
  {
   "cell_type": "code",
   "outputs": [],
   "source": [],
   "metadata": {
    "collapsed": false
   },
   "id": "b76135dcb793a1bf"
  }
 ],
 "metadata": {
  "kernelspec": {
   "display_name": "Python 3",
   "language": "python",
   "name": "python3"
  },
  "language_info": {
   "codemirror_mode": {
    "name": "ipython",
    "version": 2
   },
   "file_extension": ".py",
   "mimetype": "text/x-python",
   "name": "python",
   "nbconvert_exporter": "python",
   "pygments_lexer": "ipython2",
   "version": "2.7.6"
  }
 },
 "nbformat": 4,
 "nbformat_minor": 5
}
