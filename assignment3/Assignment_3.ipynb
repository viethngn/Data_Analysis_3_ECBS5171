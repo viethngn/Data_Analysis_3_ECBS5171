{
 "cells": [
  {
   "cell_type": "markdown",
   "id": "db548262-c2db-4602-8398-91c7dde36c94",
   "metadata": {
    "tags": []
   },
   "source": [
    "https://ec.europa.eu/competition/mergers/cases/index/nace_all.html"
   ]
  },
  {
   "cell_type": "markdown",
   "id": "cc76cb84-127c-4be2-9bd6-62873d688cf0",
   "metadata": {},
   "source": [
    "# Import Necessary Packages"
   ]
  },
  {
   "cell_type": "code",
   "execution_count": 1,
   "id": "d3428402-bf0f-42bc-94bd-7c80b35ebb56",
   "metadata": {
    "tags": []
   },
   "outputs": [],
   "source": [
    "import os\n",
    "import sys\n",
    "import warnings\n",
    "\n",
    "import matplotlib.pyplot as plt\n",
    "import numpy as np\n",
    "import pandas as pd\n",
    "import patsy\n",
    "import sklearn.metrics as metrics\n",
    "import statsmodels.formula.api as smf\n",
    "from plotnine import *\n",
    "from sklearn.ensemble import RandomForestClassifier\n",
    "from sklearn.linear_model import (\n",
    "    LinearRegression,\n",
    "    LogisticRegression,\n",
    "    LogisticRegressionCV,\n",
    ")\n",
    "from sklearn.metrics import (\n",
    "    auc,\n",
    "    brier_score_loss,\n",
    "    confusion_matrix,\n",
    "    mean_squared_error,\n",
    "    roc_auc_score,\n",
    "    roc_curve,\n",
    ")\n",
    "from sklearn.model_selection import GridSearchCV, KFold, train_test_split\n",
    "from sklearn.preprocessing import StandardScaler\n",
    "from statsmodels.tools.eval_measures import rmse\n",
    "\n",
    "warnings.filterwarnings(\"ignore\")"
   ]
  },
  {
   "cell_type": "markdown",
   "id": "02a52b55-91b1-440b-b167-c3d5e6ee62ab",
   "metadata": {},
   "source": [
    "# 0. Define Custom Functions"
   ]
  },
  {
   "cell_type": "code",
   "execution_count": 2,
   "id": "910b404e-4ea9-4123-adc7-8094af4baeda",
   "metadata": {
    "tags": []
   },
   "outputs": [],
   "source": [
    "def regression_results(y_true, y_pred):\n",
    "\n",
    "    # Regression metrics\n",
    "    explained_variance = metrics.explained_variance_score(y_true, y_pred)\n",
    "    mean_absolute_error = metrics.mean_absolute_error(y_true, y_pred)\n",
    "    mse = metrics.mean_squared_error(y_true, y_pred)\n",
    "    median_absolute_error = metrics.median_absolute_error(y_true, y_pred)\n",
    "    r2 = metrics.r2_score(y_true, y_pred)\n",
    "\n",
    "    print(\"explained_variance: \", round(explained_variance, 4))\n",
    "    print(\"r2: \", round(r2, 4))\n",
    "    print(\"MAE: \", round(mean_absolute_error, 4))\n",
    "    print(\"MSE: \", round(mse, 4))\n",
    "    print(\"RMSE: \", round(np.sqrt(mse), 4))\n",
    "\n",
    "\n",
    "def coef_matrix(X, model):\n",
    "\n",
    "    coef_matrix = pd.concat(\n",
    "        [pd.DataFrame(X.columns), pd.DataFrame(np.transpose(model.coef_))], axis=1\n",
    "    )\n",
    "    coef_matrix.columns = [\"variable\", \"coefficient\"]\n",
    "    coef_matrix = coef_matrix.append(\n",
    "        {\"variable\": \"Intercept\", \"coefficient\": model.intercept_},\n",
    "        ignore_index=True,\n",
    "    )\n",
    "    return coef_matrix\n",
    "\n",
    "\n",
    "def cv_summary(lambdas, C_values, model):\n",
    "    d = {\n",
    "        \"lambdas\": lambdas,\n",
    "        \"C_values\": C_values,\n",
    "        \"mean_cv_score\": model.scores_[1].mean(axis=0),\n",
    "    }\n",
    "    return pd.DataFrame(data=d)\n",
    "\n",
    "\n",
    "def create_roc_plot(y_true, y_pred):\n",
    "    fpr, tpr, thresholds = roc_curve(y_true, y_pred)\n",
    "    all_coords = pd.DataFrame({\"fpr\": fpr, \"tpr\": tpr, \"thresholds\": thresholds})\n",
    "\n",
    "    plot = (\n",
    "        ggplot(all_coords, aes(x=\"fpr\", y=\"tpr\"))\n",
    "        + geom_line(color=color[0], size=0.7)\n",
    "        + geom_area(position=\"identity\", fill=\"mediumaquamarine\", alpha=0.3)\n",
    "        + xlab(\"False Positive Rate (1-Specifity)\")\n",
    "        + ylab(\"True Positive Rate (Sensitivity)\")\n",
    "        + geom_abline(intercept=0, slope=1, linetype=\"dotted\", color=\"black\")\n",
    "        + scale_y_continuous(limits=(0, 1), breaks=seq(0, 1, 0.1), expand=(0, 0.01))\n",
    "        + scale_x_continuous(limits=(0, 1), breaks=seq(0, 1, 0.1), expand=(0.01, 0))\n",
    "        + theme_bw()\n",
    "    )\n",
    "    return plot\n",
    "\n",
    "\n",
    "def sigmoid_array(x):\n",
    "    return 1 / (1 + np.exp(-x))\n",
    "\n",
    "\n",
    "def generate_fold_prediction(model, X, fold, param_index):\n",
    "    fold_coef = model.coefs_paths_[1][fold, param_index, :]\n",
    "    return sigmoid_array(\n",
    "        np.dot(X, np.transpose(fold_coef)[:-1]) + np.transpose(fold_coef)[-1]\n",
    "    )\n",
    "\n",
    "\n",
    "def create_loss_plot(all_coords, optimal_threshold, curr_exp_loss):\n",
    "    all_coords_copy = all_coords.copy()\n",
    "    all_coords_copy[\"loss\"] = (\n",
    "        all_coords_copy.false_pos * FP + all_coords_copy.false_neg * FN\n",
    "    ) / all_coords_copy.n\n",
    "\n",
    "    t = optimal_threshold\n",
    "    l = curr_exp_loss\n",
    "\n",
    "    plot = (\n",
    "        ggplot(all_coords_copy, aes(x=\"thresholds\", y=\"loss\"))\n",
    "        + geom_line(color=color[0], size=0.7)\n",
    "        + scale_x_continuous(breaks=seq(0, 1.1, by=0.1))\n",
    "        + coord_cartesian(xlim=(0, 1))\n",
    "        + geom_vline(xintercept=t, color=color[0])\n",
    "        + annotate(\n",
    "            geom=\"text\",\n",
    "            x=t - 0.01,\n",
    "            y=max(all_coords_copy.loss) - 0.4,\n",
    "            label=\"best threshold: \" + str(round(t, 2)),\n",
    "            colour=color[1],\n",
    "            angle=90,\n",
    "            size=7,\n",
    "        )\n",
    "        + annotate(geom=\"text\", x=t + 0.06, y=l, label=str(round(l, 2)), size=7)\n",
    "        + theme_bw()\n",
    "    )\n",
    "    return plot\n",
    "\n",
    "\n",
    "def create_roc_plot_with_optimal(all_coords, optimal_threshold):\n",
    "    all_coords_copy = all_coords.copy()\n",
    "    all_coords_copy[\"sp\"] = 1 - all_coords_copy.true_neg / all_coords_copy.neg\n",
    "    all_coords_copy[\"se\"] = all_coords_copy.true_pos / all_coords_copy.pos\n",
    "\n",
    "    best_coords = all_coords_copy[all_coords_copy.thresholds == optimal_threshold]\n",
    "    sp = best_coords.sp.values[0]\n",
    "    se = best_coords.se.values[0]\n",
    "\n",
    "    plot = (\n",
    "        ggplot(all_coords_copy, aes(x=\"sp\", y=\"se\"))\n",
    "        + geom_line(color=color[0], size=0.7)\n",
    "        + scale_y_continuous(breaks=seq(0, 1.1, by=0.1))\n",
    "        + scale_x_continuous(breaks=seq(0, 1.1, by=0.1))\n",
    "        + geom_point(data=pd.DataFrame({\"sp\": [sp], \"se\": [se]}))\n",
    "        + annotate(\n",
    "            geom=\"text\",\n",
    "            x=sp,\n",
    "            y=se + 0.03,\n",
    "            label=str(round(sp, 2)) + \", \" + str(round(se, 2)),\n",
    "            size=7,\n",
    "        )\n",
    "        + geom_area(position=\"identity\", fill=\"mediumaquamarine\", alpha=0.3)\n",
    "        + xlab(\"False Positive Rate (1-Specifity)\")\n",
    "        + ylab(\"True Positive Rate (Sensitivity)\")\n",
    "        + geom_abline(intercept=0, slope=1, linetype=\"dotted\", color=\"black\")\n",
    "        + theme_bw()\n",
    "    )\n",
    "    return plot"
   ]
  },
  {
   "cell_type": "markdown",
   "id": "3dddd522-6059-428d-94de-c6c64644f3f6",
   "metadata": {},
   "source": [
    "# 1. Import data"
   ]
  },
  {
   "cell_type": "code",
   "execution_count": 3,
   "id": "df5725f9-09d2-44a3-a075-5625aec727b0",
   "metadata": {},
   "outputs": [],
   "source": [
    "data = pd.read_csv(\"cs_bisnode_panel.csv\")"
   ]
  },
  {
   "cell_type": "code",
   "execution_count": 4,
   "id": "4e546d09-f3a8-4341-b048-6f5fb86026eb",
   "metadata": {
    "tags": []
   },
   "outputs": [
    {
     "data": {
      "text/html": [
       "<div>\n",
       "<style scoped>\n",
       "    .dataframe tbody tr th:only-of-type {\n",
       "        vertical-align: middle;\n",
       "    }\n",
       "\n",
       "    .dataframe tbody tr th {\n",
       "        vertical-align: top;\n",
       "    }\n",
       "\n",
       "    .dataframe thead th {\n",
       "        text-align: right;\n",
       "    }\n",
       "</style>\n",
       "<table border=\"1\" class=\"dataframe\">\n",
       "  <thead>\n",
       "    <tr style=\"text-align: right;\">\n",
       "      <th></th>\n",
       "      <th>comp_id</th>\n",
       "      <th>begin</th>\n",
       "      <th>end</th>\n",
       "      <th>COGS</th>\n",
       "      <th>amort</th>\n",
       "      <th>curr_assets</th>\n",
       "      <th>curr_liab</th>\n",
       "      <th>extra_exp</th>\n",
       "      <th>extra_inc</th>\n",
       "      <th>extra_profit_loss</th>\n",
       "      <th>...</th>\n",
       "      <th>gender</th>\n",
       "      <th>origin</th>\n",
       "      <th>nace_main</th>\n",
       "      <th>ind2</th>\n",
       "      <th>ind</th>\n",
       "      <th>urban_m</th>\n",
       "      <th>region_m</th>\n",
       "      <th>founded_date</th>\n",
       "      <th>exit_date</th>\n",
       "      <th>labor_avg</th>\n",
       "    </tr>\n",
       "  </thead>\n",
       "  <tbody>\n",
       "    <tr>\n",
       "      <th>0</th>\n",
       "      <td>1001034.0</td>\n",
       "      <td>2005-01-01</td>\n",
       "      <td>2005-12-31</td>\n",
       "      <td>NaN</td>\n",
       "      <td>692.592590</td>\n",
       "      <td>7266.666504</td>\n",
       "      <td>7574.074219</td>\n",
       "      <td>0.0</td>\n",
       "      <td>0.0</td>\n",
       "      <td>0.0</td>\n",
       "      <td>...</td>\n",
       "      <td>mix</td>\n",
       "      <td>Domestic</td>\n",
       "      <td>5630.0</td>\n",
       "      <td>56.0</td>\n",
       "      <td>3.0</td>\n",
       "      <td>1</td>\n",
       "      <td>Central</td>\n",
       "      <td>1990-11-19</td>\n",
       "      <td>NaN</td>\n",
       "      <td>NaN</td>\n",
       "    </tr>\n",
       "    <tr>\n",
       "      <th>1</th>\n",
       "      <td>1001034.0</td>\n",
       "      <td>2006-01-01</td>\n",
       "      <td>2006-12-31</td>\n",
       "      <td>NaN</td>\n",
       "      <td>603.703674</td>\n",
       "      <td>13122.222656</td>\n",
       "      <td>12211.111328</td>\n",
       "      <td>0.0</td>\n",
       "      <td>0.0</td>\n",
       "      <td>0.0</td>\n",
       "      <td>...</td>\n",
       "      <td>mix</td>\n",
       "      <td>Domestic</td>\n",
       "      <td>5630.0</td>\n",
       "      <td>56.0</td>\n",
       "      <td>3.0</td>\n",
       "      <td>1</td>\n",
       "      <td>Central</td>\n",
       "      <td>1990-11-19</td>\n",
       "      <td>NaN</td>\n",
       "      <td>NaN</td>\n",
       "    </tr>\n",
       "    <tr>\n",
       "      <th>2</th>\n",
       "      <td>1001034.0</td>\n",
       "      <td>2007-01-01</td>\n",
       "      <td>2007-12-31</td>\n",
       "      <td>NaN</td>\n",
       "      <td>425.925934</td>\n",
       "      <td>8196.295898</td>\n",
       "      <td>7800.000000</td>\n",
       "      <td>0.0</td>\n",
       "      <td>0.0</td>\n",
       "      <td>0.0</td>\n",
       "      <td>...</td>\n",
       "      <td>mix</td>\n",
       "      <td>Domestic</td>\n",
       "      <td>5630.0</td>\n",
       "      <td>56.0</td>\n",
       "      <td>3.0</td>\n",
       "      <td>1</td>\n",
       "      <td>Central</td>\n",
       "      <td>1990-11-19</td>\n",
       "      <td>NaN</td>\n",
       "      <td>NaN</td>\n",
       "    </tr>\n",
       "    <tr>\n",
       "      <th>3</th>\n",
       "      <td>1001034.0</td>\n",
       "      <td>2008-01-01</td>\n",
       "      <td>2008-12-31</td>\n",
       "      <td>NaN</td>\n",
       "      <td>300.000000</td>\n",
       "      <td>8485.185547</td>\n",
       "      <td>7781.481445</td>\n",
       "      <td>0.0</td>\n",
       "      <td>0.0</td>\n",
       "      <td>0.0</td>\n",
       "      <td>...</td>\n",
       "      <td>mix</td>\n",
       "      <td>Domestic</td>\n",
       "      <td>5630.0</td>\n",
       "      <td>56.0</td>\n",
       "      <td>3.0</td>\n",
       "      <td>1</td>\n",
       "      <td>Central</td>\n",
       "      <td>1990-11-19</td>\n",
       "      <td>NaN</td>\n",
       "      <td>NaN</td>\n",
       "    </tr>\n",
       "    <tr>\n",
       "      <th>4</th>\n",
       "      <td>1001034.0</td>\n",
       "      <td>2009-01-01</td>\n",
       "      <td>2009-12-31</td>\n",
       "      <td>NaN</td>\n",
       "      <td>207.407410</td>\n",
       "      <td>5137.037109</td>\n",
       "      <td>15300.000000</td>\n",
       "      <td>0.0</td>\n",
       "      <td>0.0</td>\n",
       "      <td>0.0</td>\n",
       "      <td>...</td>\n",
       "      <td>mix</td>\n",
       "      <td>Domestic</td>\n",
       "      <td>5630.0</td>\n",
       "      <td>56.0</td>\n",
       "      <td>3.0</td>\n",
       "      <td>1</td>\n",
       "      <td>Central</td>\n",
       "      <td>1990-11-19</td>\n",
       "      <td>NaN</td>\n",
       "      <td>0.083333</td>\n",
       "    </tr>\n",
       "  </tbody>\n",
       "</table>\n",
       "<p>5 rows × 48 columns</p>\n",
       "</div>"
      ],
      "text/plain": [
       "     comp_id       begin         end  COGS       amort   curr_assets  \\\n",
       "0  1001034.0  2005-01-01  2005-12-31   NaN  692.592590   7266.666504   \n",
       "1  1001034.0  2006-01-01  2006-12-31   NaN  603.703674  13122.222656   \n",
       "2  1001034.0  2007-01-01  2007-12-31   NaN  425.925934   8196.295898   \n",
       "3  1001034.0  2008-01-01  2008-12-31   NaN  300.000000   8485.185547   \n",
       "4  1001034.0  2009-01-01  2009-12-31   NaN  207.407410   5137.037109   \n",
       "\n",
       "      curr_liab  extra_exp  extra_inc  extra_profit_loss  ...  gender  \\\n",
       "0   7574.074219        0.0        0.0                0.0  ...     mix   \n",
       "1  12211.111328        0.0        0.0                0.0  ...     mix   \n",
       "2   7800.000000        0.0        0.0                0.0  ...     mix   \n",
       "3   7781.481445        0.0        0.0                0.0  ...     mix   \n",
       "4  15300.000000        0.0        0.0                0.0  ...     mix   \n",
       "\n",
       "     origin  nace_main  ind2  ind  urban_m  region_m  founded_date  exit_date  \\\n",
       "0  Domestic     5630.0  56.0  3.0        1   Central    1990-11-19        NaN   \n",
       "1  Domestic     5630.0  56.0  3.0        1   Central    1990-11-19        NaN   \n",
       "2  Domestic     5630.0  56.0  3.0        1   Central    1990-11-19        NaN   \n",
       "3  Domestic     5630.0  56.0  3.0        1   Central    1990-11-19        NaN   \n",
       "4  Domestic     5630.0  56.0  3.0        1   Central    1990-11-19        NaN   \n",
       "\n",
       "   labor_avg  \n",
       "0        NaN  \n",
       "1        NaN  \n",
       "2        NaN  \n",
       "3        NaN  \n",
       "4   0.083333  \n",
       "\n",
       "[5 rows x 48 columns]"
      ]
     },
     "execution_count": 4,
     "metadata": {},
     "output_type": "execute_result"
    }
   ],
   "source": [
    "data.head()"
   ]
  },
  {
   "cell_type": "code",
   "execution_count": 5,
   "id": "5c5153b1-aeea-47b7-b8d8-7f909f9768e9",
   "metadata": {
    "tags": []
   },
   "outputs": [
    {
     "data": {
      "text/plain": [
       "Index(['comp_id', 'begin', 'end', 'COGS', 'amort', 'curr_assets', 'curr_liab',\n",
       "       'extra_exp', 'extra_inc', 'extra_profit_loss', 'finished_prod',\n",
       "       'fixed_assets', 'inc_bef_tax', 'intang_assets', 'inventories',\n",
       "       'liq_assets', 'material_exp', 'net_dom_sales', 'net_exp_sales',\n",
       "       'personnel_exp', 'profit_loss_year', 'sales', 'share_eq',\n",
       "       'subscribed_cap', 'tang_assets', 'wages', 'D', 'balsheet_flag',\n",
       "       'balsheet_length', 'balsheet_notfullyear', 'year', 'founded_year',\n",
       "       'exit_year', 'ceo_count', 'foreign', 'female', 'birth_year',\n",
       "       'inoffice_days', 'gender', 'origin', 'nace_main', 'ind2', 'ind',\n",
       "       'urban_m', 'region_m', 'founded_date', 'exit_date', 'labor_avg'],\n",
       "      dtype='object')"
      ]
     },
     "execution_count": 5,
     "metadata": {},
     "output_type": "execute_result"
    }
   ],
   "source": [
    "data.columns"
   ]
  },
  {
   "cell_type": "code",
   "execution_count": 6,
   "id": "500d0297-42aa-4c9e-97a8-c1d0129cd898",
   "metadata": {
    "scrolled": true,
    "tags": []
   },
   "outputs": [
    {
     "name": "stdout",
     "output_type": "stream",
     "text": [
      "<class 'pandas.core.frame.DataFrame'>\n",
      "RangeIndex: 287829 entries, 0 to 287828\n",
      "Data columns (total 48 columns):\n",
      " #   Column                Non-Null Count   Dtype  \n",
      "---  ------                --------------   -----  \n",
      " 0   comp_id               287829 non-null  float64\n",
      " 1   begin                 287829 non-null  object \n",
      " 2   end                   287829 non-null  object \n",
      " 3   COGS                  18257 non-null   float64\n",
      " 4   amort                 279789 non-null  float64\n",
      " 5   curr_assets           287698 non-null  float64\n",
      " 6   curr_liab             287698 non-null  float64\n",
      " 7   extra_exp             269300 non-null  float64\n",
      " 8   extra_inc             269300 non-null  float64\n",
      " 9   extra_profit_loss     270626 non-null  float64\n",
      " 10  finished_prod         17485 non-null   float64\n",
      " 11  fixed_assets          287698 non-null  float64\n",
      " 12  inc_bef_tax           280392 non-null  float64\n",
      " 13  intang_assets         287689 non-null  float64\n",
      " 14  inventories           287698 non-null  float64\n",
      " 15  liq_assets            287698 non-null  float64\n",
      " 16  material_exp          279789 non-null  float64\n",
      " 17  net_dom_sales         18257 non-null   float64\n",
      " 18  net_exp_sales         18257 non-null   float64\n",
      " 19  personnel_exp         279789 non-null  float64\n",
      " 20  profit_loss_year      277945 non-null  float64\n",
      " 21  sales                 280392 non-null  float64\n",
      " 22  share_eq              287698 non-null  float64\n",
      " 23  subscribed_cap        287698 non-null  float64\n",
      " 24  tang_assets           286359 non-null  float64\n",
      " 25  wages                 17983 non-null   float64\n",
      " 26  D                     0 non-null       float64\n",
      " 27  balsheet_flag         287829 non-null  int64  \n",
      " 28  balsheet_length       287829 non-null  int64  \n",
      " 29  balsheet_notfullyear  287829 non-null  int64  \n",
      " 30  year                  287829 non-null  int64  \n",
      " 31  founded_year          231372 non-null  float64\n",
      " 32  exit_year             38859 non-null   float64\n",
      " 33  ceo_count             231402 non-null  float64\n",
      " 34  foreign               231402 non-null  float64\n",
      " 35  female                231402 non-null  float64\n",
      " 36  birth_year            176011 non-null  float64\n",
      " 37  inoffice_days         231402 non-null  float64\n",
      " 38  gender                231402 non-null  object \n",
      " 39  origin                231402 non-null  object \n",
      " 40  nace_main             286791 non-null  float64\n",
      " 41  ind2                  286791 non-null  float64\n",
      " 42  ind                   278060 non-null  float64\n",
      " 43  urban_m               287829 non-null  int64  \n",
      " 44  region_m              286989 non-null  object \n",
      " 45  founded_date          287778 non-null  object \n",
      " 46  exit_date             56180 non-null   object \n",
      " 47  labor_avg             141297 non-null  float64\n",
      "dtypes: float64(36), int64(5), object(7)\n",
      "memory usage: 105.4+ MB\n"
     ]
    }
   ],
   "source": [
    "data.info()"
   ]
  },
  {
   "cell_type": "markdown",
   "id": "e4b2aef6-cba3-4d57-bbf6-00ea0560e083",
   "metadata": {},
   "source": [
    "# 2. Data Handling"
   ]
  },
  {
   "cell_type": "markdown",
   "id": "feb25509-fe2a-48c0-acc3-830ae8378fe2",
   "metadata": {},
   "source": [
    "## 2.1 Label Engineering"
   ]
  },
  {
   "cell_type": "code",
   "execution_count": 7,
   "id": "1d8be2a3-d5b1-48c8-83b9-57e641cbf264",
   "metadata": {
    "tags": []
   },
   "outputs": [],
   "source": [
    "# add all missing year and comp_id combinations -\n",
    "# originally missing combinations will have NAs in all other columns\n",
    "data = (\n",
    "    data.set_index([\"year\", \"comp_id\"])\n",
    "    .unstack(fill_value=\"toReplace\")\n",
    "    .stack()\n",
    "    .reset_index()\n",
    ")\n",
    "data = data.replace(\"toReplace\", np.nan)  # only way I could define it as NaN"
   ]
  },
  {
   "cell_type": "code",
   "execution_count": 8,
   "id": "d2825597-1d46-49cb-a1d5-9e2bc368f0f1",
   "metadata": {
    "tags": []
   },
   "outputs": [],
   "source": [
    "# generate status_alive; if sales larger than zero and not-NA, then firm is alive\n",
    "data[\"status_alive\"] = (data[\"sales\"] > 0 & (False == data[\"sales\"].isna())).astype(int)\n",
    "\n",
    "# defaults in two years if there are sales in this year but no sales two years later\n",
    "# Status_in_two_years: data.groupby('comp_id')['status_alive'].shift(-2)\n",
    "data[\"default\"] = (\n",
    "    (data[\"status_alive\"] == 1)\n",
    "    & (data.groupby(\"comp_id\")[\"status_alive\"].shift(-1) == 0)\n",
    ").astype(int)"
   ]
  },
  {
   "cell_type": "code",
   "execution_count": 9,
   "id": "4dfbb06b-8df9-4222-93d8-8f2cb75eb04d",
   "metadata": {
    "tags": []
   },
   "outputs": [],
   "source": [
    "data[\"sales\"] = np.where(\n",
    "    data[\"sales\"] < 0, 1, data[\"sales\"]\n",
    ")  # has to be outside of assin()\n",
    "data = data.assign(\n",
    "    ln_sales=np.where(\n",
    "        data[\"sales\"] > 0,\n",
    "        np.log(data[\"sales\"]),\n",
    "        (np.where(data[\"sales\"].isna(), np.nan, 0)),\n",
    "    ),  # NaN remain NaN\n",
    "    sales_mil=data[\"sales\"] / 1000000,\n",
    "    sales_mil_log=np.where(\n",
    "        data[\"sales\"] > 0,\n",
    "        np.log(data[\"sales\"] / 1000000),\n",
    "        (np.where(data[\"sales\"].isna(), np.nan, 0)),\n",
    "    ),\n",
    ")"
   ]
  },
  {
   "cell_type": "code",
   "execution_count": 10,
   "id": "aabf0155-d275-4ff7-b5e7-733f198b981d",
   "metadata": {
    "tags": []
   },
   "outputs": [],
   "source": [
    "data[\"d1_sales_mil_log\"] = data[\"sales_mil_log\"] - data.groupby(\"comp_id\")[\n",
    "    \"sales_mil_log\"\n",
    "].shift(1)"
   ]
  },
  {
   "cell_type": "code",
   "execution_count": 11,
   "id": "1250635b-e194-4763-b3f8-254a6cee8ac2",
   "metadata": {
    "tags": []
   },
   "outputs": [],
   "source": [
    "# replace w 0 for new firms + add dummy to capture it\n",
    "data[\"age\"] = np.where(\n",
    "    data[\"year\"] - data[\"founded_year\"] < 0, 0, data[\"year\"] - data[\"founded_year\"]\n",
    ")\n",
    "data[\"new\"] = np.where(\n",
    "    ((data[\"age\"] <= 1) | (data[\"balsheet_notfullyear\"] == 1)),\n",
    "    1,\n",
    "    (np.where(data[\"age\"].isna(), np.nan, 0)),\n",
    ")\n",
    "data[\"d1_sales_mil_log\"] = np.where(\n",
    "    data[\"new\"] == 1, 0, np.where(data[\"new\"].isna(), np.nan, data[\"d1_sales_mil_log\"])\n",
    ")\n",
    "data[\"new\"] = np.where(data[\"d1_sales_mil_log\"].isna(), 1, data[\"new\"])\n",
    "data[\"d1_sales_mil_log\"] = np.where(\n",
    "    data[\"d1_sales_mil_log\"].isna(), 0, data[\"d1_sales_mil_log\"]\n",
    ")"
   ]
  },
  {
   "cell_type": "markdown",
   "id": "663a75f2-1df5-4751-b7f6-47c5b7254ec2",
   "metadata": {},
   "source": [
    "## 2.2 Feature Engineering"
   ]
  },
  {
   "cell_type": "code",
   "execution_count": 12,
   "id": "ab237996-4d6c-4a41-9738-9769ae10a39f",
   "metadata": {
    "tags": []
   },
   "outputs": [],
   "source": [
    "# change some industry category codes\n",
    "data[\"ind2_cat\"] = data[\"ind2\"].copy()\n",
    "data[\"ind2_cat\"] = np.where(data[\"ind2\"] > 56, 60, data[\"ind2_cat\"])\n",
    "data[\"ind2_cat\"] = np.where(data[\"ind2\"] < 26, 20, data[\"ind2_cat\"])\n",
    "data[\"ind2_cat\"] = np.where(\n",
    "    (data[\"ind2\"] < 55) & (data[\"ind2\"] > 35), 40, data[\"ind2_cat\"]\n",
    ")\n",
    "data[\"ind2_cat\"] = np.where(data[\"ind2\"] == 31, 30, data[\"ind2_cat\"])\n",
    "data[\"ind2_cat\"] = np.where(data[\"ind2\"].isna(), 99, data[\"ind2_cat\"])"
   ]
  },
  {
   "cell_type": "code",
   "execution_count": 13,
   "id": "5fbde083-8223-417b-9793-1dae1a057daf",
   "metadata": {
    "tags": []
   },
   "outputs": [
    {
     "data": {
      "text/plain": [
       "ind2_cat\n",
       "20.0       675\n",
       "26.0     14877\n",
       "27.0      9116\n",
       "28.0     26098\n",
       "29.0      4379\n",
       "30.0      2499\n",
       "32.0      1820\n",
       "33.0     21839\n",
       "35.0         6\n",
       "40.0      2766\n",
       "55.0     33756\n",
       "56.0    165521\n",
       "60.0      3439\n",
       "99.0    270153\n",
       "Name: comp_id, dtype: int64"
      ]
     },
     "execution_count": 13,
     "metadata": {},
     "output_type": "execute_result"
    }
   ],
   "source": [
    "data.groupby(\"ind2_cat\").count()[\"comp_id\"]"
   ]
  },
  {
   "cell_type": "code",
   "execution_count": 14,
   "id": "6acfbd74-e139-427e-9385-43c3807a23e7",
   "metadata": {
    "tags": []
   },
   "outputs": [],
   "source": [
    "# Firm characteristics\n",
    "data[\"age2\"] = data[\"age\"] ** 2\n",
    "data[\"foreign_management\"] = np.where(\n",
    "    data[\"foreign\"] >= 0.5, 1, np.where(data[\"foreign\"].isna(), np.nan, 0)\n",
    ")\n",
    "data[\"gender_m\"] = data[\"gender\"].astype(\"category\")\n",
    "data[\"m_region_loc\"] = data[\"region_m\"].astype(\"category\")"
   ]
  },
  {
   "cell_type": "code",
   "execution_count": 15,
   "id": "8bbb77f6-2e11-4bdc-8a41-6a4cb9932466",
   "metadata": {
    "tags": []
   },
   "outputs": [
    {
     "data": {
      "text/plain": [
       "flag_asset_problem\n",
       "0.0    287466\n",
       "1.0       223\n",
       "Name: comp_id, dtype: int64"
      ]
     },
     "execution_count": 15,
     "metadata": {},
     "output_type": "execute_result"
    }
   ],
   "source": [
    "# assets can't be negative. Change them to 0 and add a flag.\n",
    "data[\"flag_asset_problem\"] = np.where(\n",
    "    (\n",
    "        (data[\"intang_assets\"] < 0)\n",
    "        | (data[\"curr_assets\"] < 0)\n",
    "        | (data[\"fixed_assets\"] < 0)\n",
    "    ),\n",
    "    1,\n",
    "    0,\n",
    ")\n",
    "data[\"flag_asset_problem\"] = np.where(\n",
    "    (\n",
    "        (data[\"intang_assets\"].isna())\n",
    "        | (data[\"curr_assets\"].isna())\n",
    "        | (data[\"fixed_assets\"].isna())\n",
    "    ),\n",
    "    np.nan,\n",
    "    data[\"flag_asset_problem\"],\n",
    ")\n",
    "data.groupby(\"flag_asset_problem\").count()[\"comp_id\"]"
   ]
  },
  {
   "cell_type": "code",
   "execution_count": 16,
   "id": "d9d1ac8e-b6a8-42af-9ded-faac08f29eda",
   "metadata": {
    "tags": []
   },
   "outputs": [],
   "source": [
    "data[\"intang_assets\"] = np.where(data[\"intang_assets\"] < 0, 0, data[\"intang_assets\"])\n",
    "data[\"curr_assets\"] = np.where(data[\"curr_assets\"] < 0, 0, data[\"curr_assets\"])\n",
    "data[\"fixed_assets\"] = np.where(data[\"fixed_assets\"] < 0, 0, data[\"fixed_assets\"])"
   ]
  },
  {
   "cell_type": "code",
   "execution_count": 17,
   "id": "a6238cbd-8c76-4a5a-9dab-b8fa83013069",
   "metadata": {
    "tags": []
   },
   "outputs": [
    {
     "data": {
      "text/plain": [
       "count    2.876890e+05\n",
       "mean     5.980575e+05\n",
       "std      2.623770e+07\n",
       "min      0.000000e+00\n",
       "25%      4.792593e+03\n",
       "50%      2.024815e+04\n",
       "75%      8.810741e+04\n",
       "max      1.032471e+10\n",
       "Name: total_assets_bs, dtype: float64"
      ]
     },
     "execution_count": 17,
     "metadata": {},
     "output_type": "execute_result"
    }
   ],
   "source": [
    "# generate total assets\n",
    "data[\"total_assets_bs\"] = (\n",
    "    data[\"intang_assets\"] + data[\"curr_assets\"] + data[\"fixed_assets\"]\n",
    ")\n",
    "data[\"total_assets_bs\"].describe()"
   ]
  },
  {
   "cell_type": "code",
   "execution_count": 18,
   "id": "7fb2b9ab-2672-41d1-86f4-a6484018023d",
   "metadata": {
    "tags": []
   },
   "outputs": [],
   "source": [
    "pl_names = [\n",
    "    \"extra_exp\",\n",
    "    \"extra_inc\",\n",
    "    \"extra_profit_loss\",\n",
    "    \"inc_bef_tax\",\n",
    "    \"inventories\",\n",
    "    \"material_exp\",\n",
    "    \"profit_loss_year\",\n",
    "    \"personnel_exp\",\n",
    "]\n",
    "bs_names = [\n",
    "    \"intang_assets\",\n",
    "    \"curr_liab\",\n",
    "    \"fixed_assets\",\n",
    "    \"liq_assets\",\n",
    "    \"curr_assets\",\n",
    "    \"share_eq\",\n",
    "    \"subscribed_cap\",\n",
    "    \"tang_assets\",\n",
    "]\n"
   ]
  },
  {
   "cell_type": "code",
   "execution_count": 19,
   "id": "f8d00422-688a-4503-af35-c3ea7673708c",
   "metadata": {
    "tags": []
   },
   "outputs": [],
   "source": [
    "# divide all pl_names elements by sales and create new column for it\n",
    "data[[col + \"_pl\" for col in pl_names]] = data[pl_names].div(\n",
    "    data[\"sales\"], axis=\"index\"\n",
    ")"
   ]
  },
  {
   "cell_type": "code",
   "execution_count": 20,
   "id": "33eda842-48f4-4cb5-b390-84c620ab0f85",
   "metadata": {
    "tags": []
   },
   "outputs": [],
   "source": [
    "# divide all bs_names elements by total_assets_bs and create new column for it\n",
    "data[[col + \"_bs\" for col in bs_names]] = (\n",
    "    data[bs_names]\n",
    "    .div(data[\"total_assets_bs\"], axis=\"index\")\n",
    "    .replace((np.inf, -np.inf, np.nan), (0, 0, 0))\n",
    ")\n",
    "# get Nan values where total_assets_bs is NaN\n",
    "for col in bs_names:\n",
    "    data[col + \"_bs\"] = np.where(\n",
    "        data[\"total_assets_bs\"].isna(), np.nan, data[col + \"_bs\"]\n",
    "    )"
   ]
  },
  {
   "cell_type": "code",
   "execution_count": 21,
   "id": "95eeabf2-4d2f-40fe-88d0-f379bdb924c7",
   "metadata": {
    "tags": []
   },
   "outputs": [],
   "source": [
    "########################################################################\n",
    "# creating flags, and winsorizing tails\n",
    "########################################################################\n",
    "\n",
    "# Variables that represent accounting items that cannot be negative (e.g. materials)\n",
    "zero = [\n",
    "    \"extra_exp_pl\",\n",
    "    \"extra_inc_pl\",\n",
    "    \"inventories_pl\",\n",
    "    \"material_exp_pl\",\n",
    "    \"personnel_exp_pl\",\n",
    "    \"curr_liab_bs\",\n",
    "    \"fixed_assets_bs\",\n",
    "    \"liq_assets_bs\",\n",
    "    \"curr_assets_bs\",\n",
    "    \"subscribed_cap_bs\",\n",
    "    \"intang_assets_bs\",\n",
    "]\n",
    "\n",
    "data[[col + \"_flag_high\" for col in zero]] = np.where(\n",
    "    data[zero].isna(), np.nan, (data[zero] > 1).astype(int)\n",
    ")\n",
    "data[[col for col in zero]] = np.where(\n",
    "    data[zero].isna(), np.nan, np.where(data[zero] > 1, 1, data[zero])\n",
    ")\n",
    "data[[col + \"_flag_error\" for col in zero]] = np.where(\n",
    "    data[zero].isna(), np.nan, (data[zero] < 0).astype(int)\n",
    ")\n",
    "data[[col for col in zero]] = np.where(\n",
    "    data[zero].isna(), np.nan, np.where(data[zero] < 0, 0, data[zero])\n",
    ")\n"
   ]
  },
  {
   "cell_type": "code",
   "execution_count": 22,
   "id": "a6600d66-35a7-4002-b4b1-106609ecdff2",
   "metadata": {
    "tags": []
   },
   "outputs": [],
   "source": [
    "# for vars that could be any, but are mostly between -1 and 1\n",
    "anyof = [\"extra_profit_loss_pl\", \"inc_bef_tax_pl\", \"profit_loss_year_pl\", \"share_eq_bs\"]\n",
    "\n",
    "data[[col + \"_flag_low\" for col in anyof]] = np.where(\n",
    "    data[anyof].isna(), np.nan, (data[anyof] < -1).astype(int)\n",
    ")\n",
    "data[[col for col in anyof]] = np.where(\n",
    "    data[anyof].isna(), np.nan, np.where((data[anyof] < -1), -1, data[anyof])\n",
    ")\n",
    "data[[col + \"_flag_high\" for col in anyof]] = np.where(\n",
    "    data[anyof].isna(), np.nan, (data[anyof] > 1).astype(int)\n",
    ")\n",
    "data[[col for col in anyof]] = np.where(\n",
    "    data[anyof].isna(), np.nan, np.where((data[anyof] > 1), 1, data[anyof])\n",
    ")\n",
    "data[[col + \"_flag_zero\" for col in anyof]] = np.where(\n",
    "    data[anyof].isna(), np.nan, (data[anyof] == 0).astype(int)\n",
    ")\n",
    "data[[col + \"_quad\" for col in anyof]] = np.where(\n",
    "    data[anyof].isna(), np.nan, data[anyof] ** 2\n",
    ")\n"
   ]
  },
  {
   "cell_type": "code",
   "execution_count": 23,
   "id": "c266afb6-257e-4444-b1a2-a15a8856c99e",
   "metadata": {
    "tags": []
   },
   "outputs": [],
   "source": [
    "# dropping flags with no variation\n",
    "flag_columns = [col for col in data.columns if \"flag\" in col]\n",
    "data = data.drop(\n",
    "    data[flag_columns].std()[(data[flag_columns].std() == 0)].index, axis=1\n",
    ")"
   ]
  },
  {
   "cell_type": "code",
   "execution_count": 24,
   "id": "4eccad1a-f659-4272-86e2-9044883e37c5",
   "metadata": {
    "tags": []
   },
   "outputs": [],
   "source": [
    "########################################################################\n",
    "# additional\n",
    "# including some imputation\n",
    "########################################################################\n",
    "\n",
    "# CEO age\n",
    "data[\"ceo_age\"] = data[\"year\"] - data[\"birth_year\"]\n",
    "data = data.assign(\n",
    "    flag_low_ceo_age=(data[\"ceo_age\"] < 25).astype(int),\n",
    "    flag_high_ceo_age=(data[\"ceo_age\"] > 75).astype(int),\n",
    "    flag_miss_ceo_age=(data[\"ceo_age\"].isna()).astype(int),\n",
    ")\n",
    "\n",
    "\n",
    "data[\"ceo_age\"] = np.where(data[\"ceo_age\"] < 25, 25, data[\"ceo_age\"])\n",
    "data[\"ceo_age\"] = np.where(data[\"ceo_age\"] > 75, 75, data[\"ceo_age\"])\n",
    "data[\"ceo_age\"] = np.where(\n",
    "    data[\"ceo_age\"].isna(), data[\"ceo_age\"].mean(), data[\"ceo_age\"]\n",
    ")\n",
    "data[\"ceo_young\"] = (data[\"ceo_age\"] < 40).astype(int)\n"
   ]
  },
  {
   "cell_type": "code",
   "execution_count": 25,
   "id": "4a554378-188e-4209-9e99-3eabead184ca",
   "metadata": {
    "tags": []
   },
   "outputs": [],
   "source": [
    "# number emp, very noisy measure\n",
    "data[\"labor_avg_mod\"] = np.where(\n",
    "    data[\"labor_avg\"].isna(), data[\"labor_avg\"].mean(), data[\"labor_avg\"]\n",
    ")\n",
    "data[\"flag_miss_labor_avg\"] = (data[\"labor_avg\"].isna()).astype(int)"
   ]
  },
  {
   "cell_type": "code",
   "execution_count": 26,
   "id": "fa303892-f9d8-4934-ad7b-5ceab6c616c5",
   "metadata": {
    "tags": []
   },
   "outputs": [],
   "source": [
    "data = data.drop([\"labor_avg\"], axis=1)"
   ]
  },
  {
   "cell_type": "code",
   "execution_count": 27,
   "id": "1d8e2eac-8b17-410b-9072-ffe6a190f731",
   "metadata": {
    "tags": []
   },
   "outputs": [],
   "source": [
    "# create category type variables\n",
    "data[\"urban_m\"] = data[\"urban_m\"].astype(\"category\")\n",
    "data[\"ind2_cat\"] = data[\"ind2_cat\"].astype(\"category\")\n",
    "data[\"default_f\"] = data[\"default\"].astype(\"category\")\n",
    "data[\"default_f\"] = data[\"default_f\"].cat.rename_categories([\"no_default\", \"default\"])\n"
   ]
  },
  {
   "cell_type": "code",
   "execution_count": 28,
   "id": "f3575de0-c4d4-4f4c-abf5-5325be5c0104",
   "metadata": {
    "tags": []
   },
   "outputs": [],
   "source": [
    "########################################################################\n",
    "# sales\n",
    "########################################################################\n",
    "data[\"sales_mil_log_sq\"] = data[\"sales_mil_log\"] ** 2\n"
   ]
  },
  {
   "cell_type": "code",
   "execution_count": 29,
   "id": "3457f0cb-1e97-4dc9-b9a0-0f8ea728f9fd",
   "metadata": {
    "tags": []
   },
   "outputs": [
    {
     "data": {
      "image/png": "[encoded data removed]",
      "text/plain": [
       "<Figure size 640x480 with 1 Axes>"
      ]
     },
     "metadata": {
      "image/png": {
       "height": 480,
       "width": 640
      }
     },
     "output_type": "display_data"
    },
    {
     "data": {
      "text/plain": [
       "<Figure Size: (640 x 480)>"
      ]
     },
     "execution_count": 29,
     "metadata": {},
     "output_type": "execute_result"
    }
   ],
   "source": [
    "(\n",
    "    ggplot(data, aes(x=\"sales_mil_log\", y=\"default\"))\n",
    "    + geom_point(color=\"#214459\")\n",
    "    + geom_smooth(method=\"lm\", formula=\"y ~ x + I(x**2)\", color=\"#3498db\", se=False)\n",
    "    + geom_smooth(method=\"loess\", color=\"#e74c3c\", se=False, size=1.5, span=0.9)\n",
    "    + labs(x=\"sales_mil_log\", y=\"default\")\n",
    "    + theme_bw()\n",
    ")"
   ]
  },
  {
   "cell_type": "markdown",
   "id": "0a76cfaf-d09c-4056-960a-54a03358274a",
   "metadata": {},
   "source": [
    "# 3. Splitting into train and holdout"
   ]
  },
  {
   "cell_type": "code",
   "execution_count": 30,
   "id": "3b0d2558-0d68-4705-8313-e3be96f4e5d6",
   "metadata": {
    "tags": []
   },
   "outputs": [
    {
     "data": {
      "text/plain": [
       "417708"
      ]
     },
     "execution_count": 30,
     "metadata": {},
     "output_type": "execute_result"
    }
   ],
   "source": [
    "data_train = data[data['year'] < 2014]\n",
    "\n",
    "len(data_train)"
   ]
  },
  {
   "cell_type": "code",
   "execution_count": 31,
   "id": "be05ced1-8020-40c2-9020-590179e57417",
   "metadata": {
    "tags": []
   },
   "outputs": [
    {
     "data": {
      "text/plain": [
       "year                        0\n",
       "comp_id                     0\n",
       "begin                  195279\n",
       "end                    195279\n",
       "COGS                   402120\n",
       "                        ...  \n",
       "ceo_young                   0\n",
       "labor_avg_mod               0\n",
       "flag_miss_labor_avg         0\n",
       "default_f                   0\n",
       "sales_mil_log_sq       202589\n",
       "Length: 119, dtype: int64"
      ]
     },
     "execution_count": 31,
     "metadata": {},
     "output_type": "execute_result"
    }
   ],
   "source": [
    "# Calculate missing values for each variable\n",
    "missing_values = data_train.isnull().sum()\n",
    "\n",
    "missing_values"
   ]
  },
  {
   "cell_type": "code",
   "execution_count": 32,
   "id": "19fd5559-f432-4eae-96d4-1396fb232440",
   "metadata": {
    "tags": []
   },
   "outputs": [
    {
     "name": "stdout",
     "output_type": "stream",
     "text": [
      "default\n",
      "0    981\n",
      "1     56\n",
      "Name: count, dtype: int64\n"
     ]
    },
    {
     "data": {
      "text/plain": [
       "1037"
      ]
     },
     "execution_count": 32,
     "metadata": {},
     "output_type": "execute_result"
    }
   ],
   "source": [
    "data_holdout = data[(data['ind2'] == 26) & \n",
    "                 (data['year'] == 2014) & \n",
    "                 (data['sales'] >= 1000) & \n",
    "                 (data['sales'] <= 10000000)]\n",
    "\n",
    "data_holdout['year'].value_counts()\n",
    "\n",
    "print(data_holdout['default'].value_counts())\n",
    "\n",
    "len(data_holdout)"
   ]
  },
  {
   "cell_type": "code",
   "execution_count": 33,
   "id": "84e6293f-039b-4075-b51c-cd2c6783742a",
   "metadata": {
    "tags": []
   },
   "outputs": [
    {
     "data": {
      "text/plain": [
       "year                     0\n",
       "comp_id                  0\n",
       "begin                    0\n",
       "end                      0\n",
       "COGS                   948\n",
       "                      ... \n",
       "ceo_young                0\n",
       "labor_avg_mod            0\n",
       "flag_miss_labor_avg      0\n",
       "default_f                0\n",
       "sales_mil_log_sq         0\n",
       "Length: 119, dtype: int64"
      ]
     },
     "execution_count": 33,
     "metadata": {},
     "output_type": "execute_result"
    }
   ],
   "source": [
    "# Calculate missing values for each variable\n",
    "missing_values = data_holdout.isnull().sum()\n",
    "\n",
    "missing_values"
   ]
  },
  {
   "cell_type": "code",
   "execution_count": 34,
   "id": "5825a66e-9a9d-4055-8fbb-8c9b3d604ca2",
   "metadata": {
    "scrolled": true,
    "tags": []
   },
   "outputs": [
    {
     "data": {
      "text/html": [
       "<div>\n",
       "<style scoped>\n",
       "    .dataframe tbody tr th:only-of-type {\n",
       "        vertical-align: middle;\n",
       "    }\n",
       "\n",
       "    .dataframe tbody tr th {\n",
       "        vertical-align: top;\n",
       "    }\n",
       "\n",
       "    .dataframe thead th {\n",
       "        text-align: right;\n",
       "    }\n",
       "</style>\n",
       "<table border=\"1\" class=\"dataframe\">\n",
       "  <thead>\n",
       "    <tr style=\"text-align: right;\">\n",
       "      <th></th>\n",
       "      <th>count</th>\n",
       "      <th>mean</th>\n",
       "      <th>std</th>\n",
       "      <th>min</th>\n",
       "      <th>25%</th>\n",
       "      <th>50%</th>\n",
       "      <th>75%</th>\n",
       "      <th>max</th>\n",
       "    </tr>\n",
       "  </thead>\n",
       "  <tbody>\n",
       "    <tr>\n",
       "      <th>year</th>\n",
       "      <td>1037.0</td>\n",
       "      <td>2.014000e+03</td>\n",
       "      <td>0.000000e+00</td>\n",
       "      <td>2.014000e+03</td>\n",
       "      <td>2.014000e+03</td>\n",
       "      <td>2.014000e+03</td>\n",
       "      <td>2.014000e+03</td>\n",
       "      <td>2.014000e+03</td>\n",
       "    </tr>\n",
       "    <tr>\n",
       "      <th>comp_id</th>\n",
       "      <td>1037.0</td>\n",
       "      <td>1.550474e+11</td>\n",
       "      <td>1.358914e+11</td>\n",
       "      <td>6.538183e+06</td>\n",
       "      <td>3.413414e+10</td>\n",
       "      <td>1.205030e+11</td>\n",
       "      <td>2.552776e+11</td>\n",
       "      <td>4.628231e+11</td>\n",
       "    </tr>\n",
       "    <tr>\n",
       "      <th>COGS</th>\n",
       "      <td>89.0</td>\n",
       "      <td>2.422399e+05</td>\n",
       "      <td>4.842414e+05</td>\n",
       "      <td>0.000000e+00</td>\n",
       "      <td>0.000000e+00</td>\n",
       "      <td>1.622222e+03</td>\n",
       "      <td>2.587444e+05</td>\n",
       "      <td>2.659767e+06</td>\n",
       "    </tr>\n",
       "    <tr>\n",
       "      <th>amort</th>\n",
       "      <td>1035.0</td>\n",
       "      <td>2.106789e+04</td>\n",
       "      <td>9.177529e+04</td>\n",
       "      <td>0.000000e+00</td>\n",
       "      <td>4.074074e+02</td>\n",
       "      <td>1.918519e+03</td>\n",
       "      <td>8.962963e+03</td>\n",
       "      <td>1.927378e+06</td>\n",
       "    </tr>\n",
       "    <tr>\n",
       "      <th>curr_assets</th>\n",
       "      <td>1037.0</td>\n",
       "      <td>3.347084e+05</td>\n",
       "      <td>2.802615e+06</td>\n",
       "      <td>0.000000e+00</td>\n",
       "      <td>1.231111e+04</td>\n",
       "      <td>3.825555e+04</td>\n",
       "      <td>1.649444e+05</td>\n",
       "      <td>8.808707e+07</td>\n",
       "    </tr>\n",
       "    <tr>\n",
       "      <th>...</th>\n",
       "      <td>...</td>\n",
       "      <td>...</td>\n",
       "      <td>...</td>\n",
       "      <td>...</td>\n",
       "      <td>...</td>\n",
       "      <td>...</td>\n",
       "      <td>...</td>\n",
       "      <td>...</td>\n",
       "    </tr>\n",
       "    <tr>\n",
       "      <th>flag_miss_ceo_age</th>\n",
       "      <td>1037.0</td>\n",
       "      <td>1.099325e-01</td>\n",
       "      <td>3.129565e-01</td>\n",
       "      <td>0.000000e+00</td>\n",
       "      <td>0.000000e+00</td>\n",
       "      <td>0.000000e+00</td>\n",
       "      <td>0.000000e+00</td>\n",
       "      <td>1.000000e+00</td>\n",
       "    </tr>\n",
       "    <tr>\n",
       "      <th>ceo_young</th>\n",
       "      <td>1037.0</td>\n",
       "      <td>1.523626e-01</td>\n",
       "      <td>3.595454e-01</td>\n",
       "      <td>0.000000e+00</td>\n",
       "      <td>0.000000e+00</td>\n",
       "      <td>0.000000e+00</td>\n",
       "      <td>0.000000e+00</td>\n",
       "      <td>1.000000e+00</td>\n",
       "    </tr>\n",
       "    <tr>\n",
       "      <th>labor_avg_mod</th>\n",
       "      <td>1037.0</td>\n",
       "      <td>1.186136e+00</td>\n",
       "      <td>2.895822e+00</td>\n",
       "      <td>8.333334e-02</td>\n",
       "      <td>1.666667e-01</td>\n",
       "      <td>6.250000e-01</td>\n",
       "      <td>1.009435e+00</td>\n",
       "      <td>4.635417e+01</td>\n",
       "    </tr>\n",
       "    <tr>\n",
       "      <th>flag_miss_labor_avg</th>\n",
       "      <td>1037.0</td>\n",
       "      <td>3.008679e-01</td>\n",
       "      <td>4.588567e-01</td>\n",
       "      <td>0.000000e+00</td>\n",
       "      <td>0.000000e+00</td>\n",
       "      <td>0.000000e+00</td>\n",
       "      <td>1.000000e+00</td>\n",
       "      <td>1.000000e+00</td>\n",
       "    </tr>\n",
       "    <tr>\n",
       "      <th>sales_mil_log_sq</th>\n",
       "      <td>1037.0</td>\n",
       "      <td>9.807352e+00</td>\n",
       "      <td>9.917882e+00</td>\n",
       "      <td>1.094577e-04</td>\n",
       "      <td>1.772923e+00</td>\n",
       "      <td>6.871811e+00</td>\n",
       "      <td>1.464880e+01</td>\n",
       "      <td>4.678219e+01</td>\n",
       "    </tr>\n",
       "  </tbody>\n",
       "</table>\n",
       "<p>107 rows × 8 columns</p>\n",
       "</div>"
      ],
      "text/plain": [
       "                      count          mean           std           min  \\\n",
       "year                 1037.0  2.014000e+03  0.000000e+00  2.014000e+03   \n",
       "comp_id              1037.0  1.550474e+11  1.358914e+11  6.538183e+06   \n",
       "COGS                   89.0  2.422399e+05  4.842414e+05  0.000000e+00   \n",
       "amort                1035.0  2.106789e+04  9.177529e+04  0.000000e+00   \n",
       "curr_assets          1037.0  3.347084e+05  2.802615e+06  0.000000e+00   \n",
       "...                     ...           ...           ...           ...   \n",
       "flag_miss_ceo_age    1037.0  1.099325e-01  3.129565e-01  0.000000e+00   \n",
       "ceo_young            1037.0  1.523626e-01  3.595454e-01  0.000000e+00   \n",
       "labor_avg_mod        1037.0  1.186136e+00  2.895822e+00  8.333334e-02   \n",
       "flag_miss_labor_avg  1037.0  3.008679e-01  4.588567e-01  0.000000e+00   \n",
       "sales_mil_log_sq     1037.0  9.807352e+00  9.917882e+00  1.094577e-04   \n",
       "\n",
       "                              25%           50%           75%           max  \n",
       "year                 2.014000e+03  2.014000e+03  2.014000e+03  2.014000e+03  \n",
       "comp_id              3.413414e+10  1.205030e+11  2.552776e+11  4.628231e+11  \n",
       "COGS                 0.000000e+00  1.622222e+03  2.587444e+05  2.659767e+06  \n",
       "amort                4.074074e+02  1.918519e+03  8.962963e+03  1.927378e+06  \n",
       "curr_assets          1.231111e+04  3.825555e+04  1.649444e+05  8.808707e+07  \n",
       "...                           ...           ...           ...           ...  \n",
       "flag_miss_ceo_age    0.000000e+00  0.000000e+00  0.000000e+00  1.000000e+00  \n",
       "ceo_young            0.000000e+00  0.000000e+00  0.000000e+00  1.000000e+00  \n",
       "labor_avg_mod        1.666667e-01  6.250000e-01  1.009435e+00  4.635417e+01  \n",
       "flag_miss_labor_avg  0.000000e+00  0.000000e+00  1.000000e+00  1.000000e+00  \n",
       "sales_mil_log_sq     1.772923e+00  6.871811e+00  1.464880e+01  4.678219e+01  \n",
       "\n",
       "[107 rows x 8 columns]"
      ]
     },
     "execution_count": 34,
     "metadata": {},
     "output_type": "execute_result"
    }
   ],
   "source": [
    "data_holdout.describe().T"
   ]
  },
  {
   "cell_type": "markdown",
   "id": "7e11b91c-019e-400a-aced-b1e013d4cce4",
   "metadata": {},
   "source": [
    "# 4. Cleaning Data"
   ]
  },
  {
   "cell_type": "markdown",
   "id": "32950d40-7f07-4d2a-9bd8-3495e6dc9ad2",
   "metadata": {},
   "source": [
    "## 4.1 Dealing with missing values"
   ]
  },
  {
   "cell_type": "code",
   "execution_count": 35,
   "id": "38d1ba92-55b5-4d87-b728-c87bf263965b",
   "metadata": {
    "tags": []
   },
   "outputs": [
    {
     "data": {
      "text/plain": [
       "year                        0\n",
       "comp_id                     0\n",
       "begin                  195279\n",
       "end                    195279\n",
       "COGS                   402120\n",
       "                        ...  \n",
       "ceo_young                   0\n",
       "labor_avg_mod               0\n",
       "flag_miss_labor_avg         0\n",
       "default_f                   0\n",
       "sales_mil_log_sq       202589\n",
       "Length: 119, dtype: int64"
      ]
     },
     "execution_count": 35,
     "metadata": {},
     "output_type": "execute_result"
    }
   ],
   "source": [
    "# Calculate missing values for each variable\n",
    "missing_values = data_train.isnull().sum()\n",
    "\n",
    "missing_values"
   ]
  },
  {
   "cell_type": "code",
   "execution_count": 36,
   "id": "e138414b-8490-4123-a282-acbd569ac34e",
   "metadata": {
    "tags": []
   },
   "outputs": [
    {
     "data": {
      "text/plain": [
       "year                     0\n",
       "comp_id                  0\n",
       "begin                    0\n",
       "end                      0\n",
       "COGS                   948\n",
       "                      ... \n",
       "ceo_young                0\n",
       "labor_avg_mod            0\n",
       "flag_miss_labor_avg      0\n",
       "default_f                0\n",
       "sales_mil_log_sq         0\n",
       "Length: 119, dtype: int64"
      ]
     },
     "execution_count": 36,
     "metadata": {},
     "output_type": "execute_result"
    }
   ],
   "source": [
    "# Calculate missing values for each variable\n",
    "missing_values = data_holdout.isnull().sum()\n",
    "\n",
    "missing_values"
   ]
  },
  {
   "cell_type": "code",
   "execution_count": 37,
   "id": "2c3a2d07-5aec-4d3c-936d-17952bfcbd2d",
   "metadata": {
    "tags": []
   },
   "outputs": [
    {
     "name": "stdout",
     "output_type": "stream",
     "text": [
      "['year', 'comp_id', 'begin', 'end', 'COGS', 'amort', 'curr_assets', 'curr_liab', 'extra_exp', 'extra_inc', 'extra_profit_loss', 'finished_prod', 'fixed_assets', 'inc_bef_tax', 'intang_assets', 'inventories', 'liq_assets', 'material_exp', 'net_dom_sales', 'net_exp_sales', 'personnel_exp', 'profit_loss_year', 'sales', 'share_eq', 'subscribed_cap', 'tang_assets', 'wages', 'D', 'balsheet_flag', 'balsheet_length', 'balsheet_notfullyear', 'founded_year', 'exit_year', 'ceo_count', 'foreign', 'female', 'birth_year', 'inoffice_days', 'gender', 'origin', 'nace_main', 'ind2', 'ind', 'urban_m', 'region_m', 'founded_date', 'exit_date', 'status_alive', 'default', 'ln_sales', 'sales_mil', 'sales_mil_log', 'd1_sales_mil_log', 'age', 'new', 'ind2_cat', 'age2', 'foreign_management', 'gender_m', 'm_region_loc', 'flag_asset_problem', 'total_assets_bs', 'extra_exp_pl', 'extra_inc_pl', 'extra_profit_loss_pl', 'inc_bef_tax_pl', 'inventories_pl', 'material_exp_pl', 'profit_loss_year_pl', 'personnel_exp_pl', 'intang_assets_bs', 'curr_liab_bs', 'fixed_assets_bs', 'liq_assets_bs', 'curr_assets_bs', 'share_eq_bs', 'subscribed_cap_bs', 'tang_assets_bs', 'extra_exp_pl_flag_high', 'extra_inc_pl_flag_high', 'inventories_pl_flag_high', 'material_exp_pl_flag_high', 'personnel_exp_pl_flag_high', 'curr_liab_bs_flag_high', 'liq_assets_bs_flag_high', 'subscribed_cap_bs_flag_high', 'extra_exp_pl_flag_error', 'extra_inc_pl_flag_error', 'inventories_pl_flag_error', 'material_exp_pl_flag_error', 'personnel_exp_pl_flag_error', 'curr_liab_bs_flag_error', 'liq_assets_bs_flag_error', 'subscribed_cap_bs_flag_error', 'extra_profit_loss_pl_flag_low', 'inc_bef_tax_pl_flag_low', 'profit_loss_year_pl_flag_low', 'share_eq_bs_flag_low', 'extra_profit_loss_pl_flag_high', 'inc_bef_tax_pl_flag_high', 'profit_loss_year_pl_flag_high', 'share_eq_bs_flag_high', 'extra_profit_loss_pl_flag_zero', 'inc_bef_tax_pl_flag_zero', 'profit_loss_year_pl_flag_zero', 'share_eq_bs_flag_zero', 'extra_profit_loss_pl_quad', 'inc_bef_tax_pl_quad', 'profit_loss_year_pl_quad', 'share_eq_bs_quad', 'ceo_age', 'flag_low_ceo_age', 'flag_high_ceo_age', 'flag_miss_ceo_age', 'ceo_young', 'labor_avg_mod', 'flag_miss_labor_avg', 'default_f', 'sales_mil_log_sq']\n"
     ]
    }
   ],
   "source": [
    "print(list(data_holdout.columns))"
   ]
  },
  {
   "cell_type": "code",
   "execution_count": 38,
   "id": "f1f2aff2-3ff9-49d1-9f97-916893588ef3",
   "metadata": {
    "tags": []
   },
   "outputs": [
    {
     "name": "stdout",
     "output_type": "stream",
     "text": [
      "                       Variable  MissingValuesTrain  MissingValuesHoldout\n",
      "27                            D              417708                  1037\n",
      "32                    exit_year              380493                  1014\n",
      "46                    exit_date              363573                  1012\n",
      "11                finished_prod              402775                   950\n",
      "26                        wages              402350                   949\n",
      "4                          COGS              402120                   948\n",
      "18                net_dom_sales              402120                   948\n",
      "19                net_exp_sales              402120                   948\n",
      "36                   birth_year              296715                   114\n",
      "38                       gender              247851                    31\n",
      "58                     gender_m              247851                    31\n",
      "57           foreign_management              247851                    31\n",
      "56                         age2              247879                    31\n",
      "53                          age              247879                    31\n",
      "39                       origin              247851                    31\n",
      "37                inoffice_days              247851                    31\n",
      "35                       female              247851                    31\n",
      "34                      foreign              247851                    31\n",
      "33                    ceo_count              247851                    31\n",
      "31                 founded_year              247879                    31\n",
      "5                         amort              203064                     2\n",
      "44                     region_m              195929                     2\n",
      "20                personnel_exp              203064                     2\n",
      "17                 material_exp              203064                     2\n",
      "59                 m_region_loc              195929                     2\n",
      "67              material_exp_pl              209903                     2\n",
      "69             personnel_exp_pl              226665                     2\n",
      "81    material_exp_pl_flag_high              209903                     2\n",
      "82   personnel_exp_pl_flag_high              226665                     2\n",
      "89   material_exp_pl_flag_error              209903                     2\n",
      "90  personnel_exp_pl_flag_error              226665                     2\n"
     ]
    }
   ],
   "source": [
    "def compare_missing_values(data_train, data_holdout):\n",
    "    # Calculate missing values for each variable in data_train\n",
    "    missing_values_train = data_train.isnull().sum()\n",
    "\n",
    "    # Calculate missing values for each variable in data_holdout\n",
    "    missing_values_holdout = data_holdout.isnull().sum()\n",
    "\n",
    "    # Convert Series to DataFrame for easier manipulation\n",
    "    df_missing_values_train = missing_values_train.reset_index()\n",
    "    df_missing_values_train.columns = ['Variable', 'MissingValuesTrain']\n",
    "\n",
    "    df_missing_values_holdout = missing_values_holdout.reset_index()\n",
    "    df_missing_values_holdout.columns = ['Variable', 'MissingValuesHoldout']\n",
    "\n",
    "    # Merge the two dataframes on 'Variable' to compare\n",
    "    comparison_df = pd.merge(df_missing_values_train, df_missing_values_holdout, on='Variable')\n",
    "\n",
    "    # Filter to show only variables with missing values in both data_train and data_holdout\n",
    "    comparison_df = comparison_df[(comparison_df['MissingValuesTrain'] > 0) & (comparison_df['MissingValuesHoldout'] > 0)]\n",
    "\n",
    "    # Optionally, sort by 'MissingValuesHoldout' for better visualization\n",
    "    comparison_df.sort_values(by='MissingValuesHoldout', ascending=False, inplace=True)\n",
    "\n",
    "    return comparison_df\n",
    "\n",
    "# Assuming 'data_train' and 'data_holdout' are your DataFrame subsets\n",
    "# Now you can call the function with your datasets\n",
    "comparison_df = compare_missing_values(data_train, data_holdout)\n",
    "\n",
    "# Print the comparison DataFrame\n",
    "print(comparison_df)"
   ]
  },
  {
   "cell_type": "markdown",
   "id": "d9883863-3d4e-4077-a093-bd5b8e2c9a5f",
   "metadata": {},
   "source": [
    "Based on these  findings, it seems to be a good idea to remove `D`, `COGS`, `finished_prod`, `wages`,\n",
    "`net_dom_sales`, and `net_exp_sales`\n"
   ]
  },
  {
   "cell_type": "code",
   "execution_count": 39,
   "id": "eac0277d-aa13-4fcc-b31c-7991f043a49c",
   "metadata": {
    "tags": []
   },
   "outputs": [],
   "source": [
    "# Dropping the columns with too many missing values in the original data\n",
    "data_train = data_train.drop(columns = ['D', \n",
    "                            'COGS',\n",
    "                            'finished_prod', \n",
    "                            'wages', \n",
    "                            'net_dom_sales', \n",
    "                            'net_exp_sales'])"
   ]
  },
  {
   "cell_type": "code",
   "execution_count": 40,
   "id": "4812f115-c088-49a6-9cda-2b34804c1341",
   "metadata": {
    "tags": []
   },
   "outputs": [],
   "source": [
    "# Dropping the columns with too many missing values in the holdout data\n",
    "data_holdout = data_holdout.drop(columns = ['D', \n",
    "                            'finished_prod', \n",
    "                            'wages', \n",
    "                            'net_dom_sales', \n",
    "                            'net_exp_sales'])"
   ]
  },
  {
   "cell_type": "code",
   "execution_count": 41,
   "id": "b2f92443-6bd4-4f57-a99f-f7842c9f04a6",
   "metadata": {
    "tags": []
   },
   "outputs": [
    {
     "name": "stdout",
     "output_type": "stream",
     "text": [
      "                       Variable  MissingValuesTrain  MissingValuesHoldout\n",
      "26                    exit_year              380493                  1014\n",
      "40                    exit_date              363573                  1012\n",
      "30                   birth_year              296715                   114\n",
      "31                inoffice_days              247851                    31\n",
      "47                          age              247879                    31\n",
      "52                     gender_m              247851                    31\n",
      "25                 founded_year              247879                    31\n",
      "27                    ceo_count              247851                    31\n",
      "28                      foreign              247851                    31\n",
      "29                       female              247851                    31\n",
      "51           foreign_management              247851                    31\n",
      "32                       gender              247851                    31\n",
      "33                       origin              247851                    31\n",
      "50                         age2              247879                    31\n",
      "4                         amort              203064                     2\n",
      "76   personnel_exp_pl_flag_high              226665                     2\n",
      "63             personnel_exp_pl              226665                     2\n",
      "83   material_exp_pl_flag_error              209903                     2\n",
      "75    material_exp_pl_flag_high              209903                     2\n",
      "38                     region_m              195929                     2\n",
      "61              material_exp_pl              209903                     2\n",
      "53                 m_region_loc              195929                     2\n",
      "15                 material_exp              203064                     2\n",
      "16                personnel_exp              203064                     2\n",
      "84  personnel_exp_pl_flag_error              226665                     2\n"
     ]
    }
   ],
   "source": [
    "comparison_df = compare_missing_values(data_train, data_holdout)\n",
    "\n",
    "# Print the comparison DataFrame\n",
    "print(comparison_df)"
   ]
  },
  {
   "cell_type": "markdown",
   "id": "676638f0-99ee-4efa-a5d6-0e11630bc822",
   "metadata": {},
   "source": [
    "## 4.2 Dealing with 0 values - NOT COMPLETE"
   ]
  },
  {
   "cell_type": "code",
   "execution_count": null,
   "id": "d3aaa8e6-cf90-45b9-b805-e48885bd51b1",
   "metadata": {},
   "outputs": [],
   "source": []
  },
  {
   "cell_type": "markdown",
   "id": "6b7faafc-1071-4caf-a5e5-1fdb6deb6bff",
   "metadata": {},
   "source": [
    "# 5. Define variables"
   ]
  },
  {
   "cell_type": "code",
   "execution_count": 42,
   "id": "a3a471b3-7bce-4a1e-9d61-a17e30265a47",
   "metadata": {
    "tags": []
   },
   "outputs": [],
   "source": [
    "rawvars = [\n",
    "    \"curr_assets\",\n",
    "    \"curr_liab\",\n",
    "    \"extra_exp\",\n",
    "    \"extra_inc\",\n",
    "    \"extra_profit_loss\",\n",
    "    \"fixed_assets\",\n",
    "    \"inc_bef_tax\",\n",
    "    \"intang_assets\",\n",
    "    \"inventories\",\n",
    "    \"liq_assets\",\n",
    "    \"material_exp\",\n",
    "    \"personnel_exp\",\n",
    "    \"profit_loss_year\",\n",
    "    \"sales\",\n",
    "    \"share_eq\",\n",
    "    \"subscribed_cap\",\n",
    "]"
   ]
  },
  {
   "cell_type": "code",
   "execution_count": 43,
   "id": "e8f05152-8b0c-41e5-b8f1-589617538a2e",
   "metadata": {
    "tags": []
   },
   "outputs": [],
   "source": [
    "qualityvars = [\"balsheet_flag\", \"balsheet_length\", \"balsheet_notfullyear\"]\n",
    "engvar = [\n",
    "    \"total_assets_bs\",\n",
    "    \"fixed_assets_bs\",\n",
    "    \"liq_assets_bs\",\n",
    "    \"curr_assets_bs\",\n",
    "    \"share_eq_bs\",\n",
    "    \"subscribed_cap_bs\",\n",
    "    \"intang_assets_bs\",\n",
    "    \"extra_exp_pl\",\n",
    "    \"extra_inc_pl\",\n",
    "    \"extra_profit_loss_pl\",\n",
    "    \"inc_bef_tax_pl\",\n",
    "    \"inventories_pl\",\n",
    "    \"material_exp_pl\",\n",
    "    \"profit_loss_year_pl\",\n",
    "    \"personnel_exp_pl\",\n",
    "]\n",
    "engvar2 = [\n",
    "    \"extra_profit_loss_pl_quad\",\n",
    "    \"inc_bef_tax_pl_quad\",\n",
    "    \"profit_loss_year_pl_quad\",\n",
    "    \"share_eq_bs_quad\",\n",
    "]"
   ]
  },
  {
   "cell_type": "code",
   "execution_count": 44,
   "id": "4323f3ab-d2f9-4936-a122-74ed8b09fbb1",
   "metadata": {
    "tags": []
   },
   "outputs": [],
   "source": [
    "engvar3 = []\n",
    "for col in data.columns:\n",
    "    if (\n",
    "        col.endswith(\"flag_low\")\n",
    "        or col.endswith(\"flag_high\")\n",
    "        or col.endswith(\"flag_error\")\n",
    "        or col.endswith(\"flag_zero\")\n",
    "    ):\n",
    "        engvar3.append(col)"
   ]
  },
  {
   "cell_type": "code",
   "execution_count": 45,
   "id": "b2ae556a-8d0b-47e3-9e71-18eba650ba9a",
   "metadata": {
    "tags": []
   },
   "outputs": [],
   "source": [
    "hr = [\n",
    "    \"female\",\n",
    "    \"ceo_age\",\n",
    "    \"flag_high_ceo_age\",\n",
    "    \"flag_low_ceo_age\",\n",
    "    \"flag_miss_ceo_age\",\n",
    "    \"ceo_count\",\n",
    "    \"labor_avg_mod\",\n",
    "    \"flag_miss_labor_avg\",\n",
    "    \"foreign_management\",\n",
    "]"
   ]
  },
  {
   "cell_type": "code",
   "execution_count": 46,
   "id": "303ca309-7c65-4b80-bbe3-bfa1a5ef720b",
   "metadata": {
    "tags": []
   },
   "outputs": [],
   "source": [
    "firm = [\"age\", \"age2\", \"new\", \"C(ind2_cat)\", \"C(m_region_loc)\", \"C(urban_m)\"]"
   ]
  },
  {
   "cell_type": "code",
   "execution_count": 47,
   "id": "115587d1-13af-4262-af1b-5541d550aa54",
   "metadata": {
    "tags": []
   },
   "outputs": [],
   "source": [
    "interactions1 = [\n",
    "    \"C(ind2_cat)*age\",\n",
    "    \"C(ind2_cat)*age2\",\n",
    "    \"C(ind2_cat)*ceo_age\",\n",
    "    \"C(ind2_cat)*foreign_management\",\n",
    "    \"C(ind2_cat)*female\",\n",
    "    \"C(ind2_cat)*C(urban_m)\",\n",
    "    \"C(ind2_cat)*labor_avg_mod\",\n",
    "]\n",
    "interactions2 = [\n",
    "    \"sales_mil_log*age\",\n",
    "    \"sales_mil_log*female\",\n",
    "    \"sales_mil_log*profit_loss_year_pl\",\n",
    "    \"sales_mil_log*foreign_management\",\n",
    "]"
   ]
  },
  {
   "cell_type": "markdown",
   "id": "15838d03-7b44-4e0d-9338-4182bd2f5857",
   "metadata": {},
   "source": [
    "# 6. Model setups"
   ]
  },
  {
   "cell_type": "code",
   "execution_count": 50,
   "id": "ec175dad-e8fb-4d0f-9dc4-52813b191fab",
   "metadata": {
    "tags": []
   },
   "outputs": [],
   "source": [
    "M1 = [\n",
    "    \"sales_mil_log\",\n",
    "    \"sales_mil_log_sq\",\n",
    "    \"profit_loss_year_pl\",\n",
    "    \"C(ind2_cat)\",\n",
    "]\n",
    "M2 = [\n",
    "    \"sales_mil_log\",\n",
    "    \"sales_mil_log_sq\",\n",
    "    \"profit_loss_year_pl\",\n",
    "    \"fixed_assets_bs\",\n",
    "    \"share_eq_bs\",\n",
    "    \"curr_liab_bs \",\n",
    "    \"curr_liab_bs_flag_high \",\n",
    "    \"curr_liab_bs_flag_error\",\n",
    "    \"age\",\n",
    "    \"foreign_management\",\n",
    "    \"C(ind2_cat)\",\n",
    "]\n",
    "M3 = [\"sales_mil_log\", \"sales_mil_log_sq\"] + firm + engvar\n",
    "M4 = (\n",
    "    [\"sales_mil_log\", \"sales_mil_log_sq\"]\n",
    "    + firm\n",
    "    + engvar\n",
    "    + engvar2\n",
    "    + engvar3\n",
    "    + hr\n",
    "    + qualityvars\n",
    ")\n",
    "M5 = (\n",
    "    [\"sales_mil_log\", \"sales_mil_log_sq\"]\n",
    "    + firm\n",
    "    + engvar\n",
    "    + engvar2\n",
    "    + engvar3\n",
    "    + hr\n",
    "    + qualityvars\n",
    "    + interactions1\n",
    "    + interactions2\n",
    ")"
   ]
  },
  {
   "cell_type": "code",
   "execution_count": 51,
   "id": "1100775c-584c-495e-a110-a1789f9f10f1",
   "metadata": {
    "tags": []
   },
   "outputs": [],
   "source": [
    "logit_lasso_vars = (\n",
    "    [\"sales_mil_log\", \"sales_mil_log_sq\"]\n",
    "    + engvar\n",
    "    + engvar2\n",
    "    + engvar3\n",
    "    + hr\n",
    "    + firm\n",
    "    + qualityvars\n",
    "    + interactions1\n",
    "    + interactions2\n",
    ")"
   ]
  },
  {
   "cell_type": "code",
   "execution_count": 52,
   "id": "3c79eb4e-135e-4812-9b25-619ba8569252",
   "metadata": {
    "tags": []
   },
   "outputs": [],
   "source": [
    "rfvars = [\"sales_mil\", \"d1_sales_mil_log\"] + rawvars + hr + firm + qualityvars"
   ]
  },
  {
   "cell_type": "markdown",
   "id": "1234bf1c-dc7f-490d-949b-cf751b1abaec",
   "metadata": {},
   "source": [
    "# 7. Creating Prediction Models"
   ]
  },
  {
   "cell_type": "markdown",
   "id": "8c6ee0be-c1ba-49fc-9859-6f8b10210902",
   "metadata": {
    "tags": []
   },
   "source": [
    "## 7.1 Linear Models"
   ]
  },
  {
   "cell_type": "code",
   "execution_count": 53,
   "id": "b6518e49-f0e1-42a9-9f80-d5ee1f0a3f97",
   "metadata": {
    "tags": []
   },
   "outputs": [
    {
     "data": {
      "text/html": [
       "<table class=\"simpletable\">\n",
       "<caption>OLS Regression Results</caption>\n",
       "<tr>\n",
       "  <th>Dep. Variable:</th>         <td>default</td>     <th>  R-squared:         </th> <td>   0.109</td> \n",
       "</tr>\n",
       "<tr>\n",
       "  <th>Model:</th>                   <td>OLS</td>       <th>  Adj. R-squared:    </th> <td>   0.109</td> \n",
       "</tr>\n",
       "<tr>\n",
       "  <th>Method:</th>             <td>Least Squares</td>  <th>  F-statistic:       </th> <td>   551.7</td> \n",
       "</tr>\n",
       "<tr>\n",
       "  <th>Date:</th>             <td>Sun, 25 Feb 2024</td> <th>  Prob (F-statistic):</th>  <td>  0.00</td>  \n",
       "</tr>\n",
       "<tr>\n",
       "  <th>Time:</th>                 <td>16:02:59</td>     <th>  Log-Likelihood:    </th> <td> -25760.</td> \n",
       "</tr>\n",
       "<tr>\n",
       "  <th>No. Observations:</th>      <td>163273</td>      <th>  AIC:               </th> <td>5.157e+04</td>\n",
       "</tr>\n",
       "<tr>\n",
       "  <th>Df Residuals:</th>          <td>163249</td>      <th>  BIC:               </th> <td>5.181e+04</td>\n",
       "</tr>\n",
       "<tr>\n",
       "  <th>Df Model:</th>              <td>    23</td>      <th>                     </th>     <td> </td>    \n",
       "</tr>\n",
       "<tr>\n",
       "  <th>Covariance Type:</th>         <td>HC1</td>       <th>                     </th>     <td> </td>    \n",
       "</tr>\n",
       "</table>\n",
       "<table class=\"simpletable\">\n",
       "<tr>\n",
       "             <td></td>                <th>coef</th>     <th>std err</th>      <th>z</th>      <th>P>|z|</th>  <th>[0.025</th>    <th>0.975]</th>  \n",
       "</tr>\n",
       "<tr>\n",
       "  <th>Intercept</th>               <td>    0.0180</td> <td>    0.012</td> <td>    1.522</td> <td> 0.128</td> <td>   -0.005</td> <td>    0.041</td>\n",
       "</tr>\n",
       "<tr>\n",
       "  <th>C(ind2_cat)[T.26.0]</th>     <td>    0.0036</td> <td>    0.012</td> <td>    0.306</td> <td> 0.760</td> <td>   -0.020</td> <td>    0.027</td>\n",
       "</tr>\n",
       "<tr>\n",
       "  <th>C(ind2_cat)[T.27.0]</th>     <td>    0.0108</td> <td>    0.012</td> <td>    0.901</td> <td> 0.367</td> <td>   -0.013</td> <td>    0.034</td>\n",
       "</tr>\n",
       "<tr>\n",
       "  <th>C(ind2_cat)[T.28.0]</th>     <td>    0.0140</td> <td>    0.012</td> <td>    1.196</td> <td> 0.232</td> <td>   -0.009</td> <td>    0.037</td>\n",
       "</tr>\n",
       "<tr>\n",
       "  <th>C(ind2_cat)[T.29.0]</th>     <td>    0.0318</td> <td>    0.013</td> <td>    2.543</td> <td> 0.011</td> <td>    0.007</td> <td>    0.056</td>\n",
       "</tr>\n",
       "<tr>\n",
       "  <th>C(ind2_cat)[T.30.0]</th>     <td>    0.0075</td> <td>    0.013</td> <td>    0.565</td> <td> 0.572</td> <td>   -0.019</td> <td>    0.034</td>\n",
       "</tr>\n",
       "<tr>\n",
       "  <th>C(ind2_cat)[T.32.0]</th>     <td>   -0.0296</td> <td>    0.013</td> <td>   -2.277</td> <td> 0.023</td> <td>   -0.055</td> <td>   -0.004</td>\n",
       "</tr>\n",
       "<tr>\n",
       "  <th>C(ind2_cat)[T.33.0]</th>     <td>   -0.0112</td> <td>    0.012</td> <td>   -0.953</td> <td> 0.341</td> <td>   -0.034</td> <td>    0.012</td>\n",
       "</tr>\n",
       "<tr>\n",
       "  <th>C(ind2_cat)[T.35.0]</th>     <td>   -0.0014</td> <td>    0.016</td> <td>   -0.088</td> <td> 0.930</td> <td>   -0.033</td> <td>    0.030</td>\n",
       "</tr>\n",
       "<tr>\n",
       "  <th>C(ind2_cat)[T.40.0]</th>     <td>    0.0075</td> <td>    0.013</td> <td>    0.566</td> <td> 0.571</td> <td>   -0.019</td> <td>    0.034</td>\n",
       "</tr>\n",
       "<tr>\n",
       "  <th>C(ind2_cat)[T.55.0]</th>     <td>   -0.0006</td> <td>    0.012</td> <td>   -0.054</td> <td> 0.957</td> <td>   -0.024</td> <td>    0.022</td>\n",
       "</tr>\n",
       "<tr>\n",
       "  <th>C(ind2_cat)[T.56.0]</th>     <td>    0.0277</td> <td>    0.012</td> <td>    2.389</td> <td> 0.017</td> <td>    0.005</td> <td>    0.050</td>\n",
       "</tr>\n",
       "<tr>\n",
       "  <th>C(ind2_cat)[T.60.0]</th>     <td>    0.0059</td> <td>    0.013</td> <td>    0.450</td> <td> 0.653</td> <td>   -0.020</td> <td>    0.032</td>\n",
       "</tr>\n",
       "<tr>\n",
       "  <th>C(ind2_cat)[T.99.0]</th>     <td>    0.2832</td> <td>    0.023</td> <td>   12.287</td> <td> 0.000</td> <td>    0.238</td> <td>    0.328</td>\n",
       "</tr>\n",
       "<tr>\n",
       "  <th>sales_mil_log</th>           <td>   -0.0130</td> <td>    0.001</td> <td>  -15.657</td> <td> 0.000</td> <td>   -0.015</td> <td>   -0.011</td>\n",
       "</tr>\n",
       "<tr>\n",
       "  <th>sales_mil_log_sq</th>        <td>    0.0037</td> <td>    0.000</td> <td>   24.324</td> <td> 0.000</td> <td>    0.003</td> <td>    0.004</td>\n",
       "</tr>\n",
       "<tr>\n",
       "  <th>profit_loss_year_pl</th>     <td>   -0.0148</td> <td>    0.002</td> <td>   -7.818</td> <td> 0.000</td> <td>   -0.018</td> <td>   -0.011</td>\n",
       "</tr>\n",
       "<tr>\n",
       "  <th>fixed_assets_bs</th>         <td>   -0.0498</td> <td>    0.002</td> <td>  -21.963</td> <td> 0.000</td> <td>   -0.054</td> <td>   -0.045</td>\n",
       "</tr>\n",
       "<tr>\n",
       "  <th>share_eq_bs</th>             <td>   -0.0232</td> <td>    0.002</td> <td>  -13.369</td> <td> 0.000</td> <td>   -0.027</td> <td>   -0.020</td>\n",
       "</tr>\n",
       "<tr>\n",
       "  <th>curr_liab_bs</th>            <td>    0.0149</td> <td>    0.003</td> <td>    4.970</td> <td> 0.000</td> <td>    0.009</td> <td>    0.021</td>\n",
       "</tr>\n",
       "<tr>\n",
       "  <th>curr_liab_bs_flag_high</th>  <td>    0.0244</td> <td>    0.003</td> <td>    8.167</td> <td> 0.000</td> <td>    0.019</td> <td>    0.030</td>\n",
       "</tr>\n",
       "<tr>\n",
       "  <th>curr_liab_bs_flag_error</th> <td>   -0.0032</td> <td>    0.032</td> <td>   -0.103</td> <td> 0.918</td> <td>   -0.065</td> <td>    0.059</td>\n",
       "</tr>\n",
       "<tr>\n",
       "  <th>age</th>                     <td>   -0.0021</td> <td>    0.000</td> <td>  -17.654</td> <td> 0.000</td> <td>   -0.002</td> <td>   -0.002</td>\n",
       "</tr>\n",
       "<tr>\n",
       "  <th>foreign_management</th>      <td>    0.0308</td> <td>    0.002</td> <td>   13.549</td> <td> 0.000</td> <td>    0.026</td> <td>    0.035</td>\n",
       "</tr>\n",
       "</table>\n",
       "<table class=\"simpletable\">\n",
       "<tr>\n",
       "  <th>Omnibus:</th>       <td>71062.710</td> <th>  Durbin-Watson:     </th>  <td>   2.001</td> \n",
       "</tr>\n",
       "<tr>\n",
       "  <th>Prob(Omnibus):</th>  <td> 0.000</td>   <th>  Jarque-Bera (JB):  </th> <td>268615.799</td>\n",
       "</tr>\n",
       "<tr>\n",
       "  <th>Skew:</th>           <td> 2.257</td>   <th>  Prob(JB):          </th>  <td>    0.00</td> \n",
       "</tr>\n",
       "<tr>\n",
       "  <th>Kurtosis:</th>       <td> 7.371</td>   <th>  Cond. No.          </th>  <td>5.78e+03</td> \n",
       "</tr>\n",
       "</table><br/><br/>Notes:<br/>[1] Standard Errors are heteroscedasticity robust (HC1)<br/>[2] The condition number is large, 5.78e+03. This might indicate that there are<br/>strong multicollinearity or other numerical problems."
      ],
      "text/latex": [
       "\\begin{center}\n",
       "\\begin{tabular}{lclc}\n",
       "\\toprule\n",
       "\\textbf{Dep. Variable:}              &     default      & \\textbf{  R-squared:         } &     0.109   \\\\\n",
       "\\textbf{Model:}                      &       OLS        & \\textbf{  Adj. R-squared:    } &     0.109   \\\\\n",
       "\\textbf{Method:}                     &  Least Squares   & \\textbf{  F-statistic:       } &     551.7   \\\\\n",
       "\\textbf{Date:}                       & Sun, 25 Feb 2024 & \\textbf{  Prob (F-statistic):} &     0.00    \\\\\n",
       "\\textbf{Time:}                       &     16:02:59     & \\textbf{  Log-Likelihood:    } &   -25760.   \\\\\n",
       "\\textbf{No. Observations:}           &      163273      & \\textbf{  AIC:               } & 5.157e+04   \\\\\n",
       "\\textbf{Df Residuals:}               &      163249      & \\textbf{  BIC:               } & 5.181e+04   \\\\\n",
       "\\textbf{Df Model:}                   &          23      & \\textbf{                     } &             \\\\\n",
       "\\textbf{Covariance Type:}            &       HC1        & \\textbf{                     } &             \\\\\n",
       "\\bottomrule\n",
       "\\end{tabular}\n",
       "\\begin{tabular}{lcccccc}\n",
       "                                     & \\textbf{coef} & \\textbf{std err} & \\textbf{z} & \\textbf{P$> |$z$|$} & \\textbf{[0.025} & \\textbf{0.975]}  \\\\\n",
       "\\midrule\n",
       "\\textbf{Intercept}                   &       0.0180  &        0.012     &     1.522  &         0.128        &       -0.005    &        0.041     \\\\\n",
       "\\textbf{C(ind2\\_cat)[T.26.0]}        &       0.0036  &        0.012     &     0.306  &         0.760        &       -0.020    &        0.027     \\\\\n",
       "\\textbf{C(ind2\\_cat)[T.27.0]}        &       0.0108  &        0.012     &     0.901  &         0.367        &       -0.013    &        0.034     \\\\\n",
       "\\textbf{C(ind2\\_cat)[T.28.0]}        &       0.0140  &        0.012     &     1.196  &         0.232        &       -0.009    &        0.037     \\\\\n",
       "\\textbf{C(ind2\\_cat)[T.29.0]}        &       0.0318  &        0.013     &     2.543  &         0.011        &        0.007    &        0.056     \\\\\n",
       "\\textbf{C(ind2\\_cat)[T.30.0]}        &       0.0075  &        0.013     &     0.565  &         0.572        &       -0.019    &        0.034     \\\\\n",
       "\\textbf{C(ind2\\_cat)[T.32.0]}        &      -0.0296  &        0.013     &    -2.277  &         0.023        &       -0.055    &       -0.004     \\\\\n",
       "\\textbf{C(ind2\\_cat)[T.33.0]}        &      -0.0112  &        0.012     &    -0.953  &         0.341        &       -0.034    &        0.012     \\\\\n",
       "\\textbf{C(ind2\\_cat)[T.35.0]}        &      -0.0014  &        0.016     &    -0.088  &         0.930        &       -0.033    &        0.030     \\\\\n",
       "\\textbf{C(ind2\\_cat)[T.40.0]}        &       0.0075  &        0.013     &     0.566  &         0.571        &       -0.019    &        0.034     \\\\\n",
       "\\textbf{C(ind2\\_cat)[T.55.0]}        &      -0.0006  &        0.012     &    -0.054  &         0.957        &       -0.024    &        0.022     \\\\\n",
       "\\textbf{C(ind2\\_cat)[T.56.0]}        &       0.0277  &        0.012     &     2.389  &         0.017        &        0.005    &        0.050     \\\\\n",
       "\\textbf{C(ind2\\_cat)[T.60.0]}        &       0.0059  &        0.013     &     0.450  &         0.653        &       -0.020    &        0.032     \\\\\n",
       "\\textbf{C(ind2\\_cat)[T.99.0]}        &       0.2832  &        0.023     &    12.287  &         0.000        &        0.238    &        0.328     \\\\\n",
       "\\textbf{sales\\_mil\\_log}             &      -0.0130  &        0.001     &   -15.657  &         0.000        &       -0.015    &       -0.011     \\\\\n",
       "\\textbf{sales\\_mil\\_log\\_sq}         &       0.0037  &        0.000     &    24.324  &         0.000        &        0.003    &        0.004     \\\\\n",
       "\\textbf{profit\\_loss\\_year\\_pl}      &      -0.0148  &        0.002     &    -7.818  &         0.000        &       -0.018    &       -0.011     \\\\\n",
       "\\textbf{fixed\\_assets\\_bs}           &      -0.0498  &        0.002     &   -21.963  &         0.000        &       -0.054    &       -0.045     \\\\\n",
       "\\textbf{share\\_eq\\_bs}               &      -0.0232  &        0.002     &   -13.369  &         0.000        &       -0.027    &       -0.020     \\\\\n",
       "\\textbf{curr\\_liab\\_bs}              &       0.0149  &        0.003     &     4.970  &         0.000        &        0.009    &        0.021     \\\\\n",
       "\\textbf{curr\\_liab\\_bs\\_flag\\_high}  &       0.0244  &        0.003     &     8.167  &         0.000        &        0.019    &        0.030     \\\\\n",
       "\\textbf{curr\\_liab\\_bs\\_flag\\_error} &      -0.0032  &        0.032     &    -0.103  &         0.918        &       -0.065    &        0.059     \\\\\n",
       "\\textbf{age}                         &      -0.0021  &        0.000     &   -17.654  &         0.000        &       -0.002    &       -0.002     \\\\\n",
       "\\textbf{foreign\\_management}         &       0.0308  &        0.002     &    13.549  &         0.000        &        0.026    &        0.035     \\\\\n",
       "\\bottomrule\n",
       "\\end{tabular}\n",
       "\\begin{tabular}{lclc}\n",
       "\\textbf{Omnibus:}       & 71062.710 & \\textbf{  Durbin-Watson:     } &     2.001   \\\\\n",
       "\\textbf{Prob(Omnibus):} &    0.000  & \\textbf{  Jarque-Bera (JB):  } & 268615.799  \\\\\n",
       "\\textbf{Skew:}          &    2.257  & \\textbf{  Prob(JB):          } &      0.00   \\\\\n",
       "\\textbf{Kurtosis:}      &    7.371  & \\textbf{  Cond. No.          } &  5.78e+03   \\\\\n",
       "\\bottomrule\n",
       "\\end{tabular}\n",
       "%\\caption{OLS Regression Results}\n",
       "\\end{center}\n",
       "\n",
       "Notes: \\newline\n",
       " [1] Standard Errors are heteroscedasticity robust (HC1) \\newline\n",
       " [2] The condition number is large, 5.78e+03. This might indicate that there are \\newline\n",
       " strong multicollinearity or other numerical problems."
      ],
      "text/plain": [
       "<class 'statsmodels.iolib.summary.Summary'>\n",
       "\"\"\"\n",
       "                            OLS Regression Results                            \n",
       "==============================================================================\n",
       "Dep. Variable:                default   R-squared:                       0.109\n",
       "Model:                            OLS   Adj. R-squared:                  0.109\n",
       "Method:                 Least Squares   F-statistic:                     551.7\n",
       "Date:                Sun, 25 Feb 2024   Prob (F-statistic):               0.00\n",
       "Time:                        16:02:59   Log-Likelihood:                -25760.\n",
       "No. Observations:              163273   AIC:                         5.157e+04\n",
       "Df Residuals:                  163249   BIC:                         5.181e+04\n",
       "Df Model:                          23                                         \n",
       "Covariance Type:                  HC1                                         \n",
       "===========================================================================================\n",
       "                              coef    std err          z      P>|z|      [0.025      0.975]\n",
       "-------------------------------------------------------------------------------------------\n",
       "Intercept                   0.0180      0.012      1.522      0.128      -0.005       0.041\n",
       "C(ind2_cat)[T.26.0]         0.0036      0.012      0.306      0.760      -0.020       0.027\n",
       "C(ind2_cat)[T.27.0]         0.0108      0.012      0.901      0.367      -0.013       0.034\n",
       "C(ind2_cat)[T.28.0]         0.0140      0.012      1.196      0.232      -0.009       0.037\n",
       "C(ind2_cat)[T.29.0]         0.0318      0.013      2.543      0.011       0.007       0.056\n",
       "C(ind2_cat)[T.30.0]         0.0075      0.013      0.565      0.572      -0.019       0.034\n",
       "C(ind2_cat)[T.32.0]        -0.0296      0.013     -2.277      0.023      -0.055      -0.004\n",
       "C(ind2_cat)[T.33.0]        -0.0112      0.012     -0.953      0.341      -0.034       0.012\n",
       "C(ind2_cat)[T.35.0]        -0.0014      0.016     -0.088      0.930      -0.033       0.030\n",
       "C(ind2_cat)[T.40.0]         0.0075      0.013      0.566      0.571      -0.019       0.034\n",
       "C(ind2_cat)[T.55.0]        -0.0006      0.012     -0.054      0.957      -0.024       0.022\n",
       "C(ind2_cat)[T.56.0]         0.0277      0.012      2.389      0.017       0.005       0.050\n",
       "C(ind2_cat)[T.60.0]         0.0059      0.013      0.450      0.653      -0.020       0.032\n",
       "C(ind2_cat)[T.99.0]         0.2832      0.023     12.287      0.000       0.238       0.328\n",
       "sales_mil_log              -0.0130      0.001    -15.657      0.000      -0.015      -0.011\n",
       "sales_mil_log_sq            0.0037      0.000     24.324      0.000       0.003       0.004\n",
       "profit_loss_year_pl        -0.0148      0.002     -7.818      0.000      -0.018      -0.011\n",
       "fixed_assets_bs            -0.0498      0.002    -21.963      0.000      -0.054      -0.045\n",
       "share_eq_bs                -0.0232      0.002    -13.369      0.000      -0.027      -0.020\n",
       "curr_liab_bs                0.0149      0.003      4.970      0.000       0.009       0.021\n",
       "curr_liab_bs_flag_high      0.0244      0.003      8.167      0.000       0.019       0.030\n",
       "curr_liab_bs_flag_error    -0.0032      0.032     -0.103      0.918      -0.065       0.059\n",
       "age                        -0.0021      0.000    -17.654      0.000      -0.002      -0.002\n",
       "foreign_management          0.0308      0.002     13.549      0.000       0.026       0.035\n",
       "==============================================================================\n",
       "Omnibus:                    71062.710   Durbin-Watson:                   2.001\n",
       "Prob(Omnibus):                  0.000   Jarque-Bera (JB):           268615.799\n",
       "Skew:                           2.257   Prob(JB):                         0.00\n",
       "Kurtosis:                       7.371   Cond. No.                     5.78e+03\n",
       "==============================================================================\n",
       "\n",
       "Notes:\n",
       "[1] Standard Errors are heteroscedasticity robust (HC1)\n",
       "[2] The condition number is large, 5.78e+03. This might indicate that there are\n",
       "strong multicollinearity or other numerical problems.\n",
       "\"\"\""
      ]
     },
     "execution_count": 53,
     "metadata": {},
     "output_type": "execute_result"
    }
   ],
   "source": [
    "ols_modelx2 = smf.ols(\"default~\" + \"+\".join(M2), data_train).fit(cov_type=\"HC1\")\n",
    "ols_modelx2.summary()"
   ]
  },
  {
   "cell_type": "code",
   "execution_count": 54,
   "id": "93505aa0-dde0-4482-b636-7478bfabfc2b",
   "metadata": {
    "tags": []
   },
   "outputs": [
    {
     "name": "stdout",
     "output_type": "stream",
     "text": [
      "Optimization terminated successfully.\n",
      "         Current function value: 0.275101\n",
      "         Iterations 13\n"
     ]
    },
    {
     "data": {
      "text/html": [
       "<table class=\"simpletable\">\n",
       "<caption>Logit Regression Results</caption>\n",
       "<tr>\n",
       "  <th>Dep. Variable:</th>        <td>default</td>     <th>  No. Observations:  </th>  <td>163273</td> \n",
       "</tr>\n",
       "<tr>\n",
       "  <th>Model:</th>                 <td>Logit</td>      <th>  Df Residuals:      </th>  <td>163249</td> \n",
       "</tr>\n",
       "<tr>\n",
       "  <th>Method:</th>                 <td>MLE</td>       <th>  Df Model:          </th>  <td>    23</td> \n",
       "</tr>\n",
       "<tr>\n",
       "  <th>Date:</th>            <td>Sun, 25 Feb 2024</td> <th>  Pseudo R-squ.:     </th>  <td>0.1547</td> \n",
       "</tr>\n",
       "<tr>\n",
       "  <th>Time:</th>                <td>16:03:07</td>     <th>  Log-Likelihood:    </th> <td> -44917.</td>\n",
       "</tr>\n",
       "<tr>\n",
       "  <th>converged:</th>             <td>True</td>       <th>  LL-Null:           </th> <td> -53136.</td>\n",
       "</tr>\n",
       "<tr>\n",
       "  <th>Covariance Type:</th>     <td>nonrobust</td>    <th>  LLR p-value:       </th>  <td> 0.000</td> \n",
       "</tr>\n",
       "</table>\n",
       "<table class=\"simpletable\">\n",
       "<tr>\n",
       "             <td></td>                <th>coef</th>     <th>std err</th>      <th>z</th>      <th>P>|z|</th>  <th>[0.025</th>    <th>0.975]</th>  \n",
       "</tr>\n",
       "<tr>\n",
       "  <th>Intercept</th>               <td>   -4.0680</td> <td>    0.225</td> <td>  -18.114</td> <td> 0.000</td> <td>   -4.508</td> <td>   -3.628</td>\n",
       "</tr>\n",
       "<tr>\n",
       "  <th>C(ind2_cat)[T.26.0]</th>     <td>    0.1233</td> <td>    0.226</td> <td>    0.546</td> <td> 0.585</td> <td>   -0.320</td> <td>    0.566</td>\n",
       "</tr>\n",
       "<tr>\n",
       "  <th>C(ind2_cat)[T.27.0]</th>     <td>    0.1708</td> <td>    0.230</td> <td>    0.743</td> <td> 0.457</td> <td>   -0.280</td> <td>    0.621</td>\n",
       "</tr>\n",
       "<tr>\n",
       "  <th>C(ind2_cat)[T.28.0]</th>     <td>    0.2302</td> <td>    0.224</td> <td>    1.027</td> <td> 0.305</td> <td>   -0.209</td> <td>    0.670</td>\n",
       "</tr>\n",
       "<tr>\n",
       "  <th>C(ind2_cat)[T.29.0]</th>     <td>    0.5965</td> <td>    0.238</td> <td>    2.506</td> <td> 0.012</td> <td>    0.130</td> <td>    1.063</td>\n",
       "</tr>\n",
       "<tr>\n",
       "  <th>C(ind2_cat)[T.30.0]</th>     <td>    0.1582</td> <td>    0.246</td> <td>    0.644</td> <td> 0.520</td> <td>   -0.324</td> <td>    0.640</td>\n",
       "</tr>\n",
       "<tr>\n",
       "  <th>C(ind2_cat)[T.32.0]</th>     <td>   -0.4681</td> <td>    0.271</td> <td>   -1.730</td> <td> 0.084</td> <td>   -0.998</td> <td>    0.062</td>\n",
       "</tr>\n",
       "<tr>\n",
       "  <th>C(ind2_cat)[T.33.0]</th>     <td>   -0.1135</td> <td>    0.225</td> <td>   -0.505</td> <td> 0.614</td> <td>   -0.554</td> <td>    0.327</td>\n",
       "</tr>\n",
       "<tr>\n",
       "  <th>C(ind2_cat)[T.35.0]</th>     <td>  -31.5968</td> <td>  4.4e+07</td> <td>-7.18e-07</td> <td> 1.000</td> <td>-8.63e+07</td> <td> 8.63e+07</td>\n",
       "</tr>\n",
       "<tr>\n",
       "  <th>C(ind2_cat)[T.40.0]</th>     <td>    0.2236</td> <td>    0.241</td> <td>    0.927</td> <td> 0.354</td> <td>   -0.249</td> <td>    0.697</td>\n",
       "</tr>\n",
       "<tr>\n",
       "  <th>C(ind2_cat)[T.55.0]</th>     <td>    0.0877</td> <td>    0.223</td> <td>    0.393</td> <td> 0.695</td> <td>   -0.350</td> <td>    0.526</td>\n",
       "</tr>\n",
       "<tr>\n",
       "  <th>C(ind2_cat)[T.56.0]</th>     <td>    0.4709</td> <td>    0.222</td> <td>    2.124</td> <td> 0.034</td> <td>    0.036</td> <td>    0.905</td>\n",
       "</tr>\n",
       "<tr>\n",
       "  <th>C(ind2_cat)[T.60.0]</th>     <td>    0.2450</td> <td>    0.236</td> <td>    1.040</td> <td> 0.298</td> <td>   -0.217</td> <td>    0.707</td>\n",
       "</tr>\n",
       "<tr>\n",
       "  <th>C(ind2_cat)[T.99.0]</th>     <td>    2.2668</td> <td>    0.244</td> <td>    9.303</td> <td> 0.000</td> <td>    1.789</td> <td>    2.744</td>\n",
       "</tr>\n",
       "<tr>\n",
       "  <th>sales_mil_log</th>           <td>   -0.5358</td> <td>    0.013</td> <td>  -41.778</td> <td> 0.000</td> <td>   -0.561</td> <td>   -0.511</td>\n",
       "</tr>\n",
       "<tr>\n",
       "  <th>sales_mil_log_sq</th>        <td>   -0.0146</td> <td>    0.001</td> <td>  -10.811</td> <td> 0.000</td> <td>   -0.017</td> <td>   -0.012</td>\n",
       "</tr>\n",
       "<tr>\n",
       "  <th>profit_loss_year_pl</th>     <td>   -0.1411</td> <td>    0.021</td> <td>   -6.641</td> <td> 0.000</td> <td>   -0.183</td> <td>   -0.099</td>\n",
       "</tr>\n",
       "<tr>\n",
       "  <th>fixed_assets_bs</th>         <td>   -0.6330</td> <td>    0.028</td> <td>  -22.741</td> <td> 0.000</td> <td>   -0.688</td> <td>   -0.578</td>\n",
       "</tr>\n",
       "<tr>\n",
       "  <th>share_eq_bs</th>             <td>   -0.2616</td> <td>    0.020</td> <td>  -13.238</td> <td> 0.000</td> <td>   -0.300</td> <td>   -0.223</td>\n",
       "</tr>\n",
       "<tr>\n",
       "  <th>curr_liab_bs</th>            <td>    0.2630</td> <td>    0.039</td> <td>    6.661</td> <td> 0.000</td> <td>    0.186</td> <td>    0.340</td>\n",
       "</tr>\n",
       "<tr>\n",
       "  <th>curr_liab_bs_flag_high</th>  <td>    0.1254</td> <td>    0.034</td> <td>    3.738</td> <td> 0.000</td> <td>    0.060</td> <td>    0.191</td>\n",
       "</tr>\n",
       "<tr>\n",
       "  <th>curr_liab_bs_flag_error</th> <td>    0.0967</td> <td>    0.354</td> <td>    0.273</td> <td> 0.785</td> <td>   -0.597</td> <td>    0.790</td>\n",
       "</tr>\n",
       "<tr>\n",
       "  <th>age</th>                     <td>   -0.0285</td> <td>    0.002</td> <td>  -17.527</td> <td> 0.000</td> <td>   -0.032</td> <td>   -0.025</td>\n",
       "</tr>\n",
       "<tr>\n",
       "  <th>foreign_management</th>      <td>    0.4102</td> <td>    0.028</td> <td>   14.684</td> <td> 0.000</td> <td>    0.355</td> <td>    0.465</td>\n",
       "</tr>\n",
       "</table>"
      ],
      "text/latex": [
       "\\begin{center}\n",
       "\\begin{tabular}{lclc}\n",
       "\\toprule\n",
       "\\textbf{Dep. Variable:}              &     default      & \\textbf{  No. Observations:  } &   163273    \\\\\n",
       "\\textbf{Model:}                      &      Logit       & \\textbf{  Df Residuals:      } &   163249    \\\\\n",
       "\\textbf{Method:}                     &       MLE        & \\textbf{  Df Model:          } &       23    \\\\\n",
       "\\textbf{Date:}                       & Sun, 25 Feb 2024 & \\textbf{  Pseudo R-squ.:     } &   0.1547    \\\\\n",
       "\\textbf{Time:}                       &     16:03:07     & \\textbf{  Log-Likelihood:    } &   -44917.   \\\\\n",
       "\\textbf{converged:}                  &       True       & \\textbf{  LL-Null:           } &   -53136.   \\\\\n",
       "\\textbf{Covariance Type:}            &    nonrobust     & \\textbf{  LLR p-value:       } &    0.000    \\\\\n",
       "\\bottomrule\n",
       "\\end{tabular}\n",
       "\\begin{tabular}{lcccccc}\n",
       "                                     & \\textbf{coef} & \\textbf{std err} & \\textbf{z} & \\textbf{P$> |$z$|$} & \\textbf{[0.025} & \\textbf{0.975]}  \\\\\n",
       "\\midrule\n",
       "\\textbf{Intercept}                   &      -4.0680  &        0.225     &   -18.114  &         0.000        &       -4.508    &       -3.628     \\\\\n",
       "\\textbf{C(ind2\\_cat)[T.26.0]}        &       0.1233  &        0.226     &     0.546  &         0.585        &       -0.320    &        0.566     \\\\\n",
       "\\textbf{C(ind2\\_cat)[T.27.0]}        &       0.1708  &        0.230     &     0.743  &         0.457        &       -0.280    &        0.621     \\\\\n",
       "\\textbf{C(ind2\\_cat)[T.28.0]}        &       0.2302  &        0.224     &     1.027  &         0.305        &       -0.209    &        0.670     \\\\\n",
       "\\textbf{C(ind2\\_cat)[T.29.0]}        &       0.5965  &        0.238     &     2.506  &         0.012        &        0.130    &        1.063     \\\\\n",
       "\\textbf{C(ind2\\_cat)[T.30.0]}        &       0.1582  &        0.246     &     0.644  &         0.520        &       -0.324    &        0.640     \\\\\n",
       "\\textbf{C(ind2\\_cat)[T.32.0]}        &      -0.4681  &        0.271     &    -1.730  &         0.084        &       -0.998    &        0.062     \\\\\n",
       "\\textbf{C(ind2\\_cat)[T.33.0]}        &      -0.1135  &        0.225     &    -0.505  &         0.614        &       -0.554    &        0.327     \\\\\n",
       "\\textbf{C(ind2\\_cat)[T.35.0]}        &     -31.5968  &      4.4e+07     & -7.18e-07  &         1.000        &    -8.63e+07    &     8.63e+07     \\\\\n",
       "\\textbf{C(ind2\\_cat)[T.40.0]}        &       0.2236  &        0.241     &     0.927  &         0.354        &       -0.249    &        0.697     \\\\\n",
       "\\textbf{C(ind2\\_cat)[T.55.0]}        &       0.0877  &        0.223     &     0.393  &         0.695        &       -0.350    &        0.526     \\\\\n",
       "\\textbf{C(ind2\\_cat)[T.56.0]}        &       0.4709  &        0.222     &     2.124  &         0.034        &        0.036    &        0.905     \\\\\n",
       "\\textbf{C(ind2\\_cat)[T.60.0]}        &       0.2450  &        0.236     &     1.040  &         0.298        &       -0.217    &        0.707     \\\\\n",
       "\\textbf{C(ind2\\_cat)[T.99.0]}        &       2.2668  &        0.244     &     9.303  &         0.000        &        1.789    &        2.744     \\\\\n",
       "\\textbf{sales\\_mil\\_log}             &      -0.5358  &        0.013     &   -41.778  &         0.000        &       -0.561    &       -0.511     \\\\\n",
       "\\textbf{sales\\_mil\\_log\\_sq}         &      -0.0146  &        0.001     &   -10.811  &         0.000        &       -0.017    &       -0.012     \\\\\n",
       "\\textbf{profit\\_loss\\_year\\_pl}      &      -0.1411  &        0.021     &    -6.641  &         0.000        &       -0.183    &       -0.099     \\\\\n",
       "\\textbf{fixed\\_assets\\_bs}           &      -0.6330  &        0.028     &   -22.741  &         0.000        &       -0.688    &       -0.578     \\\\\n",
       "\\textbf{share\\_eq\\_bs}               &      -0.2616  &        0.020     &   -13.238  &         0.000        &       -0.300    &       -0.223     \\\\\n",
       "\\textbf{curr\\_liab\\_bs}              &       0.2630  &        0.039     &     6.661  &         0.000        &        0.186    &        0.340     \\\\\n",
       "\\textbf{curr\\_liab\\_bs\\_flag\\_high}  &       0.1254  &        0.034     &     3.738  &         0.000        &        0.060    &        0.191     \\\\\n",
       "\\textbf{curr\\_liab\\_bs\\_flag\\_error} &       0.0967  &        0.354     &     0.273  &         0.785        &       -0.597    &        0.790     \\\\\n",
       "\\textbf{age}                         &      -0.0285  &        0.002     &   -17.527  &         0.000        &       -0.032    &       -0.025     \\\\\n",
       "\\textbf{foreign\\_management}         &       0.4102  &        0.028     &    14.684  &         0.000        &        0.355    &        0.465     \\\\\n",
       "\\bottomrule\n",
       "\\end{tabular}\n",
       "%\\caption{Logit Regression Results}\n",
       "\\end{center}"
      ],
      "text/plain": [
       "<class 'statsmodels.iolib.summary.Summary'>\n",
       "\"\"\"\n",
       "                           Logit Regression Results                           \n",
       "==============================================================================\n",
       "Dep. Variable:                default   No. Observations:               163273\n",
       "Model:                          Logit   Df Residuals:                   163249\n",
       "Method:                           MLE   Df Model:                           23\n",
       "Date:                Sun, 25 Feb 2024   Pseudo R-squ.:                  0.1547\n",
       "Time:                        16:03:07   Log-Likelihood:                -44917.\n",
       "converged:                       True   LL-Null:                       -53136.\n",
       "Covariance Type:            nonrobust   LLR p-value:                     0.000\n",
       "===========================================================================================\n",
       "                              coef    std err          z      P>|z|      [0.025      0.975]\n",
       "-------------------------------------------------------------------------------------------\n",
       "Intercept                  -4.0680      0.225    -18.114      0.000      -4.508      -3.628\n",
       "C(ind2_cat)[T.26.0]         0.1233      0.226      0.546      0.585      -0.320       0.566\n",
       "C(ind2_cat)[T.27.0]         0.1708      0.230      0.743      0.457      -0.280       0.621\n",
       "C(ind2_cat)[T.28.0]         0.2302      0.224      1.027      0.305      -0.209       0.670\n",
       "C(ind2_cat)[T.29.0]         0.5965      0.238      2.506      0.012       0.130       1.063\n",
       "C(ind2_cat)[T.30.0]         0.1582      0.246      0.644      0.520      -0.324       0.640\n",
       "C(ind2_cat)[T.32.0]        -0.4681      0.271     -1.730      0.084      -0.998       0.062\n",
       "C(ind2_cat)[T.33.0]        -0.1135      0.225     -0.505      0.614      -0.554       0.327\n",
       "C(ind2_cat)[T.35.0]       -31.5968    4.4e+07  -7.18e-07      1.000   -8.63e+07    8.63e+07\n",
       "C(ind2_cat)[T.40.0]         0.2236      0.241      0.927      0.354      -0.249       0.697\n",
       "C(ind2_cat)[T.55.0]         0.0877      0.223      0.393      0.695      -0.350       0.526\n",
       "C(ind2_cat)[T.56.0]         0.4709      0.222      2.124      0.034       0.036       0.905\n",
       "C(ind2_cat)[T.60.0]         0.2450      0.236      1.040      0.298      -0.217       0.707\n",
       "C(ind2_cat)[T.99.0]         2.2668      0.244      9.303      0.000       1.789       2.744\n",
       "sales_mil_log              -0.5358      0.013    -41.778      0.000      -0.561      -0.511\n",
       "sales_mil_log_sq           -0.0146      0.001    -10.811      0.000      -0.017      -0.012\n",
       "profit_loss_year_pl        -0.1411      0.021     -6.641      0.000      -0.183      -0.099\n",
       "fixed_assets_bs            -0.6330      0.028    -22.741      0.000      -0.688      -0.578\n",
       "share_eq_bs                -0.2616      0.020    -13.238      0.000      -0.300      -0.223\n",
       "curr_liab_bs                0.2630      0.039      6.661      0.000       0.186       0.340\n",
       "curr_liab_bs_flag_high      0.1254      0.034      3.738      0.000       0.060       0.191\n",
       "curr_liab_bs_flag_error     0.0967      0.354      0.273      0.785      -0.597       0.790\n",
       "age                        -0.0285      0.002    -17.527      0.000      -0.032      -0.025\n",
       "foreign_management          0.4102      0.028     14.684      0.000       0.355       0.465\n",
       "===========================================================================================\n",
       "\"\"\""
      ]
     },
     "execution_count": 54,
     "metadata": {},
     "output_type": "execute_result"
    }
   ],
   "source": [
    "logit_modelx2 = smf.logit(\"default~\" + \"+\".join(M2), data_train).fit()\n",
    "\n",
    "logit_modelx2.summary()"
   ]
  },
  {
   "cell_type": "markdown",
   "id": "7818ef55-5ab3-427a-90ef-be83d1b6f01e",
   "metadata": {},
   "source": [
    "## 7.2 Logit and LASSO with CV"
   ]
  },
  {
   "cell_type": "markdown",
   "id": "ae634768-6874-422c-907a-eced05e9cc1d",
   "metadata": {},
   "source": [
    "### 7.2.1 Cross validate logit models"
   ]
  },
  {
   "cell_type": "code",
   "execution_count": 55,
   "id": "1623f26a-2d5a-4c9e-a5f5-479c8af7e0d9",
   "metadata": {
    "tags": []
   },
   "outputs": [],
   "source": [
    "k = KFold(n_splits=5, shuffle=True, random_state=42)"
   ]
  },
  {
   "cell_type": "code",
   "execution_count": 56,
   "id": "c9fa2df1-9a7e-4e42-a030-4199a24d3ac8",
   "metadata": {
    "tags": []
   },
   "outputs": [],
   "source": [
    "logit_model_vars = [M1, M2, M3, M4, M5]"
   ]
  },
  {
   "cell_type": "code",
   "execution_count": 58,
   "id": "659ede77-3f31-41c1-b3e2-e0774dad1c67",
   "metadata": {
    "tags": []
   },
   "outputs": [],
   "source": [
    "C_value_logit = [1e20]"
   ]
  },
  {
   "cell_type": "code",
   "execution_count": 59,
   "id": "31ab1087-1601-4610-8e26-4e8294bf314c",
   "metadata": {
    "tags": []
   },
   "outputs": [],
   "source": [
    "logit_models = dict()\n",
    "CV_RMSE_folds = dict()\n",
    "\n",
    "for i, model_vars in enumerate(logit_model_vars):\n",
    "\n",
    "    model_equation = \"default~\" + \"+\".join(model_vars)\n",
    "    y_train, X_train = patsy.dmatrices(model_equation, data_train)\n",
    "\n",
    "    LRCV_brier = LogisticRegressionCV(\n",
    "        Cs=C_value_logit,\n",
    "        cv=k,\n",
    "        refit=True,\n",
    "        scoring=\"neg_brier_score\",\n",
    "        solver=\"newton-cg\",\n",
    "        tol=1e-7,\n",
    "        random_state=42,\n",
    "    )\n",
    "\n",
    "    logit_models[\"M\" + str(i + 1)] = LRCV_brier.fit(X_train, y_train)\n",
    "\n",
    "    # Calculate RMSE on test for each fold\n",
    "    CV_RMSE_folds[\"M\" + str(i + 1)] = np.sqrt(\n",
    "        -1 * logit_models[\"M\" + str(i + 1)].scores_[1].ravel()\n",
    "    )"
   ]
  },
  {
   "cell_type": "code",
   "execution_count": 60,
   "id": "e1cacc21-1f95-428a-936f-f895bafc88fc",
   "metadata": {
    "tags": []
   },
   "outputs": [
    {
     "data": {
      "text/html": [
       "<div>\n",
       "<style scoped>\n",
       "    .dataframe tbody tr th:only-of-type {\n",
       "        vertical-align: middle;\n",
       "    }\n",
       "\n",
       "    .dataframe tbody tr th {\n",
       "        vertical-align: top;\n",
       "    }\n",
       "\n",
       "    .dataframe thead th {\n",
       "        text-align: right;\n",
       "    }\n",
       "</style>\n",
       "<table border=\"1\" class=\"dataframe\">\n",
       "  <thead>\n",
       "    <tr style=\"text-align: right;\">\n",
       "      <th></th>\n",
       "      <th>M1</th>\n",
       "      <th>M2</th>\n",
       "      <th>M3</th>\n",
       "      <th>M4</th>\n",
       "      <th>M5</th>\n",
       "    </tr>\n",
       "  </thead>\n",
       "  <tbody>\n",
       "    <tr>\n",
       "      <th>0</th>\n",
       "      <td>0.287355</td>\n",
       "      <td>0.282196</td>\n",
       "      <td>0.495716</td>\n",
       "      <td>0.495716</td>\n",
       "      <td>0.495716</td>\n",
       "    </tr>\n",
       "    <tr>\n",
       "      <th>1</th>\n",
       "      <td>0.285187</td>\n",
       "      <td>0.282932</td>\n",
       "      <td>0.311715</td>\n",
       "      <td>0.300516</td>\n",
       "      <td>0.296657</td>\n",
       "    </tr>\n",
       "    <tr>\n",
       "      <th>2</th>\n",
       "      <td>0.290232</td>\n",
       "      <td>0.279868</td>\n",
       "      <td>0.318714</td>\n",
       "      <td>0.305222</td>\n",
       "      <td>0.299055</td>\n",
       "    </tr>\n",
       "    <tr>\n",
       "      <th>3</th>\n",
       "      <td>0.289132</td>\n",
       "      <td>0.279744</td>\n",
       "      <td>0.317552</td>\n",
       "      <td>0.302281</td>\n",
       "      <td>0.302676</td>\n",
       "    </tr>\n",
       "    <tr>\n",
       "      <th>4</th>\n",
       "      <td>0.286416</td>\n",
       "      <td>0.284006</td>\n",
       "      <td>0.320814</td>\n",
       "      <td>0.305660</td>\n",
       "      <td>0.302896</td>\n",
       "    </tr>\n",
       "  </tbody>\n",
       "</table>\n",
       "</div>"
      ],
      "text/plain": [
       "         M1        M2        M3        M4        M5\n",
       "0  0.287355  0.282196  0.495716  0.495716  0.495716\n",
       "1  0.285187  0.282932  0.311715  0.300516  0.296657\n",
       "2  0.290232  0.279868  0.318714  0.305222  0.299055\n",
       "3  0.289132  0.279744  0.317552  0.302281  0.302676\n",
       "4  0.286416  0.284006  0.320814  0.305660  0.302896"
      ]
     },
     "execution_count": 60,
     "metadata": {},
     "output_type": "execute_result"
    }
   ],
   "source": [
    "pd.DataFrame(CV_RMSE_folds)"
   ]
  },
  {
   "cell_type": "markdown",
   "id": "68f7c413-b5c6-48e3-9a67-f87dca4c1ecf",
   "metadata": {},
   "source": [
    "### 7.2.2 Logit and LASSO"
   ]
  },
  {
   "cell_type": "code",
   "execution_count": 61,
   "id": "943f1390-21a3-4c0b-970f-976cb8fb4f8b",
   "metadata": {
    "tags": []
   },
   "outputs": [],
   "source": [
    "model_equation = \"default~\" + \"+\".join(logit_lasso_vars)\n",
    "y_train, X_train = patsy.dmatrices(model_equation, data_train)"
   ]
  },
  {
   "cell_type": "code",
   "execution_count": 62,
   "id": "03e9f61e-7120-4170-87a2-0a8d31875fd3",
   "metadata": {
    "tags": []
   },
   "outputs": [],
   "source": [
    "normalized_logitvars = pd.DataFrame(\n",
    "    StandardScaler().fit_transform(X_train),\n",
    "    columns=X_train.design_info.column_names,\n",
    ")"
   ]
  },
  {
   "cell_type": "code",
   "execution_count": 63,
   "id": "83be203b-9743-40c6-9adb-f320e7aef403",
   "metadata": {
    "tags": []
   },
   "outputs": [],
   "source": [
    "lambdas = list(10 ** np.arange(-1, -4.01, -1 / 3))\n",
    "n_obs = normalized_logitvars.shape[0] * 4 / 5\n",
    "C_values = [\n",
    "    1 / (l * n_obs) for l in lambdas\n",
    "]  # Cs are the inverse of regularization strength"
   ]
  },
  {
   "cell_type": "code",
   "execution_count": 64,
   "id": "449530ae-9851-435b-86b4-ab5b02b634d6",
   "metadata": {
    "tags": []
   },
   "outputs": [],
   "source": [
    "logLasso_brier = LogisticRegressionCV(\n",
    "    Cs=C_values,\n",
    "    penalty=\"l1\",\n",
    "    cv=k,\n",
    "    refit=True,\n",
    "    scoring=\"neg_brier_score\",\n",
    "    solver=\"liblinear\",\n",
    "    random_state=42,\n",
    ")\n",
    "\n",
    "logit_models[\"LASSO\"] = logLasso_brier.fit(normalized_logitvars, y_train)"
   ]
  },
  {
   "cell_type": "code",
   "execution_count": 65,
   "id": "2a70a5db-d7f7-478b-a180-98efdf62b065",
   "metadata": {
    "tags": []
   },
   "outputs": [
    {
     "data": {
      "text/html": [
       "<div>\n",
       "<style scoped>\n",
       "    .dataframe tbody tr th:only-of-type {\n",
       "        vertical-align: middle;\n",
       "    }\n",
       "\n",
       "    .dataframe tbody tr th {\n",
       "        vertical-align: top;\n",
       "    }\n",
       "\n",
       "    .dataframe thead th {\n",
       "        text-align: right;\n",
       "    }\n",
       "</style>\n",
       "<table border=\"1\" class=\"dataframe\">\n",
       "  <thead>\n",
       "    <tr style=\"text-align: right;\">\n",
       "      <th></th>\n",
       "      <th>lambdas</th>\n",
       "      <th>C_values</th>\n",
       "      <th>mean_cv_score</th>\n",
       "    </tr>\n",
       "  </thead>\n",
       "  <tbody>\n",
       "    <tr>\n",
       "      <th>0</th>\n",
       "      <td>0.100000</td>\n",
       "      <td>0.000088</td>\n",
       "      <td>0.330669</td>\n",
       "    </tr>\n",
       "    <tr>\n",
       "      <th>1</th>\n",
       "      <td>0.046416</td>\n",
       "      <td>0.000190</td>\n",
       "      <td>0.309891</td>\n",
       "    </tr>\n",
       "    <tr>\n",
       "      <th>2</th>\n",
       "      <td>0.021544</td>\n",
       "      <td>0.000409</td>\n",
       "      <td>0.298811</td>\n",
       "    </tr>\n",
       "    <tr>\n",
       "      <th>3</th>\n",
       "      <td>0.010000</td>\n",
       "      <td>0.000880</td>\n",
       "      <td>0.294489</td>\n",
       "    </tr>\n",
       "    <tr>\n",
       "      <th>4</th>\n",
       "      <td>0.004642</td>\n",
       "      <td>0.001897</td>\n",
       "      <td>0.292768</td>\n",
       "    </tr>\n",
       "    <tr>\n",
       "      <th>5</th>\n",
       "      <td>0.002154</td>\n",
       "      <td>0.004086</td>\n",
       "      <td>0.291631</td>\n",
       "    </tr>\n",
       "    <tr>\n",
       "      <th>6</th>\n",
       "      <td>0.001000</td>\n",
       "      <td>0.008803</td>\n",
       "      <td>0.291014</td>\n",
       "    </tr>\n",
       "    <tr>\n",
       "      <th>7</th>\n",
       "      <td>0.000464</td>\n",
       "      <td>0.018965</td>\n",
       "      <td>0.290839</td>\n",
       "    </tr>\n",
       "    <tr>\n",
       "      <th>8</th>\n",
       "      <td>0.000215</td>\n",
       "      <td>0.040859</td>\n",
       "      <td>0.290800</td>\n",
       "    </tr>\n",
       "    <tr>\n",
       "      <th>9</th>\n",
       "      <td>0.000100</td>\n",
       "      <td>0.088028</td>\n",
       "      <td>0.290786</td>\n",
       "    </tr>\n",
       "  </tbody>\n",
       "</table>\n",
       "</div>"
      ],
      "text/plain": [
       "    lambdas  C_values  mean_cv_score\n",
       "0  0.100000  0.000088       0.330669\n",
       "1  0.046416  0.000190       0.309891\n",
       "2  0.021544  0.000409       0.298811\n",
       "3  0.010000  0.000880       0.294489\n",
       "4  0.004642  0.001897       0.292768\n",
       "5  0.002154  0.004086       0.291631\n",
       "6  0.001000  0.008803       0.291014\n",
       "7  0.000464  0.018965       0.290839\n",
       "8  0.000215  0.040859       0.290800\n",
       "9  0.000100  0.088028       0.290786"
      ]
     },
     "execution_count": 65,
     "metadata": {},
     "output_type": "execute_result"
    }
   ],
   "source": [
    "cv_summary_lasso = cv_summary(lambdas, C_values, logit_models[\"LASSO\"])\n",
    "cv_summary_lasso[\"mean_cv_score\"] = np.sqrt(cv_summary_lasso[\"mean_cv_score\"] * -1)\n",
    "cv_summary_lasso"
   ]
  },
  {
   "cell_type": "code",
   "execution_count": 66,
   "id": "471696c5-b8db-43eb-8615-96ce306c870d",
   "metadata": {
    "tags": []
   },
   "outputs": [],
   "source": [
    "best_lambda_i = cv_summary_lasso[\"mean_cv_score\"].idxmin()"
   ]
  },
  {
   "cell_type": "code",
   "execution_count": 67,
   "id": "7b8665e6-fa23-414d-92b0-e43fb1ba0342",
   "metadata": {
    "tags": []
   },
   "outputs": [],
   "source": [
    "CV_RMSE_folds[\"LASSO\"] = np.sqrt(\n",
    "    -1 * logit_models[\"LASSO\"].scores_[1][:, best_lambda_i]\n",
    ")"
   ]
  },
  {
   "cell_type": "code",
   "execution_count": null,
   "id": "87571039-f5f1-4449-82ed-ee25f20fca8d",
   "metadata": {},
   "outputs": [],
   "source": []
  }
 ],
 "metadata": {
  "kernelspec": {
   "display_name": "Python 3 (ipykernel)",
   "language": "python",
   "name": "python3"
  },
  "language_info": {
   "codemirror_mode": {
    "name": "ipython",
    "version": 3
   },
   "file_extension": ".py",
   "mimetype": "text/x-python",
   "name": "python",
   "nbconvert_exporter": "python",
   "pygments_lexer": "ipython3",
   "version": "3.11.4"
  }
 },
 "nbformat": 4,
 "nbformat_minor": 5
}
