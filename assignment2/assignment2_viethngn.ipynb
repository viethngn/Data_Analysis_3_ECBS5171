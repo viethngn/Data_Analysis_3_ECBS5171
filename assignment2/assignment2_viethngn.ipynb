{
 "cells": [
  {
   "cell_type": "code",
   "execution_count": 1,
   "id": "initial_id",
   "metadata": {
    "collapsed": true,
    "ExecuteTime": {
     "end_time": "2024-02-10T20:40:28.481046Z",
     "start_time": "2024-02-10T20:40:28.138960Z"
    }
   },
   "outputs": [],
   "source": [
    "%%capture\n",
    "import warnings\n",
    "warnings.filterwarnings('ignore')\n",
    "\n",
    "import pandas as pd\n",
    "import numpy as np\n",
    "import math\n",
    "\n",
    "import seaborn as sns\n",
    "import matplotlib.pyplot as plt\n",
    "\n",
    "from py_helper_functions import *\n",
    "\n",
    "from datetime import datetime\n",
    "\n",
    "from patsy.highlevel import dmatrices\n",
    "\n",
    "from sklearn.ensemble import RandomForestRegressor\n",
    "from sklearn.model_selection import GridSearchCV\n",
    "from sklearn.inspection import permutation_importance\n",
    "from sklearn.inspection import PartialDependenceDisplay\n",
    "from sklearn.inspection import partial_dependence\n",
    "from sklearn.compose import ColumnTransformer\n",
    "from sklearn.pipeline import Pipeline\n",
    "from sklearn.preprocessing import OneHotEncoder\n",
    "from sklearn.metrics import mean_squared_error\n",
    "from sklearn.model_selection import train_test_split\n",
    "from sklearn.preprocessing import StandardScaler\n",
    "from sklearn.linear_model import LinearRegression\n",
    "from sklearn.linear_model import Lasso\n",
    "from sklearn.ensemble import GradientBoostingRegressor\n",
    "from sklearn.linear_model import ElasticNet"
   ]
  },
  {
   "cell_type": "code",
   "outputs": [],
   "source": [
    "def get_cleaned_data(src=None) -> pd.DataFrame:\n",
    "    '''\n",
    "    This function takes a path to a csv file, cleans it and returns the cleaned dataframe\n",
    "    :param src: path to file\n",
    "    :return: dataframe with cleaned data\n",
    "    '''\n",
    "    if src:\n",
    "        if isinstance(src, list):\n",
    "            dfs = []\n",
    "            for file in src:\n",
    "                u_df = pd.read_csv(file)\n",
    "                dfs.append(u_df)\n",
    "            df = pd.concat(dfs, ignore_index=True)\n",
    "        else:\n",
    "            df = pd.read_csv(src)\n",
    "    else:\n",
    "        urls = ['https://raw.githubusercontent.com/viethngn/Data_Analysis_3_ECBS5171/main/assignment2/listings_1.csv', 'https://raw.githubusercontent.com/viethngn/Data_Analysis_3_ECBS5171/main/assignment2/listings_2.csv']\n",
    "        dfs = []\n",
    "        for url in urls:\n",
    "            u_df = pd.read_csv(url)\n",
    "            dfs.append(u_df)\n",
    "        df = pd.concat(dfs, ignore_index=True)\n",
    "    \n",
    "    # Filter the data\n",
    "    working_sample = df[['id','name','host_id','host_name','host_since','host_is_superhost','host_total_listings_count','host_has_profile_pic','host_identity_verified','neighbourhood_cleansed','property_type','room_type','accommodates','bathrooms_text','bedrooms','beds','amenities','price','minimum_nights','maximum_nights','number_of_reviews','review_scores_value','instant_bookable', 'license']\n",
    "                        ][(df['price'].notna()) \n",
    "                        & (df['beds'].notna())\n",
    "                        & (df['host_is_superhost'].notna())\n",
    "                        & (df['host_since'].notna())\n",
    "                        & (df['bathrooms_text'].notna())\n",
    "                        & (df['room_type'] != 'Hotel room')\n",
    "                        & (df['accommodates'] <= 6) & (df['accommodates'] >= 2)\n",
    "                        & (df['neighbourhood_cleansed'].isin(['Palermo', 'Catania', 'Gravina di Catania', 'San Gregorio di Catania', 'Militello in Val di Catania', 'Messina', 'Taormina', 'Realmonte', 'Agrigento', 'Siracusa', 'Cefal', 'Monreale', 'Ragusa', 'Modica']))]\n",
    "    \n",
    "    # fill NA data for reviews with 0s\n",
    "    working_sample['review_scores_value'].fillna(0, inplace=True)\n",
    "    \n",
    "    # fill NA data for bedrooms with 1s\n",
    "    working_sample['bedrooms'].fillna(1, inplace=True)\n",
    "    \n",
    "    # fill NA data for license with NAN\n",
    "    working_sample['license'].fillna('NAN', inplace=True)\n",
    "    \n",
    "    # add boolean variables from text columns\n",
    "    working_sample['d_host_is_superhost'] = working_sample['host_is_superhost'].apply(lambda x: 1 if x == 't' else 0)\n",
    "    working_sample['d_host_has_profile_pic'] = working_sample['host_has_profile_pic'].apply(lambda x: 1 if x == 't' else 0)\n",
    "    working_sample['d_host_identity_verified'] = working_sample['host_identity_verified'].apply(lambda x: 1 if x == 't' else 0)\n",
    "    working_sample['d_instant_bookable'] = working_sample['instant_bookable'].apply(lambda x: 1 if x == 't' else 0)\n",
    "    working_sample['d_has_license'] = working_sample['license'].apply(lambda x: 1 if x != 'NAN' else 0)\n",
    "    \n",
    "    # calculate host time\n",
    "    working_sample['n_host_since'] = working_sample['host_since'].apply(lambda x: (pd.Timestamp('2023-03-31') - pd.Timestamp(x)).days)\n",
    "    \n",
    "    # convert price to numerical\n",
    "    working_sample['price'] = working_sample['price'].apply(lambda x: float(x.replace('$', '').replace(',', '')))\n",
    "    \n",
    "    # filter for price < \n",
    "    working_sample = working_sample[(working_sample['price'] <= 400)]\n",
    "    \n",
    "    # add numerical variable for number of bath\n",
    "    working_sample['n_bathrooms'] = working_sample['bathrooms_text'].apply(lambda x: 0.5 if 'half-bath' in x.lower() else float(x.lower().split()[0]))\n",
    "    \n",
    "    # clean the property type and room type\n",
    "    working_sample['property_type'] = working_sample['property_type'].apply(lambda x: x.lower().replace('entire ', '').replace('private room ', '').replace('shared room ', '').replace('room in ', '').replace('in ', ''))\n",
    "    working_sample['room_type'] = working_sample['room_type'].apply(lambda x: x.lower())\n",
    "    \n",
    "    # add amenities columns\n",
    "    working_sample['d_entertainment'] = working_sample['amenities'].apply(lambda x: 1 if 'tv' in x.lower() or 'game' in x.lower() or 'roku' in x.lower() or 'disney' in x.lower() or 'netflix' in x.lower() or 'nintendo' in x.lower() or'chromecast' in x.lower() or 'alexa' in x.lower() or 'sound' in x.lower() else 0)\n",
    "    working_sample['d_wifi'] = working_sample['amenities'].apply(lambda x: 1 if 'wifi' in x.lower() else 0)\n",
    "    working_sample['d_kitchenware'] = working_sample['amenities'].apply(lambda x: 1 if 'fridge' in x.lower() or 'freezer' in x.lower() or 'stove' in x.lower() or 'coffee' in x.lower() or 'oven' in x.lower() or 'blender' in x.lower() or 'grill' in x.lower() or 'dishwasher' in x.lower() else 0)\n",
    "    working_sample['d_washer'] = working_sample['amenities'].apply(lambda x: 1 if ('washer' in x.lower() or 'dryer' in x.lower() or 'drying' in x.lower()) else 0)\n",
    "    working_sample['d_sauna_hot_tub'] = working_sample['amenities'].apply(lambda x: 1 if 'sauna' in x.lower() or 'tub' in x.lower() else 0)\n",
    "    working_sample['d_pool'] = working_sample['amenities'].apply(lambda x: 1 if ' pool' in x.lower() or 'Pool' in x else 0)\n",
    "    working_sample['d_aircon'] = working_sample['amenities'].apply(lambda x: 1 if 'air con' in x.lower() else 0)\n",
    "    working_sample['d_heating'] = working_sample['amenities'].apply(lambda x: 1 if 'heating' in x.lower() else 0)\n",
    "    working_sample['d_scenic_view_access'] = working_sample['amenities'].apply(lambda x: 1 if 'view' in x.lower() or 'access' in x.lower() else 0)\n",
    "    working_sample['d_parking'] = working_sample['amenities'].apply(lambda x: 1 if 'parking' in x.lower() or 'carport' in x.lower() else 0)\n",
    "    working_sample['d_pets_allowed'] = working_sample['amenities'].apply(lambda x: 1 if 'pets allowed' in x.lower() else 0)\n",
    "    working_sample['d_patio_balcony'] = working_sample['amenities'].apply(lambda x: 1 if 'patio' in x.lower() or 'balcony' in x.lower() else 0)\n",
    "    working_sample['d_bodyshower'] = working_sample['amenities'].apply(lambda x: 1 if 'shampoo' in x.lower() or 'conditioner' in x.lower() or 'soap' in x.lower() or 'gel' in x.lower() else 0)\n",
    "    \n",
    "    # rename numerical and categorical columns to have prefix\n",
    "    working_sample.rename(columns={\n",
    "        'host_total_listings_count': 'n_host_total_listings_count',\n",
    "        'accommodates': 'n_accommodates',\n",
    "        'bedrooms': 'n_bedrooms',\n",
    "        'beds': 'n_beds',\n",
    "        'minimum_nights': 'n_minimum_nights',\n",
    "        'maximum_nights': 'n_maximum_nights',\n",
    "        'neighbourhood_cleansed': 'f_neighbourhood_cleansed',\n",
    "        'property_type': 'f_property_type',\n",
    "        'room_type': 'f_room_type',\n",
    "        'review_scores_value': 'n_review_scores_value',\n",
    "        'number_of_reviews': 'n_number_of_reviews'\n",
    "    }, inplace=True)\n",
    "    \n",
    "    del df\n",
    "        \n",
    "    return working_sample"
   ],
   "metadata": {
    "collapsed": false,
    "ExecuteTime": {
     "end_time": "2024-02-10T20:40:28.493902Z",
     "start_time": "2024-02-10T20:40:28.469481Z"
    }
   },
   "id": "7b4ad86b6e8e6ac7",
   "execution_count": 2
  },
  {
   "cell_type": "code",
   "outputs": [
    {
     "data": {
      "text/plain": "(16240, 44)"
     },
     "execution_count": 3,
     "metadata": {},
     "output_type": "execute_result"
    }
   ],
   "source": [
    "# get the working df\n",
    "# work_df = get_cleaned_data(['listings_1.csv', 'listings_2.csv'])\n",
    "work_df = get_cleaned_data()\n",
    "work_df.shape"
   ],
   "metadata": {
    "collapsed": false,
    "ExecuteTime": {
     "end_time": "2024-02-10T20:40:30.237081Z",
     "start_time": "2024-02-10T20:40:28.485492Z"
    }
   },
   "id": "7f62dcd6ad5a7e8d",
   "execution_count": 3
  },
  {
   "cell_type": "code",
   "outputs": [],
   "source": [
    "# create the list of categorical and numerical column names\n",
    "categorical_columns = [col for col in work_df.columns if col.startswith(\"f_\")]\n",
    "numerical_columns = [col for col in work_df.columns if col.startswith(\"n_\") or col.startswith(\"d_\")]"
   ],
   "metadata": {
    "collapsed": false,
    "ExecuteTime": {
     "end_time": "2024-02-10T20:40:30.240701Z",
     "start_time": "2024-02-10T20:40:30.238001Z"
    }
   },
   "id": "101e67fa693a5bdb",
   "execution_count": 4
  },
  {
   "cell_type": "code",
   "outputs": [],
   "source": [
    "# build interaction terms\n",
    "interactions = []\n",
    "for i in categorical_columns + numerical_columns:\n",
    "    for k in categorical_columns + numerical_columns:\n",
    "        if i == k or i+'*'+k in interactions or k+'*'+i in interactions:\n",
    "            continue\n",
    "        else:\n",
    "            interactions.append(i + '*' + k)"
   ],
   "metadata": {
    "collapsed": false,
    "ExecuteTime": {
     "end_time": "2024-02-10T20:40:30.248790Z",
     "start_time": "2024-02-10T20:40:30.245820Z"
    }
   },
   "id": "6e842d149e7f7a5d",
   "execution_count": 5
  },
  {
   "cell_type": "code",
   "outputs": [],
   "source": [
    "# define function to get train test split for OLS and LASSO\n",
    "def get_ols_train_test_split(data, lasso=False):\n",
    "    if lasso:\n",
    "        y_, ols_df = dmatrices('price~' + '+'.join(numerical_columns) + '+' + '+'.join(categorical_columns) + '+' + '+'.join(interactions), data, return_type=\"dataframe\")\n",
    "    else:\n",
    "        y_, ols_df = dmatrices('price~' + '+'.join(numerical_columns) + '+' + '+'.join(categorical_columns), data, return_type=\"dataframe\")\n",
    "    ols_terms_list = ols_df.design_info.column_names\n",
    "    ols_df['price'] = y_\n",
    "    ols_data_train, ols_data_holdout = train_test_split(ols_df, train_size=0.7, random_state=42)\n",
    "    return ols_data_train, ols_data_holdout, ols_terms_list"
   ],
   "metadata": {
    "collapsed": false,
    "ExecuteTime": {
     "end_time": "2024-02-10T20:40:30.252391Z",
     "start_time": "2024-02-10T20:40:30.249334Z"
    }
   },
   "id": "798835501b07fe0d",
   "execution_count": 6
  },
  {
   "cell_type": "code",
   "outputs": [
    {
     "data": {
      "text/plain": "((11368, 44), (4872, 44))"
     },
     "execution_count": 7,
     "metadata": {},
     "output_type": "execute_result"
    }
   ],
   "source": [
    "# split the data for ensemble algorithms\n",
    "data_train, data_holdout = train_test_split(work_df, train_size=0.7, random_state=42)\n",
    "data_train.shape, data_holdout.shape"
   ],
   "metadata": {
    "collapsed": false,
    "ExecuteTime": {
     "end_time": "2024-02-10T20:40:30.278180Z",
     "start_time": "2024-02-10T20:40:30.252104Z"
    }
   },
   "id": "fa866dca642f2f05",
   "execution_count": 7
  },
  {
   "cell_type": "markdown",
   "source": [
    "Simple OLS"
   ],
   "metadata": {
    "collapsed": false
   },
   "id": "aec6510309a0724"
  },
  {
   "cell_type": "code",
   "outputs": [
    {
     "data": {
      "text/plain": "LinearRegression()",
      "text/html": "<style>#sk-container-id-1 {color: black;}#sk-container-id-1 pre{padding: 0;}#sk-container-id-1 div.sk-toggleable {background-color: white;}#sk-container-id-1 label.sk-toggleable__label {cursor: pointer;display: block;width: 100%;margin-bottom: 0;padding: 0.3em;box-sizing: border-box;text-align: center;}#sk-container-id-1 label.sk-toggleable__label-arrow:before {content: \"▸\";float: left;margin-right: 0.25em;color: #696969;}#sk-container-id-1 label.sk-toggleable__label-arrow:hover:before {color: black;}#sk-container-id-1 div.sk-estimator:hover label.sk-toggleable__label-arrow:before {color: black;}#sk-container-id-1 div.sk-toggleable__content {max-height: 0;max-width: 0;overflow: hidden;text-align: left;background-color: #f0f8ff;}#sk-container-id-1 div.sk-toggleable__content pre {margin: 0.2em;color: black;border-radius: 0.25em;background-color: #f0f8ff;}#sk-container-id-1 input.sk-toggleable__control:checked~div.sk-toggleable__content {max-height: 200px;max-width: 100%;overflow: auto;}#sk-container-id-1 input.sk-toggleable__control:checked~label.sk-toggleable__label-arrow:before {content: \"▾\";}#sk-container-id-1 div.sk-estimator input.sk-toggleable__control:checked~label.sk-toggleable__label {background-color: #d4ebff;}#sk-container-id-1 div.sk-label input.sk-toggleable__control:checked~label.sk-toggleable__label {background-color: #d4ebff;}#sk-container-id-1 input.sk-hidden--visually {border: 0;clip: rect(1px 1px 1px 1px);clip: rect(1px, 1px, 1px, 1px);height: 1px;margin: -1px;overflow: hidden;padding: 0;position: absolute;width: 1px;}#sk-container-id-1 div.sk-estimator {font-family: monospace;background-color: #f0f8ff;border: 1px dotted black;border-radius: 0.25em;box-sizing: border-box;margin-bottom: 0.5em;}#sk-container-id-1 div.sk-estimator:hover {background-color: #d4ebff;}#sk-container-id-1 div.sk-parallel-item::after {content: \"\";width: 100%;border-bottom: 1px solid gray;flex-grow: 1;}#sk-container-id-1 div.sk-label:hover label.sk-toggleable__label {background-color: #d4ebff;}#sk-container-id-1 div.sk-serial::before {content: \"\";position: absolute;border-left: 1px solid gray;box-sizing: border-box;top: 0;bottom: 0;left: 50%;z-index: 0;}#sk-container-id-1 div.sk-serial {display: flex;flex-direction: column;align-items: center;background-color: white;padding-right: 0.2em;padding-left: 0.2em;position: relative;}#sk-container-id-1 div.sk-item {position: relative;z-index: 1;}#sk-container-id-1 div.sk-parallel {display: flex;align-items: stretch;justify-content: center;background-color: white;position: relative;}#sk-container-id-1 div.sk-item::before, #sk-container-id-1 div.sk-parallel-item::before {content: \"\";position: absolute;border-left: 1px solid gray;box-sizing: border-box;top: 0;bottom: 0;left: 50%;z-index: -1;}#sk-container-id-1 div.sk-parallel-item {display: flex;flex-direction: column;z-index: 1;position: relative;background-color: white;}#sk-container-id-1 div.sk-parallel-item:first-child::after {align-self: flex-end;width: 50%;}#sk-container-id-1 div.sk-parallel-item:last-child::after {align-self: flex-start;width: 50%;}#sk-container-id-1 div.sk-parallel-item:only-child::after {width: 0;}#sk-container-id-1 div.sk-dashed-wrapped {border: 1px dashed gray;margin: 0 0.4em 0.5em 0.4em;box-sizing: border-box;padding-bottom: 0.4em;background-color: white;}#sk-container-id-1 div.sk-label label {font-family: monospace;font-weight: bold;display: inline-block;line-height: 1.2em;}#sk-container-id-1 div.sk-label-container {text-align: center;}#sk-container-id-1 div.sk-container {/* jupyter's `normalize.less` sets `[hidden] { display: none; }` but bootstrap.min.css set `[hidden] { display: none !important; }` so we also need the `!important` here to be able to override the default hidden behavior on the sphinx rendered scikit-learn.org. See: https://github.com/scikit-learn/scikit-learn/issues/21755 */display: inline-block !important;position: relative;}#sk-container-id-1 div.sk-text-repr-fallback {display: none;}</style><div id=\"sk-container-id-1\" class=\"sk-top-container\"><div class=\"sk-text-repr-fallback\"><pre>LinearRegression()</pre><b>In a Jupyter environment, please rerun this cell to show the HTML representation or trust the notebook. <br />On GitHub, the HTML representation is unable to render, please try loading this page with nbviewer.org.</b></div><div class=\"sk-container\" hidden><div class=\"sk-item\"><div class=\"sk-estimator sk-toggleable\"><input class=\"sk-toggleable__control sk-hidden--visually\" id=\"sk-estimator-id-1\" type=\"checkbox\" checked><label for=\"sk-estimator-id-1\" class=\"sk-toggleable__label sk-toggleable__label-arrow\">LinearRegression</label><div class=\"sk-toggleable__content\"><pre>LinearRegression()</pre></div></div></div></div></div>"
     },
     "execution_count": 8,
     "metadata": {},
     "output_type": "execute_result"
    }
   ],
   "source": [
    "# build and train the OLS model\n",
    "ols_data_train, ols_data_holdout, ols_terms_list = get_ols_train_test_split(work_df)\n",
    "\n",
    "start_time = datetime.now()\n",
    "ols_model = LinearRegression().fit(ols_data_train[ols_terms_list], ols_data_train['price'])\n",
    "ols_time = datetime.now() - start_time\n",
    "ols_model"
   ],
   "metadata": {
    "collapsed": false,
    "ExecuteTime": {
     "end_time": "2024-02-10T20:40:30.461731Z",
     "start_time": "2024-02-10T20:40:30.273762Z"
    }
   },
   "id": "a230499e4c4b0c36",
   "execution_count": 8
  },
  {
   "cell_type": "code",
   "outputs": [],
   "source": [
    "ols_rmse = mean_squared_error(ols_model.predict(ols_data_train.drop(columns=['price'])), ols_data_train['price'], squared=False)\n",
    "ols_rmse;"
   ],
   "metadata": {
    "collapsed": false,
    "ExecuteTime": {
     "end_time": "2024-02-10T20:40:30.578782Z",
     "start_time": "2024-02-10T20:40:30.534670Z"
    }
   },
   "id": "3f6953b878179aa3",
   "execution_count": 9
  },
  {
   "cell_type": "code",
   "outputs": [],
   "source": [
    "# get the coefficients of the OLS\n",
    "df_ols_var_coefs = pd.DataFrame(\n",
    "    ols_model.coef_.tolist(),\n",
    "    index=ols_terms_list,\n",
    "    columns=[\"ols_coefficient\"],\n",
    ").assign(ols_coefficient=lambda x: x.ols_coefficient.round(3)).loc[\n",
    "    lambda x: x.ols_coefficient != 0\n",
    "]\n",
    "df_ols_var_coefs['abs_ols_coefficient'] = df_ols_var_coefs[\"ols_coefficient\"].apply(lambda x: x if x >= 0 else x * -1)\n",
    "df_ols_var_coefs = df_ols_var_coefs.reset_index().rename(columns={'index': 'term'})\n",
    "df_ols_var_coefs['grouped_term'] = df_ols_var_coefs['term'].apply(lambda x: x.split('[')[0])\n",
    "# df_ols_var_coefs.sort_values(by=\"abs_ols_coefficient\", ascending=False).iloc[:100]\n",
    "df_ols_var_coefs.groupby(['grouped_term']).sum().sort_values(by=\"abs_ols_coefficient\", ascending=False)[['ols_coefficient', 'abs_ols_coefficient']].iloc[:10];"
   ],
   "metadata": {
    "collapsed": false,
    "ExecuteTime": {
     "end_time": "2024-02-10T20:40:30.665993Z",
     "start_time": "2024-02-10T20:40:30.599256Z"
    }
   },
   "id": "dd3bb73d28538adb",
   "execution_count": 10
  },
  {
   "cell_type": "markdown",
   "source": [
    "LASSO"
   ],
   "metadata": {
    "collapsed": false
   },
   "id": "3c8ce21c89fee132"
  },
  {
   "cell_type": "code",
   "outputs": [],
   "source": [
    "# get the matrices for LASSO\n",
    "def get_lasso_matrices(data):\n",
    "    y_ = data['price']\n",
    "    X_ = data[lasso_terms_list]\n",
    "    scaler = StandardScaler()\n",
    "    X_ = scaler.fit_transform(X_)\n",
    "    return y_, X_"
   ],
   "metadata": {
    "collapsed": false,
    "ExecuteTime": {
     "end_time": "2024-02-10T20:40:30.667657Z",
     "start_time": "2024-02-10T20:40:30.615145Z"
    }
   },
   "id": "51a25ca348bc18d9",
   "execution_count": 11
  },
  {
   "cell_type": "code",
   "outputs": [
    {
     "name": "stdout",
     "output_type": "stream",
     "text": [
      "Fitting 5 folds for each of 9 candidates, totalling 45 fits\n",
      "[CV 1/5] END .......................alpha=0.1;, score=-48.937 total time=  10.5s\n",
      "[CV 2/5] END .......................alpha=0.1;, score=-44.724 total time=   9.1s\n",
      "[CV 3/5] END .......................alpha=0.1;, score=-44.196 total time=  13.4s\n",
      "[CV 4/5] END .......................alpha=0.1;, score=-44.379 total time=  12.1s\n",
      "[CV 5/5] END .......................alpha=0.1;, score=-44.096 total time=  17.1s\n",
      "[CV 1/5] END ......................alpha=0.15;, score=-47.701 total time=   7.1s\n",
      "[CV 2/5] END ......................alpha=0.15;, score=-43.498 total time=   5.7s\n",
      "[CV 3/5] END ......................alpha=0.15;, score=-43.656 total time=   8.5s\n",
      "[CV 4/5] END ......................alpha=0.15;, score=-44.225 total time=   7.9s\n",
      "[CV 5/5] END ......................alpha=0.15;, score=-43.771 total time=   6.6s\n",
      "[CV 1/5] END .......................alpha=0.2;, score=-46.657 total time=   5.7s\n",
      "[CV 2/5] END .......................alpha=0.2;, score=-43.074 total time=   4.3s\n",
      "[CV 3/5] END .......................alpha=0.2;, score=-43.356 total time=   6.3s\n",
      "[CV 4/5] END .......................alpha=0.2;, score=-44.209 total time=   6.1s\n",
      "[CV 5/5] END .......................alpha=0.2;, score=-43.736 total time=   5.0s\n",
      "[CV 1/5] END ......................alpha=0.25;, score=-45.961 total time=   6.3s\n",
      "[CV 2/5] END ......................alpha=0.25;, score=-42.956 total time=   4.7s\n",
      "[CV 3/5] END ......................alpha=0.25;, score=-43.240 total time=   5.2s\n",
      "[CV 4/5] END ......................alpha=0.25;, score=-44.215 total time=   5.7s\n",
      "[CV 5/5] END ......................alpha=0.25;, score=-43.715 total time=   4.1s\n",
      "[CV 1/5] END .......................alpha=0.3;, score=-45.479 total time=   4.8s\n",
      "[CV 2/5] END .......................alpha=0.3;, score=-42.903 total time=   4.7s\n",
      "[CV 3/5] END .......................alpha=0.3;, score=-43.157 total time=   4.7s\n",
      "[CV 4/5] END .......................alpha=0.3;, score=-44.248 total time=   4.5s\n",
      "[CV 5/5] END .......................alpha=0.3;, score=-43.758 total time=   3.6s\n",
      "[CV 1/5] END ......................alpha=0.35;, score=-45.210 total time=   3.5s\n",
      "[CV 2/5] END ......................alpha=0.35;, score=-42.891 total time=   4.4s\n",
      "[CV 3/5] END ......................alpha=0.35;, score=-43.100 total time=   3.2s\n",
      "[CV 4/5] END ......................alpha=0.35;, score=-44.274 total time=   3.6s\n",
      "[CV 5/5] END ......................alpha=0.35;, score=-43.803 total time=   3.2s\n",
      "[CV 1/5] END .......................alpha=0.4;, score=-44.997 total time=   2.6s\n",
      "[CV 2/5] END .......................alpha=0.4;, score=-42.921 total time=   4.0s\n",
      "[CV 3/5] END .......................alpha=0.4;, score=-43.085 total time=   2.4s\n",
      "[CV 4/5] END .......................alpha=0.4;, score=-44.304 total time=   3.1s\n",
      "[CV 5/5] END .......................alpha=0.4;, score=-43.860 total time=   2.5s\n",
      "[CV 1/5] END ......................alpha=0.45;, score=-44.837 total time=   2.6s\n",
      "[CV 2/5] END ......................alpha=0.45;, score=-42.983 total time=   3.3s\n",
      "[CV 3/5] END ......................alpha=0.45;, score=-43.083 total time=   2.2s\n",
      "[CV 4/5] END ......................alpha=0.45;, score=-44.344 total time=   2.5s\n",
      "[CV 5/5] END ......................alpha=0.45;, score=-43.921 total time=   2.0s\n",
      "[CV 1/5] END .......................alpha=0.5;, score=-44.736 total time=   2.7s\n",
      "[CV 2/5] END .......................alpha=0.5;, score=-43.043 total time=   2.7s\n",
      "[CV 3/5] END .......................alpha=0.5;, score=-43.092 total time=   2.1s\n",
      "[CV 4/5] END .......................alpha=0.5;, score=-44.386 total time=   2.5s\n",
      "[CV 5/5] END .......................alpha=0.5;, score=-44.006 total time=   2.0s\n"
     ]
    }
   ],
   "source": [
    "# get lasso data split\n",
    "lasso_data_train, lasso_data_holdout, lasso_terms_list = get_ols_train_test_split(work_df, lasso=True)\n",
    "\n",
    "# define model\n",
    "lasso_model = ElasticNet(l1_ratio = 1, fit_intercept = True)\n",
    "\n",
    "# define cv search\n",
    "lasso_search = GridSearchCV(\n",
    "    lasso_model,\n",
    "    {\"alpha\":[i/100 for i in range(10, 55, 5)]},\n",
    "    cv=5,\n",
    "    scoring=\"neg_root_mean_squared_error\",\n",
    "    verbose=3,\n",
    ")\n",
    "\n",
    "# perform the search\n",
    "y, X = get_lasso_matrices(lasso_data_train)\n",
    "\n",
    "start_time = datetime.now()\n",
    "lasso_results = lasso_search.fit(X, y)\n",
    "lasso_time = datetime.now() - start_time"
   ],
   "metadata": {
    "collapsed": false,
    "ExecuteTime": {
     "end_time": "2024-02-10T20:45:00.232868Z",
     "start_time": "2024-02-10T20:40:30.664346Z"
    }
   },
   "id": "5ecac39a3052dadb",
   "execution_count": 12
  },
  {
   "cell_type": "code",
   "outputs": [
    {
     "data": {
      "text/plain": "ElasticNet(alpha=0.4, l1_ratio=1)",
      "text/html": "<style>#sk-container-id-2 {color: black;}#sk-container-id-2 pre{padding: 0;}#sk-container-id-2 div.sk-toggleable {background-color: white;}#sk-container-id-2 label.sk-toggleable__label {cursor: pointer;display: block;width: 100%;margin-bottom: 0;padding: 0.3em;box-sizing: border-box;text-align: center;}#sk-container-id-2 label.sk-toggleable__label-arrow:before {content: \"▸\";float: left;margin-right: 0.25em;color: #696969;}#sk-container-id-2 label.sk-toggleable__label-arrow:hover:before {color: black;}#sk-container-id-2 div.sk-estimator:hover label.sk-toggleable__label-arrow:before {color: black;}#sk-container-id-2 div.sk-toggleable__content {max-height: 0;max-width: 0;overflow: hidden;text-align: left;background-color: #f0f8ff;}#sk-container-id-2 div.sk-toggleable__content pre {margin: 0.2em;color: black;border-radius: 0.25em;background-color: #f0f8ff;}#sk-container-id-2 input.sk-toggleable__control:checked~div.sk-toggleable__content {max-height: 200px;max-width: 100%;overflow: auto;}#sk-container-id-2 input.sk-toggleable__control:checked~label.sk-toggleable__label-arrow:before {content: \"▾\";}#sk-container-id-2 div.sk-estimator input.sk-toggleable__control:checked~label.sk-toggleable__label {background-color: #d4ebff;}#sk-container-id-2 div.sk-label input.sk-toggleable__control:checked~label.sk-toggleable__label {background-color: #d4ebff;}#sk-container-id-2 input.sk-hidden--visually {border: 0;clip: rect(1px 1px 1px 1px);clip: rect(1px, 1px, 1px, 1px);height: 1px;margin: -1px;overflow: hidden;padding: 0;position: absolute;width: 1px;}#sk-container-id-2 div.sk-estimator {font-family: monospace;background-color: #f0f8ff;border: 1px dotted black;border-radius: 0.25em;box-sizing: border-box;margin-bottom: 0.5em;}#sk-container-id-2 div.sk-estimator:hover {background-color: #d4ebff;}#sk-container-id-2 div.sk-parallel-item::after {content: \"\";width: 100%;border-bottom: 1px solid gray;flex-grow: 1;}#sk-container-id-2 div.sk-label:hover label.sk-toggleable__label {background-color: #d4ebff;}#sk-container-id-2 div.sk-serial::before {content: \"\";position: absolute;border-left: 1px solid gray;box-sizing: border-box;top: 0;bottom: 0;left: 50%;z-index: 0;}#sk-container-id-2 div.sk-serial {display: flex;flex-direction: column;align-items: center;background-color: white;padding-right: 0.2em;padding-left: 0.2em;position: relative;}#sk-container-id-2 div.sk-item {position: relative;z-index: 1;}#sk-container-id-2 div.sk-parallel {display: flex;align-items: stretch;justify-content: center;background-color: white;position: relative;}#sk-container-id-2 div.sk-item::before, #sk-container-id-2 div.sk-parallel-item::before {content: \"\";position: absolute;border-left: 1px solid gray;box-sizing: border-box;top: 0;bottom: 0;left: 50%;z-index: -1;}#sk-container-id-2 div.sk-parallel-item {display: flex;flex-direction: column;z-index: 1;position: relative;background-color: white;}#sk-container-id-2 div.sk-parallel-item:first-child::after {align-self: flex-end;width: 50%;}#sk-container-id-2 div.sk-parallel-item:last-child::after {align-self: flex-start;width: 50%;}#sk-container-id-2 div.sk-parallel-item:only-child::after {width: 0;}#sk-container-id-2 div.sk-dashed-wrapped {border: 1px dashed gray;margin: 0 0.4em 0.5em 0.4em;box-sizing: border-box;padding-bottom: 0.4em;background-color: white;}#sk-container-id-2 div.sk-label label {font-family: monospace;font-weight: bold;display: inline-block;line-height: 1.2em;}#sk-container-id-2 div.sk-label-container {text-align: center;}#sk-container-id-2 div.sk-container {/* jupyter's `normalize.less` sets `[hidden] { display: none; }` but bootstrap.min.css set `[hidden] { display: none !important; }` so we also need the `!important` here to be able to override the default hidden behavior on the sphinx rendered scikit-learn.org. See: https://github.com/scikit-learn/scikit-learn/issues/21755 */display: inline-block !important;position: relative;}#sk-container-id-2 div.sk-text-repr-fallback {display: none;}</style><div id=\"sk-container-id-2\" class=\"sk-top-container\"><div class=\"sk-text-repr-fallback\"><pre>ElasticNet(alpha=0.4, l1_ratio=1)</pre><b>In a Jupyter environment, please rerun this cell to show the HTML representation or trust the notebook. <br />On GitHub, the HTML representation is unable to render, please try loading this page with nbviewer.org.</b></div><div class=\"sk-container\" hidden><div class=\"sk-item\"><div class=\"sk-estimator sk-toggleable\"><input class=\"sk-toggleable__control sk-hidden--visually\" id=\"sk-estimator-id-2\" type=\"checkbox\" checked><label for=\"sk-estimator-id-2\" class=\"sk-toggleable__label sk-toggleable__label-arrow\">ElasticNet</label><div class=\"sk-toggleable__content\"><pre>ElasticNet(alpha=0.4, l1_ratio=1)</pre></div></div></div></div></div>"
     },
     "execution_count": 13,
     "metadata": {},
     "output_type": "execute_result"
    }
   ],
   "source": [
    "lasso_results.best_estimator_"
   ],
   "metadata": {
    "collapsed": false,
    "ExecuteTime": {
     "end_time": "2024-02-10T20:45:00.311232Z",
     "start_time": "2024-02-10T20:45:00.244366Z"
    }
   },
   "id": "f42f4ecef729b289",
   "execution_count": 13
  },
  {
   "cell_type": "code",
   "outputs": [],
   "source": [
    "# get the coefficients of the LASSO\n",
    "df_lasso_var_coefs = pd.DataFrame(\n",
    "    lasso_results.best_estimator_.coef_.tolist(),\n",
    "    index=lasso_terms_list,\n",
    "    columns=[\"lasso_coefficient\"],\n",
    ").assign(lasso_coefficient=lambda x: x.lasso_coefficient.round(3)).loc[\n",
    "    lambda x: x.lasso_coefficient != 0\n",
    "]\n",
    "df_lasso_var_coefs['abs_lasso_coefficient'] = df_lasso_var_coefs[\"lasso_coefficient\"].apply(lambda x: x if x >= 0 else x * -1)\n",
    "# df_lasso_var_coefs.sort_values(by=\"abs_lasso_coefficient\", ascending=False).iloc[:30]\n",
    "df_lasso_var_coefs = df_lasso_var_coefs.reset_index().rename(columns={'index': 'term'})\n",
    "df_lasso_var_coefs['grouped_term'] = df_lasso_var_coefs['term'].apply(lambda x: x.split(':')[0].split('[')[0] + ':' + x.split(':')[1].split('[')[0] if ':' in x else x.split('[')[0])\n",
    "df_lasso_grouped_var_coefs = df_lasso_var_coefs.groupby(['grouped_term']).sum()\n",
    "df_lasso_grouped_var_coefs = df_lasso_grouped_var_coefs.reset_index()"
   ],
   "metadata": {
    "collapsed": false,
    "ExecuteTime": {
     "end_time": "2024-02-10T20:45:00.332816Z",
     "start_time": "2024-02-10T20:45:00.316546Z"
    }
   },
   "id": "d5cabffaf3f59084",
   "execution_count": 14
  },
  {
   "cell_type": "code",
   "outputs": [],
   "source": [
    "# single term coef power \n",
    "df_lasso_grouped_var_coefs[(df_lasso_grouped_var_coefs['grouped_term'].str.contains(':')) == False].sort_values(by=\"abs_lasso_coefficient\", ascending=False)[['grouped_term', 'lasso_coefficient', 'abs_lasso_coefficient']][:10];"
   ],
   "metadata": {
    "collapsed": false,
    "ExecuteTime": {
     "end_time": "2024-02-10T20:45:00.346408Z",
     "start_time": "2024-02-10T20:45:00.329688Z"
    }
   },
   "id": "cde456d463b1ecb6",
   "execution_count": 15
  },
  {
   "cell_type": "code",
   "outputs": [],
   "source": [
    "# interaction coef power\n",
    "df_lasso_grouped_var_coefs[(df_lasso_grouped_var_coefs['grouped_term'].str.contains(':'))].sort_values(by=\"abs_lasso_coefficient\", ascending=False)[['grouped_term', 'lasso_coefficient', 'abs_lasso_coefficient']][:10];"
   ],
   "metadata": {
    "collapsed": false,
    "ExecuteTime": {
     "end_time": "2024-02-10T20:45:00.378478Z",
     "start_time": "2024-02-10T20:45:00.345483Z"
    }
   },
   "id": "8d8cf01dc443d5e1",
   "execution_count": 16
  },
  {
   "cell_type": "markdown",
   "source": [
    "Random Forest"
   ],
   "metadata": {
    "collapsed": false
   },
   "id": "8dd991d98986b8ec"
  },
  {
   "cell_type": "code",
   "outputs": [],
   "source": [
    "# building preprocessing for pipeline\n",
    "categorical_encoder = OneHotEncoder(handle_unknown=\"ignore\")\n",
    "\n",
    "preprocessing = ColumnTransformer(\n",
    "    [\n",
    "        (\"cat\", categorical_encoder, categorical_columns),\n",
    "        (\"num\", \"passthrough\", numerical_columns),\n",
    "    ]\n",
    ")"
   ],
   "metadata": {
    "collapsed": false,
    "ExecuteTime": {
     "end_time": "2024-02-10T20:45:00.380721Z",
     "start_time": "2024-02-10T20:45:00.356252Z"
    }
   },
   "id": "3bf01d5ef8f77933",
   "execution_count": 17
  },
  {
   "cell_type": "code",
   "outputs": [],
   "source": [
    "# build search for RF\n",
    "tune_grid = {\"max_features\": [8, 10, 12], \"min_samples_leaf\": [5, 10, 15]}\n",
    "\n",
    "rfr = RandomForestRegressor(random_state = 42)\n",
    "\n",
    "rf_random = GridSearchCV(\n",
    "    rfr,\n",
    "    tune_grid,\n",
    "    cv=5,\n",
    "    scoring=\"neg_root_mean_squared_error\",\n",
    "    verbose=3,\n",
    ")"
   ],
   "metadata": {
    "collapsed": false,
    "ExecuteTime": {
     "end_time": "2024-02-10T20:45:00.382356Z",
     "start_time": "2024-02-10T20:45:00.364297Z"
    }
   },
   "id": "40492fdfab7edfd7",
   "execution_count": 18
  },
  {
   "cell_type": "code",
   "outputs": [],
   "source": [
    "# create RF pipeline\n",
    "rf_pipe = Pipeline(\n",
    "    [(\"preprocess\", preprocessing), (\"regressor\", rf_random)], verbose=True\n",
    ")"
   ],
   "metadata": {
    "collapsed": false,
    "ExecuteTime": {
     "end_time": "2024-02-10T20:45:00.394199Z",
     "start_time": "2024-02-10T20:45:00.372181Z"
    }
   },
   "id": "2608c1322496b43b",
   "execution_count": 19
  },
  {
   "cell_type": "code",
   "outputs": [
    {
     "name": "stdout",
     "output_type": "stream",
     "text": [
      "[Pipeline] ........ (step 1 of 2) Processing preprocess, total=   0.0s\n",
      "Fitting 5 folds for each of 9 candidates, totalling 45 fits\n",
      "[CV 1/5] END max_features=8, min_samples_leaf=5;, score=-44.817 total time=   0.5s\n",
      "[CV 2/5] END max_features=8, min_samples_leaf=5;, score=-41.931 total time=   0.5s\n",
      "[CV 3/5] END max_features=8, min_samples_leaf=5;, score=-42.389 total time=   0.5s\n",
      "[CV 4/5] END max_features=8, min_samples_leaf=5;, score=-43.550 total time=   0.5s\n",
      "[CV 5/5] END max_features=8, min_samples_leaf=5;, score=-44.470 total time=   0.5s\n",
      "[CV 1/5] END max_features=8, min_samples_leaf=10;, score=-45.502 total time=   0.4s\n",
      "[CV 2/5] END max_features=8, min_samples_leaf=10;, score=-43.064 total time=   0.4s\n",
      "[CV 3/5] END max_features=8, min_samples_leaf=10;, score=-43.341 total time=   0.4s\n",
      "[CV 4/5] END max_features=8, min_samples_leaf=10;, score=-44.779 total time=   0.4s\n",
      "[CV 5/5] END max_features=8, min_samples_leaf=10;, score=-45.480 total time=   0.4s\n",
      "[CV 1/5] END max_features=8, min_samples_leaf=15;, score=-45.977 total time=   0.4s\n",
      "[CV 2/5] END max_features=8, min_samples_leaf=15;, score=-43.619 total time=   0.4s\n",
      "[CV 3/5] END max_features=8, min_samples_leaf=15;, score=-43.977 total time=   0.4s\n",
      "[CV 4/5] END max_features=8, min_samples_leaf=15;, score=-45.305 total time=   0.4s\n",
      "[CV 5/5] END max_features=8, min_samples_leaf=15;, score=-46.010 total time=   0.4s\n",
      "[CV 1/5] END max_features=10, min_samples_leaf=5;, score=-44.319 total time=   0.6s\n",
      "[CV 2/5] END max_features=10, min_samples_leaf=5;, score=-41.656 total time=   0.6s\n",
      "[CV 3/5] END max_features=10, min_samples_leaf=5;, score=-42.170 total time=   0.6s\n",
      "[CV 4/5] END max_features=10, min_samples_leaf=5;, score=-43.350 total time=   0.6s\n",
      "[CV 5/5] END max_features=10, min_samples_leaf=5;, score=-44.096 total time=   0.6s\n",
      "[CV 1/5] END max_features=10, min_samples_leaf=10;, score=-45.263 total time=   0.5s\n",
      "[CV 2/5] END max_features=10, min_samples_leaf=10;, score=-42.728 total time=   0.5s\n",
      "[CV 3/5] END max_features=10, min_samples_leaf=10;, score=-42.960 total time=   0.5s\n",
      "[CV 4/5] END max_features=10, min_samples_leaf=10;, score=-44.400 total time=   0.5s\n",
      "[CV 5/5] END max_features=10, min_samples_leaf=10;, score=-45.088 total time=   0.5s\n",
      "[CV 1/5] END max_features=10, min_samples_leaf=15;, score=-45.750 total time=   0.5s\n",
      "[CV 2/5] END max_features=10, min_samples_leaf=15;, score=-43.115 total time=   0.5s\n",
      "[CV 3/5] END max_features=10, min_samples_leaf=15;, score=-43.603 total time=   0.5s\n",
      "[CV 4/5] END max_features=10, min_samples_leaf=15;, score=-45.142 total time=   0.5s\n",
      "[CV 5/5] END max_features=10, min_samples_leaf=15;, score=-45.677 total time=   0.5s\n",
      "[CV 1/5] END max_features=12, min_samples_leaf=5;, score=-44.332 total time=   0.7s\n",
      "[CV 2/5] END max_features=12, min_samples_leaf=5;, score=-41.399 total time=   0.7s\n",
      "[CV 3/5] END max_features=12, min_samples_leaf=5;, score=-41.916 total time=   0.7s\n",
      "[CV 4/5] END max_features=12, min_samples_leaf=5;, score=-43.089 total time=   0.6s\n",
      "[CV 5/5] END max_features=12, min_samples_leaf=5;, score=-43.776 total time=   0.7s\n",
      "[CV 1/5] END max_features=12, min_samples_leaf=10;, score=-44.859 total time=   0.6s\n",
      "[CV 2/5] END max_features=12, min_samples_leaf=10;, score=-42.238 total time=   0.6s\n",
      "[CV 3/5] END max_features=12, min_samples_leaf=10;, score=-42.764 total time=   0.6s\n",
      "[CV 4/5] END max_features=12, min_samples_leaf=10;, score=-44.156 total time=   0.6s\n",
      "[CV 5/5] END max_features=12, min_samples_leaf=10;, score=-44.753 total time=   0.6s\n",
      "[CV 1/5] END max_features=12, min_samples_leaf=15;, score=-45.349 total time=   0.5s\n",
      "[CV 2/5] END max_features=12, min_samples_leaf=15;, score=-42.834 total time=   0.5s\n",
      "[CV 3/5] END max_features=12, min_samples_leaf=15;, score=-43.294 total time=   0.5s\n",
      "[CV 4/5] END max_features=12, min_samples_leaf=15;, score=-44.663 total time=   0.5s\n",
      "[CV 5/5] END max_features=12, min_samples_leaf=15;, score=-45.448 total time=   0.5s\n",
      "[Pipeline] ......... (step 2 of 2) Processing regressor, total=  23.7s\n"
     ]
    },
    {
     "data": {
      "text/plain": "Pipeline(steps=[('preprocess',\n                 ColumnTransformer(transformers=[('cat',\n                                                  OneHotEncoder(handle_unknown='ignore'),\n                                                  ['f_neighbourhood_cleansed',\n                                                   'f_property_type',\n                                                   'f_room_type']),\n                                                 ('num', 'passthrough',\n                                                  ['n_host_total_listings_count',\n                                                   'n_accommodates',\n                                                   'n_bedrooms', 'n_beds',\n                                                   'n_minimum_nights',\n                                                   'n_maximum_nights',\n                                                   'n_number_of_reviews',\n                                                   'n_review_scores_value',\n                                                   'd_ho...\n                                                   'd_sauna_hot_tub', 'd_pool',\n                                                   'd_aircon', 'd_heating',\n                                                   'd_scenic_view_access',\n                                                   'd_parking',\n                                                   'd_pets_allowed',\n                                                   'd_patio_balcony',\n                                                   'd_bodyshower'])])),\n                ('regressor',\n                 GridSearchCV(cv=5,\n                              estimator=RandomForestRegressor(random_state=42),\n                              param_grid={'max_features': [8, 10, 12],\n                                          'min_samples_leaf': [5, 10, 15]},\n                              scoring='neg_root_mean_squared_error',\n                              verbose=3))],\n         verbose=True)",
      "text/html": "<style>#sk-container-id-3 {color: black;}#sk-container-id-3 pre{padding: 0;}#sk-container-id-3 div.sk-toggleable {background-color: white;}#sk-container-id-3 label.sk-toggleable__label {cursor: pointer;display: block;width: 100%;margin-bottom: 0;padding: 0.3em;box-sizing: border-box;text-align: center;}#sk-container-id-3 label.sk-toggleable__label-arrow:before {content: \"▸\";float: left;margin-right: 0.25em;color: #696969;}#sk-container-id-3 label.sk-toggleable__label-arrow:hover:before {color: black;}#sk-container-id-3 div.sk-estimator:hover label.sk-toggleable__label-arrow:before {color: black;}#sk-container-id-3 div.sk-toggleable__content {max-height: 0;max-width: 0;overflow: hidden;text-align: left;background-color: #f0f8ff;}#sk-container-id-3 div.sk-toggleable__content pre {margin: 0.2em;color: black;border-radius: 0.25em;background-color: #f0f8ff;}#sk-container-id-3 input.sk-toggleable__control:checked~div.sk-toggleable__content {max-height: 200px;max-width: 100%;overflow: auto;}#sk-container-id-3 input.sk-toggleable__control:checked~label.sk-toggleable__label-arrow:before {content: \"▾\";}#sk-container-id-3 div.sk-estimator input.sk-toggleable__control:checked~label.sk-toggleable__label {background-color: #d4ebff;}#sk-container-id-3 div.sk-label input.sk-toggleable__control:checked~label.sk-toggleable__label {background-color: #d4ebff;}#sk-container-id-3 input.sk-hidden--visually {border: 0;clip: rect(1px 1px 1px 1px);clip: rect(1px, 1px, 1px, 1px);height: 1px;margin: -1px;overflow: hidden;padding: 0;position: absolute;width: 1px;}#sk-container-id-3 div.sk-estimator {font-family: monospace;background-color: #f0f8ff;border: 1px dotted black;border-radius: 0.25em;box-sizing: border-box;margin-bottom: 0.5em;}#sk-container-id-3 div.sk-estimator:hover {background-color: #d4ebff;}#sk-container-id-3 div.sk-parallel-item::after {content: \"\";width: 100%;border-bottom: 1px solid gray;flex-grow: 1;}#sk-container-id-3 div.sk-label:hover label.sk-toggleable__label {background-color: #d4ebff;}#sk-container-id-3 div.sk-serial::before {content: \"\";position: absolute;border-left: 1px solid gray;box-sizing: border-box;top: 0;bottom: 0;left: 50%;z-index: 0;}#sk-container-id-3 div.sk-serial {display: flex;flex-direction: column;align-items: center;background-color: white;padding-right: 0.2em;padding-left: 0.2em;position: relative;}#sk-container-id-3 div.sk-item {position: relative;z-index: 1;}#sk-container-id-3 div.sk-parallel {display: flex;align-items: stretch;justify-content: center;background-color: white;position: relative;}#sk-container-id-3 div.sk-item::before, #sk-container-id-3 div.sk-parallel-item::before {content: \"\";position: absolute;border-left: 1px solid gray;box-sizing: border-box;top: 0;bottom: 0;left: 50%;z-index: -1;}#sk-container-id-3 div.sk-parallel-item {display: flex;flex-direction: column;z-index: 1;position: relative;background-color: white;}#sk-container-id-3 div.sk-parallel-item:first-child::after {align-self: flex-end;width: 50%;}#sk-container-id-3 div.sk-parallel-item:last-child::after {align-self: flex-start;width: 50%;}#sk-container-id-3 div.sk-parallel-item:only-child::after {width: 0;}#sk-container-id-3 div.sk-dashed-wrapped {border: 1px dashed gray;margin: 0 0.4em 0.5em 0.4em;box-sizing: border-box;padding-bottom: 0.4em;background-color: white;}#sk-container-id-3 div.sk-label label {font-family: monospace;font-weight: bold;display: inline-block;line-height: 1.2em;}#sk-container-id-3 div.sk-label-container {text-align: center;}#sk-container-id-3 div.sk-container {/* jupyter's `normalize.less` sets `[hidden] { display: none; }` but bootstrap.min.css set `[hidden] { display: none !important; }` so we also need the `!important` here to be able to override the default hidden behavior on the sphinx rendered scikit-learn.org. See: https://github.com/scikit-learn/scikit-learn/issues/21755 */display: inline-block !important;position: relative;}#sk-container-id-3 div.sk-text-repr-fallback {display: none;}</style><div id=\"sk-container-id-3\" class=\"sk-top-container\"><div class=\"sk-text-repr-fallback\"><pre>Pipeline(steps=[(&#x27;preprocess&#x27;,\n                 ColumnTransformer(transformers=[(&#x27;cat&#x27;,\n                                                  OneHotEncoder(handle_unknown=&#x27;ignore&#x27;),\n                                                  [&#x27;f_neighbourhood_cleansed&#x27;,\n                                                   &#x27;f_property_type&#x27;,\n                                                   &#x27;f_room_type&#x27;]),\n                                                 (&#x27;num&#x27;, &#x27;passthrough&#x27;,\n                                                  [&#x27;n_host_total_listings_count&#x27;,\n                                                   &#x27;n_accommodates&#x27;,\n                                                   &#x27;n_bedrooms&#x27;, &#x27;n_beds&#x27;,\n                                                   &#x27;n_minimum_nights&#x27;,\n                                                   &#x27;n_maximum_nights&#x27;,\n                                                   &#x27;n_number_of_reviews&#x27;,\n                                                   &#x27;n_review_scores_value&#x27;,\n                                                   &#x27;d_ho...\n                                                   &#x27;d_sauna_hot_tub&#x27;, &#x27;d_pool&#x27;,\n                                                   &#x27;d_aircon&#x27;, &#x27;d_heating&#x27;,\n                                                   &#x27;d_scenic_view_access&#x27;,\n                                                   &#x27;d_parking&#x27;,\n                                                   &#x27;d_pets_allowed&#x27;,\n                                                   &#x27;d_patio_balcony&#x27;,\n                                                   &#x27;d_bodyshower&#x27;])])),\n                (&#x27;regressor&#x27;,\n                 GridSearchCV(cv=5,\n                              estimator=RandomForestRegressor(random_state=42),\n                              param_grid={&#x27;max_features&#x27;: [8, 10, 12],\n                                          &#x27;min_samples_leaf&#x27;: [5, 10, 15]},\n                              scoring=&#x27;neg_root_mean_squared_error&#x27;,\n                              verbose=3))],\n         verbose=True)</pre><b>In a Jupyter environment, please rerun this cell to show the HTML representation or trust the notebook. <br />On GitHub, the HTML representation is unable to render, please try loading this page with nbviewer.org.</b></div><div class=\"sk-container\" hidden><div class=\"sk-item sk-dashed-wrapped\"><div class=\"sk-label-container\"><div class=\"sk-label sk-toggleable\"><input class=\"sk-toggleable__control sk-hidden--visually\" id=\"sk-estimator-id-3\" type=\"checkbox\" ><label for=\"sk-estimator-id-3\" class=\"sk-toggleable__label sk-toggleable__label-arrow\">Pipeline</label><div class=\"sk-toggleable__content\"><pre>Pipeline(steps=[(&#x27;preprocess&#x27;,\n                 ColumnTransformer(transformers=[(&#x27;cat&#x27;,\n                                                  OneHotEncoder(handle_unknown=&#x27;ignore&#x27;),\n                                                  [&#x27;f_neighbourhood_cleansed&#x27;,\n                                                   &#x27;f_property_type&#x27;,\n                                                   &#x27;f_room_type&#x27;]),\n                                                 (&#x27;num&#x27;, &#x27;passthrough&#x27;,\n                                                  [&#x27;n_host_total_listings_count&#x27;,\n                                                   &#x27;n_accommodates&#x27;,\n                                                   &#x27;n_bedrooms&#x27;, &#x27;n_beds&#x27;,\n                                                   &#x27;n_minimum_nights&#x27;,\n                                                   &#x27;n_maximum_nights&#x27;,\n                                                   &#x27;n_number_of_reviews&#x27;,\n                                                   &#x27;n_review_scores_value&#x27;,\n                                                   &#x27;d_ho...\n                                                   &#x27;d_sauna_hot_tub&#x27;, &#x27;d_pool&#x27;,\n                                                   &#x27;d_aircon&#x27;, &#x27;d_heating&#x27;,\n                                                   &#x27;d_scenic_view_access&#x27;,\n                                                   &#x27;d_parking&#x27;,\n                                                   &#x27;d_pets_allowed&#x27;,\n                                                   &#x27;d_patio_balcony&#x27;,\n                                                   &#x27;d_bodyshower&#x27;])])),\n                (&#x27;regressor&#x27;,\n                 GridSearchCV(cv=5,\n                              estimator=RandomForestRegressor(random_state=42),\n                              param_grid={&#x27;max_features&#x27;: [8, 10, 12],\n                                          &#x27;min_samples_leaf&#x27;: [5, 10, 15]},\n                              scoring=&#x27;neg_root_mean_squared_error&#x27;,\n                              verbose=3))],\n         verbose=True)</pre></div></div></div><div class=\"sk-serial\"><div class=\"sk-item sk-dashed-wrapped\"><div class=\"sk-label-container\"><div class=\"sk-label sk-toggleable\"><input class=\"sk-toggleable__control sk-hidden--visually\" id=\"sk-estimator-id-4\" type=\"checkbox\" ><label for=\"sk-estimator-id-4\" class=\"sk-toggleable__label sk-toggleable__label-arrow\">preprocess: ColumnTransformer</label><div class=\"sk-toggleable__content\"><pre>ColumnTransformer(transformers=[(&#x27;cat&#x27;, OneHotEncoder(handle_unknown=&#x27;ignore&#x27;),\n                                 [&#x27;f_neighbourhood_cleansed&#x27;, &#x27;f_property_type&#x27;,\n                                  &#x27;f_room_type&#x27;]),\n                                (&#x27;num&#x27;, &#x27;passthrough&#x27;,\n                                 [&#x27;n_host_total_listings_count&#x27;,\n                                  &#x27;n_accommodates&#x27;, &#x27;n_bedrooms&#x27;, &#x27;n_beds&#x27;,\n                                  &#x27;n_minimum_nights&#x27;, &#x27;n_maximum_nights&#x27;,\n                                  &#x27;n_number_of_reviews&#x27;,\n                                  &#x27;n_review_scores_value&#x27;,\n                                  &#x27;d_host_is_superhost&#x27;,\n                                  &#x27;d_host_has_profile_pic&#x27;,\n                                  &#x27;d_host_identity_verified&#x27;,\n                                  &#x27;d_instant_bookable&#x27;, &#x27;d_has_license&#x27;,\n                                  &#x27;n_host_since&#x27;, &#x27;n_bathrooms&#x27;,\n                                  &#x27;d_entertainment&#x27;, &#x27;d_wifi&#x27;, &#x27;d_kitchenware&#x27;,\n                                  &#x27;d_washer&#x27;, &#x27;d_sauna_hot_tub&#x27;, &#x27;d_pool&#x27;,\n                                  &#x27;d_aircon&#x27;, &#x27;d_heating&#x27;,\n                                  &#x27;d_scenic_view_access&#x27;, &#x27;d_parking&#x27;,\n                                  &#x27;d_pets_allowed&#x27;, &#x27;d_patio_balcony&#x27;,\n                                  &#x27;d_bodyshower&#x27;])])</pre></div></div></div><div class=\"sk-parallel\"><div class=\"sk-parallel-item\"><div class=\"sk-item\"><div class=\"sk-label-container\"><div class=\"sk-label sk-toggleable\"><input class=\"sk-toggleable__control sk-hidden--visually\" id=\"sk-estimator-id-5\" type=\"checkbox\" ><label for=\"sk-estimator-id-5\" class=\"sk-toggleable__label sk-toggleable__label-arrow\">cat</label><div class=\"sk-toggleable__content\"><pre>[&#x27;f_neighbourhood_cleansed&#x27;, &#x27;f_property_type&#x27;, &#x27;f_room_type&#x27;]</pre></div></div></div><div class=\"sk-serial\"><div class=\"sk-item\"><div class=\"sk-estimator sk-toggleable\"><input class=\"sk-toggleable__control sk-hidden--visually\" id=\"sk-estimator-id-6\" type=\"checkbox\" ><label for=\"sk-estimator-id-6\" class=\"sk-toggleable__label sk-toggleable__label-arrow\">OneHotEncoder</label><div class=\"sk-toggleable__content\"><pre>OneHotEncoder(handle_unknown=&#x27;ignore&#x27;)</pre></div></div></div></div></div></div><div class=\"sk-parallel-item\"><div class=\"sk-item\"><div class=\"sk-label-container\"><div class=\"sk-label sk-toggleable\"><input class=\"sk-toggleable__control sk-hidden--visually\" id=\"sk-estimator-id-7\" type=\"checkbox\" ><label for=\"sk-estimator-id-7\" class=\"sk-toggleable__label sk-toggleable__label-arrow\">num</label><div class=\"sk-toggleable__content\"><pre>[&#x27;n_host_total_listings_count&#x27;, &#x27;n_accommodates&#x27;, &#x27;n_bedrooms&#x27;, &#x27;n_beds&#x27;, &#x27;n_minimum_nights&#x27;, &#x27;n_maximum_nights&#x27;, &#x27;n_number_of_reviews&#x27;, &#x27;n_review_scores_value&#x27;, &#x27;d_host_is_superhost&#x27;, &#x27;d_host_has_profile_pic&#x27;, &#x27;d_host_identity_verified&#x27;, &#x27;d_instant_bookable&#x27;, &#x27;d_has_license&#x27;, &#x27;n_host_since&#x27;, &#x27;n_bathrooms&#x27;, &#x27;d_entertainment&#x27;, &#x27;d_wifi&#x27;, &#x27;d_kitchenware&#x27;, &#x27;d_washer&#x27;, &#x27;d_sauna_hot_tub&#x27;, &#x27;d_pool&#x27;, &#x27;d_aircon&#x27;, &#x27;d_heating&#x27;, &#x27;d_scenic_view_access&#x27;, &#x27;d_parking&#x27;, &#x27;d_pets_allowed&#x27;, &#x27;d_patio_balcony&#x27;, &#x27;d_bodyshower&#x27;]</pre></div></div></div><div class=\"sk-serial\"><div class=\"sk-item\"><div class=\"sk-estimator sk-toggleable\"><input class=\"sk-toggleable__control sk-hidden--visually\" id=\"sk-estimator-id-8\" type=\"checkbox\" ><label for=\"sk-estimator-id-8\" class=\"sk-toggleable__label sk-toggleable__label-arrow\">passthrough</label><div class=\"sk-toggleable__content\"><pre>passthrough</pre></div></div></div></div></div></div></div></div><div class=\"sk-item sk-dashed-wrapped\"><div class=\"sk-label-container\"><div class=\"sk-label sk-toggleable\"><input class=\"sk-toggleable__control sk-hidden--visually\" id=\"sk-estimator-id-9\" type=\"checkbox\" ><label for=\"sk-estimator-id-9\" class=\"sk-toggleable__label sk-toggleable__label-arrow\">regressor: GridSearchCV</label><div class=\"sk-toggleable__content\"><pre>GridSearchCV(cv=5, estimator=RandomForestRegressor(random_state=42),\n             param_grid={&#x27;max_features&#x27;: [8, 10, 12],\n                         &#x27;min_samples_leaf&#x27;: [5, 10, 15]},\n             scoring=&#x27;neg_root_mean_squared_error&#x27;, verbose=3)</pre></div></div></div><div class=\"sk-parallel\"><div class=\"sk-parallel-item\"><div class=\"sk-item\"><div class=\"sk-label-container\"><div class=\"sk-label sk-toggleable\"><input class=\"sk-toggleable__control sk-hidden--visually\" id=\"sk-estimator-id-10\" type=\"checkbox\" ><label for=\"sk-estimator-id-10\" class=\"sk-toggleable__label sk-toggleable__label-arrow\">estimator: RandomForestRegressor</label><div class=\"sk-toggleable__content\"><pre>RandomForestRegressor(random_state=42)</pre></div></div></div><div class=\"sk-serial\"><div class=\"sk-item\"><div class=\"sk-estimator sk-toggleable\"><input class=\"sk-toggleable__control sk-hidden--visually\" id=\"sk-estimator-id-11\" type=\"checkbox\" ><label for=\"sk-estimator-id-11\" class=\"sk-toggleable__label sk-toggleable__label-arrow\">RandomForestRegressor</label><div class=\"sk-toggleable__content\"><pre>RandomForestRegressor(random_state=42)</pre></div></div></div></div></div></div></div></div></div></div></div></div>"
     },
     "execution_count": 20,
     "metadata": {},
     "output_type": "execute_result"
    }
   ],
   "source": [
    "# train the RF\n",
    "start_time = datetime.now()\n",
    "rf_model = rf_pipe.fit(data_train[numerical_columns + categorical_columns], data_train['price'])\n",
    "rf_time = datetime.now() - start_time\n",
    "rf_model"
   ],
   "metadata": {
    "collapsed": false,
    "ExecuteTime": {
     "end_time": "2024-02-10T20:45:24.090713Z",
     "start_time": "2024-02-10T20:45:00.381698Z"
    }
   },
   "id": "c0cf19048e800bca",
   "execution_count": 20
  },
  {
   "cell_type": "code",
   "outputs": [],
   "source": [
    "df_rf_model_cv_results = pd.DataFrame(rf_random.cv_results_)[[\n",
    "    'param_max_features', 'param_min_samples_leaf', 'mean_test_score']]\n",
    "df_rf_model_cv_results.columns = ['max features', 'min node size', 'RMSE']\n",
    "df_rf_model_cv_results.pivot(\n",
    "    index = 'max features', \n",
    "    columns = 'min node size', \n",
    "    values = 'RMSE').round(2)*-1;"
   ],
   "metadata": {
    "collapsed": false,
    "ExecuteTime": {
     "end_time": "2024-02-10T20:45:24.099343Z",
     "start_time": "2024-02-10T20:45:24.091435Z"
    }
   },
   "id": "dc65093889d03531",
   "execution_count": 21
  },
  {
   "cell_type": "code",
   "outputs": [
    {
     "data": {
      "text/plain": "RandomForestRegressor(max_features=12, min_samples_leaf=5, random_state=42)",
      "text/html": "<style>#sk-container-id-4 {color: black;}#sk-container-id-4 pre{padding: 0;}#sk-container-id-4 div.sk-toggleable {background-color: white;}#sk-container-id-4 label.sk-toggleable__label {cursor: pointer;display: block;width: 100%;margin-bottom: 0;padding: 0.3em;box-sizing: border-box;text-align: center;}#sk-container-id-4 label.sk-toggleable__label-arrow:before {content: \"▸\";float: left;margin-right: 0.25em;color: #696969;}#sk-container-id-4 label.sk-toggleable__label-arrow:hover:before {color: black;}#sk-container-id-4 div.sk-estimator:hover label.sk-toggleable__label-arrow:before {color: black;}#sk-container-id-4 div.sk-toggleable__content {max-height: 0;max-width: 0;overflow: hidden;text-align: left;background-color: #f0f8ff;}#sk-container-id-4 div.sk-toggleable__content pre {margin: 0.2em;color: black;border-radius: 0.25em;background-color: #f0f8ff;}#sk-container-id-4 input.sk-toggleable__control:checked~div.sk-toggleable__content {max-height: 200px;max-width: 100%;overflow: auto;}#sk-container-id-4 input.sk-toggleable__control:checked~label.sk-toggleable__label-arrow:before {content: \"▾\";}#sk-container-id-4 div.sk-estimator input.sk-toggleable__control:checked~label.sk-toggleable__label {background-color: #d4ebff;}#sk-container-id-4 div.sk-label input.sk-toggleable__control:checked~label.sk-toggleable__label {background-color: #d4ebff;}#sk-container-id-4 input.sk-hidden--visually {border: 0;clip: rect(1px 1px 1px 1px);clip: rect(1px, 1px, 1px, 1px);height: 1px;margin: -1px;overflow: hidden;padding: 0;position: absolute;width: 1px;}#sk-container-id-4 div.sk-estimator {font-family: monospace;background-color: #f0f8ff;border: 1px dotted black;border-radius: 0.25em;box-sizing: border-box;margin-bottom: 0.5em;}#sk-container-id-4 div.sk-estimator:hover {background-color: #d4ebff;}#sk-container-id-4 div.sk-parallel-item::after {content: \"\";width: 100%;border-bottom: 1px solid gray;flex-grow: 1;}#sk-container-id-4 div.sk-label:hover label.sk-toggleable__label {background-color: #d4ebff;}#sk-container-id-4 div.sk-serial::before {content: \"\";position: absolute;border-left: 1px solid gray;box-sizing: border-box;top: 0;bottom: 0;left: 50%;z-index: 0;}#sk-container-id-4 div.sk-serial {display: flex;flex-direction: column;align-items: center;background-color: white;padding-right: 0.2em;padding-left: 0.2em;position: relative;}#sk-container-id-4 div.sk-item {position: relative;z-index: 1;}#sk-container-id-4 div.sk-parallel {display: flex;align-items: stretch;justify-content: center;background-color: white;position: relative;}#sk-container-id-4 div.sk-item::before, #sk-container-id-4 div.sk-parallel-item::before {content: \"\";position: absolute;border-left: 1px solid gray;box-sizing: border-box;top: 0;bottom: 0;left: 50%;z-index: -1;}#sk-container-id-4 div.sk-parallel-item {display: flex;flex-direction: column;z-index: 1;position: relative;background-color: white;}#sk-container-id-4 div.sk-parallel-item:first-child::after {align-self: flex-end;width: 50%;}#sk-container-id-4 div.sk-parallel-item:last-child::after {align-self: flex-start;width: 50%;}#sk-container-id-4 div.sk-parallel-item:only-child::after {width: 0;}#sk-container-id-4 div.sk-dashed-wrapped {border: 1px dashed gray;margin: 0 0.4em 0.5em 0.4em;box-sizing: border-box;padding-bottom: 0.4em;background-color: white;}#sk-container-id-4 div.sk-label label {font-family: monospace;font-weight: bold;display: inline-block;line-height: 1.2em;}#sk-container-id-4 div.sk-label-container {text-align: center;}#sk-container-id-4 div.sk-container {/* jupyter's `normalize.less` sets `[hidden] { display: none; }` but bootstrap.min.css set `[hidden] { display: none !important; }` so we also need the `!important` here to be able to override the default hidden behavior on the sphinx rendered scikit-learn.org. See: https://github.com/scikit-learn/scikit-learn/issues/21755 */display: inline-block !important;position: relative;}#sk-container-id-4 div.sk-text-repr-fallback {display: none;}</style><div id=\"sk-container-id-4\" class=\"sk-top-container\"><div class=\"sk-text-repr-fallback\"><pre>RandomForestRegressor(max_features=12, min_samples_leaf=5, random_state=42)</pre><b>In a Jupyter environment, please rerun this cell to show the HTML representation or trust the notebook. <br />On GitHub, the HTML representation is unable to render, please try loading this page with nbviewer.org.</b></div><div class=\"sk-container\" hidden><div class=\"sk-item\"><div class=\"sk-estimator sk-toggleable\"><input class=\"sk-toggleable__control sk-hidden--visually\" id=\"sk-estimator-id-12\" type=\"checkbox\" checked><label for=\"sk-estimator-id-12\" class=\"sk-toggleable__label sk-toggleable__label-arrow\">RandomForestRegressor</label><div class=\"sk-toggleable__content\"><pre>RandomForestRegressor(max_features=12, min_samples_leaf=5, random_state=42)</pre></div></div></div></div></div>"
     },
     "execution_count": 22,
     "metadata": {},
     "output_type": "execute_result"
    }
   ],
   "source": [
    "rf_random.best_estimator_"
   ],
   "metadata": {
    "collapsed": false,
    "ExecuteTime": {
     "end_time": "2024-02-10T20:45:24.103243Z",
     "start_time": "2024-02-10T20:45:24.097589Z"
    }
   },
   "id": "24cc571eafdc16a",
   "execution_count": 22
  },
  {
   "cell_type": "markdown",
   "source": [
    "Boosting"
   ],
   "metadata": {
    "collapsed": false
   },
   "id": "741ce477227228e4"
  },
  {
   "cell_type": "code",
   "outputs": [],
   "source": [
    "# build search for GBM\n",
    "gbm = GradientBoostingRegressor(learning_rate=0.01, random_state = 42)\n",
    "\n",
    "tune_grid = {\"n_estimators\": [200, 300, 500], \"max_depth\": [5, 10, 15], \"min_samples_leaf\": [5, 10, 15], \"max_features\": [8, 10, 12], 'min_samples_split': [10, 20, 30]}\n",
    "\n",
    "gbm_model_cv = GridSearchCV(\n",
    "    gbm,\n",
    "    tune_grid,\n",
    "    cv=5,\n",
    "    scoring=\"neg_root_mean_squared_error\",\n",
    "    verbose=10,\n",
    "    n_jobs=-1\n",
    ")\n",
    "\n",
    "# build pipeline for GBM\n",
    "gbm_pipe = Pipeline(\n",
    "    [(\"preprocess\", preprocessing), (\"regressor\", gbm_model_cv)], verbose=True\n",
    ")"
   ],
   "metadata": {
    "collapsed": false,
    "ExecuteTime": {
     "end_time": "2024-02-10T20:45:24.107857Z",
     "start_time": "2024-02-10T20:45:24.101901Z"
    }
   },
   "id": "4c0a6d23fa0e918",
   "execution_count": 23
  },
  {
   "cell_type": "code",
   "outputs": [
    {
     "name": "stdout",
     "output_type": "stream",
     "text": [
      "[Pipeline] ........ (step 1 of 2) Processing preprocess, total=   0.0s\n",
      "Fitting 5 folds for each of 243 candidates, totalling 1215 fits\n",
      "[CV 5/5; 1/243] START max_depth=5, max_features=8, min_samples_leaf=5, min_samples_split=10, n_estimators=200\n",
      "[CV 5/5; 1/243] END max_depth=5, max_features=8, min_samples_leaf=5, min_samples_split=10, n_estimators=200;, score=-46.669 total time=   0.8s\n",
      "[CV 5/5; 2/243] START max_depth=5, max_features=8, min_samples_leaf=5, min_samples_split=10, n_estimators=300\n",
      "[CV 5/5; 2/243] END max_depth=5, max_features=8, min_samples_leaf=5, min_samples_split=10, n_estimators=300;, score=-45.250 total time=   1.3s\n",
      "[CV 2/5; 4/243] START max_depth=5, max_features=8, min_samples_leaf=5, min_samples_split=20, n_estimators=200\n",
      "[CV 2/5; 4/243] END max_depth=5, max_features=8, min_samples_leaf=5, min_samples_split=20, n_estimators=200;, score=-44.562 total time=   0.9s\n",
      "[CV 3/5; 5/243] START max_depth=5, max_features=8, min_samples_leaf=5, min_samples_split=20, n_estimators=300\n",
      "[CV 3/5; 5/243] END max_depth=5, max_features=8, min_samples_leaf=5, min_samples_split=20, n_estimators=300;, score=-43.192 total time=   1.4s\n",
      "[CV 2/5; 7/243] START max_depth=5, max_features=8, min_samples_leaf=5, min_samples_split=30, n_estimators=200\n",
      "[CV 2/5; 7/243] END max_depth=5, max_features=8, min_samples_leaf=5, min_samples_split=30, n_estimators=200;, score=-44.594 total time=   0.8s\n",
      "[CV 4/5; 7/243] START max_depth=5, max_features=8, min_samples_leaf=5, min_samples_split=30, n_estimators=200\n",
      "[CV 4/5; 7/243] END max_depth=5, max_features=8, min_samples_leaf=5, min_samples_split=30, n_estimators=200;, score=-45.940 total time=   0.8s\n",
      "[CV 5/5; 8/243] START max_depth=5, max_features=8, min_samples_leaf=5, min_samples_split=30, n_estimators=300\n",
      "[CV 5/5; 8/243] END max_depth=5, max_features=8, min_samples_leaf=5, min_samples_split=30, n_estimators=300;, score=-45.289 total time=   1.3s\n",
      "[CV 3/5; 10/243] START max_depth=5, max_features=8, min_samples_leaf=10, min_samples_split=10, n_estimators=200\n",
      "[CV 3/5; 10/243] END max_depth=5, max_features=8, min_samples_leaf=10, min_samples_split=10, n_estimators=200;, score=-44.567 total time=   0.9s\n",
      "[CV 1/5; 11/243] START max_depth=5, max_features=8, min_samples_leaf=10, min_samples_split=10, n_estimators=300\n",
      "[CV 1/5; 11/243] END max_depth=5, max_features=8, min_samples_leaf=10, min_samples_split=10, n_estimators=300;, score=-45.435 total time=   1.3s\n",
      "[CV 4/5; 12/243] START max_depth=5, max_features=8, min_samples_leaf=10, min_samples_split=10, n_estimators=500\n",
      "[CV 4/5; 12/243] END max_depth=5, max_features=8, min_samples_leaf=10, min_samples_split=10, n_estimators=500;, score=-43.703 total time=   2.2s\n",
      "[CV 2/5; 15/243] START max_depth=5, max_features=8, min_samples_leaf=10, min_samples_split=20, n_estimators=500\n",
      "[CV 2/5; 15/243] END max_depth=5, max_features=8, min_samples_leaf=10, min_samples_split=20, n_estimators=500;, score=-42.410 total time=   2.1s\n",
      "[CV 3/5; 17/243] START max_depth=5, max_features=8, min_samples_leaf=10, min_samples_split=30, n_estimators=300\n",
      "[CV 3/5; 17/243] END max_depth=5, max_features=8, min_samples_leaf=10, min_samples_split=30, n_estimators=300;, score=-43.295 total time=   1.2s\n",
      "[CV 1/5; 19/243] START max_depth=5, max_features=8, min_samples_leaf=15, min_samples_split=10, n_estimators=200\n",
      "[CV 1/5; 19/243] END max_depth=5, max_features=8, min_samples_leaf=15, min_samples_split=10, n_estimators=200;, score=-46.778 total time=   1.0s\n",
      "[CV 4/5; 19/243] START max_depth=5, max_features=8, min_samples_leaf=15, min_samples_split=10, n_estimators=200\n",
      "[CV 4/5; 19/243] END max_depth=5, max_features=8, min_samples_leaf=15, min_samples_split=10, n_estimators=200;, score=-46.096 total time=   0.9s\n",
      "[CV 4/5; 20/243] START max_depth=5, max_features=8, min_samples_leaf=15, min_samples_split=10, n_estimators=300\n",
      "[CV 4/5; 20/243] END max_depth=5, max_features=8, min_samples_leaf=15, min_samples_split=10, n_estimators=300;, score=-44.916 total time=   1.3s\n",
      "[CV 2/5; 22/243] START max_depth=5, max_features=8, min_samples_leaf=15, min_samples_split=20, n_estimators=200\n",
      "[CV 2/5; 22/243] END max_depth=5, max_features=8, min_samples_leaf=15, min_samples_split=20, n_estimators=200;, score=-44.675 total time=   0.9s\n",
      "[CV 5/5; 22/243] START max_depth=5, max_features=8, min_samples_leaf=15, min_samples_split=20, n_estimators=200\n",
      "[CV 5/5; 22/243] END max_depth=5, max_features=8, min_samples_leaf=15, min_samples_split=20, n_estimators=200;, score=-46.795 total time=   0.9s\n",
      "[CV 1/5; 24/243] START max_depth=5, max_features=8, min_samples_leaf=15, min_samples_split=20, n_estimators=500\n",
      "[CV 1/5; 24/243] END max_depth=5, max_features=8, min_samples_leaf=15, min_samples_split=20, n_estimators=500;, score=-44.438 total time=   2.3s\n",
      "[CV 2/5; 26/243] START max_depth=5, max_features=8, min_samples_leaf=15, min_samples_split=30, n_estimators=300\n",
      "[CV 2/5; 26/243] END max_depth=5, max_features=8, min_samples_leaf=15, min_samples_split=30, n_estimators=300;, score=-43.491 total time=   1.3s\n",
      "[CV 1/5; 28/243] START max_depth=5, max_features=10, min_samples_leaf=5, min_samples_split=10, n_estimators=200\n",
      "[CV 1/5; 28/243] END max_depth=5, max_features=10, min_samples_leaf=5, min_samples_split=10, n_estimators=200;, score=-46.346 total time=   1.0s\n",
      "[CV 4/5; 28/243] START max_depth=5, max_features=10, min_samples_leaf=5, min_samples_split=10, n_estimators=200\n",
      "[CV 4/5; 28/243] END max_depth=5, max_features=10, min_samples_leaf=5, min_samples_split=10, n_estimators=200;, score=-45.686 total time=   1.1s\n",
      "[CV 2/5; 30/243] START max_depth=5, max_features=10, min_samples_leaf=5, min_samples_split=10, n_estimators=500\n",
      "[CV 2/5; 30/243] END max_depth=5, max_features=10, min_samples_leaf=5, min_samples_split=10, n_estimators=500;, score=-42.021 total time=   2.5s\n",
      "[CV 3/5; 32/243] START max_depth=5, max_features=10, min_samples_leaf=5, min_samples_split=20, n_estimators=300\n",
      "[CV 3/5; 32/243] END max_depth=5, max_features=10, min_samples_leaf=5, min_samples_split=20, n_estimators=300;, score=-42.973 total time=   1.5s\n",
      "[CV 1/5; 34/243] START max_depth=5, max_features=10, min_samples_leaf=5, min_samples_split=30, n_estimators=200\n",
      "[CV 1/5; 34/243] END max_depth=5, max_features=10, min_samples_leaf=5, min_samples_split=30, n_estimators=200;, score=-46.430 total time=   1.0s\n",
      "[CV 4/5; 34/243] START max_depth=5, max_features=10, min_samples_leaf=5, min_samples_split=30, n_estimators=200\n",
      "[CV 4/5; 34/243] END max_depth=5, max_features=10, min_samples_leaf=5, min_samples_split=30, n_estimators=200;, score=-45.791 total time=   1.0s\n",
      "[CV 4/5; 35/243] START max_depth=5, max_features=10, min_samples_leaf=5, min_samples_split=30, n_estimators=300\n",
      "[CV 4/5; 35/243] END max_depth=5, max_features=10, min_samples_leaf=5, min_samples_split=30, n_estimators=300;, score=-44.604 total time=   1.5s\n",
      "[CV 3/5; 37/243] START max_depth=5, max_features=10, min_samples_leaf=10, min_samples_split=10, n_estimators=200\n",
      "[CV 3/5; 37/243] END max_depth=5, max_features=10, min_samples_leaf=10, min_samples_split=10, n_estimators=200;, score=-44.183 total time=   0.9s\n",
      "[CV 4/5; 37/243] START max_depth=5, max_features=10, min_samples_leaf=10, min_samples_split=10, n_estimators=200\n",
      "[CV 4/5; 37/243] END max_depth=5, max_features=10, min_samples_leaf=10, min_samples_split=10, n_estimators=200;, score=-45.769 total time=   1.0s\n",
      "[CV 5/5; 38/243] START max_depth=5, max_features=10, min_samples_leaf=10, min_samples_split=10, n_estimators=300\n",
      "[CV 5/5; 38/243] END max_depth=5, max_features=10, min_samples_leaf=10, min_samples_split=10, n_estimators=300;, score=-45.160 total time=   1.5s\n",
      "[CV 3/5; 40/243] START max_depth=5, max_features=10, min_samples_leaf=10, min_samples_split=20, n_estimators=200\n",
      "[CV 3/5; 40/243] END max_depth=5, max_features=10, min_samples_leaf=10, min_samples_split=20, n_estimators=200;, score=-44.183 total time=   1.1s\n",
      "[CV 1/5; 41/243] START max_depth=5, max_features=10, min_samples_leaf=10, min_samples_split=20, n_estimators=300\n",
      "[CV 1/5; 41/243] END max_depth=5, max_features=10, min_samples_leaf=10, min_samples_split=20, n_estimators=300;, score=-45.266 total time=   1.6s\n",
      "[CV 5/5; 42/243] START max_depth=5, max_features=10, min_samples_leaf=10, min_samples_split=20, n_estimators=500\n",
      "[CV 5/5; 42/243] END max_depth=5, max_features=10, min_samples_leaf=10, min_samples_split=20, n_estimators=500;, score=-43.905 total time=   2.6s\n",
      "[CV 3/5; 45/243] START max_depth=5, max_features=10, min_samples_leaf=10, min_samples_split=30, n_estimators=500\n",
      "[CV 3/5; 45/243] END max_depth=5, max_features=10, min_samples_leaf=10, min_samples_split=30, n_estimators=500;, score=-42.057 total time=   2.3s\n",
      "[CV 3/5; 47/243] START max_depth=5, max_features=10, min_samples_leaf=15, min_samples_split=10, n_estimators=300\n",
      "[CV 3/5; 47/243] END max_depth=5, max_features=10, min_samples_leaf=15, min_samples_split=10, n_estimators=300;, score=-43.131 total time=   1.5s\n",
      "[CV 1/5; 49/243] START max_depth=5, max_features=10, min_samples_leaf=15, min_samples_split=20, n_estimators=200\n",
      "[CV 1/5; 49/243] END max_depth=5, max_features=10, min_samples_leaf=15, min_samples_split=20, n_estimators=200;, score=-46.521 total time=   1.0s\n",
      "[CV 4/5; 49/243] START max_depth=5, max_features=10, min_samples_leaf=15, min_samples_split=20, n_estimators=200\n",
      "[CV 4/5; 49/243] END max_depth=5, max_features=10, min_samples_leaf=15, min_samples_split=20, n_estimators=200;, score=-45.829 total time=   1.0s\n",
      "[CV 5/5; 50/243] START max_depth=5, max_features=10, min_samples_leaf=15, min_samples_split=20, n_estimators=300\n",
      "[CV 5/5; 50/243] END max_depth=5, max_features=10, min_samples_leaf=15, min_samples_split=20, n_estimators=300;, score=-45.219 total time=   1.6s\n",
      "[CV 3/5; 52/243] START max_depth=5, max_features=10, min_samples_leaf=15, min_samples_split=30, n_estimators=200\n",
      "[CV 3/5; 52/243] END max_depth=5, max_features=10, min_samples_leaf=15, min_samples_split=30, n_estimators=200;, score=-44.232 total time=   1.0s\n",
      "[CV 2/5; 53/243] START max_depth=5, max_features=10, min_samples_leaf=15, min_samples_split=30, n_estimators=300\n",
      "[CV 2/5; 53/243] END max_depth=5, max_features=10, min_samples_leaf=15, min_samples_split=30, n_estimators=300;, score=-43.303 total time=   1.6s\n",
      "[CV 5/5; 54/243] START max_depth=5, max_features=10, min_samples_leaf=15, min_samples_split=30, n_estimators=500\n",
      "[CV 5/5; 54/243] END max_depth=5, max_features=10, min_samples_leaf=15, min_samples_split=30, n_estimators=500;, score=-43.983 total time=   2.8s\n",
      "[CV 3/5; 57/243] START max_depth=5, max_features=12, min_samples_leaf=5, min_samples_split=10, n_estimators=500\n",
      "[CV 3/5; 57/243] END max_depth=5, max_features=12, min_samples_leaf=5, min_samples_split=10, n_estimators=500;, score=-41.868 total time=   3.1s\n",
      "[CV 4/5; 59/243] START max_depth=5, max_features=12, min_samples_leaf=5, min_samples_split=20, n_estimators=300\n",
      "[CV 4/5; 59/243] END max_depth=5, max_features=12, min_samples_leaf=5, min_samples_split=20, n_estimators=300;, score=-44.367 total time=   1.8s\n",
      "[CV 2/5; 61/243] START max_depth=5, max_features=12, min_samples_leaf=5, min_samples_split=30, n_estimators=200\n",
      "[CV 2/5; 61/243] END max_depth=5, max_features=12, min_samples_leaf=5, min_samples_split=30, n_estimators=200;, score=-44.183 total time=   1.2s\n",
      "[CV 5/5; 61/243] START max_depth=5, max_features=12, min_samples_leaf=5, min_samples_split=30, n_estimators=200\n",
      "[CV 5/5; 61/243] END max_depth=5, max_features=12, min_samples_leaf=5, min_samples_split=30, n_estimators=200;, score=-46.129 total time=   1.1s\n",
      "[CV 2/5; 63/243] START max_depth=5, max_features=12, min_samples_leaf=5, min_samples_split=30, n_estimators=500\n",
      "[CV 2/5; 63/243] END max_depth=5, max_features=12, min_samples_leaf=5, min_samples_split=30, n_estimators=500;, score=-42.084 total time=   2.8s\n",
      "[CV 1/5; 65/243] START max_depth=5, max_features=12, min_samples_leaf=10, min_samples_split=10, n_estimators=300\n",
      "[CV 1/5; 65/243] END max_depth=5, max_features=12, min_samples_leaf=10, min_samples_split=10, n_estimators=300;, score=-45.146 total time=   1.7s\n",
      "[CV 4/5; 66/243] START max_depth=5, max_features=12, min_samples_leaf=10, min_samples_split=10, n_estimators=500\n",
      "[CV 4/5; 66/243] END max_depth=5, max_features=12, min_samples_leaf=10, min_samples_split=10, n_estimators=500;, score=-43.443 total time=   3.0s\n",
      "[CV 2/5; 69/243] START max_depth=5, max_features=12, min_samples_leaf=10, min_samples_split=20, n_estimators=500\n",
      "[CV 2/5; 69/243] END max_depth=5, max_features=12, min_samples_leaf=10, min_samples_split=20, n_estimators=500;, score=-42.174 total time=   2.8s\n",
      "[CV 2/5; 71/243] START max_depth=5, max_features=12, min_samples_leaf=10, min_samples_split=30, n_estimators=300\n",
      "[CV 2/5; 71/243] END max_depth=5, max_features=12, min_samples_leaf=10, min_samples_split=30, n_estimators=300;, score=-43.161 total time=   1.9s\n",
      "[CV 1/5; 73/243] START max_depth=5, max_features=12, min_samples_leaf=15, min_samples_split=10, n_estimators=200\n",
      "[CV 1/5; 73/243] END max_depth=5, max_features=12, min_samples_leaf=15, min_samples_split=10, n_estimators=200;, score=-46.283 total time=   1.2s\n",
      "[CV 4/5; 73/243] START max_depth=5, max_features=12, min_samples_leaf=15, min_samples_split=10, n_estimators=200\n",
      "[CV 4/5; 73/243] END max_depth=5, max_features=12, min_samples_leaf=15, min_samples_split=10, n_estimators=200;, score=-45.521 total time=   1.1s\n",
      "[CV 5/5; 74/243] START max_depth=5, max_features=12, min_samples_leaf=15, min_samples_split=10, n_estimators=300\n",
      "[CV 5/5; 74/243] END max_depth=5, max_features=12, min_samples_leaf=15, min_samples_split=10, n_estimators=300;, score=-44.958 total time=   1.7s\n",
      "[CV 3/5; 76/243] START max_depth=5, max_features=12, min_samples_leaf=15, min_samples_split=20, n_estimators=200\n",
      "[CV 3/5; 76/243] END max_depth=5, max_features=12, min_samples_leaf=15, min_samples_split=20, n_estimators=200;, score=-44.062 total time=   1.2s\n",
      "[CV 2/5; 77/243] START max_depth=5, max_features=12, min_samples_leaf=15, min_samples_split=20, n_estimators=300\n",
      "[CV 2/5; 77/243] END max_depth=5, max_features=12, min_samples_leaf=15, min_samples_split=20, n_estimators=300;, score=-43.215 total time=   1.7s\n",
      "[CV 5/5; 78/243] START max_depth=5, max_features=12, min_samples_leaf=15, min_samples_split=20, n_estimators=500\n",
      "[CV 5/5; 78/243] END max_depth=5, max_features=12, min_samples_leaf=15, min_samples_split=20, n_estimators=500;, score=-43.866 total time=   2.9s\n",
      "[CV 1/5; 81/243] START max_depth=5, max_features=12, min_samples_leaf=15, min_samples_split=30, n_estimators=500\n",
      "[CV 1/5; 81/243] END max_depth=5, max_features=12, min_samples_leaf=15, min_samples_split=30, n_estimators=500;, score=-44.202 total time=   3.1s\n",
      "[CV 2/5; 83/243] START max_depth=10, max_features=8, min_samples_leaf=5, min_samples_split=10, n_estimators=300\n",
      "[CV 2/5; 83/243] END max_depth=10, max_features=8, min_samples_leaf=5, min_samples_split=10, n_estimators=300;, score=-40.729 total time=   2.4s\n",
      "[CV 1/5; 85/243] START max_depth=10, max_features=8, min_samples_leaf=5, min_samples_split=20, n_estimators=200\n",
      "[CV 1/5; 85/243] END max_depth=10, max_features=8, min_samples_leaf=5, min_samples_split=20, n_estimators=200;, score=-44.403 total time=   1.7s\n",
      "[CV 5/5; 85/243] START max_depth=10, max_features=8, min_samples_leaf=5, min_samples_split=20, n_estimators=200\n",
      "[CV 5/5; 85/243] END max_depth=10, max_features=8, min_samples_leaf=5, min_samples_split=20, n_estimators=200;, score=-43.953 total time=   1.5s\n",
      "[CV 5/5; 86/243] START max_depth=10, max_features=8, min_samples_leaf=5, min_samples_split=20, n_estimators=300\n",
      "[CV 5/5; 86/243] END max_depth=10, max_features=8, min_samples_leaf=5, min_samples_split=20, n_estimators=300;, score=-42.635 total time=   2.4s\n",
      "[CV 3/5; 88/243] START max_depth=10, max_features=8, min_samples_leaf=5, min_samples_split=30, n_estimators=200\n",
      "[CV 3/5; 88/243] END max_depth=10, max_features=8, min_samples_leaf=5, min_samples_split=30, n_estimators=200;, score=-42.145 total time=   1.6s\n",
      "[CV 3/5; 89/243] START max_depth=10, max_features=8, min_samples_leaf=5, min_samples_split=30, n_estimators=300\n",
      "[CV 3/5; 89/243] END max_depth=10, max_features=8, min_samples_leaf=5, min_samples_split=30, n_estimators=300;, score=-40.998 total time=   2.2s\n",
      "[CV 1/5; 91/243] START max_depth=10, max_features=8, min_samples_leaf=10, min_samples_split=10, n_estimators=200\n",
      "[CV 1/5; 91/243] END max_depth=10, max_features=8, min_samples_leaf=10, min_samples_split=10, n_estimators=200;, score=-44.657 total time=   1.5s\n",
      "[CV 3/5; 2/243] START max_depth=5, max_features=8, min_samples_leaf=5, min_samples_split=10, n_estimators=300\n",
      "[CV 3/5; 2/243] END max_depth=5, max_features=8, min_samples_leaf=5, min_samples_split=10, n_estimators=300;, score=-43.165 total time=   1.3s\n",
      "[CV 5/5; 3/243] START max_depth=5, max_features=8, min_samples_leaf=5, min_samples_split=10, n_estimators=500\n",
      "[CV 5/5; 3/243] END max_depth=5, max_features=8, min_samples_leaf=5, min_samples_split=10, n_estimators=500;, score=-43.901 total time=   2.1s\n",
      "[CV 2/5; 6/243] START max_depth=5, max_features=8, min_samples_leaf=5, min_samples_split=20, n_estimators=500\n",
      "[CV 2/5; 6/243] END max_depth=5, max_features=8, min_samples_leaf=5, min_samples_split=20, n_estimators=500;, score=-42.292 total time=   2.0s\n",
      "[CV 3/5; 8/243] START max_depth=5, max_features=8, min_samples_leaf=5, min_samples_split=30, n_estimators=300\n",
      "[CV 3/5; 8/243] END max_depth=5, max_features=8, min_samples_leaf=5, min_samples_split=30, n_estimators=300;, score=-43.300 total time=   1.3s\n",
      "[CV 1/5; 10/243] START max_depth=5, max_features=8, min_samples_leaf=10, min_samples_split=10, n_estimators=200\n",
      "[CV 1/5; 10/243] END max_depth=5, max_features=8, min_samples_leaf=10, min_samples_split=10, n_estimators=200;, score=-46.653 total time=   0.9s\n",
      "[CV 4/5; 10/243] START max_depth=5, max_features=8, min_samples_leaf=10, min_samples_split=10, n_estimators=200\n",
      "[CV 4/5; 10/243] END max_depth=5, max_features=8, min_samples_leaf=10, min_samples_split=10, n_estimators=200;, score=-46.009 total time=   0.9s\n",
      "[CV 3/5; 11/243] START max_depth=5, max_features=8, min_samples_leaf=10, min_samples_split=10, n_estimators=300\n",
      "[CV 3/5; 11/243] END max_depth=5, max_features=8, min_samples_leaf=10, min_samples_split=10, n_estimators=300;, score=-43.352 total time=   1.3s\n",
      "[CV 2/5; 13/243] START max_depth=5, max_features=8, min_samples_leaf=10, min_samples_split=20, n_estimators=200\n",
      "[CV 2/5; 13/243] END max_depth=5, max_features=8, min_samples_leaf=10, min_samples_split=20, n_estimators=200;, score=-44.645 total time=   0.9s\n",
      "[CV 5/5; 13/243] START max_depth=5, max_features=8, min_samples_leaf=10, min_samples_split=20, n_estimators=200\n",
      "[CV 5/5; 13/243] END max_depth=5, max_features=8, min_samples_leaf=10, min_samples_split=20, n_estimators=200;, score=-46.684 total time=   0.8s\n",
      "[CV 1/5; 15/243] START max_depth=5, max_features=8, min_samples_leaf=10, min_samples_split=20, n_estimators=500\n",
      "[CV 1/5; 15/243] END max_depth=5, max_features=8, min_samples_leaf=10, min_samples_split=20, n_estimators=500;, score=-44.357 total time=   2.1s\n",
      "[CV 2/5; 17/243] START max_depth=5, max_features=8, min_samples_leaf=10, min_samples_split=30, n_estimators=300\n",
      "[CV 2/5; 17/243] END max_depth=5, max_features=8, min_samples_leaf=10, min_samples_split=30, n_estimators=300;, score=-43.423 total time=   1.3s\n",
      "[CV 5/5; 18/243] START max_depth=5, max_features=8, min_samples_leaf=10, min_samples_split=30, n_estimators=500\n",
      "[CV 5/5; 18/243] END max_depth=5, max_features=8, min_samples_leaf=10, min_samples_split=30, n_estimators=500;, score=-44.007 total time=   2.4s\n",
      "[CV 3/5; 21/243] START max_depth=5, max_features=8, min_samples_leaf=15, min_samples_split=10, n_estimators=500\n",
      "[CV 3/5; 21/243] END max_depth=5, max_features=8, min_samples_leaf=15, min_samples_split=10, n_estimators=500;, score=-42.236 total time=   2.1s\n",
      "[CV 3/5; 23/243] START max_depth=5, max_features=8, min_samples_leaf=15, min_samples_split=20, n_estimators=300\n",
      "[CV 3/5; 23/243] END max_depth=5, max_features=8, min_samples_leaf=15, min_samples_split=20, n_estimators=300;, score=-43.382 total time=   1.3s\n",
      "[CV 1/5; 25/243] START max_depth=5, max_features=8, min_samples_leaf=15, min_samples_split=30, n_estimators=200\n",
      "[CV 1/5; 25/243] END max_depth=5, max_features=8, min_samples_leaf=15, min_samples_split=30, n_estimators=200;, score=-46.778 total time=   0.8s\n",
      "[CV 4/5; 25/243] START max_depth=5, max_features=8, min_samples_leaf=15, min_samples_split=30, n_estimators=200\n",
      "[CV 4/5; 25/243] END max_depth=5, max_features=8, min_samples_leaf=15, min_samples_split=30, n_estimators=200;, score=-46.096 total time=   0.9s\n",
      "[CV 4/5; 26/243] START max_depth=5, max_features=8, min_samples_leaf=15, min_samples_split=30, n_estimators=300\n",
      "[CV 4/5; 26/243] END max_depth=5, max_features=8, min_samples_leaf=15, min_samples_split=30, n_estimators=300;, score=-44.916 total time=   1.4s\n",
      "[CV 2/5; 28/243] START max_depth=5, max_features=10, min_samples_leaf=5, min_samples_split=10, n_estimators=200\n",
      "[CV 2/5; 28/243] END max_depth=5, max_features=10, min_samples_leaf=5, min_samples_split=10, n_estimators=200;, score=-44.257 total time=   1.0s\n",
      "[CV 5/5; 28/243] START max_depth=5, max_features=10, min_samples_leaf=5, min_samples_split=10, n_estimators=200\n",
      "[CV 5/5; 28/243] END max_depth=5, max_features=10, min_samples_leaf=5, min_samples_split=10, n_estimators=200;, score=-46.343 total time=   1.0s\n",
      "[CV 3/5; 30/243] START max_depth=5, max_features=10, min_samples_leaf=5, min_samples_split=10, n_estimators=500\n",
      "[CV 3/5; 30/243] END max_depth=5, max_features=10, min_samples_leaf=5, min_samples_split=10, n_estimators=500;, score=-41.922 total time=   2.8s\n",
      "[CV 5/5; 32/243] START max_depth=5, max_features=10, min_samples_leaf=5, min_samples_split=20, n_estimators=300\n",
      "[CV 5/5; 32/243] END max_depth=5, max_features=10, min_samples_leaf=5, min_samples_split=20, n_estimators=300;, score=-45.070 total time=   1.7s\n",
      "[CV 3/5; 34/243] START max_depth=5, max_features=10, min_samples_leaf=5, min_samples_split=30, n_estimators=200\n",
      "[CV 3/5; 34/243] END max_depth=5, max_features=10, min_samples_leaf=5, min_samples_split=30, n_estimators=200;, score=-44.158 total time=   1.1s\n",
      "[CV 2/5; 35/243] START max_depth=5, max_features=10, min_samples_leaf=5, min_samples_split=30, n_estimators=300\n",
      "[CV 2/5; 35/243] END max_depth=5, max_features=10, min_samples_leaf=5, min_samples_split=30, n_estimators=300;, score=-43.179 total time=   1.6s\n",
      "[CV 5/5; 36/243] START max_depth=5, max_features=10, min_samples_leaf=5, min_samples_split=30, n_estimators=500\n",
      "[CV 5/5; 36/243] END max_depth=5, max_features=10, min_samples_leaf=5, min_samples_split=30, n_estimators=500;, score=-43.899 total time=   2.3s\n",
      "[CV 2/5; 39/243] START max_depth=5, max_features=10, min_samples_leaf=10, min_samples_split=10, n_estimators=500\n",
      "[CV 2/5; 39/243] END max_depth=5, max_features=10, min_samples_leaf=10, min_samples_split=10, n_estimators=500;, score=-42.194 total time=   2.4s\n",
      "[CV 2/5; 41/243] START max_depth=5, max_features=10, min_samples_leaf=10, min_samples_split=20, n_estimators=300\n",
      "[CV 2/5; 41/243] END max_depth=5, max_features=10, min_samples_leaf=10, min_samples_split=20, n_estimators=300;, score=-43.231 total time=   1.5s\n",
      "[CV 4/5; 42/243] START max_depth=5, max_features=10, min_samples_leaf=10, min_samples_split=20, n_estimators=500\n",
      "[CV 4/5; 42/243] END max_depth=5, max_features=10, min_samples_leaf=10, min_samples_split=20, n_estimators=500;, score=-43.518 total time=   2.5s\n",
      "[CV 2/5; 45/243] START max_depth=5, max_features=10, min_samples_leaf=10, min_samples_split=30, n_estimators=500\n",
      "[CV 2/5; 45/243] END max_depth=5, max_features=10, min_samples_leaf=10, min_samples_split=30, n_estimators=500;, score=-42.198 total time=   2.5s\n",
      "[CV 4/5; 47/243] START max_depth=5, max_features=10, min_samples_leaf=15, min_samples_split=10, n_estimators=300\n",
      "[CV 4/5; 47/243] END max_depth=5, max_features=10, min_samples_leaf=15, min_samples_split=10, n_estimators=300;, score=-44.679 total time=   1.5s\n",
      "[CV 2/5; 49/243] START max_depth=5, max_features=10, min_samples_leaf=15, min_samples_split=20, n_estimators=200\n",
      "[CV 2/5; 49/243] END max_depth=5, max_features=10, min_samples_leaf=15, min_samples_split=20, n_estimators=200;, score=-44.393 total time=   1.1s\n",
      "[CV 5/5; 49/243] START max_depth=5, max_features=10, min_samples_leaf=15, min_samples_split=20, n_estimators=200\n",
      "[CV 5/5; 49/243] END max_depth=5, max_features=10, min_samples_leaf=15, min_samples_split=20, n_estimators=200;, score=-46.500 total time=   1.0s\n",
      "[CV 1/5; 51/243] START max_depth=5, max_features=10, min_samples_leaf=15, min_samples_split=20, n_estimators=500\n",
      "[CV 1/5; 51/243] END max_depth=5, max_features=10, min_samples_leaf=15, min_samples_split=20, n_estimators=500;, score=-44.366 total time=   2.4s\n",
      "[CV 1/5; 53/243] START max_depth=5, max_features=10, min_samples_leaf=15, min_samples_split=30, n_estimators=300\n",
      "[CV 1/5; 53/243] END max_depth=5, max_features=10, min_samples_leaf=15, min_samples_split=30, n_estimators=300;, score=-45.391 total time=   1.6s\n",
      "[CV 4/5; 54/243] START max_depth=5, max_features=10, min_samples_leaf=15, min_samples_split=30, n_estimators=500\n",
      "[CV 4/5; 54/243] END max_depth=5, max_features=10, min_samples_leaf=15, min_samples_split=30, n_estimators=500;, score=-43.572 total time=   2.6s\n",
      "[CV 5/5; 56/243] START max_depth=5, max_features=12, min_samples_leaf=5, min_samples_split=10, n_estimators=300\n",
      "[CV 5/5; 56/243] END max_depth=5, max_features=12, min_samples_leaf=5, min_samples_split=10, n_estimators=300;, score=-44.803 total time=   1.7s\n",
      "[CV 3/5; 58/243] START max_depth=5, max_features=12, min_samples_leaf=5, min_samples_split=20, n_estimators=200\n",
      "[CV 3/5; 58/243] END max_depth=5, max_features=12, min_samples_leaf=5, min_samples_split=20, n_estimators=200;, score=-43.993 total time=   1.2s\n",
      "[CV 2/5; 59/243] START max_depth=5, max_features=12, min_samples_leaf=5, min_samples_split=20, n_estimators=300\n",
      "[CV 2/5; 59/243] END max_depth=5, max_features=12, min_samples_leaf=5, min_samples_split=20, n_estimators=300;, score=-43.024 total time=   1.8s\n",
      "[CV 5/5; 60/243] START max_depth=5, max_features=12, min_samples_leaf=5, min_samples_split=20, n_estimators=500\n",
      "[CV 5/5; 60/243] END max_depth=5, max_features=12, min_samples_leaf=5, min_samples_split=20, n_estimators=500;, score=-43.712 total time=   2.8s\n",
      "[CV 3/5; 63/243] START max_depth=5, max_features=12, min_samples_leaf=5, min_samples_split=30, n_estimators=500\n",
      "[CV 3/5; 63/243] END max_depth=5, max_features=12, min_samples_leaf=5, min_samples_split=30, n_estimators=500;, score=-41.884 total time=   3.0s\n",
      "[CV 4/5; 65/243] START max_depth=5, max_features=12, min_samples_leaf=10, min_samples_split=10, n_estimators=300\n",
      "[CV 4/5; 65/243] END max_depth=5, max_features=12, min_samples_leaf=10, min_samples_split=10, n_estimators=300;, score=-44.430 total time=   1.7s\n",
      "[CV 1/5; 67/243] START max_depth=5, max_features=12, min_samples_leaf=10, min_samples_split=20, n_estimators=200\n",
      "[CV 1/5; 67/243] END max_depth=5, max_features=12, min_samples_leaf=10, min_samples_split=20, n_estimators=200;, score=-46.221 total time=   1.2s\n",
      "[CV 4/5; 67/243] START max_depth=5, max_features=12, min_samples_leaf=10, min_samples_split=20, n_estimators=200\n",
      "[CV 4/5; 67/243] END max_depth=5, max_features=12, min_samples_leaf=10, min_samples_split=20, n_estimators=200;, score=-45.506 total time=   1.1s\n",
      "[CV 4/5; 68/243] START max_depth=5, max_features=12, min_samples_leaf=10, min_samples_split=20, n_estimators=300\n",
      "[CV 4/5; 68/243] END max_depth=5, max_features=12, min_samples_leaf=10, min_samples_split=20, n_estimators=300;, score=-44.430 total time=   1.6s\n",
      "[CV 5/5; 69/243] START max_depth=5, max_features=12, min_samples_leaf=10, min_samples_split=20, n_estimators=500\n",
      "[CV 5/5; 69/243] END max_depth=5, max_features=12, min_samples_leaf=10, min_samples_split=20, n_estimators=500;, score=-43.804 total time=   2.8s\n",
      "[CV 2/5; 72/243] START max_depth=5, max_features=12, min_samples_leaf=10, min_samples_split=30, n_estimators=500\n",
      "[CV 2/5; 72/243] END max_depth=5, max_features=12, min_samples_leaf=10, min_samples_split=30, n_estimators=500;, score=-42.206 total time=   2.9s\n",
      "[CV 4/5; 74/243] START max_depth=5, max_features=12, min_samples_leaf=15, min_samples_split=10, n_estimators=300\n",
      "[CV 4/5; 74/243] END max_depth=5, max_features=12, min_samples_leaf=15, min_samples_split=10, n_estimators=300;, score=-44.461 total time=   1.7s\n",
      "[CV 1/5; 76/243] START max_depth=5, max_features=12, min_samples_leaf=15, min_samples_split=20, n_estimators=200\n",
      "[CV 1/5; 76/243] END max_depth=5, max_features=12, min_samples_leaf=15, min_samples_split=20, n_estimators=200;, score=-46.283 total time=   1.1s\n",
      "[CV 4/5; 76/243] START max_depth=5, max_features=12, min_samples_leaf=15, min_samples_split=20, n_estimators=200\n",
      "[CV 4/5; 76/243] END max_depth=5, max_features=12, min_samples_leaf=15, min_samples_split=20, n_estimators=200;, score=-45.521 total time=   1.1s\n",
      "[CV 5/5; 77/243] START max_depth=5, max_features=12, min_samples_leaf=15, min_samples_split=20, n_estimators=300\n",
      "[CV 5/5; 77/243] END max_depth=5, max_features=12, min_samples_leaf=15, min_samples_split=20, n_estimators=300;, score=-44.958 total time=   1.8s\n",
      "[CV 3/5; 79/243] START max_depth=5, max_features=12, min_samples_leaf=15, min_samples_split=30, n_estimators=200\n",
      "[CV 3/5; 79/243] END max_depth=5, max_features=12, min_samples_leaf=15, min_samples_split=30, n_estimators=200;, score=-44.062 total time=   1.2s\n",
      "[CV 1/5; 80/243] START max_depth=5, max_features=12, min_samples_leaf=15, min_samples_split=30, n_estimators=300\n",
      "[CV 1/5; 80/243] END max_depth=5, max_features=12, min_samples_leaf=15, min_samples_split=30, n_estimators=300;, score=-45.208 total time=   1.8s\n",
      "[CV 4/5; 81/243] START max_depth=5, max_features=12, min_samples_leaf=15, min_samples_split=30, n_estimators=500\n",
      "[CV 4/5; 81/243] END max_depth=5, max_features=12, min_samples_leaf=15, min_samples_split=30, n_estimators=500;, score=-43.459 total time=   2.8s\n",
      "[CV 5/5; 83/243] START max_depth=10, max_features=8, min_samples_leaf=5, min_samples_split=10, n_estimators=300\n",
      "[CV 5/5; 83/243] END max_depth=10, max_features=8, min_samples_leaf=5, min_samples_split=10, n_estimators=300;, score=-42.593 total time=   2.1s\n",
      "[CV 3/5; 85/243] START max_depth=10, max_features=8, min_samples_leaf=5, min_samples_split=20, n_estimators=200\n",
      "[CV 3/5; 85/243] END max_depth=10, max_features=8, min_samples_leaf=5, min_samples_split=20, n_estimators=200;, score=-41.854 total time=   1.6s\n",
      "[CV 1/5; 86/243] START max_depth=10, max_features=8, min_samples_leaf=5, min_samples_split=20, n_estimators=300\n",
      "[CV 1/5; 86/243] END max_depth=10, max_features=8, min_samples_leaf=5, min_samples_split=20, n_estimators=300;, score=-43.291 total time=   2.4s\n",
      "[CV 4/5; 87/243] START max_depth=10, max_features=8, min_samples_leaf=5, min_samples_split=20, n_estimators=500\n",
      "[CV 4/5; 87/243] END max_depth=10, max_features=8, min_samples_leaf=5, min_samples_split=20, n_estimators=500;, score=-41.185 total time=   3.8s\n",
      "[CV 5/5; 89/243] START max_depth=10, max_features=8, min_samples_leaf=5, min_samples_split=30, n_estimators=300\n",
      "[CV 5/5; 89/243] END max_depth=10, max_features=8, min_samples_leaf=5, min_samples_split=30, n_estimators=300;, score=-42.838 total time=   2.3s\n",
      "[CV 3/5; 91/243] START max_depth=10, max_features=8, min_samples_leaf=10, min_samples_split=10, n_estimators=200\n",
      "[CV 3/5; 91/243] END max_depth=10, max_features=8, min_samples_leaf=10, min_samples_split=10, n_estimators=200;, score=-42.195 total time=   1.5s\n",
      "[CV 2/5; 92/243] START max_depth=10, max_features=8, min_samples_leaf=10, min_samples_split=10, n_estimators=300\n",
      "[CV 2/5; 92/243] END max_depth=10, max_features=8, min_samples_leaf=10, min_samples_split=10, n_estimators=300;, score=-41.056 total time=   2.2s\n",
      "[CV 4/5; 93/243] START max_depth=10, max_features=8, min_samples_leaf=10, min_samples_split=10, n_estimators=500\n",
      "[CV 4/5; 93/243] END max_depth=10, max_features=8, min_samples_leaf=10, min_samples_split=10, n_estimators=500;, score=-41.423 total time=   3.9s\n",
      "[CV 2/5; 96/243] START max_depth=10, max_features=8, min_samples_leaf=10, min_samples_split=20, n_estimators=500\n",
      "[CV 2/5; 96/243] END max_depth=10, max_features=8, min_samples_leaf=10, min_samples_split=20, n_estimators=500;, score=-40.257 total time=   4.0s\n",
      "[CV 5/5; 98/243] START max_depth=10, max_features=8, min_samples_leaf=10, min_samples_split=30, n_estimators=300\n",
      "[CV 5/5; 98/243] END max_depth=10, max_features=8, min_samples_leaf=10, min_samples_split=30, n_estimators=300;, score=-43.046 total time=   2.4s\n",
      "[CV 3/5; 100/243] START max_depth=10, max_features=8, min_samples_leaf=15, min_samples_split=10, n_estimators=200\n",
      "[CV 3/5; 100/243] END max_depth=10, max_features=8, min_samples_leaf=15, min_samples_split=10, n_estimators=200;, score=-42.561 total time=   1.6s\n",
      "[CV 1/5; 2/243] START max_depth=5, max_features=8, min_samples_leaf=5, min_samples_split=10, n_estimators=300\n",
      "[CV 1/5; 2/243] END max_depth=5, max_features=8, min_samples_leaf=5, min_samples_split=10, n_estimators=300;, score=-45.435 total time=   1.4s\n",
      "[CV 1/5; 4/243] START max_depth=5, max_features=8, min_samples_leaf=5, min_samples_split=20, n_estimators=200\n",
      "[CV 1/5; 4/243] END max_depth=5, max_features=8, min_samples_leaf=5, min_samples_split=20, n_estimators=200;, score=-46.623 total time=   0.9s\n",
      "[CV 4/5; 4/243] START max_depth=5, max_features=8, min_samples_leaf=5, min_samples_split=20, n_estimators=200\n",
      "[CV 4/5; 4/243] END max_depth=5, max_features=8, min_samples_leaf=5, min_samples_split=20, n_estimators=200;, score=-45.939 total time=   1.0s\n",
      "[CV 1/5; 6/243] START max_depth=5, max_features=8, min_samples_leaf=5, min_samples_split=20, n_estimators=500\n",
      "[CV 1/5; 6/243] END max_depth=5, max_features=8, min_samples_leaf=5, min_samples_split=20, n_estimators=500;, score=-44.285 total time=   2.1s\n",
      "[CV 2/5; 8/243] START max_depth=5, max_features=8, min_samples_leaf=5, min_samples_split=30, n_estimators=300\n",
      "[CV 2/5; 8/243] END max_depth=5, max_features=8, min_samples_leaf=5, min_samples_split=30, n_estimators=300;, score=-43.408 total time=   1.2s\n",
      "[CV 5/5; 9/243] START max_depth=5, max_features=8, min_samples_leaf=5, min_samples_split=30, n_estimators=500\n",
      "[CV 5/5; 9/243] END max_depth=5, max_features=8, min_samples_leaf=5, min_samples_split=30, n_estimators=500;, score=-43.921 total time=   2.2s\n",
      "[CV 2/5; 12/243] START max_depth=5, max_features=8, min_samples_leaf=10, min_samples_split=10, n_estimators=500\n",
      "[CV 2/5; 12/243] END max_depth=5, max_features=8, min_samples_leaf=10, min_samples_split=10, n_estimators=500;, score=-42.410 total time=   2.2s\n",
      "[CV 3/5; 14/243] START max_depth=5, max_features=8, min_samples_leaf=10, min_samples_split=20, n_estimators=300\n",
      "[CV 3/5; 14/243] END max_depth=5, max_features=8, min_samples_leaf=10, min_samples_split=20, n_estimators=300;, score=-43.352 total time=   1.3s\n",
      "[CV 1/5; 16/243] START max_depth=5, max_features=8, min_samples_leaf=10, min_samples_split=30, n_estimators=200\n",
      "[CV 1/5; 16/243] END max_depth=5, max_features=8, min_samples_leaf=10, min_samples_split=30, n_estimators=200;, score=-46.686 total time=   1.0s\n",
      "[CV 5/5; 16/243] START max_depth=5, max_features=8, min_samples_leaf=10, min_samples_split=30, n_estimators=200\n",
      "[CV 5/5; 16/243] END max_depth=5, max_features=8, min_samples_leaf=10, min_samples_split=30, n_estimators=200;, score=-46.705 total time=   0.8s\n",
      "[CV 1/5; 18/243] START max_depth=5, max_features=8, min_samples_leaf=10, min_samples_split=30, n_estimators=500\n",
      "[CV 1/5; 18/243] END max_depth=5, max_features=8, min_samples_leaf=10, min_samples_split=30, n_estimators=500;, score=-44.351 total time=   2.3s\n",
      "[CV 1/5; 20/243] START max_depth=5, max_features=8, min_samples_leaf=15, min_samples_split=10, n_estimators=300\n",
      "[CV 1/5; 20/243] END max_depth=5, max_features=8, min_samples_leaf=15, min_samples_split=10, n_estimators=300;, score=-45.522 total time=   1.3s\n",
      "[CV 4/5; 21/243] START max_depth=5, max_features=8, min_samples_leaf=15, min_samples_split=10, n_estimators=500\n",
      "[CV 4/5; 21/243] END max_depth=5, max_features=8, min_samples_leaf=15, min_samples_split=10, n_estimators=500;, score=-43.756 total time=   2.4s\n",
      "[CV 4/5; 24/243] START max_depth=5, max_features=8, min_samples_leaf=15, min_samples_split=20, n_estimators=500\n",
      "[CV 4/5; 24/243] END max_depth=5, max_features=8, min_samples_leaf=15, min_samples_split=20, n_estimators=500;, score=-43.756 total time=   2.1s\n",
      "[CV 5/5; 26/243] START max_depth=5, max_features=8, min_samples_leaf=15, min_samples_split=30, n_estimators=300\n",
      "[CV 5/5; 26/243] END max_depth=5, max_features=8, min_samples_leaf=15, min_samples_split=30, n_estimators=300;, score=-45.454 total time=   1.4s\n",
      "[CV 3/5; 28/243] START max_depth=5, max_features=10, min_samples_leaf=5, min_samples_split=10, n_estimators=200\n",
      "[CV 3/5; 28/243] END max_depth=5, max_features=10, min_samples_leaf=5, min_samples_split=10, n_estimators=200;, score=-44.136 total time=   1.1s\n",
      "[CV 3/5; 29/243] START max_depth=5, max_features=10, min_samples_leaf=5, min_samples_split=10, n_estimators=300\n",
      "[CV 3/5; 29/243] END max_depth=5, max_features=10, min_samples_leaf=5, min_samples_split=10, n_estimators=300;, score=-42.990 total time=   1.4s\n",
      "[CV 5/5; 30/243] START max_depth=5, max_features=10, min_samples_leaf=5, min_samples_split=10, n_estimators=500\n",
      "[CV 5/5; 30/243] END max_depth=5, max_features=10, min_samples_leaf=5, min_samples_split=10, n_estimators=500;, score=-43.702 total time=   2.6s\n",
      "[CV 3/5; 33/243] START max_depth=5, max_features=10, min_samples_leaf=5, min_samples_split=20, n_estimators=500\n",
      "[CV 3/5; 33/243] END max_depth=5, max_features=10, min_samples_leaf=5, min_samples_split=20, n_estimators=500;, score=-41.896 total time=   2.7s\n",
      "[CV 3/5; 35/243] START max_depth=5, max_features=10, min_samples_leaf=5, min_samples_split=30, n_estimators=300\n",
      "[CV 3/5; 35/243] END max_depth=5, max_features=10, min_samples_leaf=5, min_samples_split=30, n_estimators=300;, score=-43.026 total time=   1.5s\n",
      "[CV 1/5; 37/243] START max_depth=5, max_features=10, min_samples_leaf=10, min_samples_split=10, n_estimators=200\n",
      "[CV 1/5; 37/243] END max_depth=5, max_features=10, min_samples_leaf=10, min_samples_split=10, n_estimators=200;, score=-46.373 total time=   1.1s\n",
      "[CV 5/5; 37/243] START max_depth=5, max_features=10, min_samples_leaf=10, min_samples_split=10, n_estimators=200\n",
      "[CV 5/5; 37/243] END max_depth=5, max_features=10, min_samples_leaf=10, min_samples_split=10, n_estimators=200;, score=-46.451 total time=   0.9s\n",
      "[CV 1/5; 39/243] START max_depth=5, max_features=10, min_samples_leaf=10, min_samples_split=10, n_estimators=500\n",
      "[CV 1/5; 39/243] END max_depth=5, max_features=10, min_samples_leaf=10, min_samples_split=10, n_estimators=500;, score=-44.262 total time=   2.7s\n",
      "[CV 3/5; 41/243] START max_depth=5, max_features=10, min_samples_leaf=10, min_samples_split=20, n_estimators=300\n",
      "[CV 3/5; 41/243] END max_depth=5, max_features=10, min_samples_leaf=10, min_samples_split=20, n_estimators=300;, score=-43.097 total time=   1.6s\n",
      "[CV 2/5; 43/243] START max_depth=5, max_features=10, min_samples_leaf=10, min_samples_split=30, n_estimators=200\n",
      "[CV 2/5; 43/243] END max_depth=5, max_features=10, min_samples_leaf=10, min_samples_split=30, n_estimators=200;, score=-44.352 total time=   1.0s\n",
      "[CV 4/5; 43/243] START max_depth=5, max_features=10, min_samples_leaf=10, min_samples_split=30, n_estimators=200\n",
      "[CV 4/5; 43/243] END max_depth=5, max_features=10, min_samples_leaf=10, min_samples_split=30, n_estimators=200;, score=-45.770 total time=   1.0s\n",
      "[CV 1/5; 45/243] START max_depth=5, max_features=10, min_samples_leaf=10, min_samples_split=30, n_estimators=500\n",
      "[CV 1/5; 45/243] END max_depth=5, max_features=10, min_samples_leaf=10, min_samples_split=30, n_estimators=500;, score=-44.352 total time=   2.5s\n",
      "[CV 1/5; 47/243] START max_depth=5, max_features=10, min_samples_leaf=15, min_samples_split=10, n_estimators=300\n",
      "[CV 1/5; 47/243] END max_depth=5, max_features=10, min_samples_leaf=15, min_samples_split=10, n_estimators=300;, score=-45.391 total time=   1.6s\n",
      "[CV 5/5; 48/243] START max_depth=5, max_features=10, min_samples_leaf=15, min_samples_split=10, n_estimators=500\n",
      "[CV 5/5; 48/243] END max_depth=5, max_features=10, min_samples_leaf=15, min_samples_split=10, n_estimators=500;, score=-43.983 total time=   2.5s\n",
      "[CV 3/5; 51/243] START max_depth=5, max_features=10, min_samples_leaf=15, min_samples_split=20, n_estimators=500\n",
      "[CV 3/5; 51/243] END max_depth=5, max_features=10, min_samples_leaf=15, min_samples_split=20, n_estimators=500;, score=-42.100 total time=   2.5s\n",
      "[CV 4/5; 53/243] START max_depth=5, max_features=10, min_samples_leaf=15, min_samples_split=30, n_estimators=300\n",
      "[CV 4/5; 53/243] END max_depth=5, max_features=10, min_samples_leaf=15, min_samples_split=30, n_estimators=300;, score=-44.679 total time=   1.6s\n",
      "[CV 2/5; 55/243] START max_depth=5, max_features=12, min_samples_leaf=5, min_samples_split=10, n_estimators=200\n",
      "[CV 2/5; 55/243] END max_depth=5, max_features=12, min_samples_leaf=5, min_samples_split=10, n_estimators=200;, score=-44.187 total time=   1.1s\n",
      "[CV 5/5; 55/243] START max_depth=5, max_features=12, min_samples_leaf=5, min_samples_split=10, n_estimators=200\n",
      "[CV 5/5; 55/243] END max_depth=5, max_features=12, min_samples_leaf=5, min_samples_split=10, n_estimators=200;, score=-46.089 total time=   1.1s\n",
      "[CV 2/5; 57/243] START max_depth=5, max_features=12, min_samples_leaf=5, min_samples_split=10, n_estimators=500\n",
      "[CV 2/5; 57/243] END max_depth=5, max_features=12, min_samples_leaf=5, min_samples_split=10, n_estimators=500;, score=-42.075 total time=   3.0s\n",
      "[CV 3/5; 59/243] START max_depth=5, max_features=12, min_samples_leaf=5, min_samples_split=20, n_estimators=300\n",
      "[CV 3/5; 59/243] END max_depth=5, max_features=12, min_samples_leaf=5, min_samples_split=20, n_estimators=300;, score=-42.913 total time=   1.7s\n",
      "[CV 1/5; 61/243] START max_depth=5, max_features=12, min_samples_leaf=5, min_samples_split=30, n_estimators=200\n",
      "[CV 1/5; 61/243] END max_depth=5, max_features=12, min_samples_leaf=5, min_samples_split=30, n_estimators=200;, score=-46.186 total time=   1.2s\n",
      "[CV 4/5; 61/243] START max_depth=5, max_features=12, min_samples_leaf=5, min_samples_split=30, n_estimators=200\n",
      "[CV 4/5; 61/243] END max_depth=5, max_features=12, min_samples_leaf=5, min_samples_split=30, n_estimators=200;, score=-45.471 total time=   1.2s\n",
      "[CV 5/5; 62/243] START max_depth=5, max_features=12, min_samples_leaf=5, min_samples_split=30, n_estimators=300\n",
      "[CV 5/5; 62/243] END max_depth=5, max_features=12, min_samples_leaf=5, min_samples_split=30, n_estimators=300;, score=-44.902 total time=   1.8s\n",
      "[CV 3/5; 64/243] START max_depth=5, max_features=12, min_samples_leaf=10, min_samples_split=10, n_estimators=200\n",
      "[CV 3/5; 64/243] END max_depth=5, max_features=12, min_samples_leaf=10, min_samples_split=10, n_estimators=200;, score=-44.061 total time=   1.2s\n",
      "[CV 2/5; 65/243] START max_depth=5, max_features=12, min_samples_leaf=10, min_samples_split=10, n_estimators=300\n",
      "[CV 2/5; 65/243] END max_depth=5, max_features=12, min_samples_leaf=10, min_samples_split=10, n_estimators=300;, score=-43.186 total time=   1.8s\n",
      "[CV 5/5; 66/243] START max_depth=5, max_features=12, min_samples_leaf=10, min_samples_split=10, n_estimators=500\n",
      "[CV 5/5; 66/243] END max_depth=5, max_features=12, min_samples_leaf=10, min_samples_split=10, n_estimators=500;, score=-43.804 total time=   2.9s\n",
      "[CV 3/5; 69/243] START max_depth=5, max_features=12, min_samples_leaf=10, min_samples_split=20, n_estimators=500\n",
      "[CV 3/5; 69/243] END max_depth=5, max_features=12, min_samples_leaf=10, min_samples_split=20, n_estimators=500;, score=-42.028 total time=   3.0s\n",
      "[CV 4/5; 71/243] START max_depth=5, max_features=12, min_samples_leaf=10, min_samples_split=30, n_estimators=300\n",
      "[CV 4/5; 71/243] END max_depth=5, max_features=12, min_samples_leaf=10, min_samples_split=30, n_estimators=300;, score=-44.457 total time=   1.7s\n",
      "[CV 2/5; 73/243] START max_depth=5, max_features=12, min_samples_leaf=15, min_samples_split=10, n_estimators=200\n",
      "[CV 2/5; 73/243] END max_depth=5, max_features=12, min_samples_leaf=15, min_samples_split=10, n_estimators=200;, score=-44.254 total time=   1.2s\n",
      "[CV 5/5; 73/243] START max_depth=5, max_features=12, min_samples_leaf=15, min_samples_split=10, n_estimators=200\n",
      "[CV 5/5; 73/243] END max_depth=5, max_features=12, min_samples_leaf=15, min_samples_split=10, n_estimators=200;, score=-46.178 total time=   1.1s\n",
      "[CV 1/5; 75/243] START max_depth=5, max_features=12, min_samples_leaf=15, min_samples_split=10, n_estimators=500\n",
      "[CV 1/5; 75/243] END max_depth=5, max_features=12, min_samples_leaf=15, min_samples_split=10, n_estimators=500;, score=-44.202 total time=   2.8s\n",
      "[CV 5/5; 76/243] START max_depth=5, max_features=12, min_samples_leaf=15, min_samples_split=20, n_estimators=200\n",
      "[CV 5/5; 76/243] END max_depth=5, max_features=12, min_samples_leaf=15, min_samples_split=20, n_estimators=200;, score=-46.178 total time=   1.2s\n",
      "[CV 1/5; 78/243] START max_depth=5, max_features=12, min_samples_leaf=15, min_samples_split=20, n_estimators=500\n",
      "[CV 1/5; 78/243] END max_depth=5, max_features=12, min_samples_leaf=15, min_samples_split=20, n_estimators=500;, score=-44.202 total time=   3.0s\n",
      "[CV 2/5; 80/243] START max_depth=5, max_features=12, min_samples_leaf=15, min_samples_split=30, n_estimators=300\n",
      "[CV 2/5; 80/243] END max_depth=5, max_features=12, min_samples_leaf=15, min_samples_split=30, n_estimators=300;, score=-43.215 total time=   1.7s\n",
      "[CV 5/5; 81/243] START max_depth=5, max_features=12, min_samples_leaf=15, min_samples_split=30, n_estimators=500\n",
      "[CV 5/5; 81/243] END max_depth=5, max_features=12, min_samples_leaf=15, min_samples_split=30, n_estimators=500;, score=-43.866 total time=   2.9s\n",
      "[CV 1/5; 84/243] START max_depth=10, max_features=8, min_samples_leaf=5, min_samples_split=10, n_estimators=500\n",
      "[CV 1/5; 84/243] END max_depth=10, max_features=8, min_samples_leaf=5, min_samples_split=10, n_estimators=500;, score=-42.394 total time=   3.9s\n",
      "[CV 2/5; 86/243] START max_depth=10, max_features=8, min_samples_leaf=5, min_samples_split=20, n_estimators=300\n",
      "[CV 2/5; 86/243] END max_depth=10, max_features=8, min_samples_leaf=5, min_samples_split=20, n_estimators=300;, score=-40.870 total time=   2.3s\n",
      "[CV 5/5; 87/243] START max_depth=10, max_features=8, min_samples_leaf=5, min_samples_split=20, n_estimators=500\n",
      "[CV 5/5; 87/243] END max_depth=10, max_features=8, min_samples_leaf=5, min_samples_split=20, n_estimators=500;, score=-41.618 total time=   3.7s\n",
      "[CV 3/5; 90/243] START max_depth=10, max_features=8, min_samples_leaf=5, min_samples_split=30, n_estimators=500\n",
      "[CV 3/5; 90/243] END max_depth=10, max_features=8, min_samples_leaf=5, min_samples_split=30, n_estimators=500;, score=-40.092 total time=   3.9s\n",
      "[CV 4/5; 92/243] START max_depth=10, max_features=8, min_samples_leaf=10, min_samples_split=10, n_estimators=300\n",
      "[CV 4/5; 92/243] END max_depth=10, max_features=8, min_samples_leaf=10, min_samples_split=10, n_estimators=300;, score=-42.463 total time=   2.4s\n",
      "[CV 2/5; 94/243] START max_depth=10, max_features=8, min_samples_leaf=10, min_samples_split=20, n_estimators=200\n",
      "[CV 2/5; 94/243] END max_depth=10, max_features=8, min_samples_leaf=10, min_samples_split=20, n_estimators=200;, score=-42.197 total time=   1.5s\n",
      "[CV 5/5; 94/243] START max_depth=10, max_features=8, min_samples_leaf=10, min_samples_split=20, n_estimators=200\n",
      "[CV 5/5; 94/243] END max_depth=10, max_features=8, min_samples_leaf=10, min_samples_split=20, n_estimators=200;, score=-44.155 total time=   1.4s\n",
      "[CV 1/5; 96/243] START max_depth=10, max_features=8, min_samples_leaf=10, min_samples_split=20, n_estimators=500\n",
      "[CV 1/5; 96/243] END max_depth=10, max_features=8, min_samples_leaf=10, min_samples_split=20, n_estimators=500;, score=-42.695 total time=   3.8s\n",
      "[CV 1/5; 98/243] START max_depth=10, max_features=8, min_samples_leaf=10, min_samples_split=30, n_estimators=300\n",
      "[CV 1/5; 98/243] END max_depth=10, max_features=8, min_samples_leaf=10, min_samples_split=30, n_estimators=300;, score=-43.660 total time=   2.1s\n",
      "[CV 4/5; 99/243] START max_depth=10, max_features=8, min_samples_leaf=10, min_samples_split=30, n_estimators=500\n",
      "[CV 4/5; 99/243] END max_depth=10, max_features=8, min_samples_leaf=10, min_samples_split=30, n_estimators=500;, score=-41.415 total time=   3.8s\n",
      "[CV 5/5; 101/243] START max_depth=10, max_features=8, min_samples_leaf=15, min_samples_split=10, n_estimators=300\n",
      "[CV 5/5; 101/243] END max_depth=10, max_features=8, min_samples_leaf=15, min_samples_split=10, n_estimators=300;, score=-43.223 total time=   2.2s\n",
      "[CV 3/5; 103/243] START max_depth=10, max_features=8, min_samples_leaf=15, min_samples_split=20, n_estimators=200\n",
      "[CV 3/5; 103/243] END max_depth=10, max_features=8, min_samples_leaf=15, min_samples_split=20, n_estimators=200;, score=-42.561 total time=   1.6s\n",
      "[CV 1/5; 104/243] START max_depth=10, max_features=8, min_samples_leaf=15, min_samples_split=20, n_estimators=300\n",
      "[CV 1/5; 104/243] END max_depth=10, max_features=8, min_samples_leaf=15, min_samples_split=20, n_estimators=300;, score=-43.714 total time=   2.4s\n",
      "[CV 2/5; 2/243] START max_depth=5, max_features=8, min_samples_leaf=5, min_samples_split=10, n_estimators=300\n",
      "[CV 2/5; 2/243] END max_depth=5, max_features=8, min_samples_leaf=5, min_samples_split=10, n_estimators=300;, score=-43.357 total time=   1.2s\n",
      "[CV 4/5; 3/243] START max_depth=5, max_features=8, min_samples_leaf=5, min_samples_split=10, n_estimators=500\n",
      "[CV 4/5; 3/243] END max_depth=5, max_features=8, min_samples_leaf=5, min_samples_split=10, n_estimators=500;, score=-43.508 total time=   2.0s\n",
      "[CV 5/5; 5/243] START max_depth=5, max_features=8, min_samples_leaf=5, min_samples_split=20, n_estimators=300\n",
      "[CV 5/5; 5/243] END max_depth=5, max_features=8, min_samples_leaf=5, min_samples_split=20, n_estimators=300;, score=-45.166 total time=   1.3s\n",
      "[CV 3/5; 7/243] START max_depth=5, max_features=8, min_samples_leaf=5, min_samples_split=30, n_estimators=200\n",
      "[CV 3/5; 7/243] END max_depth=5, max_features=8, min_samples_leaf=5, min_samples_split=30, n_estimators=200;, score=-44.520 total time=   0.8s\n",
      "[CV 1/5; 8/243] START max_depth=5, max_features=8, min_samples_leaf=5, min_samples_split=30, n_estimators=300\n",
      "[CV 1/5; 8/243] END max_depth=5, max_features=8, min_samples_leaf=5, min_samples_split=30, n_estimators=300;, score=-45.475 total time=   1.3s\n",
      "[CV 4/5; 9/243] START max_depth=5, max_features=8, min_samples_leaf=5, min_samples_split=30, n_estimators=500\n",
      "[CV 4/5; 9/243] END max_depth=5, max_features=8, min_samples_leaf=5, min_samples_split=30, n_estimators=500;, score=-43.591 total time=   2.2s\n",
      "[CV 1/5; 12/243] START max_depth=5, max_features=8, min_samples_leaf=10, min_samples_split=10, n_estimators=500\n",
      "[CV 1/5; 12/243] END max_depth=5, max_features=8, min_samples_leaf=10, min_samples_split=10, n_estimators=500;, score=-44.357 total time=   2.2s\n",
      "[CV 2/5; 14/243] START max_depth=5, max_features=8, min_samples_leaf=10, min_samples_split=20, n_estimators=300\n",
      "[CV 2/5; 14/243] END max_depth=5, max_features=8, min_samples_leaf=10, min_samples_split=20, n_estimators=300;, score=-43.455 total time=   1.3s\n",
      "[CV 5/5; 15/243] START max_depth=5, max_features=8, min_samples_leaf=10, min_samples_split=20, n_estimators=500\n",
      "[CV 5/5; 15/243] END max_depth=5, max_features=8, min_samples_leaf=10, min_samples_split=20, n_estimators=500;, score=-43.989 total time=   2.2s\n",
      "[CV 2/5; 18/243] START max_depth=5, max_features=8, min_samples_leaf=10, min_samples_split=30, n_estimators=500\n",
      "[CV 2/5; 18/243] END max_depth=5, max_features=8, min_samples_leaf=10, min_samples_split=30, n_estimators=500;, score=-42.386 total time=   2.2s\n",
      "[CV 3/5; 20/243] START max_depth=5, max_features=8, min_samples_leaf=15, min_samples_split=10, n_estimators=300\n",
      "[CV 3/5; 20/243] END max_depth=5, max_features=8, min_samples_leaf=15, min_samples_split=10, n_estimators=300;, score=-43.382 total time=   1.4s\n",
      "[CV 1/5; 22/243] START max_depth=5, max_features=8, min_samples_leaf=15, min_samples_split=20, n_estimators=200\n",
      "[CV 1/5; 22/243] END max_depth=5, max_features=8, min_samples_leaf=15, min_samples_split=20, n_estimators=200;, score=-46.778 total time=   0.8s\n",
      "[CV 4/5; 22/243] START max_depth=5, max_features=8, min_samples_leaf=15, min_samples_split=20, n_estimators=200\n",
      "[CV 4/5; 22/243] END max_depth=5, max_features=8, min_samples_leaf=15, min_samples_split=20, n_estimators=200;, score=-46.096 total time=   0.8s\n",
      "[CV 5/5; 23/243] START max_depth=5, max_features=8, min_samples_leaf=15, min_samples_split=20, n_estimators=300\n",
      "[CV 5/5; 23/243] END max_depth=5, max_features=8, min_samples_leaf=15, min_samples_split=20, n_estimators=300;, score=-45.454 total time=   1.2s\n",
      "[CV 3/5; 25/243] START max_depth=5, max_features=8, min_samples_leaf=15, min_samples_split=30, n_estimators=200\n",
      "[CV 3/5; 25/243] END max_depth=5, max_features=8, min_samples_leaf=15, min_samples_split=30, n_estimators=200;, score=-44.594 total time=   0.8s\n",
      "[CV 5/5; 25/243] START max_depth=5, max_features=8, min_samples_leaf=15, min_samples_split=30, n_estimators=200\n",
      "[CV 5/5; 25/243] END max_depth=5, max_features=8, min_samples_leaf=15, min_samples_split=30, n_estimators=200;, score=-46.795 total time=   0.9s\n",
      "[CV 2/5; 27/243] START max_depth=5, max_features=8, min_samples_leaf=15, min_samples_split=30, n_estimators=500\n",
      "[CV 2/5; 27/243] END max_depth=5, max_features=8, min_samples_leaf=15, min_samples_split=30, n_estimators=500;, score=-42.440 total time=   2.2s\n",
      "[CV 2/5; 29/243] START max_depth=5, max_features=10, min_samples_leaf=5, min_samples_split=10, n_estimators=300\n",
      "[CV 2/5; 29/243] END max_depth=5, max_features=10, min_samples_leaf=5, min_samples_split=10, n_estimators=300;, score=-43.102 total time=   1.5s\n",
      "[CV 1/5; 31/243] START max_depth=5, max_features=10, min_samples_leaf=5, min_samples_split=20, n_estimators=200\n",
      "[CV 1/5; 31/243] END max_depth=5, max_features=10, min_samples_leaf=5, min_samples_split=20, n_estimators=200;, score=-46.369 total time=   1.0s\n",
      "[CV 4/5; 31/243] START max_depth=5, max_features=10, min_samples_leaf=5, min_samples_split=20, n_estimators=200\n",
      "[CV 4/5; 31/243] END max_depth=5, max_features=10, min_samples_leaf=5, min_samples_split=20, n_estimators=200;, score=-45.716 total time=   1.0s\n",
      "[CV 4/5; 32/243] START max_depth=5, max_features=10, min_samples_leaf=5, min_samples_split=20, n_estimators=300\n",
      "[CV 4/5; 32/243] END max_depth=5, max_features=10, min_samples_leaf=5, min_samples_split=20, n_estimators=300;, score=-44.530 total time=   1.7s\n",
      "[CV 2/5; 34/243] START max_depth=5, max_features=10, min_samples_leaf=5, min_samples_split=30, n_estimators=200\n",
      "[CV 2/5; 34/243] END max_depth=5, max_features=10, min_samples_leaf=5, min_samples_split=30, n_estimators=200;, score=-44.351 total time=   1.0s\n",
      "[CV 5/5; 34/243] START max_depth=5, max_features=10, min_samples_leaf=5, min_samples_split=30, n_estimators=200\n",
      "[CV 5/5; 34/243] END max_depth=5, max_features=10, min_samples_leaf=5, min_samples_split=30, n_estimators=200;, score=-46.464 total time=   0.9s\n",
      "[CV 2/5; 36/243] START max_depth=5, max_features=10, min_samples_leaf=5, min_samples_split=30, n_estimators=500\n",
      "[CV 2/5; 36/243] END max_depth=5, max_features=10, min_samples_leaf=5, min_samples_split=30, n_estimators=500;, score=-42.117 total time=   2.8s\n",
      "[CV 4/5; 38/243] START max_depth=5, max_features=10, min_samples_leaf=10, min_samples_split=10, n_estimators=300\n",
      "[CV 4/5; 38/243] END max_depth=5, max_features=10, min_samples_leaf=10, min_samples_split=10, n_estimators=300;, score=-44.601 total time=   1.6s\n",
      "[CV 2/5; 40/243] START max_depth=5, max_features=10, min_samples_leaf=10, min_samples_split=20, n_estimators=200\n",
      "[CV 2/5; 40/243] END max_depth=5, max_features=10, min_samples_leaf=10, min_samples_split=20, n_estimators=200;, score=-44.319 total time=   1.0s\n",
      "[CV 5/5; 40/243] START max_depth=5, max_features=10, min_samples_leaf=10, min_samples_split=20, n_estimators=200\n",
      "[CV 5/5; 40/243] END max_depth=5, max_features=10, min_samples_leaf=10, min_samples_split=20, n_estimators=200;, score=-46.451 total time=   1.0s\n",
      "[CV 2/5; 42/243] START max_depth=5, max_features=10, min_samples_leaf=10, min_samples_split=20, n_estimators=500\n",
      "[CV 2/5; 42/243] END max_depth=5, max_features=10, min_samples_leaf=10, min_samples_split=20, n_estimators=500;, score=-42.194 total time=   2.7s\n",
      "[CV 3/5; 44/243] START max_depth=5, max_features=10, min_samples_leaf=10, min_samples_split=30, n_estimators=300\n",
      "[CV 3/5; 44/243] END max_depth=5, max_features=10, min_samples_leaf=10, min_samples_split=30, n_estimators=300;, score=-43.091 total time=   1.6s\n",
      "[CV 1/5; 46/243] START max_depth=5, max_features=10, min_samples_leaf=15, min_samples_split=10, n_estimators=200\n",
      "[CV 1/5; 46/243] END max_depth=5, max_features=10, min_samples_leaf=15, min_samples_split=10, n_estimators=200;, score=-46.521 total time=   1.1s\n",
      "[CV 4/5; 46/243] START max_depth=5, max_features=10, min_samples_leaf=15, min_samples_split=10, n_estimators=200\n",
      "[CV 4/5; 46/243] END max_depth=5, max_features=10, min_samples_leaf=15, min_samples_split=10, n_estimators=200;, score=-45.829 total time=   1.0s\n",
      "[CV 1/5; 48/243] START max_depth=5, max_features=10, min_samples_leaf=15, min_samples_split=10, n_estimators=500\n",
      "[CV 1/5; 48/243] END max_depth=5, max_features=10, min_samples_leaf=15, min_samples_split=10, n_estimators=500;, score=-44.366 total time=   2.6s\n",
      "[CV 1/5; 50/243] START max_depth=5, max_features=10, min_samples_leaf=15, min_samples_split=20, n_estimators=300\n",
      "[CV 1/5; 50/243] END max_depth=5, max_features=10, min_samples_leaf=15, min_samples_split=20, n_estimators=300;, score=-45.391 total time=   1.5s\n",
      "[CV 4/5; 51/243] START max_depth=5, max_features=10, min_samples_leaf=15, min_samples_split=20, n_estimators=500\n",
      "[CV 4/5; 51/243] END max_depth=5, max_features=10, min_samples_leaf=15, min_samples_split=20, n_estimators=500;, score=-43.572 total time=   2.6s\n",
      "[CV 2/5; 54/243] START max_depth=5, max_features=10, min_samples_leaf=15, min_samples_split=30, n_estimators=500\n",
      "[CV 2/5; 54/243] END max_depth=5, max_features=10, min_samples_leaf=15, min_samples_split=30, n_estimators=500;, score=-42.252 total time=   2.6s\n",
      "[CV 3/5; 56/243] START max_depth=5, max_features=12, min_samples_leaf=5, min_samples_split=10, n_estimators=300\n",
      "[CV 3/5; 56/243] END max_depth=5, max_features=12, min_samples_leaf=5, min_samples_split=10, n_estimators=300;, score=-42.886 total time=   1.9s\n",
      "[CV 1/5; 58/243] START max_depth=5, max_features=12, min_samples_leaf=5, min_samples_split=20, n_estimators=200\n",
      "[CV 1/5; 58/243] END max_depth=5, max_features=12, min_samples_leaf=5, min_samples_split=20, n_estimators=200;, score=-46.191 total time=   1.2s\n",
      "[CV 4/5; 58/243] START max_depth=5, max_features=12, min_samples_leaf=5, min_samples_split=20, n_estimators=200\n",
      "[CV 4/5; 58/243] END max_depth=5, max_features=12, min_samples_leaf=5, min_samples_split=20, n_estimators=200;, score=-45.438 total time=   1.2s\n",
      "[CV 2/5; 60/243] START max_depth=5, max_features=12, min_samples_leaf=5, min_samples_split=20, n_estimators=500\n",
      "[CV 2/5; 60/243] END max_depth=5, max_features=12, min_samples_leaf=5, min_samples_split=20, n_estimators=500;, score=-41.989 total time=   3.0s\n",
      "[CV 2/5; 62/243] START max_depth=5, max_features=12, min_samples_leaf=5, min_samples_split=30, n_estimators=300\n",
      "[CV 2/5; 62/243] END max_depth=5, max_features=12, min_samples_leaf=5, min_samples_split=30, n_estimators=300;, score=-43.090 total time=   1.6s\n",
      "[CV 4/5; 63/243] START max_depth=5, max_features=12, min_samples_leaf=5, min_samples_split=30, n_estimators=500\n",
      "[CV 4/5; 63/243] END max_depth=5, max_features=12, min_samples_leaf=5, min_samples_split=30, n_estimators=500;, score=-43.323 total time=   2.9s\n",
      "[CV 2/5; 66/243] START max_depth=5, max_features=12, min_samples_leaf=10, min_samples_split=10, n_estimators=500\n",
      "[CV 2/5; 66/243] END max_depth=5, max_features=12, min_samples_leaf=10, min_samples_split=10, n_estimators=500;, score=-42.174 total time=   2.8s\n",
      "[CV 1/5; 68/243] START max_depth=5, max_features=12, min_samples_leaf=10, min_samples_split=20, n_estimators=300\n",
      "[CV 1/5; 68/243] END max_depth=5, max_features=12, min_samples_leaf=10, min_samples_split=20, n_estimators=300;, score=-45.146 total time=   1.9s\n",
      "[CV 1/5; 70/243] START max_depth=5, max_features=12, min_samples_leaf=10, min_samples_split=30, n_estimators=200\n",
      "[CV 1/5; 70/243] END max_depth=5, max_features=12, min_samples_leaf=10, min_samples_split=30, n_estimators=200;, score=-46.224 total time=   1.2s\n",
      "[CV 4/5; 70/243] START max_depth=5, max_features=12, min_samples_leaf=10, min_samples_split=30, n_estimators=200\n",
      "[CV 4/5; 70/243] END max_depth=5, max_features=12, min_samples_leaf=10, min_samples_split=30, n_estimators=200;, score=-45.515 total time=   1.2s\n",
      "[CV 5/5; 71/243] START max_depth=5, max_features=12, min_samples_leaf=10, min_samples_split=30, n_estimators=300\n",
      "[CV 5/5; 71/243] END max_depth=5, max_features=12, min_samples_leaf=10, min_samples_split=30, n_estimators=300;, score=-44.937 total time=   1.7s\n",
      "[CV 3/5; 73/243] START max_depth=5, max_features=12, min_samples_leaf=15, min_samples_split=10, n_estimators=200\n",
      "[CV 3/5; 73/243] END max_depth=5, max_features=12, min_samples_leaf=15, min_samples_split=10, n_estimators=200;, score=-44.062 total time=   1.2s\n",
      "[CV 1/5; 74/243] START max_depth=5, max_features=12, min_samples_leaf=15, min_samples_split=10, n_estimators=300\n",
      "[CV 1/5; 74/243] END max_depth=5, max_features=12, min_samples_leaf=15, min_samples_split=10, n_estimators=300;, score=-45.208 total time=   1.8s\n",
      "[CV 4/5; 75/243] START max_depth=5, max_features=12, min_samples_leaf=15, min_samples_split=10, n_estimators=500\n",
      "[CV 4/5; 75/243] END max_depth=5, max_features=12, min_samples_leaf=15, min_samples_split=10, n_estimators=500;, score=-43.459 total time=   3.1s\n",
      "[CV 2/5; 78/243] START max_depth=5, max_features=12, min_samples_leaf=15, min_samples_split=20, n_estimators=500\n",
      "[CV 2/5; 78/243] END max_depth=5, max_features=12, min_samples_leaf=15, min_samples_split=20, n_estimators=500;, score=-42.263 total time=   2.9s\n",
      "[CV 3/5; 80/243] START max_depth=5, max_features=12, min_samples_leaf=15, min_samples_split=30, n_estimators=300\n",
      "[CV 3/5; 80/243] END max_depth=5, max_features=12, min_samples_leaf=15, min_samples_split=30, n_estimators=300;, score=-43.032 total time=   1.9s\n",
      "[CV 1/5; 82/243] START max_depth=10, max_features=8, min_samples_leaf=5, min_samples_split=10, n_estimators=200\n",
      "[CV 1/5; 82/243] END max_depth=10, max_features=8, min_samples_leaf=5, min_samples_split=10, n_estimators=200;, score=-44.363 total time=   1.5s\n",
      "[CV 1/5; 83/243] START max_depth=10, max_features=8, min_samples_leaf=5, min_samples_split=10, n_estimators=300\n",
      "[CV 1/5; 83/243] END max_depth=10, max_features=8, min_samples_leaf=5, min_samples_split=10, n_estimators=300;, score=-43.297 total time=   2.4s\n",
      "[CV 4/5; 84/243] START max_depth=10, max_features=8, min_samples_leaf=5, min_samples_split=10, n_estimators=500\n",
      "[CV 4/5; 84/243] END max_depth=10, max_features=8, min_samples_leaf=5, min_samples_split=10, n_estimators=500;, score=-40.919 total time=   4.0s\n",
      "[CV 3/5; 87/243] START max_depth=10, max_features=8, min_samples_leaf=5, min_samples_split=20, n_estimators=500\n",
      "[CV 3/5; 87/243] END max_depth=10, max_features=8, min_samples_leaf=5, min_samples_split=20, n_estimators=500;, score=-39.936 total time=   3.9s\n",
      "[CV 4/5; 89/243] START max_depth=10, max_features=8, min_samples_leaf=5, min_samples_split=30, n_estimators=300\n",
      "[CV 4/5; 89/243] END max_depth=10, max_features=8, min_samples_leaf=5, min_samples_split=30, n_estimators=300;, score=-42.242 total time=   2.3s\n",
      "[CV 2/5; 91/243] START max_depth=10, max_features=8, min_samples_leaf=10, min_samples_split=10, n_estimators=200\n",
      "[CV 2/5; 91/243] END max_depth=10, max_features=8, min_samples_leaf=10, min_samples_split=10, n_estimators=200;, score=-42.197 total time=   1.5s\n",
      "[CV 5/5; 91/243] START max_depth=10, max_features=8, min_samples_leaf=10, min_samples_split=10, n_estimators=200\n",
      "[CV 5/5; 91/243] END max_depth=10, max_features=8, min_samples_leaf=10, min_samples_split=10, n_estimators=200;, score=-44.155 total time=   1.4s\n",
      "[CV 2/5; 93/243] START max_depth=10, max_features=8, min_samples_leaf=10, min_samples_split=10, n_estimators=500\n",
      "[CV 2/5; 93/243] END max_depth=10, max_features=8, min_samples_leaf=10, min_samples_split=10, n_estimators=500;, score=-40.257 total time=   3.7s\n",
      "[CV 2/5; 95/243] START max_depth=10, max_features=8, min_samples_leaf=10, min_samples_split=20, n_estimators=300\n",
      "[CV 2/5; 95/243] END max_depth=10, max_features=8, min_samples_leaf=10, min_samples_split=20, n_estimators=300;, score=-41.056 total time=   2.3s\n",
      "[CV 5/5; 96/243] START max_depth=10, max_features=8, min_samples_leaf=10, min_samples_split=20, n_estimators=500\n",
      "[CV 5/5; 96/243] END max_depth=10, max_features=8, min_samples_leaf=10, min_samples_split=20, n_estimators=500;, score=-41.714 total time=   4.0s\n",
      "[CV 3/5; 99/243] START max_depth=10, max_features=8, min_samples_leaf=10, min_samples_split=30, n_estimators=500\n",
      "[CV 3/5; 99/243] END max_depth=10, max_features=8, min_samples_leaf=10, min_samples_split=30, n_estimators=500;, score=-40.154 total time=   3.6s\n",
      "[CV 4/5; 101/243] START max_depth=10, max_features=8, min_samples_leaf=15, min_samples_split=10, n_estimators=300\n",
      "[CV 4/5; 101/243] END max_depth=10, max_features=8, min_samples_leaf=15, min_samples_split=10, n_estimators=300;, score=-42.738 total time=   2.3s\n",
      "[CV 3/5; 1/243] START max_depth=5, max_features=8, min_samples_leaf=5, min_samples_split=10, n_estimators=200\n",
      "[CV 3/5; 1/243] END max_depth=5, max_features=8, min_samples_leaf=5, min_samples_split=10, n_estimators=200;, score=-44.448 total time=   0.9s\n",
      "[CV 3/5; 3/243] START max_depth=5, max_features=8, min_samples_leaf=5, min_samples_split=10, n_estimators=500\n",
      "[CV 3/5; 3/243] END max_depth=5, max_features=8, min_samples_leaf=5, min_samples_split=10, n_estimators=500;, score=-42.002 total time=   2.2s\n",
      "[CV 4/5; 5/243] START max_depth=5, max_features=8, min_samples_leaf=5, min_samples_split=20, n_estimators=300\n",
      "[CV 4/5; 5/243] END max_depth=5, max_features=8, min_samples_leaf=5, min_samples_split=20, n_estimators=300;, score=-44.736 total time=   1.3s\n",
      "[CV 1/5; 7/243] START max_depth=5, max_features=8, min_samples_leaf=5, min_samples_split=30, n_estimators=200\n",
      "[CV 1/5; 7/243] END max_depth=5, max_features=8, min_samples_leaf=5, min_samples_split=30, n_estimators=200;, score=-46.710 total time=   0.8s\n",
      "[CV 5/5; 7/243] START max_depth=5, max_features=8, min_samples_leaf=5, min_samples_split=30, n_estimators=200\n",
      "[CV 5/5; 7/243] END max_depth=5, max_features=8, min_samples_leaf=5, min_samples_split=30, n_estimators=200;, score=-46.674 total time=   0.9s\n",
      "[CV 1/5; 9/243] START max_depth=5, max_features=8, min_samples_leaf=5, min_samples_split=30, n_estimators=500\n",
      "[CV 1/5; 9/243] END max_depth=5, max_features=8, min_samples_leaf=5, min_samples_split=30, n_estimators=500;, score=-44.334 total time=   2.2s\n",
      "[CV 2/5; 11/243] START max_depth=5, max_features=8, min_samples_leaf=10, min_samples_split=10, n_estimators=300\n",
      "[CV 2/5; 11/243] END max_depth=5, max_features=8, min_samples_leaf=10, min_samples_split=10, n_estimators=300;, score=-43.455 total time=   1.3s\n",
      "[CV 5/5; 12/243] START max_depth=5, max_features=8, min_samples_leaf=10, min_samples_split=10, n_estimators=500\n",
      "[CV 5/5; 12/243] END max_depth=5, max_features=8, min_samples_leaf=10, min_samples_split=10, n_estimators=500;, score=-43.989 total time=   2.2s\n",
      "[CV 3/5; 15/243] START max_depth=5, max_features=8, min_samples_leaf=10, min_samples_split=20, n_estimators=500\n",
      "[CV 3/5; 15/243] END max_depth=5, max_features=8, min_samples_leaf=10, min_samples_split=20, n_estimators=500;, score=-42.212 total time=   2.2s\n",
      "[CV 4/5; 17/243] START max_depth=5, max_features=8, min_samples_leaf=10, min_samples_split=30, n_estimators=300\n",
      "[CV 4/5; 17/243] END max_depth=5, max_features=8, min_samples_leaf=10, min_samples_split=30, n_estimators=300;, score=-44.833 total time=   1.3s\n",
      "[CV 2/5; 19/243] START max_depth=5, max_features=8, min_samples_leaf=15, min_samples_split=10, n_estimators=200\n",
      "[CV 2/5; 19/243] END max_depth=5, max_features=8, min_samples_leaf=15, min_samples_split=10, n_estimators=200;, score=-44.675 total time=   0.9s\n",
      "[CV 5/5; 19/243] START max_depth=5, max_features=8, min_samples_leaf=15, min_samples_split=10, n_estimators=200\n",
      "[CV 5/5; 19/243] END max_depth=5, max_features=8, min_samples_leaf=15, min_samples_split=10, n_estimators=200;, score=-46.795 total time=   0.9s\n",
      "[CV 2/5; 21/243] START max_depth=5, max_features=8, min_samples_leaf=15, min_samples_split=10, n_estimators=500\n",
      "[CV 2/5; 21/243] END max_depth=5, max_features=8, min_samples_leaf=15, min_samples_split=10, n_estimators=500;, score=-42.440 total time=   2.2s\n",
      "[CV 4/5; 23/243] START max_depth=5, max_features=8, min_samples_leaf=15, min_samples_split=20, n_estimators=300\n",
      "[CV 4/5; 23/243] END max_depth=5, max_features=8, min_samples_leaf=15, min_samples_split=20, n_estimators=300;, score=-44.916 total time=   1.3s\n",
      "[CV 2/5; 25/243] START max_depth=5, max_features=8, min_samples_leaf=15, min_samples_split=30, n_estimators=200\n",
      "[CV 2/5; 25/243] END max_depth=5, max_features=8, min_samples_leaf=15, min_samples_split=30, n_estimators=200;, score=-44.675 total time=   1.0s\n",
      "[CV 1/5; 26/243] START max_depth=5, max_features=8, min_samples_leaf=15, min_samples_split=30, n_estimators=300\n",
      "[CV 1/5; 26/243] END max_depth=5, max_features=8, min_samples_leaf=15, min_samples_split=30, n_estimators=300;, score=-45.522 total time=   1.4s\n",
      "[CV 4/5; 27/243] START max_depth=5, max_features=8, min_samples_leaf=15, min_samples_split=30, n_estimators=500\n",
      "[CV 4/5; 27/243] END max_depth=5, max_features=8, min_samples_leaf=15, min_samples_split=30, n_estimators=500;, score=-43.756 total time=   2.3s\n",
      "[CV 5/5; 29/243] START max_depth=5, max_features=10, min_samples_leaf=5, min_samples_split=10, n_estimators=300\n",
      "[CV 5/5; 29/243] END max_depth=5, max_features=10, min_samples_leaf=5, min_samples_split=10, n_estimators=300;, score=-44.977 total time=   1.6s\n",
      "[CV 3/5; 31/243] START max_depth=5, max_features=10, min_samples_leaf=5, min_samples_split=20, n_estimators=200\n",
      "[CV 3/5; 31/243] END max_depth=5, max_features=10, min_samples_leaf=5, min_samples_split=20, n_estimators=200;, score=-44.157 total time=   1.0s\n",
      "[CV 2/5; 32/243] START max_depth=5, max_features=10, min_samples_leaf=5, min_samples_split=20, n_estimators=300\n",
      "[CV 2/5; 32/243] END max_depth=5, max_features=10, min_samples_leaf=5, min_samples_split=20, n_estimators=300;, score=-43.142 total time=   1.5s\n",
      "[CV 4/5; 33/243] START max_depth=5, max_features=10, min_samples_leaf=5, min_samples_split=20, n_estimators=500\n",
      "[CV 4/5; 33/243] END max_depth=5, max_features=10, min_samples_leaf=5, min_samples_split=20, n_estimators=500;, score=-43.398 total time=   2.6s\n",
      "[CV 3/5; 36/243] START max_depth=5, max_features=10, min_samples_leaf=5, min_samples_split=30, n_estimators=500\n",
      "[CV 3/5; 36/243] END max_depth=5, max_features=10, min_samples_leaf=5, min_samples_split=30, n_estimators=500;, score=-41.945 total time=   2.5s\n",
      "[CV 3/5; 38/243] START max_depth=5, max_features=10, min_samples_leaf=10, min_samples_split=10, n_estimators=300\n",
      "[CV 3/5; 38/243] END max_depth=5, max_features=10, min_samples_leaf=10, min_samples_split=10, n_estimators=300;, score=-43.097 total time=   1.5s\n",
      "[CV 1/5; 40/243] START max_depth=5, max_features=10, min_samples_leaf=10, min_samples_split=20, n_estimators=200\n",
      "[CV 1/5; 40/243] END max_depth=5, max_features=10, min_samples_leaf=10, min_samples_split=20, n_estimators=200;, score=-46.373 total time=   1.1s\n",
      "[CV 4/5; 40/243] START max_depth=5, max_features=10, min_samples_leaf=10, min_samples_split=20, n_estimators=200\n",
      "[CV 4/5; 40/243] END max_depth=5, max_features=10, min_samples_leaf=10, min_samples_split=20, n_estimators=200;, score=-45.769 total time=   1.0s\n",
      "[CV 1/5; 42/243] START max_depth=5, max_features=10, min_samples_leaf=10, min_samples_split=20, n_estimators=500\n",
      "[CV 1/5; 42/243] END max_depth=5, max_features=10, min_samples_leaf=10, min_samples_split=20, n_estimators=500;, score=-44.262 total time=   2.5s\n",
      "[CV 2/5; 44/243] START max_depth=5, max_features=10, min_samples_leaf=10, min_samples_split=30, n_estimators=300\n",
      "[CV 2/5; 44/243] END max_depth=5, max_features=10, min_samples_leaf=10, min_samples_split=30, n_estimators=300;, score=-43.228 total time=   1.5s\n",
      "[CV 5/5; 45/243] START max_depth=5, max_features=10, min_samples_leaf=10, min_samples_split=30, n_estimators=500\n",
      "[CV 5/5; 45/243] END max_depth=5, max_features=10, min_samples_leaf=10, min_samples_split=30, n_estimators=500;, score=-43.944 total time=   2.5s\n",
      "[CV 5/5; 47/243] START max_depth=5, max_features=10, min_samples_leaf=15, min_samples_split=10, n_estimators=300\n",
      "[CV 5/5; 47/243] END max_depth=5, max_features=10, min_samples_leaf=15, min_samples_split=10, n_estimators=300;, score=-45.219 total time=   1.5s\n",
      "[CV 3/5; 49/243] START max_depth=5, max_features=10, min_samples_leaf=15, min_samples_split=20, n_estimators=200\n",
      "[CV 3/5; 49/243] END max_depth=5, max_features=10, min_samples_leaf=15, min_samples_split=20, n_estimators=200;, score=-44.232 total time=   1.1s\n",
      "[CV 3/5; 50/243] START max_depth=5, max_features=10, min_samples_leaf=15, min_samples_split=20, n_estimators=300\n",
      "[CV 3/5; 50/243] END max_depth=5, max_features=10, min_samples_leaf=15, min_samples_split=20, n_estimators=300;, score=-43.131 total time=   1.5s\n",
      "[CV 5/5; 51/243] START max_depth=5, max_features=10, min_samples_leaf=15, min_samples_split=20, n_estimators=500\n",
      "[CV 5/5; 51/243] END max_depth=5, max_features=10, min_samples_leaf=15, min_samples_split=20, n_estimators=500;, score=-43.983 total time=   2.5s\n",
      "[CV 3/5; 54/243] START max_depth=5, max_features=10, min_samples_leaf=15, min_samples_split=30, n_estimators=500\n",
      "[CV 3/5; 54/243] END max_depth=5, max_features=10, min_samples_leaf=15, min_samples_split=30, n_estimators=500;, score=-42.100 total time=   2.7s\n",
      "[CV 4/5; 56/243] START max_depth=5, max_features=12, min_samples_leaf=5, min_samples_split=10, n_estimators=300\n",
      "[CV 4/5; 56/243] END max_depth=5, max_features=12, min_samples_leaf=5, min_samples_split=10, n_estimators=300;, score=-44.305 total time=   1.8s\n",
      "[CV 2/5; 58/243] START max_depth=5, max_features=12, min_samples_leaf=5, min_samples_split=20, n_estimators=200\n",
      "[CV 2/5; 58/243] END max_depth=5, max_features=12, min_samples_leaf=5, min_samples_split=20, n_estimators=200;, score=-44.106 total time=   1.2s\n",
      "[CV 5/5; 58/243] START max_depth=5, max_features=12, min_samples_leaf=5, min_samples_split=20, n_estimators=200\n",
      "[CV 5/5; 58/243] END max_depth=5, max_features=12, min_samples_leaf=5, min_samples_split=20, n_estimators=200;, score=-46.090 total time=   1.2s\n",
      "[CV 5/5; 59/243] START max_depth=5, max_features=12, min_samples_leaf=5, min_samples_split=20, n_estimators=300\n",
      "[CV 5/5; 59/243] END max_depth=5, max_features=12, min_samples_leaf=5, min_samples_split=20, n_estimators=300;, score=-44.876 total time=   1.8s\n",
      "[CV 3/5; 61/243] START max_depth=5, max_features=12, min_samples_leaf=5, min_samples_split=30, n_estimators=200\n",
      "[CV 3/5; 61/243] END max_depth=5, max_features=12, min_samples_leaf=5, min_samples_split=30, n_estimators=200;, score=-43.950 total time=   1.2s\n",
      "[CV 1/5; 62/243] START max_depth=5, max_features=12, min_samples_leaf=5, min_samples_split=30, n_estimators=300\n",
      "[CV 1/5; 62/243] END max_depth=5, max_features=12, min_samples_leaf=5, min_samples_split=30, n_estimators=300;, score=-45.068 total time=   1.8s\n",
      "[CV 5/5; 63/243] START max_depth=5, max_features=12, min_samples_leaf=5, min_samples_split=30, n_estimators=500\n",
      "[CV 5/5; 63/243] END max_depth=5, max_features=12, min_samples_leaf=5, min_samples_split=30, n_estimators=500;, score=-43.740 total time=   2.9s\n",
      "[CV 3/5; 66/243] START max_depth=5, max_features=12, min_samples_leaf=10, min_samples_split=10, n_estimators=500\n",
      "[CV 3/5; 66/243] END max_depth=5, max_features=12, min_samples_leaf=10, min_samples_split=10, n_estimators=500;, score=-42.028 total time=   3.0s\n",
      "[CV 5/5; 68/243] START max_depth=5, max_features=12, min_samples_leaf=10, min_samples_split=20, n_estimators=300\n",
      "[CV 5/5; 68/243] END max_depth=5, max_features=12, min_samples_leaf=10, min_samples_split=20, n_estimators=300;, score=-44.936 total time=   1.8s\n",
      "[CV 3/5; 70/243] START max_depth=5, max_features=12, min_samples_leaf=10, min_samples_split=30, n_estimators=200\n",
      "[CV 3/5; 70/243] END max_depth=5, max_features=12, min_samples_leaf=10, min_samples_split=30, n_estimators=200;, score=-44.055 total time=   1.3s\n",
      "[CV 3/5; 71/243] START max_depth=5, max_features=12, min_samples_leaf=10, min_samples_split=30, n_estimators=300\n",
      "[CV 3/5; 71/243] END max_depth=5, max_features=12, min_samples_leaf=10, min_samples_split=30, n_estimators=300;, score=-43.023 total time=   1.8s\n",
      "[CV 5/5; 72/243] START max_depth=5, max_features=12, min_samples_leaf=10, min_samples_split=30, n_estimators=500\n",
      "[CV 5/5; 72/243] END max_depth=5, max_features=12, min_samples_leaf=10, min_samples_split=30, n_estimators=500;, score=-43.804 total time=   2.9s\n",
      "[CV 3/5; 75/243] START max_depth=5, max_features=12, min_samples_leaf=15, min_samples_split=10, n_estimators=500\n",
      "[CV 3/5; 75/243] END max_depth=5, max_features=12, min_samples_leaf=15, min_samples_split=10, n_estimators=500;, score=-42.009 total time=   2.9s\n",
      "[CV 4/5; 77/243] START max_depth=5, max_features=12, min_samples_leaf=15, min_samples_split=20, n_estimators=300\n",
      "[CV 4/5; 77/243] END max_depth=5, max_features=12, min_samples_leaf=15, min_samples_split=20, n_estimators=300;, score=-44.461 total time=   1.8s\n",
      "[CV 2/5; 79/243] START max_depth=5, max_features=12, min_samples_leaf=15, min_samples_split=30, n_estimators=200\n",
      "[CV 2/5; 79/243] END max_depth=5, max_features=12, min_samples_leaf=15, min_samples_split=30, n_estimators=200;, score=-44.254 total time=   1.1s\n",
      "[CV 5/5; 79/243] START max_depth=5, max_features=12, min_samples_leaf=15, min_samples_split=30, n_estimators=200\n",
      "[CV 5/5; 79/243] END max_depth=5, max_features=12, min_samples_leaf=15, min_samples_split=30, n_estimators=200;, score=-46.178 total time=   1.2s\n",
      "[CV 2/5; 81/243] START max_depth=5, max_features=12, min_samples_leaf=15, min_samples_split=30, n_estimators=500\n",
      "[CV 2/5; 81/243] END max_depth=5, max_features=12, min_samples_leaf=15, min_samples_split=30, n_estimators=500;, score=-42.263 total time=   2.9s\n",
      "[CV 4/5; 82/243] START max_depth=10, max_features=8, min_samples_leaf=5, min_samples_split=10, n_estimators=200\n",
      "[CV 4/5; 82/243] END max_depth=10, max_features=8, min_samples_leaf=5, min_samples_split=10, n_estimators=200;, score=-43.140 total time=   1.6s\n",
      "[CV 2/5; 84/243] START max_depth=10, max_features=8, min_samples_leaf=5, min_samples_split=10, n_estimators=500\n",
      "[CV 2/5; 84/243] END max_depth=10, max_features=8, min_samples_leaf=5, min_samples_split=10, n_estimators=500;, score=-39.989 total time=   3.8s\n",
      "[CV 3/5; 86/243] START max_depth=10, max_features=8, min_samples_leaf=5, min_samples_split=20, n_estimators=300\n",
      "[CV 3/5; 86/243] END max_depth=10, max_features=8, min_samples_leaf=5, min_samples_split=20, n_estimators=300;, score=-40.775 total time=   2.4s\n",
      "[CV 1/5; 88/243] START max_depth=10, max_features=8, min_samples_leaf=5, min_samples_split=30, n_estimators=200\n",
      "[CV 1/5; 88/243] END max_depth=10, max_features=8, min_samples_leaf=5, min_samples_split=30, n_estimators=200;, score=-44.428 total time=   1.5s\n",
      "[CV 4/5; 88/243] START max_depth=10, max_features=8, min_samples_leaf=5, min_samples_split=30, n_estimators=200\n",
      "[CV 4/5; 88/243] END max_depth=10, max_features=8, min_samples_leaf=5, min_samples_split=30, n_estimators=200;, score=-43.397 total time=   1.7s\n",
      "[CV 2/5; 90/243] START max_depth=10, max_features=8, min_samples_leaf=5, min_samples_split=30, n_estimators=500\n",
      "[CV 2/5; 90/243] END max_depth=10, max_features=8, min_samples_leaf=5, min_samples_split=30, n_estimators=500;, score=-40.224 total time=   3.8s\n",
      "[CV 3/5; 92/243] START max_depth=10, max_features=8, min_samples_leaf=10, min_samples_split=10, n_estimators=300\n",
      "[CV 3/5; 92/243] END max_depth=10, max_features=8, min_samples_leaf=10, min_samples_split=10, n_estimators=300;, score=-41.094 total time=   2.3s\n",
      "[CV 1/5; 94/243] START max_depth=10, max_features=8, min_samples_leaf=10, min_samples_split=20, n_estimators=200\n",
      "[CV 1/5; 94/243] END max_depth=10, max_features=8, min_samples_leaf=10, min_samples_split=20, n_estimators=200;, score=-44.657 total time=   1.5s\n",
      "[CV 4/5; 94/243] START max_depth=10, max_features=8, min_samples_leaf=10, min_samples_split=20, n_estimators=200\n",
      "[CV 4/5; 94/243] END max_depth=10, max_features=8, min_samples_leaf=10, min_samples_split=20, n_estimators=200;, score=-43.599 total time=   1.5s\n",
      "[CV 5/5; 95/243] START max_depth=10, max_features=8, min_samples_leaf=10, min_samples_split=20, n_estimators=300\n",
      "[CV 5/5; 95/243] END max_depth=10, max_features=8, min_samples_leaf=10, min_samples_split=20, n_estimators=300;, score=-42.854 total time=   2.5s\n",
      "[CV 3/5; 97/243] START max_depth=10, max_features=8, min_samples_leaf=10, min_samples_split=30, n_estimators=200\n",
      "[CV 3/5; 97/243] END max_depth=10, max_features=8, min_samples_leaf=10, min_samples_split=30, n_estimators=200;, score=-42.199 total time=   1.4s\n",
      "[CV 2/5; 98/243] START max_depth=10, max_features=8, min_samples_leaf=10, min_samples_split=30, n_estimators=300\n",
      "[CV 2/5; 98/243] END max_depth=10, max_features=8, min_samples_leaf=10, min_samples_split=30, n_estimators=300;, score=-41.141 total time=   2.3s\n",
      "[CV 5/5; 99/243] START max_depth=10, max_features=8, min_samples_leaf=10, min_samples_split=30, n_estimators=500\n",
      "[CV 5/5; 99/243] END max_depth=10, max_features=8, min_samples_leaf=10, min_samples_split=30, n_estimators=500;, score=-41.890 total time=   3.8s\n",
      "[CV 2/5; 1/243] START max_depth=5, max_features=8, min_samples_leaf=5, min_samples_split=10, n_estimators=200\n",
      "[CV 2/5; 1/243] END max_depth=5, max_features=8, min_samples_leaf=5, min_samples_split=10, n_estimators=200;, score=-44.578 total time=   0.9s\n",
      "[CV 2/5; 3/243] START max_depth=5, max_features=8, min_samples_leaf=5, min_samples_split=10, n_estimators=500\n",
      "[CV 2/5; 3/243] END max_depth=5, max_features=8, min_samples_leaf=5, min_samples_split=10, n_estimators=500;, score=-42.206 total time=   2.1s\n",
      "[CV 1/5; 5/243] START max_depth=5, max_features=8, min_samples_leaf=5, min_samples_split=20, n_estimators=300\n",
      "[CV 1/5; 5/243] END max_depth=5, max_features=8, min_samples_leaf=5, min_samples_split=20, n_estimators=300;, score=-45.410 total time=   1.2s\n",
      "[CV 4/5; 6/243] START max_depth=5, max_features=8, min_samples_leaf=5, min_samples_split=20, n_estimators=500\n",
      "[CV 4/5; 6/243] END max_depth=5, max_features=8, min_samples_leaf=5, min_samples_split=20, n_estimators=500;, score=-43.568 total time=   2.2s\n",
      "[CV 2/5; 9/243] START max_depth=5, max_features=8, min_samples_leaf=5, min_samples_split=30, n_estimators=500\n",
      "[CV 2/5; 9/243] END max_depth=5, max_features=8, min_samples_leaf=5, min_samples_split=30, n_estimators=500;, score=-42.331 total time=   2.1s\n",
      "[CV 4/5; 11/243] START max_depth=5, max_features=8, min_samples_leaf=10, min_samples_split=10, n_estimators=300\n",
      "[CV 4/5; 11/243] END max_depth=5, max_features=8, min_samples_leaf=10, min_samples_split=10, n_estimators=300;, score=-44.840 total time=   1.2s\n",
      "[CV 1/5; 13/243] START max_depth=5, max_features=8, min_samples_leaf=10, min_samples_split=20, n_estimators=200\n",
      "[CV 1/5; 13/243] END max_depth=5, max_features=8, min_samples_leaf=10, min_samples_split=20, n_estimators=200;, score=-46.653 total time=   0.9s\n",
      "[CV 4/5; 13/243] START max_depth=5, max_features=8, min_samples_leaf=10, min_samples_split=20, n_estimators=200\n",
      "[CV 4/5; 13/243] END max_depth=5, max_features=8, min_samples_leaf=10, min_samples_split=20, n_estimators=200;, score=-46.009 total time=   0.8s\n",
      "[CV 5/5; 14/243] START max_depth=5, max_features=8, min_samples_leaf=10, min_samples_split=20, n_estimators=300\n",
      "[CV 5/5; 14/243] END max_depth=5, max_features=8, min_samples_leaf=10, min_samples_split=20, n_estimators=300;, score=-45.303 total time=   1.3s\n",
      "[CV 3/5; 16/243] START max_depth=5, max_features=8, min_samples_leaf=10, min_samples_split=30, n_estimators=200\n",
      "[CV 3/5; 16/243] END max_depth=5, max_features=8, min_samples_leaf=10, min_samples_split=30, n_estimators=200;, score=-44.527 total time=   0.9s\n",
      "[CV 1/5; 17/243] START max_depth=5, max_features=8, min_samples_leaf=10, min_samples_split=30, n_estimators=300\n",
      "[CV 1/5; 17/243] END max_depth=5, max_features=8, min_samples_leaf=10, min_samples_split=30, n_estimators=300;, score=-45.451 total time=   1.3s\n",
      "[CV 4/5; 18/243] START max_depth=5, max_features=8, min_samples_leaf=10, min_samples_split=30, n_estimators=500\n",
      "[CV 4/5; 18/243] END max_depth=5, max_features=8, min_samples_leaf=10, min_samples_split=30, n_estimators=500;, score=-43.660 total time=   2.1s\n",
      "[CV 1/5; 21/243] START max_depth=5, max_features=8, min_samples_leaf=15, min_samples_split=10, n_estimators=500\n",
      "[CV 1/5; 21/243] END max_depth=5, max_features=8, min_samples_leaf=15, min_samples_split=10, n_estimators=500;, score=-44.438 total time=   2.1s\n",
      "[CV 2/5; 23/243] START max_depth=5, max_features=8, min_samples_leaf=15, min_samples_split=20, n_estimators=300\n",
      "[CV 2/5; 23/243] END max_depth=5, max_features=8, min_samples_leaf=15, min_samples_split=20, n_estimators=300;, score=-43.491 total time=   1.3s\n",
      "[CV 5/5; 24/243] START max_depth=5, max_features=8, min_samples_leaf=15, min_samples_split=20, n_estimators=500\n",
      "[CV 5/5; 24/243] END max_depth=5, max_features=8, min_samples_leaf=15, min_samples_split=20, n_estimators=500;, score=-44.135 total time=   2.3s\n",
      "[CV 3/5; 27/243] START max_depth=5, max_features=8, min_samples_leaf=15, min_samples_split=30, n_estimators=500\n",
      "[CV 3/5; 27/243] END max_depth=5, max_features=8, min_samples_leaf=15, min_samples_split=30, n_estimators=500;, score=-42.236 total time=   2.3s\n",
      "[CV 4/5; 29/243] START max_depth=5, max_features=10, min_samples_leaf=5, min_samples_split=10, n_estimators=300\n",
      "[CV 4/5; 29/243] END max_depth=5, max_features=10, min_samples_leaf=5, min_samples_split=10, n_estimators=300;, score=-44.520 total time=   1.7s\n",
      "[CV 2/5; 31/243] START max_depth=5, max_features=10, min_samples_leaf=5, min_samples_split=20, n_estimators=200\n",
      "[CV 2/5; 31/243] END max_depth=5, max_features=10, min_samples_leaf=5, min_samples_split=20, n_estimators=200;, score=-44.265 total time=   1.0s\n",
      "[CV 5/5; 31/243] START max_depth=5, max_features=10, min_samples_leaf=5, min_samples_split=20, n_estimators=200\n",
      "[CV 5/5; 31/243] END max_depth=5, max_features=10, min_samples_leaf=5, min_samples_split=20, n_estimators=200;, score=-46.397 total time=   1.0s\n",
      "[CV 2/5; 33/243] START max_depth=5, max_features=10, min_samples_leaf=5, min_samples_split=20, n_estimators=500\n",
      "[CV 2/5; 33/243] END max_depth=5, max_features=10, min_samples_leaf=5, min_samples_split=20, n_estimators=500;, score=-42.083 total time=   2.8s\n",
      "[CV 5/5; 35/243] START max_depth=5, max_features=10, min_samples_leaf=5, min_samples_split=30, n_estimators=300\n",
      "[CV 5/5; 35/243] END max_depth=5, max_features=10, min_samples_leaf=5, min_samples_split=30, n_estimators=300;, score=-45.142 total time=   1.5s\n",
      "[CV 2/5; 37/243] START max_depth=5, max_features=10, min_samples_leaf=10, min_samples_split=10, n_estimators=200\n",
      "[CV 2/5; 37/243] END max_depth=5, max_features=10, min_samples_leaf=10, min_samples_split=10, n_estimators=200;, score=-44.319 total time=   1.0s\n",
      "[CV 1/5; 38/243] START max_depth=5, max_features=10, min_samples_leaf=10, min_samples_split=10, n_estimators=300\n",
      "[CV 1/5; 38/243] END max_depth=5, max_features=10, min_samples_leaf=10, min_samples_split=10, n_estimators=300;, score=-45.266 total time=   1.5s\n",
      "[CV 4/5; 39/243] START max_depth=5, max_features=10, min_samples_leaf=10, min_samples_split=10, n_estimators=500\n",
      "[CV 4/5; 39/243] END max_depth=5, max_features=10, min_samples_leaf=10, min_samples_split=10, n_estimators=500;, score=-43.518 total time=   2.4s\n",
      "[CV 5/5; 41/243] START max_depth=5, max_features=10, min_samples_leaf=10, min_samples_split=20, n_estimators=300\n",
      "[CV 5/5; 41/243] END max_depth=5, max_features=10, min_samples_leaf=10, min_samples_split=20, n_estimators=300;, score=-45.160 total time=   1.5s\n",
      "[CV 3/5; 43/243] START max_depth=5, max_features=10, min_samples_leaf=10, min_samples_split=30, n_estimators=200\n",
      "[CV 3/5; 43/243] END max_depth=5, max_features=10, min_samples_leaf=10, min_samples_split=30, n_estimators=200;, score=-44.191 total time=   1.1s\n",
      "[CV 1/5; 44/243] START max_depth=5, max_features=10, min_samples_leaf=10, min_samples_split=30, n_estimators=300\n",
      "[CV 1/5; 44/243] END max_depth=5, max_features=10, min_samples_leaf=10, min_samples_split=30, n_estimators=300;, score=-45.350 total time=   1.5s\n",
      "[CV 4/5; 45/243] START max_depth=5, max_features=10, min_samples_leaf=10, min_samples_split=30, n_estimators=500\n",
      "[CV 4/5; 45/243] END max_depth=5, max_features=10, min_samples_leaf=10, min_samples_split=30, n_estimators=500;, score=-43.502 total time=   2.6s\n",
      "[CV 2/5; 48/243] START max_depth=5, max_features=10, min_samples_leaf=15, min_samples_split=10, n_estimators=500\n",
      "[CV 2/5; 48/243] END max_depth=5, max_features=10, min_samples_leaf=15, min_samples_split=10, n_estimators=500;, score=-42.252 total time=   2.5s\n",
      "[CV 2/5; 50/243] START max_depth=5, max_features=10, min_samples_leaf=15, min_samples_split=20, n_estimators=300\n",
      "[CV 2/5; 50/243] END max_depth=5, max_features=10, min_samples_leaf=15, min_samples_split=20, n_estimators=300;, score=-43.303 total time=   1.7s\n",
      "[CV 2/5; 52/243] START max_depth=5, max_features=10, min_samples_leaf=15, min_samples_split=30, n_estimators=200\n",
      "[CV 2/5; 52/243] END max_depth=5, max_features=10, min_samples_leaf=15, min_samples_split=30, n_estimators=200;, score=-44.393 total time=   1.1s\n",
      "[CV 5/5; 52/243] START max_depth=5, max_features=10, min_samples_leaf=15, min_samples_split=30, n_estimators=200\n",
      "[CV 5/5; 52/243] END max_depth=5, max_features=10, min_samples_leaf=15, min_samples_split=30, n_estimators=200;, score=-46.500 total time=   1.1s\n",
      "[CV 5/5; 53/243] START max_depth=5, max_features=10, min_samples_leaf=15, min_samples_split=30, n_estimators=300\n",
      "[CV 5/5; 53/243] END max_depth=5, max_features=10, min_samples_leaf=15, min_samples_split=30, n_estimators=300;, score=-45.219 total time=   1.5s\n",
      "[CV 3/5; 55/243] START max_depth=5, max_features=12, min_samples_leaf=5, min_samples_split=10, n_estimators=200\n",
      "[CV 3/5; 55/243] END max_depth=5, max_features=12, min_samples_leaf=5, min_samples_split=10, n_estimators=200;, score=-43.952 total time=   1.2s\n",
      "[CV 2/5; 56/243] START max_depth=5, max_features=12, min_samples_leaf=5, min_samples_split=10, n_estimators=300\n",
      "[CV 2/5; 56/243] END max_depth=5, max_features=12, min_samples_leaf=5, min_samples_split=10, n_estimators=300;, score=-43.088 total time=   1.8s\n",
      "[CV 5/5; 57/243] START max_depth=5, max_features=12, min_samples_leaf=5, min_samples_split=10, n_estimators=500\n",
      "[CV 5/5; 57/243] END max_depth=5, max_features=12, min_samples_leaf=5, min_samples_split=10, n_estimators=500;, score=-43.602 total time=   3.0s\n",
      "[CV 3/5; 60/243] START max_depth=5, max_features=12, min_samples_leaf=5, min_samples_split=20, n_estimators=500\n",
      "[CV 3/5; 60/243] END max_depth=5, max_features=12, min_samples_leaf=5, min_samples_split=20, n_estimators=500;, score=-41.873 total time=   3.0s\n",
      "[CV 1/5; 63/243] START max_depth=5, max_features=12, min_samples_leaf=5, min_samples_split=30, n_estimators=500\n",
      "[CV 1/5; 63/243] END max_depth=5, max_features=12, min_samples_leaf=5, min_samples_split=30, n_estimators=500;, score=-44.041 total time=   3.1s\n",
      "[CV 3/5; 65/243] START max_depth=5, max_features=12, min_samples_leaf=10, min_samples_split=10, n_estimators=300\n",
      "[CV 3/5; 65/243] END max_depth=5, max_features=12, min_samples_leaf=10, min_samples_split=10, n_estimators=300;, score=-43.010 total time=   1.8s\n",
      "[CV 2/5; 67/243] START max_depth=5, max_features=12, min_samples_leaf=10, min_samples_split=20, n_estimators=200\n",
      "[CV 2/5; 67/243] END max_depth=5, max_features=12, min_samples_leaf=10, min_samples_split=20, n_estimators=200;, score=-44.230 total time=   1.2s\n",
      "[CV 5/5; 67/243] START max_depth=5, max_features=12, min_samples_leaf=10, min_samples_split=20, n_estimators=200\n",
      "[CV 5/5; 67/243] END max_depth=5, max_features=12, min_samples_leaf=10, min_samples_split=20, n_estimators=200;, score=-46.130 total time=   1.2s\n",
      "[CV 1/5; 69/243] START max_depth=5, max_features=12, min_samples_leaf=10, min_samples_split=20, n_estimators=500\n",
      "[CV 1/5; 69/243] END max_depth=5, max_features=12, min_samples_leaf=10, min_samples_split=20, n_estimators=500;, score=-44.154 total time=   2.9s\n",
      "[CV 1/5; 71/243] START max_depth=5, max_features=12, min_samples_leaf=10, min_samples_split=30, n_estimators=300\n",
      "[CV 1/5; 71/243] END max_depth=5, max_features=12, min_samples_leaf=10, min_samples_split=30, n_estimators=300;, score=-45.150 total time=   1.9s\n",
      "[CV 4/5; 72/243] START max_depth=5, max_features=12, min_samples_leaf=10, min_samples_split=30, n_estimators=500\n",
      "[CV 4/5; 72/243] END max_depth=5, max_features=12, min_samples_leaf=10, min_samples_split=30, n_estimators=500;, score=-43.410 total time=   2.9s\n",
      "[CV 2/5; 75/243] START max_depth=5, max_features=12, min_samples_leaf=15, min_samples_split=10, n_estimators=500\n",
      "[CV 2/5; 75/243] END max_depth=5, max_features=12, min_samples_leaf=15, min_samples_split=10, n_estimators=500;, score=-42.263 total time=   2.9s\n",
      "[CV 3/5; 77/243] START max_depth=5, max_features=12, min_samples_leaf=15, min_samples_split=20, n_estimators=300\n",
      "[CV 3/5; 77/243] END max_depth=5, max_features=12, min_samples_leaf=15, min_samples_split=20, n_estimators=300;, score=-43.032 total time=   1.7s\n",
      "[CV 1/5; 79/243] START max_depth=5, max_features=12, min_samples_leaf=15, min_samples_split=30, n_estimators=200\n",
      "[CV 1/5; 79/243] END max_depth=5, max_features=12, min_samples_leaf=15, min_samples_split=30, n_estimators=200;, score=-46.283 total time=   1.2s\n",
      "[CV 4/5; 79/243] START max_depth=5, max_features=12, min_samples_leaf=15, min_samples_split=30, n_estimators=200\n",
      "[CV 4/5; 79/243] END max_depth=5, max_features=12, min_samples_leaf=15, min_samples_split=30, n_estimators=200;, score=-45.521 total time=   1.1s\n",
      "[CV 4/5; 80/243] START max_depth=5, max_features=12, min_samples_leaf=15, min_samples_split=30, n_estimators=300\n",
      "[CV 4/5; 80/243] END max_depth=5, max_features=12, min_samples_leaf=15, min_samples_split=30, n_estimators=300;, score=-44.461 total time=   1.7s\n",
      "[CV 2/5; 82/243] START max_depth=10, max_features=8, min_samples_leaf=5, min_samples_split=10, n_estimators=200\n",
      "[CV 2/5; 82/243] END max_depth=10, max_features=8, min_samples_leaf=5, min_samples_split=10, n_estimators=200;, score=-41.824 total time=   1.6s\n",
      "[CV 3/5; 83/243] START max_depth=10, max_features=8, min_samples_leaf=5, min_samples_split=10, n_estimators=300\n",
      "[CV 3/5; 83/243] END max_depth=10, max_features=8, min_samples_leaf=5, min_samples_split=10, n_estimators=300;, score=-40.713 total time=   2.5s\n",
      "[CV 2/5; 85/243] START max_depth=10, max_features=8, min_samples_leaf=5, min_samples_split=20, n_estimators=200\n",
      "[CV 2/5; 85/243] END max_depth=10, max_features=8, min_samples_leaf=5, min_samples_split=20, n_estimators=200;, score=-41.947 total time=   1.6s\n",
      "[CV 4/5; 85/243] START max_depth=10, max_features=8, min_samples_leaf=5, min_samples_split=20, n_estimators=200\n",
      "[CV 4/5; 85/243] END max_depth=10, max_features=8, min_samples_leaf=5, min_samples_split=20, n_estimators=200;, score=-43.410 total time=   1.6s\n",
      "[CV 1/5; 87/243] START max_depth=10, max_features=8, min_samples_leaf=5, min_samples_split=20, n_estimators=500\n",
      "[CV 1/5; 87/243] END max_depth=10, max_features=8, min_samples_leaf=5, min_samples_split=20, n_estimators=500;, score=-42.402 total time=   3.8s\n",
      "[CV 1/5; 89/243] START max_depth=10, max_features=8, min_samples_leaf=5, min_samples_split=30, n_estimators=300\n",
      "[CV 1/5; 89/243] END max_depth=10, max_features=8, min_samples_leaf=5, min_samples_split=30, n_estimators=300;, score=-43.355 total time=   2.1s\n",
      "[CV 4/5; 90/243] START max_depth=10, max_features=8, min_samples_leaf=5, min_samples_split=30, n_estimators=500\n",
      "[CV 4/5; 90/243] END max_depth=10, max_features=8, min_samples_leaf=5, min_samples_split=30, n_estimators=500;, score=-41.166 total time=   3.7s\n",
      "[CV 1/5; 93/243] START max_depth=10, max_features=8, min_samples_leaf=10, min_samples_split=10, n_estimators=500\n",
      "[CV 1/5; 93/243] END max_depth=10, max_features=8, min_samples_leaf=10, min_samples_split=10, n_estimators=500;, score=-42.695 total time=   3.8s\n",
      "[CV 3/5; 95/243] START max_depth=10, max_features=8, min_samples_leaf=10, min_samples_split=20, n_estimators=300\n",
      "[CV 3/5; 95/243] END max_depth=10, max_features=8, min_samples_leaf=10, min_samples_split=20, n_estimators=300;, score=-41.094 total time=   2.3s\n",
      "[CV 1/5; 97/243] START max_depth=10, max_features=8, min_samples_leaf=10, min_samples_split=30, n_estimators=200\n",
      "[CV 1/5; 97/243] END max_depth=10, max_features=8, min_samples_leaf=10, min_samples_split=30, n_estimators=200;, score=-44.741 total time=   1.5s\n",
      "[CV 4/5; 97/243] START max_depth=10, max_features=8, min_samples_leaf=10, min_samples_split=30, n_estimators=200\n",
      "[CV 4/5; 97/243] END max_depth=10, max_features=8, min_samples_leaf=10, min_samples_split=30, n_estimators=200;, score=-43.626 total time=   1.6s\n",
      "[CV 4/5; 98/243] START max_depth=10, max_features=8, min_samples_leaf=10, min_samples_split=30, n_estimators=300\n",
      "[CV 4/5; 98/243] END max_depth=10, max_features=8, min_samples_leaf=10, min_samples_split=30, n_estimators=300;, score=-42.507 total time=   2.2s\n",
      "[CV 2/5; 100/243] START max_depth=10, max_features=8, min_samples_leaf=15, min_samples_split=10, n_estimators=200\n",
      "[CV 2/5; 100/243] END max_depth=10, max_features=8, min_samples_leaf=15, min_samples_split=10, n_estimators=200;, score=-42.403 total time=   1.6s\n",
      "[CV 5/5; 100/243] START max_depth=10, max_features=8, min_samples_leaf=15, min_samples_split=10, n_estimators=200\n",
      "[CV 5/5; 100/243] END max_depth=10, max_features=8, min_samples_leaf=15, min_samples_split=10, n_estimators=200;, score=-44.527 total time=   1.5s\n",
      "[CV 1/5; 1/243] START max_depth=5, max_features=8, min_samples_leaf=5, min_samples_split=10, n_estimators=200\n",
      "[CV 1/5; 1/243] END max_depth=5, max_features=8, min_samples_leaf=5, min_samples_split=10, n_estimators=200;, score=-46.662 total time=   0.8s\n",
      "[CV 4/5; 2/243] START max_depth=5, max_features=8, min_samples_leaf=5, min_samples_split=10, n_estimators=300\n",
      "[CV 4/5; 2/243] END max_depth=5, max_features=8, min_samples_leaf=5, min_samples_split=10, n_estimators=300;, score=-44.702 total time=   1.3s\n",
      "[CV 3/5; 4/243] START max_depth=5, max_features=8, min_samples_leaf=5, min_samples_split=20, n_estimators=200\n",
      "[CV 3/5; 4/243] END max_depth=5, max_features=8, min_samples_leaf=5, min_samples_split=20, n_estimators=200;, score=-44.449 total time=   0.7s\n",
      "[CV 5/5; 4/243] START max_depth=5, max_features=8, min_samples_leaf=5, min_samples_split=20, n_estimators=200\n",
      "[CV 5/5; 4/243] END max_depth=5, max_features=8, min_samples_leaf=5, min_samples_split=20, n_estimators=200;, score=-46.578 total time=   0.8s\n",
      "[CV 3/5; 6/243] START max_depth=5, max_features=8, min_samples_leaf=5, min_samples_split=20, n_estimators=500\n",
      "[CV 3/5; 6/243] END max_depth=5, max_features=8, min_samples_leaf=5, min_samples_split=20, n_estimators=500;, score=-42.007 total time=   2.3s\n",
      "[CV 4/5; 8/243] START max_depth=5, max_features=8, min_samples_leaf=5, min_samples_split=30, n_estimators=300\n",
      "[CV 4/5; 8/243] END max_depth=5, max_features=8, min_samples_leaf=5, min_samples_split=30, n_estimators=300;, score=-44.771 total time=   1.3s\n",
      "[CV 2/5; 10/243] START max_depth=5, max_features=8, min_samples_leaf=10, min_samples_split=10, n_estimators=200\n",
      "[CV 2/5; 10/243] END max_depth=5, max_features=8, min_samples_leaf=10, min_samples_split=10, n_estimators=200;, score=-44.645 total time=   0.8s\n",
      "[CV 5/5; 10/243] START max_depth=5, max_features=8, min_samples_leaf=10, min_samples_split=10, n_estimators=200\n",
      "[CV 5/5; 10/243] END max_depth=5, max_features=8, min_samples_leaf=10, min_samples_split=10, n_estimators=200;, score=-46.684 total time=   0.8s\n",
      "[CV 3/5; 12/243] START max_depth=5, max_features=8, min_samples_leaf=10, min_samples_split=10, n_estimators=500\n",
      "[CV 3/5; 12/243] END max_depth=5, max_features=8, min_samples_leaf=10, min_samples_split=10, n_estimators=500;, score=-42.212 total time=   2.2s\n",
      "[CV 4/5; 14/243] START max_depth=5, max_features=8, min_samples_leaf=10, min_samples_split=20, n_estimators=300\n",
      "[CV 4/5; 14/243] END max_depth=5, max_features=8, min_samples_leaf=10, min_samples_split=20, n_estimators=300;, score=-44.840 total time=   1.3s\n",
      "[CV 2/5; 16/243] START max_depth=5, max_features=8, min_samples_leaf=10, min_samples_split=30, n_estimators=200\n",
      "[CV 2/5; 16/243] END max_depth=5, max_features=8, min_samples_leaf=10, min_samples_split=30, n_estimators=200;, score=-44.606 total time=   0.8s\n",
      "[CV 4/5; 16/243] START max_depth=5, max_features=8, min_samples_leaf=10, min_samples_split=30, n_estimators=200\n",
      "[CV 4/5; 16/243] END max_depth=5, max_features=8, min_samples_leaf=10, min_samples_split=30, n_estimators=200;, score=-46.001 total time=   0.9s\n",
      "[CV 5/5; 17/243] START max_depth=5, max_features=8, min_samples_leaf=10, min_samples_split=30, n_estimators=300\n",
      "[CV 5/5; 17/243] END max_depth=5, max_features=8, min_samples_leaf=10, min_samples_split=30, n_estimators=300;, score=-45.317 total time=   1.4s\n",
      "[CV 3/5; 19/243] START max_depth=5, max_features=8, min_samples_leaf=15, min_samples_split=10, n_estimators=200\n",
      "[CV 3/5; 19/243] END max_depth=5, max_features=8, min_samples_leaf=15, min_samples_split=10, n_estimators=200;, score=-44.594 total time=   1.0s\n",
      "[CV 2/5; 20/243] START max_depth=5, max_features=8, min_samples_leaf=15, min_samples_split=10, n_estimators=300\n",
      "[CV 2/5; 20/243] END max_depth=5, max_features=8, min_samples_leaf=15, min_samples_split=10, n_estimators=300;, score=-43.491 total time=   1.3s\n",
      "[CV 5/5; 21/243] START max_depth=5, max_features=8, min_samples_leaf=15, min_samples_split=10, n_estimators=500\n",
      "[CV 5/5; 21/243] END max_depth=5, max_features=8, min_samples_leaf=15, min_samples_split=10, n_estimators=500;, score=-44.135 total time=   2.1s\n",
      "[CV 2/5; 24/243] START max_depth=5, max_features=8, min_samples_leaf=15, min_samples_split=20, n_estimators=500\n",
      "[CV 2/5; 24/243] END max_depth=5, max_features=8, min_samples_leaf=15, min_samples_split=20, n_estimators=500;, score=-42.440 total time=   2.1s\n",
      "[CV 3/5; 26/243] START max_depth=5, max_features=8, min_samples_leaf=15, min_samples_split=30, n_estimators=300\n",
      "[CV 3/5; 26/243] END max_depth=5, max_features=8, min_samples_leaf=15, min_samples_split=30, n_estimators=300;, score=-43.382 total time=   1.3s\n",
      "[CV 5/5; 27/243] START max_depth=5, max_features=8, min_samples_leaf=15, min_samples_split=30, n_estimators=500\n",
      "[CV 5/5; 27/243] END max_depth=5, max_features=8, min_samples_leaf=15, min_samples_split=30, n_estimators=500;, score=-44.135 total time=   1.9s\n",
      "[CV 1/5; 30/243] START max_depth=5, max_features=10, min_samples_leaf=5, min_samples_split=10, n_estimators=500\n",
      "[CV 1/5; 30/243] END max_depth=5, max_features=10, min_samples_leaf=5, min_samples_split=10, n_estimators=500;, score=-44.122 total time=   2.5s\n",
      "[CV 1/5; 32/243] START max_depth=5, max_features=10, min_samples_leaf=5, min_samples_split=20, n_estimators=300\n",
      "[CV 1/5; 32/243] END max_depth=5, max_features=10, min_samples_leaf=5, min_samples_split=20, n_estimators=300;, score=-45.226 total time=   1.6s\n",
      "[CV 5/5; 33/243] START max_depth=5, max_features=10, min_samples_leaf=5, min_samples_split=20, n_estimators=500\n",
      "[CV 5/5; 33/243] END max_depth=5, max_features=10, min_samples_leaf=5, min_samples_split=20, n_estimators=500;, score=-43.834 total time=   2.5s\n",
      "[CV 1/5; 36/243] START max_depth=5, max_features=10, min_samples_leaf=5, min_samples_split=30, n_estimators=500\n",
      "[CV 1/5; 36/243] END max_depth=5, max_features=10, min_samples_leaf=5, min_samples_split=30, n_estimators=500;, score=-44.250 total time=   2.6s\n",
      "[CV 2/5; 38/243] START max_depth=5, max_features=10, min_samples_leaf=10, min_samples_split=10, n_estimators=300\n",
      "[CV 2/5; 38/243] END max_depth=5, max_features=10, min_samples_leaf=10, min_samples_split=10, n_estimators=300;, score=-43.231 total time=   1.5s\n",
      "[CV 5/5; 39/243] START max_depth=5, max_features=10, min_samples_leaf=10, min_samples_split=10, n_estimators=500\n",
      "[CV 5/5; 39/243] END max_depth=5, max_features=10, min_samples_leaf=10, min_samples_split=10, n_estimators=500;, score=-43.905 total time=   2.5s\n",
      "[CV 3/5; 42/243] START max_depth=5, max_features=10, min_samples_leaf=10, min_samples_split=20, n_estimators=500\n",
      "[CV 3/5; 42/243] END max_depth=5, max_features=10, min_samples_leaf=10, min_samples_split=20, n_estimators=500;, score=-42.041 total time=   2.5s\n",
      "[CV 4/5; 44/243] START max_depth=5, max_features=10, min_samples_leaf=10, min_samples_split=30, n_estimators=300\n",
      "[CV 4/5; 44/243] END max_depth=5, max_features=10, min_samples_leaf=10, min_samples_split=30, n_estimators=300;, score=-44.609 total time=   1.6s\n",
      "[CV 2/5; 46/243] START max_depth=5, max_features=10, min_samples_leaf=15, min_samples_split=10, n_estimators=200\n",
      "[CV 2/5; 46/243] END max_depth=5, max_features=10, min_samples_leaf=15, min_samples_split=10, n_estimators=200;, score=-44.393 total time=   1.1s\n",
      "[CV 5/5; 46/243] START max_depth=5, max_features=10, min_samples_leaf=15, min_samples_split=10, n_estimators=200\n",
      "[CV 5/5; 46/243] END max_depth=5, max_features=10, min_samples_leaf=15, min_samples_split=10, n_estimators=200;, score=-46.500 total time=   1.0s\n",
      "[CV 3/5; 48/243] START max_depth=5, max_features=10, min_samples_leaf=15, min_samples_split=10, n_estimators=500\n",
      "[CV 3/5; 48/243] END max_depth=5, max_features=10, min_samples_leaf=15, min_samples_split=10, n_estimators=500;, score=-42.100 total time=   2.6s\n",
      "[CV 4/5; 50/243] START max_depth=5, max_features=10, min_samples_leaf=15, min_samples_split=20, n_estimators=300\n",
      "[CV 4/5; 50/243] END max_depth=5, max_features=10, min_samples_leaf=15, min_samples_split=20, n_estimators=300;, score=-44.679 total time=   1.5s\n",
      "[CV 1/5; 52/243] START max_depth=5, max_features=10, min_samples_leaf=15, min_samples_split=30, n_estimators=200\n",
      "[CV 1/5; 52/243] END max_depth=5, max_features=10, min_samples_leaf=15, min_samples_split=30, n_estimators=200;, score=-46.521 total time=   1.0s\n",
      "[CV 4/5; 52/243] START max_depth=5, max_features=10, min_samples_leaf=15, min_samples_split=30, n_estimators=200\n",
      "[CV 4/5; 52/243] END max_depth=5, max_features=10, min_samples_leaf=15, min_samples_split=30, n_estimators=200;, score=-45.829 total time=   1.1s\n",
      "[CV 1/5; 54/243] START max_depth=5, max_features=10, min_samples_leaf=15, min_samples_split=30, n_estimators=500\n",
      "[CV 1/5; 54/243] END max_depth=5, max_features=10, min_samples_leaf=15, min_samples_split=30, n_estimators=500;, score=-44.366 total time=   2.4s\n",
      "[CV 1/5; 56/243] START max_depth=5, max_features=12, min_samples_leaf=5, min_samples_split=10, n_estimators=300\n",
      "[CV 1/5; 56/243] END max_depth=5, max_features=12, min_samples_leaf=5, min_samples_split=10, n_estimators=300;, score=-45.060 total time=   1.7s\n",
      "[CV 4/5; 57/243] START max_depth=5, max_features=12, min_samples_leaf=5, min_samples_split=10, n_estimators=500\n",
      "[CV 4/5; 57/243] END max_depth=5, max_features=12, min_samples_leaf=5, min_samples_split=10, n_estimators=500;, score=-43.210 total time=   3.1s\n",
      "[CV 1/5; 60/243] START max_depth=5, max_features=12, min_samples_leaf=5, min_samples_split=20, n_estimators=500\n",
      "[CV 1/5; 60/243] END max_depth=5, max_features=12, min_samples_leaf=5, min_samples_split=20, n_estimators=500;, score=-44.026 total time=   3.0s\n",
      "[CV 3/5; 62/243] START max_depth=5, max_features=12, min_samples_leaf=5, min_samples_split=30, n_estimators=300\n",
      "[CV 3/5; 62/243] END max_depth=5, max_features=12, min_samples_leaf=5, min_samples_split=30, n_estimators=300;, score=-42.905 total time=   2.0s\n",
      "[CV 2/5; 64/243] START max_depth=5, max_features=12, min_samples_leaf=10, min_samples_split=10, n_estimators=200\n",
      "[CV 2/5; 64/243] END max_depth=5, max_features=12, min_samples_leaf=10, min_samples_split=10, n_estimators=200;, score=-44.230 total time=   1.2s\n",
      "[CV 5/5; 64/243] START max_depth=5, max_features=12, min_samples_leaf=10, min_samples_split=10, n_estimators=200\n",
      "[CV 5/5; 64/243] END max_depth=5, max_features=12, min_samples_leaf=10, min_samples_split=10, n_estimators=200;, score=-46.130 total time=   1.1s\n",
      "[CV 5/5; 65/243] START max_depth=5, max_features=12, min_samples_leaf=10, min_samples_split=10, n_estimators=300\n",
      "[CV 5/5; 65/243] END max_depth=5, max_features=12, min_samples_leaf=10, min_samples_split=10, n_estimators=300;, score=-44.936 total time=   1.8s\n",
      "[CV 3/5; 67/243] START max_depth=5, max_features=12, min_samples_leaf=10, min_samples_split=20, n_estimators=200\n",
      "[CV 3/5; 67/243] END max_depth=5, max_features=12, min_samples_leaf=10, min_samples_split=20, n_estimators=200;, score=-44.061 total time=   1.2s\n",
      "[CV 3/5; 68/243] START max_depth=5, max_features=12, min_samples_leaf=10, min_samples_split=20, n_estimators=300\n",
      "[CV 3/5; 68/243] END max_depth=5, max_features=12, min_samples_leaf=10, min_samples_split=20, n_estimators=300;, score=-43.010 total time=   1.7s\n",
      "[CV 2/5; 70/243] START max_depth=5, max_features=12, min_samples_leaf=10, min_samples_split=30, n_estimators=200\n",
      "[CV 2/5; 70/243] END max_depth=5, max_features=12, min_samples_leaf=10, min_samples_split=30, n_estimators=200;, score=-44.205 total time=   1.2s\n",
      "[CV 5/5; 70/243] START max_depth=5, max_features=12, min_samples_leaf=10, min_samples_split=30, n_estimators=200\n",
      "[CV 5/5; 70/243] END max_depth=5, max_features=12, min_samples_leaf=10, min_samples_split=30, n_estimators=200;, score=-46.159 total time=   1.2s\n",
      "[CV 1/5; 72/243] START max_depth=5, max_features=12, min_samples_leaf=10, min_samples_split=30, n_estimators=500\n",
      "[CV 1/5; 72/243] END max_depth=5, max_features=12, min_samples_leaf=10, min_samples_split=30, n_estimators=500;, score=-44.160 total time=   3.0s\n",
      "[CV 2/5; 74/243] START max_depth=5, max_features=12, min_samples_leaf=15, min_samples_split=10, n_estimators=300\n",
      "[CV 2/5; 74/243] END max_depth=5, max_features=12, min_samples_leaf=15, min_samples_split=10, n_estimators=300;, score=-43.215 total time=   1.8s\n",
      "[CV 5/5; 75/243] START max_depth=5, max_features=12, min_samples_leaf=15, min_samples_split=10, n_estimators=500\n",
      "[CV 5/5; 75/243] END max_depth=5, max_features=12, min_samples_leaf=15, min_samples_split=10, n_estimators=500;, score=-43.866 total time=   3.1s\n",
      "[CV 3/5; 78/243] START max_depth=5, max_features=12, min_samples_leaf=15, min_samples_split=20, n_estimators=500\n",
      "[CV 3/5; 78/243] END max_depth=5, max_features=12, min_samples_leaf=15, min_samples_split=20, n_estimators=500;, score=-42.009 total time=   3.0s\n",
      "[CV 5/5; 80/243] START max_depth=5, max_features=12, min_samples_leaf=15, min_samples_split=30, n_estimators=300\n",
      "[CV 5/5; 80/243] END max_depth=5, max_features=12, min_samples_leaf=15, min_samples_split=30, n_estimators=300;, score=-44.958 total time=   1.9s\n",
      "[CV 3/5; 82/243] START max_depth=10, max_features=8, min_samples_leaf=5, min_samples_split=10, n_estimators=200\n",
      "[CV 3/5; 82/243] END max_depth=10, max_features=8, min_samples_leaf=5, min_samples_split=10, n_estimators=200;, score=-41.762 total time=   1.5s\n",
      "[CV 4/5; 83/243] START max_depth=10, max_features=8, min_samples_leaf=5, min_samples_split=10, n_estimators=300\n",
      "[CV 4/5; 83/243] END max_depth=10, max_features=8, min_samples_leaf=5, min_samples_split=10, n_estimators=300;, score=-41.947 total time=   2.2s\n",
      "[CV 5/5; 84/243] START max_depth=10, max_features=8, min_samples_leaf=5, min_samples_split=10, n_estimators=500\n",
      "[CV 5/5; 84/243] END max_depth=10, max_features=8, min_samples_leaf=5, min_samples_split=10, n_estimators=500;, score=-41.570 total time=   3.8s\n",
      "[CV 2/5; 87/243] START max_depth=10, max_features=8, min_samples_leaf=5, min_samples_split=20, n_estimators=500\n",
      "[CV 2/5; 87/243] END max_depth=10, max_features=8, min_samples_leaf=5, min_samples_split=20, n_estimators=500;, score=-40.112 total time=   3.5s\n",
      "[CV 2/5; 89/243] START max_depth=10, max_features=8, min_samples_leaf=5, min_samples_split=30, n_estimators=300\n",
      "[CV 2/5; 89/243] END max_depth=10, max_features=8, min_samples_leaf=5, min_samples_split=30, n_estimators=300;, score=-41.025 total time=   2.2s\n",
      "[CV 5/5; 90/243] START max_depth=10, max_features=8, min_samples_leaf=5, min_samples_split=30, n_estimators=500\n",
      "[CV 5/5; 90/243] END max_depth=10, max_features=8, min_samples_leaf=5, min_samples_split=30, n_estimators=500;, score=-41.724 total time=   4.0s\n",
      "[CV 3/5; 93/243] START max_depth=10, max_features=8, min_samples_leaf=10, min_samples_split=10, n_estimators=500\n",
      "[CV 3/5; 93/243] END max_depth=10, max_features=8, min_samples_leaf=10, min_samples_split=10, n_estimators=500;, score=-40.194 total time=   3.8s\n",
      "[CV 4/5; 95/243] START max_depth=10, max_features=8, min_samples_leaf=10, min_samples_split=20, n_estimators=300\n",
      "[CV 4/5; 95/243] END max_depth=10, max_features=8, min_samples_leaf=10, min_samples_split=20, n_estimators=300;, score=-42.463 total time=   2.1s\n",
      "[CV 2/5; 97/243] START max_depth=10, max_features=8, min_samples_leaf=10, min_samples_split=30, n_estimators=200\n",
      "[CV 2/5; 97/243] END max_depth=10, max_features=8, min_samples_leaf=10, min_samples_split=30, n_estimators=200;, score=-42.354 total time=   1.5s\n",
      "[CV 5/5; 97/243] START max_depth=10, max_features=8, min_samples_leaf=10, min_samples_split=30, n_estimators=200\n",
      "[CV 5/5; 97/243] END max_depth=10, max_features=8, min_samples_leaf=10, min_samples_split=30, n_estimators=200;, score=-44.354 total time=   1.5s\n",
      "[CV 2/5; 99/243] START max_depth=10, max_features=8, min_samples_leaf=10, min_samples_split=30, n_estimators=500\n",
      "[CV 2/5; 99/243] END max_depth=10, max_features=8, min_samples_leaf=10, min_samples_split=30, n_estimators=500;, score=-40.312 total time=   3.9s\n",
      "[CV 3/5; 101/243] START max_depth=10, max_features=8, min_samples_leaf=15, min_samples_split=10, n_estimators=300\n",
      "[CV 3/5; 101/243] END max_depth=10, max_features=8, min_samples_leaf=15, min_samples_split=10, n_estimators=300;, score=-41.432 total time=   2.2s\n",
      "[CV 5/5; 102/243] START max_depth=10, max_features=8, min_samples_leaf=15, min_samples_split=10, n_estimators=500\n",
      "[CV 5/5; 102/243] END max_depth=10, max_features=8, min_samples_leaf=15, min_samples_split=10, n_estimators=500;, score=-42.090 total time=   3.7s\n",
      "[CV 4/5; 1/243] START max_depth=5, max_features=8, min_samples_leaf=5, min_samples_split=10, n_estimators=200\n",
      "[CV 4/5; 1/243] END max_depth=5, max_features=8, min_samples_leaf=5, min_samples_split=10, n_estimators=200;, score=-45.947 total time=   0.9s\n",
      "[CV 1/5; 3/243] START max_depth=5, max_features=8, min_samples_leaf=5, min_samples_split=10, n_estimators=500\n",
      "[CV 1/5; 3/243] END max_depth=5, max_features=8, min_samples_leaf=5, min_samples_split=10, n_estimators=500;, score=-44.297 total time=   2.1s\n",
      "[CV 2/5; 5/243] START max_depth=5, max_features=8, min_samples_leaf=5, min_samples_split=20, n_estimators=300\n",
      "[CV 2/5; 5/243] END max_depth=5, max_features=8, min_samples_leaf=5, min_samples_split=20, n_estimators=300;, score=-43.349 total time=   1.2s\n",
      "[CV 5/5; 6/243] START max_depth=5, max_features=8, min_samples_leaf=5, min_samples_split=20, n_estimators=500\n",
      "[CV 5/5; 6/243] END max_depth=5, max_features=8, min_samples_leaf=5, min_samples_split=20, n_estimators=500;, score=-43.813 total time=   2.3s\n",
      "[CV 3/5; 9/243] START max_depth=5, max_features=8, min_samples_leaf=5, min_samples_split=30, n_estimators=500\n",
      "[CV 3/5; 9/243] END max_depth=5, max_features=8, min_samples_leaf=5, min_samples_split=30, n_estimators=500;, score=-42.122 total time=   2.1s\n",
      "[CV 5/5; 11/243] START max_depth=5, max_features=8, min_samples_leaf=10, min_samples_split=10, n_estimators=300\n",
      "[CV 5/5; 11/243] END max_depth=5, max_features=8, min_samples_leaf=10, min_samples_split=10, n_estimators=300;, score=-45.303 total time=   1.2s\n",
      "[CV 3/5; 13/243] START max_depth=5, max_features=8, min_samples_leaf=10, min_samples_split=20, n_estimators=200\n",
      "[CV 3/5; 13/243] END max_depth=5, max_features=8, min_samples_leaf=10, min_samples_split=20, n_estimators=200;, score=-44.567 total time=   0.9s\n",
      "[CV 1/5; 14/243] START max_depth=5, max_features=8, min_samples_leaf=10, min_samples_split=20, n_estimators=300\n",
      "[CV 1/5; 14/243] END max_depth=5, max_features=8, min_samples_leaf=10, min_samples_split=20, n_estimators=300;, score=-45.435 total time=   1.4s\n",
      "[CV 4/5; 15/243] START max_depth=5, max_features=8, min_samples_leaf=10, min_samples_split=20, n_estimators=500\n",
      "[CV 4/5; 15/243] END max_depth=5, max_features=8, min_samples_leaf=10, min_samples_split=20, n_estimators=500;, score=-43.703 total time=   2.3s\n",
      "[CV 3/5; 18/243] START max_depth=5, max_features=8, min_samples_leaf=10, min_samples_split=30, n_estimators=500\n",
      "[CV 3/5; 18/243] END max_depth=5, max_features=8, min_samples_leaf=10, min_samples_split=30, n_estimators=500;, score=-42.133 total time=   2.2s\n",
      "[CV 5/5; 20/243] START max_depth=5, max_features=8, min_samples_leaf=15, min_samples_split=10, n_estimators=300\n",
      "[CV 5/5; 20/243] END max_depth=5, max_features=8, min_samples_leaf=15, min_samples_split=10, n_estimators=300;, score=-45.454 total time=   1.3s\n",
      "[CV 3/5; 22/243] START max_depth=5, max_features=8, min_samples_leaf=15, min_samples_split=20, n_estimators=200\n",
      "[CV 3/5; 22/243] END max_depth=5, max_features=8, min_samples_leaf=15, min_samples_split=20, n_estimators=200;, score=-44.594 total time=   0.9s\n",
      "[CV 1/5; 23/243] START max_depth=5, max_features=8, min_samples_leaf=15, min_samples_split=20, n_estimators=300\n",
      "[CV 1/5; 23/243] END max_depth=5, max_features=8, min_samples_leaf=15, min_samples_split=20, n_estimators=300;, score=-45.522 total time=   1.2s\n",
      "[CV 3/5; 24/243] START max_depth=5, max_features=8, min_samples_leaf=15, min_samples_split=20, n_estimators=500\n",
      "[CV 3/5; 24/243] END max_depth=5, max_features=8, min_samples_leaf=15, min_samples_split=20, n_estimators=500;, score=-42.236 total time=   2.2s\n",
      "[CV 1/5; 27/243] START max_depth=5, max_features=8, min_samples_leaf=15, min_samples_split=30, n_estimators=500\n",
      "[CV 1/5; 27/243] END max_depth=5, max_features=8, min_samples_leaf=15, min_samples_split=30, n_estimators=500;, score=-44.438 total time=   2.3s\n",
      "[CV 1/5; 29/243] START max_depth=5, max_features=10, min_samples_leaf=5, min_samples_split=10, n_estimators=300\n",
      "[CV 1/5; 29/243] END max_depth=5, max_features=10, min_samples_leaf=5, min_samples_split=10, n_estimators=300;, score=-45.192 total time=   1.5s\n",
      "[CV 4/5; 30/243] START max_depth=5, max_features=10, min_samples_leaf=5, min_samples_split=10, n_estimators=500\n",
      "[CV 4/5; 30/243] END max_depth=5, max_features=10, min_samples_leaf=5, min_samples_split=10, n_estimators=500;, score=-43.374 total time=   2.4s\n",
      "[CV 1/5; 33/243] START max_depth=5, max_features=10, min_samples_leaf=5, min_samples_split=20, n_estimators=500\n",
      "[CV 1/5; 33/243] END max_depth=5, max_features=10, min_samples_leaf=5, min_samples_split=20, n_estimators=500;, score=-44.158 total time=   2.6s\n",
      "[CV 1/5; 35/243] START max_depth=5, max_features=10, min_samples_leaf=5, min_samples_split=30, n_estimators=300\n",
      "[CV 1/5; 35/243] END max_depth=5, max_features=10, min_samples_leaf=5, min_samples_split=30, n_estimators=300;, score=-45.308 total time=   1.5s\n",
      "[CV 4/5; 36/243] START max_depth=5, max_features=10, min_samples_leaf=5, min_samples_split=30, n_estimators=500\n",
      "[CV 4/5; 36/243] END max_depth=5, max_features=10, min_samples_leaf=5, min_samples_split=30, n_estimators=500;, score=-43.456 total time=   2.6s\n",
      "[CV 3/5; 39/243] START max_depth=5, max_features=10, min_samples_leaf=10, min_samples_split=10, n_estimators=500\n",
      "[CV 3/5; 39/243] END max_depth=5, max_features=10, min_samples_leaf=10, min_samples_split=10, n_estimators=500;, score=-42.041 total time=   2.6s\n",
      "[CV 4/5; 41/243] START max_depth=5, max_features=10, min_samples_leaf=10, min_samples_split=20, n_estimators=300\n",
      "[CV 4/5; 41/243] END max_depth=5, max_features=10, min_samples_leaf=10, min_samples_split=20, n_estimators=300;, score=-44.601 total time=   1.5s\n",
      "[CV 1/5; 43/243] START max_depth=5, max_features=10, min_samples_leaf=10, min_samples_split=30, n_estimators=200\n",
      "[CV 1/5; 43/243] END max_depth=5, max_features=10, min_samples_leaf=10, min_samples_split=30, n_estimators=200;, score=-46.460 total time=   1.1s\n",
      "[CV 5/5; 43/243] START max_depth=5, max_features=10, min_samples_leaf=10, min_samples_split=30, n_estimators=200\n",
      "[CV 5/5; 43/243] END max_depth=5, max_features=10, min_samples_leaf=10, min_samples_split=30, n_estimators=200;, score=-46.521 total time=   1.0s\n",
      "[CV 5/5; 44/243] START max_depth=5, max_features=10, min_samples_leaf=10, min_samples_split=30, n_estimators=300\n",
      "[CV 5/5; 44/243] END max_depth=5, max_features=10, min_samples_leaf=10, min_samples_split=30, n_estimators=300;, score=-45.177 total time=   1.5s\n",
      "[CV 3/5; 46/243] START max_depth=5, max_features=10, min_samples_leaf=15, min_samples_split=10, n_estimators=200\n",
      "[CV 3/5; 46/243] END max_depth=5, max_features=10, min_samples_leaf=15, min_samples_split=10, n_estimators=200;, score=-44.232 total time=   1.1s\n",
      "[CV 2/5; 47/243] START max_depth=5, max_features=10, min_samples_leaf=15, min_samples_split=10, n_estimators=300\n",
      "[CV 2/5; 47/243] END max_depth=5, max_features=10, min_samples_leaf=15, min_samples_split=10, n_estimators=300;, score=-43.303 total time=   1.5s\n",
      "[CV 4/5; 48/243] START max_depth=5, max_features=10, min_samples_leaf=15, min_samples_split=10, n_estimators=500\n",
      "[CV 4/5; 48/243] END max_depth=5, max_features=10, min_samples_leaf=15, min_samples_split=10, n_estimators=500;, score=-43.572 total time=   2.5s\n",
      "[CV 2/5; 51/243] START max_depth=5, max_features=10, min_samples_leaf=15, min_samples_split=20, n_estimators=500\n",
      "[CV 2/5; 51/243] END max_depth=5, max_features=10, min_samples_leaf=15, min_samples_split=20, n_estimators=500;, score=-42.252 total time=   2.4s\n",
      "[CV 3/5; 53/243] START max_depth=5, max_features=10, min_samples_leaf=15, min_samples_split=30, n_estimators=300\n",
      "[CV 3/5; 53/243] END max_depth=5, max_features=10, min_samples_leaf=15, min_samples_split=30, n_estimators=300;, score=-43.131 total time=   1.6s\n",
      "[CV 1/5; 55/243] START max_depth=5, max_features=12, min_samples_leaf=5, min_samples_split=10, n_estimators=200\n",
      "[CV 1/5; 55/243] END max_depth=5, max_features=12, min_samples_leaf=5, min_samples_split=10, n_estimators=200;, score=-46.202 total time=   1.2s\n",
      "[CV 4/5; 55/243] START max_depth=5, max_features=12, min_samples_leaf=5, min_samples_split=10, n_estimators=200\n",
      "[CV 4/5; 55/243] END max_depth=5, max_features=12, min_samples_leaf=5, min_samples_split=10, n_estimators=200;, score=-45.404 total time=   1.2s\n",
      "[CV 1/5; 57/243] START max_depth=5, max_features=12, min_samples_leaf=5, min_samples_split=10, n_estimators=500\n",
      "[CV 1/5; 57/243] END max_depth=5, max_features=12, min_samples_leaf=5, min_samples_split=10, n_estimators=500;, score=-44.000 total time=   2.8s\n",
      "[CV 1/5; 59/243] START max_depth=5, max_features=12, min_samples_leaf=5, min_samples_split=20, n_estimators=300\n",
      "[CV 1/5; 59/243] END max_depth=5, max_features=12, min_samples_leaf=5, min_samples_split=20, n_estimators=300;, score=-45.067 total time=   1.6s\n",
      "[CV 4/5; 60/243] START max_depth=5, max_features=12, min_samples_leaf=5, min_samples_split=20, n_estimators=500\n",
      "[CV 4/5; 60/243] END max_depth=5, max_features=12, min_samples_leaf=5, min_samples_split=20, n_estimators=500;, score=-43.296 total time=   2.8s\n",
      "[CV 4/5; 62/243] START max_depth=5, max_features=12, min_samples_leaf=5, min_samples_split=30, n_estimators=300\n",
      "[CV 4/5; 62/243] END max_depth=5, max_features=12, min_samples_leaf=5, min_samples_split=30, n_estimators=300;, score=-44.426 total time=   1.7s\n",
      "[CV 1/5; 64/243] START max_depth=5, max_features=12, min_samples_leaf=10, min_samples_split=10, n_estimators=200\n",
      "[CV 1/5; 64/243] END max_depth=5, max_features=12, min_samples_leaf=10, min_samples_split=10, n_estimators=200;, score=-46.221 total time=   1.2s\n",
      "[CV 4/5; 64/243] START max_depth=5, max_features=12, min_samples_leaf=10, min_samples_split=10, n_estimators=200\n",
      "[CV 4/5; 64/243] END max_depth=5, max_features=12, min_samples_leaf=10, min_samples_split=10, n_estimators=200;, score=-45.506 total time=   1.3s\n",
      "[CV 1/5; 66/243] START max_depth=5, max_features=12, min_samples_leaf=10, min_samples_split=10, n_estimators=500\n",
      "[CV 1/5; 66/243] END max_depth=5, max_features=12, min_samples_leaf=10, min_samples_split=10, n_estimators=500;, score=-44.154 total time=   2.9s\n",
      "[CV 2/5; 68/243] START max_depth=5, max_features=12, min_samples_leaf=10, min_samples_split=20, n_estimators=300\n",
      "[CV 2/5; 68/243] END max_depth=5, max_features=12, min_samples_leaf=10, min_samples_split=20, n_estimators=300;, score=-43.186 total time=   1.7s\n",
      "[CV 4/5; 69/243] START max_depth=5, max_features=12, min_samples_leaf=10, min_samples_split=20, n_estimators=500\n",
      "[CV 4/5; 69/243] END max_depth=5, max_features=12, min_samples_leaf=10, min_samples_split=20, n_estimators=500;, score=-43.443 total time=   2.8s\n",
      "[CV 3/5; 72/243] START max_depth=5, max_features=12, min_samples_leaf=10, min_samples_split=30, n_estimators=500\n",
      "[CV 3/5; 72/243] END max_depth=5, max_features=12, min_samples_leaf=10, min_samples_split=30, n_estimators=500;, score=-42.030 total time=   2.9s\n",
      "[CV 3/5; 74/243] START max_depth=5, max_features=12, min_samples_leaf=15, min_samples_split=10, n_estimators=300\n",
      "[CV 3/5; 74/243] END max_depth=5, max_features=12, min_samples_leaf=15, min_samples_split=10, n_estimators=300;, score=-43.032 total time=   1.8s\n",
      "[CV 2/5; 76/243] START max_depth=5, max_features=12, min_samples_leaf=15, min_samples_split=20, n_estimators=200\n",
      "[CV 2/5; 76/243] END max_depth=5, max_features=12, min_samples_leaf=15, min_samples_split=20, n_estimators=200;, score=-44.254 total time=   1.3s\n",
      "[CV 1/5; 77/243] START max_depth=5, max_features=12, min_samples_leaf=15, min_samples_split=20, n_estimators=300\n",
      "[CV 1/5; 77/243] END max_depth=5, max_features=12, min_samples_leaf=15, min_samples_split=20, n_estimators=300;, score=-45.208 total time=   1.7s\n",
      "[CV 4/5; 78/243] START max_depth=5, max_features=12, min_samples_leaf=15, min_samples_split=20, n_estimators=500\n",
      "[CV 4/5; 78/243] END max_depth=5, max_features=12, min_samples_leaf=15, min_samples_split=20, n_estimators=500;, score=-43.459 total time=   3.0s\n",
      "[CV 3/5; 81/243] START max_depth=5, max_features=12, min_samples_leaf=15, min_samples_split=30, n_estimators=500\n",
      "[CV 3/5; 81/243] END max_depth=5, max_features=12, min_samples_leaf=15, min_samples_split=30, n_estimators=500;, score=-42.009 total time=   2.9s\n",
      "[CV 5/5; 82/243] START max_depth=10, max_features=8, min_samples_leaf=5, min_samples_split=10, n_estimators=200\n",
      "[CV 5/5; 82/243] END max_depth=10, max_features=8, min_samples_leaf=5, min_samples_split=10, n_estimators=200;, score=-43.850 total time=   1.5s\n",
      "[CV 3/5; 84/243] START max_depth=10, max_features=8, min_samples_leaf=5, min_samples_split=10, n_estimators=500\n",
      "[CV 3/5; 84/243] END max_depth=10, max_features=8, min_samples_leaf=5, min_samples_split=10, n_estimators=500;, score=-39.862 total time=   3.9s\n",
      "[CV 4/5; 86/243] START max_depth=10, max_features=8, min_samples_leaf=5, min_samples_split=20, n_estimators=300\n",
      "[CV 4/5; 86/243] END max_depth=10, max_features=8, min_samples_leaf=5, min_samples_split=20, n_estimators=300;, score=-42.291 total time=   2.3s\n",
      "[CV 2/5; 88/243] START max_depth=10, max_features=8, min_samples_leaf=5, min_samples_split=30, n_estimators=200\n",
      "[CV 2/5; 88/243] END max_depth=10, max_features=8, min_samples_leaf=5, min_samples_split=30, n_estimators=200;, score=-42.119 total time=   1.6s\n",
      "[CV 5/5; 88/243] START max_depth=10, max_features=8, min_samples_leaf=5, min_samples_split=30, n_estimators=200\n",
      "[CV 5/5; 88/243] END max_depth=10, max_features=8, min_samples_leaf=5, min_samples_split=30, n_estimators=200;, score=-44.077 total time=   1.5s\n",
      "[CV 1/5; 90/243] START max_depth=10, max_features=8, min_samples_leaf=5, min_samples_split=30, n_estimators=500\n",
      "[CV 1/5; 90/243] END max_depth=10, max_features=8, min_samples_leaf=5, min_samples_split=30, n_estimators=500;, score=-42.494 total time=   3.8s\n",
      "[CV 1/5; 92/243] START max_depth=10, max_features=8, min_samples_leaf=10, min_samples_split=10, n_estimators=300\n",
      "[CV 1/5; 92/243] END max_depth=10, max_features=8, min_samples_leaf=10, min_samples_split=10, n_estimators=300;, score=-43.572 total time=   2.3s\n",
      "[CV 5/5; 93/243] START max_depth=10, max_features=8, min_samples_leaf=10, min_samples_split=10, n_estimators=500\n",
      "[CV 5/5; 93/243] END max_depth=10, max_features=8, min_samples_leaf=10, min_samples_split=10, n_estimators=500;, score=-41.714 total time=   3.9s\n",
      "[CV 3/5; 96/243] START max_depth=10, max_features=8, min_samples_leaf=10, min_samples_split=20, n_estimators=500\n",
      "[CV 3/5; 96/243] END max_depth=10, max_features=8, min_samples_leaf=10, min_samples_split=20, n_estimators=500;, score=-40.194 total time=   3.8s\n",
      "[CV 3/5; 98/243] START max_depth=10, max_features=8, min_samples_leaf=10, min_samples_split=30, n_estimators=300\n",
      "[CV 3/5; 98/243] END max_depth=10, max_features=8, min_samples_leaf=10, min_samples_split=30, n_estimators=300;, score=-41.052 total time=   2.2s\n",
      "[CV 1/5; 100/243] START max_depth=10, max_features=8, min_samples_leaf=15, min_samples_split=10, n_estimators=200\n",
      "[CV 1/5; 100/243] END max_depth=10, max_features=8, min_samples_leaf=15, min_samples_split=10, n_estimators=200;, score=-44.742 total time=   1.5s\n",
      "[CV 4/5; 100/243] START max_depth=10, max_features=8, min_samples_leaf=15, min_samples_split=10, n_estimators=200\n",
      "[CV 4/5; 100/243] END max_depth=10, max_features=8, min_samples_leaf=15, min_samples_split=10, n_estimators=200;, score=-43.915 total time=   1.5s\n",
      "[CV 1/5; 102/243] START max_depth=10, max_features=8, min_samples_leaf=15, min_samples_split=10, n_estimators=500\n",
      "[CV 1/5; 102/243] END max_depth=10, max_features=8, min_samples_leaf=15, min_samples_split=10, n_estimators=500;, score=-42.868 total time=   3.8s\n",
      "[CV 2/5; 104/243] START max_depth=10, max_features=8, min_samples_leaf=15, min_samples_split=20, n_estimators=300\n",
      "[CV 2/5; 104/243] END max_depth=10, max_features=8, min_samples_leaf=15, min_samples_split=20, n_estimators=300;, score=-41.304 total time=   2.2s\n",
      "[CV 4/5; 105/243] START max_depth=10, max_features=8, min_samples_leaf=15, min_samples_split=20, n_estimators=500\n",
      "[CV 4/5; 105/243] END max_depth=10, max_features=8, min_samples_leaf=15, min_samples_split=20, n_estimators=500;, score=-41.568 total time=   3.6s\n",
      "[CV 2/5; 108/243] START max_depth=10, max_features=8, min_samples_leaf=15, min_samples_split=30, n_estimators=500\n",
      "[CV 2/5; 108/243] END max_depth=10, max_features=8, min_samples_leaf=15, min_samples_split=30, n_estimators=500;, score=-40.512 total time=   3.9s\n",
      "[CV 4/5; 91/243] START max_depth=10, max_features=8, min_samples_leaf=10, min_samples_split=10, n_estimators=200\n",
      "[CV 4/5; 91/243] END max_depth=10, max_features=8, min_samples_leaf=10, min_samples_split=10, n_estimators=200;, score=-43.599 total time=   1.5s\n",
      "[CV 5/5; 92/243] START max_depth=10, max_features=8, min_samples_leaf=10, min_samples_split=10, n_estimators=300\n",
      "[CV 5/5; 92/243] END max_depth=10, max_features=8, min_samples_leaf=10, min_samples_split=10, n_estimators=300;, score=-42.854 total time=   2.2s\n",
      "[CV 3/5; 94/243] START max_depth=10, max_features=8, min_samples_leaf=10, min_samples_split=20, n_estimators=200\n",
      "[CV 3/5; 94/243] END max_depth=10, max_features=8, min_samples_leaf=10, min_samples_split=20, n_estimators=200;, score=-42.195 total time=   1.6s\n",
      "[CV 1/5; 95/243] START max_depth=10, max_features=8, min_samples_leaf=10, min_samples_split=20, n_estimators=300\n",
      "[CV 1/5; 95/243] END max_depth=10, max_features=8, min_samples_leaf=10, min_samples_split=20, n_estimators=300;, score=-43.572 total time=   2.2s\n",
      "[CV 4/5; 96/243] START max_depth=10, max_features=8, min_samples_leaf=10, min_samples_split=20, n_estimators=500\n",
      "[CV 4/5; 96/243] END max_depth=10, max_features=8, min_samples_leaf=10, min_samples_split=20, n_estimators=500;, score=-41.423 total time=   3.8s\n",
      "[CV 1/5; 99/243] START max_depth=10, max_features=8, min_samples_leaf=10, min_samples_split=30, n_estimators=500\n",
      "[CV 1/5; 99/243] END max_depth=10, max_features=8, min_samples_leaf=10, min_samples_split=30, n_estimators=500;, score=-42.780 total time=   3.8s\n",
      "[CV 2/5; 101/243] START max_depth=10, max_features=8, min_samples_leaf=15, min_samples_split=10, n_estimators=300\n",
      "[CV 2/5; 101/243] END max_depth=10, max_features=8, min_samples_leaf=15, min_samples_split=10, n_estimators=300;, score=-41.304 total time=   2.3s\n",
      "[CV 1/5; 103/243] START max_depth=10, max_features=8, min_samples_leaf=15, min_samples_split=20, n_estimators=200\n",
      "[CV 1/5; 103/243] END max_depth=10, max_features=8, min_samples_leaf=15, min_samples_split=20, n_estimators=200;, score=-44.742 total time=   1.5s\n",
      "[CV 4/5; 103/243] START max_depth=10, max_features=8, min_samples_leaf=15, min_samples_split=20, n_estimators=200\n",
      "[CV 4/5; 103/243] END max_depth=10, max_features=8, min_samples_leaf=15, min_samples_split=20, n_estimators=200;, score=-43.915 total time=   1.6s\n",
      "[CV 5/5; 104/243] START max_depth=10, max_features=8, min_samples_leaf=15, min_samples_split=20, n_estimators=300\n",
      "[CV 5/5; 104/243] END max_depth=10, max_features=8, min_samples_leaf=15, min_samples_split=20, n_estimators=300;, score=-43.223 total time=   2.3s\n",
      "[CV 3/5; 106/243] START max_depth=10, max_features=8, min_samples_leaf=15, min_samples_split=30, n_estimators=200\n",
      "[CV 3/5; 106/243] END max_depth=10, max_features=8, min_samples_leaf=15, min_samples_split=30, n_estimators=200;, score=-42.561 total time=   1.6s\n",
      "[CV 2/5; 107/243] START max_depth=10, max_features=8, min_samples_leaf=15, min_samples_split=30, n_estimators=300\n",
      "[CV 2/5; 107/243] END max_depth=10, max_features=8, min_samples_leaf=15, min_samples_split=30, n_estimators=300;, score=-41.304 total time=   2.3s\n",
      "[CV 5/5; 108/243] START max_depth=10, max_features=8, min_samples_leaf=15, min_samples_split=30, n_estimators=500\n",
      "[CV 5/5; 108/243] END max_depth=10, max_features=8, min_samples_leaf=15, min_samples_split=30, n_estimators=500;, score=-42.090 total time=   3.7s\n",
      "[CV 1/5; 111/243] START max_depth=10, max_features=10, min_samples_leaf=5, min_samples_split=10, n_estimators=500\n",
      "[CV 1/5; 111/243] END max_depth=10, max_features=10, min_samples_leaf=5, min_samples_split=10, n_estimators=500;, score=-42.227 total time=   4.4s\n",
      "[CV 1/5; 113/243] START max_depth=10, max_features=10, min_samples_leaf=5, min_samples_split=20, n_estimators=300\n",
      "[CV 1/5; 113/243] END max_depth=10, max_features=10, min_samples_leaf=5, min_samples_split=20, n_estimators=300;, score=-43.158 total time=   2.7s\n",
      "[CV 5/5; 114/243] START max_depth=10, max_features=10, min_samples_leaf=5, min_samples_split=20, n_estimators=500\n",
      "[CV 5/5; 114/243] END max_depth=10, max_features=10, min_samples_leaf=5, min_samples_split=20, n_estimators=500;, score=-41.402 total time=   4.5s\n",
      "[CV 2/5; 117/243] START max_depth=10, max_features=10, min_samples_leaf=5, min_samples_split=30, n_estimators=500\n",
      "[CV 2/5; 117/243] END max_depth=10, max_features=10, min_samples_leaf=5, min_samples_split=30, n_estimators=500;, score=-40.120 total time=   4.7s\n",
      "[CV 3/5; 119/243] START max_depth=10, max_features=10, min_samples_leaf=10, min_samples_split=10, n_estimators=300\n",
      "[CV 3/5; 119/243] END max_depth=10, max_features=10, min_samples_leaf=10, min_samples_split=10, n_estimators=300;, score=-40.982 total time=   2.7s\n",
      "[CV 1/5; 121/243] START max_depth=10, max_features=10, min_samples_leaf=10, min_samples_split=20, n_estimators=200\n",
      "[CV 1/5; 121/243] END max_depth=10, max_features=10, min_samples_leaf=10, min_samples_split=20, n_estimators=200;, score=-44.413 total time=   1.7s\n",
      "[CV 4/5; 121/243] START max_depth=10, max_features=10, min_samples_leaf=10, min_samples_split=20, n_estimators=200\n",
      "[CV 4/5; 121/243] END max_depth=10, max_features=10, min_samples_leaf=10, min_samples_split=20, n_estimators=200;, score=-43.315 total time=   1.7s\n",
      "[CV 5/5; 122/243] START max_depth=10, max_features=10, min_samples_leaf=10, min_samples_split=20, n_estimators=300\n",
      "[CV 5/5; 122/243] END max_depth=10, max_features=10, min_samples_leaf=10, min_samples_split=20, n_estimators=300;, score=-42.759 total time=   2.8s\n",
      "[CV 3/5; 124/243] START max_depth=10, max_features=10, min_samples_leaf=10, min_samples_split=30, n_estimators=200\n",
      "[CV 3/5; 124/243] END max_depth=10, max_features=10, min_samples_leaf=10, min_samples_split=30, n_estimators=200;, score=-42.002 total time=   1.6s\n",
      "[CV 1/5; 125/243] START max_depth=10, max_features=10, min_samples_leaf=10, min_samples_split=30, n_estimators=300\n",
      "[CV 1/5; 125/243] END max_depth=10, max_features=10, min_samples_leaf=10, min_samples_split=30, n_estimators=300;, score=-43.422 total time=   2.7s\n",
      "[CV 4/5; 126/243] START max_depth=10, max_features=10, min_samples_leaf=10, min_samples_split=30, n_estimators=500\n",
      "[CV 4/5; 126/243] END max_depth=10, max_features=10, min_samples_leaf=10, min_samples_split=30, n_estimators=500;, score=-41.341 total time=   4.6s\n",
      "[CV 2/5; 129/243] START max_depth=10, max_features=10, min_samples_leaf=15, min_samples_split=10, n_estimators=500\n",
      "[CV 2/5; 129/243] END max_depth=10, max_features=10, min_samples_leaf=15, min_samples_split=10, n_estimators=500;, score=-40.288 total time=   4.6s\n",
      "[CV 3/5; 131/243] START max_depth=10, max_features=10, min_samples_leaf=15, min_samples_split=20, n_estimators=300\n",
      "[CV 3/5; 131/243] END max_depth=10, max_features=10, min_samples_leaf=15, min_samples_split=20, n_estimators=300;, score=-41.224 total time=   2.7s\n",
      "[CV 1/5; 133/243] START max_depth=10, max_features=10, min_samples_leaf=15, min_samples_split=30, n_estimators=200\n",
      "[CV 1/5; 133/243] END max_depth=10, max_features=10, min_samples_leaf=15, min_samples_split=30, n_estimators=200;, score=-44.617 total time=   1.8s\n",
      "[CV 4/5; 133/243] START max_depth=10, max_features=10, min_samples_leaf=15, min_samples_split=30, n_estimators=200\n",
      "[CV 4/5; 133/243] END max_depth=10, max_features=10, min_samples_leaf=15, min_samples_split=30, n_estimators=200;, score=-43.520 total time=   1.8s\n",
      "[CV 5/5; 134/243] START max_depth=10, max_features=10, min_samples_leaf=15, min_samples_split=30, n_estimators=300\n",
      "[CV 5/5; 134/243] END max_depth=10, max_features=10, min_samples_leaf=15, min_samples_split=30, n_estimators=300;, score=-42.999 total time=   2.6s\n",
      "[CV 3/5; 136/243] START max_depth=10, max_features=12, min_samples_leaf=5, min_samples_split=10, n_estimators=200\n",
      "[CV 3/5; 136/243] END max_depth=10, max_features=12, min_samples_leaf=5, min_samples_split=10, n_estimators=200;, score=-41.415 total time=   2.1s\n",
      "[CV 1/5; 137/243] START max_depth=10, max_features=12, min_samples_leaf=5, min_samples_split=10, n_estimators=300\n",
      "[CV 1/5; 137/243] END max_depth=10, max_features=12, min_samples_leaf=5, min_samples_split=10, n_estimators=300;, score=-42.846 total time=   3.2s\n",
      "[CV 5/5; 138/243] START max_depth=10, max_features=12, min_samples_leaf=5, min_samples_split=10, n_estimators=500\n",
      "[CV 5/5; 138/243] END max_depth=10, max_features=12, min_samples_leaf=5, min_samples_split=10, n_estimators=500;, score=-41.407 total time=   5.2s\n",
      "[CV 3/5; 141/243] START max_depth=10, max_features=12, min_samples_leaf=5, min_samples_split=20, n_estimators=500\n",
      "[CV 3/5; 141/243] END max_depth=10, max_features=12, min_samples_leaf=5, min_samples_split=20, n_estimators=500;, score=-39.798 total time=   5.0s\n",
      "[CV 3/5; 143/243] START max_depth=10, max_features=12, min_samples_leaf=5, min_samples_split=30, n_estimators=300\n",
      "[CV 3/5; 143/243] END max_depth=10, max_features=12, min_samples_leaf=5, min_samples_split=30, n_estimators=300;, score=-40.837 total time=   3.1s\n",
      "[CV 1/5; 145/243] START max_depth=10, max_features=12, min_samples_leaf=10, min_samples_split=10, n_estimators=200\n",
      "[CV 1/5; 145/243] END max_depth=10, max_features=12, min_samples_leaf=10, min_samples_split=10, n_estimators=200;, score=-44.318 total time=   2.0s\n",
      "[CV 4/5; 145/243] START max_depth=10, max_features=12, min_samples_leaf=10, min_samples_split=10, n_estimators=200\n",
      "[CV 4/5; 145/243] END max_depth=10, max_features=12, min_samples_leaf=10, min_samples_split=10, n_estimators=200;, score=-43.047 total time=   2.2s\n",
      "[CV 5/5; 146/243] START max_depth=10, max_features=12, min_samples_leaf=10, min_samples_split=10, n_estimators=300\n",
      "[CV 5/5; 146/243] END max_depth=10, max_features=12, min_samples_leaf=10, min_samples_split=10, n_estimators=300;, score=-42.596 total time=   3.1s\n",
      "[CV 3/5; 148/243] START max_depth=10, max_features=12, min_samples_leaf=10, min_samples_split=20, n_estimators=200\n",
      "[CV 3/5; 148/243] END max_depth=10, max_features=12, min_samples_leaf=10, min_samples_split=20, n_estimators=200;, score=-41.835 total time=   2.1s\n",
      "[CV 1/5; 149/243] START max_depth=10, max_features=12, min_samples_leaf=10, min_samples_split=20, n_estimators=300\n",
      "[CV 1/5; 149/243] END max_depth=10, max_features=12, min_samples_leaf=10, min_samples_split=20, n_estimators=300;, score=-43.374 total time=   3.3s\n",
      "[CV 5/5; 150/243] START max_depth=10, max_features=12, min_samples_leaf=10, min_samples_split=20, n_estimators=500\n",
      "[CV 5/5; 150/243] END max_depth=10, max_features=12, min_samples_leaf=10, min_samples_split=20, n_estimators=500;, score=-41.617 total time=   5.1s\n",
      "[CV 3/5; 153/243] START max_depth=10, max_features=12, min_samples_leaf=10, min_samples_split=30, n_estimators=500\n",
      "[CV 3/5; 153/243] END max_depth=10, max_features=12, min_samples_leaf=10, min_samples_split=30, n_estimators=500;, score=-40.103 total time=   5.2s\n",
      "[CV 4/5; 155/243] START max_depth=10, max_features=12, min_samples_leaf=15, min_samples_split=10, n_estimators=300\n",
      "[CV 4/5; 155/243] END max_depth=10, max_features=12, min_samples_leaf=15, min_samples_split=10, n_estimators=300;, score=-42.152 total time=   2.9s\n",
      "[CV 1/5; 157/243] START max_depth=10, max_features=12, min_samples_leaf=15, min_samples_split=20, n_estimators=200\n",
      "[CV 1/5; 157/243] END max_depth=10, max_features=12, min_samples_leaf=15, min_samples_split=20, n_estimators=200;, score=-44.440 total time=   2.1s\n",
      "[CV 5/5; 157/243] START max_depth=10, max_features=12, min_samples_leaf=15, min_samples_split=20, n_estimators=200\n",
      "[CV 5/5; 157/243] END max_depth=10, max_features=12, min_samples_leaf=15, min_samples_split=20, n_estimators=200;, score=-44.069 total time=   1.9s\n",
      "[CV 1/5; 159/243] START max_depth=10, max_features=12, min_samples_leaf=15, min_samples_split=20, n_estimators=500\n",
      "[CV 1/5; 159/243] END max_depth=10, max_features=12, min_samples_leaf=15, min_samples_split=20, n_estimators=500;, score=-42.688 total time=   5.1s\n",
      "[CV 2/5; 161/243] START max_depth=10, max_features=12, min_samples_leaf=15, min_samples_split=30, n_estimators=300\n",
      "[CV 2/5; 161/243] END max_depth=10, max_features=12, min_samples_leaf=15, min_samples_split=30, n_estimators=300;, score=-40.968 total time=   3.0s\n",
      "[CV 4/5; 162/243] START max_depth=10, max_features=12, min_samples_leaf=15, min_samples_split=30, n_estimators=500\n",
      "[CV 4/5; 162/243] END max_depth=10, max_features=12, min_samples_leaf=15, min_samples_split=30, n_estimators=500;, score=-41.219 total time=   5.1s\n",
      "[CV 1/5; 165/243] START max_depth=15, max_features=8, min_samples_leaf=5, min_samples_split=10, n_estimators=500\n",
      "[CV 1/5; 165/243] END max_depth=15, max_features=8, min_samples_leaf=5, min_samples_split=10, n_estimators=500;, score=-41.740 total time=   5.3s\n",
      "[CV 3/5; 167/243] START max_depth=15, max_features=8, min_samples_leaf=5, min_samples_split=20, n_estimators=300\n",
      "[CV 3/5; 167/243] END max_depth=15, max_features=8, min_samples_leaf=5, min_samples_split=20, n_estimators=300;, score=-40.199 total time=   3.0s\n",
      "[CV 1/5; 169/243] START max_depth=15, max_features=8, min_samples_leaf=5, min_samples_split=30, n_estimators=200\n",
      "[CV 1/5; 169/243] END max_depth=15, max_features=8, min_samples_leaf=5, min_samples_split=30, n_estimators=200;, score=-43.706 total time=   2.0s\n",
      "[CV 4/5; 169/243] START max_depth=15, max_features=8, min_samples_leaf=5, min_samples_split=30, n_estimators=200\n",
      "[CV 4/5; 169/243] END max_depth=15, max_features=8, min_samples_leaf=5, min_samples_split=30, n_estimators=200;, score=-42.534 total time=   1.9s\n",
      "[CV 5/5; 170/243] START max_depth=15, max_features=8, min_samples_leaf=5, min_samples_split=30, n_estimators=300\n",
      "[CV 5/5; 170/243] END max_depth=15, max_features=8, min_samples_leaf=5, min_samples_split=30, n_estimators=300;, score=-41.945 total time=   3.0s\n",
      "[CV 3/5; 172/243] START max_depth=15, max_features=8, min_samples_leaf=10, min_samples_split=10, n_estimators=200\n",
      "[CV 3/5; 172/243] END max_depth=15, max_features=8, min_samples_leaf=10, min_samples_split=10, n_estimators=200;, score=-41.605 total time=   2.0s\n",
      "[CV 1/5; 173/243] START max_depth=15, max_features=8, min_samples_leaf=10, min_samples_split=10, n_estimators=300\n",
      "[CV 1/5; 173/243] END max_depth=15, max_features=8, min_samples_leaf=10, min_samples_split=10, n_estimators=300;, score=-43.024 total time=   3.0s\n",
      "[CV 4/5; 174/243] START max_depth=15, max_features=8, min_samples_leaf=10, min_samples_split=10, n_estimators=500\n",
      "[CV 4/5; 174/243] END max_depth=15, max_features=8, min_samples_leaf=10, min_samples_split=10, n_estimators=500;, score=-40.652 total time=   4.8s\n",
      "[CV 2/5; 177/243] START max_depth=15, max_features=8, min_samples_leaf=10, min_samples_split=20, n_estimators=500\n",
      "[CV 2/5; 177/243] END max_depth=15, max_features=8, min_samples_leaf=10, min_samples_split=20, n_estimators=500;, score=-39.802 total time=   5.1s\n",
      "[CV 3/5; 179/243] START max_depth=15, max_features=8, min_samples_leaf=10, min_samples_split=30, n_estimators=300\n",
      "[CV 3/5; 179/243] END max_depth=15, max_features=8, min_samples_leaf=10, min_samples_split=30, n_estimators=300;, score=-40.579 total time=   2.9s\n",
      "[CV 1/5; 181/243] START max_depth=15, max_features=8, min_samples_leaf=15, min_samples_split=10, n_estimators=200\n",
      "[CV 1/5; 181/243] END max_depth=15, max_features=8, min_samples_leaf=15, min_samples_split=10, n_estimators=200;, score=-44.329 total time=   1.8s\n",
      "[CV 4/5; 181/243] START max_depth=15, max_features=8, min_samples_leaf=15, min_samples_split=10, n_estimators=200\n",
      "[CV 4/5; 181/243] END max_depth=15, max_features=8, min_samples_leaf=15, min_samples_split=10, n_estimators=200;, score=-43.325 total time=   1.7s\n",
      "[CV 5/5; 182/243] START max_depth=15, max_features=8, min_samples_leaf=15, min_samples_split=10, n_estimators=300\n",
      "[CV 5/5; 182/243] END max_depth=15, max_features=8, min_samples_leaf=15, min_samples_split=10, n_estimators=300;, score=-42.616 total time=   2.9s\n",
      "[CV 3/5; 184/243] START max_depth=15, max_features=8, min_samples_leaf=15, min_samples_split=20, n_estimators=200\n",
      "[CV 3/5; 184/243] END max_depth=15, max_features=8, min_samples_leaf=15, min_samples_split=20, n_estimators=200;, score=-42.074 total time=   1.9s\n",
      "[CV 1/5; 185/243] START max_depth=15, max_features=8, min_samples_leaf=15, min_samples_split=20, n_estimators=300\n",
      "[CV 1/5; 185/243] END max_depth=15, max_features=8, min_samples_leaf=15, min_samples_split=20, n_estimators=300;, score=-43.196 total time=   2.7s\n",
      "[Pipeline] ......... (step 2 of 2) Processing regressor, total= 7.6min\n"
     ]
    },
    {
     "data": {
      "text/plain": "Pipeline(steps=[('preprocess',\n                 ColumnTransformer(transformers=[('cat',\n                                                  OneHotEncoder(handle_unknown='ignore'),\n                                                  ['f_neighbourhood_cleansed',\n                                                   'f_property_type',\n                                                   'f_room_type']),\n                                                 ('num', 'passthrough',\n                                                  ['n_host_total_listings_count',\n                                                   'n_accommodates',\n                                                   'n_bedrooms', 'n_beds',\n                                                   'n_minimum_nights',\n                                                   'n_maximum_nights',\n                                                   'n_number_of_reviews',\n                                                   'n_review_scores_value',\n                                                   'd_ho...\n                                                   'd_patio_balcony',\n                                                   'd_bodyshower'])])),\n                ('regressor',\n                 GridSearchCV(cv=5,\n                              estimator=GradientBoostingRegressor(learning_rate=0.01,\n                                                                  random_state=42),\n                              n_jobs=-1,\n                              param_grid={'max_depth': [5, 10, 15],\n                                          'max_features': [8, 10, 12],\n                                          'min_samples_leaf': [5, 10, 15],\n                                          'min_samples_split': [10, 20, 30],\n                                          'n_estimators': [200, 300, 500]},\n                              scoring='neg_root_mean_squared_error',\n                              verbose=10))],\n         verbose=True)",
      "text/html": "<style>#sk-container-id-5 {color: black;}#sk-container-id-5 pre{padding: 0;}#sk-container-id-5 div.sk-toggleable {background-color: white;}#sk-container-id-5 label.sk-toggleable__label {cursor: pointer;display: block;width: 100%;margin-bottom: 0;padding: 0.3em;box-sizing: border-box;text-align: center;}#sk-container-id-5 label.sk-toggleable__label-arrow:before {content: \"▸\";float: left;margin-right: 0.25em;color: #696969;}#sk-container-id-5 label.sk-toggleable__label-arrow:hover:before {color: black;}#sk-container-id-5 div.sk-estimator:hover label.sk-toggleable__label-arrow:before {color: black;}#sk-container-id-5 div.sk-toggleable__content {max-height: 0;max-width: 0;overflow: hidden;text-align: left;background-color: #f0f8ff;}#sk-container-id-5 div.sk-toggleable__content pre {margin: 0.2em;color: black;border-radius: 0.25em;background-color: #f0f8ff;}#sk-container-id-5 input.sk-toggleable__control:checked~div.sk-toggleable__content {max-height: 200px;max-width: 100%;overflow: auto;}#sk-container-id-5 input.sk-toggleable__control:checked~label.sk-toggleable__label-arrow:before {content: \"▾\";}#sk-container-id-5 div.sk-estimator input.sk-toggleable__control:checked~label.sk-toggleable__label {background-color: #d4ebff;}#sk-container-id-5 div.sk-label input.sk-toggleable__control:checked~label.sk-toggleable__label {background-color: #d4ebff;}#sk-container-id-5 input.sk-hidden--visually {border: 0;clip: rect(1px 1px 1px 1px);clip: rect(1px, 1px, 1px, 1px);height: 1px;margin: -1px;overflow: hidden;padding: 0;position: absolute;width: 1px;}#sk-container-id-5 div.sk-estimator {font-family: monospace;background-color: #f0f8ff;border: 1px dotted black;border-radius: 0.25em;box-sizing: border-box;margin-bottom: 0.5em;}#sk-container-id-5 div.sk-estimator:hover {background-color: #d4ebff;}#sk-container-id-5 div.sk-parallel-item::after {content: \"\";width: 100%;border-bottom: 1px solid gray;flex-grow: 1;}#sk-container-id-5 div.sk-label:hover label.sk-toggleable__label {background-color: #d4ebff;}#sk-container-id-5 div.sk-serial::before {content: \"\";position: absolute;border-left: 1px solid gray;box-sizing: border-box;top: 0;bottom: 0;left: 50%;z-index: 0;}#sk-container-id-5 div.sk-serial {display: flex;flex-direction: column;align-items: center;background-color: white;padding-right: 0.2em;padding-left: 0.2em;position: relative;}#sk-container-id-5 div.sk-item {position: relative;z-index: 1;}#sk-container-id-5 div.sk-parallel {display: flex;align-items: stretch;justify-content: center;background-color: white;position: relative;}#sk-container-id-5 div.sk-item::before, #sk-container-id-5 div.sk-parallel-item::before {content: \"\";position: absolute;border-left: 1px solid gray;box-sizing: border-box;top: 0;bottom: 0;left: 50%;z-index: -1;}#sk-container-id-5 div.sk-parallel-item {display: flex;flex-direction: column;z-index: 1;position: relative;background-color: white;}#sk-container-id-5 div.sk-parallel-item:first-child::after {align-self: flex-end;width: 50%;}#sk-container-id-5 div.sk-parallel-item:last-child::after {align-self: flex-start;width: 50%;}#sk-container-id-5 div.sk-parallel-item:only-child::after {width: 0;}#sk-container-id-5 div.sk-dashed-wrapped {border: 1px dashed gray;margin: 0 0.4em 0.5em 0.4em;box-sizing: border-box;padding-bottom: 0.4em;background-color: white;}#sk-container-id-5 div.sk-label label {font-family: monospace;font-weight: bold;display: inline-block;line-height: 1.2em;}#sk-container-id-5 div.sk-label-container {text-align: center;}#sk-container-id-5 div.sk-container {/* jupyter's `normalize.less` sets `[hidden] { display: none; }` but bootstrap.min.css set `[hidden] { display: none !important; }` so we also need the `!important` here to be able to override the default hidden behavior on the sphinx rendered scikit-learn.org. See: https://github.com/scikit-learn/scikit-learn/issues/21755 */display: inline-block !important;position: relative;}#sk-container-id-5 div.sk-text-repr-fallback {display: none;}</style><div id=\"sk-container-id-5\" class=\"sk-top-container\"><div class=\"sk-text-repr-fallback\"><pre>Pipeline(steps=[(&#x27;preprocess&#x27;,\n                 ColumnTransformer(transformers=[(&#x27;cat&#x27;,\n                                                  OneHotEncoder(handle_unknown=&#x27;ignore&#x27;),\n                                                  [&#x27;f_neighbourhood_cleansed&#x27;,\n                                                   &#x27;f_property_type&#x27;,\n                                                   &#x27;f_room_type&#x27;]),\n                                                 (&#x27;num&#x27;, &#x27;passthrough&#x27;,\n                                                  [&#x27;n_host_total_listings_count&#x27;,\n                                                   &#x27;n_accommodates&#x27;,\n                                                   &#x27;n_bedrooms&#x27;, &#x27;n_beds&#x27;,\n                                                   &#x27;n_minimum_nights&#x27;,\n                                                   &#x27;n_maximum_nights&#x27;,\n                                                   &#x27;n_number_of_reviews&#x27;,\n                                                   &#x27;n_review_scores_value&#x27;,\n                                                   &#x27;d_ho...\n                                                   &#x27;d_patio_balcony&#x27;,\n                                                   &#x27;d_bodyshower&#x27;])])),\n                (&#x27;regressor&#x27;,\n                 GridSearchCV(cv=5,\n                              estimator=GradientBoostingRegressor(learning_rate=0.01,\n                                                                  random_state=42),\n                              n_jobs=-1,\n                              param_grid={&#x27;max_depth&#x27;: [5, 10, 15],\n                                          &#x27;max_features&#x27;: [8, 10, 12],\n                                          &#x27;min_samples_leaf&#x27;: [5, 10, 15],\n                                          &#x27;min_samples_split&#x27;: [10, 20, 30],\n                                          &#x27;n_estimators&#x27;: [200, 300, 500]},\n                              scoring=&#x27;neg_root_mean_squared_error&#x27;,\n                              verbose=10))],\n         verbose=True)</pre><b>In a Jupyter environment, please rerun this cell to show the HTML representation or trust the notebook. <br />On GitHub, the HTML representation is unable to render, please try loading this page with nbviewer.org.</b></div><div class=\"sk-container\" hidden><div class=\"sk-item sk-dashed-wrapped\"><div class=\"sk-label-container\"><div class=\"sk-label sk-toggleable\"><input class=\"sk-toggleable__control sk-hidden--visually\" id=\"sk-estimator-id-13\" type=\"checkbox\" ><label for=\"sk-estimator-id-13\" class=\"sk-toggleable__label sk-toggleable__label-arrow\">Pipeline</label><div class=\"sk-toggleable__content\"><pre>Pipeline(steps=[(&#x27;preprocess&#x27;,\n                 ColumnTransformer(transformers=[(&#x27;cat&#x27;,\n                                                  OneHotEncoder(handle_unknown=&#x27;ignore&#x27;),\n                                                  [&#x27;f_neighbourhood_cleansed&#x27;,\n                                                   &#x27;f_property_type&#x27;,\n                                                   &#x27;f_room_type&#x27;]),\n                                                 (&#x27;num&#x27;, &#x27;passthrough&#x27;,\n                                                  [&#x27;n_host_total_listings_count&#x27;,\n                                                   &#x27;n_accommodates&#x27;,\n                                                   &#x27;n_bedrooms&#x27;, &#x27;n_beds&#x27;,\n                                                   &#x27;n_minimum_nights&#x27;,\n                                                   &#x27;n_maximum_nights&#x27;,\n                                                   &#x27;n_number_of_reviews&#x27;,\n                                                   &#x27;n_review_scores_value&#x27;,\n                                                   &#x27;d_ho...\n                                                   &#x27;d_patio_balcony&#x27;,\n                                                   &#x27;d_bodyshower&#x27;])])),\n                (&#x27;regressor&#x27;,\n                 GridSearchCV(cv=5,\n                              estimator=GradientBoostingRegressor(learning_rate=0.01,\n                                                                  random_state=42),\n                              n_jobs=-1,\n                              param_grid={&#x27;max_depth&#x27;: [5, 10, 15],\n                                          &#x27;max_features&#x27;: [8, 10, 12],\n                                          &#x27;min_samples_leaf&#x27;: [5, 10, 15],\n                                          &#x27;min_samples_split&#x27;: [10, 20, 30],\n                                          &#x27;n_estimators&#x27;: [200, 300, 500]},\n                              scoring=&#x27;neg_root_mean_squared_error&#x27;,\n                              verbose=10))],\n         verbose=True)</pre></div></div></div><div class=\"sk-serial\"><div class=\"sk-item sk-dashed-wrapped\"><div class=\"sk-label-container\"><div class=\"sk-label sk-toggleable\"><input class=\"sk-toggleable__control sk-hidden--visually\" id=\"sk-estimator-id-14\" type=\"checkbox\" ><label for=\"sk-estimator-id-14\" class=\"sk-toggleable__label sk-toggleable__label-arrow\">preprocess: ColumnTransformer</label><div class=\"sk-toggleable__content\"><pre>ColumnTransformer(transformers=[(&#x27;cat&#x27;, OneHotEncoder(handle_unknown=&#x27;ignore&#x27;),\n                                 [&#x27;f_neighbourhood_cleansed&#x27;, &#x27;f_property_type&#x27;,\n                                  &#x27;f_room_type&#x27;]),\n                                (&#x27;num&#x27;, &#x27;passthrough&#x27;,\n                                 [&#x27;n_host_total_listings_count&#x27;,\n                                  &#x27;n_accommodates&#x27;, &#x27;n_bedrooms&#x27;, &#x27;n_beds&#x27;,\n                                  &#x27;n_minimum_nights&#x27;, &#x27;n_maximum_nights&#x27;,\n                                  &#x27;n_number_of_reviews&#x27;,\n                                  &#x27;n_review_scores_value&#x27;,\n                                  &#x27;d_host_is_superhost&#x27;,\n                                  &#x27;d_host_has_profile_pic&#x27;,\n                                  &#x27;d_host_identity_verified&#x27;,\n                                  &#x27;d_instant_bookable&#x27;, &#x27;d_has_license&#x27;,\n                                  &#x27;n_host_since&#x27;, &#x27;n_bathrooms&#x27;,\n                                  &#x27;d_entertainment&#x27;, &#x27;d_wifi&#x27;, &#x27;d_kitchenware&#x27;,\n                                  &#x27;d_washer&#x27;, &#x27;d_sauna_hot_tub&#x27;, &#x27;d_pool&#x27;,\n                                  &#x27;d_aircon&#x27;, &#x27;d_heating&#x27;,\n                                  &#x27;d_scenic_view_access&#x27;, &#x27;d_parking&#x27;,\n                                  &#x27;d_pets_allowed&#x27;, &#x27;d_patio_balcony&#x27;,\n                                  &#x27;d_bodyshower&#x27;])])</pre></div></div></div><div class=\"sk-parallel\"><div class=\"sk-parallel-item\"><div class=\"sk-item\"><div class=\"sk-label-container\"><div class=\"sk-label sk-toggleable\"><input class=\"sk-toggleable__control sk-hidden--visually\" id=\"sk-estimator-id-15\" type=\"checkbox\" ><label for=\"sk-estimator-id-15\" class=\"sk-toggleable__label sk-toggleable__label-arrow\">cat</label><div class=\"sk-toggleable__content\"><pre>[&#x27;f_neighbourhood_cleansed&#x27;, &#x27;f_property_type&#x27;, &#x27;f_room_type&#x27;]</pre></div></div></div><div class=\"sk-serial\"><div class=\"sk-item\"><div class=\"sk-estimator sk-toggleable\"><input class=\"sk-toggleable__control sk-hidden--visually\" id=\"sk-estimator-id-16\" type=\"checkbox\" ><label for=\"sk-estimator-id-16\" class=\"sk-toggleable__label sk-toggleable__label-arrow\">OneHotEncoder</label><div class=\"sk-toggleable__content\"><pre>OneHotEncoder(handle_unknown=&#x27;ignore&#x27;)</pre></div></div></div></div></div></div><div class=\"sk-parallel-item\"><div class=\"sk-item\"><div class=\"sk-label-container\"><div class=\"sk-label sk-toggleable\"><input class=\"sk-toggleable__control sk-hidden--visually\" id=\"sk-estimator-id-17\" type=\"checkbox\" ><label for=\"sk-estimator-id-17\" class=\"sk-toggleable__label sk-toggleable__label-arrow\">num</label><div class=\"sk-toggleable__content\"><pre>[&#x27;n_host_total_listings_count&#x27;, &#x27;n_accommodates&#x27;, &#x27;n_bedrooms&#x27;, &#x27;n_beds&#x27;, &#x27;n_minimum_nights&#x27;, &#x27;n_maximum_nights&#x27;, &#x27;n_number_of_reviews&#x27;, &#x27;n_review_scores_value&#x27;, &#x27;d_host_is_superhost&#x27;, &#x27;d_host_has_profile_pic&#x27;, &#x27;d_host_identity_verified&#x27;, &#x27;d_instant_bookable&#x27;, &#x27;d_has_license&#x27;, &#x27;n_host_since&#x27;, &#x27;n_bathrooms&#x27;, &#x27;d_entertainment&#x27;, &#x27;d_wifi&#x27;, &#x27;d_kitchenware&#x27;, &#x27;d_washer&#x27;, &#x27;d_sauna_hot_tub&#x27;, &#x27;d_pool&#x27;, &#x27;d_aircon&#x27;, &#x27;d_heating&#x27;, &#x27;d_scenic_view_access&#x27;, &#x27;d_parking&#x27;, &#x27;d_pets_allowed&#x27;, &#x27;d_patio_balcony&#x27;, &#x27;d_bodyshower&#x27;]</pre></div></div></div><div class=\"sk-serial\"><div class=\"sk-item\"><div class=\"sk-estimator sk-toggleable\"><input class=\"sk-toggleable__control sk-hidden--visually\" id=\"sk-estimator-id-18\" type=\"checkbox\" ><label for=\"sk-estimator-id-18\" class=\"sk-toggleable__label sk-toggleable__label-arrow\">passthrough</label><div class=\"sk-toggleable__content\"><pre>passthrough</pre></div></div></div></div></div></div></div></div><div class=\"sk-item sk-dashed-wrapped\"><div class=\"sk-label-container\"><div class=\"sk-label sk-toggleable\"><input class=\"sk-toggleable__control sk-hidden--visually\" id=\"sk-estimator-id-19\" type=\"checkbox\" ><label for=\"sk-estimator-id-19\" class=\"sk-toggleable__label sk-toggleable__label-arrow\">regressor: GridSearchCV</label><div class=\"sk-toggleable__content\"><pre>GridSearchCV(cv=5,\n             estimator=GradientBoostingRegressor(learning_rate=0.01,\n                                                 random_state=42),\n             n_jobs=-1,\n             param_grid={&#x27;max_depth&#x27;: [5, 10, 15], &#x27;max_features&#x27;: [8, 10, 12],\n                         &#x27;min_samples_leaf&#x27;: [5, 10, 15],\n                         &#x27;min_samples_split&#x27;: [10, 20, 30],\n                         &#x27;n_estimators&#x27;: [200, 300, 500]},\n             scoring=&#x27;neg_root_mean_squared_error&#x27;, verbose=10)</pre></div></div></div><div class=\"sk-parallel\"><div class=\"sk-parallel-item\"><div class=\"sk-item\"><div class=\"sk-label-container\"><div class=\"sk-label sk-toggleable\"><input class=\"sk-toggleable__control sk-hidden--visually\" id=\"sk-estimator-id-20\" type=\"checkbox\" ><label for=\"sk-estimator-id-20\" class=\"sk-toggleable__label sk-toggleable__label-arrow\">estimator: GradientBoostingRegressor</label><div class=\"sk-toggleable__content\"><pre>GradientBoostingRegressor(learning_rate=0.01, random_state=42)</pre></div></div></div><div class=\"sk-serial\"><div class=\"sk-item\"><div class=\"sk-estimator sk-toggleable\"><input class=\"sk-toggleable__control sk-hidden--visually\" id=\"sk-estimator-id-21\" type=\"checkbox\" ><label for=\"sk-estimator-id-21\" class=\"sk-toggleable__label sk-toggleable__label-arrow\">GradientBoostingRegressor</label><div class=\"sk-toggleable__content\"><pre>GradientBoostingRegressor(learning_rate=0.01, random_state=42)</pre></div></div></div></div></div></div></div></div></div></div></div></div>"
     },
     "execution_count": 24,
     "metadata": {},
     "output_type": "execute_result"
    }
   ],
   "source": [
    "# train the GBM\n",
    "start_time = datetime.now()\n",
    "gbm_model = gbm_pipe.fit(data_train[numerical_columns + categorical_columns],data_train.price)\n",
    "gbm_time = datetime.now() - start_time\n",
    "gbm_model"
   ],
   "metadata": {
    "collapsed": false,
    "ExecuteTime": {
     "end_time": "2024-02-10T20:53:00.586358Z",
     "start_time": "2024-02-10T20:45:24.106270Z"
    }
   },
   "id": "219fffe89b6afbe3",
   "execution_count": 24
  },
  {
   "cell_type": "code",
   "outputs": [
    {
     "data": {
      "text/plain": "GradientBoostingRegressor(learning_rate=0.01, max_depth=15, max_features=12,\n                          min_samples_leaf=5, min_samples_split=10,\n                          n_estimators=500, random_state=42)",
      "text/html": "<style>#sk-container-id-6 {color: black;}#sk-container-id-6 pre{padding: 0;}#sk-container-id-6 div.sk-toggleable {background-color: white;}#sk-container-id-6 label.sk-toggleable__label {cursor: pointer;display: block;width: 100%;margin-bottom: 0;padding: 0.3em;box-sizing: border-box;text-align: center;}#sk-container-id-6 label.sk-toggleable__label-arrow:before {content: \"▸\";float: left;margin-right: 0.25em;color: #696969;}#sk-container-id-6 label.sk-toggleable__label-arrow:hover:before {color: black;}#sk-container-id-6 div.sk-estimator:hover label.sk-toggleable__label-arrow:before {color: black;}#sk-container-id-6 div.sk-toggleable__content {max-height: 0;max-width: 0;overflow: hidden;text-align: left;background-color: #f0f8ff;}#sk-container-id-6 div.sk-toggleable__content pre {margin: 0.2em;color: black;border-radius: 0.25em;background-color: #f0f8ff;}#sk-container-id-6 input.sk-toggleable__control:checked~div.sk-toggleable__content {max-height: 200px;max-width: 100%;overflow: auto;}#sk-container-id-6 input.sk-toggleable__control:checked~label.sk-toggleable__label-arrow:before {content: \"▾\";}#sk-container-id-6 div.sk-estimator input.sk-toggleable__control:checked~label.sk-toggleable__label {background-color: #d4ebff;}#sk-container-id-6 div.sk-label input.sk-toggleable__control:checked~label.sk-toggleable__label {background-color: #d4ebff;}#sk-container-id-6 input.sk-hidden--visually {border: 0;clip: rect(1px 1px 1px 1px);clip: rect(1px, 1px, 1px, 1px);height: 1px;margin: -1px;overflow: hidden;padding: 0;position: absolute;width: 1px;}#sk-container-id-6 div.sk-estimator {font-family: monospace;background-color: #f0f8ff;border: 1px dotted black;border-radius: 0.25em;box-sizing: border-box;margin-bottom: 0.5em;}#sk-container-id-6 div.sk-estimator:hover {background-color: #d4ebff;}#sk-container-id-6 div.sk-parallel-item::after {content: \"\";width: 100%;border-bottom: 1px solid gray;flex-grow: 1;}#sk-container-id-6 div.sk-label:hover label.sk-toggleable__label {background-color: #d4ebff;}#sk-container-id-6 div.sk-serial::before {content: \"\";position: absolute;border-left: 1px solid gray;box-sizing: border-box;top: 0;bottom: 0;left: 50%;z-index: 0;}#sk-container-id-6 div.sk-serial {display: flex;flex-direction: column;align-items: center;background-color: white;padding-right: 0.2em;padding-left: 0.2em;position: relative;}#sk-container-id-6 div.sk-item {position: relative;z-index: 1;}#sk-container-id-6 div.sk-parallel {display: flex;align-items: stretch;justify-content: center;background-color: white;position: relative;}#sk-container-id-6 div.sk-item::before, #sk-container-id-6 div.sk-parallel-item::before {content: \"\";position: absolute;border-left: 1px solid gray;box-sizing: border-box;top: 0;bottom: 0;left: 50%;z-index: -1;}#sk-container-id-6 div.sk-parallel-item {display: flex;flex-direction: column;z-index: 1;position: relative;background-color: white;}#sk-container-id-6 div.sk-parallel-item:first-child::after {align-self: flex-end;width: 50%;}#sk-container-id-6 div.sk-parallel-item:last-child::after {align-self: flex-start;width: 50%;}#sk-container-id-6 div.sk-parallel-item:only-child::after {width: 0;}#sk-container-id-6 div.sk-dashed-wrapped {border: 1px dashed gray;margin: 0 0.4em 0.5em 0.4em;box-sizing: border-box;padding-bottom: 0.4em;background-color: white;}#sk-container-id-6 div.sk-label label {font-family: monospace;font-weight: bold;display: inline-block;line-height: 1.2em;}#sk-container-id-6 div.sk-label-container {text-align: center;}#sk-container-id-6 div.sk-container {/* jupyter's `normalize.less` sets `[hidden] { display: none; }` but bootstrap.min.css set `[hidden] { display: none !important; }` so we also need the `!important` here to be able to override the default hidden behavior on the sphinx rendered scikit-learn.org. See: https://github.com/scikit-learn/scikit-learn/issues/21755 */display: inline-block !important;position: relative;}#sk-container-id-6 div.sk-text-repr-fallback {display: none;}</style><div id=\"sk-container-id-6\" class=\"sk-top-container\"><div class=\"sk-text-repr-fallback\"><pre>GradientBoostingRegressor(learning_rate=0.01, max_depth=15, max_features=12,\n                          min_samples_leaf=5, min_samples_split=10,\n                          n_estimators=500, random_state=42)</pre><b>In a Jupyter environment, please rerun this cell to show the HTML representation or trust the notebook. <br />On GitHub, the HTML representation is unable to render, please try loading this page with nbviewer.org.</b></div><div class=\"sk-container\" hidden><div class=\"sk-item\"><div class=\"sk-estimator sk-toggleable\"><input class=\"sk-toggleable__control sk-hidden--visually\" id=\"sk-estimator-id-22\" type=\"checkbox\" checked><label for=\"sk-estimator-id-22\" class=\"sk-toggleable__label sk-toggleable__label-arrow\">GradientBoostingRegressor</label><div class=\"sk-toggleable__content\"><pre>GradientBoostingRegressor(learning_rate=0.01, max_depth=15, max_features=12,\n                          min_samples_leaf=5, min_samples_split=10,\n                          n_estimators=500, random_state=42)</pre></div></div></div></div></div>"
     },
     "execution_count": 25,
     "metadata": {},
     "output_type": "execute_result"
    }
   ],
   "source": [
    "gbm_model_cv.best_estimator_"
   ],
   "metadata": {
    "collapsed": false,
    "ExecuteTime": {
     "end_time": "2024-02-10T20:53:00.591367Z",
     "start_time": "2024-02-10T20:53:00.583330Z"
    }
   },
   "id": "2b44347170226803",
   "execution_count": 25
  },
  {
   "cell_type": "code",
   "outputs": [],
   "source": [
    "df_gbm_model_cv_results = pd.DataFrame(gbm_model_cv.cv_results_)[[\n",
    "    'param_max_features', 'param_min_samples_leaf', 'param_max_depth', 'param_n_estimators', 'mean_fit_time', 'mean_test_score']]\n",
    "df_gbm_model_cv_results.columns = ['max features', 'min node size', 'max depth', '# estimators', 'fit time', 'RMSE']\n",
    "df_gbm_model_cv_results;"
   ],
   "metadata": {
    "collapsed": false,
    "ExecuteTime": {
     "end_time": "2024-02-10T20:53:00.601437Z",
     "start_time": "2024-02-10T20:53:00.589415Z"
    }
   },
   "id": "4d2835d45d19ec55",
   "execution_count": 26
  },
  {
   "cell_type": "markdown",
   "source": [
    "Diagnostic"
   ],
   "metadata": {
    "collapsed": false
   },
   "id": "28404c6fdfed1832"
  },
  {
   "cell_type": "markdown",
   "source": [
    "RF"
   ],
   "metadata": {
    "collapsed": false
   },
   "id": "998e288b237c6fd0"
  },
  {
   "cell_type": "code",
   "outputs": [],
   "source": [
    "# predict with the holdout set and calculate the variable importance for RF\n",
    "rf_result = permutation_importance(\n",
    "    rf_pipe,\n",
    "    data_holdout[numerical_columns + categorical_columns],\n",
    "    data_holdout.price,\n",
    "    n_repeats=10,\n",
    "    random_state=42,\n",
    "    # scoring=\"neg_root_mean_squared_error\"\n",
    ")\n",
    "rf_result;"
   ],
   "metadata": {
    "collapsed": false,
    "ExecuteTime": {
     "end_time": "2024-02-10T20:53:16.609205Z",
     "start_time": "2024-02-10T20:53:00.595127Z"
    }
   },
   "id": "e2816dd2c82d66a6",
   "execution_count": 27
  },
  {
   "cell_type": "code",
   "outputs": [],
   "source": [
    "df_rf_grouped_var_imp = (pd.DataFrame(\n",
    "        rf_result.importances_mean,\n",
    "        numerical_columns + categorical_columns)\n",
    "                      .sort_values(by = 0, ascending = False)\n",
    "                      .reset_index()\n",
    "                      .rename(columns={'index': 'variable', 0: 'imp'}))\n",
    "df_rf_grouped_var_imp['cumulative_imp'] = df_rf_grouped_var_imp.imp.cumsum()\n",
    "df_rf_grouped_var_imp;"
   ],
   "metadata": {
    "collapsed": false,
    "ExecuteTime": {
     "end_time": "2024-02-10T20:53:16.619127Z",
     "start_time": "2024-02-10T20:53:16.616025Z"
    }
   },
   "id": "f5cf48842051f3df",
   "execution_count": 28
  },
  {
   "cell_type": "code",
   "outputs": [],
   "source": [
    "# predict with the holdout set and calculate the variable importance for GBM\n",
    "gbm_result = permutation_importance(\n",
    "    gbm_pipe,\n",
    "    data_holdout[numerical_columns + categorical_columns],\n",
    "    data_holdout.price,\n",
    "    n_repeats=10,\n",
    "    random_state=42,\n",
    "    # scoring=\"neg_root_mean_squared_error\"\n",
    ")\n",
    "gbm_result;"
   ],
   "metadata": {
    "collapsed": false,
    "ExecuteTime": {
     "end_time": "2024-02-10T20:54:03.886001Z",
     "start_time": "2024-02-10T20:53:16.620225Z"
    }
   },
   "id": "8929a0a7216fb30a",
   "execution_count": 29
  },
  {
   "cell_type": "code",
   "outputs": [],
   "source": [
    "df_gbm_grouped_var_imp = (pd.DataFrame(\n",
    "        gbm_result.importances_mean,\n",
    "        numerical_columns + categorical_columns)\n",
    "                      .sort_values(by = 0, ascending = False)\n",
    "                      .reset_index()\n",
    "                      .rename(columns={'index': 'variable', 0: 'imp'}))\n",
    "df_gbm_grouped_var_imp['cumulative_imp'] = df_gbm_grouped_var_imp.imp.cumsum()\n",
    "df_gbm_grouped_var_imp;"
   ],
   "metadata": {
    "collapsed": false,
    "ExecuteTime": {
     "end_time": "2024-02-10T20:54:03.897452Z",
     "start_time": "2024-02-10T20:54:03.887025Z"
    }
   },
   "id": "3ffacc824d4a1b4b",
   "execution_count": 30
  },
  {
   "cell_type": "markdown",
   "source": [
    "RMSE training and testing"
   ],
   "metadata": {
    "collapsed": false
   },
   "id": "55d06cfc3e15f12"
  },
  {
   "cell_type": "code",
   "outputs": [],
   "source": [
    "# build the performance summary table\n",
    "def get_time_delta(delta):\n",
    "    return f'{delta.seconds // 60}m{delta.seconds % 60}s'\n",
    "\n",
    "lasso_y_holdout, lasso_X_holdout = get_lasso_matrices(lasso_data_holdout)\n",
    "diagnostic_df = pd.DataFrame({'Model': ['Simple OLS', 'LASSO', 'Random Forest', 'GBM'],\n",
    "                              'Train RMSE': ['{:.4f}'.format(ols_rmse), '{:.4f}'.format(lasso_search.best_score_*-1), '{:.4f}'.format(rf_random.best_score_*-1), '{:.4f}'.format(gbm_model_cv.best_score_*-1)],\n",
    "                              'Holdout RMSE': ['{:.4f}'.format(mean_squared_error(ols_model.predict(ols_data_holdout.drop(columns=['price'])), ols_data_holdout['price'], squared=False)), \n",
    "                                               '{:.4f}'.format(mean_squared_error(lasso_search.predict(lasso_X_holdout), lasso_y_holdout, squared=False)), \n",
    "                                               '{:.4f}'.format(mean_squared_error(rf_pipe.predict(data_holdout[numerical_columns + categorical_columns]), data_holdout['price'], squared=False)), \n",
    "                                               '{:.4f}'.format(mean_squared_error(gbm_pipe.predict(data_holdout[numerical_columns + categorical_columns]), data_holdout['price'], squared=False))],\n",
    "                              'Training time': [get_time_delta(ols_time), get_time_delta(lasso_time), get_time_delta(rf_time), get_time_delta(gbm_time)]\n",
    "                              })\n",
    "diagnostic_df;"
   ],
   "metadata": {
    "collapsed": false,
    "ExecuteTime": {
     "end_time": "2024-02-10T20:54:04.370645Z",
     "start_time": "2024-02-10T20:54:03.934162Z"
    }
   },
   "id": "cc940d2404e0ebf5",
   "execution_count": 31
  },
  {
   "cell_type": "markdown",
   "source": [
    "<p style=\"page-break-after:always;\"></p>"
   ],
   "metadata": {
    "collapsed": false
   },
   "id": "100cb11a35b6ff1b"
  },
  {
   "cell_type": "markdown",
   "source": [
    "## <center>Pricing Airbnb Apartments in Sicily, Italy</center>"
   ],
   "metadata": {
    "collapsed": false
   },
   "id": "7db1c5399e6f33a0"
  },
  {
   "cell_type": "markdown",
   "source": [
    "### Introduction and Goal\n",
    "This report investigates and explores the predictive models for forecasting Airbnb apartment prices in the top most populated and touristic cities in Sicily, Italy. The findings and models in this report will provide significant insights and help our client to price and operate small and middle-sized apartments hosting 2-6 guests. From the results, we will analyze and recommend the best model the client should use to price their company apartments. Since our client does not provide detailed information about the exact city and the rental purpose, this report will assume and focus on the most popular use case: leisure rentals in famous touristic cities in Sicily.\n",
    "\n",
    "The code and both reports can be found on this [GitHub](https://github.com/viethngn/Data_Analysis_3_ECBS5171/tree/main/assignment2).\n",
    "\n",
    "-----"
   ],
   "metadata": {
    "collapsed": false
   },
   "id": "57b5e3f9874dfbc2"
  },
  {
   "cell_type": "markdown",
   "source": [
    "### 1. Data\n",
    "\n",
    "#### Data Preparation\n",
    "The data in the report is the listing details of Sicily Airbnb apartments in March 2023 from http://insideairbnb.com/get-the-data/. Further data cleaning and filtering are applied to fit with our scope of analysis. The detailed steps are as follows:\n",
    "1. Get the raw dataset (N = 51,679)\n",
    "2. Apply filters (N = 16,240):\n",
    "    - Drop observations with missing value in price, number of beds, number of bathrooms, the apartment is instant bookable.\n",
    "    - Exclude apartment type 'Hotel' as our client is not operating hotel rooms.\n",
    "    - Only keep apartments accommodating for 2-6 guests.\n",
    "    - Only keep apartments located in Palermo, Catania, Messina, Taormina, Realmonte, Agrigento, Siracusa, Cefal, Monreale, Ragusa and Modica.\n",
    "    - Exclude some extreme price values (top 1%) by keeping observation with price <= $400.\n",
    "3. Feature engineering (N = 16,240):\n",
    "    - Fill 0s as values for observations with no rating values.\n",
    "    - Fill 1s as values for observations with no bedrooms values as these are studios.\n",
    "    - Fill 'NAN' as values for observations with no license values.\n",
    "    - Create boolean values for super host, the host has a profile picture, host identity verified, the apartment is instantly bookable and the host has a license.\n",
    "    - Convert listing duration from text to number of days before 31/03/2023.\n",
    "    - Convert price from text to numerical values.\n",
    "    - Derive the number of bathrooms from the bathroom text descriptions.\n",
    "    - Clean the property type to remove the redundant values of room type.\n",
    "    - Derive various boolean variables for amenities from the amenities text descriptions.\n",
    "\n",
    "From all the data features in the raw dataset, we will use a subset of those as predictors with the following rationales:\n",
    "- Profile photo, verification status, license and the number of listings may influence the price as a host without those can price be lower to attract guests.\n",
    "- Room details (location, type of property and room, number of accommodations, bedrooms, bathrooms, reviews, amenities, instant bookable, number of allowed nights) are chosen as rooms with higher value in any of those features can demand higher prices from intuition.\n",
    "- Other features are excluded as they are presented in other predictors (like longitude) or are irrelevant to our scope."
   ],
   "metadata": {
    "collapsed": false
   },
   "id": "61f72820f7cb2cf0"
  },
  {
   "cell_type": "markdown",
   "source": [
    "#### Data Exploration"
   ],
   "metadata": {
    "collapsed": false
   },
   "id": "7c1cc74e4377c4ba"
  },
  {
   "cell_type": "code",
   "outputs": [
    {
     "data": {
      "text/plain": "<Figure size 600x300 with 1 Axes>",
      "image/png": "[encoded data removed]"
     },
     "metadata": {},
     "output_type": "display_data"
    }
   ],
   "source": [
    "sns.set(style=\"white\")\n",
    "price_plot, ax3 = plt.subplots(figsize=(6,3))\n",
    "price_fig = sns.histplot(\n",
    "    data = work_df,\n",
    "    x = 'price', stat='percent', binwidth=10)\n",
    "price_fig.set(title='Sicily Airbnb price distribution in March 2023', xlabel=\"Price\")\n",
    "ax3.text(-50, -4, 'Fig. 1: Sicily Airbnb price distribution', size=9.5)\n",
    "price_plot.show()"
   ],
   "metadata": {
    "collapsed": false,
    "ExecuteTime": {
     "end_time": "2024-02-10T21:52:25.401335Z",
     "start_time": "2024-02-10T21:52:25.266843Z"
    }
   },
   "id": "808761e12ce60cb8",
   "execution_count": 66
  },
  {
   "cell_type": "markdown",
   "source": [
    "From Fig. 1, it is clear that the price distribution is left-skewed. This means that the mean value price is not the typical value. Within this paper, the OLS models will assume that the mean is typical and will predict the mean value. It is worth noting that normally this is not the case and there might be impacts on the prediction results made by the OLS models."
   ],
   "metadata": {
    "collapsed": false
   },
   "id": "fb80a974c930cd9c"
  },
  {
   "cell_type": "markdown",
   "source": [
    "### 2. Models\n",
    "In this report, we will build 4 different models:\n",
    "- Simple OLS model (OLS)\n",
    "- Linear model with LASSO (LASSO)\n",
    "- Random forest model (RF)\n",
    "- Boosting with gradient descent model (GBM)\n",
    "\n",
    "All models use the same set of features as discussed in the **Data** section, with the LASSO using all possible combinations of interaction terms. Since LASSO shrinks the coefficients for us and we do not know the interaction among the predictors from intuition, including all the interaction terms and letting the algorithm run will leave us with a prediction model with the optimal choice of interactions through cross-validation. Furthermore, all models, except for the simple OLS, will go through a 5-fold cross-validation with different tuning parameters to optimize for overfitting.\n",
    "\n",
    "The data used to train and validate is the same across all models. In this report, we will split the working data (N = 16,240) into the training set and the holdout set with a ratio of 7:3."
   ],
   "metadata": {
    "collapsed": false
   },
   "id": "6d07b8043c0bd58a"
  },
  {
   "cell_type": "markdown",
   "source": [
    "**Simple OLS**\n",
    "\n",
    "This model is a linear model with predictors as the features selected in the **Data** section. No interaction terms are included"
   ],
   "metadata": {
    "collapsed": false
   },
   "id": "119e448dc5cae226"
  },
  {
   "cell_type": "markdown",
   "source": [
    "**LASSO**\n",
    "\n",
    "This linear model has predictors like the Simple OLS models but includes all possible combinations of interaction terms. The tuning parameter is the penalty term $\\alpha$ in the range of [0.1, 0.5] inclusive, incremented by 0.05."
   ],
   "metadata": {
    "collapsed": false
   },
   "id": "4bff85e88c884acf"
  },
  {
   "cell_type": "markdown",
   "source": [
    "**Random Forest**\n",
    "\n",
    "The random forest model includes all the selected features with no interaction as the random forest algorithm already handles the interactions among predictors. The tuning parameters are:\n",
    "- Maximum number of features for each split: [8, 10, 12]\n",
    "- Minimum number of samples in each terminal node: [5, 10, 15]"
   ],
   "metadata": {
    "collapsed": false
   },
   "id": "dfde4abd6722c2a2"
  },
  {
   "cell_type": "markdown",
   "source": [
    "**Boosting with Gradient Descent**\n",
    "\n",
    "The boosting model includes features similar to the random forest model. The tuning parameters are:\n",
    "- Learning rate: 0.01\n",
    "- Number of estimators: [200, 300, 500], \n",
    "- Maximum tree depth: [5, 10, 15], \n",
    "- Maximum number of features for each split: [5, 10, 15], \n",
    "- Maximum number of features for each split: [8, 10, 12], \n",
    "- Minimum number of samples to continue splitting: [10, 20, 30]\n",
    "-----"
   ],
   "metadata": {
    "collapsed": false
   },
   "id": "66be8168e8991507"
  },
  {
   "cell_type": "markdown",
   "source": [
    "### 3. Model evaluation"
   ],
   "metadata": {
    "collapsed": false
   },
   "id": "5e17f4f63479cfd"
  },
  {
   "cell_type": "markdown",
   "source": [
    "#### Performances\n",
    "The performance result of each model are as follows:"
   ],
   "metadata": {
    "collapsed": false
   },
   "id": "f8790e9a87aa91a0"
  },
  {
   "cell_type": "code",
   "outputs": [
    {
     "data": {
      "text/plain": "           Model Train RMSE Holdout RMSE Training time\n0     Simple OLS    44.3212      45.0548          0m0s\n1          LASSO    43.8334      44.6018         4m28s\n2  Random Forest    42.9022      43.2020         0m23s\n3            GBM    40.1745      40.6951         7m36s",
      "text/html": "<div>\n<style scoped>\n    .dataframe tbody tr th:only-of-type {\n        vertical-align: middle;\n    }\n\n    .dataframe tbody tr th {\n        vertical-align: top;\n    }\n\n    .dataframe thead th {\n        text-align: right;\n    }\n</style>\n<table border=\"1\" class=\"dataframe\">\n  <thead>\n    <tr style=\"text-align: right;\">\n      <th></th>\n      <th>Model</th>\n      <th>Train RMSE</th>\n      <th>Holdout RMSE</th>\n      <th>Training time</th>\n    </tr>\n  </thead>\n  <tbody>\n    <tr>\n      <th>0</th>\n      <td>Simple OLS</td>\n      <td>44.3212</td>\n      <td>45.0548</td>\n      <td>0m0s</td>\n    </tr>\n    <tr>\n      <th>1</th>\n      <td>LASSO</td>\n      <td>43.8334</td>\n      <td>44.6018</td>\n      <td>4m28s</td>\n    </tr>\n    <tr>\n      <th>2</th>\n      <td>Random Forest</td>\n      <td>42.9022</td>\n      <td>43.2020</td>\n      <td>0m23s</td>\n    </tr>\n    <tr>\n      <th>3</th>\n      <td>GBM</td>\n      <td>40.1745</td>\n      <td>40.6951</td>\n      <td>7m36s</td>\n    </tr>\n  </tbody>\n</table>\n</div>"
     },
     "execution_count": 33,
     "metadata": {},
     "output_type": "execute_result"
    }
   ],
   "source": [
    "diagnostic_df"
   ],
   "metadata": {
    "collapsed": false,
    "ExecuteTime": {
     "end_time": "2024-02-10T20:54:04.559368Z",
     "start_time": "2024-02-10T20:54:04.549307Z"
    }
   },
   "id": "c229b85e2ca768af",
   "execution_count": 33
  },
  {
   "cell_type": "markdown",
   "source": [
    "The simple OLS model RMSE is the worst of all models, but it is not significantly worse than the LASSO model. Considering that the simple OLS completes almost instantly compared to the LASSO, the simple OLS might be better if speed is the top priority. However, the Random Forest model gives better results than the simple OLS while only taking under half a minute to complete might be a more balanced choice between accuracy and speed. The GBM model has the best accuracy and is significantly better than the rest of the models, but it also takes significantly more time to finish. If accuracy is the top priority, the GBM model is the best model to go forward. The LASSO, Random Forest and GBM models are cross-validated to prevent overfitting and they perform relatively well with the holdout set compared to that over the training set. The same can be said for the simple OLS model while it has not been cross-validated."
   ],
   "metadata": {
    "collapsed": false
   },
   "id": "5e078e75a2ea9b48"
  },
  {
   "cell_type": "markdown",
   "source": [
    "#### Diagnostic"
   ],
   "metadata": {
    "collapsed": false
   },
   "id": "dbd088008df59d73"
  },
  {
   "cell_type": "markdown",
   "source": [
    "From our analysis of the OLS and LASSO models' coefficients (discussed in more details in the **Model evaluation** in the technical report), these variables and their interactions consistently have significant power to the change in price prediction:\n",
    "- Property type (f_property_type)\n",
    "- Neighbourhood (f_neighbourhood_cleansed)\n",
    "- Room type (f_room_type)\n",
    "- Has pool (d_pool)\n",
    "- Number of bathrooms (n_bathrooms)\n",
    "- Number of bedrooms (n_bedrooms)\n",
    "- Number of accommodates (n_accommodates)"
   ],
   "metadata": {
    "collapsed": false
   },
   "id": "1a343840d2a7edd8"
  },
  {
   "cell_type": "code",
   "outputs": [
    {
     "data": {
      "text/plain": "<Figure size 1500x400 with 2 Axes>",
      "image/png": "[encoded data removed]"
     },
     "metadata": {},
     "output_type": "display_data"
    }
   ],
   "source": [
    "df_rf_grouped_var_imp = df_rf_grouped_var_imp.sort_values(by='imp', ascending=False)\n",
    "df_gbm_grouped_var_imp = df_gbm_grouped_var_imp.sort_values(by='imp', ascending=False)\n",
    "diag_fig, (ax1, ax2) = plt.subplots(ncols=2, figsize=(15,4), layout=\"constrained\")\n",
    "sns.set(style=\"white\")\n",
    "rf_fig = sns.barplot(\n",
    "    data = df_rf_grouped_var_imp.iloc[0:10],\n",
    "    x=\"imp\", y=\"variable\", ax=ax1)\n",
    "rf_fig.set(title='Random forest model grouped feature importances', xlabel=\"importance\", ylabel=\"variable\")\n",
    "ax1.text(-1.225, 11.5, 'Fig. 2: RF grouped feature importances', size=10)\n",
    "gbm_fig = sns.barplot(\n",
    "    data = df_gbm_grouped_var_imp.iloc[0:10],\n",
    "    x=\"imp\", y=\"variable\", ax=ax2)\n",
    "gbm_fig.set(title='Gradient boosting model grouped feature importances', xlabel=\"importance\", ylabel=\"variable\")\n",
    "ax2.text(-1.35, 11.5, 'Fig. 3: GBM grouped feature importances', size=10)\n",
    "diag_fig.show()"
   ],
   "metadata": {
    "collapsed": false,
    "ExecuteTime": {
     "end_time": "2024-02-10T22:00:27.192120Z",
     "start_time": "2024-02-10T22:00:26.889817Z"
    }
   },
   "id": "fce280d228f15eab",
   "execution_count": 69
  },
  {
   "cell_type": "markdown",
   "source": [
    "Figure 2 and Figure 3 also show the important features that impact the price prediction in the Random Forest and GBM models. The significant terms in the simple OLS and LASSO models are also important here. However, the Random Forest and GBM models have a few extra important predictors:\n",
    "- Total number of listings that the host has (n_host_total_listings_count)\n",
    "- Number of reviews (n_number_of_reviews)\n",
    "- Review score (n_review_scores_value)\n",
    "- Host operating duration (n_host_since)\n",
    "\n",
    "From the feature importance analysis above, our client should provide the key information accurately for their apartment to get a good price prediction. Since our client's apartments are all new, the number of reviews and review scores may not be available. Thus, both of these values should be set at 0.\n",
    "\n",
    "-----"
   ],
   "metadata": {
    "collapsed": false
   },
   "id": "2134d9703a21d1d0"
  },
  {
   "cell_type": "markdown",
   "source": [
    "### 4. Conclusion\n",
    "The choice of model is pivotal to support our client price their new apartments, as each offers unique advantages. In this report, the simple OLS and Random Forest models offer simplicity and speed, while the LASSO and GBM models offer accuracy with a trade-off in complexity. Among the evaluated models—Simple OLS, LASSO, Random Forest, and GBM—the GBM model excelled in accuracy over the rest. However, due to its computational demands, we might want to recommend the Random Forest to be the model of choice as it balances the complexity and usability."
   ],
   "metadata": {
    "collapsed": false
   },
   "id": "5e6f0b85f9504548"
  },
  {
   "cell_type": "markdown",
   "source": [
    "<p style=\"page-break-after:always;\"></p>"
   ],
   "metadata": {
    "collapsed": false
   },
   "id": "2fdbe77ffa09c28e"
  },
  {
   "cell_type": "markdown",
   "source": [
    "## <center>Pricing Airbnb Apartments in Sicily, Italy - Technical Report</center>"
   ],
   "metadata": {
    "collapsed": false
   },
   "id": "665a131534cf658f"
  },
  {
   "cell_type": "markdown",
   "source": [
    "The code and both reports can be found on this [GitHub](https://github.com/viethngn/Data_Analysis_3_ECBS5171/tree/main/assignment2)."
   ],
   "metadata": {
    "collapsed": false
   },
   "id": "41c6cb1e700651f7"
  },
  {
   "cell_type": "markdown",
   "source": [
    "### 1. Data\n",
    "As described in the summary report, we have to do some file manipulation and feature engineering to obtain the necessary predictors.\n",
    "\n",
    "For file manipulation, since the original data file is too large, GitHub refuses to accept the file. Hence, we have to split the file into 2 parts and read into 2 dataframes. The final working dataframe is the concatenation of those 2 dataframes.\n",
    "\n",
    "When applying filters, we decided to drop the observations with missing values as they only cover a very small amount of the observations. Also, aside from the business reasons, we limit the dataset to popular cities otherwise the data set remains too large and take time to run the ML models.\n",
    "\n",
    "During the feature engineering steps, some decisions are taken when imputing values. We fill 1s as values for observations with no bedrooms values as upon spot checking, these are studio apartments. We also convert listing duration from text to number of days before 31/03/2023 because the data is collected for observation up until 31/03/2023. Values may change after that period hence we use the cut-off date as 31/03/2023 to ensure correctness."
   ],
   "metadata": {
    "collapsed": false
   },
   "id": "ef6044e56f947748"
  },
  {
   "cell_type": "code",
   "outputs": [],
   "source": [
    "def get_cleaned_data(src=None) -> pd.DataFrame:\n",
    "    '''\n",
    "    This function takes a path to a csv file, cleans it and returns the cleaned dataframe\n",
    "    :param src: path to file\n",
    "    :return: dataframe with cleaned data\n",
    "    '''\n",
    "    if src:\n",
    "        if isinstance(src, list):\n",
    "            dfs = []\n",
    "            for file in src:\n",
    "                u_df = pd.read_csv(file)\n",
    "                dfs.append(u_df)\n",
    "            df = pd.concat(dfs, ignore_index=True)\n",
    "        else:\n",
    "            df = pd.read_csv(src)\n",
    "    else:\n",
    "        urls = ['https://raw.githubusercontent.com/viethngn/Data_Analysis_3_ECBS5171/main/assignment2/listings_1.csv', 'https://raw.githubusercontent.com/viethngn/Data_Analysis_3_ECBS5171/main/assignment2/listings_2.csv']\n",
    "        dfs = []\n",
    "        for url in urls:\n",
    "            u_df = pd.read_csv(url)\n",
    "            dfs.append(u_df)\n",
    "        df = pd.concat(dfs, ignore_index=True)\n",
    "    \n",
    "    # Filter the data\n",
    "    working_sample = df[['id','name','host_id','host_name','host_since','host_is_superhost','host_total_listings_count','host_has_profile_pic','host_identity_verified','neighbourhood_cleansed','property_type','room_type','accommodates','bathrooms_text','bedrooms','beds','amenities','price','minimum_nights','maximum_nights','number_of_reviews','review_scores_value','instant_bookable', 'license']\n",
    "                        ][(df['price'].notna()) \n",
    "                        & (df['beds'].notna())\n",
    "                        & (df['host_is_superhost'].notna())\n",
    "                        & (df['host_since'].notna())\n",
    "                        & (df['bathrooms_text'].notna())\n",
    "                        & (df['room_type'] != 'Hotel room')\n",
    "                        & (df['accommodates'] <= 6) & (df['accommodates'] >= 2)\n",
    "                        & (df['neighbourhood_cleansed'].isin(['Palermo', 'Catania', 'Gravina di Catania', 'San Gregorio di Catania', 'Militello in Val di Catania', 'Messina', 'Taormina', 'Realmonte', 'Agrigento', 'Siracusa', 'Cefal', 'Monreale', 'Ragusa', 'Modica']))]\n",
    "    \n",
    "    # fill NA data for reviews with 0s\n",
    "    working_sample['review_scores_value'].fillna(0, inplace=True)\n",
    "    \n",
    "    # fill NA data for bedrooms with 1s\n",
    "    working_sample['bedrooms'].fillna(1, inplace=True)\n",
    "    \n",
    "    # fill NA data for license with NAN\n",
    "    working_sample['license'].fillna('NAN', inplace=True)\n",
    "    \n",
    "    # add boolean variables from text columns\n",
    "    working_sample['d_host_is_superhost'] = working_sample['host_is_superhost'].apply(lambda x: 1 if x == 't' else 0)\n",
    "    working_sample['d_host_has_profile_pic'] = working_sample['host_has_profile_pic'].apply(lambda x: 1 if x == 't' else 0)\n",
    "    working_sample['d_host_identity_verified'] = working_sample['host_identity_verified'].apply(lambda x: 1 if x == 't' else 0)\n",
    "    working_sample['d_instant_bookable'] = working_sample['instant_bookable'].apply(lambda x: 1 if x == 't' else 0)\n",
    "    working_sample['d_has_license'] = working_sample['license'].apply(lambda x: 1 if x != 'NAN' else 0)\n",
    "    \n",
    "    # calculate host time\n",
    "    working_sample['n_host_since'] = working_sample['host_since'].apply(lambda x: (pd.Timestamp('2023-03-31') - pd.Timestamp(x)).days)\n",
    "    \n",
    "    # convert price to numerical\n",
    "    working_sample['price'] = working_sample['price'].apply(lambda x: float(x.replace('$', '').replace(',', '')))\n",
    "    \n",
    "    # filter for price < \n",
    "    working_sample = working_sample[(working_sample['price'] <= 400)]\n",
    "    \n",
    "    # add numerical variable for number of bath\n",
    "    working_sample['n_bathrooms'] = working_sample['bathrooms_text'].apply(lambda x: 0.5 if 'half-bath' in x.lower() else float(x.lower().split()[0]))\n",
    "    \n",
    "    # clean the property type and room type\n",
    "    working_sample['property_type'] = working_sample['property_type'].apply(lambda x: x.lower().replace('entire ', '').replace('private room ', '').replace('shared room ', '').replace('room in ', '').replace('in ', ''))\n",
    "    working_sample['room_type'] = working_sample['room_type'].apply(lambda x: x.lower())\n",
    "    \n",
    "    # add amenities columns\n",
    "    working_sample['d_entertainment'] = working_sample['amenities'].apply(lambda x: 1 if 'tv' in x.lower() or 'game' in x.lower() or 'roku' in x.lower() or 'disney' in x.lower() or 'netflix' in x.lower() or 'nintendo' in x.lower() or'chromecast' in x.lower() or 'alexa' in x.lower() or 'sound' in x.lower() else 0)\n",
    "    working_sample['d_wifi'] = working_sample['amenities'].apply(lambda x: 1 if 'wifi' in x.lower() else 0)\n",
    "    working_sample['d_kitchenware'] = working_sample['amenities'].apply(lambda x: 1 if 'fridge' in x.lower() or 'freezer' in x.lower() or 'stove' in x.lower() or 'coffee' in x.lower() or 'oven' in x.lower() or 'blender' in x.lower() or 'grill' in x.lower() or 'dishwasher' in x.lower() else 0)\n",
    "    working_sample['d_washer'] = working_sample['amenities'].apply(lambda x: 1 if ('washer' in x.lower() or 'dryer' in x.lower() or 'drying' in x.lower()) else 0)\n",
    "    working_sample['d_sauna_hot_tub'] = working_sample['amenities'].apply(lambda x: 1 if 'sauna' in x.lower() or 'tub' in x.lower() else 0)\n",
    "    working_sample['d_pool'] = working_sample['amenities'].apply(lambda x: 1 if ' pool' in x.lower() or 'Pool' in x else 0)\n",
    "    working_sample['d_aircon'] = working_sample['amenities'].apply(lambda x: 1 if 'air con' in x.lower() else 0)\n",
    "    working_sample['d_heating'] = working_sample['amenities'].apply(lambda x: 1 if 'heating' in x.lower() else 0)\n",
    "    working_sample['d_scenic_view_access'] = working_sample['amenities'].apply(lambda x: 1 if 'view' in x.lower() or 'access' in x.lower() else 0)\n",
    "    working_sample['d_parking'] = working_sample['amenities'].apply(lambda x: 1 if 'parking' in x.lower() or 'carport' in x.lower() else 0)\n",
    "    working_sample['d_pets_allowed'] = working_sample['amenities'].apply(lambda x: 1 if 'pets allowed' in x.lower() else 0)\n",
    "    working_sample['d_patio_balcony'] = working_sample['amenities'].apply(lambda x: 1 if 'patio' in x.lower() or 'balcony' in x.lower() else 0)\n",
    "    working_sample['d_bodyshower'] = working_sample['amenities'].apply(lambda x: 1 if 'shampoo' in x.lower() or 'conditioner' in x.lower() or 'soap' in x.lower() or 'gel' in x.lower() else 0)\n",
    "    \n",
    "    # rename numerical and categorical columns to have prefix\n",
    "    working_sample.rename(columns={\n",
    "        'host_total_listings_count': 'n_host_total_listings_count',\n",
    "        'accommodates': 'n_accommodates',\n",
    "        'bedrooms': 'n_bedrooms',\n",
    "        'beds': 'n_beds',\n",
    "        'minimum_nights': 'n_minimum_nights',\n",
    "        'maximum_nights': 'n_maximum_nights',\n",
    "        'neighbourhood_cleansed': 'f_neighbourhood_cleansed',\n",
    "        'property_type': 'f_property_type',\n",
    "        'room_type': 'f_room_type',\n",
    "        'review_scores_value': 'n_review_scores_value',\n",
    "        'number_of_reviews': 'n_number_of_reviews'\n",
    "    }, inplace=True)\n",
    "    \n",
    "    del df\n",
    "    if not src or isinstance(src, list):\n",
    "        del dfs[0]\n",
    "        del dfs[1]\n",
    "        \n",
    "    return working_sample"
   ],
   "metadata": {
    "collapsed": false,
    "ExecuteTime": {
     "end_time": "2024-02-10T20:54:05.003013Z",
     "start_time": "2024-02-10T20:54:04.992952Z"
    }
   },
   "id": "4ac8eea2439d9ded",
   "execution_count": 37
  },
  {
   "cell_type": "markdown",
   "source": [
    "-----\n",
    "### 2. Model Construction\n",
    "\n",
    "#### OLS and LASSO\n",
    "For OLS and LASSO models, we use the patsy.dmatrices() method to create the matrices for training with the training set and diagnostic on the holdout set to handle the interaction terms.\n"
   ],
   "metadata": {
    "collapsed": false
   },
   "id": "a2c1cb6968622771"
  },
  {
   "cell_type": "code",
   "outputs": [],
   "source": [
    "# define function to get train test split for OLS and LASSO\n",
    "def get_ols_train_test_split(data, lasso=False):\n",
    "    if lasso:\n",
    "        y_, ols_df = dmatrices('price~' + '+'.join(numerical_columns) + '+' + '+'.join(categorical_columns) + '+' + '+'.join(interactions), data, return_type=\"dataframe\")\n",
    "    else:\n",
    "        y_, ols_df = dmatrices('price~' + '+'.join(numerical_columns) + '+' + '+'.join(categorical_columns), data, return_type=\"dataframe\")\n",
    "    ols_terms_list = ols_df.design_info.column_names\n",
    "    ols_df['price'] = y_\n",
    "    ols_data_train, ols_data_holdout = train_test_split(ols_df, train_size=0.7, random_state=42)\n",
    "    return ols_data_train, ols_data_holdout, ols_terms_list"
   ],
   "metadata": {
    "collapsed": false,
    "ExecuteTime": {
     "end_time": "2024-02-10T20:54:05.006430Z",
     "start_time": "2024-02-10T20:54:05.003139Z"
    }
   },
   "id": "17eca885304071f8",
   "execution_count": 38
  },
  {
   "cell_type": "markdown",
   "source": [
    "With the LASSO model, we have to write another function to standardize the values in the matrices. This function is reused when making prediction with the holdout set."
   ],
   "metadata": {
    "collapsed": false
   },
   "id": "e5ef33394e75ef2e"
  },
  {
   "cell_type": "code",
   "outputs": [],
   "source": [
    "# get the matrices for LASSO\n",
    "def get_lasso_matrices(data):\n",
    "    y_ = data['price']\n",
    "    X_ = data[lasso_terms_list]\n",
    "    scaler = StandardScaler()\n",
    "    X_ = scaler.fit_transform(X_)\n",
    "    return y_, X_"
   ],
   "metadata": {
    "collapsed": false,
    "ExecuteTime": {
     "end_time": "2024-02-10T20:54:05.062065Z",
     "start_time": "2024-02-10T20:54:05.005682Z"
    }
   },
   "id": "ce4d791584ab6e1",
   "execution_count": 39
  },
  {
   "cell_type": "code",
   "outputs": [
    {
     "data": {
      "text/plain": "LinearRegression()",
      "text/html": "<style>#sk-container-id-7 {color: black;}#sk-container-id-7 pre{padding: 0;}#sk-container-id-7 div.sk-toggleable {background-color: white;}#sk-container-id-7 label.sk-toggleable__label {cursor: pointer;display: block;width: 100%;margin-bottom: 0;padding: 0.3em;box-sizing: border-box;text-align: center;}#sk-container-id-7 label.sk-toggleable__label-arrow:before {content: \"▸\";float: left;margin-right: 0.25em;color: #696969;}#sk-container-id-7 label.sk-toggleable__label-arrow:hover:before {color: black;}#sk-container-id-7 div.sk-estimator:hover label.sk-toggleable__label-arrow:before {color: black;}#sk-container-id-7 div.sk-toggleable__content {max-height: 0;max-width: 0;overflow: hidden;text-align: left;background-color: #f0f8ff;}#sk-container-id-7 div.sk-toggleable__content pre {margin: 0.2em;color: black;border-radius: 0.25em;background-color: #f0f8ff;}#sk-container-id-7 input.sk-toggleable__control:checked~div.sk-toggleable__content {max-height: 200px;max-width: 100%;overflow: auto;}#sk-container-id-7 input.sk-toggleable__control:checked~label.sk-toggleable__label-arrow:before {content: \"▾\";}#sk-container-id-7 div.sk-estimator input.sk-toggleable__control:checked~label.sk-toggleable__label {background-color: #d4ebff;}#sk-container-id-7 div.sk-label input.sk-toggleable__control:checked~label.sk-toggleable__label {background-color: #d4ebff;}#sk-container-id-7 input.sk-hidden--visually {border: 0;clip: rect(1px 1px 1px 1px);clip: rect(1px, 1px, 1px, 1px);height: 1px;margin: -1px;overflow: hidden;padding: 0;position: absolute;width: 1px;}#sk-container-id-7 div.sk-estimator {font-family: monospace;background-color: #f0f8ff;border: 1px dotted black;border-radius: 0.25em;box-sizing: border-box;margin-bottom: 0.5em;}#sk-container-id-7 div.sk-estimator:hover {background-color: #d4ebff;}#sk-container-id-7 div.sk-parallel-item::after {content: \"\";width: 100%;border-bottom: 1px solid gray;flex-grow: 1;}#sk-container-id-7 div.sk-label:hover label.sk-toggleable__label {background-color: #d4ebff;}#sk-container-id-7 div.sk-serial::before {content: \"\";position: absolute;border-left: 1px solid gray;box-sizing: border-box;top: 0;bottom: 0;left: 50%;z-index: 0;}#sk-container-id-7 div.sk-serial {display: flex;flex-direction: column;align-items: center;background-color: white;padding-right: 0.2em;padding-left: 0.2em;position: relative;}#sk-container-id-7 div.sk-item {position: relative;z-index: 1;}#sk-container-id-7 div.sk-parallel {display: flex;align-items: stretch;justify-content: center;background-color: white;position: relative;}#sk-container-id-7 div.sk-item::before, #sk-container-id-7 div.sk-parallel-item::before {content: \"\";position: absolute;border-left: 1px solid gray;box-sizing: border-box;top: 0;bottom: 0;left: 50%;z-index: -1;}#sk-container-id-7 div.sk-parallel-item {display: flex;flex-direction: column;z-index: 1;position: relative;background-color: white;}#sk-container-id-7 div.sk-parallel-item:first-child::after {align-self: flex-end;width: 50%;}#sk-container-id-7 div.sk-parallel-item:last-child::after {align-self: flex-start;width: 50%;}#sk-container-id-7 div.sk-parallel-item:only-child::after {width: 0;}#sk-container-id-7 div.sk-dashed-wrapped {border: 1px dashed gray;margin: 0 0.4em 0.5em 0.4em;box-sizing: border-box;padding-bottom: 0.4em;background-color: white;}#sk-container-id-7 div.sk-label label {font-family: monospace;font-weight: bold;display: inline-block;line-height: 1.2em;}#sk-container-id-7 div.sk-label-container {text-align: center;}#sk-container-id-7 div.sk-container {/* jupyter's `normalize.less` sets `[hidden] { display: none; }` but bootstrap.min.css set `[hidden] { display: none !important; }` so we also need the `!important` here to be able to override the default hidden behavior on the sphinx rendered scikit-learn.org. See: https://github.com/scikit-learn/scikit-learn/issues/21755 */display: inline-block !important;position: relative;}#sk-container-id-7 div.sk-text-repr-fallback {display: none;}</style><div id=\"sk-container-id-7\" class=\"sk-top-container\"><div class=\"sk-text-repr-fallback\"><pre>LinearRegression()</pre><b>In a Jupyter environment, please rerun this cell to show the HTML representation or trust the notebook. <br />On GitHub, the HTML representation is unable to render, please try loading this page with nbviewer.org.</b></div><div class=\"sk-container\" hidden><div class=\"sk-item\"><div class=\"sk-estimator sk-toggleable\"><input class=\"sk-toggleable__control sk-hidden--visually\" id=\"sk-estimator-id-23\" type=\"checkbox\" checked><label for=\"sk-estimator-id-23\" class=\"sk-toggleable__label sk-toggleable__label-arrow\">LinearRegression</label><div class=\"sk-toggleable__content\"><pre>LinearRegression()</pre></div></div></div></div></div>"
     },
     "execution_count": 40,
     "metadata": {},
     "output_type": "execute_result"
    }
   ],
   "source": [
    "ols_model"
   ],
   "metadata": {
    "collapsed": false,
    "ExecuteTime": {
     "end_time": "2024-02-10T20:54:05.064514Z",
     "start_time": "2024-02-10T20:54:05.008436Z"
    }
   },
   "id": "27862917b9649262",
   "execution_count": 40
  },
  {
   "cell_type": "code",
   "outputs": [
    {
     "data": {
      "text/plain": "ElasticNet(alpha=0.4, l1_ratio=1)",
      "text/html": "<style>#sk-container-id-8 {color: black;}#sk-container-id-8 pre{padding: 0;}#sk-container-id-8 div.sk-toggleable {background-color: white;}#sk-container-id-8 label.sk-toggleable__label {cursor: pointer;display: block;width: 100%;margin-bottom: 0;padding: 0.3em;box-sizing: border-box;text-align: center;}#sk-container-id-8 label.sk-toggleable__label-arrow:before {content: \"▸\";float: left;margin-right: 0.25em;color: #696969;}#sk-container-id-8 label.sk-toggleable__label-arrow:hover:before {color: black;}#sk-container-id-8 div.sk-estimator:hover label.sk-toggleable__label-arrow:before {color: black;}#sk-container-id-8 div.sk-toggleable__content {max-height: 0;max-width: 0;overflow: hidden;text-align: left;background-color: #f0f8ff;}#sk-container-id-8 div.sk-toggleable__content pre {margin: 0.2em;color: black;border-radius: 0.25em;background-color: #f0f8ff;}#sk-container-id-8 input.sk-toggleable__control:checked~div.sk-toggleable__content {max-height: 200px;max-width: 100%;overflow: auto;}#sk-container-id-8 input.sk-toggleable__control:checked~label.sk-toggleable__label-arrow:before {content: \"▾\";}#sk-container-id-8 div.sk-estimator input.sk-toggleable__control:checked~label.sk-toggleable__label {background-color: #d4ebff;}#sk-container-id-8 div.sk-label input.sk-toggleable__control:checked~label.sk-toggleable__label {background-color: #d4ebff;}#sk-container-id-8 input.sk-hidden--visually {border: 0;clip: rect(1px 1px 1px 1px);clip: rect(1px, 1px, 1px, 1px);height: 1px;margin: -1px;overflow: hidden;padding: 0;position: absolute;width: 1px;}#sk-container-id-8 div.sk-estimator {font-family: monospace;background-color: #f0f8ff;border: 1px dotted black;border-radius: 0.25em;box-sizing: border-box;margin-bottom: 0.5em;}#sk-container-id-8 div.sk-estimator:hover {background-color: #d4ebff;}#sk-container-id-8 div.sk-parallel-item::after {content: \"\";width: 100%;border-bottom: 1px solid gray;flex-grow: 1;}#sk-container-id-8 div.sk-label:hover label.sk-toggleable__label {background-color: #d4ebff;}#sk-container-id-8 div.sk-serial::before {content: \"\";position: absolute;border-left: 1px solid gray;box-sizing: border-box;top: 0;bottom: 0;left: 50%;z-index: 0;}#sk-container-id-8 div.sk-serial {display: flex;flex-direction: column;align-items: center;background-color: white;padding-right: 0.2em;padding-left: 0.2em;position: relative;}#sk-container-id-8 div.sk-item {position: relative;z-index: 1;}#sk-container-id-8 div.sk-parallel {display: flex;align-items: stretch;justify-content: center;background-color: white;position: relative;}#sk-container-id-8 div.sk-item::before, #sk-container-id-8 div.sk-parallel-item::before {content: \"\";position: absolute;border-left: 1px solid gray;box-sizing: border-box;top: 0;bottom: 0;left: 50%;z-index: -1;}#sk-container-id-8 div.sk-parallel-item {display: flex;flex-direction: column;z-index: 1;position: relative;background-color: white;}#sk-container-id-8 div.sk-parallel-item:first-child::after {align-self: flex-end;width: 50%;}#sk-container-id-8 div.sk-parallel-item:last-child::after {align-self: flex-start;width: 50%;}#sk-container-id-8 div.sk-parallel-item:only-child::after {width: 0;}#sk-container-id-8 div.sk-dashed-wrapped {border: 1px dashed gray;margin: 0 0.4em 0.5em 0.4em;box-sizing: border-box;padding-bottom: 0.4em;background-color: white;}#sk-container-id-8 div.sk-label label {font-family: monospace;font-weight: bold;display: inline-block;line-height: 1.2em;}#sk-container-id-8 div.sk-label-container {text-align: center;}#sk-container-id-8 div.sk-container {/* jupyter's `normalize.less` sets `[hidden] { display: none; }` but bootstrap.min.css set `[hidden] { display: none !important; }` so we also need the `!important` here to be able to override the default hidden behavior on the sphinx rendered scikit-learn.org. See: https://github.com/scikit-learn/scikit-learn/issues/21755 */display: inline-block !important;position: relative;}#sk-container-id-8 div.sk-text-repr-fallback {display: none;}</style><div id=\"sk-container-id-8\" class=\"sk-top-container\"><div class=\"sk-text-repr-fallback\"><pre>ElasticNet(alpha=0.4, l1_ratio=1)</pre><b>In a Jupyter environment, please rerun this cell to show the HTML representation or trust the notebook. <br />On GitHub, the HTML representation is unable to render, please try loading this page with nbviewer.org.</b></div><div class=\"sk-container\" hidden><div class=\"sk-item\"><div class=\"sk-estimator sk-toggleable\"><input class=\"sk-toggleable__control sk-hidden--visually\" id=\"sk-estimator-id-24\" type=\"checkbox\" checked><label for=\"sk-estimator-id-24\" class=\"sk-toggleable__label sk-toggleable__label-arrow\">ElasticNet</label><div class=\"sk-toggleable__content\"><pre>ElasticNet(alpha=0.4, l1_ratio=1)</pre></div></div></div></div></div>"
     },
     "execution_count": 41,
     "metadata": {},
     "output_type": "execute_result"
    }
   ],
   "source": [
    "lasso_results.best_estimator_"
   ],
   "metadata": {
    "collapsed": false,
    "ExecuteTime": {
     "end_time": "2024-02-10T20:54:05.066546Z",
     "start_time": "2024-02-10T20:54:05.012953Z"
    }
   },
   "id": "5725c00effd3463",
   "execution_count": 41
  },
  {
   "cell_type": "markdown",
   "source": [
    "#### Random Forest and GBM\n",
    "For the Random Forest and GBM models, we use the scikit-learn OneHotEncoder() to create the dummy values for categorical predictors. We also use the scikit-learn pipeline for both of these models instead of patsy.dmatrices() as it will handle the data transformer automatically. The defined data preprocessing step is reused in both Random Forest and GBM pipelines."
   ],
   "metadata": {
    "collapsed": false
   },
   "id": "4fd48dd7f63ca22e"
  },
  {
   "cell_type": "code",
   "outputs": [],
   "source": [
    "# building preprocessing for pipeline\n",
    "categorical_encoder = OneHotEncoder(handle_unknown=\"ignore\")\n",
    "\n",
    "preprocessing = ColumnTransformer(\n",
    "    [\n",
    "        (\"cat\", categorical_encoder, categorical_columns),\n",
    "        (\"num\", \"passthrough\", numerical_columns),\n",
    "    ]\n",
    ")"
   ],
   "metadata": {
    "collapsed": false,
    "ExecuteTime": {
     "end_time": "2024-02-10T20:54:05.076621Z",
     "start_time": "2024-02-10T20:54:05.016620Z"
    }
   },
   "id": "da11025ebfdbc3ec",
   "execution_count": 42
  },
  {
   "cell_type": "code",
   "outputs": [
    {
     "data": {
      "text/plain": "ElasticNet(alpha=0.4, l1_ratio=1)",
      "text/html": "<style>#sk-container-id-9 {color: black;}#sk-container-id-9 pre{padding: 0;}#sk-container-id-9 div.sk-toggleable {background-color: white;}#sk-container-id-9 label.sk-toggleable__label {cursor: pointer;display: block;width: 100%;margin-bottom: 0;padding: 0.3em;box-sizing: border-box;text-align: center;}#sk-container-id-9 label.sk-toggleable__label-arrow:before {content: \"▸\";float: left;margin-right: 0.25em;color: #696969;}#sk-container-id-9 label.sk-toggleable__label-arrow:hover:before {color: black;}#sk-container-id-9 div.sk-estimator:hover label.sk-toggleable__label-arrow:before {color: black;}#sk-container-id-9 div.sk-toggleable__content {max-height: 0;max-width: 0;overflow: hidden;text-align: left;background-color: #f0f8ff;}#sk-container-id-9 div.sk-toggleable__content pre {margin: 0.2em;color: black;border-radius: 0.25em;background-color: #f0f8ff;}#sk-container-id-9 input.sk-toggleable__control:checked~div.sk-toggleable__content {max-height: 200px;max-width: 100%;overflow: auto;}#sk-container-id-9 input.sk-toggleable__control:checked~label.sk-toggleable__label-arrow:before {content: \"▾\";}#sk-container-id-9 div.sk-estimator input.sk-toggleable__control:checked~label.sk-toggleable__label {background-color: #d4ebff;}#sk-container-id-9 div.sk-label input.sk-toggleable__control:checked~label.sk-toggleable__label {background-color: #d4ebff;}#sk-container-id-9 input.sk-hidden--visually {border: 0;clip: rect(1px 1px 1px 1px);clip: rect(1px, 1px, 1px, 1px);height: 1px;margin: -1px;overflow: hidden;padding: 0;position: absolute;width: 1px;}#sk-container-id-9 div.sk-estimator {font-family: monospace;background-color: #f0f8ff;border: 1px dotted black;border-radius: 0.25em;box-sizing: border-box;margin-bottom: 0.5em;}#sk-container-id-9 div.sk-estimator:hover {background-color: #d4ebff;}#sk-container-id-9 div.sk-parallel-item::after {content: \"\";width: 100%;border-bottom: 1px solid gray;flex-grow: 1;}#sk-container-id-9 div.sk-label:hover label.sk-toggleable__label {background-color: #d4ebff;}#sk-container-id-9 div.sk-serial::before {content: \"\";position: absolute;border-left: 1px solid gray;box-sizing: border-box;top: 0;bottom: 0;left: 50%;z-index: 0;}#sk-container-id-9 div.sk-serial {display: flex;flex-direction: column;align-items: center;background-color: white;padding-right: 0.2em;padding-left: 0.2em;position: relative;}#sk-container-id-9 div.sk-item {position: relative;z-index: 1;}#sk-container-id-9 div.sk-parallel {display: flex;align-items: stretch;justify-content: center;background-color: white;position: relative;}#sk-container-id-9 div.sk-item::before, #sk-container-id-9 div.sk-parallel-item::before {content: \"\";position: absolute;border-left: 1px solid gray;box-sizing: border-box;top: 0;bottom: 0;left: 50%;z-index: -1;}#sk-container-id-9 div.sk-parallel-item {display: flex;flex-direction: column;z-index: 1;position: relative;background-color: white;}#sk-container-id-9 div.sk-parallel-item:first-child::after {align-self: flex-end;width: 50%;}#sk-container-id-9 div.sk-parallel-item:last-child::after {align-self: flex-start;width: 50%;}#sk-container-id-9 div.sk-parallel-item:only-child::after {width: 0;}#sk-container-id-9 div.sk-dashed-wrapped {border: 1px dashed gray;margin: 0 0.4em 0.5em 0.4em;box-sizing: border-box;padding-bottom: 0.4em;background-color: white;}#sk-container-id-9 div.sk-label label {font-family: monospace;font-weight: bold;display: inline-block;line-height: 1.2em;}#sk-container-id-9 div.sk-label-container {text-align: center;}#sk-container-id-9 div.sk-container {/* jupyter's `normalize.less` sets `[hidden] { display: none; }` but bootstrap.min.css set `[hidden] { display: none !important; }` so we also need the `!important` here to be able to override the default hidden behavior on the sphinx rendered scikit-learn.org. See: https://github.com/scikit-learn/scikit-learn/issues/21755 */display: inline-block !important;position: relative;}#sk-container-id-9 div.sk-text-repr-fallback {display: none;}</style><div id=\"sk-container-id-9\" class=\"sk-top-container\"><div class=\"sk-text-repr-fallback\"><pre>ElasticNet(alpha=0.4, l1_ratio=1)</pre><b>In a Jupyter environment, please rerun this cell to show the HTML representation or trust the notebook. <br />On GitHub, the HTML representation is unable to render, please try loading this page with nbviewer.org.</b></div><div class=\"sk-container\" hidden><div class=\"sk-item\"><div class=\"sk-estimator sk-toggleable\"><input class=\"sk-toggleable__control sk-hidden--visually\" id=\"sk-estimator-id-25\" type=\"checkbox\" checked><label for=\"sk-estimator-id-25\" class=\"sk-toggleable__label sk-toggleable__label-arrow\">ElasticNet</label><div class=\"sk-toggleable__content\"><pre>ElasticNet(alpha=0.4, l1_ratio=1)</pre></div></div></div></div></div>"
     },
     "execution_count": 43,
     "metadata": {},
     "output_type": "execute_result"
    }
   ],
   "source": [
    "lasso_results.best_estimator_"
   ],
   "metadata": {
    "collapsed": false,
    "ExecuteTime": {
     "end_time": "2024-02-10T20:54:05.078579Z",
     "start_time": "2024-02-10T20:54:05.020613Z"
    }
   },
   "id": "bf0328ba60915be1",
   "execution_count": 43
  },
  {
   "cell_type": "code",
   "outputs": [
    {
     "data": {
      "text/plain": "GradientBoostingRegressor(learning_rate=0.01, max_depth=15, max_features=12,\n                          min_samples_leaf=5, min_samples_split=10,\n                          n_estimators=500, random_state=42)",
      "text/html": "<style>#sk-container-id-10 {color: black;}#sk-container-id-10 pre{padding: 0;}#sk-container-id-10 div.sk-toggleable {background-color: white;}#sk-container-id-10 label.sk-toggleable__label {cursor: pointer;display: block;width: 100%;margin-bottom: 0;padding: 0.3em;box-sizing: border-box;text-align: center;}#sk-container-id-10 label.sk-toggleable__label-arrow:before {content: \"▸\";float: left;margin-right: 0.25em;color: #696969;}#sk-container-id-10 label.sk-toggleable__label-arrow:hover:before {color: black;}#sk-container-id-10 div.sk-estimator:hover label.sk-toggleable__label-arrow:before {color: black;}#sk-container-id-10 div.sk-toggleable__content {max-height: 0;max-width: 0;overflow: hidden;text-align: left;background-color: #f0f8ff;}#sk-container-id-10 div.sk-toggleable__content pre {margin: 0.2em;color: black;border-radius: 0.25em;background-color: #f0f8ff;}#sk-container-id-10 input.sk-toggleable__control:checked~div.sk-toggleable__content {max-height: 200px;max-width: 100%;overflow: auto;}#sk-container-id-10 input.sk-toggleable__control:checked~label.sk-toggleable__label-arrow:before {content: \"▾\";}#sk-container-id-10 div.sk-estimator input.sk-toggleable__control:checked~label.sk-toggleable__label {background-color: #d4ebff;}#sk-container-id-10 div.sk-label input.sk-toggleable__control:checked~label.sk-toggleable__label {background-color: #d4ebff;}#sk-container-id-10 input.sk-hidden--visually {border: 0;clip: rect(1px 1px 1px 1px);clip: rect(1px, 1px, 1px, 1px);height: 1px;margin: -1px;overflow: hidden;padding: 0;position: absolute;width: 1px;}#sk-container-id-10 div.sk-estimator {font-family: monospace;background-color: #f0f8ff;border: 1px dotted black;border-radius: 0.25em;box-sizing: border-box;margin-bottom: 0.5em;}#sk-container-id-10 div.sk-estimator:hover {background-color: #d4ebff;}#sk-container-id-10 div.sk-parallel-item::after {content: \"\";width: 100%;border-bottom: 1px solid gray;flex-grow: 1;}#sk-container-id-10 div.sk-label:hover label.sk-toggleable__label {background-color: #d4ebff;}#sk-container-id-10 div.sk-serial::before {content: \"\";position: absolute;border-left: 1px solid gray;box-sizing: border-box;top: 0;bottom: 0;left: 50%;z-index: 0;}#sk-container-id-10 div.sk-serial {display: flex;flex-direction: column;align-items: center;background-color: white;padding-right: 0.2em;padding-left: 0.2em;position: relative;}#sk-container-id-10 div.sk-item {position: relative;z-index: 1;}#sk-container-id-10 div.sk-parallel {display: flex;align-items: stretch;justify-content: center;background-color: white;position: relative;}#sk-container-id-10 div.sk-item::before, #sk-container-id-10 div.sk-parallel-item::before {content: \"\";position: absolute;border-left: 1px solid gray;box-sizing: border-box;top: 0;bottom: 0;left: 50%;z-index: -1;}#sk-container-id-10 div.sk-parallel-item {display: flex;flex-direction: column;z-index: 1;position: relative;background-color: white;}#sk-container-id-10 div.sk-parallel-item:first-child::after {align-self: flex-end;width: 50%;}#sk-container-id-10 div.sk-parallel-item:last-child::after {align-self: flex-start;width: 50%;}#sk-container-id-10 div.sk-parallel-item:only-child::after {width: 0;}#sk-container-id-10 div.sk-dashed-wrapped {border: 1px dashed gray;margin: 0 0.4em 0.5em 0.4em;box-sizing: border-box;padding-bottom: 0.4em;background-color: white;}#sk-container-id-10 div.sk-label label {font-family: monospace;font-weight: bold;display: inline-block;line-height: 1.2em;}#sk-container-id-10 div.sk-label-container {text-align: center;}#sk-container-id-10 div.sk-container {/* jupyter's `normalize.less` sets `[hidden] { display: none; }` but bootstrap.min.css set `[hidden] { display: none !important; }` so we also need the `!important` here to be able to override the default hidden behavior on the sphinx rendered scikit-learn.org. See: https://github.com/scikit-learn/scikit-learn/issues/21755 */display: inline-block !important;position: relative;}#sk-container-id-10 div.sk-text-repr-fallback {display: none;}</style><div id=\"sk-container-id-10\" class=\"sk-top-container\"><div class=\"sk-text-repr-fallback\"><pre>GradientBoostingRegressor(learning_rate=0.01, max_depth=15, max_features=12,\n                          min_samples_leaf=5, min_samples_split=10,\n                          n_estimators=500, random_state=42)</pre><b>In a Jupyter environment, please rerun this cell to show the HTML representation or trust the notebook. <br />On GitHub, the HTML representation is unable to render, please try loading this page with nbviewer.org.</b></div><div class=\"sk-container\" hidden><div class=\"sk-item\"><div class=\"sk-estimator sk-toggleable\"><input class=\"sk-toggleable__control sk-hidden--visually\" id=\"sk-estimator-id-26\" type=\"checkbox\" checked><label for=\"sk-estimator-id-26\" class=\"sk-toggleable__label sk-toggleable__label-arrow\">GradientBoostingRegressor</label><div class=\"sk-toggleable__content\"><pre>GradientBoostingRegressor(learning_rate=0.01, max_depth=15, max_features=12,\n                          min_samples_leaf=5, min_samples_split=10,\n                          n_estimators=500, random_state=42)</pre></div></div></div></div></div>"
     },
     "execution_count": 44,
     "metadata": {},
     "output_type": "execute_result"
    }
   ],
   "source": [
    "gbm_model_cv.best_estimator_"
   ],
   "metadata": {
    "collapsed": false,
    "ExecuteTime": {
     "end_time": "2024-02-10T20:54:05.081056Z",
     "start_time": "2024-02-10T20:54:05.027417Z"
    }
   },
   "id": "42f2d75d336a7ae5",
   "execution_count": 44
  },
  {
   "cell_type": "markdown",
   "source": [
    "-----\n",
    "\n",
    "### 3. Model evaluation"
   ],
   "metadata": {
    "collapsed": false
   },
   "id": "45c1e62ab2afcad6"
  },
  {
   "cell_type": "markdown",
   "source": [
    "#### Diagnostic"
   ],
   "metadata": {
    "collapsed": false
   },
   "id": "9172227dde168046"
  },
  {
   "cell_type": "code",
   "outputs": [
    {
     "data": {
      "text/plain": "               grouped_term  ols_coefficient  abs_ols_coefficient\n0           f_property_type        -1416.989             1738.185\n1  f_neighbourhood_cleansed            3.327              118.913\n2               f_room_type          -47.871               47.871\n3                    d_pool           36.514               36.514\n4               n_bathrooms           18.799               18.799\n5                n_bedrooms           11.076               11.076\n6           d_sauna_hot_tub           10.713               10.713\n7                    d_wifi           10.306               10.306\n8            d_pets_allowed           -5.712                5.712\n9            n_accommodates            5.410                5.410",
      "text/html": "<div>\n<style scoped>\n    .dataframe tbody tr th:only-of-type {\n        vertical-align: middle;\n    }\n\n    .dataframe tbody tr th {\n        vertical-align: top;\n    }\n\n    .dataframe thead th {\n        text-align: right;\n    }\n</style>\n<table border=\"1\" class=\"dataframe\">\n  <thead>\n    <tr style=\"text-align: right;\">\n      <th></th>\n      <th>grouped_term</th>\n      <th>ols_coefficient</th>\n      <th>abs_ols_coefficient</th>\n    </tr>\n  </thead>\n  <tbody>\n    <tr>\n      <th>0</th>\n      <td>f_property_type</td>\n      <td>-1416.989</td>\n      <td>1738.185</td>\n    </tr>\n    <tr>\n      <th>1</th>\n      <td>f_neighbourhood_cleansed</td>\n      <td>3.327</td>\n      <td>118.913</td>\n    </tr>\n    <tr>\n      <th>2</th>\n      <td>f_room_type</td>\n      <td>-47.871</td>\n      <td>47.871</td>\n    </tr>\n    <tr>\n      <th>3</th>\n      <td>d_pool</td>\n      <td>36.514</td>\n      <td>36.514</td>\n    </tr>\n    <tr>\n      <th>4</th>\n      <td>n_bathrooms</td>\n      <td>18.799</td>\n      <td>18.799</td>\n    </tr>\n    <tr>\n      <th>5</th>\n      <td>n_bedrooms</td>\n      <td>11.076</td>\n      <td>11.076</td>\n    </tr>\n    <tr>\n      <th>6</th>\n      <td>d_sauna_hot_tub</td>\n      <td>10.713</td>\n      <td>10.713</td>\n    </tr>\n    <tr>\n      <th>7</th>\n      <td>d_wifi</td>\n      <td>10.306</td>\n      <td>10.306</td>\n    </tr>\n    <tr>\n      <th>8</th>\n      <td>d_pets_allowed</td>\n      <td>-5.712</td>\n      <td>5.712</td>\n    </tr>\n    <tr>\n      <th>9</th>\n      <td>n_accommodates</td>\n      <td>5.410</td>\n      <td>5.410</td>\n    </tr>\n  </tbody>\n</table>\n</div>"
     },
     "execution_count": 34,
     "metadata": {},
     "output_type": "execute_result"
    }
   ],
   "source": [
    "plt_ols_grouped_coef = df_ols_var_coefs.groupby(['grouped_term']).sum().sort_values(by=\"abs_ols_coefficient\", ascending=False)[['ols_coefficient', 'abs_ols_coefficient']].iloc[:10]\n",
    "plt_ols_grouped_coef.reset_index(inplace=True)\n",
    "plt_ols_grouped_coef"
   ],
   "metadata": {
    "collapsed": false,
    "ExecuteTime": {
     "end_time": "2024-02-10T20:54:04.564743Z",
     "start_time": "2024-02-10T20:54:04.560588Z"
    }
   },
   "id": "c617c50ba100ac7e",
   "execution_count": 34
  },
  {
   "cell_type": "markdown",
   "source": [
    "<sup>Table 1: Simple OLS grouped term coefficients</sub>"
   ],
   "metadata": {
    "collapsed": false
   },
   "id": "181590cf4e74f185"
  },
  {
   "cell_type": "code",
   "outputs": [
    {
     "data": {
      "text/plain": "                                    grouped_term  lasso_coefficient  \\\n48      f_neighbourhood_cleansed:f_property_type              4.394   \n100                   n_accommodates:n_bathrooms              7.549   \n72                        f_property_type:d_pool              2.708   \n67            f_property_type:d_instant_bookable              1.538   \n73               f_property_type:d_sauna_hot_tub              4.499   \n91                       f_room_type:n_bathrooms             -5.363   \n83   f_property_type:n_host_total_listings_count              3.692   \n101                    n_accommodates:n_bedrooms              4.536   \n150                        n_review_scores_value             -4.481   \n43               f_neighbourhood_cleansed:d_pool             -2.898   \n\n     abs_lasso_coefficient  \n48                  17.616  \n100                  7.549  \n72                   6.722  \n67                   5.814  \n73                   5.609  \n91                   5.363  \n83                   5.358  \n101                  4.536  \n150                  4.481  \n43                   4.204  ",
      "text/html": "<div>\n<style scoped>\n    .dataframe tbody tr th:only-of-type {\n        vertical-align: middle;\n    }\n\n    .dataframe tbody tr th {\n        vertical-align: top;\n    }\n\n    .dataframe thead th {\n        text-align: right;\n    }\n</style>\n<table border=\"1\" class=\"dataframe\">\n  <thead>\n    <tr style=\"text-align: right;\">\n      <th></th>\n      <th>grouped_term</th>\n      <th>lasso_coefficient</th>\n      <th>abs_lasso_coefficient</th>\n    </tr>\n  </thead>\n  <tbody>\n    <tr>\n      <th>48</th>\n      <td>f_neighbourhood_cleansed:f_property_type</td>\n      <td>4.394</td>\n      <td>17.616</td>\n    </tr>\n    <tr>\n      <th>100</th>\n      <td>n_accommodates:n_bathrooms</td>\n      <td>7.549</td>\n      <td>7.549</td>\n    </tr>\n    <tr>\n      <th>72</th>\n      <td>f_property_type:d_pool</td>\n      <td>2.708</td>\n      <td>6.722</td>\n    </tr>\n    <tr>\n      <th>67</th>\n      <td>f_property_type:d_instant_bookable</td>\n      <td>1.538</td>\n      <td>5.814</td>\n    </tr>\n    <tr>\n      <th>73</th>\n      <td>f_property_type:d_sauna_hot_tub</td>\n      <td>4.499</td>\n      <td>5.609</td>\n    </tr>\n    <tr>\n      <th>91</th>\n      <td>f_room_type:n_bathrooms</td>\n      <td>-5.363</td>\n      <td>5.363</td>\n    </tr>\n    <tr>\n      <th>83</th>\n      <td>f_property_type:n_host_total_listings_count</td>\n      <td>3.692</td>\n      <td>5.358</td>\n    </tr>\n    <tr>\n      <th>101</th>\n      <td>n_accommodates:n_bedrooms</td>\n      <td>4.536</td>\n      <td>4.536</td>\n    </tr>\n    <tr>\n      <th>150</th>\n      <td>n_review_scores_value</td>\n      <td>-4.481</td>\n      <td>4.481</td>\n    </tr>\n    <tr>\n      <th>43</th>\n      <td>f_neighbourhood_cleansed:d_pool</td>\n      <td>-2.898</td>\n      <td>4.204</td>\n    </tr>\n  </tbody>\n</table>\n</div>"
     },
     "execution_count": 35,
     "metadata": {},
     "output_type": "execute_result"
    }
   ],
   "source": [
    "df_lasso_grouped_var_coefs.sort_values(by=\"abs_lasso_coefficient\", ascending=False)[['grouped_term', 'lasso_coefficient', 'abs_lasso_coefficient']][:10]"
   ],
   "metadata": {
    "collapsed": false,
    "ExecuteTime": {
     "end_time": "2024-02-10T20:54:04.613497Z",
     "start_time": "2024-02-10T20:54:04.564527Z"
    }
   },
   "id": "705c557a05e6cbe4",
   "execution_count": 35
  },
  {
   "cell_type": "markdown",
   "source": [
    "<sup>Table 2: LASSO grouped term coefficients (independent terms only)</sub>"
   ],
   "metadata": {
    "collapsed": false
   },
   "id": "a607ef0bec983770"
  },
  {
   "cell_type": "markdown",
   "source": [
    "In Table 1 and Table 2, the 'abs_lasso_coefficient' column is the sum of all absolute coefficient values of the categorical and interaction predictors for the simple OLS and LASSO models. This is to display how much power these terms have in determining the price. The values from 'abs_lasso_coefficient' column are the basis for the argument about the OLS and LASSO models' feature importance in the **Model evaluation** in the summary report."
   ],
   "metadata": {
    "collapsed": false
   },
   "id": "b7e5e0e7257bd291"
  },
  {
   "cell_type": "markdown",
   "source": [
    "#### Performance\n",
    "To build the performance summary table, we create a dataframe consisting of the RMSEs from both the training set and holdout set with tracked runtime for all models."
   ],
   "metadata": {
    "collapsed": false
   },
   "id": "654b677502e58676"
  },
  {
   "cell_type": "code",
   "outputs": [
    {
     "data": {
      "text/plain": "           Model Train RMSE Holdout RMSE Training time\n0     Simple OLS    44.3212      45.0548          0m0s\n1          LASSO    43.8334      44.6018         4m28s\n2  Random Forest    42.9022      43.2020         0m23s\n3            GBM    40.1745      40.6951         7m36s",
      "text/html": "<div>\n<style scoped>\n    .dataframe tbody tr th:only-of-type {\n        vertical-align: middle;\n    }\n\n    .dataframe tbody tr th {\n        vertical-align: top;\n    }\n\n    .dataframe thead th {\n        text-align: right;\n    }\n</style>\n<table border=\"1\" class=\"dataframe\">\n  <thead>\n    <tr style=\"text-align: right;\">\n      <th></th>\n      <th>Model</th>\n      <th>Train RMSE</th>\n      <th>Holdout RMSE</th>\n      <th>Training time</th>\n    </tr>\n  </thead>\n  <tbody>\n    <tr>\n      <th>0</th>\n      <td>Simple OLS</td>\n      <td>44.3212</td>\n      <td>45.0548</td>\n      <td>0m0s</td>\n    </tr>\n    <tr>\n      <th>1</th>\n      <td>LASSO</td>\n      <td>43.8334</td>\n      <td>44.6018</td>\n      <td>4m28s</td>\n    </tr>\n    <tr>\n      <th>2</th>\n      <td>Random Forest</td>\n      <td>42.9022</td>\n      <td>43.2020</td>\n      <td>0m23s</td>\n    </tr>\n    <tr>\n      <th>3</th>\n      <td>GBM</td>\n      <td>40.1745</td>\n      <td>40.6951</td>\n      <td>7m36s</td>\n    </tr>\n  </tbody>\n</table>\n</div>"
     },
     "execution_count": 45,
     "metadata": {},
     "output_type": "execute_result"
    }
   ],
   "source": [
    "# build the performance summary table\n",
    "def get_time_delta(delta):\n",
    "    return f'{delta.seconds // 60}m{delta.seconds % 60}s'\n",
    "\n",
    "lasso_y_holdout, lasso_X_holdout = get_lasso_matrices(lasso_data_holdout)\n",
    "diagnostic_df = pd.DataFrame({'Model': ['Simple OLS', 'LASSO', 'Random Forest', 'GBM'],\n",
    "                              'Train RMSE': ['{:.4f}'.format(ols_rmse), '{:.4f}'.format(lasso_search.best_score_*-1), '{:.4f}'.format(rf_random.best_score_*-1), '{:.4f}'.format(gbm_model_cv.best_score_*-1)],\n",
    "                              'Holdout RMSE': ['{:.4f}'.format(mean_squared_error(ols_model.predict(ols_data_holdout.drop(columns=['price'])), ols_data_holdout['price'], squared=False)), \n",
    "                                               '{:.4f}'.format(mean_squared_error(lasso_search.predict(lasso_X_holdout), lasso_y_holdout, squared=False)), \n",
    "                                               '{:.4f}'.format(mean_squared_error(rf_pipe.predict(data_holdout[numerical_columns + categorical_columns]), data_holdout['price'], squared=False)), \n",
    "                                               '{:.4f}'.format(mean_squared_error(gbm_pipe.predict(data_holdout[numerical_columns + categorical_columns]), data_holdout['price'], squared=False))],\n",
    "                              'Training time': [get_time_delta(ols_time), get_time_delta(lasso_time), get_time_delta(rf_time), get_time_delta(gbm_time)]\n",
    "                              })\n",
    "diagnostic_df"
   ],
   "metadata": {
    "collapsed": false,
    "ExecuteTime": {
     "end_time": "2024-02-10T20:54:05.719292Z",
     "start_time": "2024-02-10T20:54:05.033623Z"
    }
   },
   "id": "3457c47c650a776b",
   "execution_count": 45
  },
  {
   "cell_type": "markdown",
   "source": [
    "The detailed cross-validated training performances for each model (except OLS since there is no cross-validation) are as follows:"
   ],
   "metadata": {
    "collapsed": false
   },
   "id": "c944a2c4612ac16b"
  },
  {
   "cell_type": "markdown",
   "source": [
    "**LASSO**"
   ],
   "metadata": {
    "collapsed": false
   },
   "id": "2d1abb592e307ad1"
  },
  {
   "cell_type": "code",
   "outputs": [
    {
     "data": {
      "text/plain": "  alpha  rank   fit time       RMSE\n0   0.1     9  12.424075 -45.266518\n1  0.15     8   7.153259 -44.570358\n2   0.2     7   5.442965 -44.206283\n3  0.25     6   5.172487 -44.017477\n4   0.3     5   4.416456 -43.909048\n5  0.35     4   3.556646 -43.855604\n6   0.4     1   2.899762 -43.833404\n7  0.45     2   2.516872 -43.833573\n8   0.5     3   2.378954 -43.852494",
      "text/html": "<div>\n<style scoped>\n    .dataframe tbody tr th:only-of-type {\n        vertical-align: middle;\n    }\n\n    .dataframe tbody tr th {\n        vertical-align: top;\n    }\n\n    .dataframe thead th {\n        text-align: right;\n    }\n</style>\n<table border=\"1\" class=\"dataframe\">\n  <thead>\n    <tr style=\"text-align: right;\">\n      <th></th>\n      <th>alpha</th>\n      <th>rank</th>\n      <th>fit time</th>\n      <th>RMSE</th>\n    </tr>\n  </thead>\n  <tbody>\n    <tr>\n      <th>0</th>\n      <td>0.1</td>\n      <td>9</td>\n      <td>12.424075</td>\n      <td>-45.266518</td>\n    </tr>\n    <tr>\n      <th>1</th>\n      <td>0.15</td>\n      <td>8</td>\n      <td>7.153259</td>\n      <td>-44.570358</td>\n    </tr>\n    <tr>\n      <th>2</th>\n      <td>0.2</td>\n      <td>7</td>\n      <td>5.442965</td>\n      <td>-44.206283</td>\n    </tr>\n    <tr>\n      <th>3</th>\n      <td>0.25</td>\n      <td>6</td>\n      <td>5.172487</td>\n      <td>-44.017477</td>\n    </tr>\n    <tr>\n      <th>4</th>\n      <td>0.3</td>\n      <td>5</td>\n      <td>4.416456</td>\n      <td>-43.909048</td>\n    </tr>\n    <tr>\n      <th>5</th>\n      <td>0.35</td>\n      <td>4</td>\n      <td>3.556646</td>\n      <td>-43.855604</td>\n    </tr>\n    <tr>\n      <th>6</th>\n      <td>0.4</td>\n      <td>1</td>\n      <td>2.899762</td>\n      <td>-43.833404</td>\n    </tr>\n    <tr>\n      <th>7</th>\n      <td>0.45</td>\n      <td>2</td>\n      <td>2.516872</td>\n      <td>-43.833573</td>\n    </tr>\n    <tr>\n      <th>8</th>\n      <td>0.5</td>\n      <td>3</td>\n      <td>2.378954</td>\n      <td>-43.852494</td>\n    </tr>\n  </tbody>\n</table>\n</div>"
     },
     "execution_count": 46,
     "metadata": {},
     "output_type": "execute_result"
    }
   ],
   "source": [
    "df_lasso_model_cv_results = pd.DataFrame(lasso_results.cv_results_)[['param_alpha', 'rank_test_score', 'mean_fit_time', 'mean_test_score']]\n",
    "df_lasso_model_cv_results.columns = ['alpha', 'rank', 'fit time', 'RMSE']\n",
    "df_lasso_model_cv_results"
   ],
   "metadata": {
    "collapsed": false,
    "ExecuteTime": {
     "end_time": "2024-02-10T20:54:05.724884Z",
     "start_time": "2024-02-10T20:54:05.715492Z"
    }
   },
   "id": "2754530df8e9b710",
   "execution_count": 46
  },
  {
   "cell_type": "markdown",
   "source": [
    "**Random Forest**"
   ],
   "metadata": {
    "collapsed": false
   },
   "id": "2d2822dab6bfd037"
  },
  {
   "cell_type": "code",
   "outputs": [
    {
     "data": {
      "text/plain": "min node size     5      10     15\nmax features                      \n8              43.43  44.43  44.98\n10             43.12  44.09  44.66\n12             42.90  43.75  44.32",
      "text/html": "<div>\n<style scoped>\n    .dataframe tbody tr th:only-of-type {\n        vertical-align: middle;\n    }\n\n    .dataframe tbody tr th {\n        vertical-align: top;\n    }\n\n    .dataframe thead th {\n        text-align: right;\n    }\n</style>\n<table border=\"1\" class=\"dataframe\">\n  <thead>\n    <tr style=\"text-align: right;\">\n      <th>min node size</th>\n      <th>5</th>\n      <th>10</th>\n      <th>15</th>\n    </tr>\n    <tr>\n      <th>max features</th>\n      <th></th>\n      <th></th>\n      <th></th>\n    </tr>\n  </thead>\n  <tbody>\n    <tr>\n      <th>8</th>\n      <td>43.43</td>\n      <td>44.43</td>\n      <td>44.98</td>\n    </tr>\n    <tr>\n      <th>10</th>\n      <td>43.12</td>\n      <td>44.09</td>\n      <td>44.66</td>\n    </tr>\n    <tr>\n      <th>12</th>\n      <td>42.90</td>\n      <td>43.75</td>\n      <td>44.32</td>\n    </tr>\n  </tbody>\n</table>\n</div>"
     },
     "execution_count": 47,
     "metadata": {},
     "output_type": "execute_result"
    }
   ],
   "source": [
    "df_rf_model_cv_results = pd.DataFrame(rf_random.cv_results_)[[\n",
    "    'param_max_features', 'param_min_samples_leaf', 'mean_test_score']]\n",
    "df_rf_model_cv_results.columns = ['max features', 'min node size', 'RMSE']\n",
    "df_rf_model_cv_results.pivot(\n",
    "    index = 'max features', \n",
    "    columns = 'min node size', \n",
    "    values = 'RMSE').round(2)*-1"
   ],
   "metadata": {
    "collapsed": false,
    "ExecuteTime": {
     "end_time": "2024-02-10T20:54:05.741070Z",
     "start_time": "2024-02-10T20:54:05.718547Z"
    }
   },
   "id": "cb8da10e880613ff",
   "execution_count": 47
  },
  {
   "cell_type": "markdown",
   "source": [
    "**GBM**"
   ],
   "metadata": {
    "collapsed": false
   },
   "id": "d8df79912765a7b8"
  },
  {
   "cell_type": "code",
   "outputs": [
    {
     "data": {
      "text/plain": "    max features min node size max depth # estimators  fit time       RMSE\n0              8             5         5          200  0.849614 -45.660642\n1              8             5         5          300  1.268279 -44.381817\n2              8             5         5          500  2.090474 -43.182553\n3              8             5         5          200  0.847587 -45.630114\n4              8             5         5          300  1.258055 -44.370839\n..           ...           ...       ...          ...       ...        ...\n238           12            15        15          300  4.183899 -41.660155\n239           12            15        15          500  7.129586 -40.789161\n240           12            15        15          200  2.687418 -42.738153\n241           12            15        15          300  4.095615 -41.660155\n242           12            15        15          500  5.524981 -40.789161\n\n[243 rows x 6 columns]",
      "text/html": "<div>\n<style scoped>\n    .dataframe tbody tr th:only-of-type {\n        vertical-align: middle;\n    }\n\n    .dataframe tbody tr th {\n        vertical-align: top;\n    }\n\n    .dataframe thead th {\n        text-align: right;\n    }\n</style>\n<table border=\"1\" class=\"dataframe\">\n  <thead>\n    <tr style=\"text-align: right;\">\n      <th></th>\n      <th>max features</th>\n      <th>min node size</th>\n      <th>max depth</th>\n      <th># estimators</th>\n      <th>fit time</th>\n      <th>RMSE</th>\n    </tr>\n  </thead>\n  <tbody>\n    <tr>\n      <th>0</th>\n      <td>8</td>\n      <td>5</td>\n      <td>5</td>\n      <td>200</td>\n      <td>0.849614</td>\n      <td>-45.660642</td>\n    </tr>\n    <tr>\n      <th>1</th>\n      <td>8</td>\n      <td>5</td>\n      <td>5</td>\n      <td>300</td>\n      <td>1.268279</td>\n      <td>-44.381817</td>\n    </tr>\n    <tr>\n      <th>2</th>\n      <td>8</td>\n      <td>5</td>\n      <td>5</td>\n      <td>500</td>\n      <td>2.090474</td>\n      <td>-43.182553</td>\n    </tr>\n    <tr>\n      <th>3</th>\n      <td>8</td>\n      <td>5</td>\n      <td>5</td>\n      <td>200</td>\n      <td>0.847587</td>\n      <td>-45.630114</td>\n    </tr>\n    <tr>\n      <th>4</th>\n      <td>8</td>\n      <td>5</td>\n      <td>5</td>\n      <td>300</td>\n      <td>1.258055</td>\n      <td>-44.370839</td>\n    </tr>\n    <tr>\n      <th>...</th>\n      <td>...</td>\n      <td>...</td>\n      <td>...</td>\n      <td>...</td>\n      <td>...</td>\n      <td>...</td>\n    </tr>\n    <tr>\n      <th>238</th>\n      <td>12</td>\n      <td>15</td>\n      <td>15</td>\n      <td>300</td>\n      <td>4.183899</td>\n      <td>-41.660155</td>\n    </tr>\n    <tr>\n      <th>239</th>\n      <td>12</td>\n      <td>15</td>\n      <td>15</td>\n      <td>500</td>\n      <td>7.129586</td>\n      <td>-40.789161</td>\n    </tr>\n    <tr>\n      <th>240</th>\n      <td>12</td>\n      <td>15</td>\n      <td>15</td>\n      <td>200</td>\n      <td>2.687418</td>\n      <td>-42.738153</td>\n    </tr>\n    <tr>\n      <th>241</th>\n      <td>12</td>\n      <td>15</td>\n      <td>15</td>\n      <td>300</td>\n      <td>4.095615</td>\n      <td>-41.660155</td>\n    </tr>\n    <tr>\n      <th>242</th>\n      <td>12</td>\n      <td>15</td>\n      <td>15</td>\n      <td>500</td>\n      <td>5.524981</td>\n      <td>-40.789161</td>\n    </tr>\n  </tbody>\n</table>\n<p>243 rows × 6 columns</p>\n</div>"
     },
     "execution_count": 48,
     "metadata": {},
     "output_type": "execute_result"
    }
   ],
   "source": [
    "df_gbm_model_cv_results = pd.DataFrame(gbm_model_cv.cv_results_)[[\n",
    "    'param_max_features', 'param_min_samples_leaf', 'param_max_depth', 'param_n_estimators', 'mean_fit_time', 'mean_test_score']]\n",
    "df_gbm_model_cv_results.columns = ['max features', 'min node size', 'max depth', '# estimators', 'fit time', 'RMSE']\n",
    "df_gbm_model_cv_results"
   ],
   "metadata": {
    "collapsed": false,
    "ExecuteTime": {
     "end_time": "2024-02-10T20:54:05.775498Z",
     "start_time": "2024-02-10T20:54:05.738745Z"
    }
   },
   "id": "2dbbbb3e9812d904",
   "execution_count": 48
  }
 ],
 "metadata": {
  "kernelspec": {
   "display_name": "Python 3",
   "language": "python",
   "name": "python3"
  },
  "language_info": {
   "codemirror_mode": {
    "name": "ipython",
    "version": 2
   },
   "file_extension": ".py",
   "mimetype": "text/x-python",
   "name": "python",
   "nbconvert_exporter": "python",
   "pygments_lexer": "ipython2",
   "version": "2.7.6"
  }
 },
 "nbformat": 4,
 "nbformat_minor": 5
}
