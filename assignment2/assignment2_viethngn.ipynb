{
 "cells": [
  {
   "cell_type": "code",
   "execution_count": 1,
   "id": "initial_id",
   "metadata": {
    "collapsed": true,
    "ExecuteTime": {
     "end_time": "2024-02-09T16:49:11.123972Z",
     "start_time": "2024-02-09T16:49:10.731733Z"
    }
   },
   "outputs": [],
   "source": [
    "%%capture\n",
    "import warnings\n",
    "warnings.filterwarnings('ignore')\n",
    "\n",
    "import pandas as pd\n",
    "import numpy as np\n",
    "import math\n",
    "\n",
    "import seaborn as sns\n",
    "import matplotlib.pyplot as plt\n",
    "\n",
    "from py_helper_functions import *\n",
    "\n",
    "from datetime import datetime\n",
    "\n",
    "from patsy.highlevel import dmatrices\n",
    "\n",
    "from sklearn.ensemble import RandomForestRegressor\n",
    "from sklearn.model_selection import GridSearchCV\n",
    "from sklearn.inspection import permutation_importance\n",
    "from sklearn.inspection import PartialDependenceDisplay\n",
    "from sklearn.inspection import partial_dependence\n",
    "from sklearn.compose import ColumnTransformer\n",
    "from sklearn.pipeline import Pipeline\n",
    "from sklearn.preprocessing import OneHotEncoder\n",
    "from sklearn.metrics import mean_squared_error\n",
    "from sklearn.model_selection import train_test_split\n",
    "from sklearn.preprocessing import StandardScaler\n",
    "from sklearn.linear_model import LinearRegression\n",
    "from sklearn.linear_model import Lasso\n",
    "from sklearn.ensemble import GradientBoostingRegressor\n",
    "from sklearn.linear_model import ElasticNet"
   ]
  },
  {
   "cell_type": "code",
   "outputs": [],
   "source": [
    "def get_cleaned_data(src=None) -> pd.DataFrame:\n",
    "    '''\n",
    "    This function takes a path to a csv file, cleans it and returns the cleaned dataframe\n",
    "    :param src: path to file\n",
    "    :return: dataframe with cleaned data\n",
    "    '''\n",
    "    if src:\n",
    "        df = pd.read_csv(src)\n",
    "    else:\n",
    "        urls = ['https://raw.githubusercontent.com/viethngn/Data_Analysis_3_ECBS5171/main/assignment2/listings_1.csv', 'https://raw.githubusercontent.com/viethngn/Data_Analysis_3_ECBS5171/main/assignment2/listings_2.csv']\n",
    "        dfs = []\n",
    "        for url in urls:\n",
    "            u_df = pd.read_csv(url)\n",
    "            dfs.append(u_df)\n",
    "        df = pd.concat(dfs, ignore_index=True)\n",
    "    \n",
    "    # Filter the data for:\n",
    "    #\n",
    "    # new apartment not on market so no need to care about reviews\n",
    "    working_sample = df[['id','name','host_id','host_name','host_since','host_is_superhost','host_total_listings_count','host_has_profile_pic','host_identity_verified','neighbourhood_cleansed','property_type','room_type','accommodates','bathrooms_text','bedrooms','beds','amenities','price','minimum_nights','maximum_nights','number_of_reviews','review_scores_value','instant_bookable', 'license']\n",
    "                        ][(df['price'].notna()) \n",
    "                        & (df['beds'].notna())\n",
    "                        & (df['host_is_superhost'].notna())\n",
    "                        & (df['host_since'].notna())\n",
    "                        & (df['bathrooms_text'].notna())\n",
    "                        & (df['room_type'] != 'Hotel room')\n",
    "                        & (df['accommodates'] <= 6) & (df['accommodates'] >= 2)\n",
    "                        & (df['neighbourhood_cleansed'].isin(['Palermo', 'Catania', 'Gravina di Catania', 'San Gregorio di Catania', 'Militello in Val di Catania', 'Messina', 'Taormina', 'Realmonte', 'Agrigento', 'Siracusa', 'Cefal', 'Monreale', 'Ragusa', 'Modica']))]\n",
    "    \n",
    "    # fill NA data for reviews with 0s\n",
    "    working_sample['review_scores_value'].fillna(0, inplace=True)\n",
    "    \n",
    "    # fill NA data for bedrooms with 1s\n",
    "    working_sample['bedrooms'].fillna(1, inplace=True)\n",
    "    \n",
    "    # fill NA data for license with NAN\n",
    "    working_sample['license'].fillna('NAN', inplace=True)\n",
    "    \n",
    "    # add boolean variables from text columns\n",
    "    working_sample['d_host_is_superhost'] = working_sample['host_is_superhost'].apply(lambda x: 1 if x == 't' else 0)\n",
    "    working_sample['d_host_has_profile_pic'] = working_sample['host_has_profile_pic'].apply(lambda x: 1 if x == 't' else 0)\n",
    "    working_sample['d_host_identity_verified'] = working_sample['host_identity_verified'].apply(lambda x: 1 if x == 't' else 0)\n",
    "    working_sample['d_instant_bookable'] = working_sample['instant_bookable'].apply(lambda x: 1 if x == 't' else 0)\n",
    "    working_sample['d_has_license'] = working_sample['license'].apply(lambda x: 1 if x != 'NAN' else 0)\n",
    "    \n",
    "    # calculate host time\n",
    "    working_sample['n_host_since'] = working_sample['host_since'].apply(lambda x: (pd.Timestamp('2023-03-31') - pd.Timestamp(x)).days)\n",
    "    \n",
    "    # convert price to numerical\n",
    "    working_sample['price'] = working_sample['price'].apply(lambda x: float(x.replace('$', '').replace(',', '')))\n",
    "    \n",
    "    # filter for price < \n",
    "    working_sample = working_sample[(working_sample['price'] <= 400)]\n",
    "    \n",
    "    # add numerical variable for number of bath\n",
    "    working_sample['n_bathrooms'] = working_sample['bathrooms_text'].apply(lambda x: 0.5 if 'half-bath' in x.lower() else float(x.lower().split()[0]))\n",
    "    \n",
    "    # clean the property type and room type\n",
    "    working_sample['property_type'] = working_sample['property_type'].apply(lambda x: x.lower().replace('entire ', '').replace('private room ', '').replace('shared room ', '').replace('room in ', '').replace('in ', ''))\n",
    "    working_sample['room_type'] = working_sample['room_type'].apply(lambda x: x.lower())\n",
    "    \n",
    "    # add amenities columns\n",
    "    working_sample['d_entertainment'] = working_sample['amenities'].apply(lambda x: 1 if 'tv' in x.lower() or 'game' in x.lower() or 'roku' in x.lower() or 'disney' in x.lower() or 'netflix' in x.lower() or 'nintendo' in x.lower() or'chromecast' in x.lower() or 'alexa' in x.lower() or 'sound' in x.lower() else 0)\n",
    "    working_sample['d_wifi'] = working_sample['amenities'].apply(lambda x: 1 if 'wifi' in x.lower() else 0)\n",
    "    working_sample['d_kitchenware'] = working_sample['amenities'].apply(lambda x: 1 if 'fridge' in x.lower() or 'freezer' in x.lower() or 'stove' in x.lower() or 'coffee' in x.lower() or 'oven' in x.lower() or 'blender' in x.lower() or 'grill' in x.lower() or 'dishwasher' in x.lower() else 0)\n",
    "    working_sample['d_washer'] = working_sample['amenities'].apply(lambda x: 1 if ('washer' in x.lower() or 'dryer' in x.lower() or 'drying' in x.lower()) else 0)\n",
    "    working_sample['d_sauna_hot_tub'] = working_sample['amenities'].apply(lambda x: 1 if 'sauna' in x.lower() or 'tub' in x.lower() else 0)\n",
    "    working_sample['d_pool'] = working_sample['amenities'].apply(lambda x: 1 if ' pool' in x.lower() or 'Pool' in x else 0)\n",
    "    working_sample['d_aircon'] = working_sample['amenities'].apply(lambda x: 1 if 'air con' in x.lower() else 0)\n",
    "    working_sample['d_heating'] = working_sample['amenities'].apply(lambda x: 1 if 'heating' in x.lower() else 0)\n",
    "    working_sample['d_scenic_view_access'] = working_sample['amenities'].apply(lambda x: 1 if 'view' in x.lower() or 'access' in x.lower() else 0)\n",
    "    working_sample['d_parking'] = working_sample['amenities'].apply(lambda x: 1 if 'parking' in x.lower() or 'carport' in x.lower() else 0)\n",
    "    working_sample['d_pets_allowed'] = working_sample['amenities'].apply(lambda x: 1 if 'pets allowed' in x.lower() else 0)\n",
    "    working_sample['d_patio_balcony'] = working_sample['amenities'].apply(lambda x: 1 if 'patio' in x.lower() or 'balcony' in x.lower() else 0)\n",
    "    working_sample['d_bodyshower'] = working_sample['amenities'].apply(lambda x: 1 if 'shampoo' in x.lower() or 'conditioner' in x.lower() or 'soap' in x.lower() or 'gel' in x.lower() else 0)\n",
    "    \n",
    "    # rename numerical and categorical columns to have prefix\n",
    "    working_sample.rename(columns={\n",
    "        'host_total_listings_count': 'n_host_total_listings_count',\n",
    "        'accommodates': 'n_accommodates',\n",
    "        'bedrooms': 'n_bedrooms',\n",
    "        'beds': 'n_beds',\n",
    "        'minimum_nights': 'n_minimum_nights',\n",
    "        'maximum_nights': 'n_maximum_nights',\n",
    "        'neighbourhood_cleansed': 'f_neighbourhood_cleansed',\n",
    "        'property_type': 'f_property_type',\n",
    "        'room_type': 'f_room_type',\n",
    "        'review_scores_value': 'n_review_scores_value',\n",
    "        'number_of_reviews': 'n_number_of_reviews'\n",
    "    }, inplace=True)\n",
    "    \n",
    "    del df\n",
    "    if not src:\n",
    "        del dfs[0]\n",
    "        del dfs[1]\n",
    "        \n",
    "    return working_sample"
   ],
   "metadata": {
    "collapsed": false,
    "ExecuteTime": {
     "end_time": "2024-02-09T16:49:11.134608Z",
     "start_time": "2024-02-09T16:49:11.118443Z"
    }
   },
   "id": "7b4ad86b6e8e6ac7",
   "execution_count": 2
  },
  {
   "cell_type": "code",
   "outputs": [],
   "source": [
    "work_df = get_cleaned_data('listings.csv')\n",
    "# work_df = get_cleaned_data()\n",
    "work_df.shape;"
   ],
   "metadata": {
    "collapsed": false,
    "ExecuteTime": {
     "end_time": "2024-02-09T16:49:12.994797Z",
     "start_time": "2024-02-09T16:49:11.121621Z"
    }
   },
   "id": "7f62dcd6ad5a7e8d",
   "execution_count": 3
  },
  {
   "cell_type": "code",
   "outputs": [],
   "source": [
    "categorical_columns = [col for col in work_df.columns if col.startswith(\"f_\")]\n",
    "numerical_columns = [col for col in work_df.columns if col.startswith(\"n_\") or col.startswith(\"d_\")]"
   ],
   "metadata": {
    "collapsed": false,
    "ExecuteTime": {
     "end_time": "2024-02-09T16:49:12.995931Z",
     "start_time": "2024-02-09T16:49:12.985197Z"
    }
   },
   "id": "101e67fa693a5bdb",
   "execution_count": 4
  },
  {
   "cell_type": "code",
   "outputs": [],
   "source": [
    "# build interaction terms\n",
    "# interactions = ['f_property_type*f_room_type',\n",
    "#                 'n_accommodates*f_property_type',\n",
    "#                 'n_accommodates*f_room_type',\n",
    "#                 'f_property_type*f_neighbourhood_cleansed',\n",
    "#                 'f_room_type*f_neighbourhood_cleansed',\n",
    "#                 'n_accommodates*f_neighbourhood_cleansed'\n",
    "#                 ]\n",
    "interactions = []\n",
    "for i in categorical_columns + numerical_columns:\n",
    "    for k in categorical_columns + numerical_columns:\n",
    "        if i == k or i+'*'+k in interactions or k+'*'+i in interactions:\n",
    "            continue\n",
    "        else:\n",
    "            interactions.append(i + '*' + k)"
   ],
   "metadata": {
    "collapsed": false,
    "ExecuteTime": {
     "end_time": "2024-02-09T16:49:12.999451Z",
     "start_time": "2024-02-09T16:49:12.994513Z"
    }
   },
   "id": "6e842d149e7f7a5d",
   "execution_count": 5
  },
  {
   "cell_type": "code",
   "outputs": [],
   "source": [
    "# ols get train test split\n",
    "def get_ols_train_test_split(data, lasso=False):\n",
    "    if lasso:\n",
    "        y_, ols_df = dmatrices('price~' + '+'.join(numerical_columns) + '+' + '+'.join(categorical_columns) + '+' + '+'.join(interactions), data, return_type=\"dataframe\")\n",
    "    else:\n",
    "        y_, ols_df = dmatrices('price~' + '+'.join(numerical_columns) + '+' + '+'.join(categorical_columns), data, return_type=\"dataframe\")\n",
    "    ols_terms_list = ols_df.design_info.column_names\n",
    "    ols_df['price'] = y_\n",
    "    ols_data_train, ols_data_holdout = train_test_split(ols_df, train_size=0.7, random_state=42)\n",
    "    return ols_data_train, ols_data_holdout, ols_terms_list"
   ],
   "metadata": {
    "collapsed": false,
    "ExecuteTime": {
     "end_time": "2024-02-09T16:49:13.016086Z",
     "start_time": "2024-02-09T16:49:12.998744Z"
    }
   },
   "id": "798835501b07fe0d",
   "execution_count": 6
  },
  {
   "cell_type": "code",
   "outputs": [
    {
     "data": {
      "text/plain": "((11368, 44), (4872, 44))"
     },
     "execution_count": 7,
     "metadata": {},
     "output_type": "execute_result"
    }
   ],
   "source": [
    "data_train, data_holdout = train_test_split(work_df, train_size=0.7, random_state=42)\n",
    "data_train.shape, data_holdout.shape"
   ],
   "metadata": {
    "collapsed": false,
    "ExecuteTime": {
     "end_time": "2024-02-09T16:49:13.036464Z",
     "start_time": "2024-02-09T16:49:13.002164Z"
    }
   },
   "id": "fa866dca642f2f05",
   "execution_count": 7
  },
  {
   "cell_type": "markdown",
   "source": [
    "Simple OLS"
   ],
   "metadata": {
    "collapsed": false
   },
   "id": "aec6510309a0724"
  },
  {
   "cell_type": "code",
   "outputs": [
    {
     "data": {
      "text/plain": "LinearRegression()",
      "text/html": "<style>#sk-container-id-1 {color: black;}#sk-container-id-1 pre{padding: 0;}#sk-container-id-1 div.sk-toggleable {background-color: white;}#sk-container-id-1 label.sk-toggleable__label {cursor: pointer;display: block;width: 100%;margin-bottom: 0;padding: 0.3em;box-sizing: border-box;text-align: center;}#sk-container-id-1 label.sk-toggleable__label-arrow:before {content: \"▸\";float: left;margin-right: 0.25em;color: #696969;}#sk-container-id-1 label.sk-toggleable__label-arrow:hover:before {color: black;}#sk-container-id-1 div.sk-estimator:hover label.sk-toggleable__label-arrow:before {color: black;}#sk-container-id-1 div.sk-toggleable__content {max-height: 0;max-width: 0;overflow: hidden;text-align: left;background-color: #f0f8ff;}#sk-container-id-1 div.sk-toggleable__content pre {margin: 0.2em;color: black;border-radius: 0.25em;background-color: #f0f8ff;}#sk-container-id-1 input.sk-toggleable__control:checked~div.sk-toggleable__content {max-height: 200px;max-width: 100%;overflow: auto;}#sk-container-id-1 input.sk-toggleable__control:checked~label.sk-toggleable__label-arrow:before {content: \"▾\";}#sk-container-id-1 div.sk-estimator input.sk-toggleable__control:checked~label.sk-toggleable__label {background-color: #d4ebff;}#sk-container-id-1 div.sk-label input.sk-toggleable__control:checked~label.sk-toggleable__label {background-color: #d4ebff;}#sk-container-id-1 input.sk-hidden--visually {border: 0;clip: rect(1px 1px 1px 1px);clip: rect(1px, 1px, 1px, 1px);height: 1px;margin: -1px;overflow: hidden;padding: 0;position: absolute;width: 1px;}#sk-container-id-1 div.sk-estimator {font-family: monospace;background-color: #f0f8ff;border: 1px dotted black;border-radius: 0.25em;box-sizing: border-box;margin-bottom: 0.5em;}#sk-container-id-1 div.sk-estimator:hover {background-color: #d4ebff;}#sk-container-id-1 div.sk-parallel-item::after {content: \"\";width: 100%;border-bottom: 1px solid gray;flex-grow: 1;}#sk-container-id-1 div.sk-label:hover label.sk-toggleable__label {background-color: #d4ebff;}#sk-container-id-1 div.sk-serial::before {content: \"\";position: absolute;border-left: 1px solid gray;box-sizing: border-box;top: 0;bottom: 0;left: 50%;z-index: 0;}#sk-container-id-1 div.sk-serial {display: flex;flex-direction: column;align-items: center;background-color: white;padding-right: 0.2em;padding-left: 0.2em;position: relative;}#sk-container-id-1 div.sk-item {position: relative;z-index: 1;}#sk-container-id-1 div.sk-parallel {display: flex;align-items: stretch;justify-content: center;background-color: white;position: relative;}#sk-container-id-1 div.sk-item::before, #sk-container-id-1 div.sk-parallel-item::before {content: \"\";position: absolute;border-left: 1px solid gray;box-sizing: border-box;top: 0;bottom: 0;left: 50%;z-index: -1;}#sk-container-id-1 div.sk-parallel-item {display: flex;flex-direction: column;z-index: 1;position: relative;background-color: white;}#sk-container-id-1 div.sk-parallel-item:first-child::after {align-self: flex-end;width: 50%;}#sk-container-id-1 div.sk-parallel-item:last-child::after {align-self: flex-start;width: 50%;}#sk-container-id-1 div.sk-parallel-item:only-child::after {width: 0;}#sk-container-id-1 div.sk-dashed-wrapped {border: 1px dashed gray;margin: 0 0.4em 0.5em 0.4em;box-sizing: border-box;padding-bottom: 0.4em;background-color: white;}#sk-container-id-1 div.sk-label label {font-family: monospace;font-weight: bold;display: inline-block;line-height: 1.2em;}#sk-container-id-1 div.sk-label-container {text-align: center;}#sk-container-id-1 div.sk-container {/* jupyter's `normalize.less` sets `[hidden] { display: none; }` but bootstrap.min.css set `[hidden] { display: none !important; }` so we also need the `!important` here to be able to override the default hidden behavior on the sphinx rendered scikit-learn.org. See: https://github.com/scikit-learn/scikit-learn/issues/21755 */display: inline-block !important;position: relative;}#sk-container-id-1 div.sk-text-repr-fallback {display: none;}</style><div id=\"sk-container-id-1\" class=\"sk-top-container\"><div class=\"sk-text-repr-fallback\"><pre>LinearRegression()</pre><b>In a Jupyter environment, please rerun this cell to show the HTML representation or trust the notebook. <br />On GitHub, the HTML representation is unable to render, please try loading this page with nbviewer.org.</b></div><div class=\"sk-container\" hidden><div class=\"sk-item\"><div class=\"sk-estimator sk-toggleable\"><input class=\"sk-toggleable__control sk-hidden--visually\" id=\"sk-estimator-id-1\" type=\"checkbox\" checked><label for=\"sk-estimator-id-1\" class=\"sk-toggleable__label sk-toggleable__label-arrow\">LinearRegression</label><div class=\"sk-toggleable__content\"><pre>LinearRegression()</pre></div></div></div></div></div>"
     },
     "execution_count": 8,
     "metadata": {},
     "output_type": "execute_result"
    }
   ],
   "source": [
    "ols_data_train, ols_data_holdout, ols_terms_list = get_ols_train_test_split(work_df)\n",
    "\n",
    "start_time = datetime.now()\n",
    "ols_model = LinearRegression().fit(ols_data_train[ols_terms_list], ols_data_train['price'])\n",
    "ols_time = datetime.now() - start_time\n",
    "ols_model"
   ],
   "metadata": {
    "collapsed": false,
    "ExecuteTime": {
     "end_time": "2024-02-09T16:49:13.304468Z",
     "start_time": "2024-02-09T16:49:13.055410Z"
    }
   },
   "id": "a230499e4c4b0c36",
   "execution_count": 8
  },
  {
   "cell_type": "code",
   "outputs": [
    {
     "data": {
      "text/plain": "44.325430125194565"
     },
     "execution_count": 9,
     "metadata": {},
     "output_type": "execute_result"
    }
   ],
   "source": [
    "ols_rmse = mean_squared_error(ols_model.predict(ols_data_train.drop(columns=['price'])), ols_data_train['price'], squared=False)\n",
    "ols_rmse"
   ],
   "metadata": {
    "collapsed": false,
    "ExecuteTime": {
     "end_time": "2024-02-09T16:49:13.403797Z",
     "start_time": "2024-02-09T16:49:13.322354Z"
    }
   },
   "id": "a64dad3d67597060",
   "execution_count": 9
  },
  {
   "cell_type": "code",
   "outputs": [
    {
     "data": {
      "text/plain": "                          ols_coefficient  abs_ols_coefficient\ngrouped_term                                                  \nf_property_type                 -1418.163             1739.051\nf_neighbourhood_cleansed            3.654              118.806\nf_room_type                       -47.960               47.960\nd_pool                             36.555               36.555\nn_bathrooms                        18.808               18.808\nn_bedrooms                         11.076               11.076\nd_sauna_hot_tub                    10.711               10.711\nd_wifi                             10.305               10.305\nd_pets_allowed                     -5.705                5.705\nn_accommodates                      5.409                5.409",
      "text/html": "<div>\n<style scoped>\n    .dataframe tbody tr th:only-of-type {\n        vertical-align: middle;\n    }\n\n    .dataframe tbody tr th {\n        vertical-align: top;\n    }\n\n    .dataframe thead th {\n        text-align: right;\n    }\n</style>\n<table border=\"1\" class=\"dataframe\">\n  <thead>\n    <tr style=\"text-align: right;\">\n      <th></th>\n      <th>ols_coefficient</th>\n      <th>abs_ols_coefficient</th>\n    </tr>\n    <tr>\n      <th>grouped_term</th>\n      <th></th>\n      <th></th>\n    </tr>\n  </thead>\n  <tbody>\n    <tr>\n      <th>f_property_type</th>\n      <td>-1418.163</td>\n      <td>1739.051</td>\n    </tr>\n    <tr>\n      <th>f_neighbourhood_cleansed</th>\n      <td>3.654</td>\n      <td>118.806</td>\n    </tr>\n    <tr>\n      <th>f_room_type</th>\n      <td>-47.960</td>\n      <td>47.960</td>\n    </tr>\n    <tr>\n      <th>d_pool</th>\n      <td>36.555</td>\n      <td>36.555</td>\n    </tr>\n    <tr>\n      <th>n_bathrooms</th>\n      <td>18.808</td>\n      <td>18.808</td>\n    </tr>\n    <tr>\n      <th>n_bedrooms</th>\n      <td>11.076</td>\n      <td>11.076</td>\n    </tr>\n    <tr>\n      <th>d_sauna_hot_tub</th>\n      <td>10.711</td>\n      <td>10.711</td>\n    </tr>\n    <tr>\n      <th>d_wifi</th>\n      <td>10.305</td>\n      <td>10.305</td>\n    </tr>\n    <tr>\n      <th>d_pets_allowed</th>\n      <td>-5.705</td>\n      <td>5.705</td>\n    </tr>\n    <tr>\n      <th>n_accommodates</th>\n      <td>5.409</td>\n      <td>5.409</td>\n    </tr>\n  </tbody>\n</table>\n</div>"
     },
     "execution_count": 10,
     "metadata": {},
     "output_type": "execute_result"
    }
   ],
   "source": [
    "df_ols_var_coefs = pd.DataFrame(\n",
    "    ols_model.coef_.tolist(),\n",
    "    index=ols_terms_list,\n",
    "    columns=[\"ols_coefficient\"],\n",
    ").assign(ols_coefficient=lambda x: x.ols_coefficient.round(3)).loc[\n",
    "    lambda x: x.ols_coefficient != 0\n",
    "]\n",
    "df_ols_var_coefs['abs_ols_coefficient'] = df_ols_var_coefs[\"ols_coefficient\"].apply(lambda x: x if x >= 0 else x * -1)\n",
    "df_ols_var_coefs = df_ols_var_coefs.reset_index().rename(columns={'index': 'term'})\n",
    "df_ols_var_coefs['grouped_term'] = df_ols_var_coefs['term'].apply(lambda x: x.split('[')[0])\n",
    "# df_ols_var_coefs.sort_values(by=\"abs_ols_coefficient\", ascending=False).iloc[:100]\n",
    "df_ols_var_coefs.groupby(['grouped_term']).sum().sort_values(by=\"abs_ols_coefficient\", ascending=False)[['ols_coefficient', 'abs_ols_coefficient']].iloc[:10]"
   ],
   "metadata": {
    "collapsed": false,
    "ExecuteTime": {
     "end_time": "2024-02-09T16:49:13.487543Z",
     "start_time": "2024-02-09T16:49:13.423082Z"
    }
   },
   "id": "dd3bb73d28538adb",
   "execution_count": 10
  },
  {
   "cell_type": "markdown",
   "source": [
    "LASSO"
   ],
   "metadata": {
    "collapsed": false
   },
   "id": "3c8ce21c89fee132"
  },
  {
   "cell_type": "code",
   "outputs": [],
   "source": [
    "# LASSO for OLS\n",
    "def get_lasso_matrices(data):\n",
    "    y_ = data['price']\n",
    "    X_ = data[lasso_terms_list]\n",
    "    scaler = StandardScaler()\n",
    "    X_ = scaler.fit_transform(X_)\n",
    "    return y_, X_"
   ],
   "metadata": {
    "collapsed": false,
    "ExecuteTime": {
     "end_time": "2024-02-09T16:49:13.542208Z",
     "start_time": "2024-02-09T16:49:13.434780Z"
    }
   },
   "id": "51a25ca348bc18d9",
   "execution_count": 11
  },
  {
   "cell_type": "code",
   "outputs": [
    {
     "name": "stdout",
     "output_type": "stream",
     "text": [
      "Fitting 5 folds for each of 9 candidates, totalling 45 fits\n",
      "[CV 1/5] END .......................alpha=0.1;, score=-48.976 total time=  11.4s\n",
      "[CV 2/5] END .......................alpha=0.1;, score=-44.718 total time=   9.6s\n",
      "[CV 3/5] END .......................alpha=0.1;, score=-44.129 total time=  14.7s\n",
      "[CV 4/5] END .......................alpha=0.1;, score=-44.360 total time=  15.1s\n",
      "[CV 5/5] END .......................alpha=0.1;, score=-44.077 total time=  14.6s\n",
      "[CV 1/5] END ......................alpha=0.15;, score=-47.726 total time=   7.0s\n",
      "[CV 2/5] END ......................alpha=0.15;, score=-43.486 total time=   5.7s\n",
      "[CV 3/5] END ......................alpha=0.15;, score=-43.641 total time=   8.6s\n",
      "[CV 4/5] END ......................alpha=0.15;, score=-44.205 total time=   8.1s\n",
      "[CV 5/5] END ......................alpha=0.15;, score=-43.785 total time=   6.7s\n",
      "[CV 1/5] END .......................alpha=0.2;, score=-46.680 total time=   5.7s\n",
      "[CV 2/5] END .......................alpha=0.2;, score=-43.070 total time=   4.4s\n",
      "[CV 3/5] END .......................alpha=0.2;, score=-43.365 total time=   6.3s\n",
      "[CV 4/5] END .......................alpha=0.2;, score=-44.205 total time=   6.1s\n",
      "[CV 5/5] END .......................alpha=0.2;, score=-43.750 total time=   5.1s\n",
      "[CV 1/5] END ......................alpha=0.25;, score=-45.978 total time=   6.8s\n",
      "[CV 2/5] END ......................alpha=0.25;, score=-42.960 total time=   5.0s\n",
      "[CV 3/5] END ......................alpha=0.25;, score=-43.250 total time=   5.3s\n",
      "[CV 4/5] END ......................alpha=0.25;, score=-44.216 total time=   5.5s\n",
      "[CV 5/5] END ......................alpha=0.25;, score=-43.726 total time=   4.3s\n",
      "[CV 1/5] END .......................alpha=0.3;, score=-45.492 total time=   5.0s\n",
      "[CV 2/5] END .......................alpha=0.3;, score=-42.906 total time=   4.9s\n",
      "[CV 3/5] END .......................alpha=0.3;, score=-43.166 total time=   4.8s\n",
      "[CV 4/5] END .......................alpha=0.3;, score=-44.251 total time=   4.8s\n",
      "[CV 5/5] END .......................alpha=0.3;, score=-43.769 total time=   3.5s\n",
      "[CV 1/5] END ......................alpha=0.35;, score=-45.219 total time=   3.3s\n",
      "[CV 2/5] END ......................alpha=0.35;, score=-42.894 total time=   4.6s\n",
      "[CV 3/5] END ......................alpha=0.35;, score=-43.112 total time=   3.2s\n",
      "[CV 4/5] END ......................alpha=0.35;, score=-44.277 total time=   3.6s\n",
      "[CV 5/5] END ......................alpha=0.35;, score=-43.813 total time=   3.4s\n",
      "[CV 1/5] END .......................alpha=0.4;, score=-45.002 total time=   2.7s\n",
      "[CV 2/5] END .......................alpha=0.4;, score=-42.924 total time=   3.9s\n",
      "[CV 3/5] END .......................alpha=0.4;, score=-43.096 total time=   2.4s\n",
      "[CV 4/5] END .......................alpha=0.4;, score=-44.308 total time=   3.2s\n",
      "[CV 5/5] END .......................alpha=0.4;, score=-43.870 total time=   2.5s\n",
      "[CV 1/5] END ......................alpha=0.45;, score=-44.843 total time=   2.7s\n",
      "[CV 2/5] END ......................alpha=0.45;, score=-42.984 total time=   3.4s\n",
      "[CV 3/5] END ......................alpha=0.45;, score=-43.095 total time=   2.3s\n",
      "[CV 4/5] END ......................alpha=0.45;, score=-44.347 total time=   2.6s\n",
      "[CV 5/5] END ......................alpha=0.45;, score=-43.931 total time=   1.9s\n",
      "[CV 1/5] END .......................alpha=0.5;, score=-44.740 total time=   2.7s\n",
      "[CV 2/5] END .......................alpha=0.5;, score=-43.045 total time=   2.9s\n",
      "[CV 3/5] END .......................alpha=0.5;, score=-43.105 total time=   2.5s\n",
      "[CV 4/5] END .......................alpha=0.5;, score=-44.389 total time=   2.5s\n",
      "[CV 5/5] END .......................alpha=0.5;, score=-44.014 total time=   1.8s\n",
      "CPU times: user 8min 22s, sys: 2min 2s, total: 10min 24s\n",
      "Wall time: 4min 29s\n"
     ]
    }
   ],
   "source": [
    "%%time\n",
    "# get lasso data split\n",
    "lasso_data_train, lasso_data_holdout, lasso_terms_list = get_ols_train_test_split(work_df, lasso=True)\n",
    "\n",
    "# define model\n",
    "lasso_model = ElasticNet(l1_ratio = 1, fit_intercept = True)\n",
    "\n",
    "# define cv search\n",
    "lasso_search = GridSearchCV(\n",
    "    lasso_model,\n",
    "    {\"alpha\":[i/100 for i in range(10, 55, 5)]},\n",
    "    cv=5,\n",
    "    scoring=\"neg_root_mean_squared_error\",\n",
    "    verbose=3,\n",
    ")\n",
    "\n",
    "# perform the search\n",
    "y, X = get_lasso_matrices(lasso_data_train)\n",
    "\n",
    "start_time = datetime.now()\n",
    "lasso_results = lasso_search.fit(X, y)\n",
    "lasso_time = datetime.now() - start_time"
   ],
   "metadata": {
    "collapsed": false,
    "ExecuteTime": {
     "end_time": "2024-02-09T16:53:43.200274Z",
     "start_time": "2024-02-09T16:49:13.442842Z"
    }
   },
   "id": "5ecac39a3052dadb",
   "execution_count": 12
  },
  {
   "cell_type": "code",
   "outputs": [
    {
     "data": {
      "text/plain": "ElasticNet(alpha=0.45, l1_ratio=1)",
      "text/html": "<style>#sk-container-id-2 {color: black;}#sk-container-id-2 pre{padding: 0;}#sk-container-id-2 div.sk-toggleable {background-color: white;}#sk-container-id-2 label.sk-toggleable__label {cursor: pointer;display: block;width: 100%;margin-bottom: 0;padding: 0.3em;box-sizing: border-box;text-align: center;}#sk-container-id-2 label.sk-toggleable__label-arrow:before {content: \"▸\";float: left;margin-right: 0.25em;color: #696969;}#sk-container-id-2 label.sk-toggleable__label-arrow:hover:before {color: black;}#sk-container-id-2 div.sk-estimator:hover label.sk-toggleable__label-arrow:before {color: black;}#sk-container-id-2 div.sk-toggleable__content {max-height: 0;max-width: 0;overflow: hidden;text-align: left;background-color: #f0f8ff;}#sk-container-id-2 div.sk-toggleable__content pre {margin: 0.2em;color: black;border-radius: 0.25em;background-color: #f0f8ff;}#sk-container-id-2 input.sk-toggleable__control:checked~div.sk-toggleable__content {max-height: 200px;max-width: 100%;overflow: auto;}#sk-container-id-2 input.sk-toggleable__control:checked~label.sk-toggleable__label-arrow:before {content: \"▾\";}#sk-container-id-2 div.sk-estimator input.sk-toggleable__control:checked~label.sk-toggleable__label {background-color: #d4ebff;}#sk-container-id-2 div.sk-label input.sk-toggleable__control:checked~label.sk-toggleable__label {background-color: #d4ebff;}#sk-container-id-2 input.sk-hidden--visually {border: 0;clip: rect(1px 1px 1px 1px);clip: rect(1px, 1px, 1px, 1px);height: 1px;margin: -1px;overflow: hidden;padding: 0;position: absolute;width: 1px;}#sk-container-id-2 div.sk-estimator {font-family: monospace;background-color: #f0f8ff;border: 1px dotted black;border-radius: 0.25em;box-sizing: border-box;margin-bottom: 0.5em;}#sk-container-id-2 div.sk-estimator:hover {background-color: #d4ebff;}#sk-container-id-2 div.sk-parallel-item::after {content: \"\";width: 100%;border-bottom: 1px solid gray;flex-grow: 1;}#sk-container-id-2 div.sk-label:hover label.sk-toggleable__label {background-color: #d4ebff;}#sk-container-id-2 div.sk-serial::before {content: \"\";position: absolute;border-left: 1px solid gray;box-sizing: border-box;top: 0;bottom: 0;left: 50%;z-index: 0;}#sk-container-id-2 div.sk-serial {display: flex;flex-direction: column;align-items: center;background-color: white;padding-right: 0.2em;padding-left: 0.2em;position: relative;}#sk-container-id-2 div.sk-item {position: relative;z-index: 1;}#sk-container-id-2 div.sk-parallel {display: flex;align-items: stretch;justify-content: center;background-color: white;position: relative;}#sk-container-id-2 div.sk-item::before, #sk-container-id-2 div.sk-parallel-item::before {content: \"\";position: absolute;border-left: 1px solid gray;box-sizing: border-box;top: 0;bottom: 0;left: 50%;z-index: -1;}#sk-container-id-2 div.sk-parallel-item {display: flex;flex-direction: column;z-index: 1;position: relative;background-color: white;}#sk-container-id-2 div.sk-parallel-item:first-child::after {align-self: flex-end;width: 50%;}#sk-container-id-2 div.sk-parallel-item:last-child::after {align-self: flex-start;width: 50%;}#sk-container-id-2 div.sk-parallel-item:only-child::after {width: 0;}#sk-container-id-2 div.sk-dashed-wrapped {border: 1px dashed gray;margin: 0 0.4em 0.5em 0.4em;box-sizing: border-box;padding-bottom: 0.4em;background-color: white;}#sk-container-id-2 div.sk-label label {font-family: monospace;font-weight: bold;display: inline-block;line-height: 1.2em;}#sk-container-id-2 div.sk-label-container {text-align: center;}#sk-container-id-2 div.sk-container {/* jupyter's `normalize.less` sets `[hidden] { display: none; }` but bootstrap.min.css set `[hidden] { display: none !important; }` so we also need the `!important` here to be able to override the default hidden behavior on the sphinx rendered scikit-learn.org. See: https://github.com/scikit-learn/scikit-learn/issues/21755 */display: inline-block !important;position: relative;}#sk-container-id-2 div.sk-text-repr-fallback {display: none;}</style><div id=\"sk-container-id-2\" class=\"sk-top-container\"><div class=\"sk-text-repr-fallback\"><pre>ElasticNet(alpha=0.45, l1_ratio=1)</pre><b>In a Jupyter environment, please rerun this cell to show the HTML representation or trust the notebook. <br />On GitHub, the HTML representation is unable to render, please try loading this page with nbviewer.org.</b></div><div class=\"sk-container\" hidden><div class=\"sk-item\"><div class=\"sk-estimator sk-toggleable\"><input class=\"sk-toggleable__control sk-hidden--visually\" id=\"sk-estimator-id-2\" type=\"checkbox\" checked><label for=\"sk-estimator-id-2\" class=\"sk-toggleable__label sk-toggleable__label-arrow\">ElasticNet</label><div class=\"sk-toggleable__content\"><pre>ElasticNet(alpha=0.45, l1_ratio=1)</pre></div></div></div></div></div>"
     },
     "execution_count": 13,
     "metadata": {},
     "output_type": "execute_result"
    }
   ],
   "source": [
    "lasso_results.best_estimator_"
   ],
   "metadata": {
    "collapsed": false,
    "ExecuteTime": {
     "end_time": "2024-02-09T16:53:43.233524Z",
     "start_time": "2024-02-09T16:53:43.198854Z"
    }
   },
   "id": "f42f4ecef729b289",
   "execution_count": 13
  },
  {
   "cell_type": "code",
   "outputs": [],
   "source": [
    "df_lasso_results = pd.DataFrame(lasso_results.cv_results_)[['param_alpha', 'rank_test_score', 'mean_test_score']]\n",
    "df_lasso_results;"
   ],
   "metadata": {
    "collapsed": false,
    "ExecuteTime": {
     "end_time": "2024-02-09T16:53:43.243066Z",
     "start_time": "2024-02-09T16:53:43.229645Z"
    }
   },
   "id": "5674cbe6b2d5098b",
   "execution_count": 14
  },
  {
   "cell_type": "code",
   "outputs": [],
   "source": [
    "df_lasso_var_coefs = pd.DataFrame(\n",
    "    lasso_results.best_estimator_.coef_.tolist(),\n",
    "    index=lasso_terms_list,\n",
    "    columns=[\"lasso_coefficient\"],\n",
    ").assign(lasso_coefficient=lambda x: x.lasso_coefficient.round(3)).loc[\n",
    "    lambda x: x.lasso_coefficient != 0\n",
    "]\n",
    "df_lasso_var_coefs['abs_lasso_coefficient'] = df_lasso_var_coefs[\"lasso_coefficient\"].apply(lambda x: x if x >= 0 else x * -1)\n",
    "# df_lasso_var_coefs.sort_values(by=\"abs_lasso_coefficient\", ascending=False).iloc[:30]\n",
    "df_lasso_var_coefs = df_lasso_var_coefs.reset_index().rename(columns={'index': 'term'})\n",
    "df_lasso_var_coefs['grouped_term'] = df_lasso_var_coefs['term'].apply(lambda x: x.split(':')[0].split('[')[0] + ':' + x.split(':')[1].split('[')[0] if ':' in x else x.split('[')[0])\n",
    "df_lasso_grouped_var_coefs = df_lasso_var_coefs.groupby(['grouped_term']).sum()\n",
    "df_lasso_grouped_var_coefs = df_lasso_grouped_var_coefs.reset_index()"
   ],
   "metadata": {
    "collapsed": false,
    "ExecuteTime": {
     "end_time": "2024-02-09T16:53:43.258704Z",
     "start_time": "2024-02-09T16:53:43.247340Z"
    }
   },
   "id": "d5cabffaf3f59084",
   "execution_count": 15
  },
  {
   "cell_type": "code",
   "outputs": [],
   "source": [
    "# single term coef power \n",
    "df_lasso_grouped_var_coefs[(df_lasso_grouped_var_coefs['grouped_term'].str.contains(':')) == False].sort_values(by=\"abs_lasso_coefficient\", ascending=False)[['grouped_term', 'lasso_coefficient', 'abs_lasso_coefficient']][:10];"
   ],
   "metadata": {
    "collapsed": false,
    "ExecuteTime": {
     "end_time": "2024-02-09T16:53:43.261687Z",
     "start_time": "2024-02-09T16:53:43.256579Z"
    }
   },
   "id": "cde456d463b1ecb6",
   "execution_count": 16
  },
  {
   "cell_type": "code",
   "outputs": [],
   "source": [
    "# interaction coef power\n",
    "df_lasso_grouped_var_coefs[(df_lasso_grouped_var_coefs['grouped_term'].str.contains(':'))].sort_values(by=\"abs_lasso_coefficient\", ascending=False)[['grouped_term', 'lasso_coefficient', 'abs_lasso_coefficient']][:10];"
   ],
   "metadata": {
    "collapsed": false,
    "ExecuteTime": {
     "end_time": "2024-02-09T16:53:43.274414Z",
     "start_time": "2024-02-09T16:53:43.266951Z"
    }
   },
   "id": "8d8cf01dc443d5e1",
   "execution_count": 17
  },
  {
   "cell_type": "markdown",
   "source": [
    "Random Forest"
   ],
   "metadata": {
    "collapsed": false
   },
   "id": "8dd991d98986b8ec"
  },
  {
   "cell_type": "code",
   "outputs": [],
   "source": [
    "# building preprocessing for pipeline\n",
    "categorical_encoder = OneHotEncoder(handle_unknown=\"ignore\")\n",
    "\n",
    "preprocessing = ColumnTransformer(\n",
    "    [\n",
    "        (\"cat\", categorical_encoder, categorical_columns),\n",
    "        (\"num\", \"passthrough\", numerical_columns),\n",
    "    ]\n",
    ")"
   ],
   "metadata": {
    "collapsed": false,
    "ExecuteTime": {
     "end_time": "2024-02-09T16:53:43.302021Z",
     "start_time": "2024-02-09T16:53:43.278797Z"
    }
   },
   "id": "3bf01d5ef8f77933",
   "execution_count": 18
  },
  {
   "cell_type": "code",
   "outputs": [],
   "source": [
    "tune_grid = {\"max_features\": [8, 10, 12], \"min_samples_leaf\": [5, 10, 15]}\n",
    "\n",
    "rfr = RandomForestRegressor(random_state = 42)\n",
    "\n",
    "rf_random = GridSearchCV(\n",
    "    rfr,\n",
    "    tune_grid,\n",
    "    cv=5,\n",
    "    scoring=\"neg_root_mean_squared_error\",\n",
    "    verbose=3,\n",
    ")"
   ],
   "metadata": {
    "collapsed": false,
    "ExecuteTime": {
     "end_time": "2024-02-09T16:53:43.302995Z",
     "start_time": "2024-02-09T16:53:43.286415Z"
    }
   },
   "id": "40492fdfab7edfd7",
   "execution_count": 19
  },
  {
   "cell_type": "code",
   "outputs": [],
   "source": [
    "rf_pipe = Pipeline(\n",
    "    [(\"preprocess\", preprocessing), (\"regressor\", rf_random)], verbose=True\n",
    ")"
   ],
   "metadata": {
    "collapsed": false,
    "ExecuteTime": {
     "end_time": "2024-02-09T16:53:43.305752Z",
     "start_time": "2024-02-09T16:53:43.300691Z"
    }
   },
   "id": "2608c1322496b43b",
   "execution_count": 20
  },
  {
   "cell_type": "code",
   "outputs": [
    {
     "name": "stdout",
     "output_type": "stream",
     "text": [
      "[Pipeline] ........ (step 1 of 2) Processing preprocess, total=   0.0s\n",
      "Fitting 5 folds for each of 9 candidates, totalling 45 fits\n",
      "[CV 1/5] END max_features=8, min_samples_leaf=5;, score=-44.792 total time=   0.5s\n",
      "[CV 2/5] END max_features=8, min_samples_leaf=5;, score=-42.007 total time=   0.5s\n",
      "[CV 3/5] END max_features=8, min_samples_leaf=5;, score=-42.317 total time=   0.5s\n",
      "[CV 4/5] END max_features=8, min_samples_leaf=5;, score=-43.736 total time=   0.5s\n",
      "[CV 5/5] END max_features=8, min_samples_leaf=5;, score=-44.426 total time=   0.5s\n",
      "[CV 1/5] END max_features=8, min_samples_leaf=10;, score=-45.568 total time=   0.4s\n",
      "[CV 2/5] END max_features=8, min_samples_leaf=10;, score=-43.042 total time=   0.4s\n",
      "[CV 3/5] END max_features=8, min_samples_leaf=10;, score=-43.365 total time=   0.4s\n",
      "[CV 4/5] END max_features=8, min_samples_leaf=10;, score=-44.784 total time=   0.4s\n",
      "[CV 5/5] END max_features=8, min_samples_leaf=10;, score=-45.450 total time=   0.4s\n",
      "[CV 1/5] END max_features=8, min_samples_leaf=15;, score=-45.881 total time=   0.4s\n",
      "[CV 2/5] END max_features=8, min_samples_leaf=15;, score=-43.687 total time=   0.4s\n",
      "[CV 3/5] END max_features=8, min_samples_leaf=15;, score=-43.887 total time=   0.4s\n",
      "[CV 4/5] END max_features=8, min_samples_leaf=15;, score=-45.291 total time=   0.4s\n",
      "[CV 5/5] END max_features=8, min_samples_leaf=15;, score=-46.123 total time=   0.4s\n",
      "[CV 1/5] END max_features=10, min_samples_leaf=5;, score=-44.360 total time=   0.6s\n",
      "[CV 2/5] END max_features=10, min_samples_leaf=5;, score=-41.843 total time=   0.6s\n",
      "[CV 3/5] END max_features=10, min_samples_leaf=5;, score=-42.036 total time=   0.6s\n",
      "[CV 4/5] END max_features=10, min_samples_leaf=5;, score=-43.530 total time=   0.6s\n",
      "[CV 5/5] END max_features=10, min_samples_leaf=5;, score=-44.138 total time=   0.6s\n",
      "[CV 1/5] END max_features=10, min_samples_leaf=10;, score=-45.261 total time=   0.5s\n",
      "[CV 2/5] END max_features=10, min_samples_leaf=10;, score=-42.738 total time=   0.5s\n",
      "[CV 3/5] END max_features=10, min_samples_leaf=10;, score=-43.051 total time=   0.5s\n",
      "[CV 4/5] END max_features=10, min_samples_leaf=10;, score=-44.271 total time=   0.5s\n",
      "[CV 5/5] END max_features=10, min_samples_leaf=10;, score=-45.029 total time=   0.5s\n",
      "[CV 1/5] END max_features=10, min_samples_leaf=15;, score=-45.748 total time=   0.5s\n",
      "[CV 2/5] END max_features=10, min_samples_leaf=15;, score=-43.253 total time=   0.5s\n",
      "[CV 3/5] END max_features=10, min_samples_leaf=15;, score=-43.475 total time=   0.5s\n",
      "[CV 4/5] END max_features=10, min_samples_leaf=15;, score=-45.027 total time=   0.5s\n",
      "[CV 5/5] END max_features=10, min_samples_leaf=15;, score=-45.660 total time=   0.5s\n",
      "[CV 1/5] END max_features=12, min_samples_leaf=5;, score=-44.124 total time=   0.6s\n",
      "[CV 2/5] END max_features=12, min_samples_leaf=5;, score=-41.438 total time=   0.7s\n",
      "[CV 3/5] END max_features=12, min_samples_leaf=5;, score=-41.889 total time=   0.6s\n",
      "[CV 4/5] END max_features=12, min_samples_leaf=5;, score=-43.065 total time=   0.6s\n",
      "[CV 5/5] END max_features=12, min_samples_leaf=5;, score=-43.780 total time=   0.6s\n",
      "[CV 1/5] END max_features=12, min_samples_leaf=10;, score=-44.877 total time=   0.6s\n",
      "[CV 2/5] END max_features=12, min_samples_leaf=10;, score=-42.480 total time=   0.6s\n",
      "[CV 3/5] END max_features=12, min_samples_leaf=10;, score=-42.819 total time=   0.6s\n",
      "[CV 4/5] END max_features=12, min_samples_leaf=10;, score=-44.127 total time=   0.6s\n",
      "[CV 5/5] END max_features=12, min_samples_leaf=10;, score=-44.632 total time=   0.6s\n",
      "[CV 1/5] END max_features=12, min_samples_leaf=15;, score=-45.328 total time=   0.5s\n",
      "[CV 2/5] END max_features=12, min_samples_leaf=15;, score=-42.788 total time=   0.5s\n",
      "[CV 3/5] END max_features=12, min_samples_leaf=15;, score=-43.332 total time=   0.5s\n",
      "[CV 4/5] END max_features=12, min_samples_leaf=15;, score=-44.640 total time=   0.5s\n",
      "[CV 5/5] END max_features=12, min_samples_leaf=15;, score=-45.365 total time=   0.5s\n",
      "[Pipeline] ......... (step 2 of 2) Processing regressor, total=  23.7s\n",
      "CPU times: user 23.3 s, sys: 313 ms, total: 23.6 s\n",
      "Wall time: 23.7 s\n"
     ]
    },
    {
     "data": {
      "text/plain": "Pipeline(steps=[('preprocess',\n                 ColumnTransformer(transformers=[('cat',\n                                                  OneHotEncoder(handle_unknown='ignore'),\n                                                  ['f_neighbourhood_cleansed',\n                                                   'f_property_type',\n                                                   'f_room_type']),\n                                                 ('num', 'passthrough',\n                                                  ['n_host_total_listings_count',\n                                                   'n_accommodates',\n                                                   'n_bedrooms', 'n_beds',\n                                                   'n_minimum_nights',\n                                                   'n_maximum_nights',\n                                                   'n_number_of_reviews',\n                                                   'n_review_scores_value',\n                                                   'd_ho...\n                                                   'd_sauna_hot_tub', 'd_pool',\n                                                   'd_aircon', 'd_heating',\n                                                   'd_scenic_view_access',\n                                                   'd_parking',\n                                                   'd_pets_allowed',\n                                                   'd_patio_balcony',\n                                                   'd_bodyshower'])])),\n                ('regressor',\n                 GridSearchCV(cv=5,\n                              estimator=RandomForestRegressor(random_state=42),\n                              param_grid={'max_features': [8, 10, 12],\n                                          'min_samples_leaf': [5, 10, 15]},\n                              scoring='neg_root_mean_squared_error',\n                              verbose=3))],\n         verbose=True)",
      "text/html": "<style>#sk-container-id-3 {color: black;}#sk-container-id-3 pre{padding: 0;}#sk-container-id-3 div.sk-toggleable {background-color: white;}#sk-container-id-3 label.sk-toggleable__label {cursor: pointer;display: block;width: 100%;margin-bottom: 0;padding: 0.3em;box-sizing: border-box;text-align: center;}#sk-container-id-3 label.sk-toggleable__label-arrow:before {content: \"▸\";float: left;margin-right: 0.25em;color: #696969;}#sk-container-id-3 label.sk-toggleable__label-arrow:hover:before {color: black;}#sk-container-id-3 div.sk-estimator:hover label.sk-toggleable__label-arrow:before {color: black;}#sk-container-id-3 div.sk-toggleable__content {max-height: 0;max-width: 0;overflow: hidden;text-align: left;background-color: #f0f8ff;}#sk-container-id-3 div.sk-toggleable__content pre {margin: 0.2em;color: black;border-radius: 0.25em;background-color: #f0f8ff;}#sk-container-id-3 input.sk-toggleable__control:checked~div.sk-toggleable__content {max-height: 200px;max-width: 100%;overflow: auto;}#sk-container-id-3 input.sk-toggleable__control:checked~label.sk-toggleable__label-arrow:before {content: \"▾\";}#sk-container-id-3 div.sk-estimator input.sk-toggleable__control:checked~label.sk-toggleable__label {background-color: #d4ebff;}#sk-container-id-3 div.sk-label input.sk-toggleable__control:checked~label.sk-toggleable__label {background-color: #d4ebff;}#sk-container-id-3 input.sk-hidden--visually {border: 0;clip: rect(1px 1px 1px 1px);clip: rect(1px, 1px, 1px, 1px);height: 1px;margin: -1px;overflow: hidden;padding: 0;position: absolute;width: 1px;}#sk-container-id-3 div.sk-estimator {font-family: monospace;background-color: #f0f8ff;border: 1px dotted black;border-radius: 0.25em;box-sizing: border-box;margin-bottom: 0.5em;}#sk-container-id-3 div.sk-estimator:hover {background-color: #d4ebff;}#sk-container-id-3 div.sk-parallel-item::after {content: \"\";width: 100%;border-bottom: 1px solid gray;flex-grow: 1;}#sk-container-id-3 div.sk-label:hover label.sk-toggleable__label {background-color: #d4ebff;}#sk-container-id-3 div.sk-serial::before {content: \"\";position: absolute;border-left: 1px solid gray;box-sizing: border-box;top: 0;bottom: 0;left: 50%;z-index: 0;}#sk-container-id-3 div.sk-serial {display: flex;flex-direction: column;align-items: center;background-color: white;padding-right: 0.2em;padding-left: 0.2em;position: relative;}#sk-container-id-3 div.sk-item {position: relative;z-index: 1;}#sk-container-id-3 div.sk-parallel {display: flex;align-items: stretch;justify-content: center;background-color: white;position: relative;}#sk-container-id-3 div.sk-item::before, #sk-container-id-3 div.sk-parallel-item::before {content: \"\";position: absolute;border-left: 1px solid gray;box-sizing: border-box;top: 0;bottom: 0;left: 50%;z-index: -1;}#sk-container-id-3 div.sk-parallel-item {display: flex;flex-direction: column;z-index: 1;position: relative;background-color: white;}#sk-container-id-3 div.sk-parallel-item:first-child::after {align-self: flex-end;width: 50%;}#sk-container-id-3 div.sk-parallel-item:last-child::after {align-self: flex-start;width: 50%;}#sk-container-id-3 div.sk-parallel-item:only-child::after {width: 0;}#sk-container-id-3 div.sk-dashed-wrapped {border: 1px dashed gray;margin: 0 0.4em 0.5em 0.4em;box-sizing: border-box;padding-bottom: 0.4em;background-color: white;}#sk-container-id-3 div.sk-label label {font-family: monospace;font-weight: bold;display: inline-block;line-height: 1.2em;}#sk-container-id-3 div.sk-label-container {text-align: center;}#sk-container-id-3 div.sk-container {/* jupyter's `normalize.less` sets `[hidden] { display: none; }` but bootstrap.min.css set `[hidden] { display: none !important; }` so we also need the `!important` here to be able to override the default hidden behavior on the sphinx rendered scikit-learn.org. See: https://github.com/scikit-learn/scikit-learn/issues/21755 */display: inline-block !important;position: relative;}#sk-container-id-3 div.sk-text-repr-fallback {display: none;}</style><div id=\"sk-container-id-3\" class=\"sk-top-container\"><div class=\"sk-text-repr-fallback\"><pre>Pipeline(steps=[(&#x27;preprocess&#x27;,\n                 ColumnTransformer(transformers=[(&#x27;cat&#x27;,\n                                                  OneHotEncoder(handle_unknown=&#x27;ignore&#x27;),\n                                                  [&#x27;f_neighbourhood_cleansed&#x27;,\n                                                   &#x27;f_property_type&#x27;,\n                                                   &#x27;f_room_type&#x27;]),\n                                                 (&#x27;num&#x27;, &#x27;passthrough&#x27;,\n                                                  [&#x27;n_host_total_listings_count&#x27;,\n                                                   &#x27;n_accommodates&#x27;,\n                                                   &#x27;n_bedrooms&#x27;, &#x27;n_beds&#x27;,\n                                                   &#x27;n_minimum_nights&#x27;,\n                                                   &#x27;n_maximum_nights&#x27;,\n                                                   &#x27;n_number_of_reviews&#x27;,\n                                                   &#x27;n_review_scores_value&#x27;,\n                                                   &#x27;d_ho...\n                                                   &#x27;d_sauna_hot_tub&#x27;, &#x27;d_pool&#x27;,\n                                                   &#x27;d_aircon&#x27;, &#x27;d_heating&#x27;,\n                                                   &#x27;d_scenic_view_access&#x27;,\n                                                   &#x27;d_parking&#x27;,\n                                                   &#x27;d_pets_allowed&#x27;,\n                                                   &#x27;d_patio_balcony&#x27;,\n                                                   &#x27;d_bodyshower&#x27;])])),\n                (&#x27;regressor&#x27;,\n                 GridSearchCV(cv=5,\n                              estimator=RandomForestRegressor(random_state=42),\n                              param_grid={&#x27;max_features&#x27;: [8, 10, 12],\n                                          &#x27;min_samples_leaf&#x27;: [5, 10, 15]},\n                              scoring=&#x27;neg_root_mean_squared_error&#x27;,\n                              verbose=3))],\n         verbose=True)</pre><b>In a Jupyter environment, please rerun this cell to show the HTML representation or trust the notebook. <br />On GitHub, the HTML representation is unable to render, please try loading this page with nbviewer.org.</b></div><div class=\"sk-container\" hidden><div class=\"sk-item sk-dashed-wrapped\"><div class=\"sk-label-container\"><div class=\"sk-label sk-toggleable\"><input class=\"sk-toggleable__control sk-hidden--visually\" id=\"sk-estimator-id-3\" type=\"checkbox\" ><label for=\"sk-estimator-id-3\" class=\"sk-toggleable__label sk-toggleable__label-arrow\">Pipeline</label><div class=\"sk-toggleable__content\"><pre>Pipeline(steps=[(&#x27;preprocess&#x27;,\n                 ColumnTransformer(transformers=[(&#x27;cat&#x27;,\n                                                  OneHotEncoder(handle_unknown=&#x27;ignore&#x27;),\n                                                  [&#x27;f_neighbourhood_cleansed&#x27;,\n                                                   &#x27;f_property_type&#x27;,\n                                                   &#x27;f_room_type&#x27;]),\n                                                 (&#x27;num&#x27;, &#x27;passthrough&#x27;,\n                                                  [&#x27;n_host_total_listings_count&#x27;,\n                                                   &#x27;n_accommodates&#x27;,\n                                                   &#x27;n_bedrooms&#x27;, &#x27;n_beds&#x27;,\n                                                   &#x27;n_minimum_nights&#x27;,\n                                                   &#x27;n_maximum_nights&#x27;,\n                                                   &#x27;n_number_of_reviews&#x27;,\n                                                   &#x27;n_review_scores_value&#x27;,\n                                                   &#x27;d_ho...\n                                                   &#x27;d_sauna_hot_tub&#x27;, &#x27;d_pool&#x27;,\n                                                   &#x27;d_aircon&#x27;, &#x27;d_heating&#x27;,\n                                                   &#x27;d_scenic_view_access&#x27;,\n                                                   &#x27;d_parking&#x27;,\n                                                   &#x27;d_pets_allowed&#x27;,\n                                                   &#x27;d_patio_balcony&#x27;,\n                                                   &#x27;d_bodyshower&#x27;])])),\n                (&#x27;regressor&#x27;,\n                 GridSearchCV(cv=5,\n                              estimator=RandomForestRegressor(random_state=42),\n                              param_grid={&#x27;max_features&#x27;: [8, 10, 12],\n                                          &#x27;min_samples_leaf&#x27;: [5, 10, 15]},\n                              scoring=&#x27;neg_root_mean_squared_error&#x27;,\n                              verbose=3))],\n         verbose=True)</pre></div></div></div><div class=\"sk-serial\"><div class=\"sk-item sk-dashed-wrapped\"><div class=\"sk-label-container\"><div class=\"sk-label sk-toggleable\"><input class=\"sk-toggleable__control sk-hidden--visually\" id=\"sk-estimator-id-4\" type=\"checkbox\" ><label for=\"sk-estimator-id-4\" class=\"sk-toggleable__label sk-toggleable__label-arrow\">preprocess: ColumnTransformer</label><div class=\"sk-toggleable__content\"><pre>ColumnTransformer(transformers=[(&#x27;cat&#x27;, OneHotEncoder(handle_unknown=&#x27;ignore&#x27;),\n                                 [&#x27;f_neighbourhood_cleansed&#x27;, &#x27;f_property_type&#x27;,\n                                  &#x27;f_room_type&#x27;]),\n                                (&#x27;num&#x27;, &#x27;passthrough&#x27;,\n                                 [&#x27;n_host_total_listings_count&#x27;,\n                                  &#x27;n_accommodates&#x27;, &#x27;n_bedrooms&#x27;, &#x27;n_beds&#x27;,\n                                  &#x27;n_minimum_nights&#x27;, &#x27;n_maximum_nights&#x27;,\n                                  &#x27;n_number_of_reviews&#x27;,\n                                  &#x27;n_review_scores_value&#x27;,\n                                  &#x27;d_host_is_superhost&#x27;,\n                                  &#x27;d_host_has_profile_pic&#x27;,\n                                  &#x27;d_host_identity_verified&#x27;,\n                                  &#x27;d_instant_bookable&#x27;, &#x27;d_has_license&#x27;,\n                                  &#x27;n_host_since&#x27;, &#x27;n_bathrooms&#x27;,\n                                  &#x27;d_entertainment&#x27;, &#x27;d_wifi&#x27;, &#x27;d_kitchenware&#x27;,\n                                  &#x27;d_washer&#x27;, &#x27;d_sauna_hot_tub&#x27;, &#x27;d_pool&#x27;,\n                                  &#x27;d_aircon&#x27;, &#x27;d_heating&#x27;,\n                                  &#x27;d_scenic_view_access&#x27;, &#x27;d_parking&#x27;,\n                                  &#x27;d_pets_allowed&#x27;, &#x27;d_patio_balcony&#x27;,\n                                  &#x27;d_bodyshower&#x27;])])</pre></div></div></div><div class=\"sk-parallel\"><div class=\"sk-parallel-item\"><div class=\"sk-item\"><div class=\"sk-label-container\"><div class=\"sk-label sk-toggleable\"><input class=\"sk-toggleable__control sk-hidden--visually\" id=\"sk-estimator-id-5\" type=\"checkbox\" ><label for=\"sk-estimator-id-5\" class=\"sk-toggleable__label sk-toggleable__label-arrow\">cat</label><div class=\"sk-toggleable__content\"><pre>[&#x27;f_neighbourhood_cleansed&#x27;, &#x27;f_property_type&#x27;, &#x27;f_room_type&#x27;]</pre></div></div></div><div class=\"sk-serial\"><div class=\"sk-item\"><div class=\"sk-estimator sk-toggleable\"><input class=\"sk-toggleable__control sk-hidden--visually\" id=\"sk-estimator-id-6\" type=\"checkbox\" ><label for=\"sk-estimator-id-6\" class=\"sk-toggleable__label sk-toggleable__label-arrow\">OneHotEncoder</label><div class=\"sk-toggleable__content\"><pre>OneHotEncoder(handle_unknown=&#x27;ignore&#x27;)</pre></div></div></div></div></div></div><div class=\"sk-parallel-item\"><div class=\"sk-item\"><div class=\"sk-label-container\"><div class=\"sk-label sk-toggleable\"><input class=\"sk-toggleable__control sk-hidden--visually\" id=\"sk-estimator-id-7\" type=\"checkbox\" ><label for=\"sk-estimator-id-7\" class=\"sk-toggleable__label sk-toggleable__label-arrow\">num</label><div class=\"sk-toggleable__content\"><pre>[&#x27;n_host_total_listings_count&#x27;, &#x27;n_accommodates&#x27;, &#x27;n_bedrooms&#x27;, &#x27;n_beds&#x27;, &#x27;n_minimum_nights&#x27;, &#x27;n_maximum_nights&#x27;, &#x27;n_number_of_reviews&#x27;, &#x27;n_review_scores_value&#x27;, &#x27;d_host_is_superhost&#x27;, &#x27;d_host_has_profile_pic&#x27;, &#x27;d_host_identity_verified&#x27;, &#x27;d_instant_bookable&#x27;, &#x27;d_has_license&#x27;, &#x27;n_host_since&#x27;, &#x27;n_bathrooms&#x27;, &#x27;d_entertainment&#x27;, &#x27;d_wifi&#x27;, &#x27;d_kitchenware&#x27;, &#x27;d_washer&#x27;, &#x27;d_sauna_hot_tub&#x27;, &#x27;d_pool&#x27;, &#x27;d_aircon&#x27;, &#x27;d_heating&#x27;, &#x27;d_scenic_view_access&#x27;, &#x27;d_parking&#x27;, &#x27;d_pets_allowed&#x27;, &#x27;d_patio_balcony&#x27;, &#x27;d_bodyshower&#x27;]</pre></div></div></div><div class=\"sk-serial\"><div class=\"sk-item\"><div class=\"sk-estimator sk-toggleable\"><input class=\"sk-toggleable__control sk-hidden--visually\" id=\"sk-estimator-id-8\" type=\"checkbox\" ><label for=\"sk-estimator-id-8\" class=\"sk-toggleable__label sk-toggleable__label-arrow\">passthrough</label><div class=\"sk-toggleable__content\"><pre>passthrough</pre></div></div></div></div></div></div></div></div><div class=\"sk-item sk-dashed-wrapped\"><div class=\"sk-label-container\"><div class=\"sk-label sk-toggleable\"><input class=\"sk-toggleable__control sk-hidden--visually\" id=\"sk-estimator-id-9\" type=\"checkbox\" ><label for=\"sk-estimator-id-9\" class=\"sk-toggleable__label sk-toggleable__label-arrow\">regressor: GridSearchCV</label><div class=\"sk-toggleable__content\"><pre>GridSearchCV(cv=5, estimator=RandomForestRegressor(random_state=42),\n             param_grid={&#x27;max_features&#x27;: [8, 10, 12],\n                         &#x27;min_samples_leaf&#x27;: [5, 10, 15]},\n             scoring=&#x27;neg_root_mean_squared_error&#x27;, verbose=3)</pre></div></div></div><div class=\"sk-parallel\"><div class=\"sk-parallel-item\"><div class=\"sk-item\"><div class=\"sk-label-container\"><div class=\"sk-label sk-toggleable\"><input class=\"sk-toggleable__control sk-hidden--visually\" id=\"sk-estimator-id-10\" type=\"checkbox\" ><label for=\"sk-estimator-id-10\" class=\"sk-toggleable__label sk-toggleable__label-arrow\">estimator: RandomForestRegressor</label><div class=\"sk-toggleable__content\"><pre>RandomForestRegressor(random_state=42)</pre></div></div></div><div class=\"sk-serial\"><div class=\"sk-item\"><div class=\"sk-estimator sk-toggleable\"><input class=\"sk-toggleable__control sk-hidden--visually\" id=\"sk-estimator-id-11\" type=\"checkbox\" ><label for=\"sk-estimator-id-11\" class=\"sk-toggleable__label sk-toggleable__label-arrow\">RandomForestRegressor</label><div class=\"sk-toggleable__content\"><pre>RandomForestRegressor(random_state=42)</pre></div></div></div></div></div></div></div></div></div></div></div></div>"
     },
     "execution_count": 21,
     "metadata": {},
     "output_type": "execute_result"
    }
   ],
   "source": [
    "%%time\n",
    "start_time = datetime.now()\n",
    "rf_model = rf_pipe.fit(data_train[numerical_columns + categorical_columns], data_train['price'])\n",
    "rf_time = datetime.now() - start_time\n",
    "rf_model"
   ],
   "metadata": {
    "collapsed": false,
    "ExecuteTime": {
     "end_time": "2024-02-09T16:54:07.033010Z",
     "start_time": "2024-02-09T16:53:43.310964Z"
    }
   },
   "id": "c0cf19048e800bca",
   "execution_count": 21
  },
  {
   "cell_type": "code",
   "outputs": [
    {
     "data": {
      "text/plain": "min node size     5      10     15\nmax features                      \n8              43.46  44.44  44.97\n10             43.18  44.07  44.63\n12             42.86  43.79  44.29",
      "text/html": "<div>\n<style scoped>\n    .dataframe tbody tr th:only-of-type {\n        vertical-align: middle;\n    }\n\n    .dataframe tbody tr th {\n        vertical-align: top;\n    }\n\n    .dataframe thead th {\n        text-align: right;\n    }\n</style>\n<table border=\"1\" class=\"dataframe\">\n  <thead>\n    <tr style=\"text-align: right;\">\n      <th>min node size</th>\n      <th>5</th>\n      <th>10</th>\n      <th>15</th>\n    </tr>\n    <tr>\n      <th>max features</th>\n      <th></th>\n      <th></th>\n      <th></th>\n    </tr>\n  </thead>\n  <tbody>\n    <tr>\n      <th>8</th>\n      <td>43.46</td>\n      <td>44.44</td>\n      <td>44.97</td>\n    </tr>\n    <tr>\n      <th>10</th>\n      <td>43.18</td>\n      <td>44.07</td>\n      <td>44.63</td>\n    </tr>\n    <tr>\n      <th>12</th>\n      <td>42.86</td>\n      <td>43.79</td>\n      <td>44.29</td>\n    </tr>\n  </tbody>\n</table>\n</div>"
     },
     "execution_count": 22,
     "metadata": {},
     "output_type": "execute_result"
    }
   ],
   "source": [
    "df_rf_model_cv_results = pd.DataFrame(rf_random.cv_results_)[[\n",
    "    'param_max_features', 'param_min_samples_leaf', 'mean_test_score']]\n",
    "df_rf_model_cv_results.columns = ['max features', 'min node size', 'RMSE']\n",
    "df_rf_model_cv_results.pivot(\n",
    "    index = 'max features', \n",
    "    columns = 'min node size', \n",
    "    values = 'RMSE').round(2)*-1"
   ],
   "metadata": {
    "collapsed": false,
    "ExecuteTime": {
     "end_time": "2024-02-09T16:54:07.041406Z",
     "start_time": "2024-02-09T16:54:07.034553Z"
    }
   },
   "id": "dc65093889d03531",
   "execution_count": 22
  },
  {
   "cell_type": "code",
   "outputs": [
    {
     "data": {
      "text/plain": "RandomForestRegressor(max_features=12, min_samples_leaf=5, random_state=42)",
      "text/html": "<style>#sk-container-id-4 {color: black;}#sk-container-id-4 pre{padding: 0;}#sk-container-id-4 div.sk-toggleable {background-color: white;}#sk-container-id-4 label.sk-toggleable__label {cursor: pointer;display: block;width: 100%;margin-bottom: 0;padding: 0.3em;box-sizing: border-box;text-align: center;}#sk-container-id-4 label.sk-toggleable__label-arrow:before {content: \"▸\";float: left;margin-right: 0.25em;color: #696969;}#sk-container-id-4 label.sk-toggleable__label-arrow:hover:before {color: black;}#sk-container-id-4 div.sk-estimator:hover label.sk-toggleable__label-arrow:before {color: black;}#sk-container-id-4 div.sk-toggleable__content {max-height: 0;max-width: 0;overflow: hidden;text-align: left;background-color: #f0f8ff;}#sk-container-id-4 div.sk-toggleable__content pre {margin: 0.2em;color: black;border-radius: 0.25em;background-color: #f0f8ff;}#sk-container-id-4 input.sk-toggleable__control:checked~div.sk-toggleable__content {max-height: 200px;max-width: 100%;overflow: auto;}#sk-container-id-4 input.sk-toggleable__control:checked~label.sk-toggleable__label-arrow:before {content: \"▾\";}#sk-container-id-4 div.sk-estimator input.sk-toggleable__control:checked~label.sk-toggleable__label {background-color: #d4ebff;}#sk-container-id-4 div.sk-label input.sk-toggleable__control:checked~label.sk-toggleable__label {background-color: #d4ebff;}#sk-container-id-4 input.sk-hidden--visually {border: 0;clip: rect(1px 1px 1px 1px);clip: rect(1px, 1px, 1px, 1px);height: 1px;margin: -1px;overflow: hidden;padding: 0;position: absolute;width: 1px;}#sk-container-id-4 div.sk-estimator {font-family: monospace;background-color: #f0f8ff;border: 1px dotted black;border-radius: 0.25em;box-sizing: border-box;margin-bottom: 0.5em;}#sk-container-id-4 div.sk-estimator:hover {background-color: #d4ebff;}#sk-container-id-4 div.sk-parallel-item::after {content: \"\";width: 100%;border-bottom: 1px solid gray;flex-grow: 1;}#sk-container-id-4 div.sk-label:hover label.sk-toggleable__label {background-color: #d4ebff;}#sk-container-id-4 div.sk-serial::before {content: \"\";position: absolute;border-left: 1px solid gray;box-sizing: border-box;top: 0;bottom: 0;left: 50%;z-index: 0;}#sk-container-id-4 div.sk-serial {display: flex;flex-direction: column;align-items: center;background-color: white;padding-right: 0.2em;padding-left: 0.2em;position: relative;}#sk-container-id-4 div.sk-item {position: relative;z-index: 1;}#sk-container-id-4 div.sk-parallel {display: flex;align-items: stretch;justify-content: center;background-color: white;position: relative;}#sk-container-id-4 div.sk-item::before, #sk-container-id-4 div.sk-parallel-item::before {content: \"\";position: absolute;border-left: 1px solid gray;box-sizing: border-box;top: 0;bottom: 0;left: 50%;z-index: -1;}#sk-container-id-4 div.sk-parallel-item {display: flex;flex-direction: column;z-index: 1;position: relative;background-color: white;}#sk-container-id-4 div.sk-parallel-item:first-child::after {align-self: flex-end;width: 50%;}#sk-container-id-4 div.sk-parallel-item:last-child::after {align-self: flex-start;width: 50%;}#sk-container-id-4 div.sk-parallel-item:only-child::after {width: 0;}#sk-container-id-4 div.sk-dashed-wrapped {border: 1px dashed gray;margin: 0 0.4em 0.5em 0.4em;box-sizing: border-box;padding-bottom: 0.4em;background-color: white;}#sk-container-id-4 div.sk-label label {font-family: monospace;font-weight: bold;display: inline-block;line-height: 1.2em;}#sk-container-id-4 div.sk-label-container {text-align: center;}#sk-container-id-4 div.sk-container {/* jupyter's `normalize.less` sets `[hidden] { display: none; }` but bootstrap.min.css set `[hidden] { display: none !important; }` so we also need the `!important` here to be able to override the default hidden behavior on the sphinx rendered scikit-learn.org. See: https://github.com/scikit-learn/scikit-learn/issues/21755 */display: inline-block !important;position: relative;}#sk-container-id-4 div.sk-text-repr-fallback {display: none;}</style><div id=\"sk-container-id-4\" class=\"sk-top-container\"><div class=\"sk-text-repr-fallback\"><pre>RandomForestRegressor(max_features=12, min_samples_leaf=5, random_state=42)</pre><b>In a Jupyter environment, please rerun this cell to show the HTML representation or trust the notebook. <br />On GitHub, the HTML representation is unable to render, please try loading this page with nbviewer.org.</b></div><div class=\"sk-container\" hidden><div class=\"sk-item\"><div class=\"sk-estimator sk-toggleable\"><input class=\"sk-toggleable__control sk-hidden--visually\" id=\"sk-estimator-id-12\" type=\"checkbox\" checked><label for=\"sk-estimator-id-12\" class=\"sk-toggleable__label sk-toggleable__label-arrow\">RandomForestRegressor</label><div class=\"sk-toggleable__content\"><pre>RandomForestRegressor(max_features=12, min_samples_leaf=5, random_state=42)</pre></div></div></div></div></div>"
     },
     "execution_count": 23,
     "metadata": {},
     "output_type": "execute_result"
    }
   ],
   "source": [
    "rf_random.best_estimator_"
   ],
   "metadata": {
    "collapsed": false,
    "ExecuteTime": {
     "end_time": "2024-02-09T16:54:07.044548Z",
     "start_time": "2024-02-09T16:54:07.043187Z"
    }
   },
   "id": "24cc571eafdc16a",
   "execution_count": 23
  },
  {
   "cell_type": "markdown",
   "source": [
    "Boosting"
   ],
   "metadata": {
    "collapsed": false
   },
   "id": "741ce477227228e4"
  },
  {
   "cell_type": "code",
   "outputs": [],
   "source": [
    "gbm = GradientBoostingRegressor(learning_rate=0.01, random_state = 42)\n",
    "\n",
    "tune_grid = {\"n_estimators\": [200, 300, 500], \"max_depth\": [5, 10, 15], \"min_samples_leaf\": [5, 10, 15], \"max_features\": [8, 10, 12], 'min_samples_split': [10, 20, 30]}\n",
    "\n",
    "gbm_model_cv = GridSearchCV(\n",
    "    gbm,\n",
    "    tune_grid,\n",
    "    cv=5,\n",
    "    scoring=\"neg_root_mean_squared_error\",\n",
    "    verbose=10,\n",
    "    n_jobs=-1\n",
    ")\n",
    "\n",
    "gbm_pipe = Pipeline(\n",
    "    [(\"preprocess\", preprocessing), (\"regressor\", gbm_model_cv)], verbose=True\n",
    ")"
   ],
   "metadata": {
    "collapsed": false,
    "ExecuteTime": {
     "end_time": "2024-02-09T16:54:07.047932Z",
     "start_time": "2024-02-09T16:54:07.046159Z"
    }
   },
   "id": "4c0a6d23fa0e918",
   "execution_count": 24
  },
  {
   "cell_type": "code",
   "outputs": [
    {
     "name": "stdout",
     "output_type": "stream",
     "text": [
      "[Pipeline] ........ (step 1 of 2) Processing preprocess, total=   0.0s\n",
      "Fitting 5 folds for each of 243 candidates, totalling 1215 fits\n",
      "[CV 4/5; 1/243] START max_depth=5, max_features=8, min_samples_leaf=5, min_samples_split=10, n_estimators=200\n",
      "[CV 4/5; 1/243] END max_depth=5, max_features=8, min_samples_leaf=5, min_samples_split=10, n_estimators=200;, score=-45.987 total time=   1.0s\n",
      "[CV 5/5; 2/243] START max_depth=5, max_features=8, min_samples_leaf=5, min_samples_split=10, n_estimators=300\n",
      "[CV 5/5; 2/243] END max_depth=5, max_features=8, min_samples_leaf=5, min_samples_split=10, n_estimators=300;, score=-45.284 total time=   1.2s\n",
      "[CV 2/5; 4/243] START max_depth=5, max_features=8, min_samples_leaf=5, min_samples_split=20, n_estimators=200\n",
      "[CV 2/5; 4/243] END max_depth=5, max_features=8, min_samples_leaf=5, min_samples_split=20, n_estimators=200;, score=-44.610 total time=   0.8s\n",
      "[CV 3/5; 5/243] START max_depth=5, max_features=8, min_samples_leaf=5, min_samples_split=20, n_estimators=300\n",
      "[CV 3/5; 5/243] END max_depth=5, max_features=8, min_samples_leaf=5, min_samples_split=20, n_estimators=300;, score=-43.213 total time=   1.4s\n",
      "[CV 1/5; 7/243] START max_depth=5, max_features=8, min_samples_leaf=5, min_samples_split=30, n_estimators=200\n",
      "[CV 1/5; 7/243] END max_depth=5, max_features=8, min_samples_leaf=5, min_samples_split=30, n_estimators=200;, score=-46.665 total time=   0.9s\n",
      "[CV 4/5; 7/243] START max_depth=5, max_features=8, min_samples_leaf=5, min_samples_split=30, n_estimators=200\n",
      "[CV 4/5; 7/243] END max_depth=5, max_features=8, min_samples_leaf=5, min_samples_split=30, n_estimators=200;, score=-45.962 total time=   0.9s\n",
      "[CV 4/5; 8/243] START max_depth=5, max_features=8, min_samples_leaf=5, min_samples_split=30, n_estimators=300\n",
      "[CV 4/5; 8/243] END max_depth=5, max_features=8, min_samples_leaf=5, min_samples_split=30, n_estimators=300;, score=-44.782 total time=   1.4s\n",
      "[CV 2/5; 10/243] START max_depth=5, max_features=8, min_samples_leaf=10, min_samples_split=10, n_estimators=200\n",
      "[CV 2/5; 10/243] END max_depth=5, max_features=8, min_samples_leaf=10, min_samples_split=10, n_estimators=200;, score=-44.649 total time=   1.0s\n",
      "[CV 5/5; 10/243] START max_depth=5, max_features=8, min_samples_leaf=10, min_samples_split=10, n_estimators=200\n",
      "[CV 5/5; 10/243] END max_depth=5, max_features=8, min_samples_leaf=10, min_samples_split=10, n_estimators=200;, score=-46.714 total time=   0.9s\n",
      "[CV 2/5; 12/243] START max_depth=5, max_features=8, min_samples_leaf=10, min_samples_split=10, n_estimators=500\n",
      "[CV 2/5; 12/243] END max_depth=5, max_features=8, min_samples_leaf=10, min_samples_split=10, n_estimators=500;, score=-42.401 total time=   2.3s\n",
      "[CV 3/5; 14/243] START max_depth=5, max_features=8, min_samples_leaf=10, min_samples_split=20, n_estimators=300\n",
      "[CV 3/5; 14/243] END max_depth=5, max_features=8, min_samples_leaf=10, min_samples_split=20, n_estimators=300;, score=-43.361 total time=   1.2s\n",
      "[CV 1/5; 16/243] START max_depth=5, max_features=8, min_samples_leaf=10, min_samples_split=30, n_estimators=200\n",
      "[CV 1/5; 16/243] END max_depth=5, max_features=8, min_samples_leaf=10, min_samples_split=30, n_estimators=200;, score=-46.682 total time=   0.8s\n",
      "[CV 4/5; 16/243] START max_depth=5, max_features=8, min_samples_leaf=10, min_samples_split=30, n_estimators=200\n",
      "[CV 4/5; 16/243] END max_depth=5, max_features=8, min_samples_leaf=10, min_samples_split=30, n_estimators=200;, score=-46.016 total time=   0.9s\n",
      "[CV 4/5; 17/243] START max_depth=5, max_features=8, min_samples_leaf=10, min_samples_split=30, n_estimators=300\n",
      "[CV 4/5; 17/243] END max_depth=5, max_features=8, min_samples_leaf=10, min_samples_split=30, n_estimators=300;, score=-44.865 total time=   1.3s\n",
      "[CV 3/5; 19/243] START max_depth=5, max_features=8, min_samples_leaf=15, min_samples_split=10, n_estimators=200\n",
      "[CV 3/5; 19/243] END max_depth=5, max_features=8, min_samples_leaf=15, min_samples_split=10, n_estimators=200;, score=-44.634 total time=   0.8s\n",
      "[CV 1/5; 20/243] START max_depth=5, max_features=8, min_samples_leaf=15, min_samples_split=10, n_estimators=300\n",
      "[CV 1/5; 20/243] END max_depth=5, max_features=8, min_samples_leaf=15, min_samples_split=10, n_estimators=300;, score=-45.526 total time=   1.3s\n",
      "[CV 5/5; 21/243] START max_depth=5, max_features=8, min_samples_leaf=15, min_samples_split=10, n_estimators=500\n",
      "[CV 5/5; 21/243] END max_depth=5, max_features=8, min_samples_leaf=15, min_samples_split=10, n_estimators=500;, score=-44.162 total time=   2.1s\n",
      "[CV 2/5; 24/243] START max_depth=5, max_features=8, min_samples_leaf=15, min_samples_split=20, n_estimators=500\n",
      "[CV 2/5; 24/243] END max_depth=5, max_features=8, min_samples_leaf=15, min_samples_split=20, n_estimators=500;, score=-42.491 total time=   2.2s\n",
      "[CV 3/5; 26/243] START max_depth=5, max_features=8, min_samples_leaf=15, min_samples_split=30, n_estimators=300\n",
      "[CV 3/5; 26/243] END max_depth=5, max_features=8, min_samples_leaf=15, min_samples_split=30, n_estimators=300;, score=-43.407 total time=   1.4s\n",
      "[CV 1/5; 28/243] START max_depth=5, max_features=10, min_samples_leaf=5, min_samples_split=10, n_estimators=200\n",
      "[CV 1/5; 28/243] END max_depth=5, max_features=10, min_samples_leaf=5, min_samples_split=10, n_estimators=200;, score=-46.365 total time=   1.0s\n",
      "[CV 4/5; 28/243] START max_depth=5, max_features=10, min_samples_leaf=5, min_samples_split=10, n_estimators=200\n",
      "[CV 4/5; 28/243] END max_depth=5, max_features=10, min_samples_leaf=5, min_samples_split=10, n_estimators=200;, score=-45.710 total time=   1.0s\n",
      "[CV 5/5; 29/243] START max_depth=5, max_features=10, min_samples_leaf=5, min_samples_split=10, n_estimators=300\n",
      "[CV 5/5; 29/243] END max_depth=5, max_features=10, min_samples_leaf=5, min_samples_split=10, n_estimators=300;, score=-45.020 total time=   2.4s\n",
      "[CV 3/5; 31/243] START max_depth=5, max_features=10, min_samples_leaf=5, min_samples_split=20, n_estimators=200\n",
      "[CV 3/5; 31/243] END max_depth=5, max_features=10, min_samples_leaf=5, min_samples_split=20, n_estimators=200;, score=-44.164 total time=   1.2s\n",
      "[CV 3/5; 32/243] START max_depth=5, max_features=10, min_samples_leaf=5, min_samples_split=20, n_estimators=300\n",
      "[CV 3/5; 32/243] END max_depth=5, max_features=10, min_samples_leaf=5, min_samples_split=20, n_estimators=300;, score=-43.053 total time=   1.6s\n",
      "[CV 5/5; 33/243] START max_depth=5, max_features=10, min_samples_leaf=5, min_samples_split=20, n_estimators=500\n",
      "[CV 5/5; 33/243] END max_depth=5, max_features=10, min_samples_leaf=5, min_samples_split=20, n_estimators=500;, score=-43.832 total time=   2.7s\n",
      "[CV 2/5; 36/243] START max_depth=5, max_features=10, min_samples_leaf=5, min_samples_split=30, n_estimators=500\n",
      "[CV 2/5; 36/243] END max_depth=5, max_features=10, min_samples_leaf=5, min_samples_split=30, n_estimators=500;, score=-42.177 total time=   2.8s\n",
      "[CV 1/5; 39/243] START max_depth=5, max_features=10, min_samples_leaf=10, min_samples_split=10, n_estimators=500\n",
      "[CV 1/5; 39/243] END max_depth=5, max_features=10, min_samples_leaf=10, min_samples_split=10, n_estimators=500;, score=-44.293 total time=   2.7s\n",
      "[CV 1/5; 41/243] START max_depth=5, max_features=10, min_samples_leaf=10, min_samples_split=20, n_estimators=300\n",
      "[CV 1/5; 41/243] END max_depth=5, max_features=10, min_samples_leaf=10, min_samples_split=20, n_estimators=300;, score=-45.292 total time=   1.6s\n",
      "[CV 5/5; 42/243] START max_depth=5, max_features=10, min_samples_leaf=10, min_samples_split=20, n_estimators=500\n",
      "[CV 5/5; 42/243] END max_depth=5, max_features=10, min_samples_leaf=10, min_samples_split=20, n_estimators=500;, score=-43.916 total time=   2.6s\n",
      "[CV 2/5; 45/243] START max_depth=5, max_features=10, min_samples_leaf=10, min_samples_split=30, n_estimators=500\n",
      "[CV 2/5; 45/243] END max_depth=5, max_features=10, min_samples_leaf=10, min_samples_split=30, n_estimators=500;, score=-42.258 total time=   2.7s\n",
      "[CV 3/5; 47/243] START max_depth=5, max_features=10, min_samples_leaf=15, min_samples_split=10, n_estimators=300\n",
      "[CV 3/5; 47/243] END max_depth=5, max_features=10, min_samples_leaf=15, min_samples_split=10, n_estimators=300;, score=-43.140 total time=   1.5s\n",
      "[CV 1/5; 49/243] START max_depth=5, max_features=10, min_samples_leaf=15, min_samples_split=20, n_estimators=200\n",
      "[CV 1/5; 49/243] END max_depth=5, max_features=10, min_samples_leaf=15, min_samples_split=20, n_estimators=200;, score=-46.503 total time=   1.1s\n",
      "[CV 4/5; 49/243] START max_depth=5, max_features=10, min_samples_leaf=15, min_samples_split=20, n_estimators=200\n",
      "[CV 4/5; 49/243] END max_depth=5, max_features=10, min_samples_leaf=15, min_samples_split=20, n_estimators=200;, score=-45.830 total time=   1.1s\n",
      "[CV 5/5; 50/243] START max_depth=5, max_features=10, min_samples_leaf=15, min_samples_split=20, n_estimators=300\n",
      "[CV 5/5; 50/243] END max_depth=5, max_features=10, min_samples_leaf=15, min_samples_split=20, n_estimators=300;, score=-45.215 total time=   1.6s\n",
      "[CV 3/5; 52/243] START max_depth=5, max_features=10, min_samples_leaf=15, min_samples_split=30, n_estimators=200\n",
      "[CV 3/5; 52/243] END max_depth=5, max_features=10, min_samples_leaf=15, min_samples_split=30, n_estimators=200;, score=-44.238 total time=   1.1s\n",
      "[CV 2/5; 53/243] START max_depth=5, max_features=10, min_samples_leaf=15, min_samples_split=30, n_estimators=300\n",
      "[CV 2/5; 53/243] END max_depth=5, max_features=10, min_samples_leaf=15, min_samples_split=30, n_estimators=300;, score=-43.312 total time=   1.6s\n",
      "[CV 4/5; 54/243] START max_depth=5, max_features=10, min_samples_leaf=15, min_samples_split=30, n_estimators=500\n",
      "[CV 4/5; 54/243] END max_depth=5, max_features=10, min_samples_leaf=15, min_samples_split=30, n_estimators=500;, score=-43.617 total time=   2.7s\n",
      "[CV 5/5; 56/243] START max_depth=5, max_features=12, min_samples_leaf=5, min_samples_split=10, n_estimators=300\n",
      "[CV 5/5; 56/243] END max_depth=5, max_features=12, min_samples_leaf=5, min_samples_split=10, n_estimators=300;, score=-44.863 total time=   1.7s\n",
      "[CV 3/5; 58/243] START max_depth=5, max_features=12, min_samples_leaf=5, min_samples_split=20, n_estimators=200\n",
      "[CV 3/5; 58/243] END max_depth=5, max_features=12, min_samples_leaf=5, min_samples_split=20, n_estimators=200;, score=-44.008 total time=   1.3s\n",
      "[CV 1/5; 59/243] START max_depth=5, max_features=12, min_samples_leaf=5, min_samples_split=20, n_estimators=300\n",
      "[CV 1/5; 59/243] END max_depth=5, max_features=12, min_samples_leaf=5, min_samples_split=20, n_estimators=300;, score=-45.046 total time=   1.7s\n",
      "[CV 4/5; 60/243] START max_depth=5, max_features=12, min_samples_leaf=5, min_samples_split=20, n_estimators=500\n",
      "[CV 4/5; 60/243] END max_depth=5, max_features=12, min_samples_leaf=5, min_samples_split=20, n_estimators=500;, score=-43.344 total time=   2.9s\n",
      "[CV 2/5; 63/243] START max_depth=5, max_features=12, min_samples_leaf=5, min_samples_split=30, n_estimators=500\n",
      "[CV 2/5; 63/243] END max_depth=5, max_features=12, min_samples_leaf=5, min_samples_split=30, n_estimators=500;, score=-42.113 total time=   2.9s\n",
      "[CV 3/5; 65/243] START max_depth=5, max_features=12, min_samples_leaf=10, min_samples_split=10, n_estimators=300\n",
      "[CV 3/5; 65/243] END max_depth=5, max_features=12, min_samples_leaf=10, min_samples_split=10, n_estimators=300;, score=-42.995 total time=   1.8s\n",
      "[CV 1/5; 67/243] START max_depth=5, max_features=12, min_samples_leaf=10, min_samples_split=20, n_estimators=200\n",
      "[CV 1/5; 67/243] END max_depth=5, max_features=12, min_samples_leaf=10, min_samples_split=20, n_estimators=200;, score=-46.233 total time=   1.2s\n",
      "[CV 4/5; 67/243] START max_depth=5, max_features=12, min_samples_leaf=10, min_samples_split=20, n_estimators=200\n",
      "[CV 4/5; 67/243] END max_depth=5, max_features=12, min_samples_leaf=10, min_samples_split=20, n_estimators=200;, score=-45.511 total time=   1.2s\n",
      "[CV 5/5; 68/243] START max_depth=5, max_features=12, min_samples_leaf=10, min_samples_split=20, n_estimators=300\n",
      "[CV 5/5; 68/243] END max_depth=5, max_features=12, min_samples_leaf=10, min_samples_split=20, n_estimators=300;, score=-44.916 total time=   1.7s\n",
      "[CV 3/5; 70/243] START max_depth=5, max_features=12, min_samples_leaf=10, min_samples_split=30, n_estimators=200\n",
      "[CV 3/5; 70/243] END max_depth=5, max_features=12, min_samples_leaf=10, min_samples_split=30, n_estimators=200;, score=-44.061 total time=   1.1s\n",
      "[CV 1/5; 71/243] START max_depth=5, max_features=12, min_samples_leaf=10, min_samples_split=30, n_estimators=300\n",
      "[CV 1/5; 71/243] END max_depth=5, max_features=12, min_samples_leaf=10, min_samples_split=30, n_estimators=300;, score=-45.157 total time=   1.8s\n",
      "[CV 4/5; 72/243] START max_depth=5, max_features=12, min_samples_leaf=10, min_samples_split=30, n_estimators=500\n",
      "[CV 4/5; 72/243] END max_depth=5, max_features=12, min_samples_leaf=10, min_samples_split=30, n_estimators=500;, score=-43.414 total time=   2.9s\n",
      "[CV 2/5; 75/243] START max_depth=5, max_features=12, min_samples_leaf=15, min_samples_split=10, n_estimators=500\n",
      "[CV 2/5; 75/243] END max_depth=5, max_features=12, min_samples_leaf=15, min_samples_split=10, n_estimators=500;, score=-42.299 total time=   2.9s\n",
      "[CV 3/5; 77/243] START max_depth=5, max_features=12, min_samples_leaf=15, min_samples_split=20, n_estimators=300\n",
      "[CV 3/5; 77/243] END max_depth=5, max_features=12, min_samples_leaf=15, min_samples_split=20, n_estimators=300;, score=-43.047 total time=   1.7s\n",
      "[CV 1/5; 79/243] START max_depth=5, max_features=12, min_samples_leaf=15, min_samples_split=30, n_estimators=200\n",
      "[CV 1/5; 79/243] END max_depth=5, max_features=12, min_samples_leaf=15, min_samples_split=30, n_estimators=200;, score=-46.246 total time=   1.2s\n",
      "[CV 4/5; 79/243] START max_depth=5, max_features=12, min_samples_leaf=15, min_samples_split=30, n_estimators=200\n",
      "[CV 4/5; 79/243] END max_depth=5, max_features=12, min_samples_leaf=15, min_samples_split=30, n_estimators=200;, score=-45.538 total time=   1.3s\n",
      "[CV 5/5; 80/243] START max_depth=5, max_features=12, min_samples_leaf=15, min_samples_split=30, n_estimators=300\n",
      "[CV 5/5; 80/243] END max_depth=5, max_features=12, min_samples_leaf=15, min_samples_split=30, n_estimators=300;, score=-45.001 total time=   1.9s\n",
      "[CV 3/5; 82/243] START max_depth=10, max_features=8, min_samples_leaf=5, min_samples_split=10, n_estimators=200\n",
      "[CV 3/5; 82/243] END max_depth=10, max_features=8, min_samples_leaf=5, min_samples_split=10, n_estimators=200;, score=-41.857 total time=   1.5s\n",
      "[CV 4/5; 83/243] START max_depth=10, max_features=8, min_samples_leaf=5, min_samples_split=10, n_estimators=300\n",
      "[CV 4/5; 83/243] END max_depth=10, max_features=8, min_samples_leaf=5, min_samples_split=10, n_estimators=300;, score=-42.102 total time=   2.3s\n",
      "[CV 2/5; 85/243] START max_depth=10, max_features=8, min_samples_leaf=5, min_samples_split=20, n_estimators=200\n",
      "[CV 2/5; 85/243] END max_depth=10, max_features=8, min_samples_leaf=5, min_samples_split=20, n_estimators=200;, score=-41.907 total time=   1.4s\n",
      "[CV 5/5; 85/243] START max_depth=10, max_features=8, min_samples_leaf=5, min_samples_split=20, n_estimators=200\n",
      "[CV 5/5; 85/243] END max_depth=10, max_features=8, min_samples_leaf=5, min_samples_split=20, n_estimators=200;, score=-44.083 total time=   1.5s\n",
      "[CV 1/5; 87/243] START max_depth=10, max_features=8, min_samples_leaf=5, min_samples_split=20, n_estimators=500\n",
      "[CV 1/5; 87/243] END max_depth=10, max_features=8, min_samples_leaf=5, min_samples_split=20, n_estimators=500;, score=-42.440 total time=   3.6s\n",
      "[CV 1/5; 89/243] START max_depth=10, max_features=8, min_samples_leaf=5, min_samples_split=30, n_estimators=300\n",
      "[CV 1/5; 89/243] END max_depth=10, max_features=8, min_samples_leaf=5, min_samples_split=30, n_estimators=300;, score=-43.449 total time=   2.3s\n",
      "[CV 4/5; 90/243] START max_depth=10, max_features=8, min_samples_leaf=5, min_samples_split=30, n_estimators=500\n",
      "[CV 4/5; 90/243] END max_depth=10, max_features=8, min_samples_leaf=5, min_samples_split=30, n_estimators=500;, score=-41.184 total time=   3.5s\n",
      "[CV 1/5; 93/243] START max_depth=10, max_features=8, min_samples_leaf=10, min_samples_split=10, n_estimators=500\n",
      "[CV 1/5; 93/243] END max_depth=10, max_features=8, min_samples_leaf=10, min_samples_split=10, n_estimators=500;, score=-42.782 total time=   3.9s\n",
      "[CV 3/5; 95/243] START max_depth=10, max_features=8, min_samples_leaf=10, min_samples_split=20, n_estimators=300\n",
      "[CV 3/5; 95/243] END max_depth=10, max_features=8, min_samples_leaf=10, min_samples_split=20, n_estimators=300;, score=-41.193 total time=   2.2s\n",
      "[CV 3/5; 2/243] START max_depth=5, max_features=8, min_samples_leaf=5, min_samples_split=10, n_estimators=300\n",
      "[CV 3/5; 2/243] END max_depth=5, max_features=8, min_samples_leaf=5, min_samples_split=10, n_estimators=300;, score=-43.189 total time=   1.4s\n",
      "[CV 1/5; 4/243] START max_depth=5, max_features=8, min_samples_leaf=5, min_samples_split=20, n_estimators=200\n",
      "[CV 1/5; 4/243] END max_depth=5, max_features=8, min_samples_leaf=5, min_samples_split=20, n_estimators=200;, score=-46.597 total time=   0.8s\n",
      "[CV 4/5; 4/243] START max_depth=5, max_features=8, min_samples_leaf=5, min_samples_split=20, n_estimators=200\n",
      "[CV 4/5; 4/243] END max_depth=5, max_features=8, min_samples_leaf=5, min_samples_split=20, n_estimators=200;, score=-45.975 total time=   0.8s\n",
      "[CV 4/5; 5/243] START max_depth=5, max_features=8, min_samples_leaf=5, min_samples_split=20, n_estimators=300\n",
      "[CV 4/5; 5/243] END max_depth=5, max_features=8, min_samples_leaf=5, min_samples_split=20, n_estimators=300;, score=-44.778 total time=   1.4s\n",
      "[CV 2/5; 7/243] START max_depth=5, max_features=8, min_samples_leaf=5, min_samples_split=30, n_estimators=200\n",
      "[CV 2/5; 7/243] END max_depth=5, max_features=8, min_samples_leaf=5, min_samples_split=30, n_estimators=200;, score=-44.632 total time=   1.0s\n",
      "[CV 5/5; 7/243] START max_depth=5, max_features=8, min_samples_leaf=5, min_samples_split=30, n_estimators=200\n",
      "[CV 5/5; 7/243] END max_depth=5, max_features=8, min_samples_leaf=5, min_samples_split=30, n_estimators=200;, score=-46.672 total time=   1.0s\n",
      "[CV 2/5; 9/243] START max_depth=5, max_features=8, min_samples_leaf=5, min_samples_split=30, n_estimators=500\n",
      "[CV 2/5; 9/243] END max_depth=5, max_features=8, min_samples_leaf=5, min_samples_split=30, n_estimators=500;, score=-42.338 total time=   2.5s\n",
      "[CV 4/5; 11/243] START max_depth=5, max_features=8, min_samples_leaf=10, min_samples_split=10, n_estimators=300\n",
      "[CV 4/5; 11/243] END max_depth=5, max_features=8, min_samples_leaf=10, min_samples_split=10, n_estimators=300;, score=-44.876 total time=   1.7s\n",
      "[CV 1/5; 13/243] START max_depth=5, max_features=8, min_samples_leaf=10, min_samples_split=20, n_estimators=200\n",
      "[CV 1/5; 13/243] END max_depth=5, max_features=8, min_samples_leaf=10, min_samples_split=20, n_estimators=200;, score=-46.607 total time=   0.9s\n",
      "[CV 5/5; 13/243] START max_depth=5, max_features=8, min_samples_leaf=10, min_samples_split=20, n_estimators=200\n",
      "[CV 5/5; 13/243] END max_depth=5, max_features=8, min_samples_leaf=10, min_samples_split=20, n_estimators=200;, score=-46.714 total time=   0.8s\n",
      "[CV 1/5; 15/243] START max_depth=5, max_features=8, min_samples_leaf=10, min_samples_split=20, n_estimators=500\n",
      "[CV 1/5; 15/243] END max_depth=5, max_features=8, min_samples_leaf=10, min_samples_split=20, n_estimators=500;, score=-44.351 total time=   2.1s\n",
      "[CV 2/5; 17/243] START max_depth=5, max_features=8, min_samples_leaf=10, min_samples_split=30, n_estimators=300\n",
      "[CV 2/5; 17/243] END max_depth=5, max_features=8, min_samples_leaf=10, min_samples_split=30, n_estimators=300;, score=-43.492 total time=   1.1s\n",
      "[CV 5/5; 18/243] START max_depth=5, max_features=8, min_samples_leaf=10, min_samples_split=30, n_estimators=500\n",
      "[CV 5/5; 18/243] END max_depth=5, max_features=8, min_samples_leaf=10, min_samples_split=30, n_estimators=500;, score=-44.033 total time=   2.0s\n",
      "[CV 2/5; 21/243] START max_depth=5, max_features=8, min_samples_leaf=15, min_samples_split=10, n_estimators=500\n",
      "[CV 2/5; 21/243] END max_depth=5, max_features=8, min_samples_leaf=15, min_samples_split=10, n_estimators=500;, score=-42.491 total time=   2.1s\n",
      "[CV 3/5; 23/243] START max_depth=5, max_features=8, min_samples_leaf=15, min_samples_split=20, n_estimators=300\n",
      "[CV 3/5; 23/243] END max_depth=5, max_features=8, min_samples_leaf=15, min_samples_split=20, n_estimators=300;, score=-43.407 total time=   1.2s\n",
      "[CV 1/5; 25/243] START max_depth=5, max_features=8, min_samples_leaf=15, min_samples_split=30, n_estimators=200\n",
      "[CV 1/5; 25/243] END max_depth=5, max_features=8, min_samples_leaf=15, min_samples_split=30, n_estimators=200;, score=-46.745 total time=   0.8s\n",
      "[CV 4/5; 25/243] START max_depth=5, max_features=8, min_samples_leaf=15, min_samples_split=30, n_estimators=200\n",
      "[CV 4/5; 25/243] END max_depth=5, max_features=8, min_samples_leaf=15, min_samples_split=30, n_estimators=200;, score=-46.101 total time=   0.9s\n",
      "[CV 5/5; 26/243] START max_depth=5, max_features=8, min_samples_leaf=15, min_samples_split=30, n_estimators=300\n",
      "[CV 5/5; 26/243] END max_depth=5, max_features=8, min_samples_leaf=15, min_samples_split=30, n_estimators=300;, score=-45.453 total time=   1.4s\n",
      "[CV 3/5; 28/243] START max_depth=5, max_features=10, min_samples_leaf=5, min_samples_split=10, n_estimators=200\n",
      "[CV 3/5; 28/243] END max_depth=5, max_features=10, min_samples_leaf=5, min_samples_split=10, n_estimators=200;, score=-44.148 total time=   1.0s\n",
      "[CV 1/5; 29/243] START max_depth=5, max_features=10, min_samples_leaf=5, min_samples_split=10, n_estimators=300\n",
      "[CV 1/5; 29/243] END max_depth=5, max_features=10, min_samples_leaf=5, min_samples_split=10, n_estimators=300;, score=-45.204 total time=   1.9s\n",
      "[CV 1/5; 31/243] START max_depth=5, max_features=10, min_samples_leaf=5, min_samples_split=20, n_estimators=200\n",
      "[CV 1/5; 31/243] END max_depth=5, max_features=10, min_samples_leaf=5, min_samples_split=20, n_estimators=200;, score=-46.394 total time=   1.6s\n",
      "[CV 4/5; 31/243] START max_depth=5, max_features=10, min_samples_leaf=5, min_samples_split=20, n_estimators=200\n",
      "[CV 4/5; 31/243] END max_depth=5, max_features=10, min_samples_leaf=5, min_samples_split=20, n_estimators=200;, score=-45.746 total time=   1.2s\n",
      "[CV 5/5; 32/243] START max_depth=5, max_features=10, min_samples_leaf=5, min_samples_split=20, n_estimators=300\n",
      "[CV 5/5; 32/243] END max_depth=5, max_features=10, min_samples_leaf=5, min_samples_split=20, n_estimators=300;, score=-45.080 total time=   1.5s\n",
      "[CV 3/5; 34/243] START max_depth=5, max_features=10, min_samples_leaf=5, min_samples_split=30, n_estimators=200\n",
      "[CV 3/5; 34/243] END max_depth=5, max_features=10, min_samples_leaf=5, min_samples_split=30, n_estimators=200;, score=-44.167 total time=   1.0s\n",
      "[CV 5/5; 34/243] START max_depth=5, max_features=10, min_samples_leaf=5, min_samples_split=30, n_estimators=200\n",
      "[CV 5/5; 34/243] END max_depth=5, max_features=10, min_samples_leaf=5, min_samples_split=30, n_estimators=200;, score=-46.491 total time=   1.1s\n",
      "[CV 5/5; 35/243] START max_depth=5, max_features=10, min_samples_leaf=5, min_samples_split=30, n_estimators=300\n",
      "[CV 5/5; 35/243] END max_depth=5, max_features=10, min_samples_leaf=5, min_samples_split=30, n_estimators=300;, score=-45.167 total time=   1.5s\n",
      "[CV 3/5; 37/243] START max_depth=5, max_features=10, min_samples_leaf=10, min_samples_split=10, n_estimators=200\n",
      "[CV 3/5; 37/243] END max_depth=5, max_features=10, min_samples_leaf=10, min_samples_split=10, n_estimators=200;, score=-44.234 total time=   1.1s\n",
      "[CV 1/5; 38/243] START max_depth=5, max_features=10, min_samples_leaf=10, min_samples_split=10, n_estimators=300\n",
      "[CV 1/5; 38/243] END max_depth=5, max_features=10, min_samples_leaf=10, min_samples_split=10, n_estimators=300;, score=-45.292 total time=   1.6s\n",
      "[CV 5/5; 39/243] START max_depth=5, max_features=10, min_samples_leaf=10, min_samples_split=10, n_estimators=500\n",
      "[CV 5/5; 39/243] END max_depth=5, max_features=10, min_samples_leaf=10, min_samples_split=10, n_estimators=500;, score=-43.916 total time=   2.7s\n",
      "[CV 2/5; 42/243] START max_depth=5, max_features=10, min_samples_leaf=10, min_samples_split=20, n_estimators=500\n",
      "[CV 2/5; 42/243] END max_depth=5, max_features=10, min_samples_leaf=10, min_samples_split=20, n_estimators=500;, score=-42.242 total time=   2.6s\n",
      "[CV 1/5; 44/243] START max_depth=5, max_features=10, min_samples_leaf=10, min_samples_split=30, n_estimators=300\n",
      "[CV 1/5; 44/243] END max_depth=5, max_features=10, min_samples_leaf=10, min_samples_split=30, n_estimators=300;, score=-45.349 total time=   1.6s\n",
      "[CV 1/5; 46/243] START max_depth=5, max_features=10, min_samples_leaf=15, min_samples_split=10, n_estimators=200\n",
      "[CV 1/5; 46/243] END max_depth=5, max_features=10, min_samples_leaf=15, min_samples_split=10, n_estimators=200;, score=-46.503 total time=   1.0s\n",
      "[CV 4/5; 46/243] START max_depth=5, max_features=10, min_samples_leaf=15, min_samples_split=10, n_estimators=200\n",
      "[CV 4/5; 46/243] END max_depth=5, max_features=10, min_samples_leaf=15, min_samples_split=10, n_estimators=200;, score=-45.830 total time=   1.1s\n",
      "[CV 5/5; 47/243] START max_depth=5, max_features=10, min_samples_leaf=15, min_samples_split=10, n_estimators=300\n",
      "[CV 5/5; 47/243] END max_depth=5, max_features=10, min_samples_leaf=15, min_samples_split=10, n_estimators=300;, score=-45.215 total time=   1.6s\n",
      "[CV 3/5; 49/243] START max_depth=5, max_features=10, min_samples_leaf=15, min_samples_split=20, n_estimators=200\n",
      "[CV 3/5; 49/243] END max_depth=5, max_features=10, min_samples_leaf=15, min_samples_split=20, n_estimators=200;, score=-44.238 total time=   1.0s\n",
      "[CV 1/5; 50/243] START max_depth=5, max_features=10, min_samples_leaf=15, min_samples_split=20, n_estimators=300\n",
      "[CV 1/5; 50/243] END max_depth=5, max_features=10, min_samples_leaf=15, min_samples_split=20, n_estimators=300;, score=-45.379 total time=   1.6s\n",
      "[CV 4/5; 51/243] START max_depth=5, max_features=10, min_samples_leaf=15, min_samples_split=20, n_estimators=500\n",
      "[CV 4/5; 51/243] END max_depth=5, max_features=10, min_samples_leaf=15, min_samples_split=20, n_estimators=500;, score=-43.617 total time=   2.8s\n",
      "[CV 1/5; 54/243] START max_depth=5, max_features=10, min_samples_leaf=15, min_samples_split=30, n_estimators=500\n",
      "[CV 1/5; 54/243] END max_depth=5, max_features=10, min_samples_leaf=15, min_samples_split=30, n_estimators=500;, score=-44.386 total time=   2.8s\n",
      "[CV 3/5; 56/243] START max_depth=5, max_features=12, min_samples_leaf=5, min_samples_split=10, n_estimators=300\n",
      "[CV 3/5; 56/243] END max_depth=5, max_features=12, min_samples_leaf=5, min_samples_split=10, n_estimators=300;, score=-42.896 total time=   1.9s\n",
      "[CV 1/5; 58/243] START max_depth=5, max_features=12, min_samples_leaf=5, min_samples_split=20, n_estimators=200\n",
      "[CV 1/5; 58/243] END max_depth=5, max_features=12, min_samples_leaf=5, min_samples_split=20, n_estimators=200;, score=-46.182 total time=   1.2s\n",
      "[CV 4/5; 58/243] START max_depth=5, max_features=12, min_samples_leaf=5, min_samples_split=20, n_estimators=200\n",
      "[CV 4/5; 58/243] END max_depth=5, max_features=12, min_samples_leaf=5, min_samples_split=20, n_estimators=200;, score=-45.452 total time=   1.1s\n",
      "[CV 5/5; 59/243] START max_depth=5, max_features=12, min_samples_leaf=5, min_samples_split=20, n_estimators=300\n",
      "[CV 5/5; 59/243] END max_depth=5, max_features=12, min_samples_leaf=5, min_samples_split=20, n_estimators=300;, score=-44.854 total time=   1.7s\n",
      "[CV 3/5; 61/243] START max_depth=5, max_features=12, min_samples_leaf=5, min_samples_split=30, n_estimators=200\n",
      "[CV 3/5; 61/243] END max_depth=5, max_features=12, min_samples_leaf=5, min_samples_split=30, n_estimators=200;, score=-44.001 total time=   1.1s\n",
      "[CV 1/5; 62/243] START max_depth=5, max_features=12, min_samples_leaf=5, min_samples_split=30, n_estimators=300\n",
      "[CV 1/5; 62/243] END max_depth=5, max_features=12, min_samples_leaf=5, min_samples_split=30, n_estimators=300;, score=-45.060 total time=   1.8s\n",
      "[CV 4/5; 63/243] START max_depth=5, max_features=12, min_samples_leaf=5, min_samples_split=30, n_estimators=500\n",
      "[CV 4/5; 63/243] END max_depth=5, max_features=12, min_samples_leaf=5, min_samples_split=30, n_estimators=500;, score=-43.343 total time=   3.0s\n",
      "[CV 2/5; 66/243] START max_depth=5, max_features=12, min_samples_leaf=10, min_samples_split=10, n_estimators=500\n",
      "[CV 2/5; 66/243] END max_depth=5, max_features=12, min_samples_leaf=10, min_samples_split=10, n_estimators=500;, score=-42.237 total time=   3.0s\n",
      "[CV 3/5; 68/243] START max_depth=5, max_features=12, min_samples_leaf=10, min_samples_split=20, n_estimators=300\n",
      "[CV 3/5; 68/243] END max_depth=5, max_features=12, min_samples_leaf=10, min_samples_split=20, n_estimators=300;, score=-42.995 total time=   1.7s\n",
      "[CV 1/5; 70/243] START max_depth=5, max_features=12, min_samples_leaf=10, min_samples_split=30, n_estimators=200\n",
      "[CV 1/5; 70/243] END max_depth=5, max_features=12, min_samples_leaf=10, min_samples_split=30, n_estimators=200;, score=-46.219 total time=   1.3s\n",
      "[CV 5/5; 70/243] START max_depth=5, max_features=12, min_samples_leaf=10, min_samples_split=30, n_estimators=200\n",
      "[CV 5/5; 70/243] END max_depth=5, max_features=12, min_samples_leaf=10, min_samples_split=30, n_estimators=200;, score=-46.167 total time=   1.2s\n",
      "[CV 1/5; 72/243] START max_depth=5, max_features=12, min_samples_leaf=10, min_samples_split=30, n_estimators=500\n",
      "[CV 1/5; 72/243] END max_depth=5, max_features=12, min_samples_leaf=10, min_samples_split=30, n_estimators=500;, score=-44.190 total time=   2.8s\n",
      "[CV 5/5; 73/243] START max_depth=5, max_features=12, min_samples_leaf=15, min_samples_split=10, n_estimators=200\n",
      "[CV 5/5; 73/243] END max_depth=5, max_features=12, min_samples_leaf=15, min_samples_split=10, n_estimators=200;, score=-46.189 total time=   1.1s\n",
      "[CV 1/5; 75/243] START max_depth=5, max_features=12, min_samples_leaf=15, min_samples_split=10, n_estimators=500\n",
      "[CV 1/5; 75/243] END max_depth=5, max_features=12, min_samples_leaf=15, min_samples_split=10, n_estimators=500;, score=-44.214 total time=   2.9s\n",
      "[CV 2/5; 77/243] START max_depth=5, max_features=12, min_samples_leaf=15, min_samples_split=20, n_estimators=300\n",
      "[CV 2/5; 77/243] END max_depth=5, max_features=12, min_samples_leaf=15, min_samples_split=20, n_estimators=300;, score=-43.236 total time=   1.7s\n",
      "[CV 4/5; 78/243] START max_depth=5, max_features=12, min_samples_leaf=15, min_samples_split=20, n_estimators=500\n",
      "[CV 4/5; 78/243] END max_depth=5, max_features=12, min_samples_leaf=15, min_samples_split=20, n_estimators=500;, score=-43.501 total time=   3.0s\n",
      "[CV 3/5; 81/243] START max_depth=5, max_features=12, min_samples_leaf=15, min_samples_split=30, n_estimators=500\n",
      "[CV 3/5; 81/243] END max_depth=5, max_features=12, min_samples_leaf=15, min_samples_split=30, n_estimators=500;, score=-42.049 total time=   3.0s\n",
      "[CV 3/5; 83/243] START max_depth=10, max_features=8, min_samples_leaf=5, min_samples_split=10, n_estimators=300\n",
      "[CV 3/5; 83/243] END max_depth=10, max_features=8, min_samples_leaf=5, min_samples_split=10, n_estimators=300;, score=-40.830 total time=   2.3s\n",
      "[CV 1/5; 85/243] START max_depth=10, max_features=8, min_samples_leaf=5, min_samples_split=20, n_estimators=200\n",
      "[CV 1/5; 85/243] END max_depth=10, max_features=8, min_samples_leaf=5, min_samples_split=20, n_estimators=200;, score=-44.384 total time=   1.4s\n",
      "[CV 4/5; 85/243] START max_depth=10, max_features=8, min_samples_leaf=5, min_samples_split=20, n_estimators=200\n",
      "[CV 4/5; 85/243] END max_depth=10, max_features=8, min_samples_leaf=5, min_samples_split=20, n_estimators=200;, score=-43.496 total time=   1.4s\n",
      "[CV 5/5; 86/243] START max_depth=10, max_features=8, min_samples_leaf=5, min_samples_split=20, n_estimators=300\n",
      "[CV 5/5; 86/243] END max_depth=10, max_features=8, min_samples_leaf=5, min_samples_split=20, n_estimators=300;, score=-42.781 total time=   2.2s\n",
      "[CV 3/5; 88/243] START max_depth=10, max_features=8, min_samples_leaf=5, min_samples_split=30, n_estimators=200\n",
      "[CV 3/5; 88/243] END max_depth=10, max_features=8, min_samples_leaf=5, min_samples_split=30, n_estimators=200;, score=-42.041 total time=   1.6s\n",
      "[CV 2/5; 89/243] START max_depth=10, max_features=8, min_samples_leaf=5, min_samples_split=30, n_estimators=300\n",
      "[CV 2/5; 89/243] END max_depth=10, max_features=8, min_samples_leaf=5, min_samples_split=30, n_estimators=300;, score=-40.855 total time=   2.3s\n",
      "[CV 5/5; 90/243] START max_depth=10, max_features=8, min_samples_leaf=5, min_samples_split=30, n_estimators=500\n",
      "[CV 5/5; 90/243] END max_depth=10, max_features=8, min_samples_leaf=5, min_samples_split=30, n_estimators=500;, score=-41.635 total time=   3.7s\n",
      "[CV 3/5; 93/243] START max_depth=10, max_features=8, min_samples_leaf=10, min_samples_split=10, n_estimators=500\n",
      "[CV 3/5; 93/243] END max_depth=10, max_features=8, min_samples_leaf=10, min_samples_split=10, n_estimators=500;, score=-40.237 total time=   3.8s\n",
      "[CV 3/5; 1/243] START max_depth=5, max_features=8, min_samples_leaf=5, min_samples_split=10, n_estimators=200\n",
      "[CV 3/5; 1/243] END max_depth=5, max_features=8, min_samples_leaf=5, min_samples_split=10, n_estimators=200;, score=-44.443 total time=   0.9s\n",
      "[CV 1/5; 3/243] START max_depth=5, max_features=8, min_samples_leaf=5, min_samples_split=10, n_estimators=500\n",
      "[CV 1/5; 3/243] END max_depth=5, max_features=8, min_samples_leaf=5, min_samples_split=10, n_estimators=500;, score=-44.297 total time=   1.9s\n",
      "[CV 1/5; 5/243] START max_depth=5, max_features=8, min_samples_leaf=5, min_samples_split=20, n_estimators=300\n",
      "[CV 1/5; 5/243] END max_depth=5, max_features=8, min_samples_leaf=5, min_samples_split=20, n_estimators=300;, score=-45.381 total time=   1.4s\n",
      "[CV 5/5; 6/243] START max_depth=5, max_features=8, min_samples_leaf=5, min_samples_split=20, n_estimators=500\n",
      "[CV 5/5; 6/243] END max_depth=5, max_features=8, min_samples_leaf=5, min_samples_split=20, n_estimators=500;, score=-43.857 total time=   2.3s\n",
      "[CV 3/5; 9/243] START max_depth=5, max_features=8, min_samples_leaf=5, min_samples_split=30, n_estimators=500\n",
      "[CV 3/5; 9/243] END max_depth=5, max_features=8, min_samples_leaf=5, min_samples_split=30, n_estimators=500;, score=-42.082 total time=   2.3s\n",
      "[CV 3/5; 11/243] START max_depth=5, max_features=8, min_samples_leaf=10, min_samples_split=10, n_estimators=300\n",
      "[CV 3/5; 11/243] END max_depth=5, max_features=8, min_samples_leaf=10, min_samples_split=10, n_estimators=300;, score=-43.361 total time=   1.7s\n",
      "[CV 2/5; 13/243] START max_depth=5, max_features=8, min_samples_leaf=10, min_samples_split=20, n_estimators=200\n",
      "[CV 2/5; 13/243] END max_depth=5, max_features=8, min_samples_leaf=10, min_samples_split=20, n_estimators=200;, score=-44.649 total time=   0.8s\n",
      "[CV 4/5; 13/243] START max_depth=5, max_features=8, min_samples_leaf=10, min_samples_split=20, n_estimators=200\n",
      "[CV 4/5; 13/243] END max_depth=5, max_features=8, min_samples_leaf=10, min_samples_split=20, n_estimators=200;, score=-46.033 total time=   0.9s\n",
      "[CV 5/5; 14/243] START max_depth=5, max_features=8, min_samples_leaf=10, min_samples_split=20, n_estimators=300\n",
      "[CV 5/5; 14/243] END max_depth=5, max_features=8, min_samples_leaf=10, min_samples_split=20, n_estimators=300;, score=-45.327 total time=   1.2s\n",
      "[CV 3/5; 16/243] START max_depth=5, max_features=8, min_samples_leaf=10, min_samples_split=30, n_estimators=200\n",
      "[CV 3/5; 16/243] END max_depth=5, max_features=8, min_samples_leaf=10, min_samples_split=30, n_estimators=200;, score=-44.548 total time=   0.8s\n",
      "[CV 1/5; 17/243] START max_depth=5, max_features=8, min_samples_leaf=10, min_samples_split=30, n_estimators=300\n",
      "[CV 1/5; 17/243] END max_depth=5, max_features=8, min_samples_leaf=10, min_samples_split=30, n_estimators=300;, score=-45.467 total time=   1.2s\n",
      "[CV 4/5; 18/243] START max_depth=5, max_features=8, min_samples_leaf=10, min_samples_split=30, n_estimators=500\n",
      "[CV 4/5; 18/243] END max_depth=5, max_features=8, min_samples_leaf=10, min_samples_split=30, n_estimators=500;, score=-43.682 total time=   2.0s\n",
      "[CV 5/5; 20/243] START max_depth=5, max_features=8, min_samples_leaf=15, min_samples_split=10, n_estimators=300\n",
      "[CV 5/5; 20/243] END max_depth=5, max_features=8, min_samples_leaf=15, min_samples_split=10, n_estimators=300;, score=-45.453 total time=   1.3s\n",
      "[CV 3/5; 22/243] START max_depth=5, max_features=8, min_samples_leaf=15, min_samples_split=20, n_estimators=200\n",
      "[CV 3/5; 22/243] END max_depth=5, max_features=8, min_samples_leaf=15, min_samples_split=20, n_estimators=200;, score=-44.634 total time=   0.8s\n",
      "[CV 1/5; 23/243] START max_depth=5, max_features=8, min_samples_leaf=15, min_samples_split=20, n_estimators=300\n",
      "[CV 1/5; 23/243] END max_depth=5, max_features=8, min_samples_leaf=15, min_samples_split=20, n_estimators=300;, score=-45.526 total time=   1.3s\n",
      "[CV 5/5; 24/243] START max_depth=5, max_features=8, min_samples_leaf=15, min_samples_split=20, n_estimators=500\n",
      "[CV 5/5; 24/243] END max_depth=5, max_features=8, min_samples_leaf=15, min_samples_split=20, n_estimators=500;, score=-44.162 total time=   2.1s\n",
      "[CV 2/5; 27/243] START max_depth=5, max_features=8, min_samples_leaf=15, min_samples_split=30, n_estimators=500\n",
      "[CV 2/5; 27/243] END max_depth=5, max_features=8, min_samples_leaf=15, min_samples_split=30, n_estimators=500;, score=-42.491 total time=   2.1s\n",
      "[CV 3/5; 29/243] START max_depth=5, max_features=10, min_samples_leaf=5, min_samples_split=10, n_estimators=300\n",
      "[CV 3/5; 29/243] END max_depth=5, max_features=10, min_samples_leaf=5, min_samples_split=10, n_estimators=300;, score=-43.045 total time=   1.5s\n",
      "[CV 4/5; 30/243] START max_depth=5, max_features=10, min_samples_leaf=5, min_samples_split=10, n_estimators=500\n",
      "[CV 4/5; 30/243] END max_depth=5, max_features=10, min_samples_leaf=5, min_samples_split=10, n_estimators=500;, score=-43.453 total time=   3.3s\n",
      "[CV 2/5; 33/243] START max_depth=5, max_features=10, min_samples_leaf=5, min_samples_split=20, n_estimators=500\n",
      "[CV 2/5; 33/243] END max_depth=5, max_features=10, min_samples_leaf=5, min_samples_split=20, n_estimators=500;, score=-42.137 total time=   2.6s\n",
      "[CV 2/5; 35/243] START max_depth=5, max_features=10, min_samples_leaf=5, min_samples_split=30, n_estimators=300\n",
      "[CV 2/5; 35/243] END max_depth=5, max_features=10, min_samples_leaf=5, min_samples_split=30, n_estimators=300;, score=-43.180 total time=   1.6s\n",
      "[CV 1/5; 37/243] START max_depth=5, max_features=10, min_samples_leaf=10, min_samples_split=10, n_estimators=200\n",
      "[CV 1/5; 37/243] END max_depth=5, max_features=10, min_samples_leaf=10, min_samples_split=10, n_estimators=200;, score=-46.393 total time=   1.0s\n",
      "[CV 4/5; 37/243] START max_depth=5, max_features=10, min_samples_leaf=10, min_samples_split=10, n_estimators=200\n",
      "[CV 4/5; 37/243] END max_depth=5, max_features=10, min_samples_leaf=10, min_samples_split=10, n_estimators=200;, score=-45.751 total time=   1.1s\n",
      "[CV 3/5; 38/243] START max_depth=5, max_features=10, min_samples_leaf=10, min_samples_split=10, n_estimators=300\n",
      "[CV 3/5; 38/243] END max_depth=5, max_features=10, min_samples_leaf=10, min_samples_split=10, n_estimators=300;, score=-43.147 total time=   1.6s\n",
      "[CV 1/5; 40/243] START max_depth=5, max_features=10, min_samples_leaf=10, min_samples_split=20, n_estimators=200\n",
      "[CV 1/5; 40/243] END max_depth=5, max_features=10, min_samples_leaf=10, min_samples_split=20, n_estimators=200;, score=-46.393 total time=   1.0s\n",
      "[CV 4/5; 40/243] START max_depth=5, max_features=10, min_samples_leaf=10, min_samples_split=20, n_estimators=200\n",
      "[CV 4/5; 40/243] END max_depth=5, max_features=10, min_samples_leaf=10, min_samples_split=20, n_estimators=200;, score=-45.751 total time=   1.1s\n",
      "[CV 1/5; 42/243] START max_depth=5, max_features=10, min_samples_leaf=10, min_samples_split=20, n_estimators=500\n",
      "[CV 1/5; 42/243] END max_depth=5, max_features=10, min_samples_leaf=10, min_samples_split=20, n_estimators=500;, score=-44.293 total time=   2.6s\n",
      "[CV 2/5; 44/243] START max_depth=5, max_features=10, min_samples_leaf=10, min_samples_split=30, n_estimators=300\n",
      "[CV 2/5; 44/243] END max_depth=5, max_features=10, min_samples_leaf=10, min_samples_split=30, n_estimators=300;, score=-43.275 total time=   1.6s\n",
      "[CV 5/5; 45/243] START max_depth=5, max_features=10, min_samples_leaf=10, min_samples_split=30, n_estimators=500\n",
      "[CV 5/5; 45/243] END max_depth=5, max_features=10, min_samples_leaf=10, min_samples_split=30, n_estimators=500;, score=-43.948 total time=   2.7s\n",
      "[CV 3/5; 48/243] START max_depth=5, max_features=10, min_samples_leaf=15, min_samples_split=10, n_estimators=500\n",
      "[CV 3/5; 48/243] END max_depth=5, max_features=10, min_samples_leaf=15, min_samples_split=10, n_estimators=500;, score=-42.117 total time=   2.7s\n",
      "[CV 4/5; 50/243] START max_depth=5, max_features=10, min_samples_leaf=15, min_samples_split=20, n_estimators=300\n",
      "[CV 4/5; 50/243] END max_depth=5, max_features=10, min_samples_leaf=15, min_samples_split=20, n_estimators=300;, score=-44.661 total time=   1.6s\n",
      "[CV 2/5; 52/243] START max_depth=5, max_features=10, min_samples_leaf=15, min_samples_split=30, n_estimators=200\n",
      "[CV 2/5; 52/243] END max_depth=5, max_features=10, min_samples_leaf=15, min_samples_split=30, n_estimators=200;, score=-44.403 total time=   1.1s\n",
      "[CV 5/5; 52/243] START max_depth=5, max_features=10, min_samples_leaf=15, min_samples_split=30, n_estimators=200\n",
      "[CV 5/5; 52/243] END max_depth=5, max_features=10, min_samples_leaf=15, min_samples_split=30, n_estimators=200;, score=-46.500 total time=   1.1s\n",
      "[CV 3/5; 54/243] START max_depth=5, max_features=10, min_samples_leaf=15, min_samples_split=30, n_estimators=500\n",
      "[CV 3/5; 54/243] END max_depth=5, max_features=10, min_samples_leaf=15, min_samples_split=30, n_estimators=500;, score=-42.117 total time=   2.8s\n",
      "[CV 4/5; 56/243] START max_depth=5, max_features=12, min_samples_leaf=5, min_samples_split=10, n_estimators=300\n",
      "[CV 4/5; 56/243] END max_depth=5, max_features=12, min_samples_leaf=5, min_samples_split=10, n_estimators=300;, score=-44.336 total time=   1.8s\n",
      "[CV 2/5; 58/243] START max_depth=5, max_features=12, min_samples_leaf=5, min_samples_split=20, n_estimators=200\n",
      "[CV 2/5; 58/243] END max_depth=5, max_features=12, min_samples_leaf=5, min_samples_split=20, n_estimators=200;, score=-44.145 total time=   1.2s\n",
      "[CV 5/5; 58/243] START max_depth=5, max_features=12, min_samples_leaf=5, min_samples_split=20, n_estimators=200\n",
      "[CV 5/5; 58/243] END max_depth=5, max_features=12, min_samples_leaf=5, min_samples_split=20, n_estimators=200;, score=-46.087 total time=   1.3s\n",
      "[CV 1/5; 60/243] START max_depth=5, max_features=12, min_samples_leaf=5, min_samples_split=20, n_estimators=500\n",
      "[CV 1/5; 60/243] END max_depth=5, max_features=12, min_samples_leaf=5, min_samples_split=20, n_estimators=500;, score=-44.000 total time=   2.9s\n",
      "[CV 2/5; 62/243] START max_depth=5, max_features=12, min_samples_leaf=5, min_samples_split=30, n_estimators=300\n",
      "[CV 2/5; 62/243] END max_depth=5, max_features=12, min_samples_leaf=5, min_samples_split=30, n_estimators=300;, score=-43.117 total time=   1.7s\n",
      "[CV 5/5; 63/243] START max_depth=5, max_features=12, min_samples_leaf=5, min_samples_split=30, n_estimators=500\n",
      "[CV 5/5; 63/243] END max_depth=5, max_features=12, min_samples_leaf=5, min_samples_split=30, n_estimators=500;, score=-43.815 total time=   2.9s\n",
      "[CV 3/5; 66/243] START max_depth=5, max_features=12, min_samples_leaf=10, min_samples_split=10, n_estimators=500\n",
      "[CV 3/5; 66/243] END max_depth=5, max_features=12, min_samples_leaf=10, min_samples_split=10, n_estimators=500;, score=-42.019 total time=   2.9s\n",
      "[CV 4/5; 68/243] START max_depth=5, max_features=12, min_samples_leaf=10, min_samples_split=20, n_estimators=300\n",
      "[CV 4/5; 68/243] END max_depth=5, max_features=12, min_samples_leaf=10, min_samples_split=20, n_estimators=300;, score=-44.454 total time=   1.7s\n",
      "[CV 2/5; 70/243] START max_depth=5, max_features=12, min_samples_leaf=10, min_samples_split=30, n_estimators=200\n",
      "[CV 2/5; 70/243] END max_depth=5, max_features=12, min_samples_leaf=10, min_samples_split=30, n_estimators=200;, score=-44.175 total time=   1.1s\n",
      "[CV 4/5; 70/243] START max_depth=5, max_features=12, min_samples_leaf=10, min_samples_split=30, n_estimators=200\n",
      "[CV 4/5; 70/243] END max_depth=5, max_features=12, min_samples_leaf=10, min_samples_split=30, n_estimators=200;, score=-45.503 total time=   1.2s\n",
      "[CV 5/5; 71/243] START max_depth=5, max_features=12, min_samples_leaf=10, min_samples_split=30, n_estimators=300\n",
      "[CV 5/5; 71/243] END max_depth=5, max_features=12, min_samples_leaf=10, min_samples_split=30, n_estimators=300;, score=-44.954 total time=   1.7s\n",
      "[CV 1/5; 73/243] START max_depth=5, max_features=12, min_samples_leaf=15, min_samples_split=10, n_estimators=200\n",
      "[CV 1/5; 73/243] END max_depth=5, max_features=12, min_samples_leaf=15, min_samples_split=10, n_estimators=200;, score=-46.246 total time=   1.2s\n",
      "[CV 4/5; 73/243] START max_depth=5, max_features=12, min_samples_leaf=15, min_samples_split=10, n_estimators=200\n",
      "[CV 4/5; 73/243] END max_depth=5, max_features=12, min_samples_leaf=15, min_samples_split=10, n_estimators=200;, score=-45.538 total time=   1.1s\n",
      "[CV 5/5; 74/243] START max_depth=5, max_features=12, min_samples_leaf=15, min_samples_split=10, n_estimators=300\n",
      "[CV 5/5; 74/243] END max_depth=5, max_features=12, min_samples_leaf=15, min_samples_split=10, n_estimators=300;, score=-45.001 total time=   1.7s\n",
      "[CV 3/5; 76/243] START max_depth=5, max_features=12, min_samples_leaf=15, min_samples_split=20, n_estimators=200\n",
      "[CV 3/5; 76/243] END max_depth=5, max_features=12, min_samples_leaf=15, min_samples_split=20, n_estimators=200;, score=-44.065 total time=   1.1s\n",
      "[CV 1/5; 77/243] START max_depth=5, max_features=12, min_samples_leaf=15, min_samples_split=20, n_estimators=300\n",
      "[CV 1/5; 77/243] END max_depth=5, max_features=12, min_samples_leaf=15, min_samples_split=20, n_estimators=300;, score=-45.174 total time=   1.7s\n",
      "[CV 5/5; 78/243] START max_depth=5, max_features=12, min_samples_leaf=15, min_samples_split=20, n_estimators=500\n",
      "[CV 5/5; 78/243] END max_depth=5, max_features=12, min_samples_leaf=15, min_samples_split=20, n_estimators=500;, score=-43.907 total time=   2.9s\n",
      "[CV 2/5; 81/243] START max_depth=5, max_features=12, min_samples_leaf=15, min_samples_split=30, n_estimators=500\n",
      "[CV 2/5; 81/243] END max_depth=5, max_features=12, min_samples_leaf=15, min_samples_split=30, n_estimators=500;, score=-42.299 total time=   2.9s\n",
      "[CV 2/5; 83/243] START max_depth=10, max_features=8, min_samples_leaf=5, min_samples_split=10, n_estimators=300\n",
      "[CV 2/5; 83/243] END max_depth=10, max_features=8, min_samples_leaf=5, min_samples_split=10, n_estimators=300;, score=-40.801 total time=   2.3s\n",
      "[CV 5/5; 84/243] START max_depth=10, max_features=8, min_samples_leaf=5, min_samples_split=10, n_estimators=500\n",
      "[CV 5/5; 84/243] END max_depth=10, max_features=8, min_samples_leaf=5, min_samples_split=10, n_estimators=500;, score=-41.632 total time=   3.8s\n",
      "[CV 3/5; 87/243] START max_depth=10, max_features=8, min_samples_leaf=5, min_samples_split=20, n_estimators=500\n",
      "[CV 3/5; 87/243] END max_depth=10, max_features=8, min_samples_leaf=5, min_samples_split=20, n_estimators=500;, score=-39.997 total time=   3.7s\n",
      "[CV 4/5; 89/243] START max_depth=10, max_features=8, min_samples_leaf=5, min_samples_split=30, n_estimators=300\n",
      "[CV 4/5; 89/243] END max_depth=10, max_features=8, min_samples_leaf=5, min_samples_split=30, n_estimators=300;, score=-42.233 total time=   2.2s\n",
      "[CV 2/5; 91/243] START max_depth=10, max_features=8, min_samples_leaf=10, min_samples_split=10, n_estimators=200\n",
      "[CV 2/5; 91/243] END max_depth=10, max_features=8, min_samples_leaf=10, min_samples_split=10, n_estimators=200;, score=-42.051 total time=   1.5s\n",
      "[CV 5/5; 91/243] START max_depth=10, max_features=8, min_samples_leaf=10, min_samples_split=10, n_estimators=200\n",
      "[CV 5/5; 91/243] END max_depth=10, max_features=8, min_samples_leaf=10, min_samples_split=10, n_estimators=200;, score=-44.311 total time=   1.5s\n",
      "[CV 2/5; 93/243] START max_depth=10, max_features=8, min_samples_leaf=10, min_samples_split=10, n_estimators=500\n",
      "[CV 2/5; 93/243] END max_depth=10, max_features=8, min_samples_leaf=10, min_samples_split=10, n_estimators=500;, score=-40.083 total time=   3.6s\n",
      "[CV 2/5; 95/243] START max_depth=10, max_features=8, min_samples_leaf=10, min_samples_split=20, n_estimators=300\n",
      "[CV 2/5; 95/243] END max_depth=10, max_features=8, min_samples_leaf=10, min_samples_split=20, n_estimators=300;, score=-40.928 total time=   2.3s\n",
      "[CV 5/5; 96/243] START max_depth=10, max_features=8, min_samples_leaf=10, min_samples_split=20, n_estimators=500\n",
      "[CV 5/5; 96/243] END max_depth=10, max_features=8, min_samples_leaf=10, min_samples_split=20, n_estimators=500;, score=-41.882 total time=   3.8s\n",
      "[CV 3/5; 99/243] START max_depth=10, max_features=8, min_samples_leaf=10, min_samples_split=30, n_estimators=500\n",
      "[CV 3/5; 99/243] END max_depth=10, max_features=8, min_samples_leaf=10, min_samples_split=30, n_estimators=500;, score=-40.319 total time=   3.6s\n",
      "[CV 4/5; 101/243] START max_depth=10, max_features=8, min_samples_leaf=15, min_samples_split=10, n_estimators=300\n",
      "[CV 4/5; 101/243] END max_depth=10, max_features=8, min_samples_leaf=15, min_samples_split=10, n_estimators=300;, score=-42.704 total time=   2.4s\n",
      "[CV 2/5; 2/243] START max_depth=5, max_features=8, min_samples_leaf=5, min_samples_split=10, n_estimators=300\n",
      "[CV 2/5; 2/243] END max_depth=5, max_features=8, min_samples_leaf=5, min_samples_split=10, n_estimators=300;, score=-43.396 total time=   1.4s\n",
      "[CV 5/5; 3/243] START max_depth=5, max_features=8, min_samples_leaf=5, min_samples_split=10, n_estimators=500\n",
      "[CV 5/5; 3/243] END max_depth=5, max_features=8, min_samples_leaf=5, min_samples_split=10, n_estimators=500;, score=-43.910 total time=   2.0s\n",
      "[CV 2/5; 6/243] START max_depth=5, max_features=8, min_samples_leaf=5, min_samples_split=20, n_estimators=500\n",
      "[CV 2/5; 6/243] END max_depth=5, max_features=8, min_samples_leaf=5, min_samples_split=20, n_estimators=500;, score=-42.314 total time=   2.4s\n",
      "[CV 3/5; 8/243] START max_depth=5, max_features=8, min_samples_leaf=5, min_samples_split=30, n_estimators=300\n",
      "[CV 3/5; 8/243] END max_depth=5, max_features=8, min_samples_leaf=5, min_samples_split=30, n_estimators=300;, score=-43.243 total time=   1.4s\n",
      "[CV 1/5; 10/243] START max_depth=5, max_features=8, min_samples_leaf=10, min_samples_split=10, n_estimators=200\n",
      "[CV 1/5; 10/243] END max_depth=5, max_features=8, min_samples_leaf=10, min_samples_split=10, n_estimators=200;, score=-46.607 total time=   1.0s\n",
      "[CV 4/5; 10/243] START max_depth=5, max_features=8, min_samples_leaf=10, min_samples_split=10, n_estimators=200\n",
      "[CV 4/5; 10/243] END max_depth=5, max_features=8, min_samples_leaf=10, min_samples_split=10, n_estimators=200;, score=-46.033 total time=   0.9s\n",
      "[CV 5/5; 11/243] START max_depth=5, max_features=8, min_samples_leaf=10, min_samples_split=10, n_estimators=300\n",
      "[CV 5/5; 11/243] END max_depth=5, max_features=8, min_samples_leaf=10, min_samples_split=10, n_estimators=300;, score=-45.327 total time=   1.6s\n",
      "[CV 3/5; 13/243] START max_depth=5, max_features=8, min_samples_leaf=10, min_samples_split=20, n_estimators=200\n",
      "[CV 3/5; 13/243] END max_depth=5, max_features=8, min_samples_leaf=10, min_samples_split=20, n_estimators=200;, score=-44.577 total time=   0.9s\n",
      "[CV 1/5; 14/243] START max_depth=5, max_features=8, min_samples_leaf=10, min_samples_split=20, n_estimators=300\n",
      "[CV 1/5; 14/243] END max_depth=5, max_features=8, min_samples_leaf=10, min_samples_split=20, n_estimators=300;, score=-45.421 total time=   1.3s\n",
      "[CV 4/5; 15/243] START max_depth=5, max_features=8, min_samples_leaf=10, min_samples_split=20, n_estimators=500\n",
      "[CV 4/5; 15/243] END max_depth=5, max_features=8, min_samples_leaf=10, min_samples_split=20, n_estimators=500;, score=-43.718 total time=   2.1s\n",
      "[CV 2/5; 18/243] START max_depth=5, max_features=8, min_samples_leaf=10, min_samples_split=30, n_estimators=500\n",
      "[CV 2/5; 18/243] END max_depth=5, max_features=8, min_samples_leaf=10, min_samples_split=30, n_estimators=500;, score=-42.445 total time=   2.2s\n",
      "[CV 4/5; 20/243] START max_depth=5, max_features=8, min_samples_leaf=15, min_samples_split=10, n_estimators=300\n",
      "[CV 4/5; 20/243] END max_depth=5, max_features=8, min_samples_leaf=15, min_samples_split=10, n_estimators=300;, score=-44.933 total time=   1.2s\n",
      "[CV 2/5; 22/243] START max_depth=5, max_features=8, min_samples_leaf=15, min_samples_split=20, n_estimators=200\n",
      "[CV 2/5; 22/243] END max_depth=5, max_features=8, min_samples_leaf=15, min_samples_split=20, n_estimators=200;, score=-44.659 total time=   0.8s\n",
      "[CV 5/5; 22/243] START max_depth=5, max_features=8, min_samples_leaf=15, min_samples_split=20, n_estimators=200\n",
      "[CV 5/5; 22/243] END max_depth=5, max_features=8, min_samples_leaf=15, min_samples_split=20, n_estimators=200;, score=-46.814 total time=   0.8s\n",
      "[CV 5/5; 23/243] START max_depth=5, max_features=8, min_samples_leaf=15, min_samples_split=20, n_estimators=300\n",
      "[CV 5/5; 23/243] END max_depth=5, max_features=8, min_samples_leaf=15, min_samples_split=20, n_estimators=300;, score=-45.453 total time=   1.3s\n",
      "[CV 3/5; 25/243] START max_depth=5, max_features=8, min_samples_leaf=15, min_samples_split=30, n_estimators=200\n",
      "[CV 3/5; 25/243] END max_depth=5, max_features=8, min_samples_leaf=15, min_samples_split=30, n_estimators=200;, score=-44.634 total time=   0.9s\n",
      "[CV 2/5; 26/243] START max_depth=5, max_features=8, min_samples_leaf=15, min_samples_split=30, n_estimators=300\n",
      "[CV 2/5; 26/243] END max_depth=5, max_features=8, min_samples_leaf=15, min_samples_split=30, n_estimators=300;, score=-43.497 total time=   1.3s\n",
      "[CV 5/5; 27/243] START max_depth=5, max_features=8, min_samples_leaf=15, min_samples_split=30, n_estimators=500\n",
      "[CV 5/5; 27/243] END max_depth=5, max_features=8, min_samples_leaf=15, min_samples_split=30, n_estimators=500;, score=-44.162 total time=   2.2s\n",
      "[CV 2/5; 30/243] START max_depth=5, max_features=10, min_samples_leaf=5, min_samples_split=10, n_estimators=500\n",
      "[CV 2/5; 30/243] END max_depth=5, max_features=10, min_samples_leaf=5, min_samples_split=10, n_estimators=500;, score=-42.033 total time=   3.6s\n",
      "[CV 4/5; 32/243] START max_depth=5, max_features=10, min_samples_leaf=5, min_samples_split=20, n_estimators=300\n",
      "[CV 4/5; 32/243] END max_depth=5, max_features=10, min_samples_leaf=5, min_samples_split=20, n_estimators=300;, score=-44.560 total time=   1.6s\n",
      "[CV 2/5; 34/243] START max_depth=5, max_features=10, min_samples_leaf=5, min_samples_split=30, n_estimators=200\n",
      "[CV 2/5; 34/243] END max_depth=5, max_features=10, min_samples_leaf=5, min_samples_split=30, n_estimators=200;, score=-44.346 total time=   1.1s\n",
      "[CV 1/5; 35/243] START max_depth=5, max_features=10, min_samples_leaf=5, min_samples_split=30, n_estimators=300\n",
      "[CV 1/5; 35/243] END max_depth=5, max_features=10, min_samples_leaf=5, min_samples_split=30, n_estimators=300;, score=-45.276 total time=   1.6s\n",
      "[CV 4/5; 36/243] START max_depth=5, max_features=10, min_samples_leaf=5, min_samples_split=30, n_estimators=500\n",
      "[CV 4/5; 36/243] END max_depth=5, max_features=10, min_samples_leaf=5, min_samples_split=30, n_estimators=500;, score=-43.453 total time=   2.6s\n",
      "[CV 4/5; 38/243] START max_depth=5, max_features=10, min_samples_leaf=10, min_samples_split=10, n_estimators=300\n",
      "[CV 4/5; 38/243] END max_depth=5, max_features=10, min_samples_leaf=10, min_samples_split=10, n_estimators=300;, score=-44.619 total time=   1.6s\n",
      "[CV 2/5; 40/243] START max_depth=5, max_features=10, min_samples_leaf=10, min_samples_split=20, n_estimators=200\n",
      "[CV 2/5; 40/243] END max_depth=5, max_features=10, min_samples_leaf=10, min_samples_split=20, n_estimators=200;, score=-44.354 total time=   1.0s\n",
      "[CV 5/5; 40/243] START max_depth=5, max_features=10, min_samples_leaf=10, min_samples_split=20, n_estimators=200\n",
      "[CV 5/5; 40/243] END max_depth=5, max_features=10, min_samples_leaf=10, min_samples_split=20, n_estimators=200;, score=-46.472 total time=   1.0s\n",
      "[CV 5/5; 41/243] START max_depth=5, max_features=10, min_samples_leaf=10, min_samples_split=20, n_estimators=300\n",
      "[CV 5/5; 41/243] END max_depth=5, max_features=10, min_samples_leaf=10, min_samples_split=20, n_estimators=300;, score=-45.160 total time=   1.6s\n",
      "[CV 3/5; 43/243] START max_depth=5, max_features=10, min_samples_leaf=10, min_samples_split=30, n_estimators=200\n",
      "[CV 3/5; 43/243] END max_depth=5, max_features=10, min_samples_leaf=10, min_samples_split=30, n_estimators=200;, score=-44.229 total time=   1.1s\n",
      "[CV 3/5; 44/243] START max_depth=5, max_features=10, min_samples_leaf=10, min_samples_split=30, n_estimators=300\n",
      "[CV 3/5; 44/243] END max_depth=5, max_features=10, min_samples_leaf=10, min_samples_split=30, n_estimators=300;, score=-43.108 total time=   1.5s\n",
      "[CV 4/5; 45/243] START max_depth=5, max_features=10, min_samples_leaf=10, min_samples_split=30, n_estimators=500\n",
      "[CV 4/5; 45/243] END max_depth=5, max_features=10, min_samples_leaf=10, min_samples_split=30, n_estimators=500;, score=-43.577 total time=   2.7s\n",
      "[CV 2/5; 48/243] START max_depth=5, max_features=10, min_samples_leaf=15, min_samples_split=10, n_estimators=500\n",
      "[CV 2/5; 48/243] END max_depth=5, max_features=10, min_samples_leaf=15, min_samples_split=10, n_estimators=500;, score=-42.332 total time=   2.6s\n",
      "[CV 3/5; 50/243] START max_depth=5, max_features=10, min_samples_leaf=15, min_samples_split=20, n_estimators=300\n",
      "[CV 3/5; 50/243] END max_depth=5, max_features=10, min_samples_leaf=15, min_samples_split=20, n_estimators=300;, score=-43.140 total time=   1.6s\n",
      "[CV 1/5; 52/243] START max_depth=5, max_features=10, min_samples_leaf=15, min_samples_split=30, n_estimators=200\n",
      "[CV 1/5; 52/243] END max_depth=5, max_features=10, min_samples_leaf=15, min_samples_split=30, n_estimators=200;, score=-46.503 total time=   1.1s\n",
      "[CV 4/5; 52/243] START max_depth=5, max_features=10, min_samples_leaf=15, min_samples_split=30, n_estimators=200\n",
      "[CV 4/5; 52/243] END max_depth=5, max_features=10, min_samples_leaf=15, min_samples_split=30, n_estimators=200;, score=-45.830 total time=   1.1s\n",
      "[CV 5/5; 53/243] START max_depth=5, max_features=10, min_samples_leaf=15, min_samples_split=30, n_estimators=300\n",
      "[CV 5/5; 53/243] END max_depth=5, max_features=10, min_samples_leaf=15, min_samples_split=30, n_estimators=300;, score=-45.215 total time=   1.8s\n",
      "[CV 3/5; 55/243] START max_depth=5, max_features=12, min_samples_leaf=5, min_samples_split=10, n_estimators=200\n",
      "[CV 3/5; 55/243] END max_depth=5, max_features=12, min_samples_leaf=5, min_samples_split=10, n_estimators=200;, score=-43.953 total time=   1.1s\n",
      "[CV 2/5; 56/243] START max_depth=5, max_features=12, min_samples_leaf=5, min_samples_split=10, n_estimators=300\n",
      "[CV 2/5; 56/243] END max_depth=5, max_features=12, min_samples_leaf=5, min_samples_split=10, n_estimators=300;, score=-43.092 total time=   1.9s\n",
      "[CV 5/5; 57/243] START max_depth=5, max_features=12, min_samples_leaf=5, min_samples_split=10, n_estimators=500\n",
      "[CV 5/5; 57/243] END max_depth=5, max_features=12, min_samples_leaf=5, min_samples_split=10, n_estimators=500;, score=-43.693 total time=   3.0s\n",
      "[CV 3/5; 60/243] START max_depth=5, max_features=12, min_samples_leaf=5, min_samples_split=20, n_estimators=500\n",
      "[CV 3/5; 60/243] END max_depth=5, max_features=12, min_samples_leaf=5, min_samples_split=20, n_estimators=500;, score=-41.934 total time=   2.8s\n",
      "[CV 4/5; 62/243] START max_depth=5, max_features=12, min_samples_leaf=5, min_samples_split=30, n_estimators=300\n",
      "[CV 4/5; 62/243] END max_depth=5, max_features=12, min_samples_leaf=5, min_samples_split=30, n_estimators=300;, score=-44.433 total time=   1.7s\n",
      "[CV 2/5; 64/243] START max_depth=5, max_features=12, min_samples_leaf=10, min_samples_split=10, n_estimators=200\n",
      "[CV 2/5; 64/243] END max_depth=5, max_features=12, min_samples_leaf=10, min_samples_split=10, n_estimators=200;, score=-44.200 total time=   1.2s\n",
      "[CV 5/5; 64/243] START max_depth=5, max_features=12, min_samples_leaf=10, min_samples_split=10, n_estimators=200\n",
      "[CV 5/5; 64/243] END max_depth=5, max_features=12, min_samples_leaf=10, min_samples_split=10, n_estimators=200;, score=-46.141 total time=   1.1s\n",
      "[CV 1/5; 66/243] START max_depth=5, max_features=12, min_samples_leaf=10, min_samples_split=10, n_estimators=500\n",
      "[CV 1/5; 66/243] END max_depth=5, max_features=12, min_samples_leaf=10, min_samples_split=10, n_estimators=500;, score=-44.221 total time=   2.9s\n",
      "[CV 1/5; 68/243] START max_depth=5, max_features=12, min_samples_leaf=10, min_samples_split=20, n_estimators=300\n",
      "[CV 1/5; 68/243] END max_depth=5, max_features=12, min_samples_leaf=10, min_samples_split=20, n_estimators=300;, score=-45.187 total time=   1.8s\n",
      "[CV 5/5; 69/243] START max_depth=5, max_features=12, min_samples_leaf=10, min_samples_split=20, n_estimators=500\n",
      "[CV 5/5; 69/243] END max_depth=5, max_features=12, min_samples_leaf=10, min_samples_split=20, n_estimators=500;, score=-43.838 total time=   2.8s\n",
      "[CV 3/5; 72/243] START max_depth=5, max_features=12, min_samples_leaf=10, min_samples_split=30, n_estimators=500\n",
      "[CV 3/5; 72/243] END max_depth=5, max_features=12, min_samples_leaf=10, min_samples_split=30, n_estimators=500;, score=-42.018 total time=   2.8s\n",
      "[CV 3/5; 74/243] START max_depth=5, max_features=12, min_samples_leaf=15, min_samples_split=10, n_estimators=300\n",
      "[CV 3/5; 74/243] END max_depth=5, max_features=12, min_samples_leaf=15, min_samples_split=10, n_estimators=300;, score=-43.047 total time=   1.8s\n",
      "[CV 1/5; 76/243] START max_depth=5, max_features=12, min_samples_leaf=15, min_samples_split=20, n_estimators=200\n",
      "[CV 1/5; 76/243] END max_depth=5, max_features=12, min_samples_leaf=15, min_samples_split=20, n_estimators=200;, score=-46.246 total time=   1.2s\n",
      "[CV 5/5; 76/243] START max_depth=5, max_features=12, min_samples_leaf=15, min_samples_split=20, n_estimators=200\n",
      "[CV 5/5; 76/243] END max_depth=5, max_features=12, min_samples_leaf=15, min_samples_split=20, n_estimators=200;, score=-46.189 total time=   1.2s\n",
      "[CV 1/5; 78/243] START max_depth=5, max_features=12, min_samples_leaf=15, min_samples_split=20, n_estimators=500\n",
      "[CV 1/5; 78/243] END max_depth=5, max_features=12, min_samples_leaf=15, min_samples_split=20, n_estimators=500;, score=-44.214 total time=   2.9s\n",
      "[CV 1/5; 80/243] START max_depth=5, max_features=12, min_samples_leaf=15, min_samples_split=30, n_estimators=300\n",
      "[CV 1/5; 80/243] END max_depth=5, max_features=12, min_samples_leaf=15, min_samples_split=30, n_estimators=300;, score=-45.174 total time=   1.8s\n",
      "[CV 5/5; 81/243] START max_depth=5, max_features=12, min_samples_leaf=15, min_samples_split=30, n_estimators=500\n",
      "[CV 5/5; 81/243] END max_depth=5, max_features=12, min_samples_leaf=15, min_samples_split=30, n_estimators=500;, score=-43.907 total time=   2.9s\n",
      "[CV 5/5; 83/243] START max_depth=10, max_features=8, min_samples_leaf=5, min_samples_split=10, n_estimators=300\n",
      "[CV 5/5; 83/243] END max_depth=10, max_features=8, min_samples_leaf=5, min_samples_split=10, n_estimators=300;, score=-42.634 total time=   2.4s\n",
      "[CV 3/5; 85/243] START max_depth=10, max_features=8, min_samples_leaf=5, min_samples_split=20, n_estimators=200\n",
      "[CV 3/5; 85/243] END max_depth=10, max_features=8, min_samples_leaf=5, min_samples_split=20, n_estimators=200;, score=-41.887 total time=   1.5s\n",
      "[CV 1/5; 86/243] START max_depth=10, max_features=8, min_samples_leaf=5, min_samples_split=20, n_estimators=300\n",
      "[CV 1/5; 86/243] END max_depth=10, max_features=8, min_samples_leaf=5, min_samples_split=20, n_estimators=300;, score=-43.280 total time=   2.3s\n",
      "[CV 4/5; 87/243] START max_depth=10, max_features=8, min_samples_leaf=5, min_samples_split=20, n_estimators=500\n",
      "[CV 4/5; 87/243] END max_depth=10, max_features=8, min_samples_leaf=5, min_samples_split=20, n_estimators=500;, score=-41.157 total time=   3.7s\n",
      "[CV 2/5; 90/243] START max_depth=10, max_features=8, min_samples_leaf=5, min_samples_split=30, n_estimators=500\n",
      "[CV 2/5; 90/243] END max_depth=10, max_features=8, min_samples_leaf=5, min_samples_split=30, n_estimators=500;, score=-40.101 total time=   3.7s\n",
      "[CV 2/5; 92/243] START max_depth=10, max_features=8, min_samples_leaf=10, min_samples_split=10, n_estimators=300\n",
      "[CV 2/5; 92/243] END max_depth=10, max_features=8, min_samples_leaf=10, min_samples_split=10, n_estimators=300;, score=-40.928 total time=   2.2s\n",
      "[CV 5/5; 93/243] START max_depth=10, max_features=8, min_samples_leaf=10, min_samples_split=10, n_estimators=500\n",
      "[CV 5/5; 93/243] END max_depth=10, max_features=8, min_samples_leaf=10, min_samples_split=10, n_estimators=500;, score=-41.882 total time=   3.8s\n",
      "[CV 3/5; 96/243] START max_depth=10, max_features=8, min_samples_leaf=10, min_samples_split=20, n_estimators=500\n",
      "[CV 3/5; 96/243] END max_depth=10, max_features=8, min_samples_leaf=10, min_samples_split=20, n_estimators=500;, score=-40.237 total time=   3.7s\n",
      "[CV 4/5; 98/243] START max_depth=10, max_features=8, min_samples_leaf=10, min_samples_split=30, n_estimators=300\n",
      "[CV 4/5; 98/243] END max_depth=10, max_features=8, min_samples_leaf=10, min_samples_split=30, n_estimators=300;, score=-42.504 total time=   2.3s\n",
      "[CV 2/5; 100/243] START max_depth=10, max_features=8, min_samples_leaf=15, min_samples_split=10, n_estimators=200\n",
      "[CV 2/5; 100/243] END max_depth=10, max_features=8, min_samples_leaf=15, min_samples_split=10, n_estimators=200;, score=-42.444 total time=   1.7s\n",
      "[CV 5/5; 100/243] START max_depth=10, max_features=8, min_samples_leaf=15, min_samples_split=10, n_estimators=200\n",
      "[CV 5/5; 100/243] END max_depth=10, max_features=8, min_samples_leaf=15, min_samples_split=10, n_estimators=200;, score=-44.513 total time=   1.5s\n",
      "[CV 5/5; 1/243] START max_depth=5, max_features=8, min_samples_leaf=5, min_samples_split=10, n_estimators=200\n",
      "[CV 5/5; 1/243] END max_depth=5, max_features=8, min_samples_leaf=5, min_samples_split=10, n_estimators=200;, score=-46.667 total time=   0.9s\n",
      "[CV 3/5; 3/243] START max_depth=5, max_features=8, min_samples_leaf=5, min_samples_split=10, n_estimators=500\n",
      "[CV 3/5; 3/243] END max_depth=5, max_features=8, min_samples_leaf=5, min_samples_split=10, n_estimators=500;, score=-42.011 total time=   1.9s\n",
      "[CV 2/5; 5/243] START max_depth=5, max_features=8, min_samples_leaf=5, min_samples_split=20, n_estimators=300\n",
      "[CV 2/5; 5/243] END max_depth=5, max_features=8, min_samples_leaf=5, min_samples_split=20, n_estimators=300;, score=-43.404 total time=   1.2s\n",
      "[CV 4/5; 6/243] START max_depth=5, max_features=8, min_samples_leaf=5, min_samples_split=20, n_estimators=500\n",
      "[CV 4/5; 6/243] END max_depth=5, max_features=8, min_samples_leaf=5, min_samples_split=20, n_estimators=500;, score=-43.592 total time=   2.3s\n",
      "[CV 1/5; 9/243] START max_depth=5, max_features=8, min_samples_leaf=5, min_samples_split=30, n_estimators=500\n",
      "[CV 1/5; 9/243] END max_depth=5, max_features=8, min_samples_leaf=5, min_samples_split=30, n_estimators=500;, score=-44.336 total time=   2.3s\n",
      "[CV 2/5; 11/243] START max_depth=5, max_features=8, min_samples_leaf=10, min_samples_split=10, n_estimators=300\n",
      "[CV 2/5; 11/243] END max_depth=5, max_features=8, min_samples_leaf=10, min_samples_split=10, n_estimators=300;, score=-43.454 total time=   1.6s\n",
      "[CV 4/5; 12/243] START max_depth=5, max_features=8, min_samples_leaf=10, min_samples_split=10, n_estimators=500\n",
      "[CV 4/5; 12/243] END max_depth=5, max_features=8, min_samples_leaf=10, min_samples_split=10, n_estimators=500;, score=-43.718 total time=   2.3s\n",
      "[CV 3/5; 15/243] START max_depth=5, max_features=8, min_samples_leaf=10, min_samples_split=20, n_estimators=500\n",
      "[CV 3/5; 15/243] END max_depth=5, max_features=8, min_samples_leaf=10, min_samples_split=20, n_estimators=500;, score=-42.210 total time=   1.9s\n",
      "[CV 3/5; 17/243] START max_depth=5, max_features=8, min_samples_leaf=10, min_samples_split=30, n_estimators=300\n",
      "[CV 3/5; 17/243] END max_depth=5, max_features=8, min_samples_leaf=10, min_samples_split=30, n_estimators=300;, score=-43.341 total time=   1.3s\n",
      "[CV 1/5; 19/243] START max_depth=5, max_features=8, min_samples_leaf=15, min_samples_split=10, n_estimators=200\n",
      "[CV 1/5; 19/243] END max_depth=5, max_features=8, min_samples_leaf=15, min_samples_split=10, n_estimators=200;, score=-46.745 total time=   0.9s\n",
      "[CV 4/5; 19/243] START max_depth=5, max_features=8, min_samples_leaf=15, min_samples_split=10, n_estimators=200\n",
      "[CV 4/5; 19/243] END max_depth=5, max_features=8, min_samples_leaf=15, min_samples_split=10, n_estimators=200;, score=-46.101 total time=   0.8s\n",
      "[CV 1/5; 21/243] START max_depth=5, max_features=8, min_samples_leaf=15, min_samples_split=10, n_estimators=500\n",
      "[CV 1/5; 21/243] END max_depth=5, max_features=8, min_samples_leaf=15, min_samples_split=10, n_estimators=500;, score=-44.454 total time=   2.1s\n",
      "[CV 2/5; 23/243] START max_depth=5, max_features=8, min_samples_leaf=15, min_samples_split=20, n_estimators=300\n",
      "[CV 2/5; 23/243] END max_depth=5, max_features=8, min_samples_leaf=15, min_samples_split=20, n_estimators=300;, score=-43.497 total time=   1.2s\n",
      "[CV 4/5; 24/243] START max_depth=5, max_features=8, min_samples_leaf=15, min_samples_split=20, n_estimators=500\n",
      "[CV 4/5; 24/243] END max_depth=5, max_features=8, min_samples_leaf=15, min_samples_split=20, n_estimators=500;, score=-43.763 total time=   2.3s\n",
      "[CV 3/5; 27/243] START max_depth=5, max_features=8, min_samples_leaf=15, min_samples_split=30, n_estimators=500\n",
      "[CV 3/5; 27/243] END max_depth=5, max_features=8, min_samples_leaf=15, min_samples_split=30, n_estimators=500;, score=-42.273 total time=   2.2s\n",
      "[CV 4/5; 29/243] START max_depth=5, max_features=10, min_samples_leaf=5, min_samples_split=10, n_estimators=300\n",
      "[CV 4/5; 29/243] END max_depth=5, max_features=10, min_samples_leaf=5, min_samples_split=10, n_estimators=300;, score=-44.559 total time=   1.9s\n",
      "[CV 2/5; 31/243] START max_depth=5, max_features=10, min_samples_leaf=5, min_samples_split=20, n_estimators=200\n",
      "[CV 2/5; 31/243] END max_depth=5, max_features=10, min_samples_leaf=5, min_samples_split=20, n_estimators=200;, score=-44.329 total time=   1.6s\n",
      "[CV 5/5; 31/243] START max_depth=5, max_features=10, min_samples_leaf=5, min_samples_split=20, n_estimators=200\n",
      "[CV 5/5; 31/243] END max_depth=5, max_features=10, min_samples_leaf=5, min_samples_split=20, n_estimators=200;, score=-46.413 total time=   1.1s\n",
      "[CV 1/5; 33/243] START max_depth=5, max_features=10, min_samples_leaf=5, min_samples_split=20, n_estimators=500\n",
      "[CV 1/5; 33/243] END max_depth=5, max_features=10, min_samples_leaf=5, min_samples_split=20, n_estimators=500;, score=-44.210 total time=   2.7s\n",
      "[CV 3/5; 35/243] START max_depth=5, max_features=10, min_samples_leaf=5, min_samples_split=30, n_estimators=300\n",
      "[CV 3/5; 35/243] END max_depth=5, max_features=10, min_samples_leaf=5, min_samples_split=30, n_estimators=300;, score=-43.054 total time=   1.6s\n",
      "[CV 5/5; 36/243] START max_depth=5, max_features=10, min_samples_leaf=5, min_samples_split=30, n_estimators=500\n",
      "[CV 5/5; 36/243] END max_depth=5, max_features=10, min_samples_leaf=5, min_samples_split=30, n_estimators=500;, score=-43.937 total time=   2.5s\n",
      "[CV 3/5; 39/243] START max_depth=5, max_features=10, min_samples_leaf=10, min_samples_split=10, n_estimators=500\n",
      "[CV 3/5; 39/243] END max_depth=5, max_features=10, min_samples_leaf=10, min_samples_split=10, n_estimators=500;, score=-42.111 total time=   2.7s\n",
      "[CV 4/5; 41/243] START max_depth=5, max_features=10, min_samples_leaf=10, min_samples_split=20, n_estimators=300\n",
      "[CV 4/5; 41/243] END max_depth=5, max_features=10, min_samples_leaf=10, min_samples_split=20, n_estimators=300;, score=-44.619 total time=   1.6s\n",
      "[CV 2/5; 43/243] START max_depth=5, max_features=10, min_samples_leaf=10, min_samples_split=30, n_estimators=200\n",
      "[CV 2/5; 43/243] END max_depth=5, max_features=10, min_samples_leaf=10, min_samples_split=30, n_estimators=200;, score=-44.373 total time=   1.1s\n",
      "[CV 5/5; 43/243] START max_depth=5, max_features=10, min_samples_leaf=10, min_samples_split=30, n_estimators=200\n",
      "[CV 5/5; 43/243] END max_depth=5, max_features=10, min_samples_leaf=10, min_samples_split=30, n_estimators=200;, score=-46.527 total time=   1.0s\n",
      "[CV 5/5; 44/243] START max_depth=5, max_features=10, min_samples_leaf=10, min_samples_split=30, n_estimators=300\n",
      "[CV 5/5; 44/243] END max_depth=5, max_features=10, min_samples_leaf=10, min_samples_split=30, n_estimators=300;, score=-45.186 total time=   1.6s\n",
      "[CV 3/5; 46/243] START max_depth=5, max_features=10, min_samples_leaf=15, min_samples_split=10, n_estimators=200\n",
      "[CV 3/5; 46/243] END max_depth=5, max_features=10, min_samples_leaf=15, min_samples_split=10, n_estimators=200;, score=-44.238 total time=   1.1s\n",
      "[CV 2/5; 47/243] START max_depth=5, max_features=10, min_samples_leaf=15, min_samples_split=10, n_estimators=300\n",
      "[CV 2/5; 47/243] END max_depth=5, max_features=10, min_samples_leaf=15, min_samples_split=10, n_estimators=300;, score=-43.312 total time=   1.6s\n",
      "[CV 5/5; 48/243] START max_depth=5, max_features=10, min_samples_leaf=15, min_samples_split=10, n_estimators=500\n",
      "[CV 5/5; 48/243] END max_depth=5, max_features=10, min_samples_leaf=15, min_samples_split=10, n_estimators=500;, score=-44.003 total time=   2.6s\n",
      "[CV 3/5; 51/243] START max_depth=5, max_features=10, min_samples_leaf=15, min_samples_split=20, n_estimators=500\n",
      "[CV 3/5; 51/243] END max_depth=5, max_features=10, min_samples_leaf=15, min_samples_split=20, n_estimators=500;, score=-42.117 total time=   2.7s\n",
      "[CV 4/5; 53/243] START max_depth=5, max_features=10, min_samples_leaf=15, min_samples_split=30, n_estimators=300\n",
      "[CV 4/5; 53/243] END max_depth=5, max_features=10, min_samples_leaf=15, min_samples_split=30, n_estimators=300;, score=-44.661 total time=   1.8s\n",
      "[CV 2/5; 55/243] START max_depth=5, max_features=12, min_samples_leaf=5, min_samples_split=10, n_estimators=200\n",
      "[CV 2/5; 55/243] END max_depth=5, max_features=12, min_samples_leaf=5, min_samples_split=10, n_estimators=200;, score=-44.204 total time=   1.3s\n",
      "[CV 4/5; 55/243] START max_depth=5, max_features=12, min_samples_leaf=5, min_samples_split=10, n_estimators=200\n",
      "[CV 4/5; 55/243] END max_depth=5, max_features=12, min_samples_leaf=5, min_samples_split=10, n_estimators=200;, score=-45.418 total time=   1.3s\n",
      "[CV 2/5; 57/243] START max_depth=5, max_features=12, min_samples_leaf=5, min_samples_split=10, n_estimators=500\n",
      "[CV 2/5; 57/243] END max_depth=5, max_features=12, min_samples_leaf=5, min_samples_split=10, n_estimators=500;, score=-42.082 total time=   3.1s\n",
      "[CV 3/5; 59/243] START max_depth=5, max_features=12, min_samples_leaf=5, min_samples_split=20, n_estimators=300\n",
      "[CV 3/5; 59/243] END max_depth=5, max_features=12, min_samples_leaf=5, min_samples_split=20, n_estimators=300;, score=-42.928 total time=   1.8s\n",
      "[CV 2/5; 61/243] START max_depth=5, max_features=12, min_samples_leaf=5, min_samples_split=30, n_estimators=200\n",
      "[CV 2/5; 61/243] END max_depth=5, max_features=12, min_samples_leaf=5, min_samples_split=30, n_estimators=200;, score=-44.179 total time=   1.2s\n",
      "[CV 5/5; 61/243] START max_depth=5, max_features=12, min_samples_leaf=5, min_samples_split=30, n_estimators=200\n",
      "[CV 5/5; 61/243] END max_depth=5, max_features=12, min_samples_leaf=5, min_samples_split=30, n_estimators=200;, score=-46.166 total time=   1.1s\n",
      "[CV 5/5; 62/243] START max_depth=5, max_features=12, min_samples_leaf=5, min_samples_split=30, n_estimators=300\n",
      "[CV 5/5; 62/243] END max_depth=5, max_features=12, min_samples_leaf=5, min_samples_split=30, n_estimators=300;, score=-44.923 total time=   1.7s\n",
      "[CV 3/5; 64/243] START max_depth=5, max_features=12, min_samples_leaf=10, min_samples_split=10, n_estimators=200\n",
      "[CV 3/5; 64/243] END max_depth=5, max_features=12, min_samples_leaf=10, min_samples_split=10, n_estimators=200;, score=-44.045 total time=   1.2s\n",
      "[CV 1/5; 65/243] START max_depth=5, max_features=12, min_samples_leaf=10, min_samples_split=10, n_estimators=300\n",
      "[CV 1/5; 65/243] END max_depth=5, max_features=12, min_samples_leaf=10, min_samples_split=10, n_estimators=300;, score=-45.187 total time=   1.8s\n",
      "[CV 5/5; 66/243] START max_depth=5, max_features=12, min_samples_leaf=10, min_samples_split=10, n_estimators=500\n",
      "[CV 5/5; 66/243] END max_depth=5, max_features=12, min_samples_leaf=10, min_samples_split=10, n_estimators=500;, score=-43.838 total time=   3.0s\n",
      "[CV 3/5; 69/243] START max_depth=5, max_features=12, min_samples_leaf=10, min_samples_split=20, n_estimators=500\n",
      "[CV 3/5; 69/243] END max_depth=5, max_features=12, min_samples_leaf=10, min_samples_split=20, n_estimators=500;, score=-42.019 total time=   2.9s\n",
      "[CV 3/5; 71/243] START max_depth=5, max_features=12, min_samples_leaf=10, min_samples_split=30, n_estimators=300\n",
      "[CV 3/5; 71/243] END max_depth=5, max_features=12, min_samples_leaf=10, min_samples_split=30, n_estimators=300;, score=-43.029 total time=   1.9s\n",
      "[CV 2/5; 73/243] START max_depth=5, max_features=12, min_samples_leaf=15, min_samples_split=10, n_estimators=200\n",
      "[CV 2/5; 73/243] END max_depth=5, max_features=12, min_samples_leaf=15, min_samples_split=10, n_estimators=200;, score=-44.272 total time=   1.2s\n",
      "[CV 1/5; 74/243] START max_depth=5, max_features=12, min_samples_leaf=15, min_samples_split=10, n_estimators=300\n",
      "[CV 1/5; 74/243] END max_depth=5, max_features=12, min_samples_leaf=15, min_samples_split=10, n_estimators=300;, score=-45.174 total time=   1.8s\n",
      "[CV 4/5; 75/243] START max_depth=5, max_features=12, min_samples_leaf=15, min_samples_split=10, n_estimators=500\n",
      "[CV 4/5; 75/243] END max_depth=5, max_features=12, min_samples_leaf=15, min_samples_split=10, n_estimators=500;, score=-43.501 total time=   3.0s\n",
      "[CV 3/5; 78/243] START max_depth=5, max_features=12, min_samples_leaf=15, min_samples_split=20, n_estimators=500\n",
      "[CV 3/5; 78/243] END max_depth=5, max_features=12, min_samples_leaf=15, min_samples_split=20, n_estimators=500;, score=-42.049 total time=   3.0s\n",
      "[CV 4/5; 80/243] START max_depth=5, max_features=12, min_samples_leaf=15, min_samples_split=30, n_estimators=300\n",
      "[CV 4/5; 80/243] END max_depth=5, max_features=12, min_samples_leaf=15, min_samples_split=30, n_estimators=300;, score=-44.521 total time=   1.8s\n",
      "[CV 1/5; 82/243] START max_depth=10, max_features=8, min_samples_leaf=5, min_samples_split=10, n_estimators=200\n",
      "[CV 1/5; 82/243] END max_depth=10, max_features=8, min_samples_leaf=5, min_samples_split=10, n_estimators=200;, score=-44.370 total time=   1.5s\n",
      "[CV 5/5; 82/243] START max_depth=10, max_features=8, min_samples_leaf=5, min_samples_split=10, n_estimators=200\n",
      "[CV 5/5; 82/243] END max_depth=10, max_features=8, min_samples_leaf=5, min_samples_split=10, n_estimators=200;, score=-43.999 total time=   1.5s\n",
      "[CV 3/5; 84/243] START max_depth=10, max_features=8, min_samples_leaf=5, min_samples_split=10, n_estimators=500\n",
      "[CV 3/5; 84/243] END max_depth=10, max_features=8, min_samples_leaf=5, min_samples_split=10, n_estimators=500;, score=-39.995 total time=   3.9s\n",
      "[CV 4/5; 86/243] START max_depth=10, max_features=8, min_samples_leaf=5, min_samples_split=20, n_estimators=300\n",
      "[CV 4/5; 86/243] END max_depth=10, max_features=8, min_samples_leaf=5, min_samples_split=20, n_estimators=300;, score=-42.269 total time=   2.3s\n",
      "[CV 2/5; 88/243] START max_depth=10, max_features=8, min_samples_leaf=5, min_samples_split=30, n_estimators=200\n",
      "[CV 2/5; 88/243] END max_depth=10, max_features=8, min_samples_leaf=5, min_samples_split=30, n_estimators=200;, score=-42.008 total time=   1.5s\n",
      "[CV 5/5; 88/243] START max_depth=10, max_features=8, min_samples_leaf=5, min_samples_split=30, n_estimators=200\n",
      "[CV 5/5; 88/243] END max_depth=10, max_features=8, min_samples_leaf=5, min_samples_split=30, n_estimators=200;, score=-44.053 total time=   1.5s\n",
      "[CV 1/5; 90/243] START max_depth=10, max_features=8, min_samples_leaf=5, min_samples_split=30, n_estimators=500\n",
      "[CV 1/5; 90/243] END max_depth=10, max_features=8, min_samples_leaf=5, min_samples_split=30, n_estimators=500;, score=-42.586 total time=   3.7s\n",
      "[CV 3/5; 92/243] START max_depth=10, max_features=8, min_samples_leaf=10, min_samples_split=10, n_estimators=300\n",
      "[CV 3/5; 92/243] END max_depth=10, max_features=8, min_samples_leaf=10, min_samples_split=10, n_estimators=300;, score=-41.193 total time=   2.3s\n",
      "[CV 1/5; 94/243] START max_depth=10, max_features=8, min_samples_leaf=10, min_samples_split=20, n_estimators=200\n",
      "[CV 1/5; 94/243] END max_depth=10, max_features=8, min_samples_leaf=10, min_samples_split=20, n_estimators=200;, score=-44.785 total time=   1.5s\n",
      "[CV 4/5; 94/243] START max_depth=10, max_features=8, min_samples_leaf=10, min_samples_split=20, n_estimators=200\n",
      "[CV 4/5; 94/243] END max_depth=10, max_features=8, min_samples_leaf=10, min_samples_split=20, n_estimators=200;, score=-43.677 total time=   1.5s\n",
      "[CV 5/5; 95/243] START max_depth=10, max_features=8, min_samples_leaf=10, min_samples_split=20, n_estimators=300\n",
      "[CV 5/5; 95/243] END max_depth=10, max_features=8, min_samples_leaf=10, min_samples_split=20, n_estimators=300;, score=-42.994 total time=   2.3s\n",
      "[CV 3/5; 97/243] START max_depth=10, max_features=8, min_samples_leaf=10, min_samples_split=30, n_estimators=200\n",
      "[CV 3/5; 97/243] END max_depth=10, max_features=8, min_samples_leaf=10, min_samples_split=30, n_estimators=200;, score=-42.308 total time=   1.5s\n",
      "[CV 1/5; 98/243] START max_depth=10, max_features=8, min_samples_leaf=10, min_samples_split=30, n_estimators=300\n",
      "[CV 1/5; 98/243] END max_depth=10, max_features=8, min_samples_leaf=10, min_samples_split=30, n_estimators=300;, score=-43.618 total time=   2.3s\n",
      "[CV 4/5; 99/243] START max_depth=10, max_features=8, min_samples_leaf=10, min_samples_split=30, n_estimators=500\n",
      "[CV 4/5; 99/243] END max_depth=10, max_features=8, min_samples_leaf=10, min_samples_split=30, n_estimators=500;, score=-41.444 total time=   3.7s\n",
      "[CV 1/5; 102/243] START max_depth=10, max_features=8, min_samples_leaf=15, min_samples_split=10, n_estimators=500\n",
      "[CV 1/5; 102/243] END max_depth=10, max_features=8, min_samples_leaf=15, min_samples_split=10, n_estimators=500;, score=-42.905 total time=   4.7s\n",
      "[CV 1/5; 1/243] START max_depth=5, max_features=8, min_samples_leaf=5, min_samples_split=10, n_estimators=200\n",
      "[CV 1/5; 1/243] END max_depth=5, max_features=8, min_samples_leaf=5, min_samples_split=10, n_estimators=200;, score=-46.644 total time=   1.1s\n",
      "[CV 4/5; 2/243] START max_depth=5, max_features=8, min_samples_leaf=5, min_samples_split=10, n_estimators=300\n",
      "[CV 4/5; 2/243] END max_depth=5, max_features=8, min_samples_leaf=5, min_samples_split=10, n_estimators=300;, score=-44.757 total time=   1.3s\n",
      "[CV 3/5; 4/243] START max_depth=5, max_features=8, min_samples_leaf=5, min_samples_split=20, n_estimators=200\n",
      "[CV 3/5; 4/243] END max_depth=5, max_features=8, min_samples_leaf=5, min_samples_split=20, n_estimators=200;, score=-44.449 total time=   0.8s\n",
      "[CV 5/5; 5/243] START max_depth=5, max_features=8, min_samples_leaf=5, min_samples_split=20, n_estimators=300\n",
      "[CV 5/5; 5/243] END max_depth=5, max_features=8, min_samples_leaf=5, min_samples_split=20, n_estimators=300;, score=-45.214 total time=   1.5s\n",
      "[CV 3/5; 7/243] START max_depth=5, max_features=8, min_samples_leaf=5, min_samples_split=30, n_estimators=200\n",
      "[CV 3/5; 7/243] END max_depth=5, max_features=8, min_samples_leaf=5, min_samples_split=30, n_estimators=200;, score=-44.502 total time=   1.0s\n",
      "[CV 1/5; 8/243] START max_depth=5, max_features=8, min_samples_leaf=5, min_samples_split=30, n_estimators=300\n",
      "[CV 1/5; 8/243] END max_depth=5, max_features=8, min_samples_leaf=5, min_samples_split=30, n_estimators=300;, score=-45.437 total time=   1.3s\n",
      "[CV 4/5; 9/243] START max_depth=5, max_features=8, min_samples_leaf=5, min_samples_split=30, n_estimators=500\n",
      "[CV 4/5; 9/243] END max_depth=5, max_features=8, min_samples_leaf=5, min_samples_split=30, n_estimators=500;, score=-43.565 total time=   2.5s\n",
      "[CV 1/5; 12/243] START max_depth=5, max_features=8, min_samples_leaf=10, min_samples_split=10, n_estimators=500\n",
      "[CV 1/5; 12/243] END max_depth=5, max_features=8, min_samples_leaf=10, min_samples_split=10, n_estimators=500;, score=-44.351 total time=   2.4s\n",
      "[CV 2/5; 14/243] START max_depth=5, max_features=8, min_samples_leaf=10, min_samples_split=20, n_estimators=300\n",
      "[CV 2/5; 14/243] END max_depth=5, max_features=8, min_samples_leaf=10, min_samples_split=20, n_estimators=300;, score=-43.454 total time=   1.3s\n",
      "[CV 5/5; 15/243] START max_depth=5, max_features=8, min_samples_leaf=10, min_samples_split=20, n_estimators=500\n",
      "[CV 5/5; 15/243] END max_depth=5, max_features=8, min_samples_leaf=10, min_samples_split=20, n_estimators=500;, score=-44.000 total time=   2.1s\n",
      "[CV 3/5; 18/243] START max_depth=5, max_features=8, min_samples_leaf=10, min_samples_split=30, n_estimators=500\n",
      "[CV 3/5; 18/243] END max_depth=5, max_features=8, min_samples_leaf=10, min_samples_split=30, n_estimators=500;, score=-42.202 total time=   2.1s\n",
      "[CV 3/5; 20/243] START max_depth=5, max_features=8, min_samples_leaf=15, min_samples_split=10, n_estimators=300\n",
      "[CV 3/5; 20/243] END max_depth=5, max_features=8, min_samples_leaf=15, min_samples_split=10, n_estimators=300;, score=-43.407 total time=   1.2s\n",
      "[CV 1/5; 22/243] START max_depth=5, max_features=8, min_samples_leaf=15, min_samples_split=20, n_estimators=200\n",
      "[CV 1/5; 22/243] END max_depth=5, max_features=8, min_samples_leaf=15, min_samples_split=20, n_estimators=200;, score=-46.745 total time=   0.9s\n",
      "[CV 4/5; 22/243] START max_depth=5, max_features=8, min_samples_leaf=15, min_samples_split=20, n_estimators=200\n",
      "[CV 4/5; 22/243] END max_depth=5, max_features=8, min_samples_leaf=15, min_samples_split=20, n_estimators=200;, score=-46.101 total time=   0.9s\n",
      "[CV 1/5; 24/243] START max_depth=5, max_features=8, min_samples_leaf=15, min_samples_split=20, n_estimators=500\n",
      "[CV 1/5; 24/243] END max_depth=5, max_features=8, min_samples_leaf=15, min_samples_split=20, n_estimators=500;, score=-44.454 total time=   2.2s\n",
      "[CV 1/5; 26/243] START max_depth=5, max_features=8, min_samples_leaf=15, min_samples_split=30, n_estimators=300\n",
      "[CV 1/5; 26/243] END max_depth=5, max_features=8, min_samples_leaf=15, min_samples_split=30, n_estimators=300;, score=-45.526 total time=   1.3s\n",
      "[CV 4/5; 27/243] START max_depth=5, max_features=8, min_samples_leaf=15, min_samples_split=30, n_estimators=500\n",
      "[CV 4/5; 27/243] END max_depth=5, max_features=8, min_samples_leaf=15, min_samples_split=30, n_estimators=500;, score=-43.763 total time=   2.3s\n",
      "[CV 1/5; 30/243] START max_depth=5, max_features=10, min_samples_leaf=5, min_samples_split=10, n_estimators=500\n",
      "[CV 1/5; 30/243] END max_depth=5, max_features=10, min_samples_leaf=5, min_samples_split=10, n_estimators=500;, score=-44.189 total time=   3.5s\n",
      "[CV 1/5; 32/243] START max_depth=5, max_features=10, min_samples_leaf=5, min_samples_split=20, n_estimators=300\n",
      "[CV 1/5; 32/243] END max_depth=5, max_features=10, min_samples_leaf=5, min_samples_split=20, n_estimators=300;, score=-45.244 total time=   1.6s\n",
      "[CV 4/5; 33/243] START max_depth=5, max_features=10, min_samples_leaf=5, min_samples_split=20, n_estimators=500\n",
      "[CV 4/5; 33/243] END max_depth=5, max_features=10, min_samples_leaf=5, min_samples_split=20, n_estimators=500;, score=-43.467 total time=   2.8s\n",
      "[CV 3/5; 36/243] START max_depth=5, max_features=10, min_samples_leaf=5, min_samples_split=30, n_estimators=500\n",
      "[CV 3/5; 36/243] END max_depth=5, max_features=10, min_samples_leaf=5, min_samples_split=30, n_estimators=500;, score=-42.010 total time=   2.7s\n",
      "[CV 2/5; 39/243] START max_depth=5, max_features=10, min_samples_leaf=10, min_samples_split=10, n_estimators=500\n",
      "[CV 2/5; 39/243] END max_depth=5, max_features=10, min_samples_leaf=10, min_samples_split=10, n_estimators=500;, score=-42.242 total time=   2.8s\n",
      "[CV 3/5; 41/243] START max_depth=5, max_features=10, min_samples_leaf=10, min_samples_split=20, n_estimators=300\n",
      "[CV 3/5; 41/243] END max_depth=5, max_features=10, min_samples_leaf=10, min_samples_split=20, n_estimators=300;, score=-43.147 total time=   1.6s\n",
      "[CV 1/5; 43/243] START max_depth=5, max_features=10, min_samples_leaf=10, min_samples_split=30, n_estimators=200\n",
      "[CV 1/5; 43/243] END max_depth=5, max_features=10, min_samples_leaf=10, min_samples_split=30, n_estimators=200;, score=-46.441 total time=   1.0s\n",
      "[CV 4/5; 43/243] START max_depth=5, max_features=10, min_samples_leaf=10, min_samples_split=30, n_estimators=200\n",
      "[CV 4/5; 43/243] END max_depth=5, max_features=10, min_samples_leaf=10, min_samples_split=30, n_estimators=200;, score=-45.784 total time=   1.2s\n",
      "[CV 1/5; 45/243] START max_depth=5, max_features=10, min_samples_leaf=10, min_samples_split=30, n_estimators=500\n",
      "[CV 1/5; 45/243] END max_depth=5, max_features=10, min_samples_leaf=10, min_samples_split=30, n_estimators=500;, score=-44.368 total time=   2.7s\n",
      "[CV 1/5; 47/243] START max_depth=5, max_features=10, min_samples_leaf=15, min_samples_split=10, n_estimators=300\n",
      "[CV 1/5; 47/243] END max_depth=5, max_features=10, min_samples_leaf=15, min_samples_split=10, n_estimators=300;, score=-45.379 total time=   1.6s\n",
      "[CV 4/5; 48/243] START max_depth=5, max_features=10, min_samples_leaf=15, min_samples_split=10, n_estimators=500\n",
      "[CV 4/5; 48/243] END max_depth=5, max_features=10, min_samples_leaf=15, min_samples_split=10, n_estimators=500;, score=-43.617 total time=   2.7s\n",
      "[CV 2/5; 51/243] START max_depth=5, max_features=10, min_samples_leaf=15, min_samples_split=20, n_estimators=500\n",
      "[CV 2/5; 51/243] END max_depth=5, max_features=10, min_samples_leaf=15, min_samples_split=20, n_estimators=500;, score=-42.332 total time=   2.6s\n",
      "[CV 1/5; 53/243] START max_depth=5, max_features=10, min_samples_leaf=15, min_samples_split=30, n_estimators=300\n",
      "[CV 1/5; 53/243] END max_depth=5, max_features=10, min_samples_leaf=15, min_samples_split=30, n_estimators=300;, score=-45.379 total time=   1.7s\n",
      "[CV 5/5; 54/243] START max_depth=5, max_features=10, min_samples_leaf=15, min_samples_split=30, n_estimators=500\n",
      "[CV 5/5; 54/243] END max_depth=5, max_features=10, min_samples_leaf=15, min_samples_split=30, n_estimators=500;, score=-44.003 total time=   2.7s\n",
      "[CV 1/5; 57/243] START max_depth=5, max_features=12, min_samples_leaf=5, min_samples_split=10, n_estimators=500\n",
      "[CV 1/5; 57/243] END max_depth=5, max_features=12, min_samples_leaf=5, min_samples_split=10, n_estimators=500;, score=-43.989 total time=   3.0s\n",
      "[CV 2/5; 59/243] START max_depth=5, max_features=12, min_samples_leaf=5, min_samples_split=20, n_estimators=300\n",
      "[CV 2/5; 59/243] END max_depth=5, max_features=12, min_samples_leaf=5, min_samples_split=20, n_estimators=300;, score=-43.081 total time=   2.0s\n",
      "[CV 1/5; 61/243] START max_depth=5, max_features=12, min_samples_leaf=5, min_samples_split=30, n_estimators=200\n",
      "[CV 1/5; 61/243] END max_depth=5, max_features=12, min_samples_leaf=5, min_samples_split=30, n_estimators=200;, score=-46.164 total time=   1.2s\n",
      "[CV 4/5; 61/243] START max_depth=5, max_features=12, min_samples_leaf=5, min_samples_split=30, n_estimators=200\n",
      "[CV 4/5; 61/243] END max_depth=5, max_features=12, min_samples_leaf=5, min_samples_split=30, n_estimators=200;, score=-45.476 total time=   1.2s\n",
      "[CV 1/5; 63/243] START max_depth=5, max_features=12, min_samples_leaf=5, min_samples_split=30, n_estimators=500\n",
      "[CV 1/5; 63/243] END max_depth=5, max_features=12, min_samples_leaf=5, min_samples_split=30, n_estimators=500;, score=-44.054 total time=   3.0s\n",
      "[CV 2/5; 65/243] START max_depth=5, max_features=12, min_samples_leaf=10, min_samples_split=10, n_estimators=300\n",
      "[CV 2/5; 65/243] END max_depth=5, max_features=12, min_samples_leaf=10, min_samples_split=10, n_estimators=300;, score=-43.165 total time=   1.8s\n",
      "[CV 4/5; 66/243] START max_depth=5, max_features=12, min_samples_leaf=10, min_samples_split=10, n_estimators=500\n",
      "[CV 4/5; 66/243] END max_depth=5, max_features=12, min_samples_leaf=10, min_samples_split=10, n_estimators=500;, score=-43.462 total time=   2.9s\n",
      "[CV 2/5; 69/243] START max_depth=5, max_features=12, min_samples_leaf=10, min_samples_split=20, n_estimators=500\n",
      "[CV 2/5; 69/243] END max_depth=5, max_features=12, min_samples_leaf=10, min_samples_split=20, n_estimators=500;, score=-42.237 total time=   3.0s\n",
      "[CV 4/5; 71/243] START max_depth=5, max_features=12, min_samples_leaf=10, min_samples_split=30, n_estimators=300\n",
      "[CV 4/5; 71/243] END max_depth=5, max_features=12, min_samples_leaf=10, min_samples_split=30, n_estimators=300;, score=-44.470 total time=   1.8s\n",
      "[CV 3/5; 73/243] START max_depth=5, max_features=12, min_samples_leaf=15, min_samples_split=10, n_estimators=200\n",
      "[CV 3/5; 73/243] END max_depth=5, max_features=12, min_samples_leaf=15, min_samples_split=10, n_estimators=200;, score=-44.065 total time=   1.2s\n",
      "[CV 2/5; 74/243] START max_depth=5, max_features=12, min_samples_leaf=15, min_samples_split=10, n_estimators=300\n",
      "[CV 2/5; 74/243] END max_depth=5, max_features=12, min_samples_leaf=15, min_samples_split=10, n_estimators=300;, score=-43.236 total time=   1.7s\n",
      "[CV 5/5; 75/243] START max_depth=5, max_features=12, min_samples_leaf=15, min_samples_split=10, n_estimators=500\n",
      "[CV 5/5; 75/243] END max_depth=5, max_features=12, min_samples_leaf=15, min_samples_split=10, n_estimators=500;, score=-43.907 total time=   2.9s\n",
      "[CV 2/5; 78/243] START max_depth=5, max_features=12, min_samples_leaf=15, min_samples_split=20, n_estimators=500\n",
      "[CV 2/5; 78/243] END max_depth=5, max_features=12, min_samples_leaf=15, min_samples_split=20, n_estimators=500;, score=-42.299 total time=   2.9s\n",
      "[CV 3/5; 80/243] START max_depth=5, max_features=12, min_samples_leaf=15, min_samples_split=30, n_estimators=300\n",
      "[CV 3/5; 80/243] END max_depth=5, max_features=12, min_samples_leaf=15, min_samples_split=30, n_estimators=300;, score=-43.047 total time=   1.9s\n",
      "[CV 2/5; 82/243] START max_depth=10, max_features=8, min_samples_leaf=5, min_samples_split=10, n_estimators=200\n",
      "[CV 2/5; 82/243] END max_depth=10, max_features=8, min_samples_leaf=5, min_samples_split=10, n_estimators=200;, score=-41.890 total time=   1.4s\n",
      "[CV 4/5; 82/243] START max_depth=10, max_features=8, min_samples_leaf=5, min_samples_split=10, n_estimators=200\n",
      "[CV 4/5; 82/243] END max_depth=10, max_features=8, min_samples_leaf=5, min_samples_split=10, n_estimators=200;, score=-43.256 total time=   1.5s\n",
      "[CV 2/5; 84/243] START max_depth=10, max_features=8, min_samples_leaf=5, min_samples_split=10, n_estimators=500\n",
      "[CV 2/5; 84/243] END max_depth=10, max_features=8, min_samples_leaf=5, min_samples_split=10, n_estimators=500;, score=-40.006 total time=   3.8s\n",
      "[CV 3/5; 86/243] START max_depth=10, max_features=8, min_samples_leaf=5, min_samples_split=20, n_estimators=300\n",
      "[CV 3/5; 86/243] END max_depth=10, max_features=8, min_samples_leaf=5, min_samples_split=20, n_estimators=300;, score=-40.851 total time=   2.2s\n",
      "[CV 1/5; 88/243] START max_depth=10, max_features=8, min_samples_leaf=5, min_samples_split=30, n_estimators=200\n",
      "[CV 1/5; 88/243] END max_depth=10, max_features=8, min_samples_leaf=5, min_samples_split=30, n_estimators=200;, score=-44.497 total time=   1.4s\n",
      "[CV 4/5; 88/243] START max_depth=10, max_features=8, min_samples_leaf=5, min_samples_split=30, n_estimators=200\n",
      "[CV 4/5; 88/243] END max_depth=10, max_features=8, min_samples_leaf=5, min_samples_split=30, n_estimators=200;, score=-43.435 total time=   1.5s\n",
      "[CV 5/5; 89/243] START max_depth=10, max_features=8, min_samples_leaf=5, min_samples_split=30, n_estimators=300\n",
      "[CV 5/5; 89/243] END max_depth=10, max_features=8, min_samples_leaf=5, min_samples_split=30, n_estimators=300;, score=-42.696 total time=   2.2s\n",
      "[CV 3/5; 91/243] START max_depth=10, max_features=8, min_samples_leaf=10, min_samples_split=10, n_estimators=200\n",
      "[CV 3/5; 91/243] END max_depth=10, max_features=8, min_samples_leaf=10, min_samples_split=10, n_estimators=200;, score=-42.290 total time=   1.6s\n",
      "[CV 1/5; 92/243] START max_depth=10, max_features=8, min_samples_leaf=10, min_samples_split=10, n_estimators=300\n",
      "[CV 1/5; 92/243] END max_depth=10, max_features=8, min_samples_leaf=10, min_samples_split=10, n_estimators=300;, score=-43.709 total time=   2.3s\n",
      "[CV 4/5; 93/243] START max_depth=10, max_features=8, min_samples_leaf=10, min_samples_split=10, n_estimators=500\n",
      "[CV 4/5; 93/243] END max_depth=10, max_features=8, min_samples_leaf=10, min_samples_split=10, n_estimators=500;, score=-41.405 total time=   3.6s\n",
      "[CV 2/5; 96/243] START max_depth=10, max_features=8, min_samples_leaf=10, min_samples_split=20, n_estimators=500\n",
      "[CV 2/5; 96/243] END max_depth=10, max_features=8, min_samples_leaf=10, min_samples_split=20, n_estimators=500;, score=-40.083 total time=   3.9s\n",
      "[CV 3/5; 98/243] START max_depth=10, max_features=8, min_samples_leaf=10, min_samples_split=30, n_estimators=300\n",
      "[CV 3/5; 98/243] END max_depth=10, max_features=8, min_samples_leaf=10, min_samples_split=30, n_estimators=300;, score=-41.251 total time=   2.3s\n",
      "[CV 1/5; 100/243] START max_depth=10, max_features=8, min_samples_leaf=15, min_samples_split=10, n_estimators=200\n",
      "[CV 1/5; 100/243] END max_depth=10, max_features=8, min_samples_leaf=15, min_samples_split=10, n_estimators=200;, score=-44.831 total time=   1.6s\n",
      "[CV 4/5; 100/243] START max_depth=10, max_features=8, min_samples_leaf=15, min_samples_split=10, n_estimators=200\n",
      "[CV 4/5; 100/243] END max_depth=10, max_features=8, min_samples_leaf=15, min_samples_split=10, n_estimators=200;, score=-43.901 total time=   1.5s\n",
      "[CV 5/5; 101/243] START max_depth=10, max_features=8, min_samples_leaf=15, min_samples_split=10, n_estimators=300\n",
      "[CV 5/5; 101/243] END max_depth=10, max_features=8, min_samples_leaf=15, min_samples_split=10, n_estimators=300;, score=-43.205 total time=   2.5s\n",
      "[CV 3/5; 103/243] START max_depth=10, max_features=8, min_samples_leaf=15, min_samples_split=20, n_estimators=200\n",
      "[CV 3/5; 103/243] END max_depth=10, max_features=8, min_samples_leaf=15, min_samples_split=20, n_estimators=200;, score=-42.526 total time=   1.9s\n",
      "[CV 1/5; 104/243] START max_depth=10, max_features=8, min_samples_leaf=15, min_samples_split=20, n_estimators=300\n",
      "[CV 1/5; 104/243] END max_depth=10, max_features=8, min_samples_leaf=15, min_samples_split=20, n_estimators=300;, score=-43.761 total time=   2.2s\n",
      "[CV 4/5; 105/243] START max_depth=10, max_features=8, min_samples_leaf=15, min_samples_split=20, n_estimators=500\n",
      "[CV 4/5; 105/243] END max_depth=10, max_features=8, min_samples_leaf=15, min_samples_split=20, n_estimators=500;, score=-41.626 total time=   5.2s\n",
      "[CV 2/5; 1/243] START max_depth=5, max_features=8, min_samples_leaf=5, min_samples_split=10, n_estimators=200\n",
      "[CV 2/5; 1/243] END max_depth=5, max_features=8, min_samples_leaf=5, min_samples_split=10, n_estimators=200;, score=-44.602 total time=   1.0s\n",
      "[CV 2/5; 3/243] START max_depth=5, max_features=8, min_samples_leaf=5, min_samples_split=10, n_estimators=500\n",
      "[CV 2/5; 3/243] END max_depth=5, max_features=8, min_samples_leaf=5, min_samples_split=10, n_estimators=500;, score=-42.241 total time=   1.9s\n",
      "[CV 5/5; 4/243] START max_depth=5, max_features=8, min_samples_leaf=5, min_samples_split=20, n_estimators=200\n",
      "[CV 5/5; 4/243] END max_depth=5, max_features=8, min_samples_leaf=5, min_samples_split=20, n_estimators=200;, score=-46.619 total time=   0.9s\n",
      "[CV 3/5; 6/243] START max_depth=5, max_features=8, min_samples_leaf=5, min_samples_split=20, n_estimators=500\n",
      "[CV 3/5; 6/243] END max_depth=5, max_features=8, min_samples_leaf=5, min_samples_split=20, n_estimators=500;, score=-42.053 total time=   2.5s\n",
      "[CV 5/5; 8/243] START max_depth=5, max_features=8, min_samples_leaf=5, min_samples_split=30, n_estimators=300\n",
      "[CV 5/5; 8/243] END max_depth=5, max_features=8, min_samples_leaf=5, min_samples_split=30, n_estimators=300;, score=-45.273 total time=   1.6s\n",
      "[CV 3/5; 10/243] START max_depth=5, max_features=8, min_samples_leaf=10, min_samples_split=10, n_estimators=200\n",
      "[CV 3/5; 10/243] END max_depth=5, max_features=8, min_samples_leaf=10, min_samples_split=10, n_estimators=200;, score=-44.577 total time=   0.9s\n",
      "[CV 1/5; 11/243] START max_depth=5, max_features=8, min_samples_leaf=10, min_samples_split=10, n_estimators=300\n",
      "[CV 1/5; 11/243] END max_depth=5, max_features=8, min_samples_leaf=10, min_samples_split=10, n_estimators=300;, score=-45.421 total time=   1.7s\n",
      "[CV 5/5; 12/243] START max_depth=5, max_features=8, min_samples_leaf=10, min_samples_split=10, n_estimators=500\n",
      "[CV 5/5; 12/243] END max_depth=5, max_features=8, min_samples_leaf=10, min_samples_split=10, n_estimators=500;, score=-44.000 total time=   2.2s\n",
      "[CV 2/5; 15/243] START max_depth=5, max_features=8, min_samples_leaf=10, min_samples_split=20, n_estimators=500\n",
      "[CV 2/5; 15/243] END max_depth=5, max_features=8, min_samples_leaf=10, min_samples_split=20, n_estimators=500;, score=-42.401 total time=   2.2s\n",
      "[CV 5/5; 17/243] START max_depth=5, max_features=8, min_samples_leaf=10, min_samples_split=30, n_estimators=300\n",
      "[CV 5/5; 17/243] END max_depth=5, max_features=8, min_samples_leaf=10, min_samples_split=30, n_estimators=300;, score=-45.360 total time=   1.2s\n",
      "[CV 2/5; 19/243] START max_depth=5, max_features=8, min_samples_leaf=15, min_samples_split=10, n_estimators=200\n",
      "[CV 2/5; 19/243] END max_depth=5, max_features=8, min_samples_leaf=15, min_samples_split=10, n_estimators=200;, score=-44.659 total time=   0.9s\n",
      "[CV 5/5; 19/243] START max_depth=5, max_features=8, min_samples_leaf=15, min_samples_split=10, n_estimators=200\n",
      "[CV 5/5; 19/243] END max_depth=5, max_features=8, min_samples_leaf=15, min_samples_split=10, n_estimators=200;, score=-46.814 total time=   0.8s\n",
      "[CV 3/5; 21/243] START max_depth=5, max_features=8, min_samples_leaf=15, min_samples_split=10, n_estimators=500\n",
      "[CV 3/5; 21/243] END max_depth=5, max_features=8, min_samples_leaf=15, min_samples_split=10, n_estimators=500;, score=-42.273 total time=   2.1s\n",
      "[CV 4/5; 23/243] START max_depth=5, max_features=8, min_samples_leaf=15, min_samples_split=20, n_estimators=300\n",
      "[CV 4/5; 23/243] END max_depth=5, max_features=8, min_samples_leaf=15, min_samples_split=20, n_estimators=300;, score=-44.933 total time=   1.2s\n",
      "[CV 2/5; 25/243] START max_depth=5, max_features=8, min_samples_leaf=15, min_samples_split=30, n_estimators=200\n",
      "[CV 2/5; 25/243] END max_depth=5, max_features=8, min_samples_leaf=15, min_samples_split=30, n_estimators=200;, score=-44.659 total time=   0.9s\n",
      "[CV 5/5; 25/243] START max_depth=5, max_features=8, min_samples_leaf=15, min_samples_split=30, n_estimators=200\n",
      "[CV 5/5; 25/243] END max_depth=5, max_features=8, min_samples_leaf=15, min_samples_split=30, n_estimators=200;, score=-46.814 total time=   0.9s\n",
      "[CV 1/5; 27/243] START max_depth=5, max_features=8, min_samples_leaf=15, min_samples_split=30, n_estimators=500\n",
      "[CV 1/5; 27/243] END max_depth=5, max_features=8, min_samples_leaf=15, min_samples_split=30, n_estimators=500;, score=-44.454 total time=   2.2s\n",
      "[CV 2/5; 29/243] START max_depth=5, max_features=10, min_samples_leaf=5, min_samples_split=10, n_estimators=300\n",
      "[CV 2/5; 29/243] END max_depth=5, max_features=10, min_samples_leaf=5, min_samples_split=10, n_estimators=300;, score=-43.094 total time=   1.7s\n",
      "[CV 5/5; 30/243] START max_depth=5, max_features=10, min_samples_leaf=5, min_samples_split=10, n_estimators=500\n",
      "[CV 5/5; 30/243] END max_depth=5, max_features=10, min_samples_leaf=5, min_samples_split=10, n_estimators=500;, score=-43.772 total time=   3.3s\n",
      "[CV 3/5; 33/243] START max_depth=5, max_features=10, min_samples_leaf=5, min_samples_split=20, n_estimators=500\n",
      "[CV 3/5; 33/243] END max_depth=5, max_features=10, min_samples_leaf=5, min_samples_split=20, n_estimators=500;, score=-42.009 total time=   2.7s\n",
      "[CV 4/5; 35/243] START max_depth=5, max_features=10, min_samples_leaf=5, min_samples_split=30, n_estimators=300\n",
      "[CV 4/5; 35/243] END max_depth=5, max_features=10, min_samples_leaf=5, min_samples_split=30, n_estimators=300;, score=-44.587 total time=   1.6s\n",
      "[CV 2/5; 37/243] START max_depth=5, max_features=10, min_samples_leaf=10, min_samples_split=10, n_estimators=200\n",
      "[CV 2/5; 37/243] END max_depth=5, max_features=10, min_samples_leaf=10, min_samples_split=10, n_estimators=200;, score=-44.354 total time=   1.0s\n",
      "[CV 5/5; 37/243] START max_depth=5, max_features=10, min_samples_leaf=10, min_samples_split=10, n_estimators=200\n",
      "[CV 5/5; 37/243] END max_depth=5, max_features=10, min_samples_leaf=10, min_samples_split=10, n_estimators=200;, score=-46.472 total time=   1.1s\n",
      "[CV 5/5; 38/243] START max_depth=5, max_features=10, min_samples_leaf=10, min_samples_split=10, n_estimators=300\n",
      "[CV 5/5; 38/243] END max_depth=5, max_features=10, min_samples_leaf=10, min_samples_split=10, n_estimators=300;, score=-45.160 total time=   1.7s\n",
      "[CV 3/5; 40/243] START max_depth=5, max_features=10, min_samples_leaf=10, min_samples_split=20, n_estimators=200\n",
      "[CV 3/5; 40/243] END max_depth=5, max_features=10, min_samples_leaf=10, min_samples_split=20, n_estimators=200;, score=-44.234 total time=   1.1s\n",
      "[CV 2/5; 41/243] START max_depth=5, max_features=10, min_samples_leaf=10, min_samples_split=20, n_estimators=300\n",
      "[CV 2/5; 41/243] END max_depth=5, max_features=10, min_samples_leaf=10, min_samples_split=20, n_estimators=300;, score=-43.260 total time=   1.6s\n",
      "[CV 4/5; 42/243] START max_depth=5, max_features=10, min_samples_leaf=10, min_samples_split=20, n_estimators=500\n",
      "[CV 4/5; 42/243] END max_depth=5, max_features=10, min_samples_leaf=10, min_samples_split=20, n_estimators=500;, score=-43.553 total time=   2.7s\n",
      "[CV 3/5; 45/243] START max_depth=5, max_features=10, min_samples_leaf=10, min_samples_split=30, n_estimators=500\n",
      "[CV 3/5; 45/243] END max_depth=5, max_features=10, min_samples_leaf=10, min_samples_split=30, n_estimators=500;, score=-42.081 total time=   2.8s\n",
      "[CV 4/5; 47/243] START max_depth=5, max_features=10, min_samples_leaf=15, min_samples_split=10, n_estimators=300\n",
      "[CV 4/5; 47/243] END max_depth=5, max_features=10, min_samples_leaf=15, min_samples_split=10, n_estimators=300;, score=-44.661 total time=   1.6s\n",
      "[CV 2/5; 49/243] START max_depth=5, max_features=10, min_samples_leaf=15, min_samples_split=20, n_estimators=200\n",
      "[CV 2/5; 49/243] END max_depth=5, max_features=10, min_samples_leaf=15, min_samples_split=20, n_estimators=200;, score=-44.403 total time=   1.1s\n",
      "[CV 5/5; 49/243] START max_depth=5, max_features=10, min_samples_leaf=15, min_samples_split=20, n_estimators=200\n",
      "[CV 5/5; 49/243] END max_depth=5, max_features=10, min_samples_leaf=15, min_samples_split=20, n_estimators=200;, score=-46.500 total time=   1.1s\n",
      "[CV 1/5; 51/243] START max_depth=5, max_features=10, min_samples_leaf=15, min_samples_split=20, n_estimators=500\n",
      "[CV 1/5; 51/243] END max_depth=5, max_features=10, min_samples_leaf=15, min_samples_split=20, n_estimators=500;, score=-44.386 total time=   2.7s\n",
      "[CV 3/5; 53/243] START max_depth=5, max_features=10, min_samples_leaf=15, min_samples_split=30, n_estimators=300\n",
      "[CV 3/5; 53/243] END max_depth=5, max_features=10, min_samples_leaf=15, min_samples_split=30, n_estimators=300;, score=-43.140 total time=   1.7s\n",
      "[CV 1/5; 55/243] START max_depth=5, max_features=12, min_samples_leaf=5, min_samples_split=10, n_estimators=200\n",
      "[CV 1/5; 55/243] END max_depth=5, max_features=12, min_samples_leaf=5, min_samples_split=10, n_estimators=200;, score=-46.160 total time=   1.5s\n",
      "[CV 5/5; 55/243] START max_depth=5, max_features=12, min_samples_leaf=5, min_samples_split=10, n_estimators=200\n",
      "[CV 5/5; 55/243] END max_depth=5, max_features=12, min_samples_leaf=5, min_samples_split=10, n_estimators=200;, score=-46.130 total time=   1.1s\n",
      "[CV 3/5; 57/243] START max_depth=5, max_features=12, min_samples_leaf=5, min_samples_split=10, n_estimators=500\n",
      "[CV 3/5; 57/243] END max_depth=5, max_features=12, min_samples_leaf=5, min_samples_split=10, n_estimators=500;, score=-41.871 total time=   3.1s\n",
      "[CV 4/5; 59/243] START max_depth=5, max_features=12, min_samples_leaf=5, min_samples_split=20, n_estimators=300\n",
      "[CV 4/5; 59/243] END max_depth=5, max_features=12, min_samples_leaf=5, min_samples_split=20, n_estimators=300;, score=-44.414 total time=   1.7s\n",
      "[CV 5/5; 60/243] START max_depth=5, max_features=12, min_samples_leaf=5, min_samples_split=20, n_estimators=500\n",
      "[CV 5/5; 60/243] END max_depth=5, max_features=12, min_samples_leaf=5, min_samples_split=20, n_estimators=500;, score=-43.713 total time=   2.9s\n",
      "[CV 3/5; 63/243] START max_depth=5, max_features=12, min_samples_leaf=5, min_samples_split=30, n_estimators=500\n",
      "[CV 3/5; 63/243] END max_depth=5, max_features=12, min_samples_leaf=5, min_samples_split=30, n_estimators=500;, score=-41.929 total time=   2.8s\n",
      "[CV 4/5; 65/243] START max_depth=5, max_features=12, min_samples_leaf=10, min_samples_split=10, n_estimators=300\n",
      "[CV 4/5; 65/243] END max_depth=5, max_features=12, min_samples_leaf=10, min_samples_split=10, n_estimators=300;, score=-44.454 total time=   1.7s\n",
      "[CV 2/5; 67/243] START max_depth=5, max_features=12, min_samples_leaf=10, min_samples_split=20, n_estimators=200\n",
      "[CV 2/5; 67/243] END max_depth=5, max_features=12, min_samples_leaf=10, min_samples_split=20, n_estimators=200;, score=-44.200 total time=   1.2s\n",
      "[CV 5/5; 67/243] START max_depth=5, max_features=12, min_samples_leaf=10, min_samples_split=20, n_estimators=200\n",
      "[CV 5/5; 67/243] END max_depth=5, max_features=12, min_samples_leaf=10, min_samples_split=20, n_estimators=200;, score=-46.141 total time=   1.2s\n",
      "[CV 1/5; 69/243] START max_depth=5, max_features=12, min_samples_leaf=10, min_samples_split=20, n_estimators=500\n",
      "[CV 1/5; 69/243] END max_depth=5, max_features=12, min_samples_leaf=10, min_samples_split=20, n_estimators=500;, score=-44.221 total time=   2.8s\n",
      "[CV 2/5; 71/243] START max_depth=5, max_features=12, min_samples_leaf=10, min_samples_split=30, n_estimators=300\n",
      "[CV 2/5; 71/243] END max_depth=5, max_features=12, min_samples_leaf=10, min_samples_split=30, n_estimators=300;, score=-43.134 total time=   1.8s\n",
      "[CV 5/5; 72/243] START max_depth=5, max_features=12, min_samples_leaf=10, min_samples_split=30, n_estimators=500\n",
      "[CV 5/5; 72/243] END max_depth=5, max_features=12, min_samples_leaf=10, min_samples_split=30, n_estimators=500;, score=-43.797 total time=   2.9s\n",
      "[CV 3/5; 75/243] START max_depth=5, max_features=12, min_samples_leaf=15, min_samples_split=10, n_estimators=500\n",
      "[CV 3/5; 75/243] END max_depth=5, max_features=12, min_samples_leaf=15, min_samples_split=10, n_estimators=500;, score=-42.049 total time=   3.0s\n",
      "[CV 5/5; 77/243] START max_depth=5, max_features=12, min_samples_leaf=15, min_samples_split=20, n_estimators=300\n",
      "[CV 5/5; 77/243] END max_depth=5, max_features=12, min_samples_leaf=15, min_samples_split=20, n_estimators=300;, score=-45.001 total time=   1.8s\n",
      "[CV 3/5; 79/243] START max_depth=5, max_features=12, min_samples_leaf=15, min_samples_split=30, n_estimators=200\n",
      "[CV 3/5; 79/243] END max_depth=5, max_features=12, min_samples_leaf=15, min_samples_split=30, n_estimators=200;, score=-44.065 total time=   1.2s\n",
      "[CV 2/5; 80/243] START max_depth=5, max_features=12, min_samples_leaf=15, min_samples_split=30, n_estimators=300\n",
      "[CV 2/5; 80/243] END max_depth=5, max_features=12, min_samples_leaf=15, min_samples_split=30, n_estimators=300;, score=-43.236 total time=   1.6s\n",
      "[CV 4/5; 81/243] START max_depth=5, max_features=12, min_samples_leaf=15, min_samples_split=30, n_estimators=500\n",
      "[CV 4/5; 81/243] END max_depth=5, max_features=12, min_samples_leaf=15, min_samples_split=30, n_estimators=500;, score=-43.501 total time=   3.1s\n",
      "[CV 1/5; 84/243] START max_depth=10, max_features=8, min_samples_leaf=5, min_samples_split=10, n_estimators=500\n",
      "[CV 1/5; 84/243] END max_depth=10, max_features=8, min_samples_leaf=5, min_samples_split=10, n_estimators=500;, score=-42.376 total time=   3.9s\n",
      "[CV 2/5; 86/243] START max_depth=10, max_features=8, min_samples_leaf=5, min_samples_split=20, n_estimators=300\n",
      "[CV 2/5; 86/243] END max_depth=10, max_features=8, min_samples_leaf=5, min_samples_split=20, n_estimators=300;, score=-40.875 total time=   2.3s\n",
      "[CV 5/5; 87/243] START max_depth=10, max_features=8, min_samples_leaf=5, min_samples_split=20, n_estimators=500\n",
      "[CV 5/5; 87/243] END max_depth=10, max_features=8, min_samples_leaf=5, min_samples_split=20, n_estimators=500;, score=-41.690 total time=   3.8s\n",
      "[CV 3/5; 90/243] START max_depth=10, max_features=8, min_samples_leaf=5, min_samples_split=30, n_estimators=500\n",
      "[CV 3/5; 90/243] END max_depth=10, max_features=8, min_samples_leaf=5, min_samples_split=30, n_estimators=500;, score=-40.121 total time=   4.0s\n",
      "[CV 4/5; 92/243] START max_depth=10, max_features=8, min_samples_leaf=10, min_samples_split=10, n_estimators=300\n",
      "[CV 4/5; 92/243] END max_depth=10, max_features=8, min_samples_leaf=10, min_samples_split=10, n_estimators=300;, score=-42.533 total time=   2.3s\n",
      "[CV 2/5; 94/243] START max_depth=10, max_features=8, min_samples_leaf=10, min_samples_split=20, n_estimators=200\n",
      "[CV 2/5; 94/243] END max_depth=10, max_features=8, min_samples_leaf=10, min_samples_split=20, n_estimators=200;, score=-42.051 total time=   1.4s\n",
      "[CV 5/5; 94/243] START max_depth=10, max_features=8, min_samples_leaf=10, min_samples_split=20, n_estimators=200\n",
      "[CV 5/5; 94/243] END max_depth=10, max_features=8, min_samples_leaf=10, min_samples_split=20, n_estimators=200;, score=-44.311 total time=   1.4s\n",
      "[CV 1/5; 96/243] START max_depth=10, max_features=8, min_samples_leaf=10, min_samples_split=20, n_estimators=500\n",
      "[CV 1/5; 96/243] END max_depth=10, max_features=8, min_samples_leaf=10, min_samples_split=20, n_estimators=500;, score=-42.782 total time=   3.8s\n",
      "[CV 2/5; 98/243] START max_depth=10, max_features=8, min_samples_leaf=10, min_samples_split=30, n_estimators=300\n",
      "[CV 2/5; 98/243] END max_depth=10, max_features=8, min_samples_leaf=10, min_samples_split=30, n_estimators=300;, score=-41.140 total time=   2.3s\n",
      "[CV 5/5; 99/243] START max_depth=10, max_features=8, min_samples_leaf=10, min_samples_split=30, n_estimators=500\n",
      "[CV 5/5; 99/243] END max_depth=10, max_features=8, min_samples_leaf=10, min_samples_split=30, n_estimators=500;, score=-41.906 total time=   3.7s\n",
      "[CV 3/5; 102/243] START max_depth=10, max_features=8, min_samples_leaf=15, min_samples_split=10, n_estimators=500\n",
      "[CV 3/5; 102/243] END max_depth=10, max_features=8, min_samples_leaf=15, min_samples_split=10, n_estimators=500;, score=-40.529 total time=   4.9s\n",
      "[CV 4/5; 104/243] START max_depth=10, max_features=8, min_samples_leaf=15, min_samples_split=20, n_estimators=300\n",
      "[CV 4/5; 104/243] END max_depth=10, max_features=8, min_samples_leaf=15, min_samples_split=20, n_estimators=300;, score=-42.704 total time=   2.1s\n",
      "[CV 2/5; 106/243] START max_depth=10, max_features=8, min_samples_leaf=15, min_samples_split=30, n_estimators=200\n",
      "[CV 2/5; 106/243] END max_depth=10, max_features=8, min_samples_leaf=15, min_samples_split=30, n_estimators=200;, score=-42.444 total time=   2.1s\n",
      "[CV 1/5; 2/243] START max_depth=5, max_features=8, min_samples_leaf=5, min_samples_split=10, n_estimators=300\n",
      "[CV 1/5; 2/243] END max_depth=5, max_features=8, min_samples_leaf=5, min_samples_split=10, n_estimators=300;, score=-45.429 total time=   1.3s\n",
      "[CV 4/5; 3/243] START max_depth=5, max_features=8, min_samples_leaf=5, min_samples_split=10, n_estimators=500\n",
      "[CV 4/5; 3/243] END max_depth=5, max_features=8, min_samples_leaf=5, min_samples_split=10, n_estimators=500;, score=-43.570 total time=   2.0s\n",
      "[CV 1/5; 6/243] START max_depth=5, max_features=8, min_samples_leaf=5, min_samples_split=20, n_estimators=500\n",
      "[CV 1/5; 6/243] END max_depth=5, max_features=8, min_samples_leaf=5, min_samples_split=20, n_estimators=500;, score=-44.253 total time=   2.4s\n",
      "[CV 2/5; 8/243] START max_depth=5, max_features=8, min_samples_leaf=5, min_samples_split=30, n_estimators=300\n",
      "[CV 2/5; 8/243] END max_depth=5, max_features=8, min_samples_leaf=5, min_samples_split=30, n_estimators=300;, score=-43.453 total time=   1.4s\n",
      "[CV 5/5; 9/243] START max_depth=5, max_features=8, min_samples_leaf=5, min_samples_split=30, n_estimators=500\n",
      "[CV 5/5; 9/243] END max_depth=5, max_features=8, min_samples_leaf=5, min_samples_split=30, n_estimators=500;, score=-43.950 total time=   2.4s\n",
      "[CV 3/5; 12/243] START max_depth=5, max_features=8, min_samples_leaf=10, min_samples_split=10, n_estimators=500\n",
      "[CV 3/5; 12/243] END max_depth=5, max_features=8, min_samples_leaf=10, min_samples_split=10, n_estimators=500;, score=-42.210 total time=   2.4s\n",
      "[CV 4/5; 14/243] START max_depth=5, max_features=8, min_samples_leaf=10, min_samples_split=20, n_estimators=300\n",
      "[CV 4/5; 14/243] END max_depth=5, max_features=8, min_samples_leaf=10, min_samples_split=20, n_estimators=300;, score=-44.876 total time=   1.3s\n",
      "[CV 2/5; 16/243] START max_depth=5, max_features=8, min_samples_leaf=10, min_samples_split=30, n_estimators=200\n",
      "[CV 2/5; 16/243] END max_depth=5, max_features=8, min_samples_leaf=10, min_samples_split=30, n_estimators=200;, score=-44.628 total time=   0.8s\n",
      "[CV 5/5; 16/243] START max_depth=5, max_features=8, min_samples_leaf=10, min_samples_split=30, n_estimators=200\n",
      "[CV 5/5; 16/243] END max_depth=5, max_features=8, min_samples_leaf=10, min_samples_split=30, n_estimators=200;, score=-46.712 total time=   0.8s\n",
      "[CV 1/5; 18/243] START max_depth=5, max_features=8, min_samples_leaf=10, min_samples_split=30, n_estimators=500\n",
      "[CV 1/5; 18/243] END max_depth=5, max_features=8, min_samples_leaf=10, min_samples_split=30, n_estimators=500;, score=-44.406 total time=   2.1s\n",
      "[CV 2/5; 20/243] START max_depth=5, max_features=8, min_samples_leaf=15, min_samples_split=10, n_estimators=300\n",
      "[CV 2/5; 20/243] END max_depth=5, max_features=8, min_samples_leaf=15, min_samples_split=10, n_estimators=300;, score=-43.497 total time=   1.2s\n",
      "[CV 4/5; 21/243] START max_depth=5, max_features=8, min_samples_leaf=15, min_samples_split=10, n_estimators=500\n",
      "[CV 4/5; 21/243] END max_depth=5, max_features=8, min_samples_leaf=15, min_samples_split=10, n_estimators=500;, score=-43.763 total time=   2.2s\n",
      "[CV 3/5; 24/243] START max_depth=5, max_features=8, min_samples_leaf=15, min_samples_split=20, n_estimators=500\n",
      "[CV 3/5; 24/243] END max_depth=5, max_features=8, min_samples_leaf=15, min_samples_split=20, n_estimators=500;, score=-42.273 total time=   2.2s\n",
      "[CV 4/5; 26/243] START max_depth=5, max_features=8, min_samples_leaf=15, min_samples_split=30, n_estimators=300\n",
      "[CV 4/5; 26/243] END max_depth=5, max_features=8, min_samples_leaf=15, min_samples_split=30, n_estimators=300;, score=-44.933 total time=   1.4s\n",
      "[CV 2/5; 28/243] START max_depth=5, max_features=10, min_samples_leaf=5, min_samples_split=10, n_estimators=200\n",
      "[CV 2/5; 28/243] END max_depth=5, max_features=10, min_samples_leaf=5, min_samples_split=10, n_estimators=200;, score=-44.257 total time=   1.1s\n",
      "[CV 5/5; 28/243] START max_depth=5, max_features=10, min_samples_leaf=5, min_samples_split=10, n_estimators=200\n",
      "[CV 5/5; 28/243] END max_depth=5, max_features=10, min_samples_leaf=5, min_samples_split=10, n_estimators=200;, score=-46.336 total time=   1.1s\n",
      "[CV 3/5; 30/243] START max_depth=5, max_features=10, min_samples_leaf=5, min_samples_split=10, n_estimators=500\n",
      "[CV 3/5; 30/243] END max_depth=5, max_features=10, min_samples_leaf=5, min_samples_split=10, n_estimators=500;, score=-41.985 total time=   3.4s\n",
      "[CV 2/5; 32/243] START max_depth=5, max_features=10, min_samples_leaf=5, min_samples_split=20, n_estimators=300\n",
      "[CV 2/5; 32/243] END max_depth=5, max_features=10, min_samples_leaf=5, min_samples_split=20, n_estimators=300;, score=-43.203 total time=   1.6s\n",
      "[CV 1/5; 34/243] START max_depth=5, max_features=10, min_samples_leaf=5, min_samples_split=30, n_estimators=200\n",
      "[CV 1/5; 34/243] END max_depth=5, max_features=10, min_samples_leaf=5, min_samples_split=30, n_estimators=200;, score=-46.398 total time=   1.0s\n",
      "[CV 4/5; 34/243] START max_depth=5, max_features=10, min_samples_leaf=5, min_samples_split=30, n_estimators=200\n",
      "[CV 4/5; 34/243] END max_depth=5, max_features=10, min_samples_leaf=5, min_samples_split=30, n_estimators=200;, score=-45.758 total time=   1.1s\n",
      "[CV 1/5; 36/243] START max_depth=5, max_features=10, min_samples_leaf=5, min_samples_split=30, n_estimators=500\n",
      "[CV 1/5; 36/243] END max_depth=5, max_features=10, min_samples_leaf=5, min_samples_split=30, n_estimators=500;, score=-44.251 total time=   2.6s\n",
      "[CV 2/5; 38/243] START max_depth=5, max_features=10, min_samples_leaf=10, min_samples_split=10, n_estimators=300\n",
      "[CV 2/5; 38/243] END max_depth=5, max_features=10, min_samples_leaf=10, min_samples_split=10, n_estimators=300;, score=-43.260 total time=   1.5s\n",
      "[CV 4/5; 39/243] START max_depth=5, max_features=10, min_samples_leaf=10, min_samples_split=10, n_estimators=500\n",
      "[CV 4/5; 39/243] END max_depth=5, max_features=10, min_samples_leaf=10, min_samples_split=10, n_estimators=500;, score=-43.553 total time=   2.7s\n",
      "[CV 3/5; 42/243] START max_depth=5, max_features=10, min_samples_leaf=10, min_samples_split=20, n_estimators=500\n",
      "[CV 3/5; 42/243] END max_depth=5, max_features=10, min_samples_leaf=10, min_samples_split=20, n_estimators=500;, score=-42.111 total time=   2.6s\n",
      "[CV 4/5; 44/243] START max_depth=5, max_features=10, min_samples_leaf=10, min_samples_split=30, n_estimators=300\n",
      "[CV 4/5; 44/243] END max_depth=5, max_features=10, min_samples_leaf=10, min_samples_split=30, n_estimators=300;, score=-44.657 total time=   1.6s\n",
      "[CV 2/5; 46/243] START max_depth=5, max_features=10, min_samples_leaf=15, min_samples_split=10, n_estimators=200\n",
      "[CV 2/5; 46/243] END max_depth=5, max_features=10, min_samples_leaf=15, min_samples_split=10, n_estimators=200;, score=-44.403 total time=   1.1s\n",
      "[CV 5/5; 46/243] START max_depth=5, max_features=10, min_samples_leaf=15, min_samples_split=10, n_estimators=200\n",
      "[CV 5/5; 46/243] END max_depth=5, max_features=10, min_samples_leaf=15, min_samples_split=10, n_estimators=200;, score=-46.500 total time=   1.1s\n",
      "[CV 1/5; 48/243] START max_depth=5, max_features=10, min_samples_leaf=15, min_samples_split=10, n_estimators=500\n",
      "[CV 1/5; 48/243] END max_depth=5, max_features=10, min_samples_leaf=15, min_samples_split=10, n_estimators=500;, score=-44.386 total time=   2.7s\n",
      "[CV 2/5; 50/243] START max_depth=5, max_features=10, min_samples_leaf=15, min_samples_split=20, n_estimators=300\n",
      "[CV 2/5; 50/243] END max_depth=5, max_features=10, min_samples_leaf=15, min_samples_split=20, n_estimators=300;, score=-43.312 total time=   1.6s\n",
      "[CV 5/5; 51/243] START max_depth=5, max_features=10, min_samples_leaf=15, min_samples_split=20, n_estimators=500\n",
      "[CV 5/5; 51/243] END max_depth=5, max_features=10, min_samples_leaf=15, min_samples_split=20, n_estimators=500;, score=-44.003 total time=   2.6s\n",
      "[CV 2/5; 54/243] START max_depth=5, max_features=10, min_samples_leaf=15, min_samples_split=30, n_estimators=500\n",
      "[CV 2/5; 54/243] END max_depth=5, max_features=10, min_samples_leaf=15, min_samples_split=30, n_estimators=500;, score=-42.332 total time=   2.7s\n",
      "[CV 1/5; 56/243] START max_depth=5, max_features=12, min_samples_leaf=5, min_samples_split=10, n_estimators=300\n",
      "[CV 1/5; 56/243] END max_depth=5, max_features=12, min_samples_leaf=5, min_samples_split=10, n_estimators=300;, score=-45.038 total time=   1.8s\n",
      "[CV 4/5; 57/243] START max_depth=5, max_features=12, min_samples_leaf=5, min_samples_split=10, n_estimators=500\n",
      "[CV 4/5; 57/243] END max_depth=5, max_features=12, min_samples_leaf=5, min_samples_split=10, n_estimators=500;, score=-43.235 total time=   3.0s\n",
      "[CV 2/5; 60/243] START max_depth=5, max_features=12, min_samples_leaf=5, min_samples_split=20, n_estimators=500\n",
      "[CV 2/5; 60/243] END max_depth=5, max_features=12, min_samples_leaf=5, min_samples_split=20, n_estimators=500;, score=-42.091 total time=   2.8s\n",
      "[CV 3/5; 62/243] START max_depth=5, max_features=12, min_samples_leaf=5, min_samples_split=30, n_estimators=300\n",
      "[CV 3/5; 62/243] END max_depth=5, max_features=12, min_samples_leaf=5, min_samples_split=30, n_estimators=300;, score=-42.954 total time=   1.8s\n",
      "[CV 1/5; 64/243] START max_depth=5, max_features=12, min_samples_leaf=10, min_samples_split=10, n_estimators=200\n",
      "[CV 1/5; 64/243] END max_depth=5, max_features=12, min_samples_leaf=10, min_samples_split=10, n_estimators=200;, score=-46.233 total time=   1.1s\n",
      "[CV 4/5; 64/243] START max_depth=5, max_features=12, min_samples_leaf=10, min_samples_split=10, n_estimators=200\n",
      "[CV 4/5; 64/243] END max_depth=5, max_features=12, min_samples_leaf=10, min_samples_split=10, n_estimators=200;, score=-45.511 total time=   1.2s\n",
      "[CV 5/5; 65/243] START max_depth=5, max_features=12, min_samples_leaf=10, min_samples_split=10, n_estimators=300\n",
      "[CV 5/5; 65/243] END max_depth=5, max_features=12, min_samples_leaf=10, min_samples_split=10, n_estimators=300;, score=-44.916 total time=   1.7s\n",
      "[CV 3/5; 67/243] START max_depth=5, max_features=12, min_samples_leaf=10, min_samples_split=20, n_estimators=200\n",
      "[CV 3/5; 67/243] END max_depth=5, max_features=12, min_samples_leaf=10, min_samples_split=20, n_estimators=200;, score=-44.045 total time=   1.2s\n",
      "[CV 2/5; 68/243] START max_depth=5, max_features=12, min_samples_leaf=10, min_samples_split=20, n_estimators=300\n",
      "[CV 2/5; 68/243] END max_depth=5, max_features=12, min_samples_leaf=10, min_samples_split=20, n_estimators=300;, score=-43.165 total time=   1.7s\n",
      "[CV 4/5; 69/243] START max_depth=5, max_features=12, min_samples_leaf=10, min_samples_split=20, n_estimators=500\n",
      "[CV 4/5; 69/243] END max_depth=5, max_features=12, min_samples_leaf=10, min_samples_split=20, n_estimators=500;, score=-43.462 total time=   2.9s\n",
      "[CV 2/5; 72/243] START max_depth=5, max_features=12, min_samples_leaf=10, min_samples_split=30, n_estimators=500\n",
      "[CV 2/5; 72/243] END max_depth=5, max_features=12, min_samples_leaf=10, min_samples_split=30, n_estimators=500;, score=-42.191 total time=   2.8s\n",
      "[CV 4/5; 74/243] START max_depth=5, max_features=12, min_samples_leaf=15, min_samples_split=10, n_estimators=300\n",
      "[CV 4/5; 74/243] END max_depth=5, max_features=12, min_samples_leaf=15, min_samples_split=10, n_estimators=300;, score=-44.521 total time=   1.8s\n",
      "[CV 2/5; 76/243] START max_depth=5, max_features=12, min_samples_leaf=15, min_samples_split=20, n_estimators=200\n",
      "[CV 2/5; 76/243] END max_depth=5, max_features=12, min_samples_leaf=15, min_samples_split=20, n_estimators=200;, score=-44.272 total time=   1.1s\n",
      "[CV 4/5; 76/243] START max_depth=5, max_features=12, min_samples_leaf=15, min_samples_split=20, n_estimators=200\n",
      "[CV 4/5; 76/243] END max_depth=5, max_features=12, min_samples_leaf=15, min_samples_split=20, n_estimators=200;, score=-45.538 total time=   1.1s\n",
      "[CV 4/5; 77/243] START max_depth=5, max_features=12, min_samples_leaf=15, min_samples_split=20, n_estimators=300\n",
      "[CV 4/5; 77/243] END max_depth=5, max_features=12, min_samples_leaf=15, min_samples_split=20, n_estimators=300;, score=-44.521 total time=   1.8s\n",
      "[CV 2/5; 79/243] START max_depth=5, max_features=12, min_samples_leaf=15, min_samples_split=30, n_estimators=200\n",
      "[CV 2/5; 79/243] END max_depth=5, max_features=12, min_samples_leaf=15, min_samples_split=30, n_estimators=200;, score=-44.272 total time=   1.2s\n",
      "[CV 5/5; 79/243] START max_depth=5, max_features=12, min_samples_leaf=15, min_samples_split=30, n_estimators=200\n",
      "[CV 5/5; 79/243] END max_depth=5, max_features=12, min_samples_leaf=15, min_samples_split=30, n_estimators=200;, score=-46.189 total time=   1.1s\n",
      "[CV 1/5; 81/243] START max_depth=5, max_features=12, min_samples_leaf=15, min_samples_split=30, n_estimators=500\n",
      "[CV 1/5; 81/243] END max_depth=5, max_features=12, min_samples_leaf=15, min_samples_split=30, n_estimators=500;, score=-44.214 total time=   2.9s\n",
      "[CV 1/5; 83/243] START max_depth=10, max_features=8, min_samples_leaf=5, min_samples_split=10, n_estimators=300\n",
      "[CV 1/5; 83/243] END max_depth=10, max_features=8, min_samples_leaf=5, min_samples_split=10, n_estimators=300;, score=-43.282 total time=   2.3s\n",
      "[CV 4/5; 84/243] START max_depth=10, max_features=8, min_samples_leaf=5, min_samples_split=10, n_estimators=500\n",
      "[CV 4/5; 84/243] END max_depth=10, max_features=8, min_samples_leaf=5, min_samples_split=10, n_estimators=500;, score=-40.977 total time=   3.7s\n",
      "[CV 2/5; 87/243] START max_depth=10, max_features=8, min_samples_leaf=5, min_samples_split=20, n_estimators=500\n",
      "[CV 2/5; 87/243] END max_depth=10, max_features=8, min_samples_leaf=5, min_samples_split=20, n_estimators=500;, score=-40.052 total time=   3.8s\n",
      "[CV 3/5; 89/243] START max_depth=10, max_features=8, min_samples_leaf=5, min_samples_split=30, n_estimators=300\n",
      "[CV 3/5; 89/243] END max_depth=10, max_features=8, min_samples_leaf=5, min_samples_split=30, n_estimators=300;, score=-40.992 total time=   2.2s\n",
      "[CV 1/5; 91/243] START max_depth=10, max_features=8, min_samples_leaf=10, min_samples_split=10, n_estimators=200\n",
      "[CV 1/5; 91/243] END max_depth=10, max_features=8, min_samples_leaf=10, min_samples_split=10, n_estimators=200;, score=-44.785 total time=   1.4s\n",
      "[CV 4/5; 91/243] START max_depth=10, max_features=8, min_samples_leaf=10, min_samples_split=10, n_estimators=200\n",
      "[CV 4/5; 91/243] END max_depth=10, max_features=8, min_samples_leaf=10, min_samples_split=10, n_estimators=200;, score=-43.677 total time=   1.5s\n",
      "[CV 5/5; 92/243] START max_depth=10, max_features=8, min_samples_leaf=10, min_samples_split=10, n_estimators=300\n",
      "[CV 5/5; 92/243] END max_depth=10, max_features=8, min_samples_leaf=10, min_samples_split=10, n_estimators=300;, score=-42.994 total time=   2.2s\n",
      "[CV 3/5; 94/243] START max_depth=10, max_features=8, min_samples_leaf=10, min_samples_split=20, n_estimators=200\n",
      "[CV 3/5; 94/243] END max_depth=10, max_features=8, min_samples_leaf=10, min_samples_split=20, n_estimators=200;, score=-42.290 total time=   1.4s\n",
      "[CV 1/5; 95/243] START max_depth=10, max_features=8, min_samples_leaf=10, min_samples_split=20, n_estimators=300\n",
      "[CV 1/5; 95/243] END max_depth=10, max_features=8, min_samples_leaf=10, min_samples_split=20, n_estimators=300;, score=-43.709 total time=   2.2s\n",
      "[CV 4/5; 96/243] START max_depth=10, max_features=8, min_samples_leaf=10, min_samples_split=20, n_estimators=500\n",
      "[CV 4/5; 96/243] END max_depth=10, max_features=8, min_samples_leaf=10, min_samples_split=20, n_estimators=500;, score=-41.405 total time=   3.7s\n",
      "[CV 1/5; 99/243] START max_depth=10, max_features=8, min_samples_leaf=10, min_samples_split=30, n_estimators=500\n",
      "[CV 1/5; 99/243] END max_depth=10, max_features=8, min_samples_leaf=10, min_samples_split=30, n_estimators=500;, score=-42.705 total time=   3.7s\n",
      "[CV 2/5; 101/243] START max_depth=10, max_features=8, min_samples_leaf=15, min_samples_split=10, n_estimators=300\n",
      "[CV 2/5; 101/243] END max_depth=10, max_features=8, min_samples_leaf=15, min_samples_split=10, n_estimators=300;, score=-41.311 total time=   2.2s\n",
      "[CV 4/5; 102/243] START max_depth=10, max_features=8, min_samples_leaf=15, min_samples_split=10, n_estimators=500\n",
      "[CV 4/5; 102/243] END max_depth=10, max_features=8, min_samples_leaf=15, min_samples_split=10, n_estimators=500;, score=-41.626 total time=   4.2s\n",
      "[CV 3/5; 105/243] START max_depth=10, max_features=8, min_samples_leaf=15, min_samples_split=20, n_estimators=500\n",
      "[CV 3/5; 105/243] END max_depth=10, max_features=8, min_samples_leaf=15, min_samples_split=20, n_estimators=500;, score=-40.529 total time=   5.3s\n",
      "[CV 1/5; 97/243] START max_depth=10, max_features=8, min_samples_leaf=10, min_samples_split=30, n_estimators=200\n",
      "[CV 1/5; 97/243] END max_depth=10, max_features=8, min_samples_leaf=10, min_samples_split=30, n_estimators=200;, score=-44.680 total time=   1.6s\n",
      "[CV 4/5; 97/243] START max_depth=10, max_features=8, min_samples_leaf=10, min_samples_split=30, n_estimators=200\n",
      "[CV 4/5; 97/243] END max_depth=10, max_features=8, min_samples_leaf=10, min_samples_split=30, n_estimators=200;, score=-43.703 total time=   1.5s\n",
      "[CV 5/5; 98/243] START max_depth=10, max_features=8, min_samples_leaf=10, min_samples_split=30, n_estimators=300\n",
      "[CV 5/5; 98/243] END max_depth=10, max_features=8, min_samples_leaf=10, min_samples_split=30, n_estimators=300;, score=-43.008 total time=   2.2s\n",
      "[CV 3/5; 100/243] START max_depth=10, max_features=8, min_samples_leaf=15, min_samples_split=10, n_estimators=200\n",
      "[CV 3/5; 100/243] END max_depth=10, max_features=8, min_samples_leaf=15, min_samples_split=10, n_estimators=200;, score=-42.526 total time=   1.6s\n",
      "[CV 1/5; 101/243] START max_depth=10, max_features=8, min_samples_leaf=15, min_samples_split=10, n_estimators=300\n",
      "[CV 1/5; 101/243] END max_depth=10, max_features=8, min_samples_leaf=15, min_samples_split=10, n_estimators=300;, score=-43.761 total time=   2.3s\n",
      "[CV 5/5; 102/243] START max_depth=10, max_features=8, min_samples_leaf=15, min_samples_split=10, n_estimators=500\n",
      "[CV 5/5; 102/243] END max_depth=10, max_features=8, min_samples_leaf=15, min_samples_split=10, n_estimators=500;, score=-42.072 total time=   4.0s\n",
      "[CV 2/5; 105/243] START max_depth=10, max_features=8, min_samples_leaf=15, min_samples_split=20, n_estimators=500\n",
      "[CV 2/5; 105/243] END max_depth=10, max_features=8, min_samples_leaf=15, min_samples_split=20, n_estimators=500;, score=-40.570 total time=   5.2s\n",
      "[CV 3/5; 107/243] START max_depth=10, max_features=8, min_samples_leaf=15, min_samples_split=30, n_estimators=300\n",
      "[CV 3/5; 107/243] END max_depth=10, max_features=8, min_samples_leaf=15, min_samples_split=30, n_estimators=300;, score=-41.444 total time=   2.7s\n",
      "[CV 1/5; 109/243] START max_depth=10, max_features=10, min_samples_leaf=5, min_samples_split=10, n_estimators=200\n",
      "[CV 1/5; 109/243] END max_depth=10, max_features=10, min_samples_leaf=5, min_samples_split=10, n_estimators=200;, score=-44.054 total time=   2.1s\n",
      "[CV 4/5; 109/243] START max_depth=10, max_features=10, min_samples_leaf=5, min_samples_split=10, n_estimators=200\n",
      "[CV 4/5; 109/243] END max_depth=10, max_features=10, min_samples_leaf=5, min_samples_split=10, n_estimators=200;, score=-42.851 total time=   3.1s\n",
      "[CV 1/5; 111/243] START max_depth=10, max_features=10, min_samples_leaf=5, min_samples_split=10, n_estimators=500\n",
      "[CV 1/5; 111/243] END max_depth=10, max_features=10, min_samples_leaf=5, min_samples_split=10, n_estimators=500;, score=-42.202 total time=   5.3s\n",
      "[CV 2/5; 113/243] START max_depth=10, max_features=10, min_samples_leaf=5, min_samples_split=20, n_estimators=300\n",
      "[CV 2/5; 113/243] END max_depth=10, max_features=10, min_samples_leaf=5, min_samples_split=20, n_estimators=300;, score=-40.695 total time=   2.9s\n",
      "[CV 5/5; 114/243] START max_depth=10, max_features=10, min_samples_leaf=5, min_samples_split=20, n_estimators=500\n",
      "[CV 5/5; 114/243] END max_depth=10, max_features=10, min_samples_leaf=5, min_samples_split=20, n_estimators=500;, score=-41.529 total time=   4.6s\n",
      "[CV 3/5; 117/243] START max_depth=10, max_features=10, min_samples_leaf=5, min_samples_split=30, n_estimators=500\n",
      "[CV 3/5; 117/243] END max_depth=10, max_features=10, min_samples_leaf=5, min_samples_split=30, n_estimators=500;, score=-39.983 total time=   4.4s\n",
      "[CV 3/5; 119/243] START max_depth=10, max_features=10, min_samples_leaf=10, min_samples_split=10, n_estimators=300\n",
      "[CV 3/5; 119/243] END max_depth=10, max_features=10, min_samples_leaf=10, min_samples_split=10, n_estimators=300;, score=-41.022 total time=   2.9s\n",
      "[CV 1/5; 121/243] START max_depth=10, max_features=10, min_samples_leaf=10, min_samples_split=20, n_estimators=200\n",
      "[CV 1/5; 121/243] END max_depth=10, max_features=10, min_samples_leaf=10, min_samples_split=20, n_estimators=200;, score=-44.405 total time=   1.6s\n",
      "[CV 4/5; 121/243] START max_depth=10, max_features=10, min_samples_leaf=10, min_samples_split=20, n_estimators=200\n",
      "[CV 4/5; 121/243] END max_depth=10, max_features=10, min_samples_leaf=10, min_samples_split=20, n_estimators=200;, score=-43.346 total time=   1.8s\n",
      "[CV 5/5; 122/243] START max_depth=10, max_features=10, min_samples_leaf=10, min_samples_split=20, n_estimators=300\n",
      "[CV 5/5; 122/243] END max_depth=10, max_features=10, min_samples_leaf=10, min_samples_split=20, n_estimators=300;, score=-42.712 total time=   2.8s\n",
      "[CV 2/5; 124/243] START max_depth=10, max_features=10, min_samples_leaf=10, min_samples_split=30, n_estimators=200\n",
      "[CV 2/5; 124/243] END max_depth=10, max_features=10, min_samples_leaf=10, min_samples_split=30, n_estimators=200;, score=-42.078 total time=   1.8s\n",
      "[CV 5/5; 124/243] START max_depth=10, max_features=10, min_samples_leaf=10, min_samples_split=30, n_estimators=200\n",
      "[CV 5/5; 124/243] END max_depth=10, max_features=10, min_samples_leaf=10, min_samples_split=30, n_estimators=200;, score=-44.021 total time=   1.8s\n",
      "[CV 1/5; 126/243] START max_depth=10, max_features=10, min_samples_leaf=10, min_samples_split=30, n_estimators=500\n",
      "[CV 1/5; 126/243] END max_depth=10, max_features=10, min_samples_leaf=10, min_samples_split=30, n_estimators=500;, score=-42.592 total time=   4.7s\n",
      "[CV 2/5; 128/243] START max_depth=10, max_features=10, min_samples_leaf=15, min_samples_split=10, n_estimators=300\n",
      "[CV 2/5; 128/243] END max_depth=10, max_features=10, min_samples_leaf=15, min_samples_split=10, n_estimators=300;, score=-41.128 total time=   2.8s\n",
      "[CV 1/5; 130/243] START max_depth=10, max_features=10, min_samples_leaf=15, min_samples_split=20, n_estimators=200\n",
      "[CV 1/5; 130/243] END max_depth=10, max_features=10, min_samples_leaf=15, min_samples_split=20, n_estimators=200;, score=-44.604 total time=   1.9s\n",
      "[CV 4/5; 130/243] START max_depth=10, max_features=10, min_samples_leaf=15, min_samples_split=20, n_estimators=200\n",
      "[CV 4/5; 130/243] END max_depth=10, max_features=10, min_samples_leaf=15, min_samples_split=20, n_estimators=200;, score=-43.468 total time=   1.8s\n",
      "[CV 5/5; 131/243] START max_depth=10, max_features=10, min_samples_leaf=15, min_samples_split=20, n_estimators=300\n",
      "[CV 5/5; 131/243] END max_depth=10, max_features=10, min_samples_leaf=15, min_samples_split=20, n_estimators=300;, score=-43.039 total time=   2.8s\n",
      "[CV 3/5; 133/243] START max_depth=10, max_features=10, min_samples_leaf=15, min_samples_split=30, n_estimators=200\n",
      "[CV 3/5; 133/243] END max_depth=10, max_features=10, min_samples_leaf=15, min_samples_split=30, n_estimators=200;, score=-42.339 total time=   1.7s\n",
      "[CV 1/5; 134/243] START max_depth=10, max_features=10, min_samples_leaf=15, min_samples_split=30, n_estimators=300\n",
      "[CV 1/5; 134/243] END max_depth=10, max_features=10, min_samples_leaf=15, min_samples_split=30, n_estimators=300;, score=-43.614 total time=   2.6s\n",
      "[CV 4/5; 135/243] START max_depth=10, max_features=10, min_samples_leaf=15, min_samples_split=30, n_estimators=500\n",
      "[CV 4/5; 135/243] END max_depth=10, max_features=10, min_samples_leaf=15, min_samples_split=30, n_estimators=500;, score=-41.292 total time=   4.3s\n",
      "[CV 5/5; 137/243] START max_depth=10, max_features=12, min_samples_leaf=5, min_samples_split=10, n_estimators=300\n",
      "[CV 5/5; 137/243] END max_depth=10, max_features=12, min_samples_leaf=5, min_samples_split=10, n_estimators=300;, score=-42.272 total time=   3.0s\n",
      "[CV 3/5; 139/243] START max_depth=10, max_features=12, min_samples_leaf=5, min_samples_split=20, n_estimators=200\n",
      "[CV 3/5; 139/243] END max_depth=10, max_features=12, min_samples_leaf=5, min_samples_split=20, n_estimators=200;, score=-41.597 total time=   2.1s\n",
      "[CV 1/5; 140/243] START max_depth=10, max_features=12, min_samples_leaf=5, min_samples_split=20, n_estimators=300\n",
      "[CV 1/5; 140/243] END max_depth=10, max_features=12, min_samples_leaf=5, min_samples_split=20, n_estimators=300;, score=-43.005 total time=   2.9s\n",
      "[CV 4/5; 141/243] START max_depth=10, max_features=12, min_samples_leaf=5, min_samples_split=20, n_estimators=500\n",
      "[CV 4/5; 141/243] END max_depth=10, max_features=12, min_samples_leaf=5, min_samples_split=20, n_estimators=500;, score=-40.847 total time=   5.5s\n",
      "[CV 2/5; 144/243] START max_depth=10, max_features=12, min_samples_leaf=5, min_samples_split=30, n_estimators=500\n",
      "[CV 2/5; 144/243] END max_depth=10, max_features=12, min_samples_leaf=5, min_samples_split=30, n_estimators=500;, score=-39.968 total time=   5.8s\n",
      "[CV 3/5; 146/243] START max_depth=10, max_features=12, min_samples_leaf=10, min_samples_split=10, n_estimators=300\n",
      "[CV 3/5; 146/243] END max_depth=10, max_features=12, min_samples_leaf=10, min_samples_split=10, n_estimators=300;, score=-40.942 total time=   3.1s\n",
      "[CV 1/5; 148/243] START max_depth=10, max_features=12, min_samples_leaf=10, min_samples_split=20, n_estimators=200\n",
      "[CV 1/5; 148/243] END max_depth=10, max_features=12, min_samples_leaf=10, min_samples_split=20, n_estimators=200;, score=-44.286 total time=   2.0s\n",
      "[CV 4/5; 148/243] START max_depth=10, max_features=12, min_samples_leaf=10, min_samples_split=20, n_estimators=200\n",
      "[CV 4/5; 148/243] END max_depth=10, max_features=12, min_samples_leaf=10, min_samples_split=20, n_estimators=200;, score=-43.050 total time=   2.2s\n",
      "[CV 5/5; 149/243] START max_depth=10, max_features=12, min_samples_leaf=10, min_samples_split=20, n_estimators=300\n",
      "[CV 5/5; 149/243] END max_depth=10, max_features=12, min_samples_leaf=10, min_samples_split=20, n_estimators=300;, score=-42.617 total time=   3.1s\n",
      "[CV 3/5; 151/243] START max_depth=10, max_features=12, min_samples_leaf=10, min_samples_split=30, n_estimators=200\n",
      "[CV 3/5; 151/243] END max_depth=10, max_features=12, min_samples_leaf=10, min_samples_split=30, n_estimators=200;, score=-42.006 total time=   2.2s\n",
      "[CV 1/5; 152/243] START max_depth=10, max_features=12, min_samples_leaf=10, min_samples_split=30, n_estimators=300\n",
      "[CV 1/5; 152/243] END max_depth=10, max_features=12, min_samples_leaf=10, min_samples_split=30, n_estimators=300;, score=-43.346 total time=   3.1s\n",
      "[CV 4/5; 153/243] START max_depth=10, max_features=12, min_samples_leaf=10, min_samples_split=30, n_estimators=500\n",
      "[CV 4/5; 153/243] END max_depth=10, max_features=12, min_samples_leaf=10, min_samples_split=30, n_estimators=500;, score=-41.150 total time=   5.2s\n",
      "[CV 2/5; 156/243] START max_depth=10, max_features=12, min_samples_leaf=15, min_samples_split=10, n_estimators=500\n",
      "[CV 2/5; 156/243] END max_depth=10, max_features=12, min_samples_leaf=15, min_samples_split=10, n_estimators=500;, score=-40.262 total time=   5.4s\n",
      "[CV 3/5; 158/243] START max_depth=10, max_features=12, min_samples_leaf=15, min_samples_split=20, n_estimators=300\n",
      "[CV 3/5; 158/243] END max_depth=10, max_features=12, min_samples_leaf=15, min_samples_split=20, n_estimators=300;, score=-41.245 total time=   3.4s\n",
      "[CV 1/5; 160/243] START max_depth=10, max_features=12, min_samples_leaf=15, min_samples_split=30, n_estimators=200\n",
      "[CV 1/5; 160/243] END max_depth=10, max_features=12, min_samples_leaf=15, min_samples_split=30, n_estimators=200;, score=-44.436 total time=   2.7s\n",
      "[CV 4/5; 160/243] START max_depth=10, max_features=12, min_samples_leaf=15, min_samples_split=30, n_estimators=200\n",
      "[CV 4/5; 160/243] END max_depth=10, max_features=12, min_samples_leaf=15, min_samples_split=30, n_estimators=200;, score=-43.233 total time=   2.0s\n",
      "[CV 5/5; 161/243] START max_depth=10, max_features=12, min_samples_leaf=15, min_samples_split=30, n_estimators=300\n",
      "[CV 5/5; 161/243] END max_depth=10, max_features=12, min_samples_leaf=15, min_samples_split=30, n_estimators=300;, score=-42.888 total time=   3.2s\n",
      "[CV 3/5; 163/243] START max_depth=15, max_features=8, min_samples_leaf=5, min_samples_split=10, n_estimators=200\n",
      "[CV 3/5; 163/243] END max_depth=15, max_features=8, min_samples_leaf=5, min_samples_split=10, n_estimators=200;, score=-40.916 total time=   2.1s\n",
      "[CV 1/5; 164/243] START max_depth=15, max_features=8, min_samples_leaf=5, min_samples_split=10, n_estimators=300\n",
      "[CV 1/5; 164/243] END max_depth=15, max_features=8, min_samples_leaf=5, min_samples_split=10, n_estimators=300;, score=-42.483 total time=   3.2s\n",
      "[CV 4/5; 165/243] START max_depth=15, max_features=8, min_samples_leaf=5, min_samples_split=10, n_estimators=500\n",
      "[CV 4/5; 165/243] END max_depth=15, max_features=8, min_samples_leaf=5, min_samples_split=10, n_estimators=500;, score=-40.215 total time=   5.6s\n",
      "[CV 2/5; 168/243] START max_depth=15, max_features=8, min_samples_leaf=5, min_samples_split=20, n_estimators=500\n",
      "[CV 2/5; 168/243] END max_depth=15, max_features=8, min_samples_leaf=5, min_samples_split=20, n_estimators=500;, score=-39.290 total time=   5.4s\n",
      "[CV 3/5; 170/243] START max_depth=15, max_features=8, min_samples_leaf=5, min_samples_split=30, n_estimators=300\n",
      "[CV 3/5; 170/243] END max_depth=15, max_features=8, min_samples_leaf=5, min_samples_split=30, n_estimators=300;, score=-40.370 total time=   3.1s\n",
      "[CV 1/5; 172/243] START max_depth=15, max_features=8, min_samples_leaf=10, min_samples_split=10, n_estimators=200\n",
      "[CV 1/5; 172/243] END max_depth=15, max_features=8, min_samples_leaf=10, min_samples_split=10, n_estimators=200;, score=-44.034 total time=   2.0s\n",
      "[CV 4/5; 172/243] START max_depth=15, max_features=8, min_samples_leaf=10, min_samples_split=10, n_estimators=200\n",
      "[CV 4/5; 172/243] END max_depth=15, max_features=8, min_samples_leaf=10, min_samples_split=10, n_estimators=200;, score=-42.842 total time=   1.9s\n",
      "[CV 5/5; 173/243] START max_depth=15, max_features=8, min_samples_leaf=10, min_samples_split=10, n_estimators=300\n",
      "[CV 5/5; 173/243] END max_depth=15, max_features=8, min_samples_leaf=10, min_samples_split=10, n_estimators=300;, score=-42.141 total time=   3.0s\n",
      "[CV 3/5; 175/243] START max_depth=15, max_features=8, min_samples_leaf=10, min_samples_split=20, n_estimators=200\n",
      "[CV 3/5; 175/243] END max_depth=15, max_features=8, min_samples_leaf=10, min_samples_split=20, n_estimators=200;, score=-41.568 total time=   1.9s\n",
      "[CV 1/5; 176/243] START max_depth=15, max_features=8, min_samples_leaf=10, min_samples_split=20, n_estimators=300\n",
      "[CV 1/5; 176/243] END max_depth=15, max_features=8, min_samples_leaf=10, min_samples_split=20, n_estimators=300;, score=-42.996 total time=   2.9s\n",
      "[CV 4/5; 177/243] START max_depth=15, max_features=8, min_samples_leaf=10, min_samples_split=20, n_estimators=500\n",
      "[CV 4/5; 177/243] END max_depth=15, max_features=8, min_samples_leaf=10, min_samples_split=20, n_estimators=500;, score=-40.592 total time=   5.0s\n",
      "[CV 2/5; 180/243] START max_depth=15, max_features=8, min_samples_leaf=10, min_samples_split=30, n_estimators=500\n",
      "[CV 2/5; 180/243] END max_depth=15, max_features=8, min_samples_leaf=10, min_samples_split=30, n_estimators=500;, score=-39.705 total time=   5.0s\n",
      "[CV 3/5; 182/243] START max_depth=15, max_features=8, min_samples_leaf=15, min_samples_split=10, n_estimators=300\n",
      "[CV 3/5; 182/243] END max_depth=15, max_features=8, min_samples_leaf=15, min_samples_split=10, n_estimators=300;, score=-41.036 total time=   2.9s\n",
      "[CV 1/5; 184/243] START max_depth=15, max_features=8, min_samples_leaf=15, min_samples_split=20, n_estimators=200\n",
      "[CV 1/5; 184/243] END max_depth=15, max_features=8, min_samples_leaf=15, min_samples_split=20, n_estimators=200;, score=-44.312 total time=   1.8s\n",
      "[CV 4/5; 184/243] START max_depth=15, max_features=8, min_samples_leaf=15, min_samples_split=20, n_estimators=200\n",
      "[CV 4/5; 184/243] END max_depth=15, max_features=8, min_samples_leaf=15, min_samples_split=20, n_estimators=200;, score=-43.307 total time=   1.8s\n",
      "[CV 5/5; 185/243] START max_depth=15, max_features=8, min_samples_leaf=15, min_samples_split=20, n_estimators=300\n",
      "[CV 5/5; 185/243] END max_depth=15, max_features=8, min_samples_leaf=15, min_samples_split=20, n_estimators=300;, score=-42.667 total time=   3.0s\n",
      "[CV 3/5; 187/243] START max_depth=15, max_features=8, min_samples_leaf=15, min_samples_split=30, n_estimators=200\n",
      "[CV 3/5; 187/243] END max_depth=15, max_features=8, min_samples_leaf=15, min_samples_split=30, n_estimators=200;, score=-42.145 total time=   1.7s\n",
      "[CV 4/5; 95/243] START max_depth=10, max_features=8, min_samples_leaf=10, min_samples_split=20, n_estimators=300\n",
      "[CV 4/5; 95/243] END max_depth=10, max_features=8, min_samples_leaf=10, min_samples_split=20, n_estimators=300;, score=-42.533 total time=   2.3s\n",
      "[CV 2/5; 97/243] START max_depth=10, max_features=8, min_samples_leaf=10, min_samples_split=30, n_estimators=200\n",
      "[CV 2/5; 97/243] END max_depth=10, max_features=8, min_samples_leaf=10, min_samples_split=30, n_estimators=200;, score=-42.223 total time=   1.5s\n",
      "[CV 5/5; 97/243] START max_depth=10, max_features=8, min_samples_leaf=10, min_samples_split=30, n_estimators=200\n",
      "[CV 5/5; 97/243] END max_depth=10, max_features=8, min_samples_leaf=10, min_samples_split=30, n_estimators=200;, score=-44.333 total time=   1.5s\n",
      "[CV 2/5; 99/243] START max_depth=10, max_features=8, min_samples_leaf=10, min_samples_split=30, n_estimators=500\n",
      "[CV 2/5; 99/243] END max_depth=10, max_features=8, min_samples_leaf=10, min_samples_split=30, n_estimators=500;, score=-40.363 total time=   3.8s\n",
      "[CV 3/5; 101/243] START max_depth=10, max_features=8, min_samples_leaf=15, min_samples_split=10, n_estimators=300\n",
      "[CV 3/5; 101/243] END max_depth=10, max_features=8, min_samples_leaf=15, min_samples_split=10, n_estimators=300;, score=-41.444 total time=   2.3s\n",
      "[CV 1/5; 103/243] START max_depth=10, max_features=8, min_samples_leaf=15, min_samples_split=20, n_estimators=200\n",
      "[CV 1/5; 103/243] END max_depth=10, max_features=8, min_samples_leaf=15, min_samples_split=20, n_estimators=200;, score=-44.831 total time=   1.9s\n",
      "[CV 4/5; 103/243] START max_depth=10, max_features=8, min_samples_leaf=15, min_samples_split=20, n_estimators=200\n",
      "[CV 4/5; 103/243] END max_depth=10, max_features=8, min_samples_leaf=15, min_samples_split=20, n_estimators=200;, score=-43.901 total time=   2.0s\n",
      "[CV 5/5; 104/243] START max_depth=10, max_features=8, min_samples_leaf=15, min_samples_split=20, n_estimators=300\n",
      "[CV 5/5; 104/243] END max_depth=10, max_features=8, min_samples_leaf=15, min_samples_split=20, n_estimators=300;, score=-43.205 total time=   2.2s\n",
      "[CV 3/5; 106/243] START max_depth=10, max_features=8, min_samples_leaf=15, min_samples_split=30, n_estimators=200\n",
      "[CV 3/5; 106/243] END max_depth=10, max_features=8, min_samples_leaf=15, min_samples_split=30, n_estimators=200;, score=-42.526 total time=   2.2s\n",
      "[CV 1/5; 107/243] START max_depth=10, max_features=8, min_samples_leaf=15, min_samples_split=30, n_estimators=300\n",
      "[CV 1/5; 107/243] END max_depth=10, max_features=8, min_samples_leaf=15, min_samples_split=30, n_estimators=300;, score=-43.761 total time=   2.7s\n",
      "[CV 4/5; 108/243] START max_depth=10, max_features=8, min_samples_leaf=15, min_samples_split=30, n_estimators=500\n",
      "[CV 4/5; 108/243] END max_depth=10, max_features=8, min_samples_leaf=15, min_samples_split=30, n_estimators=500;, score=-41.626 total time=   4.5s\n",
      "[CV 5/5; 110/243] START max_depth=10, max_features=10, min_samples_leaf=5, min_samples_split=10, n_estimators=300\n",
      "[CV 5/5; 110/243] END max_depth=10, max_features=10, min_samples_leaf=5, min_samples_split=10, n_estimators=300;, score=-42.308 total time=   4.4s\n",
      "[CV 3/5; 112/243] START max_depth=10, max_features=10, min_samples_leaf=5, min_samples_split=20, n_estimators=200\n",
      "[CV 3/5; 112/243] END max_depth=10, max_features=10, min_samples_leaf=5, min_samples_split=20, n_estimators=200;, score=-41.691 total time=   2.0s\n",
      "[CV 1/5; 113/243] START max_depth=10, max_features=10, min_samples_leaf=5, min_samples_split=20, n_estimators=300\n",
      "[CV 1/5; 113/243] END max_depth=10, max_features=10, min_samples_leaf=5, min_samples_split=20, n_estimators=300;, score=-43.148 total time=   3.1s\n",
      "[CV 4/5; 114/243] START max_depth=10, max_features=10, min_samples_leaf=5, min_samples_split=20, n_estimators=500\n",
      "[CV 4/5; 114/243] END max_depth=10, max_features=10, min_samples_leaf=5, min_samples_split=20, n_estimators=500;, score=-40.827 total time=   4.6s\n",
      "[CV 2/5; 117/243] START max_depth=10, max_features=10, min_samples_leaf=5, min_samples_split=30, n_estimators=500\n",
      "[CV 2/5; 117/243] END max_depth=10, max_features=10, min_samples_leaf=5, min_samples_split=30, n_estimators=500;, score=-40.063 total time=   4.7s\n",
      "[CV 4/5; 119/243] START max_depth=10, max_features=10, min_samples_leaf=10, min_samples_split=10, n_estimators=300\n",
      "[CV 4/5; 119/243] END max_depth=10, max_features=10, min_samples_leaf=10, min_samples_split=10, n_estimators=300;, score=-42.242 total time=   2.7s\n",
      "[CV 2/5; 121/243] START max_depth=10, max_features=10, min_samples_leaf=10, min_samples_split=20, n_estimators=200\n",
      "[CV 2/5; 121/243] END max_depth=10, max_features=10, min_samples_leaf=10, min_samples_split=20, n_estimators=200;, score=-42.016 total time=   1.8s\n",
      "[CV 5/5; 121/243] START max_depth=10, max_features=10, min_samples_leaf=10, min_samples_split=20, n_estimators=200\n",
      "[CV 5/5; 121/243] END max_depth=10, max_features=10, min_samples_leaf=10, min_samples_split=20, n_estimators=200;, score=-43.981 total time=   1.8s\n",
      "[CV 1/5; 123/243] START max_depth=10, max_features=10, min_samples_leaf=10, min_samples_split=20, n_estimators=500\n",
      "[CV 1/5; 123/243] END max_depth=10, max_features=10, min_samples_leaf=10, min_samples_split=20, n_estimators=500;, score=-42.617 total time=   4.5s\n",
      "[CV 2/5; 125/243] START max_depth=10, max_features=10, min_samples_leaf=10, min_samples_split=30, n_estimators=300\n",
      "[CV 2/5; 125/243] END max_depth=10, max_features=10, min_samples_leaf=10, min_samples_split=30, n_estimators=300;, score=-41.043 total time=   2.7s\n",
      "[CV 4/5; 126/243] START max_depth=10, max_features=10, min_samples_leaf=10, min_samples_split=30, n_estimators=500\n",
      "[CV 4/5; 126/243] END max_depth=10, max_features=10, min_samples_leaf=10, min_samples_split=30, n_estimators=500;, score=-41.177 total time=   4.7s\n",
      "[CV 3/5; 129/243] START max_depth=10, max_features=10, min_samples_leaf=15, min_samples_split=10, n_estimators=500\n",
      "[CV 3/5; 129/243] END max_depth=10, max_features=10, min_samples_leaf=15, min_samples_split=10, n_estimators=500;, score=-40.451 total time=   4.7s\n",
      "[CV 4/5; 131/243] START max_depth=10, max_features=10, min_samples_leaf=15, min_samples_split=20, n_estimators=300\n",
      "[CV 4/5; 131/243] END max_depth=10, max_features=10, min_samples_leaf=15, min_samples_split=20, n_estimators=300;, score=-42.307 total time=   2.7s\n",
      "[CV 2/5; 133/243] START max_depth=10, max_features=10, min_samples_leaf=15, min_samples_split=30, n_estimators=200\n",
      "[CV 2/5; 133/243] END max_depth=10, max_features=10, min_samples_leaf=15, min_samples_split=30, n_estimators=200;, score=-42.089 total time=   1.7s\n",
      "[CV 4/5; 133/243] START max_depth=10, max_features=10, min_samples_leaf=15, min_samples_split=30, n_estimators=200\n",
      "[CV 4/5; 133/243] END max_depth=10, max_features=10, min_samples_leaf=15, min_samples_split=30, n_estimators=200;, score=-43.468 total time=   1.8s\n",
      "[CV 1/5; 135/243] START max_depth=10, max_features=10, min_samples_leaf=15, min_samples_split=30, n_estimators=500\n",
      "[CV 1/5; 135/243] END max_depth=10, max_features=10, min_samples_leaf=15, min_samples_split=30, n_estimators=500;, score=-42.832 total time=   4.3s\n",
      "[CV 4/5; 136/243] START max_depth=10, max_features=12, min_samples_leaf=5, min_samples_split=10, n_estimators=200\n",
      "[CV 4/5; 136/243] END max_depth=10, max_features=12, min_samples_leaf=5, min_samples_split=10, n_estimators=200;, score=-42.794 total time=   2.0s\n",
      "[CV 2/5; 138/243] START max_depth=10, max_features=12, min_samples_leaf=5, min_samples_split=10, n_estimators=500\n",
      "[CV 2/5; 138/243] END max_depth=10, max_features=12, min_samples_leaf=5, min_samples_split=10, n_estimators=500;, score=-39.944 total time=   5.0s\n",
      "[CV 2/5; 140/243] START max_depth=10, max_features=12, min_samples_leaf=5, min_samples_split=20, n_estimators=300\n",
      "[CV 2/5; 140/243] END max_depth=10, max_features=12, min_samples_leaf=5, min_samples_split=20, n_estimators=300;, score=-40.529 total time=   2.9s\n",
      "[CV 5/5; 141/243] START max_depth=10, max_features=12, min_samples_leaf=5, min_samples_split=20, n_estimators=500\n",
      "[CV 5/5; 141/243] END max_depth=10, max_features=12, min_samples_leaf=5, min_samples_split=20, n_estimators=500;, score=-41.431 total time=   5.8s\n",
      "[CV 3/5; 144/243] START max_depth=10, max_features=12, min_samples_leaf=5, min_samples_split=30, n_estimators=500\n",
      "[CV 3/5; 144/243] END max_depth=10, max_features=12, min_samples_leaf=5, min_samples_split=30, n_estimators=500;, score=-39.982 total time=   5.9s\n",
      "[CV 4/5; 146/243] START max_depth=10, max_features=12, min_samples_leaf=10, min_samples_split=10, n_estimators=300\n",
      "[CV 4/5; 146/243] END max_depth=10, max_features=12, min_samples_leaf=10, min_samples_split=10, n_estimators=300;, score=-41.932 total time=   3.2s\n",
      "[CV 2/5; 148/243] START max_depth=10, max_features=12, min_samples_leaf=10, min_samples_split=20, n_estimators=200\n",
      "[CV 2/5; 148/243] END max_depth=10, max_features=12, min_samples_leaf=10, min_samples_split=20, n_estimators=200;, score=-41.717 total time=   2.1s\n",
      "[CV 5/5; 148/243] START max_depth=10, max_features=12, min_samples_leaf=10, min_samples_split=20, n_estimators=200\n",
      "[CV 5/5; 148/243] END max_depth=10, max_features=12, min_samples_leaf=10, min_samples_split=20, n_estimators=200;, score=-43.794 total time=   2.1s\n",
      "[CV 1/5; 150/243] START max_depth=10, max_features=12, min_samples_leaf=10, min_samples_split=20, n_estimators=500\n",
      "[CV 1/5; 150/243] END max_depth=10, max_features=12, min_samples_leaf=10, min_samples_split=20, n_estimators=500;, score=-42.486 total time=   5.2s\n",
      "[CV 2/5; 152/243] START max_depth=10, max_features=12, min_samples_leaf=10, min_samples_split=30, n_estimators=300\n",
      "[CV 2/5; 152/243] END max_depth=10, max_features=12, min_samples_leaf=10, min_samples_split=30, n_estimators=300;, score=-40.994 total time=   3.2s\n",
      "[CV 5/5; 153/243] START max_depth=10, max_features=12, min_samples_leaf=10, min_samples_split=30, n_estimators=500\n",
      "[CV 5/5; 153/243] END max_depth=10, max_features=12, min_samples_leaf=10, min_samples_split=30, n_estimators=500;, score=-41.839 total time=   5.1s\n",
      "[CV 3/5; 156/243] START max_depth=10, max_features=12, min_samples_leaf=15, min_samples_split=10, n_estimators=500\n",
      "[CV 3/5; 156/243] END max_depth=10, max_features=12, min_samples_leaf=15, min_samples_split=10, n_estimators=500;, score=-40.424 total time=   5.4s\n",
      "[CV 5/5; 158/243] START max_depth=10, max_features=12, min_samples_leaf=15, min_samples_split=20, n_estimators=300\n",
      "[CV 5/5; 158/243] END max_depth=10, max_features=12, min_samples_leaf=15, min_samples_split=20, n_estimators=300;, score=-42.888 total time=   3.9s\n",
      "[CV 3/5; 160/243] START max_depth=10, max_features=12, min_samples_leaf=15, min_samples_split=30, n_estimators=200\n",
      "[CV 3/5; 160/243] END max_depth=10, max_features=12, min_samples_leaf=15, min_samples_split=30, n_estimators=200;, score=-42.212 total time=   2.3s\n",
      "[CV 1/5; 161/243] START max_depth=10, max_features=12, min_samples_leaf=15, min_samples_split=30, n_estimators=300\n",
      "[CV 1/5; 161/243] END max_depth=10, max_features=12, min_samples_leaf=15, min_samples_split=30, n_estimators=300;, score=-43.489 total time=   3.2s\n",
      "[CV 4/5; 162/243] START max_depth=10, max_features=12, min_samples_leaf=15, min_samples_split=30, n_estimators=500\n",
      "[CV 4/5; 162/243] END max_depth=10, max_features=12, min_samples_leaf=15, min_samples_split=30, n_estimators=500;, score=-41.214 total time=   4.9s\n",
      "[CV 1/5; 165/243] START max_depth=15, max_features=8, min_samples_leaf=5, min_samples_split=10, n_estimators=500\n",
      "[CV 1/5; 165/243] END max_depth=15, max_features=8, min_samples_leaf=5, min_samples_split=10, n_estimators=500;, score=-41.696 total time=   5.8s\n",
      "[CV 2/5; 167/243] START max_depth=15, max_features=8, min_samples_leaf=5, min_samples_split=20, n_estimators=300\n",
      "[CV 2/5; 167/243] END max_depth=15, max_features=8, min_samples_leaf=5, min_samples_split=20, n_estimators=300;, score=-39.925 total time=   2.9s\n",
      "[CV 5/5; 168/243] START max_depth=15, max_features=8, min_samples_leaf=5, min_samples_split=20, n_estimators=500\n",
      "[CV 5/5; 168/243] END max_depth=15, max_features=8, min_samples_leaf=5, min_samples_split=20, n_estimators=500;, score=-40.912 total time=   5.3s\n",
      "[CV 3/5; 171/243] START max_depth=15, max_features=8, min_samples_leaf=5, min_samples_split=30, n_estimators=500\n",
      "[CV 3/5; 171/243] END max_depth=15, max_features=8, min_samples_leaf=5, min_samples_split=30, n_estimators=500;, score=-39.504 total time=   5.1s\n",
      "[CV 4/5; 173/243] START max_depth=15, max_features=8, min_samples_leaf=10, min_samples_split=10, n_estimators=300\n",
      "[CV 4/5; 173/243] END max_depth=15, max_features=8, min_samples_leaf=10, min_samples_split=10, n_estimators=300;, score=-41.629 total time=   2.9s\n",
      "[CV 2/5; 175/243] START max_depth=15, max_features=8, min_samples_leaf=10, min_samples_split=20, n_estimators=200\n",
      "[CV 2/5; 175/243] END max_depth=15, max_features=8, min_samples_leaf=10, min_samples_split=20, n_estimators=200;, score=-41.506 total time=   1.9s\n",
      "[CV 5/5; 175/243] START max_depth=15, max_features=8, min_samples_leaf=10, min_samples_split=20, n_estimators=200\n",
      "[CV 5/5; 175/243] END max_depth=15, max_features=8, min_samples_leaf=10, min_samples_split=20, n_estimators=200;, score=-43.518 total time=   2.1s\n",
      "[CV 1/5; 177/243] START max_depth=15, max_features=8, min_samples_leaf=10, min_samples_split=20, n_estimators=500\n",
      "[CV 1/5; 177/243] END max_depth=15, max_features=8, min_samples_leaf=10, min_samples_split=20, n_estimators=500;, score=-42.135 total time=   5.0s\n",
      "[CV 3/5; 179/243] START max_depth=15, max_features=8, min_samples_leaf=10, min_samples_split=30, n_estimators=300\n",
      "[CV 3/5; 179/243] END max_depth=15, max_features=8, min_samples_leaf=10, min_samples_split=30, n_estimators=300;, score=-40.675 total time=   2.9s\n",
      "[CV 1/5; 181/243] START max_depth=15, max_features=8, min_samples_leaf=15, min_samples_split=10, n_estimators=200\n",
      "[CV 1/5; 181/243] END max_depth=15, max_features=8, min_samples_leaf=15, min_samples_split=10, n_estimators=200;, score=-44.312 total time=   1.8s\n",
      "[CV 4/5; 181/243] START max_depth=15, max_features=8, min_samples_leaf=15, min_samples_split=10, n_estimators=200\n",
      "[CV 4/5; 181/243] END max_depth=15, max_features=8, min_samples_leaf=15, min_samples_split=10, n_estimators=200;, score=-43.307 total time=   1.8s\n",
      "[CV 4/5; 182/243] START max_depth=15, max_features=8, min_samples_leaf=15, min_samples_split=10, n_estimators=300\n",
      "[CV 4/5; 182/243] END max_depth=15, max_features=8, min_samples_leaf=15, min_samples_split=10, n_estimators=300;, score=-42.062 total time=   2.9s\n",
      "[CV 2/5; 184/243] START max_depth=15, max_features=8, min_samples_leaf=15, min_samples_split=20, n_estimators=200\n",
      "[CV 2/5; 184/243] END max_depth=15, max_features=8, min_samples_leaf=15, min_samples_split=20, n_estimators=200;, score=-41.901 total time=   1.8s\n",
      "[CV 5/5; 184/243] START max_depth=15, max_features=8, min_samples_leaf=15, min_samples_split=20, n_estimators=200\n",
      "[CV 5/5; 184/243] END max_depth=15, max_features=8, min_samples_leaf=15, min_samples_split=20, n_estimators=200;, score=-43.989 total time=   1.8s\n",
      "[CV 2/5; 186/243] START max_depth=15, max_features=8, min_samples_leaf=15, min_samples_split=20, n_estimators=500\n",
      "[CV 2/5; 186/243] END max_depth=15, max_features=8, min_samples_leaf=15, min_samples_split=20, n_estimators=500;, score=-39.922 total time=   4.8s\n",
      "[CV 2/5; 188/243] START max_depth=15, max_features=8, min_samples_leaf=15, min_samples_split=30, n_estimators=300\n",
      "[CV 2/5; 188/243] END max_depth=15, max_features=8, min_samples_leaf=15, min_samples_split=30, n_estimators=300;, score=-40.745 total time=   2.7s\n",
      "[CV 5/5; 189/243] START max_depth=15, max_features=8, min_samples_leaf=15, min_samples_split=30, n_estimators=500\n",
      "[CV 5/5; 189/243] END max_depth=15, max_features=8, min_samples_leaf=15, min_samples_split=30, n_estimators=500;, score=-41.456 total time=   4.7s\n",
      "[CV 1/5; 192/243] START max_depth=15, max_features=10, min_samples_leaf=5, min_samples_split=10, n_estimators=500\n",
      "[CV 1/5; 192/243] END max_depth=15, max_features=10, min_samples_leaf=5, min_samples_split=10, n_estimators=500;, score=-41.558 total time=   5.9s\n",
      "[CV 2/5; 194/243] START max_depth=15, max_features=10, min_samples_leaf=5, min_samples_split=20, n_estimators=300\n",
      "[CV 2/5; 194/243] END max_depth=15, max_features=10, min_samples_leaf=5, min_samples_split=20, n_estimators=300;, score=-40.015 total time=   3.6s\n",
      "[Pipeline] ......... (step 2 of 2) Processing regressor, total= 7.7min\n",
      "CPU times: user 7.43 s, sys: 829 ms, total: 8.26 s\n",
      "Wall time: 7min 39s\n"
     ]
    },
    {
     "data": {
      "text/plain": "Pipeline(steps=[('preprocess',\n                 ColumnTransformer(transformers=[('cat',\n                                                  OneHotEncoder(handle_unknown='ignore'),\n                                                  ['f_neighbourhood_cleansed',\n                                                   'f_property_type',\n                                                   'f_room_type']),\n                                                 ('num', 'passthrough',\n                                                  ['n_host_total_listings_count',\n                                                   'n_accommodates',\n                                                   'n_bedrooms', 'n_beds',\n                                                   'n_minimum_nights',\n                                                   'n_maximum_nights',\n                                                   'n_number_of_reviews',\n                                                   'n_review_scores_value',\n                                                   'd_ho...\n                                                   'd_patio_balcony',\n                                                   'd_bodyshower'])])),\n                ('regressor',\n                 GridSearchCV(cv=5,\n                              estimator=GradientBoostingRegressor(learning_rate=0.01,\n                                                                  random_state=42),\n                              n_jobs=-1,\n                              param_grid={'max_depth': [5, 10, 15],\n                                          'max_features': [8, 10, 12],\n                                          'min_samples_leaf': [5, 10, 15],\n                                          'min_samples_split': [10, 20, 30],\n                                          'n_estimators': [200, 300, 500]},\n                              scoring='neg_root_mean_squared_error',\n                              verbose=10))],\n         verbose=True)",
      "text/html": "<style>#sk-container-id-5 {color: black;}#sk-container-id-5 pre{padding: 0;}#sk-container-id-5 div.sk-toggleable {background-color: white;}#sk-container-id-5 label.sk-toggleable__label {cursor: pointer;display: block;width: 100%;margin-bottom: 0;padding: 0.3em;box-sizing: border-box;text-align: center;}#sk-container-id-5 label.sk-toggleable__label-arrow:before {content: \"▸\";float: left;margin-right: 0.25em;color: #696969;}#sk-container-id-5 label.sk-toggleable__label-arrow:hover:before {color: black;}#sk-container-id-5 div.sk-estimator:hover label.sk-toggleable__label-arrow:before {color: black;}#sk-container-id-5 div.sk-toggleable__content {max-height: 0;max-width: 0;overflow: hidden;text-align: left;background-color: #f0f8ff;}#sk-container-id-5 div.sk-toggleable__content pre {margin: 0.2em;color: black;border-radius: 0.25em;background-color: #f0f8ff;}#sk-container-id-5 input.sk-toggleable__control:checked~div.sk-toggleable__content {max-height: 200px;max-width: 100%;overflow: auto;}#sk-container-id-5 input.sk-toggleable__control:checked~label.sk-toggleable__label-arrow:before {content: \"▾\";}#sk-container-id-5 div.sk-estimator input.sk-toggleable__control:checked~label.sk-toggleable__label {background-color: #d4ebff;}#sk-container-id-5 div.sk-label input.sk-toggleable__control:checked~label.sk-toggleable__label {background-color: #d4ebff;}#sk-container-id-5 input.sk-hidden--visually {border: 0;clip: rect(1px 1px 1px 1px);clip: rect(1px, 1px, 1px, 1px);height: 1px;margin: -1px;overflow: hidden;padding: 0;position: absolute;width: 1px;}#sk-container-id-5 div.sk-estimator {font-family: monospace;background-color: #f0f8ff;border: 1px dotted black;border-radius: 0.25em;box-sizing: border-box;margin-bottom: 0.5em;}#sk-container-id-5 div.sk-estimator:hover {background-color: #d4ebff;}#sk-container-id-5 div.sk-parallel-item::after {content: \"\";width: 100%;border-bottom: 1px solid gray;flex-grow: 1;}#sk-container-id-5 div.sk-label:hover label.sk-toggleable__label {background-color: #d4ebff;}#sk-container-id-5 div.sk-serial::before {content: \"\";position: absolute;border-left: 1px solid gray;box-sizing: border-box;top: 0;bottom: 0;left: 50%;z-index: 0;}#sk-container-id-5 div.sk-serial {display: flex;flex-direction: column;align-items: center;background-color: white;padding-right: 0.2em;padding-left: 0.2em;position: relative;}#sk-container-id-5 div.sk-item {position: relative;z-index: 1;}#sk-container-id-5 div.sk-parallel {display: flex;align-items: stretch;justify-content: center;background-color: white;position: relative;}#sk-container-id-5 div.sk-item::before, #sk-container-id-5 div.sk-parallel-item::before {content: \"\";position: absolute;border-left: 1px solid gray;box-sizing: border-box;top: 0;bottom: 0;left: 50%;z-index: -1;}#sk-container-id-5 div.sk-parallel-item {display: flex;flex-direction: column;z-index: 1;position: relative;background-color: white;}#sk-container-id-5 div.sk-parallel-item:first-child::after {align-self: flex-end;width: 50%;}#sk-container-id-5 div.sk-parallel-item:last-child::after {align-self: flex-start;width: 50%;}#sk-container-id-5 div.sk-parallel-item:only-child::after {width: 0;}#sk-container-id-5 div.sk-dashed-wrapped {border: 1px dashed gray;margin: 0 0.4em 0.5em 0.4em;box-sizing: border-box;padding-bottom: 0.4em;background-color: white;}#sk-container-id-5 div.sk-label label {font-family: monospace;font-weight: bold;display: inline-block;line-height: 1.2em;}#sk-container-id-5 div.sk-label-container {text-align: center;}#sk-container-id-5 div.sk-container {/* jupyter's `normalize.less` sets `[hidden] { display: none; }` but bootstrap.min.css set `[hidden] { display: none !important; }` so we also need the `!important` here to be able to override the default hidden behavior on the sphinx rendered scikit-learn.org. See: https://github.com/scikit-learn/scikit-learn/issues/21755 */display: inline-block !important;position: relative;}#sk-container-id-5 div.sk-text-repr-fallback {display: none;}</style><div id=\"sk-container-id-5\" class=\"sk-top-container\"><div class=\"sk-text-repr-fallback\"><pre>Pipeline(steps=[(&#x27;preprocess&#x27;,\n                 ColumnTransformer(transformers=[(&#x27;cat&#x27;,\n                                                  OneHotEncoder(handle_unknown=&#x27;ignore&#x27;),\n                                                  [&#x27;f_neighbourhood_cleansed&#x27;,\n                                                   &#x27;f_property_type&#x27;,\n                                                   &#x27;f_room_type&#x27;]),\n                                                 (&#x27;num&#x27;, &#x27;passthrough&#x27;,\n                                                  [&#x27;n_host_total_listings_count&#x27;,\n                                                   &#x27;n_accommodates&#x27;,\n                                                   &#x27;n_bedrooms&#x27;, &#x27;n_beds&#x27;,\n                                                   &#x27;n_minimum_nights&#x27;,\n                                                   &#x27;n_maximum_nights&#x27;,\n                                                   &#x27;n_number_of_reviews&#x27;,\n                                                   &#x27;n_review_scores_value&#x27;,\n                                                   &#x27;d_ho...\n                                                   &#x27;d_patio_balcony&#x27;,\n                                                   &#x27;d_bodyshower&#x27;])])),\n                (&#x27;regressor&#x27;,\n                 GridSearchCV(cv=5,\n                              estimator=GradientBoostingRegressor(learning_rate=0.01,\n                                                                  random_state=42),\n                              n_jobs=-1,\n                              param_grid={&#x27;max_depth&#x27;: [5, 10, 15],\n                                          &#x27;max_features&#x27;: [8, 10, 12],\n                                          &#x27;min_samples_leaf&#x27;: [5, 10, 15],\n                                          &#x27;min_samples_split&#x27;: [10, 20, 30],\n                                          &#x27;n_estimators&#x27;: [200, 300, 500]},\n                              scoring=&#x27;neg_root_mean_squared_error&#x27;,\n                              verbose=10))],\n         verbose=True)</pre><b>In a Jupyter environment, please rerun this cell to show the HTML representation or trust the notebook. <br />On GitHub, the HTML representation is unable to render, please try loading this page with nbviewer.org.</b></div><div class=\"sk-container\" hidden><div class=\"sk-item sk-dashed-wrapped\"><div class=\"sk-label-container\"><div class=\"sk-label sk-toggleable\"><input class=\"sk-toggleable__control sk-hidden--visually\" id=\"sk-estimator-id-13\" type=\"checkbox\" ><label for=\"sk-estimator-id-13\" class=\"sk-toggleable__label sk-toggleable__label-arrow\">Pipeline</label><div class=\"sk-toggleable__content\"><pre>Pipeline(steps=[(&#x27;preprocess&#x27;,\n                 ColumnTransformer(transformers=[(&#x27;cat&#x27;,\n                                                  OneHotEncoder(handle_unknown=&#x27;ignore&#x27;),\n                                                  [&#x27;f_neighbourhood_cleansed&#x27;,\n                                                   &#x27;f_property_type&#x27;,\n                                                   &#x27;f_room_type&#x27;]),\n                                                 (&#x27;num&#x27;, &#x27;passthrough&#x27;,\n                                                  [&#x27;n_host_total_listings_count&#x27;,\n                                                   &#x27;n_accommodates&#x27;,\n                                                   &#x27;n_bedrooms&#x27;, &#x27;n_beds&#x27;,\n                                                   &#x27;n_minimum_nights&#x27;,\n                                                   &#x27;n_maximum_nights&#x27;,\n                                                   &#x27;n_number_of_reviews&#x27;,\n                                                   &#x27;n_review_scores_value&#x27;,\n                                                   &#x27;d_ho...\n                                                   &#x27;d_patio_balcony&#x27;,\n                                                   &#x27;d_bodyshower&#x27;])])),\n                (&#x27;regressor&#x27;,\n                 GridSearchCV(cv=5,\n                              estimator=GradientBoostingRegressor(learning_rate=0.01,\n                                                                  random_state=42),\n                              n_jobs=-1,\n                              param_grid={&#x27;max_depth&#x27;: [5, 10, 15],\n                                          &#x27;max_features&#x27;: [8, 10, 12],\n                                          &#x27;min_samples_leaf&#x27;: [5, 10, 15],\n                                          &#x27;min_samples_split&#x27;: [10, 20, 30],\n                                          &#x27;n_estimators&#x27;: [200, 300, 500]},\n                              scoring=&#x27;neg_root_mean_squared_error&#x27;,\n                              verbose=10))],\n         verbose=True)</pre></div></div></div><div class=\"sk-serial\"><div class=\"sk-item sk-dashed-wrapped\"><div class=\"sk-label-container\"><div class=\"sk-label sk-toggleable\"><input class=\"sk-toggleable__control sk-hidden--visually\" id=\"sk-estimator-id-14\" type=\"checkbox\" ><label for=\"sk-estimator-id-14\" class=\"sk-toggleable__label sk-toggleable__label-arrow\">preprocess: ColumnTransformer</label><div class=\"sk-toggleable__content\"><pre>ColumnTransformer(transformers=[(&#x27;cat&#x27;, OneHotEncoder(handle_unknown=&#x27;ignore&#x27;),\n                                 [&#x27;f_neighbourhood_cleansed&#x27;, &#x27;f_property_type&#x27;,\n                                  &#x27;f_room_type&#x27;]),\n                                (&#x27;num&#x27;, &#x27;passthrough&#x27;,\n                                 [&#x27;n_host_total_listings_count&#x27;,\n                                  &#x27;n_accommodates&#x27;, &#x27;n_bedrooms&#x27;, &#x27;n_beds&#x27;,\n                                  &#x27;n_minimum_nights&#x27;, &#x27;n_maximum_nights&#x27;,\n                                  &#x27;n_number_of_reviews&#x27;,\n                                  &#x27;n_review_scores_value&#x27;,\n                                  &#x27;d_host_is_superhost&#x27;,\n                                  &#x27;d_host_has_profile_pic&#x27;,\n                                  &#x27;d_host_identity_verified&#x27;,\n                                  &#x27;d_instant_bookable&#x27;, &#x27;d_has_license&#x27;,\n                                  &#x27;n_host_since&#x27;, &#x27;n_bathrooms&#x27;,\n                                  &#x27;d_entertainment&#x27;, &#x27;d_wifi&#x27;, &#x27;d_kitchenware&#x27;,\n                                  &#x27;d_washer&#x27;, &#x27;d_sauna_hot_tub&#x27;, &#x27;d_pool&#x27;,\n                                  &#x27;d_aircon&#x27;, &#x27;d_heating&#x27;,\n                                  &#x27;d_scenic_view_access&#x27;, &#x27;d_parking&#x27;,\n                                  &#x27;d_pets_allowed&#x27;, &#x27;d_patio_balcony&#x27;,\n                                  &#x27;d_bodyshower&#x27;])])</pre></div></div></div><div class=\"sk-parallel\"><div class=\"sk-parallel-item\"><div class=\"sk-item\"><div class=\"sk-label-container\"><div class=\"sk-label sk-toggleable\"><input class=\"sk-toggleable__control sk-hidden--visually\" id=\"sk-estimator-id-15\" type=\"checkbox\" ><label for=\"sk-estimator-id-15\" class=\"sk-toggleable__label sk-toggleable__label-arrow\">cat</label><div class=\"sk-toggleable__content\"><pre>[&#x27;f_neighbourhood_cleansed&#x27;, &#x27;f_property_type&#x27;, &#x27;f_room_type&#x27;]</pre></div></div></div><div class=\"sk-serial\"><div class=\"sk-item\"><div class=\"sk-estimator sk-toggleable\"><input class=\"sk-toggleable__control sk-hidden--visually\" id=\"sk-estimator-id-16\" type=\"checkbox\" ><label for=\"sk-estimator-id-16\" class=\"sk-toggleable__label sk-toggleable__label-arrow\">OneHotEncoder</label><div class=\"sk-toggleable__content\"><pre>OneHotEncoder(handle_unknown=&#x27;ignore&#x27;)</pre></div></div></div></div></div></div><div class=\"sk-parallel-item\"><div class=\"sk-item\"><div class=\"sk-label-container\"><div class=\"sk-label sk-toggleable\"><input class=\"sk-toggleable__control sk-hidden--visually\" id=\"sk-estimator-id-17\" type=\"checkbox\" ><label for=\"sk-estimator-id-17\" class=\"sk-toggleable__label sk-toggleable__label-arrow\">num</label><div class=\"sk-toggleable__content\"><pre>[&#x27;n_host_total_listings_count&#x27;, &#x27;n_accommodates&#x27;, &#x27;n_bedrooms&#x27;, &#x27;n_beds&#x27;, &#x27;n_minimum_nights&#x27;, &#x27;n_maximum_nights&#x27;, &#x27;n_number_of_reviews&#x27;, &#x27;n_review_scores_value&#x27;, &#x27;d_host_is_superhost&#x27;, &#x27;d_host_has_profile_pic&#x27;, &#x27;d_host_identity_verified&#x27;, &#x27;d_instant_bookable&#x27;, &#x27;d_has_license&#x27;, &#x27;n_host_since&#x27;, &#x27;n_bathrooms&#x27;, &#x27;d_entertainment&#x27;, &#x27;d_wifi&#x27;, &#x27;d_kitchenware&#x27;, &#x27;d_washer&#x27;, &#x27;d_sauna_hot_tub&#x27;, &#x27;d_pool&#x27;, &#x27;d_aircon&#x27;, &#x27;d_heating&#x27;, &#x27;d_scenic_view_access&#x27;, &#x27;d_parking&#x27;, &#x27;d_pets_allowed&#x27;, &#x27;d_patio_balcony&#x27;, &#x27;d_bodyshower&#x27;]</pre></div></div></div><div class=\"sk-serial\"><div class=\"sk-item\"><div class=\"sk-estimator sk-toggleable\"><input class=\"sk-toggleable__control sk-hidden--visually\" id=\"sk-estimator-id-18\" type=\"checkbox\" ><label for=\"sk-estimator-id-18\" class=\"sk-toggleable__label sk-toggleable__label-arrow\">passthrough</label><div class=\"sk-toggleable__content\"><pre>passthrough</pre></div></div></div></div></div></div></div></div><div class=\"sk-item sk-dashed-wrapped\"><div class=\"sk-label-container\"><div class=\"sk-label sk-toggleable\"><input class=\"sk-toggleable__control sk-hidden--visually\" id=\"sk-estimator-id-19\" type=\"checkbox\" ><label for=\"sk-estimator-id-19\" class=\"sk-toggleable__label sk-toggleable__label-arrow\">regressor: GridSearchCV</label><div class=\"sk-toggleable__content\"><pre>GridSearchCV(cv=5,\n             estimator=GradientBoostingRegressor(learning_rate=0.01,\n                                                 random_state=42),\n             n_jobs=-1,\n             param_grid={&#x27;max_depth&#x27;: [5, 10, 15], &#x27;max_features&#x27;: [8, 10, 12],\n                         &#x27;min_samples_leaf&#x27;: [5, 10, 15],\n                         &#x27;min_samples_split&#x27;: [10, 20, 30],\n                         &#x27;n_estimators&#x27;: [200, 300, 500]},\n             scoring=&#x27;neg_root_mean_squared_error&#x27;, verbose=10)</pre></div></div></div><div class=\"sk-parallel\"><div class=\"sk-parallel-item\"><div class=\"sk-item\"><div class=\"sk-label-container\"><div class=\"sk-label sk-toggleable\"><input class=\"sk-toggleable__control sk-hidden--visually\" id=\"sk-estimator-id-20\" type=\"checkbox\" ><label for=\"sk-estimator-id-20\" class=\"sk-toggleable__label sk-toggleable__label-arrow\">estimator: GradientBoostingRegressor</label><div class=\"sk-toggleable__content\"><pre>GradientBoostingRegressor(learning_rate=0.01, random_state=42)</pre></div></div></div><div class=\"sk-serial\"><div class=\"sk-item\"><div class=\"sk-estimator sk-toggleable\"><input class=\"sk-toggleable__control sk-hidden--visually\" id=\"sk-estimator-id-21\" type=\"checkbox\" ><label for=\"sk-estimator-id-21\" class=\"sk-toggleable__label sk-toggleable__label-arrow\">GradientBoostingRegressor</label><div class=\"sk-toggleable__content\"><pre>GradientBoostingRegressor(learning_rate=0.01, random_state=42)</pre></div></div></div></div></div></div></div></div></div></div></div></div>"
     },
     "execution_count": 25,
     "metadata": {},
     "output_type": "execute_result"
    }
   ],
   "source": [
    "%%time\n",
    "start_time = datetime.now()\n",
    "gbm_model = gbm_pipe.fit(data_train[numerical_columns + categorical_columns],data_train.price)\n",
    "gbm_time = datetime.now() - start_time\n",
    "gbm_model"
   ],
   "metadata": {
    "collapsed": false,
    "ExecuteTime": {
     "end_time": "2024-02-09T17:01:46.087677Z",
     "start_time": "2024-02-09T16:54:07.049650Z"
    }
   },
   "id": "219fffe89b6afbe3",
   "execution_count": 25
  },
  {
   "cell_type": "code",
   "outputs": [
    {
     "data": {
      "text/plain": "GradientBoostingRegressor(learning_rate=0.01, max_depth=15, max_features=10,\n                          min_samples_leaf=5, min_samples_split=10,\n                          n_estimators=500, random_state=42)",
      "text/html": "<style>#sk-container-id-6 {color: black;}#sk-container-id-6 pre{padding: 0;}#sk-container-id-6 div.sk-toggleable {background-color: white;}#sk-container-id-6 label.sk-toggleable__label {cursor: pointer;display: block;width: 100%;margin-bottom: 0;padding: 0.3em;box-sizing: border-box;text-align: center;}#sk-container-id-6 label.sk-toggleable__label-arrow:before {content: \"▸\";float: left;margin-right: 0.25em;color: #696969;}#sk-container-id-6 label.sk-toggleable__label-arrow:hover:before {color: black;}#sk-container-id-6 div.sk-estimator:hover label.sk-toggleable__label-arrow:before {color: black;}#sk-container-id-6 div.sk-toggleable__content {max-height: 0;max-width: 0;overflow: hidden;text-align: left;background-color: #f0f8ff;}#sk-container-id-6 div.sk-toggleable__content pre {margin: 0.2em;color: black;border-radius: 0.25em;background-color: #f0f8ff;}#sk-container-id-6 input.sk-toggleable__control:checked~div.sk-toggleable__content {max-height: 200px;max-width: 100%;overflow: auto;}#sk-container-id-6 input.sk-toggleable__control:checked~label.sk-toggleable__label-arrow:before {content: \"▾\";}#sk-container-id-6 div.sk-estimator input.sk-toggleable__control:checked~label.sk-toggleable__label {background-color: #d4ebff;}#sk-container-id-6 div.sk-label input.sk-toggleable__control:checked~label.sk-toggleable__label {background-color: #d4ebff;}#sk-container-id-6 input.sk-hidden--visually {border: 0;clip: rect(1px 1px 1px 1px);clip: rect(1px, 1px, 1px, 1px);height: 1px;margin: -1px;overflow: hidden;padding: 0;position: absolute;width: 1px;}#sk-container-id-6 div.sk-estimator {font-family: monospace;background-color: #f0f8ff;border: 1px dotted black;border-radius: 0.25em;box-sizing: border-box;margin-bottom: 0.5em;}#sk-container-id-6 div.sk-estimator:hover {background-color: #d4ebff;}#sk-container-id-6 div.sk-parallel-item::after {content: \"\";width: 100%;border-bottom: 1px solid gray;flex-grow: 1;}#sk-container-id-6 div.sk-label:hover label.sk-toggleable__label {background-color: #d4ebff;}#sk-container-id-6 div.sk-serial::before {content: \"\";position: absolute;border-left: 1px solid gray;box-sizing: border-box;top: 0;bottom: 0;left: 50%;z-index: 0;}#sk-container-id-6 div.sk-serial {display: flex;flex-direction: column;align-items: center;background-color: white;padding-right: 0.2em;padding-left: 0.2em;position: relative;}#sk-container-id-6 div.sk-item {position: relative;z-index: 1;}#sk-container-id-6 div.sk-parallel {display: flex;align-items: stretch;justify-content: center;background-color: white;position: relative;}#sk-container-id-6 div.sk-item::before, #sk-container-id-6 div.sk-parallel-item::before {content: \"\";position: absolute;border-left: 1px solid gray;box-sizing: border-box;top: 0;bottom: 0;left: 50%;z-index: -1;}#sk-container-id-6 div.sk-parallel-item {display: flex;flex-direction: column;z-index: 1;position: relative;background-color: white;}#sk-container-id-6 div.sk-parallel-item:first-child::after {align-self: flex-end;width: 50%;}#sk-container-id-6 div.sk-parallel-item:last-child::after {align-self: flex-start;width: 50%;}#sk-container-id-6 div.sk-parallel-item:only-child::after {width: 0;}#sk-container-id-6 div.sk-dashed-wrapped {border: 1px dashed gray;margin: 0 0.4em 0.5em 0.4em;box-sizing: border-box;padding-bottom: 0.4em;background-color: white;}#sk-container-id-6 div.sk-label label {font-family: monospace;font-weight: bold;display: inline-block;line-height: 1.2em;}#sk-container-id-6 div.sk-label-container {text-align: center;}#sk-container-id-6 div.sk-container {/* jupyter's `normalize.less` sets `[hidden] { display: none; }` but bootstrap.min.css set `[hidden] { display: none !important; }` so we also need the `!important` here to be able to override the default hidden behavior on the sphinx rendered scikit-learn.org. See: https://github.com/scikit-learn/scikit-learn/issues/21755 */display: inline-block !important;position: relative;}#sk-container-id-6 div.sk-text-repr-fallback {display: none;}</style><div id=\"sk-container-id-6\" class=\"sk-top-container\"><div class=\"sk-text-repr-fallback\"><pre>GradientBoostingRegressor(learning_rate=0.01, max_depth=15, max_features=10,\n                          min_samples_leaf=5, min_samples_split=10,\n                          n_estimators=500, random_state=42)</pre><b>In a Jupyter environment, please rerun this cell to show the HTML representation or trust the notebook. <br />On GitHub, the HTML representation is unable to render, please try loading this page with nbviewer.org.</b></div><div class=\"sk-container\" hidden><div class=\"sk-item\"><div class=\"sk-estimator sk-toggleable\"><input class=\"sk-toggleable__control sk-hidden--visually\" id=\"sk-estimator-id-22\" type=\"checkbox\" checked><label for=\"sk-estimator-id-22\" class=\"sk-toggleable__label sk-toggleable__label-arrow\">GradientBoostingRegressor</label><div class=\"sk-toggleable__content\"><pre>GradientBoostingRegressor(learning_rate=0.01, max_depth=15, max_features=10,\n                          min_samples_leaf=5, min_samples_split=10,\n                          n_estimators=500, random_state=42)</pre></div></div></div></div></div>"
     },
     "execution_count": 26,
     "metadata": {},
     "output_type": "execute_result"
    }
   ],
   "source": [
    "gbm_model_cv.best_estimator_"
   ],
   "metadata": {
    "collapsed": false,
    "ExecuteTime": {
     "end_time": "2024-02-09T17:01:46.091471Z",
     "start_time": "2024-02-09T17:01:46.086141Z"
    }
   },
   "id": "2b44347170226803",
   "execution_count": 26
  },
  {
   "cell_type": "code",
   "outputs": [],
   "source": [
    "df_gbm_model_cv_results = pd.DataFrame(gbm_model_cv.cv_results_)[[\n",
    "    'param_max_features', 'param_min_samples_leaf', 'param_max_depth', 'param_n_estimators', 'mean_fit_time', 'mean_test_score']]\n",
    "df_gbm_model_cv_results.columns = ['max features', 'min node size', 'max depth', '# estimators', 'fit time', 'RMSE']\n",
    "df_gbm_model_cv_results;"
   ],
   "metadata": {
    "collapsed": false,
    "ExecuteTime": {
     "end_time": "2024-02-09T17:01:46.100154Z",
     "start_time": "2024-02-09T17:01:46.092920Z"
    }
   },
   "id": "4d2835d45d19ec55",
   "execution_count": 27
  },
  {
   "cell_type": "markdown",
   "source": [
    "Diagnostic"
   ],
   "metadata": {
    "collapsed": false
   },
   "id": "28404c6fdfed1832"
  },
  {
   "cell_type": "markdown",
   "source": [
    "RF"
   ],
   "metadata": {
    "collapsed": false
   },
   "id": "998e288b237c6fd0"
  },
  {
   "cell_type": "code",
   "outputs": [
    {
     "name": "stdout",
     "output_type": "stream",
     "text": [
      "CPU times: user 15.6 s, sys: 321 ms, total: 16 s\n",
      "Wall time: 16.2 s\n"
     ]
    }
   ],
   "source": [
    "%%time\n",
    "rf_result = permutation_importance(\n",
    "    rf_pipe,\n",
    "    data_holdout[numerical_columns + categorical_columns],\n",
    "    data_holdout.price,\n",
    "    n_repeats=10,\n",
    "    random_state=42,\n",
    "    # scoring=\"neg_root_mean_squared_error\"\n",
    ")\n",
    "rf_result;"
   ],
   "metadata": {
    "collapsed": false,
    "ExecuteTime": {
     "end_time": "2024-02-09T17:02:02.268646Z",
     "start_time": "2024-02-09T17:01:46.102583Z"
    }
   },
   "id": "e2816dd2c82d66a6",
   "execution_count": 28
  },
  {
   "cell_type": "code",
   "outputs": [
    {
     "data": {
      "text/plain": "                       variable       imp  cumulative_imp\n0                        d_pool  2.795254        2.795254\n1                   n_bathrooms  1.934013        4.729266\n2   n_host_total_listings_count  1.710691        6.439957\n3      f_neighbourhood_cleansed  1.674409        8.114366\n4                    n_bedrooms  1.451425        9.565791\n5                n_accommodates  1.321440       10.887231\n6           n_number_of_reviews  1.199858       12.087090\n7         n_review_scores_value  0.939962       13.027052\n8               f_property_type  0.847967       13.875019\n9                  n_host_since  0.564340       14.439359\n10                  f_room_type  0.458715       14.898075\n11             n_minimum_nights  0.430447       15.328522\n12              d_sauna_hot_tub  0.320033       15.648555\n13                 d_bodyshower  0.279567       15.928122\n14             n_maximum_nights  0.277478       16.205600\n15                       n_beds  0.210484       16.416085\n16         d_scenic_view_access  0.203028       16.619113\n17           d_instant_bookable  0.179952       16.799065\n18              d_patio_balcony  0.157572       16.956638\n19                     d_aircon  0.133335       17.089973\n20                d_kitchenware  0.099445       17.189418\n21               d_pets_allowed  0.089491       17.278910\n22              d_entertainment  0.080413       17.359323\n23     d_host_identity_verified  0.080312       17.439635\n24                       d_wifi  0.079093       17.518728\n25                    d_heating  0.078437       17.597165\n26          d_host_is_superhost  0.070778       17.667943\n27                d_has_license  0.070574       17.738517\n28                    d_parking  0.031540       17.770057\n29                     d_washer  0.014224       17.784281\n30       d_host_has_profile_pic  0.002966       17.787247",
      "text/html": "<div>\n<style scoped>\n    .dataframe tbody tr th:only-of-type {\n        vertical-align: middle;\n    }\n\n    .dataframe tbody tr th {\n        vertical-align: top;\n    }\n\n    .dataframe thead th {\n        text-align: right;\n    }\n</style>\n<table border=\"1\" class=\"dataframe\">\n  <thead>\n    <tr style=\"text-align: right;\">\n      <th></th>\n      <th>variable</th>\n      <th>imp</th>\n      <th>cumulative_imp</th>\n    </tr>\n  </thead>\n  <tbody>\n    <tr>\n      <th>0</th>\n      <td>d_pool</td>\n      <td>2.795254</td>\n      <td>2.795254</td>\n    </tr>\n    <tr>\n      <th>1</th>\n      <td>n_bathrooms</td>\n      <td>1.934013</td>\n      <td>4.729266</td>\n    </tr>\n    <tr>\n      <th>2</th>\n      <td>n_host_total_listings_count</td>\n      <td>1.710691</td>\n      <td>6.439957</td>\n    </tr>\n    <tr>\n      <th>3</th>\n      <td>f_neighbourhood_cleansed</td>\n      <td>1.674409</td>\n      <td>8.114366</td>\n    </tr>\n    <tr>\n      <th>4</th>\n      <td>n_bedrooms</td>\n      <td>1.451425</td>\n      <td>9.565791</td>\n    </tr>\n    <tr>\n      <th>5</th>\n      <td>n_accommodates</td>\n      <td>1.321440</td>\n      <td>10.887231</td>\n    </tr>\n    <tr>\n      <th>6</th>\n      <td>n_number_of_reviews</td>\n      <td>1.199858</td>\n      <td>12.087090</td>\n    </tr>\n    <tr>\n      <th>7</th>\n      <td>n_review_scores_value</td>\n      <td>0.939962</td>\n      <td>13.027052</td>\n    </tr>\n    <tr>\n      <th>8</th>\n      <td>f_property_type</td>\n      <td>0.847967</td>\n      <td>13.875019</td>\n    </tr>\n    <tr>\n      <th>9</th>\n      <td>n_host_since</td>\n      <td>0.564340</td>\n      <td>14.439359</td>\n    </tr>\n    <tr>\n      <th>10</th>\n      <td>f_room_type</td>\n      <td>0.458715</td>\n      <td>14.898075</td>\n    </tr>\n    <tr>\n      <th>11</th>\n      <td>n_minimum_nights</td>\n      <td>0.430447</td>\n      <td>15.328522</td>\n    </tr>\n    <tr>\n      <th>12</th>\n      <td>d_sauna_hot_tub</td>\n      <td>0.320033</td>\n      <td>15.648555</td>\n    </tr>\n    <tr>\n      <th>13</th>\n      <td>d_bodyshower</td>\n      <td>0.279567</td>\n      <td>15.928122</td>\n    </tr>\n    <tr>\n      <th>14</th>\n      <td>n_maximum_nights</td>\n      <td>0.277478</td>\n      <td>16.205600</td>\n    </tr>\n    <tr>\n      <th>15</th>\n      <td>n_beds</td>\n      <td>0.210484</td>\n      <td>16.416085</td>\n    </tr>\n    <tr>\n      <th>16</th>\n      <td>d_scenic_view_access</td>\n      <td>0.203028</td>\n      <td>16.619113</td>\n    </tr>\n    <tr>\n      <th>17</th>\n      <td>d_instant_bookable</td>\n      <td>0.179952</td>\n      <td>16.799065</td>\n    </tr>\n    <tr>\n      <th>18</th>\n      <td>d_patio_balcony</td>\n      <td>0.157572</td>\n      <td>16.956638</td>\n    </tr>\n    <tr>\n      <th>19</th>\n      <td>d_aircon</td>\n      <td>0.133335</td>\n      <td>17.089973</td>\n    </tr>\n    <tr>\n      <th>20</th>\n      <td>d_kitchenware</td>\n      <td>0.099445</td>\n      <td>17.189418</td>\n    </tr>\n    <tr>\n      <th>21</th>\n      <td>d_pets_allowed</td>\n      <td>0.089491</td>\n      <td>17.278910</td>\n    </tr>\n    <tr>\n      <th>22</th>\n      <td>d_entertainment</td>\n      <td>0.080413</td>\n      <td>17.359323</td>\n    </tr>\n    <tr>\n      <th>23</th>\n      <td>d_host_identity_verified</td>\n      <td>0.080312</td>\n      <td>17.439635</td>\n    </tr>\n    <tr>\n      <th>24</th>\n      <td>d_wifi</td>\n      <td>0.079093</td>\n      <td>17.518728</td>\n    </tr>\n    <tr>\n      <th>25</th>\n      <td>d_heating</td>\n      <td>0.078437</td>\n      <td>17.597165</td>\n    </tr>\n    <tr>\n      <th>26</th>\n      <td>d_host_is_superhost</td>\n      <td>0.070778</td>\n      <td>17.667943</td>\n    </tr>\n    <tr>\n      <th>27</th>\n      <td>d_has_license</td>\n      <td>0.070574</td>\n      <td>17.738517</td>\n    </tr>\n    <tr>\n      <th>28</th>\n      <td>d_parking</td>\n      <td>0.031540</td>\n      <td>17.770057</td>\n    </tr>\n    <tr>\n      <th>29</th>\n      <td>d_washer</td>\n      <td>0.014224</td>\n      <td>17.784281</td>\n    </tr>\n    <tr>\n      <th>30</th>\n      <td>d_host_has_profile_pic</td>\n      <td>0.002966</td>\n      <td>17.787247</td>\n    </tr>\n  </tbody>\n</table>\n</div>"
     },
     "execution_count": 29,
     "metadata": {},
     "output_type": "execute_result"
    }
   ],
   "source": [
    "df_rf_grouped_var_imp = (pd.DataFrame(\n",
    "        rf_result.importances_mean,\n",
    "        numerical_columns + categorical_columns)\n",
    "                      .sort_values(by = 0, ascending = False)\n",
    "                      .reset_index()\n",
    "                      .rename(columns={'index': 'variable', 0: 'imp'}))\n",
    "df_rf_grouped_var_imp['cumulative_imp'] = df_rf_grouped_var_imp.imp.cumsum()\n",
    "# df_grouped_var_imp.style.format({\n",
    "#     'imp': lambda x: f'{x:,.1%}',\n",
    "#     'cumulative_imp': lambda x: f'{x:,.1%}'})\n",
    "df_rf_grouped_var_imp"
   ],
   "metadata": {
    "collapsed": false,
    "ExecuteTime": {
     "end_time": "2024-02-09T17:02:02.274670Z",
     "start_time": "2024-02-09T17:02:02.265317Z"
    }
   },
   "id": "f5cf48842051f3df",
   "execution_count": 29
  },
  {
   "cell_type": "code",
   "outputs": [
    {
     "name": "stdout",
     "output_type": "stream",
     "text": [
      "CPU times: user 46.7 s, sys: 278 ms, total: 47 s\n",
      "Wall time: 47.7 s\n"
     ]
    }
   ],
   "source": [
    "%%time\n",
    "gbm_result = permutation_importance(\n",
    "    gbm_pipe,\n",
    "    data_holdout[numerical_columns + categorical_columns],\n",
    "    data_holdout.price,\n",
    "    n_repeats=10,\n",
    "    random_state=42,\n",
    "    # scoring=\"neg_root_mean_squared_error\"\n",
    ")\n",
    "gbm_result;"
   ],
   "metadata": {
    "collapsed": false,
    "ExecuteTime": {
     "end_time": "2024-02-09T17:02:50.319049Z",
     "start_time": "2024-02-09T17:02:02.272035Z"
    }
   },
   "id": "8929a0a7216fb30a",
   "execution_count": 30
  },
  {
   "cell_type": "code",
   "outputs": [],
   "source": [
    "df_gbm_grouped_var_imp = (pd.DataFrame(\n",
    "        gbm_result.importances_mean,\n",
    "        numerical_columns + categorical_columns)\n",
    "                      .sort_values(by = 0, ascending = False)\n",
    "                      .reset_index()\n",
    "                      .rename(columns={'index': 'variable', 0: 'imp'}))\n",
    "df_gbm_grouped_var_imp['cumulative_imp'] = df_gbm_grouped_var_imp.imp.cumsum()\n",
    "df_gbm_grouped_var_imp;"
   ],
   "metadata": {
    "collapsed": false,
    "ExecuteTime": {
     "end_time": "2024-02-09T17:02:50.385605Z",
     "start_time": "2024-02-09T17:02:49.985982Z"
    }
   },
   "id": "3ffacc824d4a1b4b",
   "execution_count": 31
  },
  {
   "cell_type": "markdown",
   "source": [
    "RMSE training and testing"
   ],
   "metadata": {
    "collapsed": false
   },
   "id": "55d06cfc3e15f12"
  },
  {
   "cell_type": "code",
   "outputs": [
    {
     "data": {
      "text/plain": "           Model Train RMSE Holdout RMSE Training time\n0     Simple OLS    44.3254      45.0598          0m0s\n1          LASSO    43.8399      44.6080         4m28s\n2  Random Forest    42.8592      43.2666         0m23s\n3            GBM    40.1763      40.6920         7m39s",
      "text/html": "<div>\n<style scoped>\n    .dataframe tbody tr th:only-of-type {\n        vertical-align: middle;\n    }\n\n    .dataframe tbody tr th {\n        vertical-align: top;\n    }\n\n    .dataframe thead th {\n        text-align: right;\n    }\n</style>\n<table border=\"1\" class=\"dataframe\">\n  <thead>\n    <tr style=\"text-align: right;\">\n      <th></th>\n      <th>Model</th>\n      <th>Train RMSE</th>\n      <th>Holdout RMSE</th>\n      <th>Training time</th>\n    </tr>\n  </thead>\n  <tbody>\n    <tr>\n      <th>0</th>\n      <td>Simple OLS</td>\n      <td>44.3254</td>\n      <td>45.0598</td>\n      <td>0m0s</td>\n    </tr>\n    <tr>\n      <th>1</th>\n      <td>LASSO</td>\n      <td>43.8399</td>\n      <td>44.6080</td>\n      <td>4m28s</td>\n    </tr>\n    <tr>\n      <th>2</th>\n      <td>Random Forest</td>\n      <td>42.8592</td>\n      <td>43.2666</td>\n      <td>0m23s</td>\n    </tr>\n    <tr>\n      <th>3</th>\n      <td>GBM</td>\n      <td>40.1763</td>\n      <td>40.6920</td>\n      <td>7m39s</td>\n    </tr>\n  </tbody>\n</table>\n</div>"
     },
     "execution_count": 32,
     "metadata": {},
     "output_type": "execute_result"
    }
   ],
   "source": [
    "def get_time_delta(delta):\n",
    "    return f'{delta.seconds // 60}m{delta.seconds % 60}s'\n",
    "\n",
    "lasso_y_holdout, lasso_X_holdout = get_lasso_matrices(lasso_data_holdout)\n",
    "diagnostic_df = pd.DataFrame({'Model': ['Simple OLS', 'LASSO', 'Random Forest', 'GBM'],\n",
    "                              'Train RMSE': ['{:.4f}'.format(ols_rmse), '{:.4f}'.format(lasso_search.best_score_*-1), '{:.4f}'.format(rf_random.best_score_*-1), '{:.4f}'.format(gbm_model_cv.best_score_*-1)],\n",
    "                              'Holdout RMSE': ['{:.4f}'.format(mean_squared_error(ols_model.predict(ols_data_holdout.drop(columns=['price'])), ols_data_holdout['price'], squared=False)), \n",
    "                                               '{:.4f}'.format(mean_squared_error(lasso_search.predict(lasso_X_holdout), lasso_y_holdout, squared=False)), \n",
    "                                               '{:.4f}'.format(mean_squared_error(rf_pipe.predict(data_holdout[numerical_columns + categorical_columns]), data_holdout['price'], squared=False)), \n",
    "                                               '{:.4f}'.format(mean_squared_error(gbm_pipe.predict(data_holdout[numerical_columns + categorical_columns]), data_holdout['price'], squared=False))],\n",
    "                              'Training time': [get_time_delta(ols_time), get_time_delta(lasso_time), get_time_delta(rf_time), get_time_delta(gbm_time)]\n",
    "                              })\n",
    "diagnostic_df"
   ],
   "metadata": {
    "collapsed": false,
    "ExecuteTime": {
     "end_time": "2024-02-09T17:02:50.473528Z",
     "start_time": "2024-02-09T17:02:49.992669Z"
    }
   },
   "id": "cc940d2404e0ebf5",
   "execution_count": 32
  },
  {
   "cell_type": "markdown",
   "source": [
    "<p style=\"page-break-after:always;\"></p>"
   ],
   "metadata": {
    "collapsed": false
   },
   "id": "100cb11a35b6ff1b"
  },
  {
   "cell_type": "markdown",
   "source": [
    "## <center>Pricing Airbnb Apartments in Sicily, Italy</center>"
   ],
   "metadata": {
    "collapsed": false
   },
   "id": "7db1c5399e6f33a0"
  },
  {
   "cell_type": "markdown",
   "source": [
    "### Introduction and Goal\n",
    "This report investigates and explores the predictive models for forcasting Airbnb apartment prices in the top most populated and touristic cities in Sicily, Italy. The findings and models in this report will provide significant insights and help our client to price and operate small and middle size apartments hosting 2-6 guests. From the results, we will analyze and recommend the best model the client should use to price their company apartments. Since our client does not provide detailed information about the exact city and the rental purpose, this report will assume and focus on the most popular use case: leisure rentals in famous touristic cities in Sicily.\n",
    "\n",
    "-----"
   ],
   "metadata": {
    "collapsed": false
   },
   "id": "57b5e3f9874dfbc2"
  },
  {
   "cell_type": "markdown",
   "source": [
    "### 1. Data\n",
    "\n",
    "#### Data Preparation\n",
    "The data in the report is the listing details of Sicily Airbnb apartments in March 2023 from http://insideairbnb.com/get-the-data/. Further data cleaning and filtering are applied to fit with our scope of analysis. The detailed steps are as follows:\n",
    "1. Get the raw dataset (N = 51,679)\n",
    "2. Apply filters (N = 16,240):\n",
    "    - Drop observations with missing value in price, number of beds, number of bathrooms, apartment is instant bookable.\n",
    "    - Exclude apartment type 'Hotel' as our client is not operating hotel rooms.\n",
    "    - Only keep apartments accommodating for 2-6 guests.\n",
    "    - Only keep apartments located in Palermo, Catania, Messina, Taormina, Realmonte, Agrigento, Siracusa, Cefal, Monreale, Ragusa and Modica.\n",
    "    - Exclude some extreme price values (top 1%) by keeping observation with price <= $400.\n",
    "3. Feature engineering (N = 16,240):\n",
    "    - Fill 0s as values for observations with no rating values.\n",
    "    - Fill 1s as values for observations with no bedrooms values as these are studios.\n",
    "    - Fill 'NAN' as values for observations with no license values.\n",
    "    - Create boolean values for super host, host has profile picture, host identity verified, apartment is instant bookable and host has license.\n",
    "    - Convert listing duration from text to number of days before 31/03/2023.\n",
    "    - Convert price from text to numerical values.\n",
    "    - Derive number of bathrooms from the bathroom text descriptions.\n",
    "    - Clean the property type to remove the redundant values of room type.\n",
    "    - Derive various boolean variables for amenities from the amenities text descriptions.\n",
    "\n",
    "From all the data features in the raw dataset, we will use a subset of the those as predictors with the following rationales:\n",
    "- Profile photo, verification status, license and number of listings may influence price as host without those can price lower to attract guests.\n",
    "- Room details (location, type of property and room, number of accommodations, bedrooms, bathrooms, reviews, amenities, instant bookable, number of allowed nights) are chosen as room with higher value in any of those features can demand higher price from intuition.\n",
    "- Other features are excluded as they are presented in another predictors (like longitude) or are irrelevant to our scope."
   ],
   "metadata": {
    "collapsed": false
   },
   "id": "61f72820f7cb2cf0"
  },
  {
   "cell_type": "markdown",
   "source": [
    "#### Data Exploration"
   ],
   "metadata": {
    "collapsed": false
   },
   "id": "7c1cc74e4377c4ba"
  },
  {
   "cell_type": "code",
   "outputs": [
    {
     "data": {
      "text/plain": "<Figure size 640x480 with 1 Axes>",
      "image/png": "[encoded data removed]"
     },
     "metadata": {},
     "output_type": "display_data"
    }
   ],
   "source": [
    "sns.set(style=\"white\")\n",
    "price_plot, ax3 = plt.subplots()\n",
    "price_fig = sns.histplot(\n",
    "    data = work_df,\n",
    "    x = 'price', stat='percent', binwidth=10)\n",
    "price_fig.set(title='Sicily Airbnb price distribution in March 2023', xlabel=\"Price\")\n",
    "ax3.text(-50, -3, 'Fig. 1: Sicily Airbnb price distribution', size=9.5)\n",
    "price_plot.show()"
   ],
   "metadata": {
    "collapsed": false,
    "ExecuteTime": {
     "end_time": "2024-02-09T17:02:50.660604Z",
     "start_time": "2024-02-09T17:02:50.475261Z"
    }
   },
   "id": "808761e12ce60cb8",
   "execution_count": 33
  },
  {
   "cell_type": "markdown",
   "source": [
    "From Fig. 1, it is clear that the price distribution is left-skewed. This means that the mean value price is not the typical value. Within this paper, the OLS models will assume that the mean is typical and will predict the mean value. It is worth noting that normally this is not the case and there might be impacts on the prediction results made by the OLS models."
   ],
   "metadata": {
    "collapsed": false
   },
   "id": "fb80a974c930cd9c"
  },
  {
   "cell_type": "markdown",
   "source": [
    "### 2. Models\n",
    "In this report, we will build 4 different models:\n",
    "- Simple OLS model (OLS)\n",
    "- Linear model with LASSO (LASSO)\n",
    "- Random forest model (RF)\n",
    "- Boosting with gradient descent model (GBM)\n",
    "\n",
    "All models use the same set of features as discussed in the **Data** section, with the LASSO uses all possible combination of interaction terms. Since LASSO shrinks the coefficients for us and we do not know the interaction among the predictors from intuition, including all the interaction terms and letting the algorithm runs will leave us with a prediction model with the optimal choice of interactions through cross validation. Furthermore, all models, except for the simple OLS, will go through a 5-fold cross validation with different tuning parameters to optimize for overfitting.\n",
    "\n",
    "The data used to train and validate is the same across all models. In this report, we will split the working data (N = 16,240) into the training set and the holdout set with the ratio of 7:3."
   ],
   "metadata": {
    "collapsed": false
   },
   "id": "6d07b8043c0bd58a"
  },
  {
   "cell_type": "markdown",
   "source": [
    "**Simple OLS**\n",
    "This model is a linear model with predictors as the features selected in the **Data** section. No interation terms are included"
   ],
   "metadata": {
    "collapsed": false
   },
   "id": "119e448dc5cae226"
  },
  {
   "cell_type": "markdown",
   "source": [
    "**LASSO**\n",
    "This linear model has predictors like the Simple OLS models but includes all possible combination of interaction terms. The tuning parameter is the penalty term $\\alpha$ in range of [0.1, 0.5] inclusive, incremented by 0.05."
   ],
   "metadata": {
    "collapsed": false
   },
   "id": "4bff85e88c884acf"
  },
  {
   "cell_type": "markdown",
   "source": [
    "**Random Forest**\n",
    "The random forest model includes all the selected features with no interaction as the random forest algorithm already handle the interation among predictors. The tuning parameters are:\n",
    "- Maximum number of features for each split: [8, 10, 12]\n",
    "- Minimum number of sample in each terminal node: [5, 10, 15]"
   ],
   "metadata": {
    "collapsed": false
   },
   "id": "dfde4abd6722c2a2"
  },
  {
   "cell_type": "markdown",
   "source": [
    "**Boosting with Gradient Descent**\n",
    "The boosting model includes features similar to the random forest model. The tuning parameters are:\n",
    "- Learning rate: 0.01\n",
    "- Number of estimators: [200, 300, 500], \n",
    "- Maximum tree depth: [5, 10, 15], \n",
    "- Maximum number of features for each split: [5, 10, 15], \n",
    "- Maximum number of features for each split: [8, 10, 12], \n",
    "- Minimum number of sample to continue splitting: [10, 20, 30]"
   ],
   "metadata": {
    "collapsed": false
   },
   "id": "66be8168e8991507"
  },
  {
   "cell_type": "markdown",
   "source": [
    "### 3. Model evaluations"
   ],
   "metadata": {
    "collapsed": false
   },
   "id": "5e17f4f63479cfd"
  },
  {
   "cell_type": "markdown",
   "source": [
    "**Performances**\n",
    "The performance result of each model are as follows:"
   ],
   "metadata": {
    "collapsed": false
   },
   "id": "f8790e9a87aa91a0"
  },
  {
   "cell_type": "code",
   "outputs": [
    {
     "data": {
      "text/plain": "           Model Train RMSE Training time\n0     Simple OLS    44.3254          0m0s\n1          LASSO    43.8399         4m28s\n2  Random Forest    42.8592         0m23s\n3            GBM    40.1763         7m39s",
      "text/html": "<div>\n<style scoped>\n    .dataframe tbody tr th:only-of-type {\n        vertical-align: middle;\n    }\n\n    .dataframe tbody tr th {\n        vertical-align: top;\n    }\n\n    .dataframe thead th {\n        text-align: right;\n    }\n</style>\n<table border=\"1\" class=\"dataframe\">\n  <thead>\n    <tr style=\"text-align: right;\">\n      <th></th>\n      <th>Model</th>\n      <th>Train RMSE</th>\n      <th>Training time</th>\n    </tr>\n  </thead>\n  <tbody>\n    <tr>\n      <th>0</th>\n      <td>Simple OLS</td>\n      <td>44.3254</td>\n      <td>0m0s</td>\n    </tr>\n    <tr>\n      <th>1</th>\n      <td>LASSO</td>\n      <td>43.8399</td>\n      <td>4m28s</td>\n    </tr>\n    <tr>\n      <th>2</th>\n      <td>Random Forest</td>\n      <td>42.8592</td>\n      <td>0m23s</td>\n    </tr>\n    <tr>\n      <th>3</th>\n      <td>GBM</td>\n      <td>40.1763</td>\n      <td>7m39s</td>\n    </tr>\n  </tbody>\n</table>\n</div>"
     },
     "execution_count": 34,
     "metadata": {},
     "output_type": "execute_result"
    }
   ],
   "source": [
    "diagnostic_df[['Model', 'Train RMSE', 'Training time']]"
   ],
   "metadata": {
    "collapsed": false,
    "ExecuteTime": {
     "end_time": "2024-02-09T17:02:50.671769Z",
     "start_time": "2024-02-09T17:02:50.663946Z"
    }
   },
   "id": "c229b85e2ca768af",
   "execution_count": 34
  },
  {
   "cell_type": "markdown",
   "source": [
    "The simple OLS model RMSE is the worst of all models, but it is not significantly worse than the LASSO and Random Forest models. Considering that the simple OLS completes almost instantly compared to the LASSO, the simple OLS might be better if speed is the top priority. However, the Random Forest model gives better result than the simple OLS while only take under half a minute to complete might be a more balance choice between accuracy and speed. The GBM model has the best accuracy and is significantly better than the rest of the models, but it also take significantly more time to finish. If accuracy is the top priority, the GBM model is the best model to go forward."
   ],
   "metadata": {
    "collapsed": false
   },
   "id": "5e078e75a2ea9b48"
  },
  {
   "cell_type": "markdown",
   "source": [
    "**Diagnostic**\n"
   ],
   "metadata": {
    "collapsed": false
   },
   "id": "dbd088008df59d73"
  },
  {
   "cell_type": "code",
   "outputs": [
    {
     "data": {
      "text/plain": "                          ols_coefficient  abs_ols_coefficient\ngrouped_term                                                  \nf_property_type                 -1418.163             1739.051\nf_neighbourhood_cleansed            3.654              118.806\nf_room_type                       -47.960               47.960\nd_pool                             36.555               36.555\nn_bathrooms                        18.808               18.808\nn_bedrooms                         11.076               11.076\nd_sauna_hot_tub                    10.711               10.711\nd_wifi                             10.305               10.305\nd_pets_allowed                     -5.705                5.705\nn_accommodates                      5.409                5.409",
      "text/html": "<div>\n<style scoped>\n    .dataframe tbody tr th:only-of-type {\n        vertical-align: middle;\n    }\n\n    .dataframe tbody tr th {\n        vertical-align: top;\n    }\n\n    .dataframe thead th {\n        text-align: right;\n    }\n</style>\n<table border=\"1\" class=\"dataframe\">\n  <thead>\n    <tr style=\"text-align: right;\">\n      <th></th>\n      <th>ols_coefficient</th>\n      <th>abs_ols_coefficient</th>\n    </tr>\n    <tr>\n      <th>grouped_term</th>\n      <th></th>\n      <th></th>\n    </tr>\n  </thead>\n  <tbody>\n    <tr>\n      <th>f_property_type</th>\n      <td>-1418.163</td>\n      <td>1739.051</td>\n    </tr>\n    <tr>\n      <th>f_neighbourhood_cleansed</th>\n      <td>3.654</td>\n      <td>118.806</td>\n    </tr>\n    <tr>\n      <th>f_room_type</th>\n      <td>-47.960</td>\n      <td>47.960</td>\n    </tr>\n    <tr>\n      <th>d_pool</th>\n      <td>36.555</td>\n      <td>36.555</td>\n    </tr>\n    <tr>\n      <th>n_bathrooms</th>\n      <td>18.808</td>\n      <td>18.808</td>\n    </tr>\n    <tr>\n      <th>n_bedrooms</th>\n      <td>11.076</td>\n      <td>11.076</td>\n    </tr>\n    <tr>\n      <th>d_sauna_hot_tub</th>\n      <td>10.711</td>\n      <td>10.711</td>\n    </tr>\n    <tr>\n      <th>d_wifi</th>\n      <td>10.305</td>\n      <td>10.305</td>\n    </tr>\n    <tr>\n      <th>d_pets_allowed</th>\n      <td>-5.705</td>\n      <td>5.705</td>\n    </tr>\n    <tr>\n      <th>n_accommodates</th>\n      <td>5.409</td>\n      <td>5.409</td>\n    </tr>\n  </tbody>\n</table>\n</div>"
     },
     "execution_count": 35,
     "metadata": {},
     "output_type": "execute_result"
    }
   ],
   "source": [
    "df_ols_var_coefs.groupby(['grouped_term']).sum().sort_values(by=\"abs_ols_coefficient\", ascending=False)[['ols_coefficient', 'abs_ols_coefficient']].iloc[:10]"
   ],
   "metadata": {
    "collapsed": false,
    "ExecuteTime": {
     "end_time": "2024-02-09T17:02:50.709069Z",
     "start_time": "2024-02-09T17:02:50.675194Z"
    }
   },
   "id": "c617c50ba100ac7e",
   "execution_count": 35
  },
  {
   "cell_type": "code",
   "outputs": [
    {
     "data": {
      "text/plain": "                 grouped_term  lasso_coefficient  abs_lasso_coefficient\n141     n_review_scores_value             -5.078                  5.078\n135       n_number_of_reviews             -2.003                  2.003\n29   f_neighbourhood_cleansed              1.986                  1.986\n57            f_property_type              0.943                  1.003\n17                     d_pool              0.339                  0.339\n23                   d_washer             -0.204                  0.204",
      "text/html": "<div>\n<style scoped>\n    .dataframe tbody tr th:only-of-type {\n        vertical-align: middle;\n    }\n\n    .dataframe tbody tr th {\n        vertical-align: top;\n    }\n\n    .dataframe thead th {\n        text-align: right;\n    }\n</style>\n<table border=\"1\" class=\"dataframe\">\n  <thead>\n    <tr style=\"text-align: right;\">\n      <th></th>\n      <th>grouped_term</th>\n      <th>lasso_coefficient</th>\n      <th>abs_lasso_coefficient</th>\n    </tr>\n  </thead>\n  <tbody>\n    <tr>\n      <th>141</th>\n      <td>n_review_scores_value</td>\n      <td>-5.078</td>\n      <td>5.078</td>\n    </tr>\n    <tr>\n      <th>135</th>\n      <td>n_number_of_reviews</td>\n      <td>-2.003</td>\n      <td>2.003</td>\n    </tr>\n    <tr>\n      <th>29</th>\n      <td>f_neighbourhood_cleansed</td>\n      <td>1.986</td>\n      <td>1.986</td>\n    </tr>\n    <tr>\n      <th>57</th>\n      <td>f_property_type</td>\n      <td>0.943</td>\n      <td>1.003</td>\n    </tr>\n    <tr>\n      <th>17</th>\n      <td>d_pool</td>\n      <td>0.339</td>\n      <td>0.339</td>\n    </tr>\n    <tr>\n      <th>23</th>\n      <td>d_washer</td>\n      <td>-0.204</td>\n      <td>0.204</td>\n    </tr>\n  </tbody>\n</table>\n</div>"
     },
     "execution_count": 36,
     "metadata": {},
     "output_type": "execute_result"
    }
   ],
   "source": [
    "# single term coef power \n",
    "df_lasso_grouped_var_coefs[(df_lasso_grouped_var_coefs['grouped_term'].str.contains(':')) == False].sort_values(by=\"abs_lasso_coefficient\", ascending=False)[['grouped_term', 'lasso_coefficient', 'abs_lasso_coefficient']][:10]"
   ],
   "metadata": {
    "collapsed": false,
    "ExecuteTime": {
     "end_time": "2024-02-09T17:02:50.712110Z",
     "start_time": "2024-02-09T17:02:50.684614Z"
    }
   },
   "id": "705c557a05e6cbe4",
   "execution_count": 36
  },
  {
   "cell_type": "code",
   "outputs": [
    {
     "data": {
      "text/plain": "                                   grouped_term  lasso_coefficient  \\\n46     f_neighbourhood_cleansed:f_property_type              4.399   \n95                   n_accommodates:n_bathrooms              7.831   \n70                       f_property_type:d_pool              2.786   \n65           f_property_type:d_instant_bookable              1.787   \n71              f_property_type:d_sauna_hot_tub              4.334   \n88                      f_room_type:n_bathrooms             -5.006   \n80  f_property_type:n_host_total_listings_count              3.692   \n96                    n_accommodates:n_bedrooms              4.515   \n77                  f_property_type:n_bathrooms              3.922   \n41              f_neighbourhood_cleansed:d_pool             -2.709   \n\n    abs_lasso_coefficient  \n46                 15.215  \n95                  7.831  \n70                  6.510  \n65                  5.481  \n71                  5.284  \n88                  5.006  \n80                  4.960  \n96                  4.515  \n77                  3.922  \n41                  3.889  ",
      "text/html": "<div>\n<style scoped>\n    .dataframe tbody tr th:only-of-type {\n        vertical-align: middle;\n    }\n\n    .dataframe tbody tr th {\n        vertical-align: top;\n    }\n\n    .dataframe thead th {\n        text-align: right;\n    }\n</style>\n<table border=\"1\" class=\"dataframe\">\n  <thead>\n    <tr style=\"text-align: right;\">\n      <th></th>\n      <th>grouped_term</th>\n      <th>lasso_coefficient</th>\n      <th>abs_lasso_coefficient</th>\n    </tr>\n  </thead>\n  <tbody>\n    <tr>\n      <th>46</th>\n      <td>f_neighbourhood_cleansed:f_property_type</td>\n      <td>4.399</td>\n      <td>15.215</td>\n    </tr>\n    <tr>\n      <th>95</th>\n      <td>n_accommodates:n_bathrooms</td>\n      <td>7.831</td>\n      <td>7.831</td>\n    </tr>\n    <tr>\n      <th>70</th>\n      <td>f_property_type:d_pool</td>\n      <td>2.786</td>\n      <td>6.510</td>\n    </tr>\n    <tr>\n      <th>65</th>\n      <td>f_property_type:d_instant_bookable</td>\n      <td>1.787</td>\n      <td>5.481</td>\n    </tr>\n    <tr>\n      <th>71</th>\n      <td>f_property_type:d_sauna_hot_tub</td>\n      <td>4.334</td>\n      <td>5.284</td>\n    </tr>\n    <tr>\n      <th>88</th>\n      <td>f_room_type:n_bathrooms</td>\n      <td>-5.006</td>\n      <td>5.006</td>\n    </tr>\n    <tr>\n      <th>80</th>\n      <td>f_property_type:n_host_total_listings_count</td>\n      <td>3.692</td>\n      <td>4.960</td>\n    </tr>\n    <tr>\n      <th>96</th>\n      <td>n_accommodates:n_bedrooms</td>\n      <td>4.515</td>\n      <td>4.515</td>\n    </tr>\n    <tr>\n      <th>77</th>\n      <td>f_property_type:n_bathrooms</td>\n      <td>3.922</td>\n      <td>3.922</td>\n    </tr>\n    <tr>\n      <th>41</th>\n      <td>f_neighbourhood_cleansed:d_pool</td>\n      <td>-2.709</td>\n      <td>3.889</td>\n    </tr>\n  </tbody>\n</table>\n</div>"
     },
     "execution_count": 37,
     "metadata": {},
     "output_type": "execute_result"
    }
   ],
   "source": [
    "# interaction coef power\n",
    "df_lasso_grouped_var_coefs[(df_lasso_grouped_var_coefs['grouped_term'].str.contains(':'))].sort_values(by=\"abs_lasso_coefficient\", ascending=False)[['grouped_term', 'lasso_coefficient', 'abs_lasso_coefficient']][:10]"
   ],
   "metadata": {
    "collapsed": false,
    "ExecuteTime": {
     "end_time": "2024-02-09T17:02:50.751129Z",
     "start_time": "2024-02-09T17:02:50.697985Z"
    }
   },
   "id": "cdfe97b7ec19722",
   "execution_count": 37
  },
  {
   "cell_type": "code",
   "outputs": [
    {
     "data": {
      "text/plain": "<Figure size 640x480 with 1 Axes>",
      "image/png": "[encoded data removed]"
     },
     "metadata": {},
     "output_type": "display_data"
    }
   ],
   "source": [
    "df_rf_grouped_var_imp = df_rf_grouped_var_imp.sort_values(by='imp', ascending=False)\n",
    "\n",
    "sns.set(style=\"white\")\n",
    "rf_plot, ax1 = plt.subplots()\n",
    "rf_fig = sns.barplot(\n",
    "    data = df_rf_grouped_var_imp.iloc[0:10],\n",
    "    x=\"imp\", y=\"variable\")\n",
    "rf_fig.set(title='Random forest model grouped feature importances', xlabel=\"importance\", ylabel=\"variable\")\n",
    "ax1.text(-1.5, 11.5, 'Fig. 2: RF grouped feature importances', size=9.5)\n",
    "rf_plot.show()"
   ],
   "metadata": {
    "collapsed": false,
    "ExecuteTime": {
     "end_time": "2024-02-09T17:02:50.881715Z",
     "start_time": "2024-02-09T17:02:50.740824Z"
    }
   },
   "id": "7d730ad217cf2373",
   "execution_count": 38
  },
  {
   "cell_type": "code",
   "outputs": [
    {
     "data": {
      "text/plain": "<Figure size 640x480 with 1 Axes>",
      "image/png": "[encoded data removed]"
     },
     "metadata": {},
     "output_type": "display_data"
    }
   ],
   "source": [
    "df_gbm_grouped_var_imp = df_gbm_grouped_var_imp.sort_values(by='imp', ascending=False)\n",
    "\n",
    "sns.set(style=\"white\")\n",
    "gbm_plot, ax2 = plt.subplots()\n",
    "gbm_fig = sns.barplot(\n",
    "    data = df_gbm_grouped_var_imp.iloc[0:10],\n",
    "    x=\"imp\", y=\"variable\")\n",
    "gbm_fig.set(title='Gradient boosting model grouped feature importances', xlabel=\"importance\", ylabel=\"variable\")\n",
    "ax2.text(-2, 11.5, 'Fig. 3: GBM grouped feature importances', size=9.5)\n",
    "gbm_plot.show()"
   ],
   "metadata": {
    "collapsed": false,
    "ExecuteTime": {
     "end_time": "2024-02-09T17:02:51.012955Z",
     "start_time": "2024-02-09T17:02:50.864650Z"
    }
   },
   "id": "5a41538c7a358be3",
   "execution_count": 39
  }
 ],
 "metadata": {
  "kernelspec": {
   "display_name": "Python 3",
   "language": "python",
   "name": "python3"
  },
  "language_info": {
   "codemirror_mode": {
    "name": "ipython",
    "version": 2
   },
   "file_extension": ".py",
   "mimetype": "text/x-python",
   "name": "python",
   "nbconvert_exporter": "python",
   "pygments_lexer": "ipython2",
   "version": "2.7.6"
  }
 },
 "nbformat": 4,
 "nbformat_minor": 5
}
